{
 "cells": [
  {
   "cell_type": "code",
   "execution_count": 1,
   "metadata": {},
   "outputs": [
    {
     "data": {
      "text/plain": [
       "4-element Array{Int64,1}:\n",
       " 3\n",
       " 2\n",
       " 4\n",
       " 1"
      ]
     },
     "execution_count": 1,
     "metadata": {},
     "output_type": "execute_result"
    }
   ],
   "source": [
    "v = [3, 2, 4, 1]"
   ]
  },
  {
   "cell_type": "code",
   "execution_count": 2,
   "metadata": {},
   "outputs": [
    {
     "data": {
      "text/plain": [
       "4-element Array{Int64,1}:\n",
       " 1\n",
       " 2\n",
       " 3\n",
       " 4"
      ]
     },
     "execution_count": 2,
     "metadata": {},
     "output_type": "execute_result"
    }
   ],
   "source": [
    "sort(v)"
   ]
  },
  {
   "cell_type": "code",
   "execution_count": 3,
   "metadata": {},
   "outputs": [
    {
     "data": {
      "text/plain": [
       "4-element Array{Int64,1}:\n",
       " 4\n",
       " 2\n",
       " 1\n",
       " 3"
      ]
     },
     "execution_count": 3,
     "metadata": {},
     "output_type": "execute_result"
    }
   ],
   "source": [
    "sortperm(v)"
   ]
  },
  {
   "cell_type": "code",
   "execution_count": 4,
   "metadata": {},
   "outputs": [
    {
     "data": {
      "text/plain": [
       "Dict{Int64,Int64} with 4 entries:\n",
       "  4 => -1\n",
       "  2 => 4\n",
       "  3 => 5\n",
       "  1 => 3"
      ]
     },
     "execution_count": 4,
     "metadata": {},
     "output_type": "execute_result"
    }
   ],
   "source": [
    "d = Dict(1=>3, 2=>4, 3=>5, 4=>-1)"
   ]
  },
  {
   "cell_type": "code",
   "execution_count": 5,
   "metadata": {},
   "outputs": [
    {
     "data": {
      "text/plain": [
       "Base.KeySet for a Dict{Int64,Int64} with 4 entries. Keys:\n",
       "  4\n",
       "  2\n",
       "  3\n",
       "  1"
      ]
     },
     "execution_count": 5,
     "metadata": {},
     "output_type": "execute_result"
    }
   ],
   "source": [
    "keys(d)"
   ]
  },
  {
   "cell_type": "code",
   "execution_count": 6,
   "metadata": {},
   "outputs": [
    {
     "data": {
      "text/plain": [
       "Base.ValueIterator for a Dict{Int64,Int64} with 4 entries. Values:\n",
       "  -1\n",
       "  4\n",
       "  5\n",
       "  3"
      ]
     },
     "execution_count": 6,
     "metadata": {},
     "output_type": "execute_result"
    }
   ],
   "source": [
    "values(d)"
   ]
  },
  {
   "cell_type": "code",
   "execution_count": 7,
   "metadata": {},
   "outputs": [
    {
     "data": {
      "text/plain": [
       "4-element Array{Int64,1}:\n",
       " 4\n",
       " 2\n",
       " 3\n",
       " 1"
      ]
     },
     "execution_count": 7,
     "metadata": {},
     "output_type": "execute_result"
    }
   ],
   "source": [
    "collect(keys(d))"
   ]
  },
  {
   "cell_type": "code",
   "execution_count": 9,
   "metadata": {},
   "outputs": [
    {
     "data": {
      "text/plain": [
       "4-element Array{Int64,1}:\n",
       " 4\n",
       " 2\n",
       " 3\n",
       " 1"
      ]
     },
     "execution_count": 9,
     "metadata": {},
     "output_type": "execute_result"
    }
   ],
   "source": [
    "p = sortperm(collect(keys(d)))"
   ]
  },
  {
   "cell_type": "code",
   "execution_count": 10,
   "metadata": {},
   "outputs": [
    {
     "data": {
      "text/plain": [
       "4-element Array{Int64,1}:\n",
       " -1\n",
       "  4\n",
       "  5\n",
       "  3"
      ]
     },
     "execution_count": 10,
     "metadata": {},
     "output_type": "execute_result"
    }
   ],
   "source": [
    "vs = collect(values(d))"
   ]
  },
  {
   "cell_type": "code",
   "execution_count": 11,
   "metadata": {},
   "outputs": [
    {
     "data": {
      "text/plain": [
       "4-element Array{Int64,1}:\n",
       "  3\n",
       "  4\n",
       "  5\n",
       " -1"
      ]
     },
     "execution_count": 11,
     "metadata": {},
     "output_type": "execute_result"
    }
   ],
   "source": [
    "vs[p]"
   ]
  },
  {
   "cell_type": "code",
   "execution_count": 12,
   "metadata": {},
   "outputs": [
    {
     "data": {
      "text/plain": [
       "Dict{Int64,Int64} with 4 entries:\n",
       "  4 => -1\n",
       "  2 => 4\n",
       "  3 => 5\n",
       "  1 => 3"
      ]
     },
     "execution_count": 12,
     "metadata": {},
     "output_type": "execute_result"
    }
   ],
   "source": [
    "d\n"
   ]
  },
  {
   "cell_type": "code",
   "execution_count": 13,
   "metadata": {},
   "outputs": [
    {
     "data": {
      "text/plain": [
       "Base.Iterators.ProductIterator{Tuple{UnitRange{Int64},UnitRange{Int64}}}((1:3, 1:3))"
      ]
     },
     "execution_count": 13,
     "metadata": {},
     "output_type": "execute_result"
    }
   ],
   "source": [
    "Iterators.product(1:3, 1:3)"
   ]
  },
  {
   "cell_type": "code",
   "execution_count": 14,
   "metadata": {},
   "outputs": [
    {
     "data": {
      "text/plain": [
       "3×3 Array{Tuple{Int64,Int64},2}:\n",
       " (1, 1)  (1, 2)  (1, 3)\n",
       " (2, 1)  (2, 2)  (2, 3)\n",
       " (3, 1)  (3, 2)  (3, 3)"
      ]
     },
     "execution_count": 14,
     "metadata": {},
     "output_type": "execute_result"
    }
   ],
   "source": [
    "collect(Iterators.product(1:3, 1:3))"
   ]
  },
  {
   "cell_type": "code",
   "execution_count": 15,
   "metadata": {},
   "outputs": [
    {
     "data": {
      "text/plain": [
       "6×6×6 Array{Tuple{Int64,Int64,Int64},3}:\n",
       "[:, :, 1] =\n",
       " (1, 1, 1)  (1, 2, 1)  (1, 3, 1)  (1, 4, 1)  (1, 5, 1)  (1, 6, 1)\n",
       " (2, 1, 1)  (2, 2, 1)  (2, 3, 1)  (2, 4, 1)  (2, 5, 1)  (2, 6, 1)\n",
       " (3, 1, 1)  (3, 2, 1)  (3, 3, 1)  (3, 4, 1)  (3, 5, 1)  (3, 6, 1)\n",
       " (4, 1, 1)  (4, 2, 1)  (4, 3, 1)  (4, 4, 1)  (4, 5, 1)  (4, 6, 1)\n",
       " (5, 1, 1)  (5, 2, 1)  (5, 3, 1)  (5, 4, 1)  (5, 5, 1)  (5, 6, 1)\n",
       " (6, 1, 1)  (6, 2, 1)  (6, 3, 1)  (6, 4, 1)  (6, 5, 1)  (6, 6, 1)\n",
       "\n",
       "[:, :, 2] =\n",
       " (1, 1, 2)  (1, 2, 2)  (1, 3, 2)  (1, 4, 2)  (1, 5, 2)  (1, 6, 2)\n",
       " (2, 1, 2)  (2, 2, 2)  (2, 3, 2)  (2, 4, 2)  (2, 5, 2)  (2, 6, 2)\n",
       " (3, 1, 2)  (3, 2, 2)  (3, 3, 2)  (3, 4, 2)  (3, 5, 2)  (3, 6, 2)\n",
       " (4, 1, 2)  (4, 2, 2)  (4, 3, 2)  (4, 4, 2)  (4, 5, 2)  (4, 6, 2)\n",
       " (5, 1, 2)  (5, 2, 2)  (5, 3, 2)  (5, 4, 2)  (5, 5, 2)  (5, 6, 2)\n",
       " (6, 1, 2)  (6, 2, 2)  (6, 3, 2)  (6, 4, 2)  (6, 5, 2)  (6, 6, 2)\n",
       "\n",
       "[:, :, 3] =\n",
       " (1, 1, 3)  (1, 2, 3)  (1, 3, 3)  (1, 4, 3)  (1, 5, 3)  (1, 6, 3)\n",
       " (2, 1, 3)  (2, 2, 3)  (2, 3, 3)  (2, 4, 3)  (2, 5, 3)  (2, 6, 3)\n",
       " (3, 1, 3)  (3, 2, 3)  (3, 3, 3)  (3, 4, 3)  (3, 5, 3)  (3, 6, 3)\n",
       " (4, 1, 3)  (4, 2, 3)  (4, 3, 3)  (4, 4, 3)  (4, 5, 3)  (4, 6, 3)\n",
       " (5, 1, 3)  (5, 2, 3)  (5, 3, 3)  (5, 4, 3)  (5, 5, 3)  (5, 6, 3)\n",
       " (6, 1, 3)  (6, 2, 3)  (6, 3, 3)  (6, 4, 3)  (6, 5, 3)  (6, 6, 3)\n",
       "\n",
       "[:, :, 4] =\n",
       " (1, 1, 4)  (1, 2, 4)  (1, 3, 4)  (1, 4, 4)  (1, 5, 4)  (1, 6, 4)\n",
       " (2, 1, 4)  (2, 2, 4)  (2, 3, 4)  (2, 4, 4)  (2, 5, 4)  (2, 6, 4)\n",
       " (3, 1, 4)  (3, 2, 4)  (3, 3, 4)  (3, 4, 4)  (3, 5, 4)  (3, 6, 4)\n",
       " (4, 1, 4)  (4, 2, 4)  (4, 3, 4)  (4, 4, 4)  (4, 5, 4)  (4, 6, 4)\n",
       " (5, 1, 4)  (5, 2, 4)  (5, 3, 4)  (5, 4, 4)  (5, 5, 4)  (5, 6, 4)\n",
       " (6, 1, 4)  (6, 2, 4)  (6, 3, 4)  (6, 4, 4)  (6, 5, 4)  (6, 6, 4)\n",
       "\n",
       "[:, :, 5] =\n",
       " (1, 1, 5)  (1, 2, 5)  (1, 3, 5)  (1, 4, 5)  (1, 5, 5)  (1, 6, 5)\n",
       " (2, 1, 5)  (2, 2, 5)  (2, 3, 5)  (2, 4, 5)  (2, 5, 5)  (2, 6, 5)\n",
       " (3, 1, 5)  (3, 2, 5)  (3, 3, 5)  (3, 4, 5)  (3, 5, 5)  (3, 6, 5)\n",
       " (4, 1, 5)  (4, 2, 5)  (4, 3, 5)  (4, 4, 5)  (4, 5, 5)  (4, 6, 5)\n",
       " (5, 1, 5)  (5, 2, 5)  (5, 3, 5)  (5, 4, 5)  (5, 5, 5)  (5, 6, 5)\n",
       " (6, 1, 5)  (6, 2, 5)  (6, 3, 5)  (6, 4, 5)  (6, 5, 5)  (6, 6, 5)\n",
       "\n",
       "[:, :, 6] =\n",
       " (1, 1, 6)  (1, 2, 6)  (1, 3, 6)  (1, 4, 6)  (1, 5, 6)  (1, 6, 6)\n",
       " (2, 1, 6)  (2, 2, 6)  (2, 3, 6)  (2, 4, 6)  (2, 5, 6)  (2, 6, 6)\n",
       " (3, 1, 6)  (3, 2, 6)  (3, 3, 6)  (3, 4, 6)  (3, 5, 6)  (3, 6, 6)\n",
       " (4, 1, 6)  (4, 2, 6)  (4, 3, 6)  (4, 4, 6)  (4, 5, 6)  (4, 6, 6)\n",
       " (5, 1, 6)  (5, 2, 6)  (5, 3, 6)  (5, 4, 6)  (5, 5, 6)  (5, 6, 6)\n",
       " (6, 1, 6)  (6, 2, 6)  (6, 3, 6)  (6, 4, 6)  (6, 5, 6)  (6, 6, 6)"
      ]
     },
     "execution_count": 15,
     "metadata": {},
     "output_type": "execute_result"
    }
   ],
   "source": [
    "collect(Iterators.product(1:6, 1:6, 1:6))"
   ]
  },
  {
   "cell_type": "code",
   "execution_count": 17,
   "metadata": {},
   "outputs": [
    {
     "data": {
      "text/plain": [
       "216-element Array{Int64,1}:\n",
       "  3\n",
       "  4\n",
       "  5\n",
       "  6\n",
       "  7\n",
       "  8\n",
       "  4\n",
       "  5\n",
       "  6\n",
       "  7\n",
       "  8\n",
       "  9\n",
       "  5\n",
       "  ⋮\n",
       " 12\n",
       " 13\n",
       " 14\n",
       " 15\n",
       " 16\n",
       " 17\n",
       " 13\n",
       " 14\n",
       " 15\n",
       " 16\n",
       " 17\n",
       " 18"
      ]
     },
     "execution_count": 17,
     "metadata": {},
     "output_type": "execute_result"
    }
   ],
   "source": [
    "vec(sum.(Iterators.product(1:6, 1:6, 1:6)))"
   ]
  },
  {
   "cell_type": "code",
   "execution_count": 18,
   "metadata": {},
   "outputs": [
    {
     "data": {
      "text/plain": [
       "3-element Array{UnitRange{Int64},1}:\n",
       " 1:6\n",
       " 1:6\n",
       " 1:6"
      ]
     },
     "execution_count": 18,
     "metadata": {},
     "output_type": "execute_result"
    }
   ],
   "source": [
    "vec(sum.(Iterators.product(Iterators.repeated(1:6, 3))))"
   ]
  },
  {
   "cell_type": "code",
   "execution_count": 20,
   "metadata": {},
   "outputs": [
    {
     "data": {
      "text/plain": [
       "216-element Array{Int64,1}:\n",
       "  3\n",
       "  4\n",
       "  5\n",
       "  6\n",
       "  7\n",
       "  8\n",
       "  4\n",
       "  5\n",
       "  6\n",
       "  7\n",
       "  8\n",
       "  9\n",
       "  5\n",
       "  ⋮\n",
       " 12\n",
       " 13\n",
       " 14\n",
       " 15\n",
       " 16\n",
       " 17\n",
       " 13\n",
       " 14\n",
       " 15\n",
       " 16\n",
       " 17\n",
       " 18"
      ]
     },
     "execution_count": 20,
     "metadata": {},
     "output_type": "execute_result"
    }
   ],
   "source": [
    "vec(sum.(Iterators.product(Iterators.repeated(1:6, 3)...)))"
   ]
  },
  {
   "cell_type": "code",
   "execution_count": 21,
   "metadata": {},
   "outputs": [
    {
     "data": {
      "text/plain": [
       "7776-element Array{Int64,1}:\n",
       "  5\n",
       "  6\n",
       "  7\n",
       "  8\n",
       "  9\n",
       " 10\n",
       "  6\n",
       "  7\n",
       "  8\n",
       "  9\n",
       " 10\n",
       " 11\n",
       "  7\n",
       "  ⋮\n",
       " 24\n",
       " 25\n",
       " 26\n",
       " 27\n",
       " 28\n",
       " 29\n",
       " 25\n",
       " 26\n",
       " 27\n",
       " 28\n",
       " 29\n",
       " 30"
      ]
     },
     "execution_count": 21,
     "metadata": {},
     "output_type": "execute_result"
    }
   ],
   "source": [
    "vec(sum.(Iterators.product(Iterators.repeated(1:6, 5)...)))"
   ]
  },
  {
   "cell_type": "code",
   "execution_count": 22,
   "metadata": {},
   "outputs": [
    {
     "data": {
      "text/plain": [
       "0-element Array{Any,1}"
      ]
     },
     "execution_count": 22,
     "metadata": {},
     "output_type": "execute_result"
    }
   ],
   "source": [
    "v = [ ]"
   ]
  },
  {
   "cell_type": "code",
   "execution_count": 23,
   "metadata": {},
   "outputs": [
    {
     "data": {
      "text/plain": [
       "1-element Array{Any,1}:\n",
       " \"hello\""
      ]
     },
     "execution_count": 23,
     "metadata": {},
     "output_type": "execute_result"
    }
   ],
   "source": [
    "push!(v, \"hello\")"
   ]
  },
  {
   "cell_type": "code",
   "execution_count": 24,
   "metadata": {},
   "outputs": [
    {
     "data": {
      "text/plain": [
       "2-element Array{Any,1}:\n",
       "   \"hello\"\n",
       " -3.1     "
      ]
     },
     "execution_count": 24,
     "metadata": {},
     "output_type": "execute_result"
    }
   ],
   "source": [
    "push!(v, -3.1)"
   ]
  },
  {
   "cell_type": "code",
   "execution_count": 25,
   "metadata": {},
   "outputs": [
    {
     "data": {
      "text/plain": [
       "0-element Array{Int64,1}"
      ]
     },
     "execution_count": 25,
     "metadata": {},
     "output_type": "execute_result"
    }
   ],
   "source": [
    "v = Int[]"
   ]
  },
  {
   "cell_type": "code",
   "execution_count": 26,
   "metadata": {},
   "outputs": [
    {
     "data": {
      "text/plain": [
       "1-element Array{Int64,1}:\n",
       " 3"
      ]
     },
     "execution_count": 26,
     "metadata": {},
     "output_type": "execute_result"
    }
   ],
   "source": [
    "push!(v, 3.0)"
   ]
  },
  {
   "cell_type": "code",
   "execution_count": 27,
   "metadata": {},
   "outputs": [
    {
     "ename": "InexactError",
     "evalue": "InexactError: Int64(3.1)",
     "output_type": "error",
     "traceback": [
      "InexactError: Int64(3.1)",
      "",
      "Stacktrace:",
      " [1] Int64 at ./float.jl:709 [inlined]",
      " [2] convert at ./number.jl:7 [inlined]",
      " [3] push!(::Array{Int64,1}, ::Float64) at ./array.jl:866",
      " [4] top-level scope at In[27]:1"
     ]
    }
   ],
   "source": [
    "push!(v, 3.1)"
   ]
  },
  {
   "cell_type": "code",
   "execution_count": 28,
   "metadata": {},
   "outputs": [
    {
     "data": {
      "text/plain": [
       "0-element Array{Float64,1}"
      ]
     },
     "execution_count": 28,
     "metadata": {},
     "output_type": "execute_result"
    }
   ],
   "source": [
    "v = Float64[]"
   ]
  },
  {
   "cell_type": "code",
   "execution_count": 29,
   "metadata": {},
   "outputs": [
    {
     "ename": "MethodError",
     "evalue": "MethodError: Cannot `convert` an object of type String to an object of type Float64\nClosest candidates are:\n  convert(::Type{T}, !Matched::T) where T<:Number at number.jl:6\n  convert(::Type{T}, !Matched::Number) where T<:Number at number.jl:7\n  convert(::Type{T}, !Matched::Base.TwicePrecision) where T<:Number at twiceprecision.jl:250\n  ...",
     "output_type": "error",
     "traceback": [
      "MethodError: Cannot `convert` an object of type String to an object of type Float64\nClosest candidates are:\n  convert(::Type{T}, !Matched::T) where T<:Number at number.jl:6\n  convert(::Type{T}, !Matched::Number) where T<:Number at number.jl:7\n  convert(::Type{T}, !Matched::Base.TwicePrecision) where T<:Number at twiceprecision.jl:250\n  ...",
      "",
      "Stacktrace:",
      " [1] push!(::Array{Float64,1}, ::String) at ./array.jl:866",
      " [2] top-level scope at In[29]:1"
     ]
    }
   ],
   "source": [
    "push!(v, \"hello\")"
   ]
  },
  {
   "cell_type": "code",
   "execution_count": 30,
   "metadata": {},
   "outputs": [
    {
     "data": {
      "text/plain": [
       "5"
      ]
     },
     "execution_count": 30,
     "metadata": {},
     "output_type": "execute_result"
    }
   ],
   "source": [
    "11 ÷ 2"
   ]
  },
  {
   "cell_type": "code",
   "execution_count": 31,
   "metadata": {},
   "outputs": [
    {
     "data": {
      "text/plain": [
       "5"
      ]
     },
     "execution_count": 31,
     "metadata": {},
     "output_type": "execute_result"
    }
   ],
   "source": [
    "div(11, 2)"
   ]
  },
  {
   "cell_type": "code",
   "execution_count": 39,
   "metadata": {},
   "outputs": [
    {
     "data": {
      "text/plain": [
       "1-element Array{Array{Float64,1},1}:\n",
       " [0.0, 0.0, 0.0, 0.0, 0.0, 0.0, 0.0, 0.0, 0.0, 0.0  …  0.0, 0.0, 0.0, 0.0, 0.0, 0.0, 0.0, 0.0, 0.0, 0.0]"
      ]
     },
     "execution_count": 39,
     "metadata": {},
     "output_type": "execute_result"
    }
   ],
   "source": [
    "L = 100 \n",
    "T = 10\n",
    "P0 = zeros(L) # P\\_0<TAB> \n",
    "P0[L ÷ 2] = 1\n",
    "P = copy(P0) # time t \n",
    "next_P = copy(P0) # time t+1 Ps = [copy(P0)]\n",
    "\n",
    "Ps = [copy(P0)]"
   ]
  },
  {
   "cell_type": "code",
   "execution_count": 40,
   "metadata": {},
   "outputs": [],
   "source": [
    "T = 100\n",
    "for t in 1:T\n",
    "    \n",
    "    for i in 2:L-1   ## bulk -- not boundary\n",
    "        next_P[i] = 0.5 * (P[i-1] + P[i+1]) \n",
    "    end\n",
    "    \n",
    "    push!(Ps, copy(next_P))\n",
    "    global P, next_P = next_P, P\n",
    "end\n",
    "\n",
    "# reuse T"
   ]
  },
  {
   "cell_type": "code",
   "execution_count": 41,
   "metadata": {},
   "outputs": [
    {
     "data": {
      "text/plain": [
       "101-element Array{Array{Float64,1},1}:\n",
       " [0.0, 0.0, 0.0, 0.0, 0.0, 0.0, 0.0, 0.0, 0.0, 0.0  …  0.0, 0.0, 0.0, 0.0, 0.0, 0.0, 0.0, 0.0, 0.0, 0.0]                                                                                                                                                               \n",
       " [0.0, 0.0, 0.0, 0.0, 0.0, 0.0, 0.0, 0.0, 0.0, 0.0  …  0.0, 0.0, 0.0, 0.0, 0.0, 0.0, 0.0, 0.0, 0.0, 0.0]                                                                                                                                                               \n",
       " [0.0, 0.0, 0.0, 0.0, 0.0, 0.0, 0.0, 0.0, 0.0, 0.0  …  0.0, 0.0, 0.0, 0.0, 0.0, 0.0, 0.0, 0.0, 0.0, 0.0]                                                                                                                                                               \n",
       " [0.0, 0.0, 0.0, 0.0, 0.0, 0.0, 0.0, 0.0, 0.0, 0.0  …  0.0, 0.0, 0.0, 0.0, 0.0, 0.0, 0.0, 0.0, 0.0, 0.0]                                                                                                                                                               \n",
       " [0.0, 0.0, 0.0, 0.0, 0.0, 0.0, 0.0, 0.0, 0.0, 0.0  …  0.0, 0.0, 0.0, 0.0, 0.0, 0.0, 0.0, 0.0, 0.0, 0.0]                                                                                                                                                               \n",
       " [0.0, 0.0, 0.0, 0.0, 0.0, 0.0, 0.0, 0.0, 0.0, 0.0  …  0.0, 0.0, 0.0, 0.0, 0.0, 0.0, 0.0, 0.0, 0.0, 0.0]                                                                                                                                                               \n",
       " [0.0, 0.0, 0.0, 0.0, 0.0, 0.0, 0.0, 0.0, 0.0, 0.0  …  0.0, 0.0, 0.0, 0.0, 0.0, 0.0, 0.0, 0.0, 0.0, 0.0]                                                                                                                                                               \n",
       " [0.0, 0.0, 0.0, 0.0, 0.0, 0.0, 0.0, 0.0, 0.0, 0.0  …  0.0, 0.0, 0.0, 0.0, 0.0, 0.0, 0.0, 0.0, 0.0, 0.0]                                                                                                                                                               \n",
       " [0.0, 0.0, 0.0, 0.0, 0.0, 0.0, 0.0, 0.0, 0.0, 0.0  …  0.0, 0.0, 0.0, 0.0, 0.0, 0.0, 0.0, 0.0, 0.0, 0.0]                                                                                                                                                               \n",
       " [0.0, 0.0, 0.0, 0.0, 0.0, 0.0, 0.0, 0.0, 0.0, 0.0  …  0.0, 0.0, 0.0, 0.0, 0.0, 0.0, 0.0, 0.0, 0.0, 0.0]                                                                                                                                                               \n",
       " [0.0, 0.0, 0.0, 0.0, 0.0, 0.0, 0.0, 0.0, 0.0, 0.0  …  0.0, 0.0, 0.0, 0.0, 0.0, 0.0, 0.0, 0.0, 0.0, 0.0]                                                                                                                                                               \n",
       " [0.0, 0.0, 0.0, 0.0, 0.0, 0.0, 0.0, 0.0, 0.0, 0.0  …  0.0, 0.0, 0.0, 0.0, 0.0, 0.0, 0.0, 0.0, 0.0, 0.0]                                                                                                                                                               \n",
       " [0.0, 0.0, 0.0, 0.0, 0.0, 0.0, 0.0, 0.0, 0.0, 0.0  …  0.0, 0.0, 0.0, 0.0, 0.0, 0.0, 0.0, 0.0, 0.0, 0.0]                                                                                                                                                               \n",
       " ⋮                                                                                                                                                                                                                                                                     \n",
       " [0.0, 0.0, 1.9218226549427626e-7, 0.0, 6.456930405339064e-7, 0.0, 1.8939755020894522e-6, 0.0, 5.21151485162564e-6, 0.0  …  5.211738353724359e-6, 0.0, 1.89491484559563e-6, 0.0, 6.493665446027104e-7, 0.0, 2.0558733297342094e-7, 0.0, 4.5757682260541964e-8, 0.0]    \n",
       " [0.0, 9.609113274713813e-8, 0.0, 4.1893765301409137e-7, 0.0, 1.2698342713116793e-6, 0.0, 3.552745176857546e-6, 0.0, 9.381066610255584e-6  …  0.0, 3.5533265996599945e-6, 0.0, 1.2721406950991702e-6, 0.0, 4.2747693878806566e-7, 0.0, 1.2567250761698145e-7, 0.0, 0.0]\n",
       " [0.0, 0.0, 2.5751439288061476e-7, 0.0, 8.443859621628853e-7, 0.0, 2.4112897240846128e-6, 0.0, 6.466905893556565e-6, 0.0  …  6.4672648116327415e-6, 0.0, 2.412733647379582e-6, 0.0, 8.498088169436179e-7, 0.0, 2.7657472320252354e-7, 0.0, 6.283625380849072e-8, 0.0]  \n",
       " [0.0, 1.2875719644030738e-7, 0.0, 5.509501775217501e-7, 0.0, 1.627837843123749e-6, 0.0, 4.439097808820589e-6, 0.0, 1.1441985361639669e-5  …  0.0, 4.439999229506162e-6, 0.0, 1.6312712321616001e-6, 0.0, 5.631917700730707e-7, 0.0, 1.6970548850550714e-7, 0.0, 0.0]  \n",
       " [0.0, 0.0, 3.3985368698102873e-7, 0.0, 1.0893940103227496e-6, 0.0, 3.033467825972169e-6, 0.0, 7.940541585230129e-6, 0.0  …  7.941102788274678e-6, 0.0, 3.035635230833881e-6, 0.0, 1.0972315011173353e-6, 0.0, 3.6644862928928897e-7, 0.0, 8.485274425275357e-8, 0.0]  \n",
       " [0.0, 1.6992684349051437e-7, 0.0, 7.146238486518892e-7, 0.0, 2.061430918147459e-6, 0.0, 5.487004705601148e-6, 0.0, 1.3823249560631501e-5  …  0.0, 5.488369009554279e-6, 0.0, 2.0664333659756084e-6, 0.0, 7.318400652033121e-7, 0.0, 2.2565068677102128e-7, 0.0, 0.0]  \n",
       " [0.0, 0.0, 4.4227534607120177e-7, 0.0, 1.3880273833996742e-6, 0.0, 3.7742178118743037e-6, 0.0, 9.655127133116326e-6, 0.0  …  9.655983514385606e-6, 0.0, 3.777401187764944e-6, 0.0, 1.3991367155894601e-6, 0.0, 4.787453759871667e-7, 0.0, 1.1282534338551064e-7, 0.0] \n",
       " [0.0, 2.2113767303560088e-7, 0.0, 9.15151364735438e-7, 0.0, 2.581122597636989e-6, 0.0, 6.714672472495315e-6, 0.0, 1.655288679023473e-5  …  0.0, 6.716692351075275e-6, 0.0, 2.588268951677202e-6, 0.0, 9.389410457883134e-7, 0.0, 2.957853596863387e-7, 0.0, 0.0]      \n",
       " [0.0, 0.0, 5.681445188855194e-7, 0.0, 1.7481369811862135e-6, 0.0, 4.647897535066152e-6, 0.0, 1.1633779631365023e-5, 0.0  …  1.1635057615720718e-5, 0.0, 4.652480651376239e-6, 0.0, 1.7636049987327577e-6, 0.0, 6.17363202737326e-7, 0.0, 1.4789267984316935e-7, 0.0]  \n",
       " [0.0, 2.840722594427597e-7, 0.0, 1.1581407500358665e-6, 0.0, 3.1980172581261828e-6, 0.0, 8.140838583215587e-6, 0.0, 1.9658900209736873e-5  …  0.0, 8.143769133548478e-6, 0.0, 3.2080428250544984e-6, 0.0, 1.1904841007350419e-6, 0.0, 3.8262794129024767e-7, 0.0, 0.0]\n",
       " [0.0, 0.0, 7.211065047393131e-7, 0.0, 2.1780790040810246e-6, 0.0, 5.669427920670885e-6, 0.0, 1.389986939647623e-5, 0.0  …  1.3901737841958292e-5, 0.0, 5.675905979301489e-6, 0.0, 2.19926346289477e-6, 0.0, 7.865560210126448e-7, 0.0, 1.9131397064512384e-7, 0.0]    \n",
       " [0.0, 3.6055325236965653e-7, 0.0, 1.4495927544101688e-6, 0.0, 3.923753462375954e-6, 0.0, 9.784648658573557e-6, 0.0, 2.3169079851271335e-5  …  0.0, 9.78882191062989e-6, 0.0, 3.937584721098129e-6, 0.0, 1.4929097419537074e-6, 0.0, 4.889349958288843e-7, 0.0, 0.0]   "
      ]
     },
     "execution_count": 41,
     "metadata": {},
     "output_type": "execute_result"
    }
   ],
   "source": [
    "Ps"
   ]
  },
  {
   "cell_type": "code",
   "execution_count": 42,
   "metadata": {},
   "outputs": [],
   "source": [
    "using Plots\n",
    "using Interact"
   ]
  },
  {
   "cell_type": "code",
   "execution_count": 44,
   "metadata": {},
   "outputs": [
    {
     "data": {
      "application/vnd.webio.node+json": {
       "children": [
        {
         "children": [
          {
           "children": [
            {
             "children": [
              {
               "children": [
                {
                 "children": [
                  "t"
                 ],
                 "instanceArgs": {
                  "namespace": "html",
                  "tag": "label"
                 },
                 "nodeType": "DOM",
                 "props": {
                  "className": "interact ",
                  "style": {
                   "padding": "5px 10px 0px 10px"
                  }
                 },
                 "type": "node"
                }
               ],
               "instanceArgs": {
                "namespace": "html",
                "tag": "div"
               },
               "nodeType": "DOM",
               "props": {
                "className": "interact-flex-row-left"
               },
               "type": "node"
              },
              {
               "children": [
                {
                 "children": [],
                 "instanceArgs": {
                  "namespace": "html",
                  "tag": "input"
                 },
                 "nodeType": "DOM",
                 "props": {
                  "attributes": {
                   "data-bind": "numericValue: index, valueUpdate: 'input', event: {change: function (){this.changes(this.changes()+1)}}",
                   "orient": "horizontal",
                   "type": "range"
                  },
                  "className": "slider slider is-fullwidth",
                  "max": 100,
                  "min": 1,
                  "step": 1,
                  "style": {}
                 },
                 "type": "node"
                }
               ],
               "instanceArgs": {
                "namespace": "html",
                "tag": "div"
               },
               "nodeType": "DOM",
               "props": {
                "className": "interact-flex-row-center"
               },
               "type": "node"
              },
              {
               "children": [
                {
                 "children": [],
                 "instanceArgs": {
                  "namespace": "html",
                  "tag": "p"
                 },
                 "nodeType": "DOM",
                 "props": {
                  "attributes": {
                   "data-bind": "text: formatted_val"
                  }
                 },
                 "type": "node"
                }
               ],
               "instanceArgs": {
                "namespace": "html",
                "tag": "div"
               },
               "nodeType": "DOM",
               "props": {
                "className": "interact-flex-row-right"
               },
               "type": "node"
              }
             ],
             "instanceArgs": {
              "namespace": "html",
              "tag": "div"
             },
             "nodeType": "DOM",
             "props": {
              "className": "interact-flex-row interact-widget"
             },
             "type": "node"
            }
           ],
           "instanceArgs": {
            "handlers": {
             "changes": [
              "(function (val){return (val!=this.model[\"changes\"]()) ? (this.valueFromJulia[\"changes\"]=true, this.model[\"changes\"](val)) : undefined})"
             ],
             "index": [
              "(function (val){return (val!=this.model[\"index\"]()) ? (this.valueFromJulia[\"index\"]=true, this.model[\"index\"](val)) : undefined})"
             ]
            },
            "id": "13920042373165823568",
            "imports": {
             "data": [
              {
               "name": "knockout",
               "type": "js",
               "url": "/assetserver/9a186147d51179d2ec12ccfac1799b0b805a79d5-knockout.js"
              },
              {
               "name": "knockout_punches",
               "type": "js",
               "url": "/assetserver/eccef011301f679ebde0900f01478cac573870ce-knockout_punches.js"
              },
              {
               "name": null,
               "type": "js",
               "url": "/assetserver/5d2042c6908ffff0b7c8d26135740476bcf00827-all.js"
              },
              {
               "name": null,
               "type": "css",
               "url": "/assetserver/87ad319ae61de5d44f67c268a0a8f65862fca478-style.css"
              },
              {
               "name": null,
               "type": "css",
               "url": "/assetserver/9354074556c360cc537db1e8b0f0283e19c8ea9d-bulma_confined.min.css"
              }
             ],
             "type": "async_block"
            },
            "mount_callbacks": [
             "function () {\n    var handler = (function (ko, koPunches) {\n    ko.punches.enableAll();\n    ko.bindingHandlers.numericValue = {\n        init: function(element, valueAccessor, allBindings, data, context) {\n            var stringified = ko.observable(ko.unwrap(valueAccessor()));\n            stringified.subscribe(function(value) {\n                var val = parseFloat(value);\n                if (!isNaN(val)) {\n                    valueAccessor()(val);\n                }\n            });\n            valueAccessor().subscribe(function(value) {\n                var str = JSON.stringify(value);\n                if ((str == \"0\") && ([\"-0\", \"-0.\"].indexOf(stringified()) >= 0))\n                     return;\n                 if ([\"null\", \"\"].indexOf(str) >= 0)\n                     return;\n                stringified(str);\n            });\n            ko.applyBindingsToNode(\n                element,\n                {\n                    value: stringified,\n                    valueUpdate: allBindings.get('valueUpdate'),\n                },\n                context,\n            );\n        }\n    };\n    var json_data = {\"formatted_vals\":[\"1\",\"2\",\"3\",\"4\",\"5\",\"6\",\"7\",\"8\",\"9\",\"10\",\"11\",\"12\",\"13\",\"14\",\"15\",\"16\",\"17\",\"18\",\"19\",\"20\",\"21\",\"22\",\"23\",\"24\",\"25\",\"26\",\"27\",\"28\",\"29\",\"30\",\"31\",\"32\",\"33\",\"34\",\"35\",\"36\",\"37\",\"38\",\"39\",\"40\",\"41\",\"42\",\"43\",\"44\",\"45\",\"46\",\"47\",\"48\",\"49\",\"50\",\"51\",\"52\",\"53\",\"54\",\"55\",\"56\",\"57\",\"58\",\"59\",\"60\",\"61\",\"62\",\"63\",\"64\",\"65\",\"66\",\"67\",\"68\",\"69\",\"70\",\"71\",\"72\",\"73\",\"74\",\"75\",\"76\",\"77\",\"78\",\"79\",\"80\",\"81\",\"82\",\"83\",\"84\",\"85\",\"86\",\"87\",\"88\",\"89\",\"90\",\"91\",\"92\",\"93\",\"94\",\"95\",\"96\",\"97\",\"98\",\"99\",\"100\"],\"changes\":WebIO.getval({\"name\":\"changes\",\"scope\":\"13920042373165823568\",\"id\":\"ob_18\",\"type\":\"observable\"}),\"index\":WebIO.getval({\"name\":\"index\",\"scope\":\"13920042373165823568\",\"id\":\"ob_17\",\"type\":\"observable\"})};\n    var self = this;\n    function AppViewModel() {\n        for (var key in json_data) {\n            var el = json_data[key];\n            this[key] = Array.isArray(el) ? ko.observableArray(el) : ko.observable(el);\n        }\n        \n        [this[\"formatted_val\"]=ko.computed(    function(){\n        return this.formatted_vals()[parseInt(this.index())-(1)];\n    }\n,this)]\n        [this[\"changes\"].subscribe((function (val){!(this.valueFromJulia[\"changes\"]) ? (WebIO.setval({\"name\":\"changes\",\"scope\":\"13920042373165823568\",\"id\":\"ob_18\",\"type\":\"observable\"},val)) : undefined; return this.valueFromJulia[\"changes\"]=false}),self),this[\"index\"].subscribe((function (val){!(this.valueFromJulia[\"index\"]) ? (WebIO.setval({\"name\":\"index\",\"scope\":\"13920042373165823568\",\"id\":\"ob_17\",\"type\":\"observable\"},val)) : undefined; return this.valueFromJulia[\"index\"]=false}),self)]\n        \n    }\n    self.model = new AppViewModel();\n    self.valueFromJulia = {};\n    for (var key in json_data) {\n        self.valueFromJulia[key] = false;\n    }\n    ko.applyBindings(self.model, self.dom);\n}\n);\n    (WebIO.importBlock({\"data\":[{\"name\":\"knockout\",\"type\":\"js\",\"url\":\"/assetserver/9a186147d51179d2ec12ccfac1799b0b805a79d5-knockout.js\"},{\"name\":\"knockout_punches\",\"type\":\"js\",\"url\":\"/assetserver/eccef011301f679ebde0900f01478cac573870ce-knockout_punches.js\"}],\"type\":\"async_block\"})).then((imports) => handler.apply(this, imports));\n}\n"
            ],
            "observables": {
             "changes": {
              "id": "ob_18",
              "sync": false,
              "value": 0
             },
             "index": {
              "id": "ob_17",
              "sync": true,
              "value": 50
             }
            },
            "systemjs_options": null
           },
           "nodeType": "Scope",
           "props": {},
           "type": "node"
          }
         ],
         "instanceArgs": {
          "namespace": "html",
          "tag": "div"
         },
         "nodeType": "DOM",
         "props": {
          "className": "field interact-widget"
         },
         "type": "node"
        },
        {
         "children": [
          {
           "children": [],
           "instanceArgs": {
            "id": "ob_24",
            "name": "obs-node"
           },
           "nodeType": "ObservableNode",
           "props": {},
           "type": "node"
          }
         ],
         "instanceArgs": {
          "handlers": {},
          "id": "1832883880267830619",
          "imports": {
           "data": [],
           "type": "async_block"
          },
          "mount_callbacks": [],
          "observables": {
           "obs-node": {
            "id": "ob_24",
            "sync": false,
            "value": {
             "children": [
              {
               "children": [],
               "instanceArgs": {
                "namespace": "html",
                "tag": "div"
               },
               "nodeType": "DOM",
               "props": {
                "setInnerHtml": "<?xml version=\"1.0\" encoding=\"utf-8\"?>\n<svg xmlns=\"http://www.w3.org/2000/svg\" xmlns:xlink=\"http://www.w3.org/1999/xlink\" width=\"600\" height=\"400\" viewBox=\"0 0 2400 1600\">\n<defs>\n  <clipPath id=\"clip9000\">\n    <rect x=\"0\" y=\"0\" width=\"2400\" height=\"1600\"/>\n  </clipPath>\n</defs>\n<path clip-path=\"url(#clip9000)\" d=\"\nM0 1600 L2400 1600 L2400 0 L0 0  Z\n  \" fill=\"#ffffff\" fill-rule=\"evenodd\" fill-opacity=\"1\"/>\n<defs>\n  <clipPath id=\"clip9001\">\n    <rect x=\"480\" y=\"0\" width=\"1681\" height=\"1600\"/>\n  </clipPath>\n</defs>\n<path clip-path=\"url(#clip9000)\" d=\"\nM180.66 1487.47 L2352.76 1487.47 L2352.76 47.2441 L180.66 47.2441  Z\n  \" fill=\"#ffffff\" fill-rule=\"evenodd\" fill-opacity=\"1\"/>\n<defs>\n  <clipPath id=\"clip9002\">\n    <rect x=\"180\" y=\"47\" width=\"2173\" height=\"1441\"/>\n  </clipPath>\n</defs>\n<polyline clip-path=\"url(#clip9002)\" style=\"stroke:#000000; stroke-width:2; stroke-opacity:0.1; fill:none\" points=\"\n  221.436,1487.47 221.436,47.2441 \n  \"/>\n<polyline clip-path=\"url(#clip9002)\" style=\"stroke:#000000; stroke-width:2; stroke-opacity:0.1; fill:none\" points=\"\n  738.898,1487.47 738.898,47.2441 \n  \"/>\n<polyline clip-path=\"url(#clip9002)\" style=\"stroke:#000000; stroke-width:2; stroke-opacity:0.1; fill:none\" points=\"\n  1256.36,1487.47 1256.36,47.2441 \n  \"/>\n<polyline clip-path=\"url(#clip9002)\" style=\"stroke:#000000; stroke-width:2; stroke-opacity:0.1; fill:none\" points=\"\n  1773.82,1487.47 1773.82,47.2441 \n  \"/>\n<polyline clip-path=\"url(#clip9002)\" style=\"stroke:#000000; stroke-width:2; stroke-opacity:0.1; fill:none\" points=\"\n  2291.28,1487.47 2291.28,47.2441 \n  \"/>\n<polyline clip-path=\"url(#clip9002)\" style=\"stroke:#000000; stroke-width:2; stroke-opacity:0.1; fill:none\" points=\"\n  180.66,1487.47 2352.76,1487.47 \n  \"/>\n<polyline clip-path=\"url(#clip9002)\" style=\"stroke:#000000; stroke-width:2; stroke-opacity:0.1; fill:none\" points=\"\n  180.66,1199.43 2352.76,1199.43 \n  \"/>\n<polyline clip-path=\"url(#clip9002)\" style=\"stroke:#000000; stroke-width:2; stroke-opacity:0.1; fill:none\" points=\"\n  180.66,911.382 2352.76,911.382 \n  \"/>\n<polyline clip-path=\"url(#clip9002)\" style=\"stroke:#000000; stroke-width:2; stroke-opacity:0.1; fill:none\" points=\"\n  180.66,623.336 2352.76,623.336 \n  \"/>\n<polyline clip-path=\"url(#clip9002)\" style=\"stroke:#000000; stroke-width:2; stroke-opacity:0.1; fill:none\" points=\"\n  180.66,335.29 2352.76,335.29 \n  \"/>\n<polyline clip-path=\"url(#clip9002)\" style=\"stroke:#000000; stroke-width:2; stroke-opacity:0.1; fill:none\" points=\"\n  180.66,47.2441 2352.76,47.2441 \n  \"/>\n<polyline clip-path=\"url(#clip9000)\" style=\"stroke:#000000; stroke-width:4; stroke-opacity:1; fill:none\" points=\"\n  180.66,1487.47 2352.76,1487.47 \n  \"/>\n<polyline clip-path=\"url(#clip9000)\" style=\"stroke:#000000; stroke-width:4; stroke-opacity:1; fill:none\" points=\"\n  180.66,1487.47 180.66,47.2441 \n  \"/>\n<polyline clip-path=\"url(#clip9000)\" style=\"stroke:#000000; stroke-width:4; stroke-opacity:1; fill:none\" points=\"\n  221.436,1487.47 221.436,1465.87 \n  \"/>\n<polyline clip-path=\"url(#clip9000)\" style=\"stroke:#000000; stroke-width:4; stroke-opacity:1; fill:none\" points=\"\n  738.898,1487.47 738.898,1465.87 \n  \"/>\n<polyline clip-path=\"url(#clip9000)\" style=\"stroke:#000000; stroke-width:4; stroke-opacity:1; fill:none\" points=\"\n  1256.36,1487.47 1256.36,1465.87 \n  \"/>\n<polyline clip-path=\"url(#clip9000)\" style=\"stroke:#000000; stroke-width:4; stroke-opacity:1; fill:none\" points=\"\n  1773.82,1487.47 1773.82,1465.87 \n  \"/>\n<polyline clip-path=\"url(#clip9000)\" style=\"stroke:#000000; stroke-width:4; stroke-opacity:1; fill:none\" points=\"\n  2291.28,1487.47 2291.28,1465.87 \n  \"/>\n<polyline clip-path=\"url(#clip9000)\" style=\"stroke:#000000; stroke-width:4; stroke-opacity:1; fill:none\" points=\"\n  180.66,1487.47 213.242,1487.47 \n  \"/>\n<polyline clip-path=\"url(#clip9000)\" style=\"stroke:#000000; stroke-width:4; stroke-opacity:1; fill:none\" points=\"\n  180.66,1199.43 213.242,1199.43 \n  \"/>\n<polyline clip-path=\"url(#clip9000)\" style=\"stroke:#000000; stroke-width:4; stroke-opacity:1; fill:none\" points=\"\n  180.66,911.382 213.242,911.382 \n  \"/>\n<polyline clip-path=\"url(#clip9000)\" style=\"stroke:#000000; stroke-width:4; stroke-opacity:1; fill:none\" points=\"\n  180.66,623.336 213.242,623.336 \n  \"/>\n<polyline clip-path=\"url(#clip9000)\" style=\"stroke:#000000; stroke-width:4; stroke-opacity:1; fill:none\" points=\"\n  180.66,335.29 213.242,335.29 \n  \"/>\n<polyline clip-path=\"url(#clip9000)\" style=\"stroke:#000000; stroke-width:4; stroke-opacity:1; fill:none\" points=\"\n  180.66,47.2441 213.242,47.2441 \n  \"/>\n<g clip-path=\"url(#clip9000)\">\n<text style=\"fill:#000000; fill-opacity:1; font-family:Arial,Helvetica Neue,Helvetica,sans-serif; font-size:48px; text-anchor:middle;\" transform=\"rotate(0, 221.436, 1541.47)\" x=\"221.436\" y=\"1541.47\">0</text>\n</g>\n<g clip-path=\"url(#clip9000)\">\n<text style=\"fill:#000000; fill-opacity:1; font-family:Arial,Helvetica Neue,Helvetica,sans-serif; font-size:48px; text-anchor:middle;\" transform=\"rotate(0, 738.898, 1541.47)\" x=\"738.898\" y=\"1541.47\">25</text>\n</g>\n<g clip-path=\"url(#clip9000)\">\n<text style=\"fill:#000000; fill-opacity:1; font-family:Arial,Helvetica Neue,Helvetica,sans-serif; font-size:48px; text-anchor:middle;\" transform=\"rotate(0, 1256.36, 1541.47)\" x=\"1256.36\" y=\"1541.47\">50</text>\n</g>\n<g clip-path=\"url(#clip9000)\">\n<text style=\"fill:#000000; fill-opacity:1; font-family:Arial,Helvetica Neue,Helvetica,sans-serif; font-size:48px; text-anchor:middle;\" transform=\"rotate(0, 1773.82, 1541.47)\" x=\"1773.82\" y=\"1541.47\">75</text>\n</g>\n<g clip-path=\"url(#clip9000)\">\n<text style=\"fill:#000000; fill-opacity:1; font-family:Arial,Helvetica Neue,Helvetica,sans-serif; font-size:48px; text-anchor:middle;\" transform=\"rotate(0, 2291.28, 1541.47)\" x=\"2291.28\" y=\"1541.47\">100</text>\n</g>\n<g clip-path=\"url(#clip9000)\">\n<text style=\"fill:#000000; fill-opacity:1; font-family:Arial,Helvetica Neue,Helvetica,sans-serif; font-size:48px; text-anchor:end;\" transform=\"rotate(0, 156.66, 1504.97)\" x=\"156.66\" y=\"1504.97\">0.00</text>\n</g>\n<g clip-path=\"url(#clip9000)\">\n<text style=\"fill:#000000; fill-opacity:1; font-family:Arial,Helvetica Neue,Helvetica,sans-serif; font-size:48px; text-anchor:end;\" transform=\"rotate(0, 156.66, 1216.93)\" x=\"156.66\" y=\"1216.93\">0.05</text>\n</g>\n<g clip-path=\"url(#clip9000)\">\n<text style=\"fill:#000000; fill-opacity:1; font-family:Arial,Helvetica Neue,Helvetica,sans-serif; font-size:48px; text-anchor:end;\" transform=\"rotate(0, 156.66, 928.882)\" x=\"156.66\" y=\"928.882\">0.10</text>\n</g>\n<g clip-path=\"url(#clip9000)\">\n<text style=\"fill:#000000; fill-opacity:1; font-family:Arial,Helvetica Neue,Helvetica,sans-serif; font-size:48px; text-anchor:end;\" transform=\"rotate(0, 156.66, 640.836)\" x=\"156.66\" y=\"640.836\">0.15</text>\n</g>\n<g clip-path=\"url(#clip9000)\">\n<text style=\"fill:#000000; fill-opacity:1; font-family:Arial,Helvetica Neue,Helvetica,sans-serif; font-size:48px; text-anchor:end;\" transform=\"rotate(0, 156.66, 352.79)\" x=\"156.66\" y=\"352.79\">0.20</text>\n</g>\n<g clip-path=\"url(#clip9000)\">\n<text style=\"fill:#000000; fill-opacity:1; font-family:Arial,Helvetica Neue,Helvetica,sans-serif; font-size:48px; text-anchor:end;\" transform=\"rotate(0, 156.66, 64.7441)\" x=\"156.66\" y=\"64.7441\">0.25</text>\n</g>\n<polyline clip-path=\"url(#clip9002)\" style=\"stroke:#009af9; stroke-width:4; stroke-opacity:1; fill:none\" points=\"\n  242.135,1487.47 262.833,1487.47 283.532,1487.47 304.23,1487.47 324.929,1487.47 345.627,1487.47 366.325,1487.47 387.024,1487.47 407.722,1487.47 428.421,1487.47 \n  449.119,1487.47 469.818,1487.47 490.516,1487.47 511.215,1487.47 531.913,1487.47 552.612,1487.47 573.31,1487.47 594.008,1487.47 614.707,1487.45 635.405,1487.47 \n  656.104,1487.39 676.802,1487.47 697.501,1487.18 718.199,1487.47 738.898,1486.53 759.596,1487.47 780.294,1484.79 800.993,1487.47 821.691,1480.56 842.39,1487.47 \n  863.088,1471.35 883.787,1487.47 904.485,1453.21 925.184,1487.47 945.882,1420.96 966.581,1487.47 987.279,1369.23 1007.98,1487.47 1028.68,1294.56 1049.37,1487.47 \n  1070.07,1198.1 1090.77,1487.47 1111.47,1087.86 1132.17,1487.47 1152.87,978.873 1173.57,1487.47 1194.26,890.421 1214.96,1487.47 1235.66,840.666 1256.36,1487.47 \n  1277.06,840.666 1297.76,1487.47 1318.45,890.421 1339.15,1487.47 1359.85,978.873 1380.55,1487.47 1401.25,1087.86 1421.95,1487.47 1442.64,1198.1 1463.34,1487.47 \n  1484.04,1294.56 1504.74,1487.47 1525.44,1369.23 1546.14,1487.47 1566.84,1420.96 1587.53,1487.47 1608.23,1453.21 1628.93,1487.47 1649.63,1471.35 1670.33,1487.47 \n  1691.03,1480.56 1711.72,1487.47 1732.42,1484.79 1753.12,1487.47 1773.82,1486.53 1794.52,1487.47 1815.22,1487.18 1835.92,1487.47 1856.61,1487.39 1877.31,1487.47 \n  1898.01,1487.45 1918.71,1487.47 1939.41,1487.47 1960.11,1487.47 1980.8,1487.47 2001.5,1487.47 2022.2,1487.47 2042.9,1487.47 2063.6,1487.47 2084.3,1487.47 \n  2105,1487.47 2125.69,1487.47 2146.39,1487.47 2167.09,1487.47 2187.79,1487.47 2208.49,1487.47 2229.19,1487.47 2249.88,1487.47 2270.58,1487.47 2291.28,1487.47 \n  \n  \"/>\n<polygon clip-path=\"url(#clip9002)\" style=\"fill:#000000; fill-opacity:1\" points=\"\n  242.135,1507.47 227.995,1501.61 222.135,1487.47 227.995,1473.33 242.135,1467.47 256.275,1473.33 262.135,1487.47 256.275,1501.61 \n  \"/>\n<polygon clip-path=\"url(#clip9002)\" style=\"fill:#009af9; fill-opacity:1\" points=\"\n  242.135,1503.47 230.823,1498.79 226.135,1487.47 230.823,1476.16 242.135,1471.47 253.447,1476.16 258.135,1487.47 253.447,1498.79 \n  \"/>\n<polygon clip-path=\"url(#clip9002)\" style=\"fill:#000000; fill-opacity:1\" points=\"\n  262.833,1507.47 248.693,1501.61 242.833,1487.47 248.693,1473.33 262.833,1467.47 276.973,1473.33 282.833,1487.47 276.973,1501.61 \n  \"/>\n<polygon clip-path=\"url(#clip9002)\" style=\"fill:#009af9; fill-opacity:1\" points=\"\n  262.833,1503.47 251.521,1498.79 246.833,1487.47 251.521,1476.16 262.833,1471.47 274.145,1476.16 278.833,1487.47 274.145,1498.79 \n  \"/>\n<polygon clip-path=\"url(#clip9002)\" style=\"fill:#000000; fill-opacity:1\" points=\"\n  283.532,1507.47 269.392,1501.61 263.532,1487.47 269.392,1473.33 283.532,1467.47 297.672,1473.33 303.532,1487.47 297.672,1501.61 \n  \"/>\n<polygon clip-path=\"url(#clip9002)\" style=\"fill:#009af9; fill-opacity:1\" points=\"\n  283.532,1503.47 272.22,1498.79 267.532,1487.47 272.22,1476.16 283.532,1471.47 294.844,1476.16 299.532,1487.47 294.844,1498.79 \n  \"/>\n<polygon clip-path=\"url(#clip9002)\" style=\"fill:#000000; fill-opacity:1\" points=\"\n  304.23,1507.47 290.09,1501.61 284.23,1487.47 290.09,1473.33 304.23,1467.47 318.37,1473.33 324.23,1487.47 318.37,1501.61 \n  \"/>\n<polygon clip-path=\"url(#clip9002)\" style=\"fill:#009af9; fill-opacity:1\" points=\"\n  304.23,1503.47 292.918,1498.79 288.23,1487.47 292.918,1476.16 304.23,1471.47 315.542,1476.16 320.23,1487.47 315.542,1498.79 \n  \"/>\n<polygon clip-path=\"url(#clip9002)\" style=\"fill:#000000; fill-opacity:1\" points=\"\n  324.929,1507.47 310.789,1501.61 304.929,1487.47 310.789,1473.33 324.929,1467.47 339.069,1473.33 344.929,1487.47 339.069,1501.61 \n  \"/>\n<polygon clip-path=\"url(#clip9002)\" style=\"fill:#009af9; fill-opacity:1\" points=\"\n  324.929,1503.47 313.617,1498.79 308.929,1487.47 313.617,1476.16 324.929,1471.47 336.241,1476.16 340.929,1487.47 336.241,1498.79 \n  \"/>\n<polygon clip-path=\"url(#clip9002)\" style=\"fill:#000000; fill-opacity:1\" points=\"\n  345.627,1507.47 331.487,1501.61 325.627,1487.47 331.487,1473.33 345.627,1467.47 359.767,1473.33 365.627,1487.47 359.767,1501.61 \n  \"/>\n<polygon clip-path=\"url(#clip9002)\" style=\"fill:#009af9; fill-opacity:1\" points=\"\n  345.627,1503.47 334.315,1498.79 329.627,1487.47 334.315,1476.16 345.627,1471.47 356.939,1476.16 361.627,1487.47 356.939,1498.79 \n  \"/>\n<polygon clip-path=\"url(#clip9002)\" style=\"fill:#000000; fill-opacity:1\" points=\"\n  366.325,1507.47 352.185,1501.61 346.325,1487.47 352.185,1473.33 366.325,1467.47 380.465,1473.33 386.325,1487.47 380.465,1501.61 \n  \"/>\n<polygon clip-path=\"url(#clip9002)\" style=\"fill:#009af9; fill-opacity:1\" points=\"\n  366.325,1503.47 355.013,1498.79 350.325,1487.47 355.013,1476.16 366.325,1471.47 377.637,1476.16 382.325,1487.47 377.637,1498.79 \n  \"/>\n<polygon clip-path=\"url(#clip9002)\" style=\"fill:#000000; fill-opacity:1\" points=\"\n  387.024,1507.47 372.884,1501.61 367.024,1487.47 372.884,1473.33 387.024,1467.47 401.164,1473.33 407.024,1487.47 401.164,1501.61 \n  \"/>\n<polygon clip-path=\"url(#clip9002)\" style=\"fill:#009af9; fill-opacity:1\" points=\"\n  387.024,1503.47 375.712,1498.79 371.024,1487.47 375.712,1476.16 387.024,1471.47 398.336,1476.16 403.024,1487.47 398.336,1498.79 \n  \"/>\n<polygon clip-path=\"url(#clip9002)\" style=\"fill:#000000; fill-opacity:1\" points=\"\n  407.722,1507.47 393.582,1501.61 387.722,1487.47 393.582,1473.33 407.722,1467.47 421.862,1473.33 427.722,1487.47 421.862,1501.61 \n  \"/>\n<polygon clip-path=\"url(#clip9002)\" style=\"fill:#009af9; fill-opacity:1\" points=\"\n  407.722,1503.47 396.41,1498.79 391.722,1487.47 396.41,1476.16 407.722,1471.47 419.034,1476.16 423.722,1487.47 419.034,1498.79 \n  \"/>\n<polygon clip-path=\"url(#clip9002)\" style=\"fill:#000000; fill-opacity:1\" points=\"\n  428.421,1507.47 414.281,1501.61 408.421,1487.47 414.281,1473.33 428.421,1467.47 442.561,1473.33 448.421,1487.47 442.561,1501.61 \n  \"/>\n<polygon clip-path=\"url(#clip9002)\" style=\"fill:#009af9; fill-opacity:1\" points=\"\n  428.421,1503.47 417.109,1498.79 412.421,1487.47 417.109,1476.16 428.421,1471.47 439.733,1476.16 444.421,1487.47 439.733,1498.79 \n  \"/>\n<polygon clip-path=\"url(#clip9002)\" style=\"fill:#000000; fill-opacity:1\" points=\"\n  449.119,1507.47 434.979,1501.61 429.119,1487.47 434.979,1473.33 449.119,1467.47 463.259,1473.33 469.119,1487.47 463.259,1501.61 \n  \"/>\n<polygon clip-path=\"url(#clip9002)\" style=\"fill:#009af9; fill-opacity:1\" points=\"\n  449.119,1503.47 437.807,1498.79 433.119,1487.47 437.807,1476.16 449.119,1471.47 460.431,1476.16 465.119,1487.47 460.431,1498.79 \n  \"/>\n<polygon clip-path=\"url(#clip9002)\" style=\"fill:#000000; fill-opacity:1\" points=\"\n  469.818,1507.47 455.678,1501.61 449.818,1487.47 455.678,1473.33 469.818,1467.47 483.958,1473.33 489.818,1487.47 483.958,1501.61 \n  \"/>\n<polygon clip-path=\"url(#clip9002)\" style=\"fill:#009af9; fill-opacity:1\" points=\"\n  469.818,1503.47 458.506,1498.79 453.818,1487.47 458.506,1476.16 469.818,1471.47 481.13,1476.16 485.818,1487.47 481.13,1498.79 \n  \"/>\n<polygon clip-path=\"url(#clip9002)\" style=\"fill:#000000; fill-opacity:1\" points=\"\n  490.516,1507.47 476.376,1501.61 470.516,1487.47 476.376,1473.33 490.516,1467.47 504.656,1473.33 510.516,1487.47 504.656,1501.61 \n  \"/>\n<polygon clip-path=\"url(#clip9002)\" style=\"fill:#009af9; fill-opacity:1\" points=\"\n  490.516,1503.47 479.204,1498.79 474.516,1487.47 479.204,1476.16 490.516,1471.47 501.828,1476.16 506.516,1487.47 501.828,1498.79 \n  \"/>\n<polygon clip-path=\"url(#clip9002)\" style=\"fill:#000000; fill-opacity:1\" points=\"\n  511.215,1507.47 497.075,1501.61 491.215,1487.47 497.075,1473.33 511.215,1467.47 525.355,1473.33 531.215,1487.47 525.355,1501.61 \n  \"/>\n<polygon clip-path=\"url(#clip9002)\" style=\"fill:#009af9; fill-opacity:1\" points=\"\n  511.215,1503.47 499.903,1498.79 495.215,1487.47 499.903,1476.16 511.215,1471.47 522.527,1476.16 527.215,1487.47 522.527,1498.79 \n  \"/>\n<polygon clip-path=\"url(#clip9002)\" style=\"fill:#000000; fill-opacity:1\" points=\"\n  531.913,1507.47 517.773,1501.61 511.913,1487.47 517.773,1473.33 531.913,1467.47 546.053,1473.33 551.913,1487.47 546.053,1501.61 \n  \"/>\n<polygon clip-path=\"url(#clip9002)\" style=\"fill:#009af9; fill-opacity:1\" points=\"\n  531.913,1503.47 520.601,1498.79 515.913,1487.47 520.601,1476.16 531.913,1471.47 543.225,1476.16 547.913,1487.47 543.225,1498.79 \n  \"/>\n<polygon clip-path=\"url(#clip9002)\" style=\"fill:#000000; fill-opacity:1\" points=\"\n  552.612,1507.47 538.472,1501.61 532.612,1487.47 538.472,1473.33 552.612,1467.47 566.752,1473.33 572.612,1487.47 566.752,1501.61 \n  \"/>\n<polygon clip-path=\"url(#clip9002)\" style=\"fill:#009af9; fill-opacity:1\" points=\"\n  552.612,1503.47 541.3,1498.79 536.612,1487.47 541.3,1476.16 552.612,1471.47 563.924,1476.16 568.612,1487.47 563.924,1498.79 \n  \"/>\n<polygon clip-path=\"url(#clip9002)\" style=\"fill:#000000; fill-opacity:1\" points=\"\n  573.31,1507.47 559.17,1501.61 553.31,1487.47 559.17,1473.33 573.31,1467.47 587.45,1473.33 593.31,1487.47 587.45,1501.61 \n  \"/>\n<polygon clip-path=\"url(#clip9002)\" style=\"fill:#009af9; fill-opacity:1\" points=\"\n  573.31,1503.47 561.998,1498.78 557.31,1487.47 561.998,1476.16 573.31,1471.47 584.622,1476.16 589.31,1487.47 584.622,1498.78 \n  \"/>\n<polygon clip-path=\"url(#clip9002)\" style=\"fill:#000000; fill-opacity:1\" points=\"\n  594.008,1507.47 579.868,1501.61 574.008,1487.47 579.868,1473.33 594.008,1467.47 608.148,1473.33 614.008,1487.47 608.148,1501.61 \n  \"/>\n<polygon clip-path=\"url(#clip9002)\" style=\"fill:#009af9; fill-opacity:1\" points=\"\n  594.008,1503.47 582.696,1498.79 578.008,1487.47 582.696,1476.16 594.008,1471.47 605.32,1476.16 610.008,1487.47 605.32,1498.79 \n  \"/>\n<polygon clip-path=\"url(#clip9002)\" style=\"fill:#000000; fill-opacity:1\" points=\"\n  614.707,1507.45 600.567,1501.59 594.707,1487.45 600.567,1473.31 614.707,1467.45 628.847,1473.31 634.707,1487.45 628.847,1501.59 \n  \"/>\n<polygon clip-path=\"url(#clip9002)\" style=\"fill:#009af9; fill-opacity:1\" points=\"\n  614.707,1503.45 603.395,1498.77 598.707,1487.45 603.395,1476.14 614.707,1471.45 626.019,1476.14 630.707,1487.45 626.019,1498.77 \n  \"/>\n<polygon clip-path=\"url(#clip9002)\" style=\"fill:#000000; fill-opacity:1\" points=\"\n  635.405,1507.47 621.265,1501.61 615.405,1487.47 621.265,1473.33 635.405,1467.47 649.545,1473.33 655.405,1487.47 649.545,1501.61 \n  \"/>\n<polygon clip-path=\"url(#clip9002)\" style=\"fill:#009af9; fill-opacity:1\" points=\"\n  635.405,1503.47 624.093,1498.79 619.405,1487.47 624.093,1476.16 635.405,1471.47 646.717,1476.16 651.405,1487.47 646.717,1498.79 \n  \"/>\n<polygon clip-path=\"url(#clip9002)\" style=\"fill:#000000; fill-opacity:1\" points=\"\n  656.104,1507.39 641.964,1501.53 636.104,1487.39 641.964,1473.25 656.104,1467.39 670.244,1473.25 676.104,1487.39 670.244,1501.53 \n  \"/>\n<polygon clip-path=\"url(#clip9002)\" style=\"fill:#009af9; fill-opacity:1\" points=\"\n  656.104,1503.39 644.792,1498.7 640.104,1487.39 644.792,1476.08 656.104,1471.39 667.416,1476.08 672.104,1487.39 667.416,1498.7 \n  \"/>\n<polygon clip-path=\"url(#clip9002)\" style=\"fill:#000000; fill-opacity:1\" points=\"\n  676.802,1507.47 662.662,1501.61 656.802,1487.47 662.662,1473.33 676.802,1467.47 690.942,1473.33 696.802,1487.47 690.942,1501.61 \n  \"/>\n<polygon clip-path=\"url(#clip9002)\" style=\"fill:#009af9; fill-opacity:1\" points=\"\n  676.802,1503.47 665.49,1498.79 660.802,1487.47 665.49,1476.16 676.802,1471.47 688.114,1476.16 692.802,1487.47 688.114,1498.79 \n  \"/>\n<polygon clip-path=\"url(#clip9002)\" style=\"fill:#000000; fill-opacity:1\" points=\"\n  697.501,1507.18 683.361,1501.32 677.501,1487.18 683.361,1473.04 697.501,1467.18 711.641,1473.04 717.501,1487.18 711.641,1501.32 \n  \"/>\n<polygon clip-path=\"url(#clip9002)\" style=\"fill:#009af9; fill-opacity:1\" points=\"\n  697.501,1503.18 686.189,1498.49 681.501,1487.18 686.189,1475.86 697.501,1471.18 708.813,1475.86 713.501,1487.18 708.813,1498.49 \n  \"/>\n<polygon clip-path=\"url(#clip9002)\" style=\"fill:#000000; fill-opacity:1\" points=\"\n  718.199,1507.47 704.059,1501.61 698.199,1487.47 704.059,1473.33 718.199,1467.47 732.339,1473.33 738.199,1487.47 732.339,1501.61 \n  \"/>\n<polygon clip-path=\"url(#clip9002)\" style=\"fill:#009af9; fill-opacity:1\" points=\"\n  718.199,1503.47 706.887,1498.79 702.199,1487.47 706.887,1476.16 718.199,1471.47 729.511,1476.16 734.199,1487.47 729.511,1498.79 \n  \"/>\n<polygon clip-path=\"url(#clip9002)\" style=\"fill:#000000; fill-opacity:1\" points=\"\n  738.898,1506.53 724.758,1500.67 718.898,1486.53 724.758,1472.39 738.898,1466.53 753.038,1472.39 758.898,1486.53 753.038,1500.67 \n  \"/>\n<polygon clip-path=\"url(#clip9002)\" style=\"fill:#009af9; fill-opacity:1\" points=\"\n  738.898,1502.53 727.586,1497.84 722.898,1486.53 727.586,1475.22 738.898,1470.53 750.21,1475.22 754.898,1486.53 750.21,1497.84 \n  \"/>\n<polygon clip-path=\"url(#clip9002)\" style=\"fill:#000000; fill-opacity:1\" points=\"\n  759.596,1507.47 745.456,1501.61 739.596,1487.47 745.456,1473.33 759.596,1467.47 773.736,1473.33 779.596,1487.47 773.736,1501.61 \n  \"/>\n<polygon clip-path=\"url(#clip9002)\" style=\"fill:#009af9; fill-opacity:1\" points=\"\n  759.596,1503.47 748.284,1498.79 743.596,1487.47 748.284,1476.16 759.596,1471.47 770.908,1476.16 775.596,1487.47 770.908,1498.79 \n  \"/>\n<polygon clip-path=\"url(#clip9002)\" style=\"fill:#000000; fill-opacity:1\" points=\"\n  780.294,1504.79 766.154,1498.93 760.294,1484.79 766.154,1470.65 780.294,1464.79 794.434,1470.65 800.294,1484.79 794.434,1498.93 \n  \"/>\n<polygon clip-path=\"url(#clip9002)\" style=\"fill:#009af9; fill-opacity:1\" points=\"\n  780.294,1500.79 768.982,1496.1 764.294,1484.79 768.982,1473.48 780.294,1468.79 791.606,1473.48 796.294,1484.79 791.606,1496.1 \n  \"/>\n<polygon clip-path=\"url(#clip9002)\" style=\"fill:#000000; fill-opacity:1\" points=\"\n  800.993,1507.47 786.853,1501.61 780.993,1487.47 786.853,1473.33 800.993,1467.47 815.133,1473.33 820.993,1487.47 815.133,1501.61 \n  \"/>\n<polygon clip-path=\"url(#clip9002)\" style=\"fill:#009af9; fill-opacity:1\" points=\"\n  800.993,1503.47 789.681,1498.79 784.993,1487.47 789.681,1476.16 800.993,1471.47 812.305,1476.16 816.993,1487.47 812.305,1498.79 \n  \"/>\n<polygon clip-path=\"url(#clip9002)\" style=\"fill:#000000; fill-opacity:1\" points=\"\n  821.691,1500.56 807.551,1494.7 801.691,1480.56 807.551,1466.42 821.691,1460.56 835.831,1466.42 841.691,1480.56 835.831,1494.7 \n  \"/>\n<polygon clip-path=\"url(#clip9002)\" style=\"fill:#009af9; fill-opacity:1\" points=\"\n  821.691,1496.56 810.379,1491.88 805.691,1480.56 810.379,1469.25 821.691,1464.56 833.003,1469.25 837.691,1480.56 833.003,1491.88 \n  \"/>\n<polygon clip-path=\"url(#clip9002)\" style=\"fill:#000000; fill-opacity:1\" points=\"\n  842.39,1507.47 828.25,1501.61 822.39,1487.47 828.25,1473.33 842.39,1467.47 856.53,1473.33 862.39,1487.47 856.53,1501.61 \n  \"/>\n<polygon clip-path=\"url(#clip9002)\" style=\"fill:#009af9; fill-opacity:1\" points=\"\n  842.39,1503.47 831.078,1498.79 826.39,1487.47 831.078,1476.16 842.39,1471.47 853.702,1476.16 858.39,1487.47 853.702,1498.79 \n  \"/>\n<polygon clip-path=\"url(#clip9002)\" style=\"fill:#000000; fill-opacity:1\" points=\"\n  863.088,1491.35 848.948,1485.49 843.088,1471.35 848.948,1457.21 863.088,1451.35 877.228,1457.21 883.088,1471.35 877.228,1485.49 \n  \"/>\n<polygon clip-path=\"url(#clip9002)\" style=\"fill:#009af9; fill-opacity:1\" points=\"\n  863.088,1487.35 851.776,1482.66 847.088,1471.35 851.776,1460.04 863.088,1455.35 874.4,1460.04 879.088,1471.35 874.4,1482.66 \n  \"/>\n<polygon clip-path=\"url(#clip9002)\" style=\"fill:#000000; fill-opacity:1\" points=\"\n  883.787,1507.47 869.647,1501.61 863.787,1487.47 869.647,1473.33 883.787,1467.47 897.927,1473.33 903.787,1487.47 897.927,1501.61 \n  \"/>\n<polygon clip-path=\"url(#clip9002)\" style=\"fill:#009af9; fill-opacity:1\" points=\"\n  883.787,1503.47 872.475,1498.79 867.787,1487.47 872.475,1476.16 883.787,1471.47 895.099,1476.16 899.787,1487.47 895.099,1498.79 \n  \"/>\n<polygon clip-path=\"url(#clip9002)\" style=\"fill:#000000; fill-opacity:1\" points=\"\n  904.485,1473.21 890.345,1467.35 884.485,1453.21 890.345,1439.07 904.485,1433.21 918.625,1439.07 924.485,1453.21 918.625,1467.35 \n  \"/>\n<polygon clip-path=\"url(#clip9002)\" style=\"fill:#009af9; fill-opacity:1\" points=\"\n  904.485,1469.21 893.173,1464.52 888.485,1453.21 893.173,1441.9 904.485,1437.21 915.797,1441.9 920.485,1453.21 915.797,1464.52 \n  \"/>\n<polygon clip-path=\"url(#clip9002)\" style=\"fill:#000000; fill-opacity:1\" points=\"\n  925.184,1507.47 911.044,1501.61 905.184,1487.47 911.044,1473.33 925.184,1467.47 939.324,1473.33 945.184,1487.47 939.324,1501.61 \n  \"/>\n<polygon clip-path=\"url(#clip9002)\" style=\"fill:#009af9; fill-opacity:1\" points=\"\n  925.184,1503.47 913.872,1498.79 909.184,1487.47 913.872,1476.16 925.184,1471.47 936.496,1476.16 941.184,1487.47 936.496,1498.79 \n  \"/>\n<polygon clip-path=\"url(#clip9002)\" style=\"fill:#000000; fill-opacity:1\" points=\"\n  945.882,1440.96 931.742,1435.1 925.882,1420.96 931.742,1406.82 945.882,1400.96 960.022,1406.82 965.882,1420.96 960.022,1435.1 \n  \"/>\n<polygon clip-path=\"url(#clip9002)\" style=\"fill:#009af9; fill-opacity:1\" points=\"\n  945.882,1436.96 934.57,1432.28 929.882,1420.96 934.57,1409.65 945.882,1404.96 957.194,1409.65 961.882,1420.96 957.194,1432.28 \n  \"/>\n<polygon clip-path=\"url(#clip9002)\" style=\"fill:#000000; fill-opacity:1\" points=\"\n  966.581,1507.47 952.441,1501.61 946.581,1487.47 952.441,1473.33 966.581,1467.47 980.721,1473.33 986.581,1487.47 980.721,1501.61 \n  \"/>\n<polygon clip-path=\"url(#clip9002)\" style=\"fill:#009af9; fill-opacity:1\" points=\"\n  966.581,1503.47 955.269,1498.79 950.581,1487.47 955.269,1476.16 966.581,1471.47 977.893,1476.16 982.581,1487.47 977.893,1498.79 \n  \"/>\n<polygon clip-path=\"url(#clip9002)\" style=\"fill:#000000; fill-opacity:1\" points=\"\n  987.279,1389.23 973.139,1383.37 967.279,1369.23 973.139,1355.09 987.279,1349.23 1001.42,1355.09 1007.28,1369.23 1001.42,1383.37 \n  \"/>\n<polygon clip-path=\"url(#clip9002)\" style=\"fill:#009af9; fill-opacity:1\" points=\"\n  987.279,1385.23 975.967,1380.55 971.279,1369.23 975.967,1357.92 987.279,1353.23 998.591,1357.92 1003.28,1369.23 998.591,1380.55 \n  \"/>\n<polygon clip-path=\"url(#clip9002)\" style=\"fill:#000000; fill-opacity:1\" points=\"\n  1007.98,1507.47 993.837,1501.61 987.977,1487.47 993.837,1473.33 1007.98,1467.47 1022.12,1473.33 1027.98,1487.47 1022.12,1501.61 \n  \"/>\n<polygon clip-path=\"url(#clip9002)\" style=\"fill:#009af9; fill-opacity:1\" points=\"\n  1007.98,1503.47 996.665,1498.79 991.977,1487.47 996.665,1476.16 1007.98,1471.47 1019.29,1476.16 1023.98,1487.47 1019.29,1498.79 \n  \"/>\n<polygon clip-path=\"url(#clip9002)\" style=\"fill:#000000; fill-opacity:1\" points=\"\n  1028.68,1314.56 1014.54,1308.7 1008.68,1294.56 1014.54,1280.42 1028.68,1274.56 1042.82,1280.42 1048.68,1294.56 1042.82,1308.7 \n  \"/>\n<polygon clip-path=\"url(#clip9002)\" style=\"fill:#009af9; fill-opacity:1\" points=\"\n  1028.68,1310.56 1017.36,1305.87 1012.68,1294.56 1017.36,1283.24 1028.68,1278.56 1039.99,1283.24 1044.68,1294.56 1039.99,1305.87 \n  \"/>\n<polygon clip-path=\"url(#clip9002)\" style=\"fill:#000000; fill-opacity:1\" points=\"\n  1049.37,1507.47 1035.23,1501.61 1029.37,1487.47 1035.23,1473.33 1049.37,1467.47 1063.51,1473.33 1069.37,1487.47 1063.51,1501.61 \n  \"/>\n<polygon clip-path=\"url(#clip9002)\" style=\"fill:#009af9; fill-opacity:1\" points=\"\n  1049.37,1503.47 1038.06,1498.79 1033.37,1487.47 1038.06,1476.16 1049.37,1471.47 1060.69,1476.16 1065.37,1487.47 1060.69,1498.79 \n  \"/>\n<polygon clip-path=\"url(#clip9002)\" style=\"fill:#000000; fill-opacity:1\" points=\"\n  1070.07,1218.1 1055.93,1212.24 1050.07,1198.1 1055.93,1183.96 1070.07,1178.1 1084.21,1183.96 1090.07,1198.1 1084.21,1212.24 \n  \"/>\n<polygon clip-path=\"url(#clip9002)\" style=\"fill:#009af9; fill-opacity:1\" points=\"\n  1070.07,1214.1 1058.76,1209.41 1054.07,1198.1 1058.76,1186.79 1070.07,1182.1 1081.38,1186.79 1086.07,1198.1 1081.38,1209.41 \n  \"/>\n<polygon clip-path=\"url(#clip9002)\" style=\"fill:#000000; fill-opacity:1\" points=\"\n  1090.77,1507.47 1076.63,1501.61 1070.77,1487.47 1076.63,1473.33 1090.77,1467.47 1104.91,1473.33 1110.77,1487.47 1104.91,1501.61 \n  \"/>\n<polygon clip-path=\"url(#clip9002)\" style=\"fill:#009af9; fill-opacity:1\" points=\"\n  1090.77,1503.47 1079.46,1498.79 1074.77,1487.47 1079.46,1476.16 1090.77,1471.47 1102.08,1476.16 1106.77,1487.47 1102.08,1498.79 \n  \"/>\n<polygon clip-path=\"url(#clip9002)\" style=\"fill:#000000; fill-opacity:1\" points=\"\n  1111.47,1107.86 1097.33,1102 1091.47,1087.86 1097.33,1073.72 1111.47,1067.86 1125.61,1073.72 1131.47,1087.86 1125.61,1102 \n  \"/>\n<polygon clip-path=\"url(#clip9002)\" style=\"fill:#009af9; fill-opacity:1\" points=\"\n  1111.47,1103.86 1100.16,1099.17 1095.47,1087.86 1100.16,1076.55 1111.47,1071.86 1122.78,1076.55 1127.47,1087.86 1122.78,1099.17 \n  \"/>\n<polygon clip-path=\"url(#clip9002)\" style=\"fill:#000000; fill-opacity:1\" points=\"\n  1132.17,1507.47 1118.03,1501.61 1112.17,1487.47 1118.03,1473.33 1132.17,1467.47 1146.31,1473.33 1152.17,1487.47 1146.31,1501.61 \n  \"/>\n<polygon clip-path=\"url(#clip9002)\" style=\"fill:#009af9; fill-opacity:1\" points=\"\n  1132.17,1503.47 1120.86,1498.79 1116.17,1487.47 1120.86,1476.16 1132.17,1471.47 1143.48,1476.16 1148.17,1487.47 1143.48,1498.79 \n  \"/>\n<polygon clip-path=\"url(#clip9002)\" style=\"fill:#000000; fill-opacity:1\" points=\"\n  1152.87,998.873 1138.73,993.013 1132.87,978.873 1138.73,964.733 1152.87,958.873 1167.01,964.733 1172.87,978.873 1167.01,993.013 \n  \"/>\n<polygon clip-path=\"url(#clip9002)\" style=\"fill:#009af9; fill-opacity:1\" points=\"\n  1152.87,994.873 1141.55,990.185 1136.87,978.873 1141.55,967.561 1152.87,962.873 1164.18,967.561 1168.87,978.873 1164.18,990.185 \n  \"/>\n<polygon clip-path=\"url(#clip9002)\" style=\"fill:#000000; fill-opacity:1\" points=\"\n  1173.57,1507.47 1159.43,1501.61 1153.57,1487.47 1159.43,1473.33 1173.57,1467.47 1187.71,1473.33 1193.57,1487.47 1187.71,1501.61 \n  \"/>\n<polygon clip-path=\"url(#clip9002)\" style=\"fill:#009af9; fill-opacity:1\" points=\"\n  1173.57,1503.47 1162.25,1498.79 1157.57,1487.47 1162.25,1476.16 1173.57,1471.47 1184.88,1476.16 1189.57,1487.47 1184.88,1498.79 \n  \"/>\n<polygon clip-path=\"url(#clip9002)\" style=\"fill:#000000; fill-opacity:1\" points=\"\n  1194.26,910.421 1180.12,904.561 1174.26,890.421 1180.12,876.281 1194.26,870.421 1208.4,876.281 1214.26,890.421 1208.4,904.561 \n  \"/>\n<polygon clip-path=\"url(#clip9002)\" style=\"fill:#009af9; fill-opacity:1\" points=\"\n  1194.26,906.421 1182.95,901.733 1178.26,890.421 1182.95,879.109 1194.26,874.421 1205.58,879.109 1210.26,890.421 1205.58,901.733 \n  \"/>\n<polygon clip-path=\"url(#clip9002)\" style=\"fill:#000000; fill-opacity:1\" points=\"\n  1214.96,1507.47 1200.82,1501.61 1194.96,1487.47 1200.82,1473.33 1214.96,1467.47 1229.1,1473.33 1234.96,1487.47 1229.1,1501.61 \n  \"/>\n<polygon clip-path=\"url(#clip9002)\" style=\"fill:#009af9; fill-opacity:1\" points=\"\n  1214.96,1503.47 1203.65,1498.79 1198.96,1487.47 1203.65,1476.16 1214.96,1471.47 1226.27,1476.16 1230.96,1487.47 1226.27,1498.79 \n  \"/>\n<polygon clip-path=\"url(#clip9002)\" style=\"fill:#000000; fill-opacity:1\" points=\"\n  1235.66,860.666 1221.52,854.806 1215.66,840.666 1221.52,826.526 1235.66,820.666 1249.8,826.526 1255.66,840.666 1249.8,854.806 \n  \"/>\n<polygon clip-path=\"url(#clip9002)\" style=\"fill:#009af9; fill-opacity:1\" points=\"\n  1235.66,856.666 1224.35,851.978 1219.66,840.666 1224.35,829.354 1235.66,824.666 1246.97,829.354 1251.66,840.666 1246.97,851.978 \n  \"/>\n<polygon clip-path=\"url(#clip9002)\" style=\"fill:#000000; fill-opacity:1\" points=\"\n  1256.36,1507.47 1242.22,1501.61 1236.36,1487.47 1242.22,1473.33 1256.36,1467.47 1270.5,1473.33 1276.36,1487.47 1270.5,1501.61 \n  \"/>\n<polygon clip-path=\"url(#clip9002)\" style=\"fill:#009af9; fill-opacity:1\" points=\"\n  1256.36,1503.47 1245.05,1498.79 1240.36,1487.47 1245.05,1476.16 1256.36,1471.47 1267.67,1476.16 1272.36,1487.47 1267.67,1498.79 \n  \"/>\n<polygon clip-path=\"url(#clip9002)\" style=\"fill:#000000; fill-opacity:1\" points=\"\n  1277.06,860.666 1262.92,854.806 1257.06,840.666 1262.92,826.526 1277.06,820.666 1291.2,826.526 1297.06,840.666 1291.2,854.806 \n  \"/>\n<polygon clip-path=\"url(#clip9002)\" style=\"fill:#009af9; fill-opacity:1\" points=\"\n  1277.06,856.666 1265.75,851.978 1261.06,840.666 1265.75,829.354 1277.06,824.666 1288.37,829.354 1293.06,840.666 1288.37,851.978 \n  \"/>\n<polygon clip-path=\"url(#clip9002)\" style=\"fill:#000000; fill-opacity:1\" points=\"\n  1297.76,1507.47 1283.62,1501.61 1277.76,1487.47 1283.62,1473.33 1297.76,1467.47 1311.9,1473.33 1317.76,1487.47 1311.9,1501.61 \n  \"/>\n<polygon clip-path=\"url(#clip9002)\" style=\"fill:#009af9; fill-opacity:1\" points=\"\n  1297.76,1503.47 1286.44,1498.79 1281.76,1487.47 1286.44,1476.16 1297.76,1471.47 1309.07,1476.16 1313.76,1487.47 1309.07,1498.79 \n  \"/>\n<polygon clip-path=\"url(#clip9002)\" style=\"fill:#000000; fill-opacity:1\" points=\"\n  1318.45,910.421 1304.31,904.561 1298.45,890.421 1304.31,876.281 1318.45,870.421 1332.59,876.281 1338.45,890.421 1332.59,904.561 \n  \"/>\n<polygon clip-path=\"url(#clip9002)\" style=\"fill:#009af9; fill-opacity:1\" points=\"\n  1318.45,906.421 1307.14,901.733 1302.45,890.421 1307.14,879.109 1318.45,874.421 1329.77,879.109 1334.45,890.421 1329.77,901.733 \n  \"/>\n<polygon clip-path=\"url(#clip9002)\" style=\"fill:#000000; fill-opacity:1\" points=\"\n  1339.15,1507.47 1325.01,1501.61 1319.15,1487.47 1325.01,1473.33 1339.15,1467.47 1353.29,1473.33 1359.15,1487.47 1353.29,1501.61 \n  \"/>\n<polygon clip-path=\"url(#clip9002)\" style=\"fill:#009af9; fill-opacity:1\" points=\"\n  1339.15,1503.47 1327.84,1498.79 1323.15,1487.47 1327.84,1476.16 1339.15,1471.47 1350.46,1476.16 1355.15,1487.47 1350.46,1498.79 \n  \"/>\n<polygon clip-path=\"url(#clip9002)\" style=\"fill:#000000; fill-opacity:1\" points=\"\n  1359.85,998.873 1345.71,993.013 1339.85,978.873 1345.71,964.733 1359.85,958.873 1373.99,964.733 1379.85,978.873 1373.99,993.013 \n  \"/>\n<polygon clip-path=\"url(#clip9002)\" style=\"fill:#009af9; fill-opacity:1\" points=\"\n  1359.85,994.873 1348.54,990.185 1343.85,978.873 1348.54,967.561 1359.85,962.873 1371.16,967.561 1375.85,978.873 1371.16,990.185 \n  \"/>\n<polygon clip-path=\"url(#clip9002)\" style=\"fill:#000000; fill-opacity:1\" points=\"\n  1380.55,1507.47 1366.41,1501.61 1360.55,1487.47 1366.41,1473.33 1380.55,1467.47 1394.69,1473.33 1400.55,1487.47 1394.69,1501.61 \n  \"/>\n<polygon clip-path=\"url(#clip9002)\" style=\"fill:#009af9; fill-opacity:1\" points=\"\n  1380.55,1503.47 1369.24,1498.79 1364.55,1487.47 1369.24,1476.16 1380.55,1471.47 1391.86,1476.16 1396.55,1487.47 1391.86,1498.79 \n  \"/>\n<polygon clip-path=\"url(#clip9002)\" style=\"fill:#000000; fill-opacity:1\" points=\"\n  1401.25,1107.86 1387.11,1102 1381.25,1087.86 1387.11,1073.72 1401.25,1067.86 1415.39,1073.72 1421.25,1087.86 1415.39,1102 \n  \"/>\n<polygon clip-path=\"url(#clip9002)\" style=\"fill:#009af9; fill-opacity:1\" points=\"\n  1401.25,1103.86 1389.94,1099.17 1385.25,1087.86 1389.94,1076.55 1401.25,1071.86 1412.56,1076.55 1417.25,1087.86 1412.56,1099.17 \n  \"/>\n<polygon clip-path=\"url(#clip9002)\" style=\"fill:#000000; fill-opacity:1\" points=\"\n  1421.95,1507.47 1407.81,1501.61 1401.95,1487.47 1407.81,1473.33 1421.95,1467.47 1436.09,1473.33 1441.95,1487.47 1436.09,1501.61 \n  \"/>\n<polygon clip-path=\"url(#clip9002)\" style=\"fill:#009af9; fill-opacity:1\" points=\"\n  1421.95,1503.47 1410.63,1498.79 1405.95,1487.47 1410.63,1476.16 1421.95,1471.47 1433.26,1476.16 1437.95,1487.47 1433.26,1498.79 \n  \"/>\n<polygon clip-path=\"url(#clip9002)\" style=\"fill:#000000; fill-opacity:1\" points=\"\n  1442.64,1218.1 1428.5,1212.24 1422.64,1198.1 1428.5,1183.96 1442.64,1178.1 1456.78,1183.96 1462.64,1198.1 1456.78,1212.24 \n  \"/>\n<polygon clip-path=\"url(#clip9002)\" style=\"fill:#009af9; fill-opacity:1\" points=\"\n  1442.64,1214.1 1431.33,1209.41 1426.64,1198.1 1431.33,1186.79 1442.64,1182.1 1453.96,1186.79 1458.64,1198.1 1453.96,1209.41 \n  \"/>\n<polygon clip-path=\"url(#clip9002)\" style=\"fill:#000000; fill-opacity:1\" points=\"\n  1463.34,1507.47 1449.2,1501.61 1443.34,1487.47 1449.2,1473.33 1463.34,1467.47 1477.48,1473.33 1483.34,1487.47 1477.48,1501.61 \n  \"/>\n<polygon clip-path=\"url(#clip9002)\" style=\"fill:#009af9; fill-opacity:1\" points=\"\n  1463.34,1503.47 1452.03,1498.79 1447.34,1487.47 1452.03,1476.16 1463.34,1471.47 1474.66,1476.16 1479.34,1487.47 1474.66,1498.79 \n  \"/>\n<polygon clip-path=\"url(#clip9002)\" style=\"fill:#000000; fill-opacity:1\" points=\"\n  1484.04,1314.56 1469.9,1308.7 1464.04,1294.56 1469.9,1280.42 1484.04,1274.56 1498.18,1280.42 1504.04,1294.56 1498.18,1308.7 \n  \"/>\n<polygon clip-path=\"url(#clip9002)\" style=\"fill:#009af9; fill-opacity:1\" points=\"\n  1484.04,1310.56 1472.73,1305.87 1468.04,1294.56 1472.73,1283.24 1484.04,1278.56 1495.35,1283.24 1500.04,1294.56 1495.35,1305.87 \n  \"/>\n<polygon clip-path=\"url(#clip9002)\" style=\"fill:#000000; fill-opacity:1\" points=\"\n  1504.74,1507.47 1490.6,1501.61 1484.74,1487.47 1490.6,1473.33 1504.74,1467.47 1518.88,1473.33 1524.74,1487.47 1518.88,1501.61 \n  \"/>\n<polygon clip-path=\"url(#clip9002)\" style=\"fill:#009af9; fill-opacity:1\" points=\"\n  1504.74,1503.47 1493.43,1498.79 1488.74,1487.47 1493.43,1476.16 1504.74,1471.47 1516.05,1476.16 1520.74,1487.47 1516.05,1498.79 \n  \"/>\n<polygon clip-path=\"url(#clip9002)\" style=\"fill:#000000; fill-opacity:1\" points=\"\n  1525.44,1389.23 1511.3,1383.37 1505.44,1369.23 1511.3,1355.09 1525.44,1349.23 1539.58,1355.09 1545.44,1369.23 1539.58,1383.37 \n  \"/>\n<polygon clip-path=\"url(#clip9002)\" style=\"fill:#009af9; fill-opacity:1\" points=\"\n  1525.44,1385.23 1514.13,1380.55 1509.44,1369.23 1514.13,1357.92 1525.44,1353.23 1536.75,1357.92 1541.44,1369.23 1536.75,1380.55 \n  \"/>\n<polygon clip-path=\"url(#clip9002)\" style=\"fill:#000000; fill-opacity:1\" points=\"\n  1546.14,1507.47 1532,1501.61 1526.14,1487.47 1532,1473.33 1546.14,1467.47 1560.28,1473.33 1566.14,1487.47 1560.28,1501.61 \n  \"/>\n<polygon clip-path=\"url(#clip9002)\" style=\"fill:#009af9; fill-opacity:1\" points=\"\n  1546.14,1503.47 1534.83,1498.79 1530.14,1487.47 1534.83,1476.16 1546.14,1471.47 1557.45,1476.16 1562.14,1487.47 1557.45,1498.79 \n  \"/>\n<polygon clip-path=\"url(#clip9002)\" style=\"fill:#000000; fill-opacity:1\" points=\"\n  1566.84,1440.96 1552.7,1435.1 1546.84,1420.96 1552.7,1406.82 1566.84,1400.96 1580.98,1406.82 1586.84,1420.96 1580.98,1435.1 \n  \"/>\n<polygon clip-path=\"url(#clip9002)\" style=\"fill:#009af9; fill-opacity:1\" points=\"\n  1566.84,1436.96 1555.52,1432.28 1550.84,1420.96 1555.52,1409.65 1566.84,1404.96 1578.15,1409.65 1582.84,1420.96 1578.15,1432.28 \n  \"/>\n<polygon clip-path=\"url(#clip9002)\" style=\"fill:#000000; fill-opacity:1\" points=\"\n  1587.53,1507.47 1573.39,1501.61 1567.53,1487.47 1573.39,1473.33 1587.53,1467.47 1601.67,1473.33 1607.53,1487.47 1601.67,1501.61 \n  \"/>\n<polygon clip-path=\"url(#clip9002)\" style=\"fill:#009af9; fill-opacity:1\" points=\"\n  1587.53,1503.47 1576.22,1498.79 1571.53,1487.47 1576.22,1476.16 1587.53,1471.47 1598.85,1476.16 1603.53,1487.47 1598.85,1498.79 \n  \"/>\n<polygon clip-path=\"url(#clip9002)\" style=\"fill:#000000; fill-opacity:1\" points=\"\n  1608.23,1473.21 1594.09,1467.35 1588.23,1453.21 1594.09,1439.07 1608.23,1433.21 1622.37,1439.07 1628.23,1453.21 1622.37,1467.35 \n  \"/>\n<polygon clip-path=\"url(#clip9002)\" style=\"fill:#009af9; fill-opacity:1\" points=\"\n  1608.23,1469.21 1596.92,1464.52 1592.23,1453.21 1596.92,1441.9 1608.23,1437.21 1619.54,1441.9 1624.23,1453.21 1619.54,1464.52 \n  \"/>\n<polygon clip-path=\"url(#clip9002)\" style=\"fill:#000000; fill-opacity:1\" points=\"\n  1628.93,1507.47 1614.79,1501.61 1608.93,1487.47 1614.79,1473.33 1628.93,1467.47 1643.07,1473.33 1648.93,1487.47 1643.07,1501.61 \n  \"/>\n<polygon clip-path=\"url(#clip9002)\" style=\"fill:#009af9; fill-opacity:1\" points=\"\n  1628.93,1503.47 1617.62,1498.79 1612.93,1487.47 1617.62,1476.16 1628.93,1471.47 1640.24,1476.16 1644.93,1487.47 1640.24,1498.79 \n  \"/>\n<polygon clip-path=\"url(#clip9002)\" style=\"fill:#000000; fill-opacity:1\" points=\"\n  1649.63,1491.35 1635.49,1485.49 1629.63,1471.35 1635.49,1457.21 1649.63,1451.35 1663.77,1457.21 1669.63,1471.35 1663.77,1485.49 \n  \"/>\n<polygon clip-path=\"url(#clip9002)\" style=\"fill:#009af9; fill-opacity:1\" points=\"\n  1649.63,1487.35 1638.32,1482.66 1633.63,1471.35 1638.32,1460.04 1649.63,1455.35 1660.94,1460.04 1665.63,1471.35 1660.94,1482.66 \n  \"/>\n<polygon clip-path=\"url(#clip9002)\" style=\"fill:#000000; fill-opacity:1\" points=\"\n  1670.33,1507.47 1656.19,1501.61 1650.33,1487.47 1656.19,1473.33 1670.33,1467.47 1684.47,1473.33 1690.33,1487.47 1684.47,1501.61 \n  \"/>\n<polygon clip-path=\"url(#clip9002)\" style=\"fill:#009af9; fill-opacity:1\" points=\"\n  1670.33,1503.47 1659.02,1498.79 1654.33,1487.47 1659.02,1476.16 1670.33,1471.47 1681.64,1476.16 1686.33,1487.47 1681.64,1498.79 \n  \"/>\n<polygon clip-path=\"url(#clip9002)\" style=\"fill:#000000; fill-opacity:1\" points=\"\n  1691.03,1500.56 1676.89,1494.7 1671.03,1480.56 1676.89,1466.42 1691.03,1460.56 1705.17,1466.42 1711.03,1480.56 1705.17,1494.7 \n  \"/>\n<polygon clip-path=\"url(#clip9002)\" style=\"fill:#009af9; fill-opacity:1\" points=\"\n  1691.03,1496.56 1679.71,1491.88 1675.03,1480.56 1679.71,1469.25 1691.03,1464.56 1702.34,1469.25 1707.03,1480.56 1702.34,1491.88 \n  \"/>\n<polygon clip-path=\"url(#clip9002)\" style=\"fill:#000000; fill-opacity:1\" points=\"\n  1711.72,1507.47 1697.58,1501.61 1691.72,1487.47 1697.58,1473.33 1711.72,1467.47 1725.86,1473.33 1731.72,1487.47 1725.86,1501.61 \n  \"/>\n<polygon clip-path=\"url(#clip9002)\" style=\"fill:#009af9; fill-opacity:1\" points=\"\n  1711.72,1503.47 1700.41,1498.79 1695.72,1487.47 1700.41,1476.16 1711.72,1471.47 1723.04,1476.16 1727.72,1487.47 1723.04,1498.79 \n  \"/>\n<polygon clip-path=\"url(#clip9002)\" style=\"fill:#000000; fill-opacity:1\" points=\"\n  1732.42,1504.79 1718.28,1498.93 1712.42,1484.79 1718.28,1470.65 1732.42,1464.79 1746.56,1470.65 1752.42,1484.79 1746.56,1498.93 \n  \"/>\n<polygon clip-path=\"url(#clip9002)\" style=\"fill:#009af9; fill-opacity:1\" points=\"\n  1732.42,1500.79 1721.11,1496.1 1716.42,1484.79 1721.11,1473.48 1732.42,1468.79 1743.74,1473.48 1748.42,1484.79 1743.74,1496.1 \n  \"/>\n<polygon clip-path=\"url(#clip9002)\" style=\"fill:#000000; fill-opacity:1\" points=\"\n  1753.12,1507.47 1738.98,1501.61 1733.12,1487.47 1738.98,1473.33 1753.12,1467.47 1767.26,1473.33 1773.12,1487.47 1767.26,1501.61 \n  \"/>\n<polygon clip-path=\"url(#clip9002)\" style=\"fill:#009af9; fill-opacity:1\" points=\"\n  1753.12,1503.47 1741.81,1498.79 1737.12,1487.47 1741.81,1476.16 1753.12,1471.47 1764.43,1476.16 1769.12,1487.47 1764.43,1498.79 \n  \"/>\n<polygon clip-path=\"url(#clip9002)\" style=\"fill:#000000; fill-opacity:1\" points=\"\n  1773.82,1506.53 1759.68,1500.67 1753.82,1486.53 1759.68,1472.39 1773.82,1466.53 1787.96,1472.39 1793.82,1486.53 1787.96,1500.67 \n  \"/>\n<polygon clip-path=\"url(#clip9002)\" style=\"fill:#009af9; fill-opacity:1\" points=\"\n  1773.82,1502.53 1762.51,1497.84 1757.82,1486.53 1762.51,1475.22 1773.82,1470.53 1785.13,1475.22 1789.82,1486.53 1785.13,1497.84 \n  \"/>\n<polygon clip-path=\"url(#clip9002)\" style=\"fill:#000000; fill-opacity:1\" points=\"\n  1794.52,1507.47 1780.38,1501.61 1774.52,1487.47 1780.38,1473.33 1794.52,1467.47 1808.66,1473.33 1814.52,1487.47 1808.66,1501.61 \n  \"/>\n<polygon clip-path=\"url(#clip9002)\" style=\"fill:#009af9; fill-opacity:1\" points=\"\n  1794.52,1503.47 1783.21,1498.79 1778.52,1487.47 1783.21,1476.16 1794.52,1471.47 1805.83,1476.16 1810.52,1487.47 1805.83,1498.79 \n  \"/>\n<polygon clip-path=\"url(#clip9002)\" style=\"fill:#000000; fill-opacity:1\" points=\"\n  1815.22,1507.18 1801.08,1501.32 1795.22,1487.18 1801.08,1473.04 1815.22,1467.18 1829.36,1473.04 1835.22,1487.18 1829.36,1501.32 \n  \"/>\n<polygon clip-path=\"url(#clip9002)\" style=\"fill:#009af9; fill-opacity:1\" points=\"\n  1815.22,1503.18 1803.91,1498.49 1799.22,1487.18 1803.91,1475.86 1815.22,1471.18 1826.53,1475.86 1831.22,1487.18 1826.53,1498.49 \n  \"/>\n<polygon clip-path=\"url(#clip9002)\" style=\"fill:#000000; fill-opacity:1\" points=\"\n  1835.92,1507.47 1821.78,1501.61 1815.92,1487.47 1821.78,1473.33 1835.92,1467.47 1850.06,1473.33 1855.92,1487.47 1850.06,1501.61 \n  \"/>\n<polygon clip-path=\"url(#clip9002)\" style=\"fill:#009af9; fill-opacity:1\" points=\"\n  1835.92,1503.47 1824.6,1498.79 1819.92,1487.47 1824.6,1476.16 1835.92,1471.47 1847.23,1476.16 1851.92,1487.47 1847.23,1498.79 \n  \"/>\n<polygon clip-path=\"url(#clip9002)\" style=\"fill:#000000; fill-opacity:1\" points=\"\n  1856.61,1507.39 1842.47,1501.53 1836.61,1487.39 1842.47,1473.25 1856.61,1467.39 1870.75,1473.25 1876.61,1487.39 1870.75,1501.53 \n  \"/>\n<polygon clip-path=\"url(#clip9002)\" style=\"fill:#009af9; fill-opacity:1\" points=\"\n  1856.61,1503.39 1845.3,1498.7 1840.61,1487.39 1845.3,1476.08 1856.61,1471.39 1867.93,1476.08 1872.61,1487.39 1867.93,1498.7 \n  \"/>\n<polygon clip-path=\"url(#clip9002)\" style=\"fill:#000000; fill-opacity:1\" points=\"\n  1877.31,1507.47 1863.17,1501.61 1857.31,1487.47 1863.17,1473.33 1877.31,1467.47 1891.45,1473.33 1897.31,1487.47 1891.45,1501.61 \n  \"/>\n<polygon clip-path=\"url(#clip9002)\" style=\"fill:#009af9; fill-opacity:1\" points=\"\n  1877.31,1503.47 1866,1498.79 1861.31,1487.47 1866,1476.16 1877.31,1471.47 1888.62,1476.16 1893.31,1487.47 1888.62,1498.79 \n  \"/>\n<polygon clip-path=\"url(#clip9002)\" style=\"fill:#000000; fill-opacity:1\" points=\"\n  1898.01,1507.45 1883.87,1501.59 1878.01,1487.45 1883.87,1473.31 1898.01,1467.45 1912.15,1473.31 1918.01,1487.45 1912.15,1501.59 \n  \"/>\n<polygon clip-path=\"url(#clip9002)\" style=\"fill:#009af9; fill-opacity:1\" points=\"\n  1898.01,1503.45 1886.7,1498.77 1882.01,1487.45 1886.7,1476.14 1898.01,1471.45 1909.32,1476.14 1914.01,1487.45 1909.32,1498.77 \n  \"/>\n<polygon clip-path=\"url(#clip9002)\" style=\"fill:#000000; fill-opacity:1\" points=\"\n  1918.71,1507.47 1904.57,1501.61 1898.71,1487.47 1904.57,1473.33 1918.71,1467.47 1932.85,1473.33 1938.71,1487.47 1932.85,1501.61 \n  \"/>\n<polygon clip-path=\"url(#clip9002)\" style=\"fill:#009af9; fill-opacity:1\" points=\"\n  1918.71,1503.47 1907.4,1498.79 1902.71,1487.47 1907.4,1476.16 1918.71,1471.47 1930.02,1476.16 1934.71,1487.47 1930.02,1498.79 \n  \"/>\n<polygon clip-path=\"url(#clip9002)\" style=\"fill:#000000; fill-opacity:1\" points=\"\n  1939.41,1507.47 1925.27,1501.61 1919.41,1487.47 1925.27,1473.33 1939.41,1467.47 1953.55,1473.33 1959.41,1487.47 1953.55,1501.61 \n  \"/>\n<polygon clip-path=\"url(#clip9002)\" style=\"fill:#009af9; fill-opacity:1\" points=\"\n  1939.41,1503.47 1928.1,1498.78 1923.41,1487.47 1928.1,1476.16 1939.41,1471.47 1950.72,1476.16 1955.41,1487.47 1950.72,1498.78 \n  \"/>\n<polygon clip-path=\"url(#clip9002)\" style=\"fill:#000000; fill-opacity:1\" points=\"\n  1960.11,1507.47 1945.97,1501.61 1940.11,1487.47 1945.97,1473.33 1960.11,1467.47 1974.25,1473.33 1980.11,1487.47 1974.25,1501.61 \n  \"/>\n<polygon clip-path=\"url(#clip9002)\" style=\"fill:#009af9; fill-opacity:1\" points=\"\n  1960.11,1503.47 1948.79,1498.79 1944.11,1487.47 1948.79,1476.16 1960.11,1471.47 1971.42,1476.16 1976.11,1487.47 1971.42,1498.79 \n  \"/>\n<polygon clip-path=\"url(#clip9002)\" style=\"fill:#000000; fill-opacity:1\" points=\"\n  1980.8,1507.47 1966.66,1501.61 1960.8,1487.47 1966.66,1473.33 1980.8,1467.47 1994.94,1473.33 2000.8,1487.47 1994.94,1501.61 \n  \"/>\n<polygon clip-path=\"url(#clip9002)\" style=\"fill:#009af9; fill-opacity:1\" points=\"\n  1980.8,1503.47 1969.49,1498.79 1964.8,1487.47 1969.49,1476.16 1980.8,1471.47 1992.12,1476.16 1996.8,1487.47 1992.12,1498.79 \n  \"/>\n<polygon clip-path=\"url(#clip9002)\" style=\"fill:#000000; fill-opacity:1\" points=\"\n  2001.5,1507.47 1987.36,1501.61 1981.5,1487.47 1987.36,1473.33 2001.5,1467.47 2015.64,1473.33 2021.5,1487.47 2015.64,1501.61 \n  \"/>\n<polygon clip-path=\"url(#clip9002)\" style=\"fill:#009af9; fill-opacity:1\" points=\"\n  2001.5,1503.47 1990.19,1498.79 1985.5,1487.47 1990.19,1476.16 2001.5,1471.47 2012.82,1476.16 2017.5,1487.47 2012.82,1498.79 \n  \"/>\n<polygon clip-path=\"url(#clip9002)\" style=\"fill:#000000; fill-opacity:1\" points=\"\n  2022.2,1507.47 2008.06,1501.61 2002.2,1487.47 2008.06,1473.33 2022.2,1467.47 2036.34,1473.33 2042.2,1487.47 2036.34,1501.61 \n  \"/>\n<polygon clip-path=\"url(#clip9002)\" style=\"fill:#009af9; fill-opacity:1\" points=\"\n  2022.2,1503.47 2010.89,1498.79 2006.2,1487.47 2010.89,1476.16 2022.2,1471.47 2033.51,1476.16 2038.2,1487.47 2033.51,1498.79 \n  \"/>\n<polygon clip-path=\"url(#clip9002)\" style=\"fill:#000000; fill-opacity:1\" points=\"\n  2042.9,1507.47 2028.76,1501.61 2022.9,1487.47 2028.76,1473.33 2042.9,1467.47 2057.04,1473.33 2062.9,1487.47 2057.04,1501.61 \n  \"/>\n<polygon clip-path=\"url(#clip9002)\" style=\"fill:#009af9; fill-opacity:1\" points=\"\n  2042.9,1503.47 2031.59,1498.79 2026.9,1487.47 2031.59,1476.16 2042.9,1471.47 2054.21,1476.16 2058.9,1487.47 2054.21,1498.79 \n  \"/>\n<polygon clip-path=\"url(#clip9002)\" style=\"fill:#000000; fill-opacity:1\" points=\"\n  2063.6,1507.47 2049.46,1501.61 2043.6,1487.47 2049.46,1473.33 2063.6,1467.47 2077.74,1473.33 2083.6,1487.47 2077.74,1501.61 \n  \"/>\n<polygon clip-path=\"url(#clip9002)\" style=\"fill:#009af9; fill-opacity:1\" points=\"\n  2063.6,1503.47 2052.29,1498.79 2047.6,1487.47 2052.29,1476.16 2063.6,1471.47 2074.91,1476.16 2079.6,1487.47 2074.91,1498.79 \n  \"/>\n<polygon clip-path=\"url(#clip9002)\" style=\"fill:#000000; fill-opacity:1\" points=\"\n  2084.3,1507.47 2070.16,1501.61 2064.3,1487.47 2070.16,1473.33 2084.3,1467.47 2098.44,1473.33 2104.3,1487.47 2098.44,1501.61 \n  \"/>\n<polygon clip-path=\"url(#clip9002)\" style=\"fill:#009af9; fill-opacity:1\" points=\"\n  2084.3,1503.47 2072.98,1498.79 2068.3,1487.47 2072.98,1476.16 2084.3,1471.47 2095.61,1476.16 2100.3,1487.47 2095.61,1498.79 \n  \"/>\n<polygon clip-path=\"url(#clip9002)\" style=\"fill:#000000; fill-opacity:1\" points=\"\n  2105,1507.47 2090.86,1501.61 2085,1487.47 2090.86,1473.33 2105,1467.47 2119.14,1473.33 2125,1487.47 2119.14,1501.61 \n  \"/>\n<polygon clip-path=\"url(#clip9002)\" style=\"fill:#009af9; fill-opacity:1\" points=\"\n  2105,1503.47 2093.68,1498.79 2089,1487.47 2093.68,1476.16 2105,1471.47 2116.31,1476.16 2121,1487.47 2116.31,1498.79 \n  \"/>\n<polygon clip-path=\"url(#clip9002)\" style=\"fill:#000000; fill-opacity:1\" points=\"\n  2125.69,1507.47 2111.55,1501.61 2105.69,1487.47 2111.55,1473.33 2125.69,1467.47 2139.83,1473.33 2145.69,1487.47 2139.83,1501.61 \n  \"/>\n<polygon clip-path=\"url(#clip9002)\" style=\"fill:#009af9; fill-opacity:1\" points=\"\n  2125.69,1503.47 2114.38,1498.79 2109.69,1487.47 2114.38,1476.16 2125.69,1471.47 2137.01,1476.16 2141.69,1487.47 2137.01,1498.79 \n  \"/>\n<polygon clip-path=\"url(#clip9002)\" style=\"fill:#000000; fill-opacity:1\" points=\"\n  2146.39,1507.47 2132.25,1501.61 2126.39,1487.47 2132.25,1473.33 2146.39,1467.47 2160.53,1473.33 2166.39,1487.47 2160.53,1501.61 \n  \"/>\n<polygon clip-path=\"url(#clip9002)\" style=\"fill:#009af9; fill-opacity:1\" points=\"\n  2146.39,1503.47 2135.08,1498.79 2130.39,1487.47 2135.08,1476.16 2146.39,1471.47 2157.7,1476.16 2162.39,1487.47 2157.7,1498.79 \n  \"/>\n<polygon clip-path=\"url(#clip9002)\" style=\"fill:#000000; fill-opacity:1\" points=\"\n  2167.09,1507.47 2152.95,1501.61 2147.09,1487.47 2152.95,1473.33 2167.09,1467.47 2181.23,1473.33 2187.09,1487.47 2181.23,1501.61 \n  \"/>\n<polygon clip-path=\"url(#clip9002)\" style=\"fill:#009af9; fill-opacity:1\" points=\"\n  2167.09,1503.47 2155.78,1498.79 2151.09,1487.47 2155.78,1476.16 2167.09,1471.47 2178.4,1476.16 2183.09,1487.47 2178.4,1498.79 \n  \"/>\n<polygon clip-path=\"url(#clip9002)\" style=\"fill:#000000; fill-opacity:1\" points=\"\n  2187.79,1507.47 2173.65,1501.61 2167.79,1487.47 2173.65,1473.33 2187.79,1467.47 2201.93,1473.33 2207.79,1487.47 2201.93,1501.61 \n  \"/>\n<polygon clip-path=\"url(#clip9002)\" style=\"fill:#009af9; fill-opacity:1\" points=\"\n  2187.79,1503.47 2176.48,1498.79 2171.79,1487.47 2176.48,1476.16 2187.79,1471.47 2199.1,1476.16 2203.79,1487.47 2199.1,1498.79 \n  \"/>\n<polygon clip-path=\"url(#clip9002)\" style=\"fill:#000000; fill-opacity:1\" points=\"\n  2208.49,1507.47 2194.35,1501.61 2188.49,1487.47 2194.35,1473.33 2208.49,1467.47 2222.63,1473.33 2228.49,1487.47 2222.63,1501.61 \n  \"/>\n<polygon clip-path=\"url(#clip9002)\" style=\"fill:#009af9; fill-opacity:1\" points=\"\n  2208.49,1503.47 2197.18,1498.79 2192.49,1487.47 2197.18,1476.16 2208.49,1471.47 2219.8,1476.16 2224.49,1487.47 2219.8,1498.79 \n  \"/>\n<polygon clip-path=\"url(#clip9002)\" style=\"fill:#000000; fill-opacity:1\" points=\"\n  2229.19,1507.47 2215.05,1501.61 2209.19,1487.47 2215.05,1473.33 2229.19,1467.47 2243.33,1473.33 2249.19,1487.47 2243.33,1501.61 \n  \"/>\n<polygon clip-path=\"url(#clip9002)\" style=\"fill:#009af9; fill-opacity:1\" points=\"\n  2229.19,1503.47 2217.87,1498.79 2213.19,1487.47 2217.87,1476.16 2229.19,1471.47 2240.5,1476.16 2245.19,1487.47 2240.5,1498.79 \n  \"/>\n<polygon clip-path=\"url(#clip9002)\" style=\"fill:#000000; fill-opacity:1\" points=\"\n  2249.88,1507.47 2235.74,1501.61 2229.88,1487.47 2235.74,1473.33 2249.88,1467.47 2264.02,1473.33 2269.88,1487.47 2264.02,1501.61 \n  \"/>\n<polygon clip-path=\"url(#clip9002)\" style=\"fill:#009af9; fill-opacity:1\" points=\"\n  2249.88,1503.47 2238.57,1498.79 2233.88,1487.47 2238.57,1476.16 2249.88,1471.47 2261.2,1476.16 2265.88,1487.47 2261.2,1498.79 \n  \"/>\n<polygon clip-path=\"url(#clip9002)\" style=\"fill:#000000; fill-opacity:1\" points=\"\n  2270.58,1507.47 2256.44,1501.61 2250.58,1487.47 2256.44,1473.33 2270.58,1467.47 2284.72,1473.33 2290.58,1487.47 2284.72,1501.61 \n  \"/>\n<polygon clip-path=\"url(#clip9002)\" style=\"fill:#009af9; fill-opacity:1\" points=\"\n  2270.58,1503.47 2259.27,1498.79 2254.58,1487.47 2259.27,1476.16 2270.58,1471.47 2281.9,1476.16 2286.58,1487.47 2281.9,1498.79 \n  \"/>\n<polygon clip-path=\"url(#clip9002)\" style=\"fill:#000000; fill-opacity:1\" points=\"\n  2291.28,1507.47 2277.14,1501.61 2271.28,1487.47 2277.14,1473.33 2291.28,1467.47 2305.42,1473.33 2311.28,1487.47 2305.42,1501.61 \n  \"/>\n<polygon clip-path=\"url(#clip9002)\" style=\"fill:#009af9; fill-opacity:1\" points=\"\n  2291.28,1503.47 2279.97,1498.79 2275.28,1487.47 2279.97,1476.16 2291.28,1471.47 2302.59,1476.16 2307.28,1487.47 2302.59,1498.79 \n  \"/>\n<path clip-path=\"url(#clip9000)\" d=\"\nM1989.93 251.724 L2280.76 251.724 L2280.76 130.764 L1989.93 130.764  Z\n  \" fill=\"#ffffff\" fill-rule=\"evenodd\" fill-opacity=\"1\"/>\n<polyline clip-path=\"url(#clip9000)\" style=\"stroke:#000000; stroke-width:4; stroke-opacity:1; fill:none\" points=\"\n  1989.93,251.724 2280.76,251.724 2280.76,130.764 1989.93,130.764 1989.93,251.724 \n  \"/>\n<polyline clip-path=\"url(#clip9000)\" style=\"stroke:#009af9; stroke-width:4; stroke-opacity:1; fill:none\" points=\"\n  2013.93,191.244 2157.93,191.244 \n  \"/>\n<polygon clip-path=\"url(#clip9000)\" style=\"fill:#000000; fill-opacity:1\" points=\"\n  2097.93,219.244 2078.13,211.04 2069.93,191.244 2078.13,171.448 2097.93,163.244 2117.72,171.448 2125.93,191.244 2117.72,211.04 \n  \"/>\n<polygon clip-path=\"url(#clip9000)\" style=\"fill:#009af9; fill-opacity:1\" points=\"\n  2097.93,215.244 2080.96,208.212 2073.93,191.244 2080.96,174.276 2097.93,167.244 2114.89,174.276 2121.93,191.244 2114.89,208.212 \n  \"/>\n<g clip-path=\"url(#clip9000)\">\n<text style=\"fill:#000000; fill-opacity:1; font-family:Arial,Helvetica Neue,Helvetica,sans-serif; font-size:48px; text-anchor:start;\" transform=\"rotate(0, 2181.93, 208.744)\" x=\"2181.93\" y=\"208.744\">y1</text>\n</g>\n</svg>\n"
               },
               "type": "node"
              }
             ],
             "instanceArgs": {
              "namespace": "html",
              "tag": "div"
             },
             "nodeType": "DOM",
             "props": {
              "className": "interact-flex-row interact-widget"
             },
             "type": "node"
            }
           }
          },
          "systemjs_options": null
         },
         "nodeType": "Scope",
         "props": {},
         "type": "node"
        }
       ],
       "instanceArgs": {
        "namespace": "html",
        "tag": "div"
       },
       "nodeType": "DOM",
       "props": {},
       "type": "node"
      },
      "text/html": [
       "<div\n",
       "    class=\"webio-mountpoint\"\n",
       "    data-webio-mountpoint=\"9500907984552921813\"\n",
       ">\n",
       "    <script>\n",
       "    if (window.require && require.defined && require.defined(\"nbextensions/webio-jupyter-notebook\")) {\n",
       "        console.log(\"Jupyter WebIO extension detected, not mounting.\");\n",
       "    } else if (window.WebIO) {\n",
       "        WebIO.mount(\n",
       "            document.querySelector('[data-webio-mountpoint=\"9500907984552921813\"]'),\n",
       "            {\"props\":{},\"nodeType\":\"DOM\",\"type\":\"node\",\"instanceArgs\":{\"namespace\":\"html\",\"tag\":\"div\"},\"children\":[{\"props\":{\"className\":\"field interact-widget\"},\"nodeType\":\"DOM\",\"type\":\"node\",\"instanceArgs\":{\"namespace\":\"html\",\"tag\":\"div\"},\"children\":[{\"props\":{},\"nodeType\":\"Scope\",\"type\":\"node\",\"instanceArgs\":{\"imports\":{\"data\":[{\"name\":\"knockout\",\"type\":\"js\",\"url\":\"\\/assetserver\\/9a186147d51179d2ec12ccfac1799b0b805a79d5-knockout.js\"},{\"name\":\"knockout_punches\",\"type\":\"js\",\"url\":\"\\/assetserver\\/eccef011301f679ebde0900f01478cac573870ce-knockout_punches.js\"},{\"name\":null,\"type\":\"js\",\"url\":\"\\/assetserver\\/5d2042c6908ffff0b7c8d26135740476bcf00827-all.js\"},{\"name\":null,\"type\":\"css\",\"url\":\"\\/assetserver\\/87ad319ae61de5d44f67c268a0a8f65862fca478-style.css\"},{\"name\":null,\"type\":\"css\",\"url\":\"\\/assetserver\\/9354074556c360cc537db1e8b0f0283e19c8ea9d-bulma_confined.min.css\"}],\"type\":\"async_block\"},\"id\":\"13920042373165823568\",\"handlers\":{\"changes\":[\"(function (val){return (val!=this.model[\\\"changes\\\"]()) ? (this.valueFromJulia[\\\"changes\\\"]=true, this.model[\\\"changes\\\"](val)) : undefined})\"],\"index\":[\"(function (val){return (val!=this.model[\\\"index\\\"]()) ? (this.valueFromJulia[\\\"index\\\"]=true, this.model[\\\"index\\\"](val)) : undefined})\"]},\"systemjs_options\":null,\"mount_callbacks\":[\"function () {\\n    var handler = (function (ko, koPunches) {\\n    ko.punches.enableAll();\\n    ko.bindingHandlers.numericValue = {\\n        init: function(element, valueAccessor, allBindings, data, context) {\\n            var stringified = ko.observable(ko.unwrap(valueAccessor()));\\n            stringified.subscribe(function(value) {\\n                var val = parseFloat(value);\\n                if (!isNaN(val)) {\\n                    valueAccessor()(val);\\n                }\\n            });\\n            valueAccessor().subscribe(function(value) {\\n                var str = JSON.stringify(value);\\n                if ((str == \\\"0\\\") && ([\\\"-0\\\", \\\"-0.\\\"].indexOf(stringified()) >= 0))\\n                     return;\\n                 if ([\\\"null\\\", \\\"\\\"].indexOf(str) >= 0)\\n                     return;\\n                stringified(str);\\n            });\\n            ko.applyBindingsToNode(\\n                element,\\n                {\\n                    value: stringified,\\n                    valueUpdate: allBindings.get('valueUpdate'),\\n                },\\n                context,\\n            );\\n        }\\n    };\\n    var json_data = {\\\"formatted_vals\\\":[\\\"1\\\",\\\"2\\\",\\\"3\\\",\\\"4\\\",\\\"5\\\",\\\"6\\\",\\\"7\\\",\\\"8\\\",\\\"9\\\",\\\"10\\\",\\\"11\\\",\\\"12\\\",\\\"13\\\",\\\"14\\\",\\\"15\\\",\\\"16\\\",\\\"17\\\",\\\"18\\\",\\\"19\\\",\\\"20\\\",\\\"21\\\",\\\"22\\\",\\\"23\\\",\\\"24\\\",\\\"25\\\",\\\"26\\\",\\\"27\\\",\\\"28\\\",\\\"29\\\",\\\"30\\\",\\\"31\\\",\\\"32\\\",\\\"33\\\",\\\"34\\\",\\\"35\\\",\\\"36\\\",\\\"37\\\",\\\"38\\\",\\\"39\\\",\\\"40\\\",\\\"41\\\",\\\"42\\\",\\\"43\\\",\\\"44\\\",\\\"45\\\",\\\"46\\\",\\\"47\\\",\\\"48\\\",\\\"49\\\",\\\"50\\\",\\\"51\\\",\\\"52\\\",\\\"53\\\",\\\"54\\\",\\\"55\\\",\\\"56\\\",\\\"57\\\",\\\"58\\\",\\\"59\\\",\\\"60\\\",\\\"61\\\",\\\"62\\\",\\\"63\\\",\\\"64\\\",\\\"65\\\",\\\"66\\\",\\\"67\\\",\\\"68\\\",\\\"69\\\",\\\"70\\\",\\\"71\\\",\\\"72\\\",\\\"73\\\",\\\"74\\\",\\\"75\\\",\\\"76\\\",\\\"77\\\",\\\"78\\\",\\\"79\\\",\\\"80\\\",\\\"81\\\",\\\"82\\\",\\\"83\\\",\\\"84\\\",\\\"85\\\",\\\"86\\\",\\\"87\\\",\\\"88\\\",\\\"89\\\",\\\"90\\\",\\\"91\\\",\\\"92\\\",\\\"93\\\",\\\"94\\\",\\\"95\\\",\\\"96\\\",\\\"97\\\",\\\"98\\\",\\\"99\\\",\\\"100\\\"],\\\"changes\\\":WebIO.getval({\\\"name\\\":\\\"changes\\\",\\\"scope\\\":\\\"13920042373165823568\\\",\\\"id\\\":\\\"ob_18\\\",\\\"type\\\":\\\"observable\\\"}),\\\"index\\\":WebIO.getval({\\\"name\\\":\\\"index\\\",\\\"scope\\\":\\\"13920042373165823568\\\",\\\"id\\\":\\\"ob_17\\\",\\\"type\\\":\\\"observable\\\"})};\\n    var self = this;\\n    function AppViewModel() {\\n        for (var key in json_data) {\\n            var el = json_data[key];\\n            this[key] = Array.isArray(el) ? ko.observableArray(el) : ko.observable(el);\\n        }\\n        \\n        [this[\\\"formatted_val\\\"]=ko.computed(    function(){\\n        return this.formatted_vals()[parseInt(this.index())-(1)];\\n    }\\n,this)]\\n        [this[\\\"changes\\\"].subscribe((function (val){!(this.valueFromJulia[\\\"changes\\\"]) ? (WebIO.setval({\\\"name\\\":\\\"changes\\\",\\\"scope\\\":\\\"13920042373165823568\\\",\\\"id\\\":\\\"ob_18\\\",\\\"type\\\":\\\"observable\\\"},val)) : undefined; return this.valueFromJulia[\\\"changes\\\"]=false}),self),this[\\\"index\\\"].subscribe((function (val){!(this.valueFromJulia[\\\"index\\\"]) ? (WebIO.setval({\\\"name\\\":\\\"index\\\",\\\"scope\\\":\\\"13920042373165823568\\\",\\\"id\\\":\\\"ob_17\\\",\\\"type\\\":\\\"observable\\\"},val)) : undefined; return this.valueFromJulia[\\\"index\\\"]=false}),self)]\\n        \\n    }\\n    self.model = new AppViewModel();\\n    self.valueFromJulia = {};\\n    for (var key in json_data) {\\n        self.valueFromJulia[key] = false;\\n    }\\n    ko.applyBindings(self.model, self.dom);\\n}\\n);\\n    (WebIO.importBlock({\\\"data\\\":[{\\\"name\\\":\\\"knockout\\\",\\\"type\\\":\\\"js\\\",\\\"url\\\":\\\"\\/assetserver\\/9a186147d51179d2ec12ccfac1799b0b805a79d5-knockout.js\\\"},{\\\"name\\\":\\\"knockout_punches\\\",\\\"type\\\":\\\"js\\\",\\\"url\\\":\\\"\\/assetserver\\/eccef011301f679ebde0900f01478cac573870ce-knockout_punches.js\\\"}],\\\"type\\\":\\\"async_block\\\"})).then((imports) => handler.apply(this, imports));\\n}\\n\"],\"observables\":{\"changes\":{\"sync\":false,\"id\":\"ob_18\",\"value\":0},\"index\":{\"sync\":true,\"id\":\"ob_17\",\"value\":50}}},\"children\":[{\"props\":{\"className\":\"interact-flex-row interact-widget\"},\"nodeType\":\"DOM\",\"type\":\"node\",\"instanceArgs\":{\"namespace\":\"html\",\"tag\":\"div\"},\"children\":[{\"props\":{\"className\":\"interact-flex-row-left\"},\"nodeType\":\"DOM\",\"type\":\"node\",\"instanceArgs\":{\"namespace\":\"html\",\"tag\":\"div\"},\"children\":[{\"props\":{\"className\":\"interact \",\"style\":{\"padding\":\"5px 10px 0px 10px\"}},\"nodeType\":\"DOM\",\"type\":\"node\",\"instanceArgs\":{\"namespace\":\"html\",\"tag\":\"label\"},\"children\":[\"t\"]}]},{\"props\":{\"className\":\"interact-flex-row-center\"},\"nodeType\":\"DOM\",\"type\":\"node\",\"instanceArgs\":{\"namespace\":\"html\",\"tag\":\"div\"},\"children\":[{\"props\":{\"max\":100,\"min\":1,\"attributes\":{\"type\":\"range\",\"data-bind\":\"numericValue: index, valueUpdate: 'input', event: {change: function (){this.changes(this.changes()+1)}}\",\"orient\":\"horizontal\"},\"step\":1,\"className\":\"slider slider is-fullwidth\",\"style\":{}},\"nodeType\":\"DOM\",\"type\":\"node\",\"instanceArgs\":{\"namespace\":\"html\",\"tag\":\"input\"},\"children\":[]}]},{\"props\":{\"className\":\"interact-flex-row-right\"},\"nodeType\":\"DOM\",\"type\":\"node\",\"instanceArgs\":{\"namespace\":\"html\",\"tag\":\"div\"},\"children\":[{\"props\":{\"attributes\":{\"data-bind\":\"text: formatted_val\"}},\"nodeType\":\"DOM\",\"type\":\"node\",\"instanceArgs\":{\"namespace\":\"html\",\"tag\":\"p\"},\"children\":[]}]}]}]}]},{\"props\":{},\"nodeType\":\"Scope\",\"type\":\"node\",\"instanceArgs\":{\"imports\":{\"data\":[],\"type\":\"async_block\"},\"id\":\"10702944008913725995\",\"handlers\":{},\"systemjs_options\":null,\"mount_callbacks\":[],\"observables\":{\"obs-node\":{\"sync\":false,\"id\":\"ob_22\",\"value\":{\"props\":{\"className\":\"interact-flex-row interact-widget\"},\"nodeType\":\"DOM\",\"type\":\"node\",\"instanceArgs\":{\"namespace\":\"html\",\"tag\":\"div\"},\"children\":[{\"props\":{\"setInnerHtml\":\"<?xml version=\\\"1.0\\\" encoding=\\\"utf-8\\\"?>\\n<svg xmlns=\\\"http:\\/\\/www.w3.org\\/2000\\/svg\\\" xmlns:xlink=\\\"http:\\/\\/www.w3.org\\/1999\\/xlink\\\" width=\\\"600\\\" height=\\\"400\\\" viewBox=\\\"0 0 2400 1600\\\">\\n<defs>\\n  <clipPath id=\\\"clip8600\\\">\\n    <rect x=\\\"0\\\" y=\\\"0\\\" width=\\\"2400\\\" height=\\\"1600\\\"\\/>\\n  <\\/clipPath>\\n<\\/defs>\\n<path clip-path=\\\"url(#clip8600)\\\" d=\\\"\\nM0 1600 L2400 1600 L2400 0 L0 0  Z\\n  \\\" fill=\\\"#ffffff\\\" fill-rule=\\\"evenodd\\\" fill-opacity=\\\"1\\\"\\/>\\n<defs>\\n  <clipPath id=\\\"clip8601\\\">\\n    <rect x=\\\"480\\\" y=\\\"0\\\" width=\\\"1681\\\" height=\\\"1600\\\"\\/>\\n  <\\/clipPath>\\n<\\/defs>\\n<path clip-path=\\\"url(#clip8600)\\\" d=\\\"\\nM180.66 1487.47 L2352.76 1487.47 L2352.76 47.2441 L180.66 47.2441  Z\\n  \\\" fill=\\\"#ffffff\\\" fill-rule=\\\"evenodd\\\" fill-opacity=\\\"1\\\"\\/>\\n<defs>\\n  <clipPath id=\\\"clip8602\\\">\\n    <rect x=\\\"180\\\" y=\\\"47\\\" width=\\\"2173\\\" height=\\\"1441\\\"\\/>\\n  <\\/clipPath>\\n<\\/defs>\\n<polyline clip-path=\\\"url(#clip8602)\\\" style=\\\"stroke:#000000; stroke-width:2; stroke-opacity:0.1; fill:none\\\" points=\\\"\\n  221.436,1487.47 221.436,47.2441 \\n  \\\"\\/>\\n<polyline clip-path=\\\"url(#clip8602)\\\" style=\\\"stroke:#000000; stroke-width:2; stroke-opacity:0.1; fill:none\\\" points=\\\"\\n  738.898,1487.47 738.898,47.2441 \\n  \\\"\\/>\\n<polyline clip-path=\\\"url(#clip8602)\\\" style=\\\"stroke:#000000; stroke-width:2; stroke-opacity:0.1; fill:none\\\" points=\\\"\\n  1256.36,1487.47 1256.36,47.2441 \\n  \\\"\\/>\\n<polyline clip-path=\\\"url(#clip8602)\\\" style=\\\"stroke:#000000; stroke-width:2; stroke-opacity:0.1; fill:none\\\" points=\\\"\\n  1773.82,1487.47 1773.82,47.2441 \\n  \\\"\\/>\\n<polyline clip-path=\\\"url(#clip8602)\\\" style=\\\"stroke:#000000; stroke-width:2; stroke-opacity:0.1; fill:none\\\" points=\\\"\\n  2291.28,1487.47 2291.28,47.2441 \\n  \\\"\\/>\\n<polyline clip-path=\\\"url(#clip8602)\\\" style=\\\"stroke:#000000; stroke-width:2; stroke-opacity:0.1; fill:none\\\" points=\\\"\\n  180.66,1487.47 2352.76,1487.47 \\n  \\\"\\/>\\n<polyline clip-path=\\\"url(#clip8602)\\\" style=\\\"stroke:#000000; stroke-width:2; stroke-opacity:0.1; fill:none\\\" points=\\\"\\n  180.66,1199.43 2352.76,1199.43 \\n  \\\"\\/>\\n<polyline clip-path=\\\"url(#clip8602)\\\" style=\\\"stroke:#000000; stroke-width:2; stroke-opacity:0.1; fill:none\\\" points=\\\"\\n  180.66,911.382 2352.76,911.382 \\n  \\\"\\/>\\n<polyline clip-path=\\\"url(#clip8602)\\\" style=\\\"stroke:#000000; stroke-width:2; stroke-opacity:0.1; fill:none\\\" points=\\\"\\n  180.66,623.336 2352.76,623.336 \\n  \\\"\\/>\\n<polyline clip-path=\\\"url(#clip8602)\\\" style=\\\"stroke:#000000; stroke-width:2; stroke-opacity:0.1; fill:none\\\" points=\\\"\\n  180.66,335.29 2352.76,335.29 \\n  \\\"\\/>\\n<polyline clip-path=\\\"url(#clip8602)\\\" style=\\\"stroke:#000000; stroke-width:2; stroke-opacity:0.1; fill:none\\\" points=\\\"\\n  180.66,47.2441 2352.76,47.2441 \\n  \\\"\\/>\\n<polyline clip-path=\\\"url(#clip8600)\\\" style=\\\"stroke:#000000; stroke-width:4; stroke-opacity:1; fill:none\\\" points=\\\"\\n  180.66,1487.47 2352.76,1487.47 \\n  \\\"\\/>\\n<polyline clip-path=\\\"url(#clip8600)\\\" style=\\\"stroke:#000000; stroke-width:4; stroke-opacity:1; fill:none\\\" points=\\\"\\n  180.66,1487.47 180.66,47.2441 \\n  \\\"\\/>\\n<polyline clip-path=\\\"url(#clip8600)\\\" style=\\\"stroke:#000000; stroke-width:4; stroke-opacity:1; fill:none\\\" points=\\\"\\n  221.436,1487.47 221.436,1465.87 \\n  \\\"\\/>\\n<polyline clip-path=\\\"url(#clip8600)\\\" style=\\\"stroke:#000000; stroke-width:4; stroke-opacity:1; fill:none\\\" points=\\\"\\n  738.898,1487.47 738.898,1465.87 \\n  \\\"\\/>\\n<polyline clip-path=\\\"url(#clip8600)\\\" style=\\\"stroke:#000000; stroke-width:4; stroke-opacity:1; fill:none\\\" points=\\\"\\n  1256.36,1487.47 1256.36,1465.87 \\n  \\\"\\/>\\n<polyline clip-path=\\\"url(#clip8600)\\\" style=\\\"stroke:#000000; stroke-width:4; stroke-opacity:1; fill:none\\\" points=\\\"\\n  1773.82,1487.47 1773.82,1465.87 \\n  \\\"\\/>\\n<polyline clip-path=\\\"url(#clip8600)\\\" style=\\\"stroke:#000000; stroke-width:4; stroke-opacity:1; fill:none\\\" points=\\\"\\n  2291.28,1487.47 2291.28,1465.87 \\n  \\\"\\/>\\n<polyline clip-path=\\\"url(#clip8600)\\\" style=\\\"stroke:#000000; stroke-width:4; stroke-opacity:1; fill:none\\\" points=\\\"\\n  180.66,1487.47 213.242,1487.47 \\n  \\\"\\/>\\n<polyline clip-path=\\\"url(#clip8600)\\\" style=\\\"stroke:#000000; stroke-width:4; stroke-opacity:1; fill:none\\\" points=\\\"\\n  180.66,1199.43 213.242,1199.43 \\n  \\\"\\/>\\n<polyline clip-path=\\\"url(#clip8600)\\\" style=\\\"stroke:#000000; stroke-width:4; stroke-opacity:1; fill:none\\\" points=\\\"\\n  180.66,911.382 213.242,911.382 \\n  \\\"\\/>\\n<polyline clip-path=\\\"url(#clip8600)\\\" style=\\\"stroke:#000000; stroke-width:4; stroke-opacity:1; fill:none\\\" points=\\\"\\n  180.66,623.336 213.242,623.336 \\n  \\\"\\/>\\n<polyline clip-path=\\\"url(#clip8600)\\\" style=\\\"stroke:#000000; stroke-width:4; stroke-opacity:1; fill:none\\\" points=\\\"\\n  180.66,335.29 213.242,335.29 \\n  \\\"\\/>\\n<polyline clip-path=\\\"url(#clip8600)\\\" style=\\\"stroke:#000000; stroke-width:4; stroke-opacity:1; fill:none\\\" points=\\\"\\n  180.66,47.2441 213.242,47.2441 \\n  \\\"\\/>\\n<g clip-path=\\\"url(#clip8600)\\\">\\n<text style=\\\"fill:#000000; fill-opacity:1; font-family:Arial,Helvetica Neue,Helvetica,sans-serif; font-size:48px; text-anchor:middle;\\\" transform=\\\"rotate(0, 221.436, 1541.47)\\\" x=\\\"221.436\\\" y=\\\"1541.47\\\">0<\\/text>\\n<\\/g>\\n<g clip-path=\\\"url(#clip8600)\\\">\\n<text style=\\\"fill:#000000; fill-opacity:1; font-family:Arial,Helvetica Neue,Helvetica,sans-serif; font-size:48px; text-anchor:middle;\\\" transform=\\\"rotate(0, 738.898, 1541.47)\\\" x=\\\"738.898\\\" y=\\\"1541.47\\\">25<\\/text>\\n<\\/g>\\n<g clip-path=\\\"url(#clip8600)\\\">\\n<text style=\\\"fill:#000000; fill-opacity:1; font-family:Arial,Helvetica Neue,Helvetica,sans-serif; font-size:48px; text-anchor:middle;\\\" transform=\\\"rotate(0, 1256.36, 1541.47)\\\" x=\\\"1256.36\\\" y=\\\"1541.47\\\">50<\\/text>\\n<\\/g>\\n<g clip-path=\\\"url(#clip8600)\\\">\\n<text style=\\\"fill:#000000; fill-opacity:1; font-family:Arial,Helvetica Neue,Helvetica,sans-serif; font-size:48px; text-anchor:middle;\\\" transform=\\\"rotate(0, 1773.82, 1541.47)\\\" x=\\\"1773.82\\\" y=\\\"1541.47\\\">75<\\/text>\\n<\\/g>\\n<g clip-path=\\\"url(#clip8600)\\\">\\n<text style=\\\"fill:#000000; fill-opacity:1; font-family:Arial,Helvetica Neue,Helvetica,sans-serif; font-size:48px; text-anchor:middle;\\\" transform=\\\"rotate(0, 2291.28, 1541.47)\\\" x=\\\"2291.28\\\" y=\\\"1541.47\\\">100<\\/text>\\n<\\/g>\\n<g clip-path=\\\"url(#clip8600)\\\">\\n<text style=\\\"fill:#000000; fill-opacity:1; font-family:Arial,Helvetica Neue,Helvetica,sans-serif; font-size:48px; text-anchor:end;\\\" transform=\\\"rotate(0, 156.66, 1504.97)\\\" x=\\\"156.66\\\" y=\\\"1504.97\\\">0.00<\\/text>\\n<\\/g>\\n<g clip-path=\\\"url(#clip8600)\\\">\\n<text style=\\\"fill:#000000; fill-opacity:1; font-family:Arial,Helvetica Neue,Helvetica,sans-serif; font-size:48px; text-anchor:end;\\\" transform=\\\"rotate(0, 156.66, 1216.93)\\\" x=\\\"156.66\\\" y=\\\"1216.93\\\">0.05<\\/text>\\n<\\/g>\\n<g clip-path=\\\"url(#clip8600)\\\">\\n<text style=\\\"fill:#000000; fill-opacity:1; font-family:Arial,Helvetica Neue,Helvetica,sans-serif; font-size:48px; text-anchor:end;\\\" transform=\\\"rotate(0, 156.66, 928.882)\\\" x=\\\"156.66\\\" y=\\\"928.882\\\">0.10<\\/text>\\n<\\/g>\\n<g clip-path=\\\"url(#clip8600)\\\">\\n<text style=\\\"fill:#000000; fill-opacity:1; font-family:Arial,Helvetica Neue,Helvetica,sans-serif; font-size:48px; text-anchor:end;\\\" transform=\\\"rotate(0, 156.66, 640.836)\\\" x=\\\"156.66\\\" y=\\\"640.836\\\">0.15<\\/text>\\n<\\/g>\\n<g clip-path=\\\"url(#clip8600)\\\">\\n<text style=\\\"fill:#000000; fill-opacity:1; font-family:Arial,Helvetica Neue,Helvetica,sans-serif; font-size:48px; text-anchor:end;\\\" transform=\\\"rotate(0, 156.66, 352.79)\\\" x=\\\"156.66\\\" y=\\\"352.79\\\">0.20<\\/text>\\n<\\/g>\\n<g clip-path=\\\"url(#clip8600)\\\">\\n<text style=\\\"fill:#000000; fill-opacity:1; font-family:Arial,Helvetica Neue,Helvetica,sans-serif; font-size:48px; text-anchor:end;\\\" transform=\\\"rotate(0, 156.66, 64.7441)\\\" x=\\\"156.66\\\" y=\\\"64.7441\\\">0.25<\\/text>\\n<\\/g>\\n<polyline clip-path=\\\"url(#clip8602)\\\" style=\\\"stroke:#009af9; stroke-width:4; stroke-opacity:1; fill:none\\\" points=\\\"\\n  242.135,1487.47 262.833,1487.47 283.532,1487.47 304.23,1487.47 324.929,1487.47 345.627,1487.47 366.325,1487.47 387.024,1487.47 407.722,1487.47 428.421,1487.47 \\n  449.119,1487.47 469.818,1487.47 490.516,1487.47 511.215,1487.47 531.913,1487.47 552.612,1487.47 573.31,1487.47 594.008,1487.47 614.707,1487.45 635.405,1487.47 \\n  656.104,1487.39 676.802,1487.47 697.501,1487.18 718.199,1487.47 738.898,1486.53 759.596,1487.47 780.294,1484.79 800.993,1487.47 821.691,1480.56 842.39,1487.47 \\n  863.088,1471.35 883.787,1487.47 904.485,1453.21 925.184,1487.47 945.882,1420.96 966.581,1487.47 987.279,1369.23 1007.98,1487.47 1028.68,1294.56 1049.37,1487.47 \\n  1070.07,1198.1 1090.77,1487.47 1111.47,1087.86 1132.17,1487.47 1152.87,978.873 1173.57,1487.47 1194.26,890.421 1214.96,1487.47 1235.66,840.666 1256.36,1487.47 \\n  1277.06,840.666 1297.76,1487.47 1318.45,890.421 1339.15,1487.47 1359.85,978.873 1380.55,1487.47 1401.25,1087.86 1421.95,1487.47 1442.64,1198.1 1463.34,1487.47 \\n  1484.04,1294.56 1504.74,1487.47 1525.44,1369.23 1546.14,1487.47 1566.84,1420.96 1587.53,1487.47 1608.23,1453.21 1628.93,1487.47 1649.63,1471.35 1670.33,1487.47 \\n  1691.03,1480.56 1711.72,1487.47 1732.42,1484.79 1753.12,1487.47 1773.82,1486.53 1794.52,1487.47 1815.22,1487.18 1835.92,1487.47 1856.61,1487.39 1877.31,1487.47 \\n  1898.01,1487.45 1918.71,1487.47 1939.41,1487.47 1960.11,1487.47 1980.8,1487.47 2001.5,1487.47 2022.2,1487.47 2042.9,1487.47 2063.6,1487.47 2084.3,1487.47 \\n  2105,1487.47 2125.69,1487.47 2146.39,1487.47 2167.09,1487.47 2187.79,1487.47 2208.49,1487.47 2229.19,1487.47 2249.88,1487.47 2270.58,1487.47 2291.28,1487.47 \\n  \\n  \\\"\\/>\\n<polygon clip-path=\\\"url(#clip8602)\\\" style=\\\"fill:#000000; fill-opacity:1\\\" points=\\\"\\n  242.135,1507.47 227.995,1501.61 222.135,1487.47 227.995,1473.33 242.135,1467.47 256.275,1473.33 262.135,1487.47 256.275,1501.61 \\n  \\\"\\/>\\n<polygon clip-path=\\\"url(#clip8602)\\\" style=\\\"fill:#009af9; fill-opacity:1\\\" points=\\\"\\n  242.135,1503.47 230.823,1498.79 226.135,1487.47 230.823,1476.16 242.135,1471.47 253.447,1476.16 258.135,1487.47 253.447,1498.79 \\n  \\\"\\/>\\n<polygon clip-path=\\\"url(#clip8602)\\\" style=\\\"fill:#000000; fill-opacity:1\\\" points=\\\"\\n  262.833,1507.47 248.693,1501.61 242.833,1487.47 248.693,1473.33 262.833,1467.47 276.973,1473.33 282.833,1487.47 276.973,1501.61 \\n  \\\"\\/>\\n<polygon clip-path=\\\"url(#clip8602)\\\" style=\\\"fill:#009af9; fill-opacity:1\\\" points=\\\"\\n  262.833,1503.47 251.521,1498.79 246.833,1487.47 251.521,1476.16 262.833,1471.47 274.145,1476.16 278.833,1487.47 274.145,1498.79 \\n  \\\"\\/>\\n<polygon clip-path=\\\"url(#clip8602)\\\" style=\\\"fill:#000000; fill-opacity:1\\\" points=\\\"\\n  283.532,1507.47 269.392,1501.61 263.532,1487.47 269.392,1473.33 283.532,1467.47 297.672,1473.33 303.532,1487.47 297.672,1501.61 \\n  \\\"\\/>\\n<polygon clip-path=\\\"url(#clip8602)\\\" style=\\\"fill:#009af9; fill-opacity:1\\\" points=\\\"\\n  283.532,1503.47 272.22,1498.79 267.532,1487.47 272.22,1476.16 283.532,1471.47 294.844,1476.16 299.532,1487.47 294.844,1498.79 \\n  \\\"\\/>\\n<polygon clip-path=\\\"url(#clip8602)\\\" style=\\\"fill:#000000; fill-opacity:1\\\" points=\\\"\\n  304.23,1507.47 290.09,1501.61 284.23,1487.47 290.09,1473.33 304.23,1467.47 318.37,1473.33 324.23,1487.47 318.37,1501.61 \\n  \\\"\\/>\\n<polygon clip-path=\\\"url(#clip8602)\\\" style=\\\"fill:#009af9; fill-opacity:1\\\" points=\\\"\\n  304.23,1503.47 292.918,1498.79 288.23,1487.47 292.918,1476.16 304.23,1471.47 315.542,1476.16 320.23,1487.47 315.542,1498.79 \\n  \\\"\\/>\\n<polygon clip-path=\\\"url(#clip8602)\\\" style=\\\"fill:#000000; fill-opacity:1\\\" points=\\\"\\n  324.929,1507.47 310.789,1501.61 304.929,1487.47 310.789,1473.33 324.929,1467.47 339.069,1473.33 344.929,1487.47 339.069,1501.61 \\n  \\\"\\/>\\n<polygon clip-path=\\\"url(#clip8602)\\\" style=\\\"fill:#009af9; fill-opacity:1\\\" points=\\\"\\n  324.929,1503.47 313.617,1498.79 308.929,1487.47 313.617,1476.16 324.929,1471.47 336.241,1476.16 340.929,1487.47 336.241,1498.79 \\n  \\\"\\/>\\n<polygon clip-path=\\\"url(#clip8602)\\\" style=\\\"fill:#000000; fill-opacity:1\\\" points=\\\"\\n  345.627,1507.47 331.487,1501.61 325.627,1487.47 331.487,1473.33 345.627,1467.47 359.767,1473.33 365.627,1487.47 359.767,1501.61 \\n  \\\"\\/>\\n<polygon clip-path=\\\"url(#clip8602)\\\" style=\\\"fill:#009af9; fill-opacity:1\\\" points=\\\"\\n  345.627,1503.47 334.315,1498.79 329.627,1487.47 334.315,1476.16 345.627,1471.47 356.939,1476.16 361.627,1487.47 356.939,1498.79 \\n  \\\"\\/>\\n<polygon clip-path=\\\"url(#clip8602)\\\" style=\\\"fill:#000000; fill-opacity:1\\\" points=\\\"\\n  366.325,1507.47 352.185,1501.61 346.325,1487.47 352.185,1473.33 366.325,1467.47 380.465,1473.33 386.325,1487.47 380.465,1501.61 \\n  \\\"\\/>\\n<polygon clip-path=\\\"url(#clip8602)\\\" style=\\\"fill:#009af9; fill-opacity:1\\\" points=\\\"\\n  366.325,1503.47 355.013,1498.79 350.325,1487.47 355.013,1476.16 366.325,1471.47 377.637,1476.16 382.325,1487.47 377.637,1498.79 \\n  \\\"\\/>\\n<polygon clip-path=\\\"url(#clip8602)\\\" style=\\\"fill:#000000; fill-opacity:1\\\" points=\\\"\\n  387.024,1507.47 372.884,1501.61 367.024,1487.47 372.884,1473.33 387.024,1467.47 401.164,1473.33 407.024,1487.47 401.164,1501.61 \\n  \\\"\\/>\\n<polygon clip-path=\\\"url(#clip8602)\\\" style=\\\"fill:#009af9; fill-opacity:1\\\" points=\\\"\\n  387.024,1503.47 375.712,1498.79 371.024,1487.47 375.712,1476.16 387.024,1471.47 398.336,1476.16 403.024,1487.47 398.336,1498.79 \\n  \\\"\\/>\\n<polygon clip-path=\\\"url(#clip8602)\\\" style=\\\"fill:#000000; fill-opacity:1\\\" points=\\\"\\n  407.722,1507.47 393.582,1501.61 387.722,1487.47 393.582,1473.33 407.722,1467.47 421.862,1473.33 427.722,1487.47 421.862,1501.61 \\n  \\\"\\/>\\n<polygon clip-path=\\\"url(#clip8602)\\\" style=\\\"fill:#009af9; fill-opacity:1\\\" points=\\\"\\n  407.722,1503.47 396.41,1498.79 391.722,1487.47 396.41,1476.16 407.722,1471.47 419.034,1476.16 423.722,1487.47 419.034,1498.79 \\n  \\\"\\/>\\n<polygon clip-path=\\\"url(#clip8602)\\\" style=\\\"fill:#000000; fill-opacity:1\\\" points=\\\"\\n  428.421,1507.47 414.281,1501.61 408.421,1487.47 414.281,1473.33 428.421,1467.47 442.561,1473.33 448.421,1487.47 442.561,1501.61 \\n  \\\"\\/>\\n<polygon clip-path=\\\"url(#clip8602)\\\" style=\\\"fill:#009af9; fill-opacity:1\\\" points=\\\"\\n  428.421,1503.47 417.109,1498.79 412.421,1487.47 417.109,1476.16 428.421,1471.47 439.733,1476.16 444.421,1487.47 439.733,1498.79 \\n  \\\"\\/>\\n<polygon clip-path=\\\"url(#clip8602)\\\" style=\\\"fill:#000000; fill-opacity:1\\\" points=\\\"\\n  449.119,1507.47 434.979,1501.61 429.119,1487.47 434.979,1473.33 449.119,1467.47 463.259,1473.33 469.119,1487.47 463.259,1501.61 \\n  \\\"\\/>\\n<polygon clip-path=\\\"url(#clip8602)\\\" style=\\\"fill:#009af9; fill-opacity:1\\\" points=\\\"\\n  449.119,1503.47 437.807,1498.79 433.119,1487.47 437.807,1476.16 449.119,1471.47 460.431,1476.16 465.119,1487.47 460.431,1498.79 \\n  \\\"\\/>\\n<polygon clip-path=\\\"url(#clip8602)\\\" style=\\\"fill:#000000; fill-opacity:1\\\" points=\\\"\\n  469.818,1507.47 455.678,1501.61 449.818,1487.47 455.678,1473.33 469.818,1467.47 483.958,1473.33 489.818,1487.47 483.958,1501.61 \\n  \\\"\\/>\\n<polygon clip-path=\\\"url(#clip8602)\\\" style=\\\"fill:#009af9; fill-opacity:1\\\" points=\\\"\\n  469.818,1503.47 458.506,1498.79 453.818,1487.47 458.506,1476.16 469.818,1471.47 481.13,1476.16 485.818,1487.47 481.13,1498.79 \\n  \\\"\\/>\\n<polygon clip-path=\\\"url(#clip8602)\\\" style=\\\"fill:#000000; fill-opacity:1\\\" points=\\\"\\n  490.516,1507.47 476.376,1501.61 470.516,1487.47 476.376,1473.33 490.516,1467.47 504.656,1473.33 510.516,1487.47 504.656,1501.61 \\n  \\\"\\/>\\n<polygon clip-path=\\\"url(#clip8602)\\\" style=\\\"fill:#009af9; fill-opacity:1\\\" points=\\\"\\n  490.516,1503.47 479.204,1498.79 474.516,1487.47 479.204,1476.16 490.516,1471.47 501.828,1476.16 506.516,1487.47 501.828,1498.79 \\n  \\\"\\/>\\n<polygon clip-path=\\\"url(#clip8602)\\\" style=\\\"fill:#000000; fill-opacity:1\\\" points=\\\"\\n  511.215,1507.47 497.075,1501.61 491.215,1487.47 497.075,1473.33 511.215,1467.47 525.355,1473.33 531.215,1487.47 525.355,1501.61 \\n  \\\"\\/>\\n<polygon clip-path=\\\"url(#clip8602)\\\" style=\\\"fill:#009af9; fill-opacity:1\\\" points=\\\"\\n  511.215,1503.47 499.903,1498.79 495.215,1487.47 499.903,1476.16 511.215,1471.47 522.527,1476.16 527.215,1487.47 522.527,1498.79 \\n  \\\"\\/>\\n<polygon clip-path=\\\"url(#clip8602)\\\" style=\\\"fill:#000000; fill-opacity:1\\\" points=\\\"\\n  531.913,1507.47 517.773,1501.61 511.913,1487.47 517.773,1473.33 531.913,1467.47 546.053,1473.33 551.913,1487.47 546.053,1501.61 \\n  \\\"\\/>\\n<polygon clip-path=\\\"url(#clip8602)\\\" style=\\\"fill:#009af9; fill-opacity:1\\\" points=\\\"\\n  531.913,1503.47 520.601,1498.79 515.913,1487.47 520.601,1476.16 531.913,1471.47 543.225,1476.16 547.913,1487.47 543.225,1498.79 \\n  \\\"\\/>\\n<polygon clip-path=\\\"url(#clip8602)\\\" style=\\\"fill:#000000; fill-opacity:1\\\" points=\\\"\\n  552.612,1507.47 538.472,1501.61 532.612,1487.47 538.472,1473.33 552.612,1467.47 566.752,1473.33 572.612,1487.47 566.752,1501.61 \\n  \\\"\\/>\\n<polygon clip-path=\\\"url(#clip8602)\\\" style=\\\"fill:#009af9; fill-opacity:1\\\" points=\\\"\\n  552.612,1503.47 541.3,1498.79 536.612,1487.47 541.3,1476.16 552.612,1471.47 563.924,1476.16 568.612,1487.47 563.924,1498.79 \\n  \\\"\\/>\\n<polygon clip-path=\\\"url(#clip8602)\\\" style=\\\"fill:#000000; fill-opacity:1\\\" points=\\\"\\n  573.31,1507.47 559.17,1501.61 553.31,1487.47 559.17,1473.33 573.31,1467.47 587.45,1473.33 593.31,1487.47 587.45,1501.61 \\n  \\\"\\/>\\n<polygon clip-path=\\\"url(#clip8602)\\\" style=\\\"fill:#009af9; fill-opacity:1\\\" points=\\\"\\n  573.31,1503.47 561.998,1498.78 557.31,1487.47 561.998,1476.16 573.31,1471.47 584.622,1476.16 589.31,1487.47 584.622,1498.78 \\n  \\\"\\/>\\n<polygon clip-path=\\\"url(#clip8602)\\\" style=\\\"fill:#000000; fill-opacity:1\\\" points=\\\"\\n  594.008,1507.47 579.868,1501.61 574.008,1487.47 579.868,1473.33 594.008,1467.47 608.148,1473.33 614.008,1487.47 608.148,1501.61 \\n  \\\"\\/>\\n<polygon clip-path=\\\"url(#clip8602)\\\" style=\\\"fill:#009af9; fill-opacity:1\\\" points=\\\"\\n  594.008,1503.47 582.696,1498.79 578.008,1487.47 582.696,1476.16 594.008,1471.47 605.32,1476.16 610.008,1487.47 605.32,1498.79 \\n  \\\"\\/>\\n<polygon clip-path=\\\"url(#clip8602)\\\" style=\\\"fill:#000000; fill-opacity:1\\\" points=\\\"\\n  614.707,1507.45 600.567,1501.59 594.707,1487.45 600.567,1473.31 614.707,1467.45 628.847,1473.31 634.707,1487.45 628.847,1501.59 \\n  \\\"\\/>\\n<polygon clip-path=\\\"url(#clip8602)\\\" style=\\\"fill:#009af9; fill-opacity:1\\\" points=\\\"\\n  614.707,1503.45 603.395,1498.77 598.707,1487.45 603.395,1476.14 614.707,1471.45 626.019,1476.14 630.707,1487.45 626.019,1498.77 \\n  \\\"\\/>\\n<polygon clip-path=\\\"url(#clip8602)\\\" style=\\\"fill:#000000; fill-opacity:1\\\" points=\\\"\\n  635.405,1507.47 621.265,1501.61 615.405,1487.47 621.265,1473.33 635.405,1467.47 649.545,1473.33 655.405,1487.47 649.545,1501.61 \\n  \\\"\\/>\\n<polygon clip-path=\\\"url(#clip8602)\\\" style=\\\"fill:#009af9; fill-opacity:1\\\" points=\\\"\\n  635.405,1503.47 624.093,1498.79 619.405,1487.47 624.093,1476.16 635.405,1471.47 646.717,1476.16 651.405,1487.47 646.717,1498.79 \\n  \\\"\\/>\\n<polygon clip-path=\\\"url(#clip8602)\\\" style=\\\"fill:#000000; fill-opacity:1\\\" points=\\\"\\n  656.104,1507.39 641.964,1501.53 636.104,1487.39 641.964,1473.25 656.104,1467.39 670.244,1473.25 676.104,1487.39 670.244,1501.53 \\n  \\\"\\/>\\n<polygon clip-path=\\\"url(#clip8602)\\\" style=\\\"fill:#009af9; fill-opacity:1\\\" points=\\\"\\n  656.104,1503.39 644.792,1498.7 640.104,1487.39 644.792,1476.08 656.104,1471.39 667.416,1476.08 672.104,1487.39 667.416,1498.7 \\n  \\\"\\/>\\n<polygon clip-path=\\\"url(#clip8602)\\\" style=\\\"fill:#000000; fill-opacity:1\\\" points=\\\"\\n  676.802,1507.47 662.662,1501.61 656.802,1487.47 662.662,1473.33 676.802,1467.47 690.942,1473.33 696.802,1487.47 690.942,1501.61 \\n  \\\"\\/>\\n<polygon clip-path=\\\"url(#clip8602)\\\" style=\\\"fill:#009af9; fill-opacity:1\\\" points=\\\"\\n  676.802,1503.47 665.49,1498.79 660.802,1487.47 665.49,1476.16 676.802,1471.47 688.114,1476.16 692.802,1487.47 688.114,1498.79 \\n  \\\"\\/>\\n<polygon clip-path=\\\"url(#clip8602)\\\" style=\\\"fill:#000000; fill-opacity:1\\\" points=\\\"\\n  697.501,1507.18 683.361,1501.32 677.501,1487.18 683.361,1473.04 697.501,1467.18 711.641,1473.04 717.501,1487.18 711.641,1501.32 \\n  \\\"\\/>\\n<polygon clip-path=\\\"url(#clip8602)\\\" style=\\\"fill:#009af9; fill-opacity:1\\\" points=\\\"\\n  697.501,1503.18 686.189,1498.49 681.501,1487.18 686.189,1475.86 697.501,1471.18 708.813,1475.86 713.501,1487.18 708.813,1498.49 \\n  \\\"\\/>\\n<polygon clip-path=\\\"url(#clip8602)\\\" style=\\\"fill:#000000; fill-opacity:1\\\" points=\\\"\\n  718.199,1507.47 704.059,1501.61 698.199,1487.47 704.059,1473.33 718.199,1467.47 732.339,1473.33 738.199,1487.47 732.339,1501.61 \\n  \\\"\\/>\\n<polygon clip-path=\\\"url(#clip8602)\\\" style=\\\"fill:#009af9; fill-opacity:1\\\" points=\\\"\\n  718.199,1503.47 706.887,1498.79 702.199,1487.47 706.887,1476.16 718.199,1471.47 729.511,1476.16 734.199,1487.47 729.511,1498.79 \\n  \\\"\\/>\\n<polygon clip-path=\\\"url(#clip8602)\\\" style=\\\"fill:#000000; fill-opacity:1\\\" points=\\\"\\n  738.898,1506.53 724.758,1500.67 718.898,1486.53 724.758,1472.39 738.898,1466.53 753.038,1472.39 758.898,1486.53 753.038,1500.67 \\n  \\\"\\/>\\n<polygon clip-path=\\\"url(#clip8602)\\\" style=\\\"fill:#009af9; fill-opacity:1\\\" points=\\\"\\n  738.898,1502.53 727.586,1497.84 722.898,1486.53 727.586,1475.22 738.898,1470.53 750.21,1475.22 754.898,1486.53 750.21,1497.84 \\n  \\\"\\/>\\n<polygon clip-path=\\\"url(#clip8602)\\\" style=\\\"fill:#000000; fill-opacity:1\\\" points=\\\"\\n  759.596,1507.47 745.456,1501.61 739.596,1487.47 745.456,1473.33 759.596,1467.47 773.736,1473.33 779.596,1487.47 773.736,1501.61 \\n  \\\"\\/>\\n<polygon clip-path=\\\"url(#clip8602)\\\" style=\\\"fill:#009af9; fill-opacity:1\\\" points=\\\"\\n  759.596,1503.47 748.284,1498.79 743.596,1487.47 748.284,1476.16 759.596,1471.47 770.908,1476.16 775.596,1487.47 770.908,1498.79 \\n  \\\"\\/>\\n<polygon clip-path=\\\"url(#clip8602)\\\" style=\\\"fill:#000000; fill-opacity:1\\\" points=\\\"\\n  780.294,1504.79 766.154,1498.93 760.294,1484.79 766.154,1470.65 780.294,1464.79 794.434,1470.65 800.294,1484.79 794.434,1498.93 \\n  \\\"\\/>\\n<polygon clip-path=\\\"url(#clip8602)\\\" style=\\\"fill:#009af9; fill-opacity:1\\\" points=\\\"\\n  780.294,1500.79 768.982,1496.1 764.294,1484.79 768.982,1473.48 780.294,1468.79 791.606,1473.48 796.294,1484.79 791.606,1496.1 \\n  \\\"\\/>\\n<polygon clip-path=\\\"url(#clip8602)\\\" style=\\\"fill:#000000; fill-opacity:1\\\" points=\\\"\\n  800.993,1507.47 786.853,1501.61 780.993,1487.47 786.853,1473.33 800.993,1467.47 815.133,1473.33 820.993,1487.47 815.133,1501.61 \\n  \\\"\\/>\\n<polygon clip-path=\\\"url(#clip8602)\\\" style=\\\"fill:#009af9; fill-opacity:1\\\" points=\\\"\\n  800.993,1503.47 789.681,1498.79 784.993,1487.47 789.681,1476.16 800.993,1471.47 812.305,1476.16 816.993,1487.47 812.305,1498.79 \\n  \\\"\\/>\\n<polygon clip-path=\\\"url(#clip8602)\\\" style=\\\"fill:#000000; fill-opacity:1\\\" points=\\\"\\n  821.691,1500.56 807.551,1494.7 801.691,1480.56 807.551,1466.42 821.691,1460.56 835.831,1466.42 841.691,1480.56 835.831,1494.7 \\n  \\\"\\/>\\n<polygon clip-path=\\\"url(#clip8602)\\\" style=\\\"fill:#009af9; fill-opacity:1\\\" points=\\\"\\n  821.691,1496.56 810.379,1491.88 805.691,1480.56 810.379,1469.25 821.691,1464.56 833.003,1469.25 837.691,1480.56 833.003,1491.88 \\n  \\\"\\/>\\n<polygon clip-path=\\\"url(#clip8602)\\\" style=\\\"fill:#000000; fill-opacity:1\\\" points=\\\"\\n  842.39,1507.47 828.25,1501.61 822.39,1487.47 828.25,1473.33 842.39,1467.47 856.53,1473.33 862.39,1487.47 856.53,1501.61 \\n  \\\"\\/>\\n<polygon clip-path=\\\"url(#clip8602)\\\" style=\\\"fill:#009af9; fill-opacity:1\\\" points=\\\"\\n  842.39,1503.47 831.078,1498.79 826.39,1487.47 831.078,1476.16 842.39,1471.47 853.702,1476.16 858.39,1487.47 853.702,1498.79 \\n  \\\"\\/>\\n<polygon clip-path=\\\"url(#clip8602)\\\" style=\\\"fill:#000000; fill-opacity:1\\\" points=\\\"\\n  863.088,1491.35 848.948,1485.49 843.088,1471.35 848.948,1457.21 863.088,1451.35 877.228,1457.21 883.088,1471.35 877.228,1485.49 \\n  \\\"\\/>\\n<polygon clip-path=\\\"url(#clip8602)\\\" style=\\\"fill:#009af9; fill-opacity:1\\\" points=\\\"\\n  863.088,1487.35 851.776,1482.66 847.088,1471.35 851.776,1460.04 863.088,1455.35 874.4,1460.04 879.088,1471.35 874.4,1482.66 \\n  \\\"\\/>\\n<polygon clip-path=\\\"url(#clip8602)\\\" style=\\\"fill:#000000; fill-opacity:1\\\" points=\\\"\\n  883.787,1507.47 869.647,1501.61 863.787,1487.47 869.647,1473.33 883.787,1467.47 897.927,1473.33 903.787,1487.47 897.927,1501.61 \\n  \\\"\\/>\\n<polygon clip-path=\\\"url(#clip8602)\\\" style=\\\"fill:#009af9; fill-opacity:1\\\" points=\\\"\\n  883.787,1503.47 872.475,1498.79 867.787,1487.47 872.475,1476.16 883.787,1471.47 895.099,1476.16 899.787,1487.47 895.099,1498.79 \\n  \\\"\\/>\\n<polygon clip-path=\\\"url(#clip8602)\\\" style=\\\"fill:#000000; fill-opacity:1\\\" points=\\\"\\n  904.485,1473.21 890.345,1467.35 884.485,1453.21 890.345,1439.07 904.485,1433.21 918.625,1439.07 924.485,1453.21 918.625,1467.35 \\n  \\\"\\/>\\n<polygon clip-path=\\\"url(#clip8602)\\\" style=\\\"fill:#009af9; fill-opacity:1\\\" points=\\\"\\n  904.485,1469.21 893.173,1464.52 888.485,1453.21 893.173,1441.9 904.485,1437.21 915.797,1441.9 920.485,1453.21 915.797,1464.52 \\n  \\\"\\/>\\n<polygon clip-path=\\\"url(#clip8602)\\\" style=\\\"fill:#000000; fill-opacity:1\\\" points=\\\"\\n  925.184,1507.47 911.044,1501.61 905.184,1487.47 911.044,1473.33 925.184,1467.47 939.324,1473.33 945.184,1487.47 939.324,1501.61 \\n  \\\"\\/>\\n<polygon clip-path=\\\"url(#clip8602)\\\" style=\\\"fill:#009af9; fill-opacity:1\\\" points=\\\"\\n  925.184,1503.47 913.872,1498.79 909.184,1487.47 913.872,1476.16 925.184,1471.47 936.496,1476.16 941.184,1487.47 936.496,1498.79 \\n  \\\"\\/>\\n<polygon clip-path=\\\"url(#clip8602)\\\" style=\\\"fill:#000000; fill-opacity:1\\\" points=\\\"\\n  945.882,1440.96 931.742,1435.1 925.882,1420.96 931.742,1406.82 945.882,1400.96 960.022,1406.82 965.882,1420.96 960.022,1435.1 \\n  \\\"\\/>\\n<polygon clip-path=\\\"url(#clip8602)\\\" style=\\\"fill:#009af9; fill-opacity:1\\\" points=\\\"\\n  945.882,1436.96 934.57,1432.28 929.882,1420.96 934.57,1409.65 945.882,1404.96 957.194,1409.65 961.882,1420.96 957.194,1432.28 \\n  \\\"\\/>\\n<polygon clip-path=\\\"url(#clip8602)\\\" style=\\\"fill:#000000; fill-opacity:1\\\" points=\\\"\\n  966.581,1507.47 952.441,1501.61 946.581,1487.47 952.441,1473.33 966.581,1467.47 980.721,1473.33 986.581,1487.47 980.721,1501.61 \\n  \\\"\\/>\\n<polygon clip-path=\\\"url(#clip8602)\\\" style=\\\"fill:#009af9; fill-opacity:1\\\" points=\\\"\\n  966.581,1503.47 955.269,1498.79 950.581,1487.47 955.269,1476.16 966.581,1471.47 977.893,1476.16 982.581,1487.47 977.893,1498.79 \\n  \\\"\\/>\\n<polygon clip-path=\\\"url(#clip8602)\\\" style=\\\"fill:#000000; fill-opacity:1\\\" points=\\\"\\n  987.279,1389.23 973.139,1383.37 967.279,1369.23 973.139,1355.09 987.279,1349.23 1001.42,1355.09 1007.28,1369.23 1001.42,1383.37 \\n  \\\"\\/>\\n<polygon clip-path=\\\"url(#clip8602)\\\" style=\\\"fill:#009af9; fill-opacity:1\\\" points=\\\"\\n  987.279,1385.23 975.967,1380.55 971.279,1369.23 975.967,1357.92 987.279,1353.23 998.591,1357.92 1003.28,1369.23 998.591,1380.55 \\n  \\\"\\/>\\n<polygon clip-path=\\\"url(#clip8602)\\\" style=\\\"fill:#000000; fill-opacity:1\\\" points=\\\"\\n  1007.98,1507.47 993.837,1501.61 987.977,1487.47 993.837,1473.33 1007.98,1467.47 1022.12,1473.33 1027.98,1487.47 1022.12,1501.61 \\n  \\\"\\/>\\n<polygon clip-path=\\\"url(#clip8602)\\\" style=\\\"fill:#009af9; fill-opacity:1\\\" points=\\\"\\n  1007.98,1503.47 996.665,1498.79 991.977,1487.47 996.665,1476.16 1007.98,1471.47 1019.29,1476.16 1023.98,1487.47 1019.29,1498.79 \\n  \\\"\\/>\\n<polygon clip-path=\\\"url(#clip8602)\\\" style=\\\"fill:#000000; fill-opacity:1\\\" points=\\\"\\n  1028.68,1314.56 1014.54,1308.7 1008.68,1294.56 1014.54,1280.42 1028.68,1274.56 1042.82,1280.42 1048.68,1294.56 1042.82,1308.7 \\n  \\\"\\/>\\n<polygon clip-path=\\\"url(#clip8602)\\\" style=\\\"fill:#009af9; fill-opacity:1\\\" points=\\\"\\n  1028.68,1310.56 1017.36,1305.87 1012.68,1294.56 1017.36,1283.24 1028.68,1278.56 1039.99,1283.24 1044.68,1294.56 1039.99,1305.87 \\n  \\\"\\/>\\n<polygon clip-path=\\\"url(#clip8602)\\\" style=\\\"fill:#000000; fill-opacity:1\\\" points=\\\"\\n  1049.37,1507.47 1035.23,1501.61 1029.37,1487.47 1035.23,1473.33 1049.37,1467.47 1063.51,1473.33 1069.37,1487.47 1063.51,1501.61 \\n  \\\"\\/>\\n<polygon clip-path=\\\"url(#clip8602)\\\" style=\\\"fill:#009af9; fill-opacity:1\\\" points=\\\"\\n  1049.37,1503.47 1038.06,1498.79 1033.37,1487.47 1038.06,1476.16 1049.37,1471.47 1060.69,1476.16 1065.37,1487.47 1060.69,1498.79 \\n  \\\"\\/>\\n<polygon clip-path=\\\"url(#clip8602)\\\" style=\\\"fill:#000000; fill-opacity:1\\\" points=\\\"\\n  1070.07,1218.1 1055.93,1212.24 1050.07,1198.1 1055.93,1183.96 1070.07,1178.1 1084.21,1183.96 1090.07,1198.1 1084.21,1212.24 \\n  \\\"\\/>\\n<polygon clip-path=\\\"url(#clip8602)\\\" style=\\\"fill:#009af9; fill-opacity:1\\\" points=\\\"\\n  1070.07,1214.1 1058.76,1209.41 1054.07,1198.1 1058.76,1186.79 1070.07,1182.1 1081.38,1186.79 1086.07,1198.1 1081.38,1209.41 \\n  \\\"\\/>\\n<polygon clip-path=\\\"url(#clip8602)\\\" style=\\\"fill:#000000; fill-opacity:1\\\" points=\\\"\\n  1090.77,1507.47 1076.63,1501.61 1070.77,1487.47 1076.63,1473.33 1090.77,1467.47 1104.91,1473.33 1110.77,1487.47 1104.91,1501.61 \\n  \\\"\\/>\\n<polygon clip-path=\\\"url(#clip8602)\\\" style=\\\"fill:#009af9; fill-opacity:1\\\" points=\\\"\\n  1090.77,1503.47 1079.46,1498.79 1074.77,1487.47 1079.46,1476.16 1090.77,1471.47 1102.08,1476.16 1106.77,1487.47 1102.08,1498.79 \\n  \\\"\\/>\\n<polygon clip-path=\\\"url(#clip8602)\\\" style=\\\"fill:#000000; fill-opacity:1\\\" points=\\\"\\n  1111.47,1107.86 1097.33,1102 1091.47,1087.86 1097.33,1073.72 1111.47,1067.86 1125.61,1073.72 1131.47,1087.86 1125.61,1102 \\n  \\\"\\/>\\n<polygon clip-path=\\\"url(#clip8602)\\\" style=\\\"fill:#009af9; fill-opacity:1\\\" points=\\\"\\n  1111.47,1103.86 1100.16,1099.17 1095.47,1087.86 1100.16,1076.55 1111.47,1071.86 1122.78,1076.55 1127.47,1087.86 1122.78,1099.17 \\n  \\\"\\/>\\n<polygon clip-path=\\\"url(#clip8602)\\\" style=\\\"fill:#000000; fill-opacity:1\\\" points=\\\"\\n  1132.17,1507.47 1118.03,1501.61 1112.17,1487.47 1118.03,1473.33 1132.17,1467.47 1146.31,1473.33 1152.17,1487.47 1146.31,1501.61 \\n  \\\"\\/>\\n<polygon clip-path=\\\"url(#clip8602)\\\" style=\\\"fill:#009af9; fill-opacity:1\\\" points=\\\"\\n  1132.17,1503.47 1120.86,1498.79 1116.17,1487.47 1120.86,1476.16 1132.17,1471.47 1143.48,1476.16 1148.17,1487.47 1143.48,1498.79 \\n  \\\"\\/>\\n<polygon clip-path=\\\"url(#clip8602)\\\" style=\\\"fill:#000000; fill-opacity:1\\\" points=\\\"\\n  1152.87,998.873 1138.73,993.013 1132.87,978.873 1138.73,964.733 1152.87,958.873 1167.01,964.733 1172.87,978.873 1167.01,993.013 \\n  \\\"\\/>\\n<polygon clip-path=\\\"url(#clip8602)\\\" style=\\\"fill:#009af9; fill-opacity:1\\\" points=\\\"\\n  1152.87,994.873 1141.55,990.185 1136.87,978.873 1141.55,967.561 1152.87,962.873 1164.18,967.561 1168.87,978.873 1164.18,990.185 \\n  \\\"\\/>\\n<polygon clip-path=\\\"url(#clip8602)\\\" style=\\\"fill:#000000; fill-opacity:1\\\" points=\\\"\\n  1173.57,1507.47 1159.43,1501.61 1153.57,1487.47 1159.43,1473.33 1173.57,1467.47 1187.71,1473.33 1193.57,1487.47 1187.71,1501.61 \\n  \\\"\\/>\\n<polygon clip-path=\\\"url(#clip8602)\\\" style=\\\"fill:#009af9; fill-opacity:1\\\" points=\\\"\\n  1173.57,1503.47 1162.25,1498.79 1157.57,1487.47 1162.25,1476.16 1173.57,1471.47 1184.88,1476.16 1189.57,1487.47 1184.88,1498.79 \\n  \\\"\\/>\\n<polygon clip-path=\\\"url(#clip8602)\\\" style=\\\"fill:#000000; fill-opacity:1\\\" points=\\\"\\n  1194.26,910.421 1180.12,904.561 1174.26,890.421 1180.12,876.281 1194.26,870.421 1208.4,876.281 1214.26,890.421 1208.4,904.561 \\n  \\\"\\/>\\n<polygon clip-path=\\\"url(#clip8602)\\\" style=\\\"fill:#009af9; fill-opacity:1\\\" points=\\\"\\n  1194.26,906.421 1182.95,901.733 1178.26,890.421 1182.95,879.109 1194.26,874.421 1205.58,879.109 1210.26,890.421 1205.58,901.733 \\n  \\\"\\/>\\n<polygon clip-path=\\\"url(#clip8602)\\\" style=\\\"fill:#000000; fill-opacity:1\\\" points=\\\"\\n  1214.96,1507.47 1200.82,1501.61 1194.96,1487.47 1200.82,1473.33 1214.96,1467.47 1229.1,1473.33 1234.96,1487.47 1229.1,1501.61 \\n  \\\"\\/>\\n<polygon clip-path=\\\"url(#clip8602)\\\" style=\\\"fill:#009af9; fill-opacity:1\\\" points=\\\"\\n  1214.96,1503.47 1203.65,1498.79 1198.96,1487.47 1203.65,1476.16 1214.96,1471.47 1226.27,1476.16 1230.96,1487.47 1226.27,1498.79 \\n  \\\"\\/>\\n<polygon clip-path=\\\"url(#clip8602)\\\" style=\\\"fill:#000000; fill-opacity:1\\\" points=\\\"\\n  1235.66,860.666 1221.52,854.806 1215.66,840.666 1221.52,826.526 1235.66,820.666 1249.8,826.526 1255.66,840.666 1249.8,854.806 \\n  \\\"\\/>\\n<polygon clip-path=\\\"url(#clip8602)\\\" style=\\\"fill:#009af9; fill-opacity:1\\\" points=\\\"\\n  1235.66,856.666 1224.35,851.978 1219.66,840.666 1224.35,829.354 1235.66,824.666 1246.97,829.354 1251.66,840.666 1246.97,851.978 \\n  \\\"\\/>\\n<polygon clip-path=\\\"url(#clip8602)\\\" style=\\\"fill:#000000; fill-opacity:1\\\" points=\\\"\\n  1256.36,1507.47 1242.22,1501.61 1236.36,1487.47 1242.22,1473.33 1256.36,1467.47 1270.5,1473.33 1276.36,1487.47 1270.5,1501.61 \\n  \\\"\\/>\\n<polygon clip-path=\\\"url(#clip8602)\\\" style=\\\"fill:#009af9; fill-opacity:1\\\" points=\\\"\\n  1256.36,1503.47 1245.05,1498.79 1240.36,1487.47 1245.05,1476.16 1256.36,1471.47 1267.67,1476.16 1272.36,1487.47 1267.67,1498.79 \\n  \\\"\\/>\\n<polygon clip-path=\\\"url(#clip8602)\\\" style=\\\"fill:#000000; fill-opacity:1\\\" points=\\\"\\n  1277.06,860.666 1262.92,854.806 1257.06,840.666 1262.92,826.526 1277.06,820.666 1291.2,826.526 1297.06,840.666 1291.2,854.806 \\n  \\\"\\/>\\n<polygon clip-path=\\\"url(#clip8602)\\\" style=\\\"fill:#009af9; fill-opacity:1\\\" points=\\\"\\n  1277.06,856.666 1265.75,851.978 1261.06,840.666 1265.75,829.354 1277.06,824.666 1288.37,829.354 1293.06,840.666 1288.37,851.978 \\n  \\\"\\/>\\n<polygon clip-path=\\\"url(#clip8602)\\\" style=\\\"fill:#000000; fill-opacity:1\\\" points=\\\"\\n  1297.76,1507.47 1283.62,1501.61 1277.76,1487.47 1283.62,1473.33 1297.76,1467.47 1311.9,1473.33 1317.76,1487.47 1311.9,1501.61 \\n  \\\"\\/>\\n<polygon clip-path=\\\"url(#clip8602)\\\" style=\\\"fill:#009af9; fill-opacity:1\\\" points=\\\"\\n  1297.76,1503.47 1286.44,1498.79 1281.76,1487.47 1286.44,1476.16 1297.76,1471.47 1309.07,1476.16 1313.76,1487.47 1309.07,1498.79 \\n  \\\"\\/>\\n<polygon clip-path=\\\"url(#clip8602)\\\" style=\\\"fill:#000000; fill-opacity:1\\\" points=\\\"\\n  1318.45,910.421 1304.31,904.561 1298.45,890.421 1304.31,876.281 1318.45,870.421 1332.59,876.281 1338.45,890.421 1332.59,904.561 \\n  \\\"\\/>\\n<polygon clip-path=\\\"url(#clip8602)\\\" style=\\\"fill:#009af9; fill-opacity:1\\\" points=\\\"\\n  1318.45,906.421 1307.14,901.733 1302.45,890.421 1307.14,879.109 1318.45,874.421 1329.77,879.109 1334.45,890.421 1329.77,901.733 \\n  \\\"\\/>\\n<polygon clip-path=\\\"url(#clip8602)\\\" style=\\\"fill:#000000; fill-opacity:1\\\" points=\\\"\\n  1339.15,1507.47 1325.01,1501.61 1319.15,1487.47 1325.01,1473.33 1339.15,1467.47 1353.29,1473.33 1359.15,1487.47 1353.29,1501.61 \\n  \\\"\\/>\\n<polygon clip-path=\\\"url(#clip8602)\\\" style=\\\"fill:#009af9; fill-opacity:1\\\" points=\\\"\\n  1339.15,1503.47 1327.84,1498.79 1323.15,1487.47 1327.84,1476.16 1339.15,1471.47 1350.46,1476.16 1355.15,1487.47 1350.46,1498.79 \\n  \\\"\\/>\\n<polygon clip-path=\\\"url(#clip8602)\\\" style=\\\"fill:#000000; fill-opacity:1\\\" points=\\\"\\n  1359.85,998.873 1345.71,993.013 1339.85,978.873 1345.71,964.733 1359.85,958.873 1373.99,964.733 1379.85,978.873 1373.99,993.013 \\n  \\\"\\/>\\n<polygon clip-path=\\\"url(#clip8602)\\\" style=\\\"fill:#009af9; fill-opacity:1\\\" points=\\\"\\n  1359.85,994.873 1348.54,990.185 1343.85,978.873 1348.54,967.561 1359.85,962.873 1371.16,967.561 1375.85,978.873 1371.16,990.185 \\n  \\\"\\/>\\n<polygon clip-path=\\\"url(#clip8602)\\\" style=\\\"fill:#000000; fill-opacity:1\\\" points=\\\"\\n  1380.55,1507.47 1366.41,1501.61 1360.55,1487.47 1366.41,1473.33 1380.55,1467.47 1394.69,1473.33 1400.55,1487.47 1394.69,1501.61 \\n  \\\"\\/>\\n<polygon clip-path=\\\"url(#clip8602)\\\" style=\\\"fill:#009af9; fill-opacity:1\\\" points=\\\"\\n  1380.55,1503.47 1369.24,1498.79 1364.55,1487.47 1369.24,1476.16 1380.55,1471.47 1391.86,1476.16 1396.55,1487.47 1391.86,1498.79 \\n  \\\"\\/>\\n<polygon clip-path=\\\"url(#clip8602)\\\" style=\\\"fill:#000000; fill-opacity:1\\\" points=\\\"\\n  1401.25,1107.86 1387.11,1102 1381.25,1087.86 1387.11,1073.72 1401.25,1067.86 1415.39,1073.72 1421.25,1087.86 1415.39,1102 \\n  \\\"\\/>\\n<polygon clip-path=\\\"url(#clip8602)\\\" style=\\\"fill:#009af9; fill-opacity:1\\\" points=\\\"\\n  1401.25,1103.86 1389.94,1099.17 1385.25,1087.86 1389.94,1076.55 1401.25,1071.86 1412.56,1076.55 1417.25,1087.86 1412.56,1099.17 \\n  \\\"\\/>\\n<polygon clip-path=\\\"url(#clip8602)\\\" style=\\\"fill:#000000; fill-opacity:1\\\" points=\\\"\\n  1421.95,1507.47 1407.81,1501.61 1401.95,1487.47 1407.81,1473.33 1421.95,1467.47 1436.09,1473.33 1441.95,1487.47 1436.09,1501.61 \\n  \\\"\\/>\\n<polygon clip-path=\\\"url(#clip8602)\\\" style=\\\"fill:#009af9; fill-opacity:1\\\" points=\\\"\\n  1421.95,1503.47 1410.63,1498.79 1405.95,1487.47 1410.63,1476.16 1421.95,1471.47 1433.26,1476.16 1437.95,1487.47 1433.26,1498.79 \\n  \\\"\\/>\\n<polygon clip-path=\\\"url(#clip8602)\\\" style=\\\"fill:#000000; fill-opacity:1\\\" points=\\\"\\n  1442.64,1218.1 1428.5,1212.24 1422.64,1198.1 1428.5,1183.96 1442.64,1178.1 1456.78,1183.96 1462.64,1198.1 1456.78,1212.24 \\n  \\\"\\/>\\n<polygon clip-path=\\\"url(#clip8602)\\\" style=\\\"fill:#009af9; fill-opacity:1\\\" points=\\\"\\n  1442.64,1214.1 1431.33,1209.41 1426.64,1198.1 1431.33,1186.79 1442.64,1182.1 1453.96,1186.79 1458.64,1198.1 1453.96,1209.41 \\n  \\\"\\/>\\n<polygon clip-path=\\\"url(#clip8602)\\\" style=\\\"fill:#000000; fill-opacity:1\\\" points=\\\"\\n  1463.34,1507.47 1449.2,1501.61 1443.34,1487.47 1449.2,1473.33 1463.34,1467.47 1477.48,1473.33 1483.34,1487.47 1477.48,1501.61 \\n  \\\"\\/>\\n<polygon clip-path=\\\"url(#clip8602)\\\" style=\\\"fill:#009af9; fill-opacity:1\\\" points=\\\"\\n  1463.34,1503.47 1452.03,1498.79 1447.34,1487.47 1452.03,1476.16 1463.34,1471.47 1474.66,1476.16 1479.34,1487.47 1474.66,1498.79 \\n  \\\"\\/>\\n<polygon clip-path=\\\"url(#clip8602)\\\" style=\\\"fill:#000000; fill-opacity:1\\\" points=\\\"\\n  1484.04,1314.56 1469.9,1308.7 1464.04,1294.56 1469.9,1280.42 1484.04,1274.56 1498.18,1280.42 1504.04,1294.56 1498.18,1308.7 \\n  \\\"\\/>\\n<polygon clip-path=\\\"url(#clip8602)\\\" style=\\\"fill:#009af9; fill-opacity:1\\\" points=\\\"\\n  1484.04,1310.56 1472.73,1305.87 1468.04,1294.56 1472.73,1283.24 1484.04,1278.56 1495.35,1283.24 1500.04,1294.56 1495.35,1305.87 \\n  \\\"\\/>\\n<polygon clip-path=\\\"url(#clip8602)\\\" style=\\\"fill:#000000; fill-opacity:1\\\" points=\\\"\\n  1504.74,1507.47 1490.6,1501.61 1484.74,1487.47 1490.6,1473.33 1504.74,1467.47 1518.88,1473.33 1524.74,1487.47 1518.88,1501.61 \\n  \\\"\\/>\\n<polygon clip-path=\\\"url(#clip8602)\\\" style=\\\"fill:#009af9; fill-opacity:1\\\" points=\\\"\\n  1504.74,1503.47 1493.43,1498.79 1488.74,1487.47 1493.43,1476.16 1504.74,1471.47 1516.05,1476.16 1520.74,1487.47 1516.05,1498.79 \\n  \\\"\\/>\\n<polygon clip-path=\\\"url(#clip8602)\\\" style=\\\"fill:#000000; fill-opacity:1\\\" points=\\\"\\n  1525.44,1389.23 1511.3,1383.37 1505.44,1369.23 1511.3,1355.09 1525.44,1349.23 1539.58,1355.09 1545.44,1369.23 1539.58,1383.37 \\n  \\\"\\/>\\n<polygon clip-path=\\\"url(#clip8602)\\\" style=\\\"fill:#009af9; fill-opacity:1\\\" points=\\\"\\n  1525.44,1385.23 1514.13,1380.55 1509.44,1369.23 1514.13,1357.92 1525.44,1353.23 1536.75,1357.92 1541.44,1369.23 1536.75,1380.55 \\n  \\\"\\/>\\n<polygon clip-path=\\\"url(#clip8602)\\\" style=\\\"fill:#000000; fill-opacity:1\\\" points=\\\"\\n  1546.14,1507.47 1532,1501.61 1526.14,1487.47 1532,1473.33 1546.14,1467.47 1560.28,1473.33 1566.14,1487.47 1560.28,1501.61 \\n  \\\"\\/>\\n<polygon clip-path=\\\"url(#clip8602)\\\" style=\\\"fill:#009af9; fill-opacity:1\\\" points=\\\"\\n  1546.14,1503.47 1534.83,1498.79 1530.14,1487.47 1534.83,1476.16 1546.14,1471.47 1557.45,1476.16 1562.14,1487.47 1557.45,1498.79 \\n  \\\"\\/>\\n<polygon clip-path=\\\"url(#clip8602)\\\" style=\\\"fill:#000000; fill-opacity:1\\\" points=\\\"\\n  1566.84,1440.96 1552.7,1435.1 1546.84,1420.96 1552.7,1406.82 1566.84,1400.96 1580.98,1406.82 1586.84,1420.96 1580.98,1435.1 \\n  \\\"\\/>\\n<polygon clip-path=\\\"url(#clip8602)\\\" style=\\\"fill:#009af9; fill-opacity:1\\\" points=\\\"\\n  1566.84,1436.96 1555.52,1432.28 1550.84,1420.96 1555.52,1409.65 1566.84,1404.96 1578.15,1409.65 1582.84,1420.96 1578.15,1432.28 \\n  \\\"\\/>\\n<polygon clip-path=\\\"url(#clip8602)\\\" style=\\\"fill:#000000; fill-opacity:1\\\" points=\\\"\\n  1587.53,1507.47 1573.39,1501.61 1567.53,1487.47 1573.39,1473.33 1587.53,1467.47 1601.67,1473.33 1607.53,1487.47 1601.67,1501.61 \\n  \\\"\\/>\\n<polygon clip-path=\\\"url(#clip8602)\\\" style=\\\"fill:#009af9; fill-opacity:1\\\" points=\\\"\\n  1587.53,1503.47 1576.22,1498.79 1571.53,1487.47 1576.22,1476.16 1587.53,1471.47 1598.85,1476.16 1603.53,1487.47 1598.85,1498.79 \\n  \\\"\\/>\\n<polygon clip-path=\\\"url(#clip8602)\\\" style=\\\"fill:#000000; fill-opacity:1\\\" points=\\\"\\n  1608.23,1473.21 1594.09,1467.35 1588.23,1453.21 1594.09,1439.07 1608.23,1433.21 1622.37,1439.07 1628.23,1453.21 1622.37,1467.35 \\n  \\\"\\/>\\n<polygon clip-path=\\\"url(#clip8602)\\\" style=\\\"fill:#009af9; fill-opacity:1\\\" points=\\\"\\n  1608.23,1469.21 1596.92,1464.52 1592.23,1453.21 1596.92,1441.9 1608.23,1437.21 1619.54,1441.9 1624.23,1453.21 1619.54,1464.52 \\n  \\\"\\/>\\n<polygon clip-path=\\\"url(#clip8602)\\\" style=\\\"fill:#000000; fill-opacity:1\\\" points=\\\"\\n  1628.93,1507.47 1614.79,1501.61 1608.93,1487.47 1614.79,1473.33 1628.93,1467.47 1643.07,1473.33 1648.93,1487.47 1643.07,1501.61 \\n  \\\"\\/>\\n<polygon clip-path=\\\"url(#clip8602)\\\" style=\\\"fill:#009af9; fill-opacity:1\\\" points=\\\"\\n  1628.93,1503.47 1617.62,1498.79 1612.93,1487.47 1617.62,1476.16 1628.93,1471.47 1640.24,1476.16 1644.93,1487.47 1640.24,1498.79 \\n  \\\"\\/>\\n<polygon clip-path=\\\"url(#clip8602)\\\" style=\\\"fill:#000000; fill-opacity:1\\\" points=\\\"\\n  1649.63,1491.35 1635.49,1485.49 1629.63,1471.35 1635.49,1457.21 1649.63,1451.35 1663.77,1457.21 1669.63,1471.35 1663.77,1485.49 \\n  \\\"\\/>\\n<polygon clip-path=\\\"url(#clip8602)\\\" style=\\\"fill:#009af9; fill-opacity:1\\\" points=\\\"\\n  1649.63,1487.35 1638.32,1482.66 1633.63,1471.35 1638.32,1460.04 1649.63,1455.35 1660.94,1460.04 1665.63,1471.35 1660.94,1482.66 \\n  \\\"\\/>\\n<polygon clip-path=\\\"url(#clip8602)\\\" style=\\\"fill:#000000; fill-opacity:1\\\" points=\\\"\\n  1670.33,1507.47 1656.19,1501.61 1650.33,1487.47 1656.19,1473.33 1670.33,1467.47 1684.47,1473.33 1690.33,1487.47 1684.47,1501.61 \\n  \\\"\\/>\\n<polygon clip-path=\\\"url(#clip8602)\\\" style=\\\"fill:#009af9; fill-opacity:1\\\" points=\\\"\\n  1670.33,1503.47 1659.02,1498.79 1654.33,1487.47 1659.02,1476.16 1670.33,1471.47 1681.64,1476.16 1686.33,1487.47 1681.64,1498.79 \\n  \\\"\\/>\\n<polygon clip-path=\\\"url(#clip8602)\\\" style=\\\"fill:#000000; fill-opacity:1\\\" points=\\\"\\n  1691.03,1500.56 1676.89,1494.7 1671.03,1480.56 1676.89,1466.42 1691.03,1460.56 1705.17,1466.42 1711.03,1480.56 1705.17,1494.7 \\n  \\\"\\/>\\n<polygon clip-path=\\\"url(#clip8602)\\\" style=\\\"fill:#009af9; fill-opacity:1\\\" points=\\\"\\n  1691.03,1496.56 1679.71,1491.88 1675.03,1480.56 1679.71,1469.25 1691.03,1464.56 1702.34,1469.25 1707.03,1480.56 1702.34,1491.88 \\n  \\\"\\/>\\n<polygon clip-path=\\\"url(#clip8602)\\\" style=\\\"fill:#000000; fill-opacity:1\\\" points=\\\"\\n  1711.72,1507.47 1697.58,1501.61 1691.72,1487.47 1697.58,1473.33 1711.72,1467.47 1725.86,1473.33 1731.72,1487.47 1725.86,1501.61 \\n  \\\"\\/>\\n<polygon clip-path=\\\"url(#clip8602)\\\" style=\\\"fill:#009af9; fill-opacity:1\\\" points=\\\"\\n  1711.72,1503.47 1700.41,1498.79 1695.72,1487.47 1700.41,1476.16 1711.72,1471.47 1723.04,1476.16 1727.72,1487.47 1723.04,1498.79 \\n  \\\"\\/>\\n<polygon clip-path=\\\"url(#clip8602)\\\" style=\\\"fill:#000000; fill-opacity:1\\\" points=\\\"\\n  1732.42,1504.79 1718.28,1498.93 1712.42,1484.79 1718.28,1470.65 1732.42,1464.79 1746.56,1470.65 1752.42,1484.79 1746.56,1498.93 \\n  \\\"\\/>\\n<polygon clip-path=\\\"url(#clip8602)\\\" style=\\\"fill:#009af9; fill-opacity:1\\\" points=\\\"\\n  1732.42,1500.79 1721.11,1496.1 1716.42,1484.79 1721.11,1473.48 1732.42,1468.79 1743.74,1473.48 1748.42,1484.79 1743.74,1496.1 \\n  \\\"\\/>\\n<polygon clip-path=\\\"url(#clip8602)\\\" style=\\\"fill:#000000; fill-opacity:1\\\" points=\\\"\\n  1753.12,1507.47 1738.98,1501.61 1733.12,1487.47 1738.98,1473.33 1753.12,1467.47 1767.26,1473.33 1773.12,1487.47 1767.26,1501.61 \\n  \\\"\\/>\\n<polygon clip-path=\\\"url(#clip8602)\\\" style=\\\"fill:#009af9; fill-opacity:1\\\" points=\\\"\\n  1753.12,1503.47 1741.81,1498.79 1737.12,1487.47 1741.81,1476.16 1753.12,1471.47 1764.43,1476.16 1769.12,1487.47 1764.43,1498.79 \\n  \\\"\\/>\\n<polygon clip-path=\\\"url(#clip8602)\\\" style=\\\"fill:#000000; fill-opacity:1\\\" points=\\\"\\n  1773.82,1506.53 1759.68,1500.67 1753.82,1486.53 1759.68,1472.39 1773.82,1466.53 1787.96,1472.39 1793.82,1486.53 1787.96,1500.67 \\n  \\\"\\/>\\n<polygon clip-path=\\\"url(#clip8602)\\\" style=\\\"fill:#009af9; fill-opacity:1\\\" points=\\\"\\n  1773.82,1502.53 1762.51,1497.84 1757.82,1486.53 1762.51,1475.22 1773.82,1470.53 1785.13,1475.22 1789.82,1486.53 1785.13,1497.84 \\n  \\\"\\/>\\n<polygon clip-path=\\\"url(#clip8602)\\\" style=\\\"fill:#000000; fill-opacity:1\\\" points=\\\"\\n  1794.52,1507.47 1780.38,1501.61 1774.52,1487.47 1780.38,1473.33 1794.52,1467.47 1808.66,1473.33 1814.52,1487.47 1808.66,1501.61 \\n  \\\"\\/>\\n<polygon clip-path=\\\"url(#clip8602)\\\" style=\\\"fill:#009af9; fill-opacity:1\\\" points=\\\"\\n  1794.52,1503.47 1783.21,1498.79 1778.52,1487.47 1783.21,1476.16 1794.52,1471.47 1805.83,1476.16 1810.52,1487.47 1805.83,1498.79 \\n  \\\"\\/>\\n<polygon clip-path=\\\"url(#clip8602)\\\" style=\\\"fill:#000000; fill-opacity:1\\\" points=\\\"\\n  1815.22,1507.18 1801.08,1501.32 1795.22,1487.18 1801.08,1473.04 1815.22,1467.18 1829.36,1473.04 1835.22,1487.18 1829.36,1501.32 \\n  \\\"\\/>\\n<polygon clip-path=\\\"url(#clip8602)\\\" style=\\\"fill:#009af9; fill-opacity:1\\\" points=\\\"\\n  1815.22,1503.18 1803.91,1498.49 1799.22,1487.18 1803.91,1475.86 1815.22,1471.18 1826.53,1475.86 1831.22,1487.18 1826.53,1498.49 \\n  \\\"\\/>\\n<polygon clip-path=\\\"url(#clip8602)\\\" style=\\\"fill:#000000; fill-opacity:1\\\" points=\\\"\\n  1835.92,1507.47 1821.78,1501.61 1815.92,1487.47 1821.78,1473.33 1835.92,1467.47 1850.06,1473.33 1855.92,1487.47 1850.06,1501.61 \\n  \\\"\\/>\\n<polygon clip-path=\\\"url(#clip8602)\\\" style=\\\"fill:#009af9; fill-opacity:1\\\" points=\\\"\\n  1835.92,1503.47 1824.6,1498.79 1819.92,1487.47 1824.6,1476.16 1835.92,1471.47 1847.23,1476.16 1851.92,1487.47 1847.23,1498.79 \\n  \\\"\\/>\\n<polygon clip-path=\\\"url(#clip8602)\\\" style=\\\"fill:#000000; fill-opacity:1\\\" points=\\\"\\n  1856.61,1507.39 1842.47,1501.53 1836.61,1487.39 1842.47,1473.25 1856.61,1467.39 1870.75,1473.25 1876.61,1487.39 1870.75,1501.53 \\n  \\\"\\/>\\n<polygon clip-path=\\\"url(#clip8602)\\\" style=\\\"fill:#009af9; fill-opacity:1\\\" points=\\\"\\n  1856.61,1503.39 1845.3,1498.7 1840.61,1487.39 1845.3,1476.08 1856.61,1471.39 1867.93,1476.08 1872.61,1487.39 1867.93,1498.7 \\n  \\\"\\/>\\n<polygon clip-path=\\\"url(#clip8602)\\\" style=\\\"fill:#000000; fill-opacity:1\\\" points=\\\"\\n  1877.31,1507.47 1863.17,1501.61 1857.31,1487.47 1863.17,1473.33 1877.31,1467.47 1891.45,1473.33 1897.31,1487.47 1891.45,1501.61 \\n  \\\"\\/>\\n<polygon clip-path=\\\"url(#clip8602)\\\" style=\\\"fill:#009af9; fill-opacity:1\\\" points=\\\"\\n  1877.31,1503.47 1866,1498.79 1861.31,1487.47 1866,1476.16 1877.31,1471.47 1888.62,1476.16 1893.31,1487.47 1888.62,1498.79 \\n  \\\"\\/>\\n<polygon clip-path=\\\"url(#clip8602)\\\" style=\\\"fill:#000000; fill-opacity:1\\\" points=\\\"\\n  1898.01,1507.45 1883.87,1501.59 1878.01,1487.45 1883.87,1473.31 1898.01,1467.45 1912.15,1473.31 1918.01,1487.45 1912.15,1501.59 \\n  \\\"\\/>\\n<polygon clip-path=\\\"url(#clip8602)\\\" style=\\\"fill:#009af9; fill-opacity:1\\\" points=\\\"\\n  1898.01,1503.45 1886.7,1498.77 1882.01,1487.45 1886.7,1476.14 1898.01,1471.45 1909.32,1476.14 1914.01,1487.45 1909.32,1498.77 \\n  \\\"\\/>\\n<polygon clip-path=\\\"url(#clip8602)\\\" style=\\\"fill:#000000; fill-opacity:1\\\" points=\\\"\\n  1918.71,1507.47 1904.57,1501.61 1898.71,1487.47 1904.57,1473.33 1918.71,1467.47 1932.85,1473.33 1938.71,1487.47 1932.85,1501.61 \\n  \\\"\\/>\\n<polygon clip-path=\\\"url(#clip8602)\\\" style=\\\"fill:#009af9; fill-opacity:1\\\" points=\\\"\\n  1918.71,1503.47 1907.4,1498.79 1902.71,1487.47 1907.4,1476.16 1918.71,1471.47 1930.02,1476.16 1934.71,1487.47 1930.02,1498.79 \\n  \\\"\\/>\\n<polygon clip-path=\\\"url(#clip8602)\\\" style=\\\"fill:#000000; fill-opacity:1\\\" points=\\\"\\n  1939.41,1507.47 1925.27,1501.61 1919.41,1487.47 1925.27,1473.33 1939.41,1467.47 1953.55,1473.33 1959.41,1487.47 1953.55,1501.61 \\n  \\\"\\/>\\n<polygon clip-path=\\\"url(#clip8602)\\\" style=\\\"fill:#009af9; fill-opacity:1\\\" points=\\\"\\n  1939.41,1503.47 1928.1,1498.78 1923.41,1487.47 1928.1,1476.16 1939.41,1471.47 1950.72,1476.16 1955.41,1487.47 1950.72,1498.78 \\n  \\\"\\/>\\n<polygon clip-path=\\\"url(#clip8602)\\\" style=\\\"fill:#000000; fill-opacity:1\\\" points=\\\"\\n  1960.11,1507.47 1945.97,1501.61 1940.11,1487.47 1945.97,1473.33 1960.11,1467.47 1974.25,1473.33 1980.11,1487.47 1974.25,1501.61 \\n  \\\"\\/>\\n<polygon clip-path=\\\"url(#clip8602)\\\" style=\\\"fill:#009af9; fill-opacity:1\\\" points=\\\"\\n  1960.11,1503.47 1948.79,1498.79 1944.11,1487.47 1948.79,1476.16 1960.11,1471.47 1971.42,1476.16 1976.11,1487.47 1971.42,1498.79 \\n  \\\"\\/>\\n<polygon clip-path=\\\"url(#clip8602)\\\" style=\\\"fill:#000000; fill-opacity:1\\\" points=\\\"\\n  1980.8,1507.47 1966.66,1501.61 1960.8,1487.47 1966.66,1473.33 1980.8,1467.47 1994.94,1473.33 2000.8,1487.47 1994.94,1501.61 \\n  \\\"\\/>\\n<polygon clip-path=\\\"url(#clip8602)\\\" style=\\\"fill:#009af9; fill-opacity:1\\\" points=\\\"\\n  1980.8,1503.47 1969.49,1498.79 1964.8,1487.47 1969.49,1476.16 1980.8,1471.47 1992.12,1476.16 1996.8,1487.47 1992.12,1498.79 \\n  \\\"\\/>\\n<polygon clip-path=\\\"url(#clip8602)\\\" style=\\\"fill:#000000; fill-opacity:1\\\" points=\\\"\\n  2001.5,1507.47 1987.36,1501.61 1981.5,1487.47 1987.36,1473.33 2001.5,1467.47 2015.64,1473.33 2021.5,1487.47 2015.64,1501.61 \\n  \\\"\\/>\\n<polygon clip-path=\\\"url(#clip8602)\\\" style=\\\"fill:#009af9; fill-opacity:1\\\" points=\\\"\\n  2001.5,1503.47 1990.19,1498.79 1985.5,1487.47 1990.19,1476.16 2001.5,1471.47 2012.82,1476.16 2017.5,1487.47 2012.82,1498.79 \\n  \\\"\\/>\\n<polygon clip-path=\\\"url(#clip8602)\\\" style=\\\"fill:#000000; fill-opacity:1\\\" points=\\\"\\n  2022.2,1507.47 2008.06,1501.61 2002.2,1487.47 2008.06,1473.33 2022.2,1467.47 2036.34,1473.33 2042.2,1487.47 2036.34,1501.61 \\n  \\\"\\/>\\n<polygon clip-path=\\\"url(#clip8602)\\\" style=\\\"fill:#009af9; fill-opacity:1\\\" points=\\\"\\n  2022.2,1503.47 2010.89,1498.79 2006.2,1487.47 2010.89,1476.16 2022.2,1471.47 2033.51,1476.16 2038.2,1487.47 2033.51,1498.79 \\n  \\\"\\/>\\n<polygon clip-path=\\\"url(#clip8602)\\\" style=\\\"fill:#000000; fill-opacity:1\\\" points=\\\"\\n  2042.9,1507.47 2028.76,1501.61 2022.9,1487.47 2028.76,1473.33 2042.9,1467.47 2057.04,1473.33 2062.9,1487.47 2057.04,1501.61 \\n  \\\"\\/>\\n<polygon clip-path=\\\"url(#clip8602)\\\" style=\\\"fill:#009af9; fill-opacity:1\\\" points=\\\"\\n  2042.9,1503.47 2031.59,1498.79 2026.9,1487.47 2031.59,1476.16 2042.9,1471.47 2054.21,1476.16 2058.9,1487.47 2054.21,1498.79 \\n  \\\"\\/>\\n<polygon clip-path=\\\"url(#clip8602)\\\" style=\\\"fill:#000000; fill-opacity:1\\\" points=\\\"\\n  2063.6,1507.47 2049.46,1501.61 2043.6,1487.47 2049.46,1473.33 2063.6,1467.47 2077.74,1473.33 2083.6,1487.47 2077.74,1501.61 \\n  \\\"\\/>\\n<polygon clip-path=\\\"url(#clip8602)\\\" style=\\\"fill:#009af9; fill-opacity:1\\\" points=\\\"\\n  2063.6,1503.47 2052.29,1498.79 2047.6,1487.47 2052.29,1476.16 2063.6,1471.47 2074.91,1476.16 2079.6,1487.47 2074.91,1498.79 \\n  \\\"\\/>\\n<polygon clip-path=\\\"url(#clip8602)\\\" style=\\\"fill:#000000; fill-opacity:1\\\" points=\\\"\\n  2084.3,1507.47 2070.16,1501.61 2064.3,1487.47 2070.16,1473.33 2084.3,1467.47 2098.44,1473.33 2104.3,1487.47 2098.44,1501.61 \\n  \\\"\\/>\\n<polygon clip-path=\\\"url(#clip8602)\\\" style=\\\"fill:#009af9; fill-opacity:1\\\" points=\\\"\\n  2084.3,1503.47 2072.98,1498.79 2068.3,1487.47 2072.98,1476.16 2084.3,1471.47 2095.61,1476.16 2100.3,1487.47 2095.61,1498.79 \\n  \\\"\\/>\\n<polygon clip-path=\\\"url(#clip8602)\\\" style=\\\"fill:#000000; fill-opacity:1\\\" points=\\\"\\n  2105,1507.47 2090.86,1501.61 2085,1487.47 2090.86,1473.33 2105,1467.47 2119.14,1473.33 2125,1487.47 2119.14,1501.61 \\n  \\\"\\/>\\n<polygon clip-path=\\\"url(#clip8602)\\\" style=\\\"fill:#009af9; fill-opacity:1\\\" points=\\\"\\n  2105,1503.47 2093.68,1498.79 2089,1487.47 2093.68,1476.16 2105,1471.47 2116.31,1476.16 2121,1487.47 2116.31,1498.79 \\n  \\\"\\/>\\n<polygon clip-path=\\\"url(#clip8602)\\\" style=\\\"fill:#000000; fill-opacity:1\\\" points=\\\"\\n  2125.69,1507.47 2111.55,1501.61 2105.69,1487.47 2111.55,1473.33 2125.69,1467.47 2139.83,1473.33 2145.69,1487.47 2139.83,1501.61 \\n  \\\"\\/>\\n<polygon clip-path=\\\"url(#clip8602)\\\" style=\\\"fill:#009af9; fill-opacity:1\\\" points=\\\"\\n  2125.69,1503.47 2114.38,1498.79 2109.69,1487.47 2114.38,1476.16 2125.69,1471.47 2137.01,1476.16 2141.69,1487.47 2137.01,1498.79 \\n  \\\"\\/>\\n<polygon clip-path=\\\"url(#clip8602)\\\" style=\\\"fill:#000000; fill-opacity:1\\\" points=\\\"\\n  2146.39,1507.47 2132.25,1501.61 2126.39,1487.47 2132.25,1473.33 2146.39,1467.47 2160.53,1473.33 2166.39,1487.47 2160.53,1501.61 \\n  \\\"\\/>\\n<polygon clip-path=\\\"url(#clip8602)\\\" style=\\\"fill:#009af9; fill-opacity:1\\\" points=\\\"\\n  2146.39,1503.47 2135.08,1498.79 2130.39,1487.47 2135.08,1476.16 2146.39,1471.47 2157.7,1476.16 2162.39,1487.47 2157.7,1498.79 \\n  \\\"\\/>\\n<polygon clip-path=\\\"url(#clip8602)\\\" style=\\\"fill:#000000; fill-opacity:1\\\" points=\\\"\\n  2167.09,1507.47 2152.95,1501.61 2147.09,1487.47 2152.95,1473.33 2167.09,1467.47 2181.23,1473.33 2187.09,1487.47 2181.23,1501.61 \\n  \\\"\\/>\\n<polygon clip-path=\\\"url(#clip8602)\\\" style=\\\"fill:#009af9; fill-opacity:1\\\" points=\\\"\\n  2167.09,1503.47 2155.78,1498.79 2151.09,1487.47 2155.78,1476.16 2167.09,1471.47 2178.4,1476.16 2183.09,1487.47 2178.4,1498.79 \\n  \\\"\\/>\\n<polygon clip-path=\\\"url(#clip8602)\\\" style=\\\"fill:#000000; fill-opacity:1\\\" points=\\\"\\n  2187.79,1507.47 2173.65,1501.61 2167.79,1487.47 2173.65,1473.33 2187.79,1467.47 2201.93,1473.33 2207.79,1487.47 2201.93,1501.61 \\n  \\\"\\/>\\n<polygon clip-path=\\\"url(#clip8602)\\\" style=\\\"fill:#009af9; fill-opacity:1\\\" points=\\\"\\n  2187.79,1503.47 2176.48,1498.79 2171.79,1487.47 2176.48,1476.16 2187.79,1471.47 2199.1,1476.16 2203.79,1487.47 2199.1,1498.79 \\n  \\\"\\/>\\n<polygon clip-path=\\\"url(#clip8602)\\\" style=\\\"fill:#000000; fill-opacity:1\\\" points=\\\"\\n  2208.49,1507.47 2194.35,1501.61 2188.49,1487.47 2194.35,1473.33 2208.49,1467.47 2222.63,1473.33 2228.49,1487.47 2222.63,1501.61 \\n  \\\"\\/>\\n<polygon clip-path=\\\"url(#clip8602)\\\" style=\\\"fill:#009af9; fill-opacity:1\\\" points=\\\"\\n  2208.49,1503.47 2197.18,1498.79 2192.49,1487.47 2197.18,1476.16 2208.49,1471.47 2219.8,1476.16 2224.49,1487.47 2219.8,1498.79 \\n  \\\"\\/>\\n<polygon clip-path=\\\"url(#clip8602)\\\" style=\\\"fill:#000000; fill-opacity:1\\\" points=\\\"\\n  2229.19,1507.47 2215.05,1501.61 2209.19,1487.47 2215.05,1473.33 2229.19,1467.47 2243.33,1473.33 2249.19,1487.47 2243.33,1501.61 \\n  \\\"\\/>\\n<polygon clip-path=\\\"url(#clip8602)\\\" style=\\\"fill:#009af9; fill-opacity:1\\\" points=\\\"\\n  2229.19,1503.47 2217.87,1498.79 2213.19,1487.47 2217.87,1476.16 2229.19,1471.47 2240.5,1476.16 2245.19,1487.47 2240.5,1498.79 \\n  \\\"\\/>\\n<polygon clip-path=\\\"url(#clip8602)\\\" style=\\\"fill:#000000; fill-opacity:1\\\" points=\\\"\\n  2249.88,1507.47 2235.74,1501.61 2229.88,1487.47 2235.74,1473.33 2249.88,1467.47 2264.02,1473.33 2269.88,1487.47 2264.02,1501.61 \\n  \\\"\\/>\\n<polygon clip-path=\\\"url(#clip8602)\\\" style=\\\"fill:#009af9; fill-opacity:1\\\" points=\\\"\\n  2249.88,1503.47 2238.57,1498.79 2233.88,1487.47 2238.57,1476.16 2249.88,1471.47 2261.2,1476.16 2265.88,1487.47 2261.2,1498.79 \\n  \\\"\\/>\\n<polygon clip-path=\\\"url(#clip8602)\\\" style=\\\"fill:#000000; fill-opacity:1\\\" points=\\\"\\n  2270.58,1507.47 2256.44,1501.61 2250.58,1487.47 2256.44,1473.33 2270.58,1467.47 2284.72,1473.33 2290.58,1487.47 2284.72,1501.61 \\n  \\\"\\/>\\n<polygon clip-path=\\\"url(#clip8602)\\\" style=\\\"fill:#009af9; fill-opacity:1\\\" points=\\\"\\n  2270.58,1503.47 2259.27,1498.79 2254.58,1487.47 2259.27,1476.16 2270.58,1471.47 2281.9,1476.16 2286.58,1487.47 2281.9,1498.79 \\n  \\\"\\/>\\n<polygon clip-path=\\\"url(#clip8602)\\\" style=\\\"fill:#000000; fill-opacity:1\\\" points=\\\"\\n  2291.28,1507.47 2277.14,1501.61 2271.28,1487.47 2277.14,1473.33 2291.28,1467.47 2305.42,1473.33 2311.28,1487.47 2305.42,1501.61 \\n  \\\"\\/>\\n<polygon clip-path=\\\"url(#clip8602)\\\" style=\\\"fill:#009af9; fill-opacity:1\\\" points=\\\"\\n  2291.28,1503.47 2279.97,1498.79 2275.28,1487.47 2279.97,1476.16 2291.28,1471.47 2302.59,1476.16 2307.28,1487.47 2302.59,1498.79 \\n  \\\"\\/>\\n<path clip-path=\\\"url(#clip8600)\\\" d=\\\"\\nM1989.93 251.724 L2280.76 251.724 L2280.76 130.764 L1989.93 130.764  Z\\n  \\\" fill=\\\"#ffffff\\\" fill-rule=\\\"evenodd\\\" fill-opacity=\\\"1\\\"\\/>\\n<polyline clip-path=\\\"url(#clip8600)\\\" style=\\\"stroke:#000000; stroke-width:4; stroke-opacity:1; fill:none\\\" points=\\\"\\n  1989.93,251.724 2280.76,251.724 2280.76,130.764 1989.93,130.764 1989.93,251.724 \\n  \\\"\\/>\\n<polyline clip-path=\\\"url(#clip8600)\\\" style=\\\"stroke:#009af9; stroke-width:4; stroke-opacity:1; fill:none\\\" points=\\\"\\n  2013.93,191.244 2157.93,191.244 \\n  \\\"\\/>\\n<polygon clip-path=\\\"url(#clip8600)\\\" style=\\\"fill:#000000; fill-opacity:1\\\" points=\\\"\\n  2097.93,219.244 2078.13,211.04 2069.93,191.244 2078.13,171.448 2097.93,163.244 2117.72,171.448 2125.93,191.244 2117.72,211.04 \\n  \\\"\\/>\\n<polygon clip-path=\\\"url(#clip8600)\\\" style=\\\"fill:#009af9; fill-opacity:1\\\" points=\\\"\\n  2097.93,215.244 2080.96,208.212 2073.93,191.244 2080.96,174.276 2097.93,167.244 2114.89,174.276 2121.93,191.244 2114.89,208.212 \\n  \\\"\\/>\\n<g clip-path=\\\"url(#clip8600)\\\">\\n<text style=\\\"fill:#000000; fill-opacity:1; font-family:Arial,Helvetica Neue,Helvetica,sans-serif; font-size:48px; text-anchor:start;\\\" transform=\\\"rotate(0, 2181.93, 208.744)\\\" x=\\\"2181.93\\\" y=\\\"208.744\\\">y1<\\/text>\\n<\\/g>\\n<\\/svg>\\n\"},\"nodeType\":\"DOM\",\"type\":\"node\",\"instanceArgs\":{\"namespace\":\"html\",\"tag\":\"div\"},\"children\":[]}]}}}},\"children\":[{\"props\":{},\"nodeType\":\"ObservableNode\",\"type\":\"node\",\"instanceArgs\":{\"id\":\"ob_22\",\"name\":\"obs-node\"},\"children\":[]}]}]},\n",
       "            window,\n",
       "        );\n",
       "    } else {\n",
       "        document\n",
       "            .querySelector('[data-webio-mountpoint=\"9500907984552921813\"]')\n",
       "            .innerHTML = (\n",
       "                '<strong>WebIO not detected. Please read ' +\n",
       "                '<a href=\"https://juliagizmos.github.io/WebIO.jl/latest/troubleshooting/not-detected/\">the troubleshooting guide</a> ' +\n",
       "                'for more information on how to resolve this issue.' +\n",
       "                '</strong>'\n",
       "            );\n",
       "    }\n",
       "    </script>\n",
       "</div>\n"
      ],
      "text/plain": [
       "Node{WebIO.DOM}(WebIO.DOM(:html, :div), Any[Node{WebIO.DOM}(WebIO.DOM(:html, :div), Any[Scope(Node{WebIO.DOM}(WebIO.DOM(:html, :div), Any[Node{WebIO.DOM}(WebIO.DOM(:html, :div), Any[Node{WebIO.DOM}(WebIO.DOM(:html, :label), Any[\"t\"], Dict{Symbol,Any}(:className => \"interact \",:style => Dict{Any,Any}(:padding => \"5px 10px 0px 10px\")))], Dict{Symbol,Any}(:className => \"interact-flex-row-left\")), Node{WebIO.DOM}(WebIO.DOM(:html, :div), Any[Node{WebIO.DOM}(WebIO.DOM(:html, :input), Any[], Dict{Symbol,Any}(:max => 100,:min => 1,:attributes => Dict{Any,Any}(:type => \"range\",Symbol(\"data-bind\") => \"numericValue: index, valueUpdate: 'input', event: {change: function (){this.changes(this.changes()+1)}}\",\"orient\" => \"horizontal\"),:step => 1,:className => \"slider slider is-fullwidth\",:style => Dict{Any,Any}()))], Dict{Symbol,Any}(:className => \"interact-flex-row-center\")), Node{WebIO.DOM}(WebIO.DOM(:html, :div), Any[Node{WebIO.DOM}(WebIO.DOM(:html, :p), Any[], Dict{Symbol,Any}(:attributes => Dict(\"data-bind\" => \"text: formatted_val\")))], Dict{Symbol,Any}(:className => \"interact-flex-row-right\"))], Dict{Symbol,Any}(:className => \"interact-flex-row interact-widget\")), Dict{String,Tuple{Observables.AbstractObservable,Union{Nothing, Bool}}}(\"changes\" => (Observable{Int64} with 1 listeners. Value:\n",
       "0, nothing),\"index\" => (Observable{Int64} with 2 listeners. Value:\n",
       "50, nothing)), Set(String[]), nothing, Asset[Asset(\"js\", \"knockout\", \"/Users/dpsanders/.julia/packages/Knockout/1sDlc/src/../assets/knockout.js\"), Asset(\"js\", \"knockout_punches\", \"/Users/dpsanders/.julia/packages/Knockout/1sDlc/src/../assets/knockout_punches.js\"), Asset(\"js\", nothing, \"/Users/dpsanders/.julia/packages/InteractBase/9mFwe/src/../assets/all.js\"), Asset(\"css\", nothing, \"/Users/dpsanders/.julia/packages/InteractBase/9mFwe/src/../assets/style.css\"), Asset(\"css\", nothing, \"/Users/dpsanders/.julia/packages/Interact/SbgIk/src/../assets/bulma_confined.min.css\")], Dict{Any,Any}(\"changes\" => Any[WebIO.JSString(\"(function (val){return (val!=this.model[\\\"changes\\\"]()) ? (this.valueFromJulia[\\\"changes\\\"]=true, this.model[\\\"changes\\\"](val)) : undefined})\")],\"index\" => Any[WebIO.JSString(\"(function (val){return (val!=this.model[\\\"index\\\"]()) ? (this.valueFromJulia[\\\"index\\\"]=true, this.model[\\\"index\\\"](val)) : undefined})\")]), WebIO.ConnectionPool(Channel{Any}(sz_max:32,sz_curr:0), Set(AbstractConnection[]), Base.GenericCondition{Base.AlwaysLockedST}(Base.InvasiveLinkedList{Task}(Task (runnable) @0x000000011dc9ef50, Task (runnable) @0x000000011dc9ef50), Base.AlwaysLockedST(1))), WebIO.JSString[WebIO.JSString(\"function () {\\n    var handler = (function (ko, koPunches) {\\n    ko.punches.enableAll();\\n    ko.bindingHandlers.numericValue = {\\n        init: function(element, valueAccessor, allBindings, data, context) {\\n            var stringified = ko.observable(ko.unwrap(valueAccessor()));\\n            stringified.subscribe(function(value) {\\n                var val = parseFloat(value);\\n                if (!isNaN(val)) {\\n                    valueAccessor()(val);\\n                }\\n            });\\n            valueAccessor().subscribe(function(value) {\\n                var str = JSON.stringify(value);\\n                if ((str == \\\"0\\\") && ([\\\"-0\\\", \\\"-0.\\\"].indexOf(stringified()) >= 0))\\n                     return;\\n                 if ([\\\"null\\\", \\\"\\\"].indexOf(str) >= 0)\\n                     return;\\n                stringified(str);\\n            });\\n            ko.applyBindingsToNode(\\n                element,\\n                {\\n                    value: stringified,\\n                    valueUpdate: allBindings.get('valueUpdate'),\\n                },\\n                context,\\n            );\\n        }\\n    };\\n    var json_data = {\\\"formatted_vals\\\":[\\\"1\\\",\\\"2\\\",\\\"3\\\",\\\"4\\\",\\\"5\\\",\\\"6\\\",\\\"7\\\",\\\"8\\\",\\\"9\\\",\\\"10\\\",\\\"11\\\",\\\"12\\\",\\\"13\\\",\\\"14\\\",\\\"15\\\",\\\"16\\\",\\\"17\\\",\\\"18\\\",\\\"19\\\",\\\"20\\\",\\\"21\\\",\\\"22\\\",\\\"23\\\",\\\"24\\\",\\\"25\\\",\\\"26\\\",\\\"27\\\",\\\"28\\\",\\\"29\\\",\\\"30\\\",\\\"31\\\",\\\"32\\\",\\\"33\\\",\\\"34\\\",\\\"35\\\",\\\"36\\\",\\\"37\\\",\\\"38\\\",\\\"39\\\",\\\"40\\\",\\\"41\\\",\\\"42\\\",\\\"43\\\",\\\"44\\\",\\\"45\\\",\\\"46\\\",\\\"47\\\",\\\"48\\\",\\\"49\\\",\\\"50\\\",\\\"51\\\",\\\"52\\\",\\\"53\\\",\\\"54\\\",\\\"55\\\",\\\"56\\\",\\\"57\\\",\\\"58\\\",\\\"59\\\",\\\"60\\\",\\\"61\\\",\\\"62\\\",\\\"63\\\",\\\"64\\\",\\\"65\\\",\\\"66\\\",\\\"67\\\",\\\"68\\\",\\\"69\\\",\\\"70\\\",\\\"71\\\",\\\"72\\\",\\\"73\\\",\\\"74\\\",\\\"75\\\",\\\"76\\\",\\\"77\\\",\\\"78\\\",\\\"79\\\",\\\"80\\\",\\\"81\\\",\\\"82\\\",\\\"83\\\",\\\"84\\\",\\\"85\\\",\\\"86\\\",\\\"87\\\",\\\"88\\\",\\\"89\\\",\\\"90\\\",\\\"91\\\",\\\"92\\\",\\\"93\\\",\\\"94\\\",\\\"95\\\",\\\"96\\\",\\\"97\\\",\\\"98\\\",\\\"99\\\",\\\"100\\\"],\\\"changes\\\":WebIO.getval({\\\"name\\\":\\\"changes\\\",\\\"scope\\\":\\\"13920042373165823568\\\",\\\"id\\\":\\\"ob_18\\\",\\\"type\\\":\\\"observable\\\"}),\\\"index\\\":WebIO.getval({\\\"name\\\":\\\"index\\\",\\\"scope\\\":\\\"13920042373165823568\\\",\\\"id\\\":\\\"ob_17\\\",\\\"type\\\":\\\"observable\\\"})};\\n    var self = this;\\n    function AppViewModel() {\\n        for (var key in json_data) {\\n            var el = json_data[key];\\n            this[key] = Array.isArray(el) ? ko.observableArray(el) : ko.observable(el);\\n        }\\n        \\n        [this[\\\"formatted_val\\\"]=ko.computed(    function(){\\n        return this.formatted_vals()[parseInt(this.index())-(1)];\\n    }\\n,this)]\\n        [this[\\\"changes\\\"].subscribe((function (val){!(this.valueFromJulia[\\\"changes\\\"]) ? (WebIO.setval({\\\"name\\\":\\\"changes\\\",\\\"scope\\\":\\\"13920042373165823568\\\",\\\"id\\\":\\\"ob_18\\\",\\\"type\\\":\\\"observable\\\"},val)) : undefined; return this.valueFromJulia[\\\"changes\\\"]=false}),self),this[\\\"index\\\"].subscribe((function (val){!(this.valueFromJulia[\\\"index\\\"]) ? (WebIO.setval({\\\"name\\\":\\\"index\\\",\\\"scope\\\":\\\"13920042373165823568\\\",\\\"id\\\":\\\"ob_17\\\",\\\"type\\\":\\\"observable\\\"},val)) : undefined; return this.valueFromJulia[\\\"index\\\"]=false}),self)]\\n        \\n    }\\n    self.model = new AppViewModel();\\n    self.valueFromJulia = {};\\n    for (var key in json_data) {\\n        self.valueFromJulia[key] = false;\\n    }\\n    ko.applyBindings(self.model, self.dom);\\n}\\n);\\n    (WebIO.importBlock({\\\"data\\\":[{\\\"name\\\":\\\"knockout\\\",\\\"type\\\":\\\"js\\\",\\\"url\\\":\\\"/assetserver/9a186147d51179d2ec12ccfac1799b0b805a79d5-knockout.js\\\"},{\\\"name\\\":\\\"knockout_punches\\\",\\\"type\\\":\\\"js\\\",\\\"url\\\":\\\"/assetserver/eccef011301f679ebde0900f01478cac573870ce-knockout_punches.js\\\"}],\\\"type\\\":\\\"async_block\\\"})).then((imports) => handler.apply(this, imports));\\n}\\n\")])], Dict{Symbol,Any}(:className => \"field interact-widget\")), Observable{Any} with 0 listeners. Value:\n",
       "Node{WebIO.DOM}(WebIO.DOM(:html, :div), Any[Plot{Plots.GRBackend() n=1}], Dict{Symbol,Any}(:className => \"interact-flex-row interact-widget\"))], Dict{Symbol,Any}())"
      ]
     },
     "execution_count": 44,
     "metadata": {
      "application/vnd.webio.node+json": {
       "kernelId": "a3e0ffd0-8757-46e9-ae40-bf506f249aaa"
      }
     },
     "output_type": "execute_result"
    }
   ],
   "source": [
    "@manipulate for t in 1:T\n",
    "    plot(Ps[t], m=:o)\n",
    "    ylims!(0, 0.25)\n",
    "end"
   ]
  },
  {
   "cell_type": "code",
   "execution_count": 45,
   "metadata": {},
   "outputs": [
    {
     "data": {
      "text/plain": [
       "1.0"
      ]
     },
     "execution_count": 45,
     "metadata": {},
     "output_type": "execute_result"
    }
   ],
   "source": [
    "sum(Ps[1])"
   ]
  },
  {
   "cell_type": "code",
   "execution_count": 46,
   "metadata": {},
   "outputs": [
    {
     "data": {
      "text/plain": [
       "101-element Array{Float64,1}:\n",
       " 1.0               \n",
       " 1.0               \n",
       " 1.0               \n",
       " 1.0               \n",
       " 1.0               \n",
       " 1.0               \n",
       " 1.0               \n",
       " 1.0               \n",
       " 1.0               \n",
       " 1.0               \n",
       " 1.0               \n",
       " 1.0               \n",
       " 1.0               \n",
       " ⋮                 \n",
       " 0.9999998367894536\n",
       " 0.9999998139106124\n",
       " 0.999999765865046 \n",
       " 0.9999997344469193\n",
       " 0.999999670068321 \n",
       " 0.9999996276419488\n",
       " 0.9999995426785272\n",
       " 0.9999994862658553\n",
       " 0.9999993756970189\n",
       " 0.999999301750679 \n",
       " 0.9999991597145492\n",
       " 0.9999990640575639"
      ]
     },
     "execution_count": 46,
     "metadata": {},
     "output_type": "execute_result"
    }
   ],
   "source": [
    "sum.(Ps)"
   ]
  },
  {
   "cell_type": "code",
   "execution_count": null,
   "metadata": {},
   "outputs": [],
   "source": []
  }
 ],
 "metadata": {
  "@webio": {
   "lastCommId": "62ad43734210402f8638d74a06c22d74",
   "lastKernelId": "a3e0ffd0-8757-46e9-ae40-bf506f249aaa"
  },
  "kernelspec": {
   "display_name": "Julia 1.3.0-rc3",
   "language": "julia",
   "name": "julia-1.3"
  },
  "language_info": {
   "file_extension": ".jl",
   "mimetype": "application/julia",
   "name": "julia",
   "version": "1.3.0"
  }
 },
 "nbformat": 4,
 "nbformat_minor": 2
}
