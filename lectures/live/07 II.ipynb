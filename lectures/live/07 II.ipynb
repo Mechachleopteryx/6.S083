{
 "cells": [
  {
   "cell_type": "code",
   "execution_count": 9,
   "metadata": {},
   "outputs": [
    {
     "data": {
      "text/plain": [
       "Dict{Int64,Float64} with 3 entries:\n",
       "  4 => -100.0\n",
       "  2 => 7.5\n",
       "  1 => -3.1"
      ]
     },
     "execution_count": 9,
     "metadata": {},
     "output_type": "execute_result"
    }
   ],
   "source": [
    "d = Dict(1=>-3.1, 2=>7.5, 4=>-100.0)"
   ]
  },
  {
   "cell_type": "code",
   "execution_count": 10,
   "metadata": {},
   "outputs": [
    {
     "data": {
      "text/plain": [
       "Base.KeySet for a Dict{Int64,Float64} with 3 entries. Keys:\n",
       "  4\n",
       "  2\n",
       "  1"
      ]
     },
     "execution_count": 10,
     "metadata": {},
     "output_type": "execute_result"
    }
   ],
   "source": [
    "keys(d)"
   ]
  },
  {
   "cell_type": "code",
   "execution_count": 11,
   "metadata": {},
   "outputs": [
    {
     "data": {
      "text/plain": [
       "3-element Array{Int64,1}:\n",
       " 4\n",
       " 2\n",
       " 1"
      ]
     },
     "execution_count": 11,
     "metadata": {},
     "output_type": "execute_result"
    }
   ],
   "source": [
    "collect(keys(d))"
   ]
  },
  {
   "cell_type": "code",
   "execution_count": 12,
   "metadata": {},
   "outputs": [
    {
     "data": {
      "text/plain": [
       "3-element Array{Int64,1}:\n",
       " 1\n",
       " 2\n",
       " 4"
      ]
     },
     "execution_count": 12,
     "metadata": {},
     "output_type": "execute_result"
    }
   ],
   "source": [
    "sort(collect(keys(d)))"
   ]
  },
  {
   "cell_type": "code",
   "execution_count": 13,
   "metadata": {},
   "outputs": [
    {
     "data": {
      "text/plain": [
       "3-element Array{Int64,1}:\n",
       " 3\n",
       " 2\n",
       " 1"
      ]
     },
     "execution_count": 13,
     "metadata": {},
     "output_type": "execute_result"
    }
   ],
   "source": [
    "p = sortperm(collect(keys(d)))"
   ]
  },
  {
   "cell_type": "code",
   "execution_count": 15,
   "metadata": {},
   "outputs": [
    {
     "data": {
      "text/plain": [
       "3-element Array{Float64,1}:\n",
       " -100.0\n",
       "    7.5\n",
       "   -3.1"
      ]
     },
     "execution_count": 15,
     "metadata": {},
     "output_type": "execute_result"
    }
   ],
   "source": [
    "collect(values(d))"
   ]
  },
  {
   "cell_type": "code",
   "execution_count": 16,
   "metadata": {},
   "outputs": [
    {
     "data": {
      "text/plain": [
       "3-element Array{Float64,1}:\n",
       "   -3.1\n",
       "    7.5\n",
       " -100.0"
      ]
     },
     "execution_count": 16,
     "metadata": {},
     "output_type": "execute_result"
    }
   ],
   "source": [
    "collect(values(d))[p]"
   ]
  },
  {
   "cell_type": "code",
   "execution_count": 17,
   "metadata": {},
   "outputs": [
    {
     "data": {
      "text/plain": [
       "Dict{Int64,Float64} with 3 entries:\n",
       "  4 => -100.0\n",
       "  2 => 7.5\n",
       "  1 => -3.1"
      ]
     },
     "execution_count": 17,
     "metadata": {},
     "output_type": "execute_result"
    }
   ],
   "source": [
    "d"
   ]
  },
  {
   "cell_type": "code",
   "execution_count": 18,
   "metadata": {},
   "outputs": [
    {
     "data": {
      "text/plain": [
       "3-element Array{Pair{Int64,Float64},1}:\n",
       " 4 => -100.0\n",
       " 2 => 7.5   \n",
       " 1 => -3.1  "
      ]
     },
     "execution_count": 18,
     "metadata": {},
     "output_type": "execute_result"
    }
   ],
   "source": [
    "collect(d)"
   ]
  },
  {
   "cell_type": "code",
   "execution_count": 19,
   "metadata": {},
   "outputs": [
    {
     "data": {
      "text/plain": [
       "3-element Array{Pair{Int64,Float64},1}:\n",
       " 1 => -3.1  \n",
       " 2 => 7.5   \n",
       " 4 => -100.0"
      ]
     },
     "execution_count": 19,
     "metadata": {},
     "output_type": "execute_result"
    }
   ],
   "source": [
    "sort(collect(d))"
   ]
  },
  {
   "cell_type": "code",
   "execution_count": 20,
   "metadata": {},
   "outputs": [
    {
     "ename": "MethodError",
     "evalue": "MethodError: no method matching sort(::Dict{Int64,Float64})\nClosest candidates are:\n  sort(!Matched::AbstractUnitRange) at range.jl:969\n  sort(!Matched::AbstractRange) at range.jl:972\n  sort(!Matched::SparseArrays.SparseVector{Tv,Ti}; kws...) where {Tv, Ti} at /Users/julia/buildbot/worker/package_macos64/build/usr/share/julia/stdlib/v1.3/SparseArrays/src/sparsevector.jl:1913\n  ...",
     "output_type": "error",
     "traceback": [
      "MethodError: no method matching sort(::Dict{Int64,Float64})\nClosest candidates are:\n  sort(!Matched::AbstractUnitRange) at range.jl:969\n  sort(!Matched::AbstractRange) at range.jl:972\n  sort(!Matched::SparseArrays.SparseVector{Tv,Ti}; kws...) where {Tv, Ti} at /Users/julia/buildbot/worker/package_macos64/build/usr/share/julia/stdlib/v1.3/SparseArrays/src/sparsevector.jl:1913\n  ...",
      "",
      "Stacktrace:",
      " [1] top-level scope at In[20]:1"
     ]
    }
   ],
   "source": [
    "sort(d)"
   ]
  },
  {
   "cell_type": "code",
   "execution_count": 23,
   "metadata": {},
   "outputs": [
    {
     "data": {
      "text/plain": [
       "3×4 Array{Tuple{Int64,Int64},2}:\n",
       " (1, 1)  (1, 2)  (1, 3)  (1, 4)\n",
       " (2, 1)  (2, 2)  (2, 3)  (2, 4)\n",
       " (3, 1)  (3, 2)  (3, 3)  (3, 4)"
      ]
     },
     "execution_count": 23,
     "metadata": {},
     "output_type": "execute_result"
    }
   ],
   "source": [
    "collect(Iterators.product(1:3, 1:4))"
   ]
  },
  {
   "cell_type": "code",
   "execution_count": 24,
   "metadata": {},
   "outputs": [
    {
     "data": {
      "text/plain": [
       "3×4×5 Array{Tuple{Int64,Int64,Int64},3}:\n",
       "[:, :, 1] =\n",
       " (1, 1, 1)  (1, 2, 1)  (1, 3, 1)  (1, 4, 1)\n",
       " (2, 1, 1)  (2, 2, 1)  (2, 3, 1)  (2, 4, 1)\n",
       " (3, 1, 1)  (3, 2, 1)  (3, 3, 1)  (3, 4, 1)\n",
       "\n",
       "[:, :, 2] =\n",
       " (1, 1, 2)  (1, 2, 2)  (1, 3, 2)  (1, 4, 2)\n",
       " (2, 1, 2)  (2, 2, 2)  (2, 3, 2)  (2, 4, 2)\n",
       " (3, 1, 2)  (3, 2, 2)  (3, 3, 2)  (3, 4, 2)\n",
       "\n",
       "[:, :, 3] =\n",
       " (1, 1, 3)  (1, 2, 3)  (1, 3, 3)  (1, 4, 3)\n",
       " (2, 1, 3)  (2, 2, 3)  (2, 3, 3)  (2, 4, 3)\n",
       " (3, 1, 3)  (3, 2, 3)  (3, 3, 3)  (3, 4, 3)\n",
       "\n",
       "[:, :, 4] =\n",
       " (1, 1, 4)  (1, 2, 4)  (1, 3, 4)  (1, 4, 4)\n",
       " (2, 1, 4)  (2, 2, 4)  (2, 3, 4)  (2, 4, 4)\n",
       " (3, 1, 4)  (3, 2, 4)  (3, 3, 4)  (3, 4, 4)\n",
       "\n",
       "[:, :, 5] =\n",
       " (1, 1, 5)  (1, 2, 5)  (1, 3, 5)  (1, 4, 5)\n",
       " (2, 1, 5)  (2, 2, 5)  (2, 3, 5)  (2, 4, 5)\n",
       " (3, 1, 5)  (3, 2, 5)  (3, 3, 5)  (3, 4, 5)"
      ]
     },
     "execution_count": 24,
     "metadata": {},
     "output_type": "execute_result"
    }
   ],
   "source": [
    "collect(Iterators.product(1:3, 1:4, 1:5))"
   ]
  },
  {
   "cell_type": "code",
   "execution_count": 25,
   "metadata": {},
   "outputs": [
    {
     "data": {
      "text/plain": [
       "3×4×5×2 Array{NTuple{4,Int64},4}:\n",
       "[:, :, 1, 1] =\n",
       " (1, 1, 1, 1)  (1, 2, 1, 1)  (1, 3, 1, 1)  (1, 4, 1, 1)\n",
       " (2, 1, 1, 1)  (2, 2, 1, 1)  (2, 3, 1, 1)  (2, 4, 1, 1)\n",
       " (3, 1, 1, 1)  (3, 2, 1, 1)  (3, 3, 1, 1)  (3, 4, 1, 1)\n",
       "\n",
       "[:, :, 2, 1] =\n",
       " (1, 1, 2, 1)  (1, 2, 2, 1)  (1, 3, 2, 1)  (1, 4, 2, 1)\n",
       " (2, 1, 2, 1)  (2, 2, 2, 1)  (2, 3, 2, 1)  (2, 4, 2, 1)\n",
       " (3, 1, 2, 1)  (3, 2, 2, 1)  (3, 3, 2, 1)  (3, 4, 2, 1)\n",
       "\n",
       "[:, :, 3, 1] =\n",
       " (1, 1, 3, 1)  (1, 2, 3, 1)  (1, 3, 3, 1)  (1, 4, 3, 1)\n",
       " (2, 1, 3, 1)  (2, 2, 3, 1)  (2, 3, 3, 1)  (2, 4, 3, 1)\n",
       " (3, 1, 3, 1)  (3, 2, 3, 1)  (3, 3, 3, 1)  (3, 4, 3, 1)\n",
       "\n",
       "[:, :, 4, 1] =\n",
       " (1, 1, 4, 1)  (1, 2, 4, 1)  (1, 3, 4, 1)  (1, 4, 4, 1)\n",
       " (2, 1, 4, 1)  (2, 2, 4, 1)  (2, 3, 4, 1)  (2, 4, 4, 1)\n",
       " (3, 1, 4, 1)  (3, 2, 4, 1)  (3, 3, 4, 1)  (3, 4, 4, 1)\n",
       "\n",
       "[:, :, 5, 1] =\n",
       " (1, 1, 5, 1)  (1, 2, 5, 1)  (1, 3, 5, 1)  (1, 4, 5, 1)\n",
       " (2, 1, 5, 1)  (2, 2, 5, 1)  (2, 3, 5, 1)  (2, 4, 5, 1)\n",
       " (3, 1, 5, 1)  (3, 2, 5, 1)  (3, 3, 5, 1)  (3, 4, 5, 1)\n",
       "\n",
       "[:, :, 1, 2] =\n",
       " (1, 1, 1, 2)  (1, 2, 1, 2)  (1, 3, 1, 2)  (1, 4, 1, 2)\n",
       " (2, 1, 1, 2)  (2, 2, 1, 2)  (2, 3, 1, 2)  (2, 4, 1, 2)\n",
       " (3, 1, 1, 2)  (3, 2, 1, 2)  (3, 3, 1, 2)  (3, 4, 1, 2)\n",
       "\n",
       "[:, :, 2, 2] =\n",
       " (1, 1, 2, 2)  (1, 2, 2, 2)  (1, 3, 2, 2)  (1, 4, 2, 2)\n",
       " (2, 1, 2, 2)  (2, 2, 2, 2)  (2, 3, 2, 2)  (2, 4, 2, 2)\n",
       " (3, 1, 2, 2)  (3, 2, 2, 2)  (3, 3, 2, 2)  (3, 4, 2, 2)\n",
       "\n",
       "[:, :, 3, 2] =\n",
       " (1, 1, 3, 2)  (1, 2, 3, 2)  (1, 3, 3, 2)  (1, 4, 3, 2)\n",
       " (2, 1, 3, 2)  (2, 2, 3, 2)  (2, 3, 3, 2)  (2, 4, 3, 2)\n",
       " (3, 1, 3, 2)  (3, 2, 3, 2)  (3, 3, 3, 2)  (3, 4, 3, 2)\n",
       "\n",
       "[:, :, 4, 2] =\n",
       " (1, 1, 4, 2)  (1, 2, 4, 2)  (1, 3, 4, 2)  (1, 4, 4, 2)\n",
       " (2, 1, 4, 2)  (2, 2, 4, 2)  (2, 3, 4, 2)  (2, 4, 4, 2)\n",
       " (3, 1, 4, 2)  (3, 2, 4, 2)  (3, 3, 4, 2)  (3, 4, 4, 2)\n",
       "\n",
       "[:, :, 5, 2] =\n",
       " (1, 1, 5, 2)  (1, 2, 5, 2)  (1, 3, 5, 2)  (1, 4, 5, 2)\n",
       " (2, 1, 5, 2)  (2, 2, 5, 2)  (2, 3, 5, 2)  (2, 4, 5, 2)\n",
       " (3, 1, 5, 2)  (3, 2, 5, 2)  (3, 3, 5, 2)  (3, 4, 5, 2)"
      ]
     },
     "execution_count": 25,
     "metadata": {},
     "output_type": "execute_result"
    }
   ],
   "source": [
    "collect(Iterators.product(1:3, 1:4, 1:5, 1:2))"
   ]
  },
  {
   "cell_type": "code",
   "execution_count": 26,
   "metadata": {},
   "outputs": [
    {
     "data": {
      "text/plain": [
       "3×4×5 Array{Int64,3}:\n",
       "[:, :, 1] =\n",
       " 3  4  5  6\n",
       " 4  5  6  7\n",
       " 5  6  7  8\n",
       "\n",
       "[:, :, 2] =\n",
       " 4  5  6  7\n",
       " 5  6  7  8\n",
       " 6  7  8  9\n",
       "\n",
       "[:, :, 3] =\n",
       " 5  6  7   8\n",
       " 6  7  8   9\n",
       " 7  8  9  10\n",
       "\n",
       "[:, :, 4] =\n",
       " 6  7   8   9\n",
       " 7  8   9  10\n",
       " 8  9  10  11\n",
       "\n",
       "[:, :, 5] =\n",
       " 7   8   9  10\n",
       " 8   9  10  11\n",
       " 9  10  11  12"
      ]
     },
     "execution_count": 26,
     "metadata": {},
     "output_type": "execute_result"
    }
   ],
   "source": [
    "sum.(Iterators.product(1:3, 1:4, 1:5))"
   ]
  },
  {
   "cell_type": "code",
   "execution_count": 27,
   "metadata": {},
   "outputs": [
    {
     "data": {
      "text/plain": [
       "60-element Array{Int64,1}:\n",
       "  3\n",
       "  4\n",
       "  5\n",
       "  4\n",
       "  5\n",
       "  6\n",
       "  5\n",
       "  6\n",
       "  7\n",
       "  6\n",
       "  7\n",
       "  8\n",
       "  4\n",
       "  ⋮\n",
       "  7\n",
       "  8\n",
       "  9\n",
       "  8\n",
       "  9\n",
       " 10\n",
       "  9\n",
       " 10\n",
       " 11\n",
       " 10\n",
       " 11\n",
       " 12"
      ]
     },
     "execution_count": 27,
     "metadata": {},
     "output_type": "execute_result"
    }
   ],
   "source": [
    "vec(sum.(Iterators.product(1:3, 1:4, 1:5)))"
   ]
  },
  {
   "cell_type": "code",
   "execution_count": 30,
   "metadata": {},
   "outputs": [
    {
     "data": {
      "text/plain": [
       "5-element Array{UnitRange{Int64},1}:\n",
       " 1:6\n",
       " 1:6\n",
       " 1:6\n",
       " 1:6\n",
       " 1:6"
      ]
     },
     "execution_count": 30,
     "metadata": {},
     "output_type": "execute_result"
    }
   ],
   "source": [
    "collect(Iterators.repeated(1:6, 5))"
   ]
  },
  {
   "cell_type": "code",
   "execution_count": 37,
   "metadata": {
    "scrolled": true
   },
   "outputs": [
    {
     "data": {
      "text/plain": [
       "7776-element Array{Int64,1}:\n",
       "  5\n",
       "  6\n",
       "  7\n",
       "  8\n",
       "  9\n",
       " 10\n",
       "  6\n",
       "  7\n",
       "  8\n",
       "  9\n",
       " 10\n",
       " 11\n",
       "  7\n",
       "  ⋮\n",
       " 24\n",
       " 25\n",
       " 26\n",
       " 27\n",
       " 28\n",
       " 29\n",
       " 25\n",
       " 26\n",
       " 27\n",
       " 28\n",
       " 29\n",
       " 30"
      ]
     },
     "execution_count": 37,
     "metadata": {},
     "output_type": "execute_result"
    }
   ],
   "source": [
    "vec(sum.(Iterators.product(Iterators.repeated(1:6, 5)...)))"
   ]
  },
  {
   "cell_type": "code",
   "execution_count": 38,
   "metadata": {},
   "outputs": [
    {
     "data": {
      "text/plain": [
       "0-element Array{Any,1}"
      ]
     },
     "execution_count": 38,
     "metadata": {},
     "output_type": "execute_result"
    }
   ],
   "source": [
    "v = [ ]"
   ]
  },
  {
   "cell_type": "code",
   "execution_count": 39,
   "metadata": {},
   "outputs": [
    {
     "data": {
      "text/plain": [
       "1-element Array{Any,1}:\n",
       " \"hello\""
      ]
     },
     "execution_count": 39,
     "metadata": {},
     "output_type": "execute_result"
    }
   ],
   "source": [
    "push!(v, \"hello\")"
   ]
  },
  {
   "cell_type": "code",
   "execution_count": 40,
   "metadata": {},
   "outputs": [
    {
     "data": {
      "text/plain": [
       "2-element Array{Any,1}:\n",
       "   \"hello\"\n",
       " -3.5     "
      ]
     },
     "execution_count": 40,
     "metadata": {},
     "output_type": "execute_result"
    }
   ],
   "source": [
    "push!(v, -3.5)"
   ]
  },
  {
   "cell_type": "code",
   "execution_count": 41,
   "metadata": {},
   "outputs": [
    {
     "data": {
      "text/plain": [
       "0-element Array{Float64,1}"
      ]
     },
     "execution_count": 41,
     "metadata": {},
     "output_type": "execute_result"
    }
   ],
   "source": [
    "v = Float64[]"
   ]
  },
  {
   "cell_type": "code",
   "execution_count": 42,
   "metadata": {},
   "outputs": [
    {
     "data": {
      "text/plain": [
       "1-element Array{Float64,1}:\n",
       " 3.5"
      ]
     },
     "execution_count": 42,
     "metadata": {},
     "output_type": "execute_result"
    }
   ],
   "source": [
    "push!(v, 3.5)"
   ]
  },
  {
   "cell_type": "code",
   "execution_count": 43,
   "metadata": {},
   "outputs": [
    {
     "data": {
      "text/plain": [
       "2-element Array{Float64,1}:\n",
       " 3.5\n",
       " 3.0"
      ]
     },
     "execution_count": 43,
     "metadata": {},
     "output_type": "execute_result"
    }
   ],
   "source": [
    "push!(v, 3)"
   ]
  },
  {
   "cell_type": "code",
   "execution_count": 44,
   "metadata": {},
   "outputs": [
    {
     "ename": "MethodError",
     "evalue": "MethodError: Cannot `convert` an object of type String to an object of type Float64\nClosest candidates are:\n  convert(::Type{T}, !Matched::T) where T<:Number at number.jl:6\n  convert(::Type{T}, !Matched::Number) where T<:Number at number.jl:7\n  convert(::Type{T}, !Matched::Base.TwicePrecision) where T<:Number at twiceprecision.jl:250\n  ...",
     "output_type": "error",
     "traceback": [
      "MethodError: Cannot `convert` an object of type String to an object of type Float64\nClosest candidates are:\n  convert(::Type{T}, !Matched::T) where T<:Number at number.jl:6\n  convert(::Type{T}, !Matched::Number) where T<:Number at number.jl:7\n  convert(::Type{T}, !Matched::Base.TwicePrecision) where T<:Number at twiceprecision.jl:250\n  ...",
      "",
      "Stacktrace:",
      " [1] push!(::Array{Float64,1}, ::String) at ./array.jl:866",
      " [2] top-level scope at In[44]:1"
     ]
    }
   ],
   "source": [
    "push!(v, \"3.1\")"
   ]
  },
  {
   "cell_type": "code",
   "execution_count": 45,
   "metadata": {},
   "outputs": [
    {
     "data": {
      "text/plain": [
       "1-element Array{Int64,1}:\n",
       " 3"
      ]
     },
     "execution_count": 45,
     "metadata": {},
     "output_type": "execute_result"
    }
   ],
   "source": [
    "w = Int64[]\n",
    "push!(w, 3.0)"
   ]
  },
  {
   "cell_type": "code",
   "execution_count": 46,
   "metadata": {},
   "outputs": [
    {
     "ename": "InexactError",
     "evalue": "InexactError: Int64(3.1)",
     "output_type": "error",
     "traceback": [
      "InexactError: Int64(3.1)",
      "",
      "Stacktrace:",
      " [1] Int64 at ./float.jl:709 [inlined]",
      " [2] convert at ./number.jl:7 [inlined]",
      " [3] push!(::Array{Int64,1}, ::Float64) at ./array.jl:866",
      " [4] top-level scope at In[46]:1"
     ]
    }
   ],
   "source": [
    "push!(w, 3.1)"
   ]
  },
  {
   "cell_type": "code",
   "execution_count": 47,
   "metadata": {},
   "outputs": [
    {
     "data": {
      "text/plain": [
       "1-element Array{Float64,1}:\n",
       " 3.1"
      ]
     },
     "execution_count": 47,
     "metadata": {},
     "output_type": "execute_result"
    }
   ],
   "source": [
    "x0 = 3.1\n",
    "v = [x0]"
   ]
  },
  {
   "cell_type": "code",
   "execution_count": 48,
   "metadata": {},
   "outputs": [
    {
     "data": {
      "text/plain": [
       "Float64"
      ]
     },
     "execution_count": 48,
     "metadata": {},
     "output_type": "execute_result"
    }
   ],
   "source": [
    "eltype(v)"
   ]
  },
  {
   "cell_type": "code",
   "execution_count": 49,
   "metadata": {},
   "outputs": [
    {
     "data": {
      "text/plain": [
       "5"
      ]
     },
     "execution_count": 49,
     "metadata": {},
     "output_type": "execute_result"
    }
   ],
   "source": [
    "11 ÷ 2"
   ]
  },
  {
   "cell_type": "code",
   "execution_count": 66,
   "metadata": {},
   "outputs": [
    {
     "data": {
      "text/plain": [
       "1-element Array{Array{Float64,1},1}:\n",
       " [0.0, 0.0, 0.0, 0.0, 0.0, 0.0, 0.0, 0.0, 0.0, 0.0  …  0.0, 0.0, 0.0, 0.0, 0.0, 0.0, 0.0, 0.0, 0.0, 0.0]"
      ]
     },
     "execution_count": 66,
     "metadata": {},
     "output_type": "execute_result"
    }
   ],
   "source": [
    "L = 50 \n",
    "T = 100\n",
    "P0 = zeros(L) # P\\_0<TAB> \n",
    "P0[L ÷ 2] = 0.5\n",
    "P0[L ÷ 2 + 1] = 0.5\n",
    "P = copy(P0) # time t \n",
    "next_P = copy(P0) # time t+1 \n",
    "Ps = [copy(P0)]"
   ]
  },
  {
   "cell_type": "code",
   "execution_count": 67,
   "metadata": {},
   "outputs": [],
   "source": [
    "for t in 1:T \n",
    "    \n",
    "    for i in 2:L-1  ## bulk -- not boundary\n",
    "        next_P[i] = 0.5 * (P[i-1] + P[i+1]) \n",
    "    end\n",
    "    \n",
    "    push!(Ps, copy(next_P))\n",
    "    global P, next_P = next_P, P\n",
    "end"
   ]
  },
  {
   "cell_type": "code",
   "execution_count": 68,
   "metadata": {},
   "outputs": [
    {
     "data": {
      "text/plain": [
       "101-element Array{Array{Float64,1},1}:\n",
       " [0.0, 0.0, 0.0, 0.0, 0.0, 0.0, 0.0, 0.0, 0.0, 0.0  …  0.0, 0.0, 0.0, 0.0, 0.0, 0.0, 0.0, 0.0, 0.0, 0.0]                                                                                                                                                                                                                                                                                                                          \n",
       " [0.0, 0.0, 0.0, 0.0, 0.0, 0.0, 0.0, 0.0, 0.0, 0.0  …  0.0, 0.0, 0.0, 0.0, 0.0, 0.0, 0.0, 0.0, 0.0, 0.0]                                                                                                                                                                                                                                                                                                                          \n",
       " [0.0, 0.0, 0.0, 0.0, 0.0, 0.0, 0.0, 0.0, 0.0, 0.0  …  0.0, 0.0, 0.0, 0.0, 0.0, 0.0, 0.0, 0.0, 0.0, 0.0]                                                                                                                                                                                                                                                                                                                          \n",
       " [0.0, 0.0, 0.0, 0.0, 0.0, 0.0, 0.0, 0.0, 0.0, 0.0  …  0.0, 0.0, 0.0, 0.0, 0.0, 0.0, 0.0, 0.0, 0.0, 0.0]                                                                                                                                                                                                                                                                                                                          \n",
       " [0.0, 0.0, 0.0, 0.0, 0.0, 0.0, 0.0, 0.0, 0.0, 0.0  …  0.0, 0.0, 0.0, 0.0, 0.0, 0.0, 0.0, 0.0, 0.0, 0.0]                                                                                                                                                                                                                                                                                                                          \n",
       " [0.0, 0.0, 0.0, 0.0, 0.0, 0.0, 0.0, 0.0, 0.0, 0.0  …  0.0, 0.0, 0.0, 0.0, 0.0, 0.0, 0.0, 0.0, 0.0, 0.0]                                                                                                                                                                                                                                                                                                                          \n",
       " [0.0, 0.0, 0.0, 0.0, 0.0, 0.0, 0.0, 0.0, 0.0, 0.0  …  0.0, 0.0, 0.0, 0.0, 0.0, 0.0, 0.0, 0.0, 0.0, 0.0]                                                                                                                                                                                                                                                                                                                          \n",
       " [0.0, 0.0, 0.0, 0.0, 0.0, 0.0, 0.0, 0.0, 0.0, 0.0  …  0.0, 0.0, 0.0, 0.0, 0.0, 0.0, 0.0, 0.0, 0.0, 0.0]                                                                                                                                                                                                                                                                                                                          \n",
       " [0.0, 0.0, 0.0, 0.0, 0.0, 0.0, 0.0, 0.0, 0.0, 0.0  …  0.0, 0.0, 0.0, 0.0, 0.0, 0.0, 0.0, 0.0, 0.0, 0.0]                                                                                                                                                                                                                                                                                                                          \n",
       " [0.0, 0.0, 0.0, 0.0, 0.0, 0.0, 0.0, 0.0, 0.0, 0.0  …  0.0, 0.0, 0.0, 0.0, 0.0, 0.0, 0.0, 0.0, 0.0, 0.0]                                                                                                                                                                                                                                                                                                                          \n",
       " [0.0, 0.0, 0.0, 0.0, 0.0, 0.0, 0.0, 0.0, 0.0, 0.0  …  0.0, 0.0, 0.0, 0.0, 0.0, 0.0, 0.0, 0.0, 0.0, 0.0]                                                                                                                                                                                                                                                                                                                          \n",
       " [0.0, 0.0, 0.0, 0.0, 0.0, 0.0, 0.0, 0.0, 0.0, 0.0  …  0.0, 0.0, 0.0, 0.0, 0.0, 0.0, 0.0, 0.0, 0.0, 0.0]                                                                                                                                                                                                                                                                                                                          \n",
       " [0.0, 0.0, 0.0, 0.0, 0.0, 0.0, 0.0, 0.0, 0.0, 0.0  …  0.0, 0.0, 0.0, 0.0, 0.0, 0.0, 0.0, 0.0, 0.0, 0.0]                                                                                                                                                                                                                                                                                                                          \n",
       " ⋮                                                                                                                                                                                                                                                                                                                                                                                                                                \n",
       " [0.0, 0.0009094433083201015, 0.001470005347499739, 0.002867605725727028, 0.00319502657781298, 0.005227899855234497, 0.005409150684044389, 0.008204351440498976, 0.008299433842348677, 0.011925640229100573  …  0.011925640229100573, 0.008299433842348677, 0.008204351440498976, 0.005409150684044389, 0.005227899855234497, 0.00319502657781298, 0.002867605725727028, 0.001470005347499739, 0.0009094433083201015, 0.0]        \n",
       " [0.0, 0.0007350026737498695, 0.0018885245170235647, 0.0023325159626563594, 0.004047752790480762, 0.004302088630928685, 0.006716125647866737, 0.006854292263196534, 0.010064995834799775, 0.010136163861962241  …  0.010136163861962241, 0.010064995834799775, 0.006854292263196534, 0.006716125647866737, 0.004302088630928685, 0.004047752790480762, 0.0023325159626563594, 0.0018885245170235647, 0.0007350026737498695, 0.0]  \n",
       " [0.0, 0.0009442622585117824, 0.0015337593182031145, 0.0029681386537521635, 0.0033173022967925223, 0.005381939219173749, 0.005578190447062609, 0.008390560741333255, 0.008495228062579387, 0.012113482242342793  …  0.012113482242342793, 0.008495228062579387, 0.008390560741333255, 0.005578190447062609, 0.005381939219173749, 0.0033173022967925223, 0.0029681386537521635, 0.0015337593182031145, 0.0009442622585117824, 0.0]\n",
       " [0.0, 0.0007668796591015572, 0.001956200456131973, 0.002425530807497818, 0.0041750389364629565, 0.004447746371927566, 0.006886249980253502, 0.007036709254820998, 0.010252021491838025, 0.010330833491854105  …  0.010330833491854105, 0.010252021491838025, 0.007036709254820998, 0.006886249980253502, 0.004447746371927566, 0.0041750389364629565, 0.002425530807497818, 0.001956200456131973, 0.0007668796591015572, 0.0]    \n",
       " [0.0, 0.0009781002280659864, 0.0015962052332996876, 0.0030656196962974645, 0.003436638589712692, 0.005530644458358229, 0.005742227813374282, 0.008569135736045765, 0.008683771373337552, 0.012291904562388333  …  0.012291904562388333, 0.008683771373337552, 0.008569135736045765, 0.005742227813374282, 0.005530644458358229, 0.003436638589712692, 0.0030656196962974645, 0.0015962052332996876, 0.0009781002280659864, 0.0]  \n",
       " [0.0, 0.0007981026166498438, 0.0020218599621817253, 0.0025164219115061896, 0.004298132077327847, 0.004589433201543487, 0.007049890097201997, 0.007212999593355917, 0.010430520149217049, 0.01051733649223143  …  0.01051733649223143, 0.010430520149217049, 0.007212999593355917, 0.007049890097201997, 0.004589433201543487, 0.004298132077327847, 0.0025164219115061896, 0.0020218599621817253, 0.0007981026166498438, 0.0]    \n",
       " [0.0, 0.0010109299810908627, 0.0016572622640780167, 0.0031599960197547863, 0.0035529275565248384, 0.005674011087264922, 0.005901216397449702, 0.008740205123209523, 0.008865168042793673, 0.012461220428756116  …  0.012461220428756116, 0.008865168042793673, 0.008740205123209523, 0.005901216397449702, 0.005674011087264922, 0.0035529275565248384, 0.0031599960197547863, 0.0016572622640780167, 0.0010109299810908627, 0.0]\n",
       " [0.0, 0.0008286311320390083, 0.0020854630004228246, 0.0026050949103014276, 0.004417003553509854, 0.00472707197698727, 0.007207108105237223, 0.007383192220121688, 0.01060071277598282, 0.010695876843022905  …  0.010695876843022905, 0.01060071277598282, 0.007383192220121688, 0.007207108105237223, 0.00472707197698727, 0.004417003553509854, 0.0026050949103014276, 0.0020854630004228246, 0.0008286311320390083, 0.0]      \n",
       " [0.0, 0.0010427315002114123, 0.001716863021170218, 0.0032512332769663397, 0.003666083443644349, 0.005812055829373539, 0.006055132098554478, 0.008903910440610022, 0.009039534531572297, 0.012621738192043229  …  0.012621738192043229, 0.009039534531572297, 0.008903910440610022, 0.006055132098554478, 0.005812055829373539, 0.003666083443644349, 0.0032512332769663397, 0.001716863021170218, 0.0010427315002114123, 0.0]    \n",
       " [0.0, 0.000858431510585109, 0.002146982388588876, 0.0026914732324072833, 0.004531644553169939, 0.004860607771099414, 0.00735798313499178, 0.0075473333150633875, 0.010762824316326625, 0.010866661506794086  …  0.010866661506794086, 0.010762824316326625, 0.0075473333150633875, 0.00735798313499178, 0.004860607771099414, 0.004531644553169939, 0.0026914732324072833, 0.002146982388588876, 0.000858431510585109, 0.0]      \n",
       " [0.0, 0.001073491194294438, 0.0017749523714961962, 0.0033393134708794075, 0.0037760405017533485, 0.005944813844080859, 0.006203970543081401, 0.009060403725659203, 0.009206997410928737, 0.012773760538380398  …  0.012773760538380398, 0.009206997410928737, 0.009060403725659203, 0.006203970543081401, 0.005944813844080859, 0.0037760405017533485, 0.0033393134708794075, 0.0017749523714961962, 0.001073491194294438, 0.0]  \n",
       " [0.0, 0.0008874761857480981, 0.002206402332586923, 0.0027754964366247725, 0.004642063657480133, 0.004990005522417375, 0.007502608784870031, 0.007705483977005069, 0.0109170821320198, 0.011029899093820027  …  0.011029899093820027, 0.0109170821320198, 0.007705483977005069, 0.007502608784870031, 0.004990005522417375, 0.004642063657480133, 0.0027754964366247725, 0.002206402332586923, 0.0008874761857480981, 0.0]        "
      ]
     },
     "execution_count": 68,
     "metadata": {},
     "output_type": "execute_result"
    }
   ],
   "source": [
    "Ps"
   ]
  },
  {
   "cell_type": "code",
   "execution_count": 69,
   "metadata": {},
   "outputs": [],
   "source": [
    "using Plots\n",
    "using Interact"
   ]
  },
  {
   "cell_type": "code",
   "execution_count": 71,
   "metadata": {},
   "outputs": [
    {
     "data": {
      "application/vnd.webio.node+json": {
       "children": [
        {
         "children": [
          {
           "children": [
            {
             "children": [
              {
               "children": [
                {
                 "children": [
                  "t"
                 ],
                 "instanceArgs": {
                  "namespace": "html",
                  "tag": "label"
                 },
                 "nodeType": "DOM",
                 "props": {
                  "className": "interact ",
                  "style": {
                   "padding": "5px 10px 0px 10px"
                  }
                 },
                 "type": "node"
                }
               ],
               "instanceArgs": {
                "namespace": "html",
                "tag": "div"
               },
               "nodeType": "DOM",
               "props": {
                "className": "interact-flex-row-left"
               },
               "type": "node"
              },
              {
               "children": [
                {
                 "children": [],
                 "instanceArgs": {
                  "namespace": "html",
                  "tag": "input"
                 },
                 "nodeType": "DOM",
                 "props": {
                  "attributes": {
                   "data-bind": "numericValue: index, valueUpdate: 'input', event: {change: function (){this.changes(this.changes()+1)}}",
                   "orient": "horizontal",
                   "type": "range"
                  },
                  "className": "slider slider is-fullwidth",
                  "max": 100,
                  "min": 1,
                  "step": 1,
                  "style": {}
                 },
                 "type": "node"
                }
               ],
               "instanceArgs": {
                "namespace": "html",
                "tag": "div"
               },
               "nodeType": "DOM",
               "props": {
                "className": "interact-flex-row-center"
               },
               "type": "node"
              },
              {
               "children": [
                {
                 "children": [],
                 "instanceArgs": {
                  "namespace": "html",
                  "tag": "p"
                 },
                 "nodeType": "DOM",
                 "props": {
                  "attributes": {
                   "data-bind": "text: formatted_val"
                  }
                 },
                 "type": "node"
                }
               ],
               "instanceArgs": {
                "namespace": "html",
                "tag": "div"
               },
               "nodeType": "DOM",
               "props": {
                "className": "interact-flex-row-right"
               },
               "type": "node"
              }
             ],
             "instanceArgs": {
              "namespace": "html",
              "tag": "div"
             },
             "nodeType": "DOM",
             "props": {
              "className": "interact-flex-row interact-widget"
             },
             "type": "node"
            }
           ],
           "instanceArgs": {
            "handlers": {
             "changes": [
              "(function (val){return (val!=this.model[\"changes\"]()) ? (this.valueFromJulia[\"changes\"]=true, this.model[\"changes\"](val)) : undefined})"
             ],
             "index": [
              "(function (val){return (val!=this.model[\"index\"]()) ? (this.valueFromJulia[\"index\"]=true, this.model[\"index\"](val)) : undefined})"
             ]
            },
            "id": "14162045250798881579",
            "imports": {
             "data": [
              {
               "name": "knockout",
               "type": "js",
               "url": "/assetserver/9a186147d51179d2ec12ccfac1799b0b805a79d5-knockout.js"
              },
              {
               "name": "knockout_punches",
               "type": "js",
               "url": "/assetserver/eccef011301f679ebde0900f01478cac573870ce-knockout_punches.js"
              },
              {
               "name": null,
               "type": "js",
               "url": "/assetserver/5d2042c6908ffff0b7c8d26135740476bcf00827-all.js"
              },
              {
               "name": null,
               "type": "css",
               "url": "/assetserver/87ad319ae61de5d44f67c268a0a8f65862fca478-style.css"
              },
              {
               "name": null,
               "type": "css",
               "url": "/assetserver/9354074556c360cc537db1e8b0f0283e19c8ea9d-bulma_confined.min.css"
              }
             ],
             "type": "async_block"
            },
            "mount_callbacks": [
             "function () {\n    var handler = (function (ko, koPunches) {\n    ko.punches.enableAll();\n    ko.bindingHandlers.numericValue = {\n        init: function(element, valueAccessor, allBindings, data, context) {\n            var stringified = ko.observable(ko.unwrap(valueAccessor()));\n            stringified.subscribe(function(value) {\n                var val = parseFloat(value);\n                if (!isNaN(val)) {\n                    valueAccessor()(val);\n                }\n            });\n            valueAccessor().subscribe(function(value) {\n                var str = JSON.stringify(value);\n                if ((str == \"0\") && ([\"-0\", \"-0.\"].indexOf(stringified()) >= 0))\n                     return;\n                 if ([\"null\", \"\"].indexOf(str) >= 0)\n                     return;\n                stringified(str);\n            });\n            ko.applyBindingsToNode(\n                element,\n                {\n                    value: stringified,\n                    valueUpdate: allBindings.get('valueUpdate'),\n                },\n                context,\n            );\n        }\n    };\n    var json_data = {\"formatted_vals\":[\"1\",\"2\",\"3\",\"4\",\"5\",\"6\",\"7\",\"8\",\"9\",\"10\",\"11\",\"12\",\"13\",\"14\",\"15\",\"16\",\"17\",\"18\",\"19\",\"20\",\"21\",\"22\",\"23\",\"24\",\"25\",\"26\",\"27\",\"28\",\"29\",\"30\",\"31\",\"32\",\"33\",\"34\",\"35\",\"36\",\"37\",\"38\",\"39\",\"40\",\"41\",\"42\",\"43\",\"44\",\"45\",\"46\",\"47\",\"48\",\"49\",\"50\",\"51\",\"52\",\"53\",\"54\",\"55\",\"56\",\"57\",\"58\",\"59\",\"60\",\"61\",\"62\",\"63\",\"64\",\"65\",\"66\",\"67\",\"68\",\"69\",\"70\",\"71\",\"72\",\"73\",\"74\",\"75\",\"76\",\"77\",\"78\",\"79\",\"80\",\"81\",\"82\",\"83\",\"84\",\"85\",\"86\",\"87\",\"88\",\"89\",\"90\",\"91\",\"92\",\"93\",\"94\",\"95\",\"96\",\"97\",\"98\",\"99\",\"100\"],\"changes\":WebIO.getval({\"name\":\"changes\",\"scope\":\"14162045250798881579\",\"id\":\"ob_22\",\"type\":\"observable\"}),\"index\":WebIO.getval({\"name\":\"index\",\"scope\":\"14162045250798881579\",\"id\":\"ob_21\",\"type\":\"observable\"})};\n    var self = this;\n    function AppViewModel() {\n        for (var key in json_data) {\n            var el = json_data[key];\n            this[key] = Array.isArray(el) ? ko.observableArray(el) : ko.observable(el);\n        }\n        \n        [this[\"formatted_val\"]=ko.computed(    function(){\n        return this.formatted_vals()[parseInt(this.index())-(1)];\n    }\n,this)]\n        [this[\"changes\"].subscribe((function (val){!(this.valueFromJulia[\"changes\"]) ? (WebIO.setval({\"name\":\"changes\",\"scope\":\"14162045250798881579\",\"id\":\"ob_22\",\"type\":\"observable\"},val)) : undefined; return this.valueFromJulia[\"changes\"]=false}),self),this[\"index\"].subscribe((function (val){!(this.valueFromJulia[\"index\"]) ? (WebIO.setval({\"name\":\"index\",\"scope\":\"14162045250798881579\",\"id\":\"ob_21\",\"type\":\"observable\"},val)) : undefined; return this.valueFromJulia[\"index\"]=false}),self)]\n        \n    }\n    self.model = new AppViewModel();\n    self.valueFromJulia = {};\n    for (var key in json_data) {\n        self.valueFromJulia[key] = false;\n    }\n    ko.applyBindings(self.model, self.dom);\n}\n);\n    (WebIO.importBlock({\"data\":[{\"name\":\"knockout\",\"type\":\"js\",\"url\":\"/assetserver/9a186147d51179d2ec12ccfac1799b0b805a79d5-knockout.js\"},{\"name\":\"knockout_punches\",\"type\":\"js\",\"url\":\"/assetserver/eccef011301f679ebde0900f01478cac573870ce-knockout_punches.js\"}],\"type\":\"async_block\"})).then((imports) => handler.apply(this, imports));\n}\n"
            ],
            "observables": {
             "changes": {
              "id": "ob_22",
              "sync": false,
              "value": 0
             },
             "index": {
              "id": "ob_21",
              "sync": true,
              "value": 50
             }
            },
            "systemjs_options": null
           },
           "nodeType": "Scope",
           "props": {},
           "type": "node"
          }
         ],
         "instanceArgs": {
          "namespace": "html",
          "tag": "div"
         },
         "nodeType": "DOM",
         "props": {
          "className": "field interact-widget"
         },
         "type": "node"
        },
        {
         "children": [
          {
           "children": [],
           "instanceArgs": {
            "id": "ob_28",
            "name": "obs-node"
           },
           "nodeType": "ObservableNode",
           "props": {},
           "type": "node"
          }
         ],
         "instanceArgs": {
          "handlers": {},
          "id": "7192182425646507945",
          "imports": {
           "data": [],
           "type": "async_block"
          },
          "mount_callbacks": [],
          "observables": {
           "obs-node": {
            "id": "ob_28",
            "sync": false,
            "value": {
             "children": [
              {
               "children": [],
               "instanceArgs": {
                "namespace": "html",
                "tag": "div"
               },
               "nodeType": "DOM",
               "props": {
                "setInnerHtml": "<?xml version=\"1.0\" encoding=\"utf-8\"?>\n<svg xmlns=\"http://www.w3.org/2000/svg\" xmlns:xlink=\"http://www.w3.org/1999/xlink\" width=\"600\" height=\"400\" viewBox=\"0 0 2400 1600\">\n<defs>\n  <clipPath id=\"clip4200\">\n    <rect x=\"0\" y=\"0\" width=\"2400\" height=\"1600\"/>\n  </clipPath>\n</defs>\n<path clip-path=\"url(#clip4200)\" d=\"\nM0 1600 L2400 1600 L2400 0 L0 0  Z\n  \" fill=\"#ffffff\" fill-rule=\"evenodd\" fill-opacity=\"1\"/>\n<defs>\n  <clipPath id=\"clip4201\">\n    <rect x=\"480\" y=\"0\" width=\"1681\" height=\"1600\"/>\n  </clipPath>\n</defs>\n<path clip-path=\"url(#clip4200)\" d=\"\nM180.66 1487.47 L2352.76 1487.47 L2352.76 47.2441 L180.66 47.2441  Z\n  \" fill=\"#ffffff\" fill-rule=\"evenodd\" fill-opacity=\"1\"/>\n<defs>\n  <clipPath id=\"clip4202\">\n    <rect x=\"180\" y=\"47\" width=\"2173\" height=\"1441\"/>\n  </clipPath>\n</defs>\n<polyline clip-path=\"url(#clip4202)\" style=\"stroke:#000000; stroke-width:2; stroke-opacity:0.1; fill:none\" points=\"\n  200.315,1487.47 200.315,47.2441 \n  \"/>\n<polyline clip-path=\"url(#clip4202)\" style=\"stroke:#000000; stroke-width:2; stroke-opacity:0.1; fill:none\" points=\"\n  618.509,1487.47 618.509,47.2441 \n  \"/>\n<polyline clip-path=\"url(#clip4202)\" style=\"stroke:#000000; stroke-width:2; stroke-opacity:0.1; fill:none\" points=\"\n  1036.7,1487.47 1036.7,47.2441 \n  \"/>\n<polyline clip-path=\"url(#clip4202)\" style=\"stroke:#000000; stroke-width:2; stroke-opacity:0.1; fill:none\" points=\"\n  1454.9,1487.47 1454.9,47.2441 \n  \"/>\n<polyline clip-path=\"url(#clip4202)\" style=\"stroke:#000000; stroke-width:2; stroke-opacity:0.1; fill:none\" points=\"\n  1873.09,1487.47 1873.09,47.2441 \n  \"/>\n<polyline clip-path=\"url(#clip4202)\" style=\"stroke:#000000; stroke-width:2; stroke-opacity:0.1; fill:none\" points=\"\n  2291.28,1487.47 2291.28,47.2441 \n  \"/>\n<polyline clip-path=\"url(#clip4202)\" style=\"stroke:#000000; stroke-width:2; stroke-opacity:0.1; fill:none\" points=\"\n  180.66,1487.47 2352.76,1487.47 \n  \"/>\n<polyline clip-path=\"url(#clip4202)\" style=\"stroke:#000000; stroke-width:2; stroke-opacity:0.1; fill:none\" points=\"\n  180.66,1247.44 2352.76,1247.44 \n  \"/>\n<polyline clip-path=\"url(#clip4202)\" style=\"stroke:#000000; stroke-width:2; stroke-opacity:0.1; fill:none\" points=\"\n  180.66,1007.4 2352.76,1007.4 \n  \"/>\n<polyline clip-path=\"url(#clip4202)\" style=\"stroke:#000000; stroke-width:2; stroke-opacity:0.1; fill:none\" points=\"\n  180.66,767.359 2352.76,767.359 \n  \"/>\n<polyline clip-path=\"url(#clip4202)\" style=\"stroke:#000000; stroke-width:2; stroke-opacity:0.1; fill:none\" points=\"\n  180.66,527.321 2352.76,527.321 \n  \"/>\n<polyline clip-path=\"url(#clip4202)\" style=\"stroke:#000000; stroke-width:2; stroke-opacity:0.1; fill:none\" points=\"\n  180.66,287.283 2352.76,287.283 \n  \"/>\n<polyline clip-path=\"url(#clip4200)\" style=\"stroke:#000000; stroke-width:4; stroke-opacity:1; fill:none\" points=\"\n  180.66,1487.47 2352.76,1487.47 \n  \"/>\n<polyline clip-path=\"url(#clip4200)\" style=\"stroke:#000000; stroke-width:4; stroke-opacity:1; fill:none\" points=\"\n  180.66,1487.47 180.66,47.2441 \n  \"/>\n<polyline clip-path=\"url(#clip4200)\" style=\"stroke:#000000; stroke-width:4; stroke-opacity:1; fill:none\" points=\"\n  200.315,1487.47 200.315,1465.87 \n  \"/>\n<polyline clip-path=\"url(#clip4200)\" style=\"stroke:#000000; stroke-width:4; stroke-opacity:1; fill:none\" points=\"\n  618.509,1487.47 618.509,1465.87 \n  \"/>\n<polyline clip-path=\"url(#clip4200)\" style=\"stroke:#000000; stroke-width:4; stroke-opacity:1; fill:none\" points=\"\n  1036.7,1487.47 1036.7,1465.87 \n  \"/>\n<polyline clip-path=\"url(#clip4200)\" style=\"stroke:#000000; stroke-width:4; stroke-opacity:1; fill:none\" points=\"\n  1454.9,1487.47 1454.9,1465.87 \n  \"/>\n<polyline clip-path=\"url(#clip4200)\" style=\"stroke:#000000; stroke-width:4; stroke-opacity:1; fill:none\" points=\"\n  1873.09,1487.47 1873.09,1465.87 \n  \"/>\n<polyline clip-path=\"url(#clip4200)\" style=\"stroke:#000000; stroke-width:4; stroke-opacity:1; fill:none\" points=\"\n  2291.28,1487.47 2291.28,1465.87 \n  \"/>\n<polyline clip-path=\"url(#clip4200)\" style=\"stroke:#000000; stroke-width:4; stroke-opacity:1; fill:none\" points=\"\n  180.66,1487.47 213.242,1487.47 \n  \"/>\n<polyline clip-path=\"url(#clip4200)\" style=\"stroke:#000000; stroke-width:4; stroke-opacity:1; fill:none\" points=\"\n  180.66,1247.44 213.242,1247.44 \n  \"/>\n<polyline clip-path=\"url(#clip4200)\" style=\"stroke:#000000; stroke-width:4; stroke-opacity:1; fill:none\" points=\"\n  180.66,1007.4 213.242,1007.4 \n  \"/>\n<polyline clip-path=\"url(#clip4200)\" style=\"stroke:#000000; stroke-width:4; stroke-opacity:1; fill:none\" points=\"\n  180.66,767.359 213.242,767.359 \n  \"/>\n<polyline clip-path=\"url(#clip4200)\" style=\"stroke:#000000; stroke-width:4; stroke-opacity:1; fill:none\" points=\"\n  180.66,527.321 213.242,527.321 \n  \"/>\n<polyline clip-path=\"url(#clip4200)\" style=\"stroke:#000000; stroke-width:4; stroke-opacity:1; fill:none\" points=\"\n  180.66,287.283 213.242,287.283 \n  \"/>\n<g clip-path=\"url(#clip4200)\">\n<text style=\"fill:#000000; fill-opacity:1; font-family:Arial,Helvetica Neue,Helvetica,sans-serif; font-size:48px; text-anchor:middle;\" transform=\"rotate(0, 200.315, 1541.47)\" x=\"200.315\" y=\"1541.47\">0</text>\n</g>\n<g clip-path=\"url(#clip4200)\">\n<text style=\"fill:#000000; fill-opacity:1; font-family:Arial,Helvetica Neue,Helvetica,sans-serif; font-size:48px; text-anchor:middle;\" transform=\"rotate(0, 618.509, 1541.47)\" x=\"618.509\" y=\"1541.47\">10</text>\n</g>\n<g clip-path=\"url(#clip4200)\">\n<text style=\"fill:#000000; fill-opacity:1; font-family:Arial,Helvetica Neue,Helvetica,sans-serif; font-size:48px; text-anchor:middle;\" transform=\"rotate(0, 1036.7, 1541.47)\" x=\"1036.7\" y=\"1541.47\">20</text>\n</g>\n<g clip-path=\"url(#clip4200)\">\n<text style=\"fill:#000000; fill-opacity:1; font-family:Arial,Helvetica Neue,Helvetica,sans-serif; font-size:48px; text-anchor:middle;\" transform=\"rotate(0, 1454.9, 1541.47)\" x=\"1454.9\" y=\"1541.47\">30</text>\n</g>\n<g clip-path=\"url(#clip4200)\">\n<text style=\"fill:#000000; fill-opacity:1; font-family:Arial,Helvetica Neue,Helvetica,sans-serif; font-size:48px; text-anchor:middle;\" transform=\"rotate(0, 1873.09, 1541.47)\" x=\"1873.09\" y=\"1541.47\">40</text>\n</g>\n<g clip-path=\"url(#clip4200)\">\n<text style=\"fill:#000000; fill-opacity:1; font-family:Arial,Helvetica Neue,Helvetica,sans-serif; font-size:48px; text-anchor:middle;\" transform=\"rotate(0, 2291.28, 1541.47)\" x=\"2291.28\" y=\"1541.47\">50</text>\n</g>\n<g clip-path=\"url(#clip4200)\">\n<text style=\"fill:#000000; fill-opacity:1; font-family:Arial,Helvetica Neue,Helvetica,sans-serif; font-size:48px; text-anchor:end;\" transform=\"rotate(0, 156.66, 1504.97)\" x=\"156.66\" y=\"1504.97\">0.00</text>\n</g>\n<g clip-path=\"url(#clip4200)\">\n<text style=\"fill:#000000; fill-opacity:1; font-family:Arial,Helvetica Neue,Helvetica,sans-serif; font-size:48px; text-anchor:end;\" transform=\"rotate(0, 156.66, 1264.94)\" x=\"156.66\" y=\"1264.94\">0.05</text>\n</g>\n<g clip-path=\"url(#clip4200)\">\n<text style=\"fill:#000000; fill-opacity:1; font-family:Arial,Helvetica Neue,Helvetica,sans-serif; font-size:48px; text-anchor:end;\" transform=\"rotate(0, 156.66, 1024.9)\" x=\"156.66\" y=\"1024.9\">0.10</text>\n</g>\n<g clip-path=\"url(#clip4200)\">\n<text style=\"fill:#000000; fill-opacity:1; font-family:Arial,Helvetica Neue,Helvetica,sans-serif; font-size:48px; text-anchor:end;\" transform=\"rotate(0, 156.66, 784.859)\" x=\"156.66\" y=\"784.859\">0.15</text>\n</g>\n<g clip-path=\"url(#clip4200)\">\n<text style=\"fill:#000000; fill-opacity:1; font-family:Arial,Helvetica Neue,Helvetica,sans-serif; font-size:48px; text-anchor:end;\" transform=\"rotate(0, 156.66, 544.821)\" x=\"156.66\" y=\"544.821\">0.20</text>\n</g>\n<g clip-path=\"url(#clip4200)\">\n<text style=\"fill:#000000; fill-opacity:1; font-family:Arial,Helvetica Neue,Helvetica,sans-serif; font-size:48px; text-anchor:end;\" transform=\"rotate(0, 156.66, 304.783)\" x=\"156.66\" y=\"304.783\">0.25</text>\n</g>\n<polyline clip-path=\"url(#clip4202)\" style=\"stroke:#009af9; stroke-width:4; stroke-opacity:1; fill:none\" points=\"\n  242.135,1487.47 283.954,1486.75 325.773,1486.48 367.593,1484.72 409.412,1484.63 451.231,1480.79 493.051,1480.77 534.87,1473.21 576.689,1473.2 618.509,1459.76 \n  660.328,1459.76 702.147,1438.21 743.967,1438.21 785.786,1407.09 827.605,1407.09 869.425,1366.9 911.244,1366.9 953.063,1320.97 994.883,1320.97 1036.7,1275.56 \n  1078.52,1275.56 1120.34,1238.7 1162.16,1238.7 1203.98,1217.97 1245.8,1217.97 1287.62,1217.97 1329.44,1217.97 1371.26,1238.7 1413.08,1238.7 1454.9,1275.56 \n  1496.71,1275.56 1538.53,1320.97 1580.35,1320.97 1622.17,1366.9 1663.99,1366.9 1705.81,1407.09 1747.63,1407.09 1789.45,1438.21 1831.27,1438.21 1873.09,1459.76 \n  1914.91,1459.76 1956.73,1473.2 1998.55,1473.21 2040.37,1480.77 2082.18,1480.79 2124,1484.63 2165.82,1484.72 2207.64,1486.48 2249.46,1486.75 2291.28,1487.47 \n  \n  \"/>\n<polygon clip-path=\"url(#clip4202)\" style=\"fill:#000000; fill-opacity:1\" points=\"\n  242.135,1507.47 227.995,1501.61 222.135,1487.47 227.995,1473.33 242.135,1467.47 256.275,1473.33 262.135,1487.47 256.275,1501.61 \n  \"/>\n<polygon clip-path=\"url(#clip4202)\" style=\"fill:#009af9; fill-opacity:1\" points=\"\n  242.135,1503.47 230.823,1498.79 226.135,1487.47 230.823,1476.16 242.135,1471.47 253.447,1476.16 258.135,1487.47 253.447,1498.79 \n  \"/>\n<polygon clip-path=\"url(#clip4202)\" style=\"fill:#000000; fill-opacity:1\" points=\"\n  283.954,1506.75 269.814,1500.89 263.954,1486.75 269.814,1472.61 283.954,1466.75 298.094,1472.61 303.954,1486.75 298.094,1500.89 \n  \"/>\n<polygon clip-path=\"url(#clip4202)\" style=\"fill:#009af9; fill-opacity:1\" points=\"\n  283.954,1502.75 272.642,1498.06 267.954,1486.75 272.642,1475.44 283.954,1470.75 295.266,1475.44 299.954,1486.75 295.266,1498.06 \n  \"/>\n<polygon clip-path=\"url(#clip4202)\" style=\"fill:#000000; fill-opacity:1\" points=\"\n  325.773,1506.48 311.633,1500.62 305.773,1486.48 311.633,1472.34 325.773,1466.48 339.913,1472.34 345.773,1486.48 339.913,1500.62 \n  \"/>\n<polygon clip-path=\"url(#clip4202)\" style=\"fill:#009af9; fill-opacity:1\" points=\"\n  325.773,1502.48 314.461,1497.79 309.773,1486.48 314.461,1475.17 325.773,1470.48 337.085,1475.17 341.773,1486.48 337.085,1497.79 \n  \"/>\n<polygon clip-path=\"url(#clip4202)\" style=\"fill:#000000; fill-opacity:1\" points=\"\n  367.593,1504.72 353.453,1498.86 347.593,1484.72 353.453,1470.58 367.593,1464.72 381.733,1470.58 387.593,1484.72 381.733,1498.86 \n  \"/>\n<polygon clip-path=\"url(#clip4202)\" style=\"fill:#009af9; fill-opacity:1\" points=\"\n  367.593,1500.72 356.281,1496.03 351.593,1484.72 356.281,1473.41 367.593,1468.72 378.905,1473.41 383.593,1484.72 378.905,1496.03 \n  \"/>\n<polygon clip-path=\"url(#clip4202)\" style=\"fill:#000000; fill-opacity:1\" points=\"\n  409.412,1504.63 395.272,1498.77 389.412,1484.63 395.272,1470.49 409.412,1464.63 423.552,1470.49 429.412,1484.63 423.552,1498.77 \n  \"/>\n<polygon clip-path=\"url(#clip4202)\" style=\"fill:#009af9; fill-opacity:1\" points=\"\n  409.412,1500.63 398.1,1495.94 393.412,1484.63 398.1,1473.32 409.412,1468.63 420.724,1473.32 425.412,1484.63 420.724,1495.94 \n  \"/>\n<polygon clip-path=\"url(#clip4202)\" style=\"fill:#000000; fill-opacity:1\" points=\"\n  451.231,1500.79 437.091,1494.93 431.231,1480.79 437.091,1466.65 451.231,1460.79 465.371,1466.65 471.231,1480.79 465.371,1494.93 \n  \"/>\n<polygon clip-path=\"url(#clip4202)\" style=\"fill:#009af9; fill-opacity:1\" points=\"\n  451.231,1496.79 439.919,1492.1 435.231,1480.79 439.919,1469.48 451.231,1464.79 462.543,1469.48 467.231,1480.79 462.543,1492.1 \n  \"/>\n<polygon clip-path=\"url(#clip4202)\" style=\"fill:#000000; fill-opacity:1\" points=\"\n  493.051,1500.77 478.911,1494.91 473.051,1480.77 478.911,1466.63 493.051,1460.77 507.191,1466.63 513.051,1480.77 507.191,1494.91 \n  \"/>\n<polygon clip-path=\"url(#clip4202)\" style=\"fill:#009af9; fill-opacity:1\" points=\"\n  493.051,1496.77 481.739,1492.08 477.051,1480.77 481.739,1469.45 493.051,1464.77 504.363,1469.45 509.051,1480.77 504.363,1492.08 \n  \"/>\n<polygon clip-path=\"url(#clip4202)\" style=\"fill:#000000; fill-opacity:1\" points=\"\n  534.87,1493.21 520.73,1487.35 514.87,1473.21 520.73,1459.07 534.87,1453.21 549.01,1459.07 554.87,1473.21 549.01,1487.35 \n  \"/>\n<polygon clip-path=\"url(#clip4202)\" style=\"fill:#009af9; fill-opacity:1\" points=\"\n  534.87,1489.21 523.558,1484.52 518.87,1473.21 523.558,1461.9 534.87,1457.21 546.182,1461.9 550.87,1473.21 546.182,1484.52 \n  \"/>\n<polygon clip-path=\"url(#clip4202)\" style=\"fill:#000000; fill-opacity:1\" points=\"\n  576.689,1493.2 562.549,1487.34 556.689,1473.2 562.549,1459.06 576.689,1453.2 590.829,1459.06 596.689,1473.2 590.829,1487.34 \n  \"/>\n<polygon clip-path=\"url(#clip4202)\" style=\"fill:#009af9; fill-opacity:1\" points=\"\n  576.689,1489.2 565.377,1484.51 560.689,1473.2 565.377,1461.89 576.689,1457.2 588.001,1461.89 592.689,1473.2 588.001,1484.51 \n  \"/>\n<polygon clip-path=\"url(#clip4202)\" style=\"fill:#000000; fill-opacity:1\" points=\"\n  618.509,1479.76 604.369,1473.9 598.509,1459.76 604.369,1445.62 618.509,1439.76 632.649,1445.62 638.509,1459.76 632.649,1473.9 \n  \"/>\n<polygon clip-path=\"url(#clip4202)\" style=\"fill:#009af9; fill-opacity:1\" points=\"\n  618.509,1475.76 607.197,1471.08 602.509,1459.76 607.197,1448.45 618.509,1443.76 629.821,1448.45 634.509,1459.76 629.821,1471.08 \n  \"/>\n<polygon clip-path=\"url(#clip4202)\" style=\"fill:#000000; fill-opacity:1\" points=\"\n  660.328,1479.76 646.188,1473.9 640.328,1459.76 646.188,1445.62 660.328,1439.76 674.468,1445.62 680.328,1459.76 674.468,1473.9 \n  \"/>\n<polygon clip-path=\"url(#clip4202)\" style=\"fill:#009af9; fill-opacity:1\" points=\"\n  660.328,1475.76 649.016,1471.07 644.328,1459.76 649.016,1448.45 660.328,1443.76 671.64,1448.45 676.328,1459.76 671.64,1471.07 \n  \"/>\n<polygon clip-path=\"url(#clip4202)\" style=\"fill:#000000; fill-opacity:1\" points=\"\n  702.147,1458.21 688.007,1452.35 682.147,1438.21 688.007,1424.07 702.147,1418.21 716.287,1424.07 722.147,1438.21 716.287,1452.35 \n  \"/>\n<polygon clip-path=\"url(#clip4202)\" style=\"fill:#009af9; fill-opacity:1\" points=\"\n  702.147,1454.21 690.835,1449.52 686.147,1438.21 690.835,1426.9 702.147,1422.21 713.459,1426.9 718.147,1438.21 713.459,1449.52 \n  \"/>\n<polygon clip-path=\"url(#clip4202)\" style=\"fill:#000000; fill-opacity:1\" points=\"\n  743.967,1458.21 729.827,1452.35 723.967,1438.21 729.827,1424.07 743.967,1418.21 758.107,1424.07 763.967,1438.21 758.107,1452.35 \n  \"/>\n<polygon clip-path=\"url(#clip4202)\" style=\"fill:#009af9; fill-opacity:1\" points=\"\n  743.967,1454.21 732.655,1449.52 727.967,1438.21 732.655,1426.9 743.967,1422.21 755.279,1426.9 759.967,1438.21 755.279,1449.52 \n  \"/>\n<polygon clip-path=\"url(#clip4202)\" style=\"fill:#000000; fill-opacity:1\" points=\"\n  785.786,1427.09 771.646,1421.23 765.786,1407.09 771.646,1392.95 785.786,1387.09 799.926,1392.95 805.786,1407.09 799.926,1421.23 \n  \"/>\n<polygon clip-path=\"url(#clip4202)\" style=\"fill:#009af9; fill-opacity:1\" points=\"\n  785.786,1423.09 774.474,1418.4 769.786,1407.09 774.474,1395.78 785.786,1391.09 797.098,1395.78 801.786,1407.09 797.098,1418.4 \n  \"/>\n<polygon clip-path=\"url(#clip4202)\" style=\"fill:#000000; fill-opacity:1\" points=\"\n  827.605,1427.09 813.465,1421.23 807.605,1407.09 813.465,1392.95 827.605,1387.09 841.745,1392.95 847.605,1407.09 841.745,1421.23 \n  \"/>\n<polygon clip-path=\"url(#clip4202)\" style=\"fill:#009af9; fill-opacity:1\" points=\"\n  827.605,1423.09 816.293,1418.4 811.605,1407.09 816.293,1395.78 827.605,1391.09 838.917,1395.78 843.605,1407.09 838.917,1418.4 \n  \"/>\n<polygon clip-path=\"url(#clip4202)\" style=\"fill:#000000; fill-opacity:1\" points=\"\n  869.425,1386.9 855.285,1381.04 849.425,1366.9 855.285,1352.76 869.425,1346.9 883.565,1352.76 889.425,1366.9 883.565,1381.04 \n  \"/>\n<polygon clip-path=\"url(#clip4202)\" style=\"fill:#009af9; fill-opacity:1\" points=\"\n  869.425,1382.9 858.113,1378.21 853.425,1366.9 858.113,1355.59 869.425,1350.9 880.737,1355.59 885.425,1366.9 880.737,1378.21 \n  \"/>\n<polygon clip-path=\"url(#clip4202)\" style=\"fill:#000000; fill-opacity:1\" points=\"\n  911.244,1386.9 897.104,1381.04 891.244,1366.9 897.104,1352.76 911.244,1346.9 925.384,1352.76 931.244,1366.9 925.384,1381.04 \n  \"/>\n<polygon clip-path=\"url(#clip4202)\" style=\"fill:#009af9; fill-opacity:1\" points=\"\n  911.244,1382.9 899.932,1378.21 895.244,1366.9 899.932,1355.59 911.244,1350.9 922.556,1355.59 927.244,1366.9 922.556,1378.21 \n  \"/>\n<polygon clip-path=\"url(#clip4202)\" style=\"fill:#000000; fill-opacity:1\" points=\"\n  953.063,1340.97 938.923,1335.11 933.063,1320.97 938.923,1306.83 953.063,1300.97 967.203,1306.83 973.063,1320.97 967.203,1335.11 \n  \"/>\n<polygon clip-path=\"url(#clip4202)\" style=\"fill:#009af9; fill-opacity:1\" points=\"\n  953.063,1336.97 941.751,1332.28 937.063,1320.97 941.751,1309.66 953.063,1304.97 964.375,1309.66 969.063,1320.97 964.375,1332.28 \n  \"/>\n<polygon clip-path=\"url(#clip4202)\" style=\"fill:#000000; fill-opacity:1\" points=\"\n  994.883,1340.97 980.743,1335.11 974.883,1320.97 980.743,1306.83 994.883,1300.97 1009.02,1306.83 1014.88,1320.97 1009.02,1335.11 \n  \"/>\n<polygon clip-path=\"url(#clip4202)\" style=\"fill:#009af9; fill-opacity:1\" points=\"\n  994.883,1336.97 983.571,1332.28 978.883,1320.97 983.571,1309.66 994.883,1304.97 1006.19,1309.66 1010.88,1320.97 1006.19,1332.28 \n  \"/>\n<polygon clip-path=\"url(#clip4202)\" style=\"fill:#000000; fill-opacity:1\" points=\"\n  1036.7,1295.56 1022.56,1289.7 1016.7,1275.56 1022.56,1261.42 1036.7,1255.56 1050.84,1261.42 1056.7,1275.56 1050.84,1289.7 \n  \"/>\n<polygon clip-path=\"url(#clip4202)\" style=\"fill:#009af9; fill-opacity:1\" points=\"\n  1036.7,1291.56 1025.39,1286.87 1020.7,1275.56 1025.39,1264.25 1036.7,1259.56 1048.01,1264.25 1052.7,1275.56 1048.01,1286.87 \n  \"/>\n<polygon clip-path=\"url(#clip4202)\" style=\"fill:#000000; fill-opacity:1\" points=\"\n  1078.52,1295.56 1064.38,1289.7 1058.52,1275.56 1064.38,1261.42 1078.52,1255.56 1092.66,1261.42 1098.52,1275.56 1092.66,1289.7 \n  \"/>\n<polygon clip-path=\"url(#clip4202)\" style=\"fill:#009af9; fill-opacity:1\" points=\"\n  1078.52,1291.56 1067.21,1286.87 1062.52,1275.56 1067.21,1264.25 1078.52,1259.56 1089.83,1264.25 1094.52,1275.56 1089.83,1286.87 \n  \"/>\n<polygon clip-path=\"url(#clip4202)\" style=\"fill:#000000; fill-opacity:1\" points=\"\n  1120.34,1258.7 1106.2,1252.84 1100.34,1238.7 1106.2,1224.56 1120.34,1218.7 1134.48,1224.56 1140.34,1238.7 1134.48,1252.84 \n  \"/>\n<polygon clip-path=\"url(#clip4202)\" style=\"fill:#009af9; fill-opacity:1\" points=\"\n  1120.34,1254.7 1109.03,1250.01 1104.34,1238.7 1109.03,1227.39 1120.34,1222.7 1131.65,1227.39 1136.34,1238.7 1131.65,1250.01 \n  \"/>\n<polygon clip-path=\"url(#clip4202)\" style=\"fill:#000000; fill-opacity:1\" points=\"\n  1162.16,1258.7 1148.02,1252.84 1142.16,1238.7 1148.02,1224.56 1162.16,1218.7 1176.3,1224.56 1182.16,1238.7 1176.3,1252.84 \n  \"/>\n<polygon clip-path=\"url(#clip4202)\" style=\"fill:#009af9; fill-opacity:1\" points=\"\n  1162.16,1254.7 1150.85,1250.01 1146.16,1238.7 1150.85,1227.39 1162.16,1222.7 1173.47,1227.39 1178.16,1238.7 1173.47,1250.01 \n  \"/>\n<polygon clip-path=\"url(#clip4202)\" style=\"fill:#000000; fill-opacity:1\" points=\"\n  1203.98,1237.97 1189.84,1232.11 1183.98,1217.97 1189.84,1203.83 1203.98,1197.97 1218.12,1203.83 1223.98,1217.97 1218.12,1232.11 \n  \"/>\n<polygon clip-path=\"url(#clip4202)\" style=\"fill:#009af9; fill-opacity:1\" points=\"\n  1203.98,1233.97 1192.67,1229.28 1187.98,1217.97 1192.67,1206.66 1203.98,1201.97 1215.29,1206.66 1219.98,1217.97 1215.29,1229.28 \n  \"/>\n<polygon clip-path=\"url(#clip4202)\" style=\"fill:#000000; fill-opacity:1\" points=\"\n  1245.8,1237.97 1231.66,1232.11 1225.8,1217.97 1231.66,1203.83 1245.8,1197.97 1259.94,1203.83 1265.8,1217.97 1259.94,1232.11 \n  \"/>\n<polygon clip-path=\"url(#clip4202)\" style=\"fill:#009af9; fill-opacity:1\" points=\"\n  1245.8,1233.97 1234.49,1229.28 1229.8,1217.97 1234.49,1206.66 1245.8,1201.97 1257.11,1206.66 1261.8,1217.97 1257.11,1229.28 \n  \"/>\n<polygon clip-path=\"url(#clip4202)\" style=\"fill:#000000; fill-opacity:1\" points=\"\n  1287.62,1237.97 1273.48,1232.11 1267.62,1217.97 1273.48,1203.83 1287.62,1197.97 1301.76,1203.83 1307.62,1217.97 1301.76,1232.11 \n  \"/>\n<polygon clip-path=\"url(#clip4202)\" style=\"fill:#009af9; fill-opacity:1\" points=\"\n  1287.62,1233.97 1276.31,1229.28 1271.62,1217.97 1276.31,1206.66 1287.62,1201.97 1298.93,1206.66 1303.62,1217.97 1298.93,1229.28 \n  \"/>\n<polygon clip-path=\"url(#clip4202)\" style=\"fill:#000000; fill-opacity:1\" points=\"\n  1329.44,1237.97 1315.3,1232.11 1309.44,1217.97 1315.3,1203.83 1329.44,1197.97 1343.58,1203.83 1349.44,1217.97 1343.58,1232.11 \n  \"/>\n<polygon clip-path=\"url(#clip4202)\" style=\"fill:#009af9; fill-opacity:1\" points=\"\n  1329.44,1233.97 1318.13,1229.28 1313.44,1217.97 1318.13,1206.66 1329.44,1201.97 1340.75,1206.66 1345.44,1217.97 1340.75,1229.28 \n  \"/>\n<polygon clip-path=\"url(#clip4202)\" style=\"fill:#000000; fill-opacity:1\" points=\"\n  1371.26,1258.7 1357.12,1252.84 1351.26,1238.7 1357.12,1224.56 1371.26,1218.7 1385.4,1224.56 1391.26,1238.7 1385.4,1252.84 \n  \"/>\n<polygon clip-path=\"url(#clip4202)\" style=\"fill:#009af9; fill-opacity:1\" points=\"\n  1371.26,1254.7 1359.94,1250.01 1355.26,1238.7 1359.94,1227.39 1371.26,1222.7 1382.57,1227.39 1387.26,1238.7 1382.57,1250.01 \n  \"/>\n<polygon clip-path=\"url(#clip4202)\" style=\"fill:#000000; fill-opacity:1\" points=\"\n  1413.08,1258.7 1398.94,1252.84 1393.08,1238.7 1398.94,1224.56 1413.08,1218.7 1427.22,1224.56 1433.08,1238.7 1427.22,1252.84 \n  \"/>\n<polygon clip-path=\"url(#clip4202)\" style=\"fill:#009af9; fill-opacity:1\" points=\"\n  1413.08,1254.7 1401.76,1250.01 1397.08,1238.7 1401.76,1227.39 1413.08,1222.7 1424.39,1227.39 1429.08,1238.7 1424.39,1250.01 \n  \"/>\n<polygon clip-path=\"url(#clip4202)\" style=\"fill:#000000; fill-opacity:1\" points=\"\n  1454.9,1295.56 1440.76,1289.7 1434.9,1275.56 1440.76,1261.42 1454.9,1255.56 1469.04,1261.42 1474.9,1275.56 1469.04,1289.7 \n  \"/>\n<polygon clip-path=\"url(#clip4202)\" style=\"fill:#009af9; fill-opacity:1\" points=\"\n  1454.9,1291.56 1443.58,1286.87 1438.9,1275.56 1443.58,1264.25 1454.9,1259.56 1466.21,1264.25 1470.9,1275.56 1466.21,1286.87 \n  \"/>\n<polygon clip-path=\"url(#clip4202)\" style=\"fill:#000000; fill-opacity:1\" points=\"\n  1496.71,1295.56 1482.57,1289.7 1476.71,1275.56 1482.57,1261.42 1496.71,1255.56 1510.85,1261.42 1516.71,1275.56 1510.85,1289.7 \n  \"/>\n<polygon clip-path=\"url(#clip4202)\" style=\"fill:#009af9; fill-opacity:1\" points=\"\n  1496.71,1291.56 1485.4,1286.87 1480.71,1275.56 1485.4,1264.25 1496.71,1259.56 1508.03,1264.25 1512.71,1275.56 1508.03,1286.87 \n  \"/>\n<polygon clip-path=\"url(#clip4202)\" style=\"fill:#000000; fill-opacity:1\" points=\"\n  1538.53,1340.97 1524.39,1335.11 1518.53,1320.97 1524.39,1306.83 1538.53,1300.97 1552.67,1306.83 1558.53,1320.97 1552.67,1335.11 \n  \"/>\n<polygon clip-path=\"url(#clip4202)\" style=\"fill:#009af9; fill-opacity:1\" points=\"\n  1538.53,1336.97 1527.22,1332.28 1522.53,1320.97 1527.22,1309.66 1538.53,1304.97 1549.85,1309.66 1554.53,1320.97 1549.85,1332.28 \n  \"/>\n<polygon clip-path=\"url(#clip4202)\" style=\"fill:#000000; fill-opacity:1\" points=\"\n  1580.35,1340.97 1566.21,1335.11 1560.35,1320.97 1566.21,1306.83 1580.35,1300.97 1594.49,1306.83 1600.35,1320.97 1594.49,1335.11 \n  \"/>\n<polygon clip-path=\"url(#clip4202)\" style=\"fill:#009af9; fill-opacity:1\" points=\"\n  1580.35,1336.97 1569.04,1332.28 1564.35,1320.97 1569.04,1309.66 1580.35,1304.97 1591.67,1309.66 1596.35,1320.97 1591.67,1332.28 \n  \"/>\n<polygon clip-path=\"url(#clip4202)\" style=\"fill:#000000; fill-opacity:1\" points=\"\n  1622.17,1386.9 1608.03,1381.04 1602.17,1366.9 1608.03,1352.76 1622.17,1346.9 1636.31,1352.76 1642.17,1366.9 1636.31,1381.04 \n  \"/>\n<polygon clip-path=\"url(#clip4202)\" style=\"fill:#009af9; fill-opacity:1\" points=\"\n  1622.17,1382.9 1610.86,1378.21 1606.17,1366.9 1610.86,1355.59 1622.17,1350.9 1633.48,1355.59 1638.17,1366.9 1633.48,1378.21 \n  \"/>\n<polygon clip-path=\"url(#clip4202)\" style=\"fill:#000000; fill-opacity:1\" points=\"\n  1663.99,1386.9 1649.85,1381.04 1643.99,1366.9 1649.85,1352.76 1663.99,1346.9 1678.13,1352.76 1683.99,1366.9 1678.13,1381.04 \n  \"/>\n<polygon clip-path=\"url(#clip4202)\" style=\"fill:#009af9; fill-opacity:1\" points=\"\n  1663.99,1382.9 1652.68,1378.21 1647.99,1366.9 1652.68,1355.59 1663.99,1350.9 1675.3,1355.59 1679.99,1366.9 1675.3,1378.21 \n  \"/>\n<polygon clip-path=\"url(#clip4202)\" style=\"fill:#000000; fill-opacity:1\" points=\"\n  1705.81,1427.09 1691.67,1421.23 1685.81,1407.09 1691.67,1392.95 1705.81,1387.09 1719.95,1392.95 1725.81,1407.09 1719.95,1421.23 \n  \"/>\n<polygon clip-path=\"url(#clip4202)\" style=\"fill:#009af9; fill-opacity:1\" points=\"\n  1705.81,1423.09 1694.5,1418.4 1689.81,1407.09 1694.5,1395.78 1705.81,1391.09 1717.12,1395.78 1721.81,1407.09 1717.12,1418.4 \n  \"/>\n<polygon clip-path=\"url(#clip4202)\" style=\"fill:#000000; fill-opacity:1\" points=\"\n  1747.63,1427.09 1733.49,1421.23 1727.63,1407.09 1733.49,1392.95 1747.63,1387.09 1761.77,1392.95 1767.63,1407.09 1761.77,1421.23 \n  \"/>\n<polygon clip-path=\"url(#clip4202)\" style=\"fill:#009af9; fill-opacity:1\" points=\"\n  1747.63,1423.09 1736.32,1418.4 1731.63,1407.09 1736.32,1395.78 1747.63,1391.09 1758.94,1395.78 1763.63,1407.09 1758.94,1418.4 \n  \"/>\n<polygon clip-path=\"url(#clip4202)\" style=\"fill:#000000; fill-opacity:1\" points=\"\n  1789.45,1458.21 1775.31,1452.35 1769.45,1438.21 1775.31,1424.07 1789.45,1418.21 1803.59,1424.07 1809.45,1438.21 1803.59,1452.35 \n  \"/>\n<polygon clip-path=\"url(#clip4202)\" style=\"fill:#009af9; fill-opacity:1\" points=\"\n  1789.45,1454.21 1778.14,1449.52 1773.45,1438.21 1778.14,1426.9 1789.45,1422.21 1800.76,1426.9 1805.45,1438.21 1800.76,1449.52 \n  \"/>\n<polygon clip-path=\"url(#clip4202)\" style=\"fill:#000000; fill-opacity:1\" points=\"\n  1831.27,1458.21 1817.13,1452.35 1811.27,1438.21 1817.13,1424.07 1831.27,1418.21 1845.41,1424.07 1851.27,1438.21 1845.41,1452.35 \n  \"/>\n<polygon clip-path=\"url(#clip4202)\" style=\"fill:#009af9; fill-opacity:1\" points=\"\n  1831.27,1454.21 1819.96,1449.52 1815.27,1438.21 1819.96,1426.9 1831.27,1422.21 1842.58,1426.9 1847.27,1438.21 1842.58,1449.52 \n  \"/>\n<polygon clip-path=\"url(#clip4202)\" style=\"fill:#000000; fill-opacity:1\" points=\"\n  1873.09,1479.76 1858.95,1473.9 1853.09,1459.76 1858.95,1445.62 1873.09,1439.76 1887.23,1445.62 1893.09,1459.76 1887.23,1473.9 \n  \"/>\n<polygon clip-path=\"url(#clip4202)\" style=\"fill:#009af9; fill-opacity:1\" points=\"\n  1873.09,1475.76 1861.78,1471.07 1857.09,1459.76 1861.78,1448.45 1873.09,1443.76 1884.4,1448.45 1889.09,1459.76 1884.4,1471.07 \n  \"/>\n<polygon clip-path=\"url(#clip4202)\" style=\"fill:#000000; fill-opacity:1\" points=\"\n  1914.91,1479.76 1900.77,1473.9 1894.91,1459.76 1900.77,1445.62 1914.91,1439.76 1929.05,1445.62 1934.91,1459.76 1929.05,1473.9 \n  \"/>\n<polygon clip-path=\"url(#clip4202)\" style=\"fill:#009af9; fill-opacity:1\" points=\"\n  1914.91,1475.76 1903.6,1471.08 1898.91,1459.76 1903.6,1448.45 1914.91,1443.76 1926.22,1448.45 1930.91,1459.76 1926.22,1471.08 \n  \"/>\n<polygon clip-path=\"url(#clip4202)\" style=\"fill:#000000; fill-opacity:1\" points=\"\n  1956.73,1493.2 1942.59,1487.34 1936.73,1473.2 1942.59,1459.06 1956.73,1453.2 1970.87,1459.06 1976.73,1473.2 1970.87,1487.34 \n  \"/>\n<polygon clip-path=\"url(#clip4202)\" style=\"fill:#009af9; fill-opacity:1\" points=\"\n  1956.73,1489.2 1945.41,1484.51 1940.73,1473.2 1945.41,1461.89 1956.73,1457.2 1968.04,1461.89 1972.73,1473.2 1968.04,1484.51 \n  \"/>\n<polygon clip-path=\"url(#clip4202)\" style=\"fill:#000000; fill-opacity:1\" points=\"\n  1998.55,1493.21 1984.41,1487.35 1978.55,1473.21 1984.41,1459.07 1998.55,1453.21 2012.69,1459.07 2018.55,1473.21 2012.69,1487.35 \n  \"/>\n<polygon clip-path=\"url(#clip4202)\" style=\"fill:#009af9; fill-opacity:1\" points=\"\n  1998.55,1489.21 1987.23,1484.52 1982.55,1473.21 1987.23,1461.9 1998.55,1457.21 2009.86,1461.9 2014.55,1473.21 2009.86,1484.52 \n  \"/>\n<polygon clip-path=\"url(#clip4202)\" style=\"fill:#000000; fill-opacity:1\" points=\"\n  2040.37,1500.77 2026.23,1494.91 2020.37,1480.77 2026.23,1466.63 2040.37,1460.77 2054.51,1466.63 2060.37,1480.77 2054.51,1494.91 \n  \"/>\n<polygon clip-path=\"url(#clip4202)\" style=\"fill:#009af9; fill-opacity:1\" points=\"\n  2040.37,1496.77 2029.05,1492.08 2024.37,1480.77 2029.05,1469.45 2040.37,1464.77 2051.68,1469.45 2056.37,1480.77 2051.68,1492.08 \n  \"/>\n<polygon clip-path=\"url(#clip4202)\" style=\"fill:#000000; fill-opacity:1\" points=\"\n  2082.18,1500.79 2068.04,1494.93 2062.18,1480.79 2068.04,1466.65 2082.18,1460.79 2096.32,1466.65 2102.18,1480.79 2096.32,1494.93 \n  \"/>\n<polygon clip-path=\"url(#clip4202)\" style=\"fill:#009af9; fill-opacity:1\" points=\"\n  2082.18,1496.79 2070.87,1492.1 2066.18,1480.79 2070.87,1469.48 2082.18,1464.79 2093.5,1469.48 2098.18,1480.79 2093.5,1492.1 \n  \"/>\n<polygon clip-path=\"url(#clip4202)\" style=\"fill:#000000; fill-opacity:1\" points=\"\n  2124,1504.63 2109.86,1498.77 2104,1484.63 2109.86,1470.49 2124,1464.63 2138.14,1470.49 2144,1484.63 2138.14,1498.77 \n  \"/>\n<polygon clip-path=\"url(#clip4202)\" style=\"fill:#009af9; fill-opacity:1\" points=\"\n  2124,1500.63 2112.69,1495.94 2108,1484.63 2112.69,1473.32 2124,1468.63 2135.32,1473.32 2140,1484.63 2135.32,1495.94 \n  \"/>\n<polygon clip-path=\"url(#clip4202)\" style=\"fill:#000000; fill-opacity:1\" points=\"\n  2165.82,1504.72 2151.68,1498.86 2145.82,1484.72 2151.68,1470.58 2165.82,1464.72 2179.96,1470.58 2185.82,1484.72 2179.96,1498.86 \n  \"/>\n<polygon clip-path=\"url(#clip4202)\" style=\"fill:#009af9; fill-opacity:1\" points=\"\n  2165.82,1500.72 2154.51,1496.03 2149.82,1484.72 2154.51,1473.41 2165.82,1468.72 2177.14,1473.41 2181.82,1484.72 2177.14,1496.03 \n  \"/>\n<polygon clip-path=\"url(#clip4202)\" style=\"fill:#000000; fill-opacity:1\" points=\"\n  2207.64,1506.48 2193.5,1500.62 2187.64,1486.48 2193.5,1472.34 2207.64,1466.48 2221.78,1472.34 2227.64,1486.48 2221.78,1500.62 \n  \"/>\n<polygon clip-path=\"url(#clip4202)\" style=\"fill:#009af9; fill-opacity:1\" points=\"\n  2207.64,1502.48 2196.33,1497.79 2191.64,1486.48 2196.33,1475.17 2207.64,1470.48 2218.95,1475.17 2223.64,1486.48 2218.95,1497.79 \n  \"/>\n<polygon clip-path=\"url(#clip4202)\" style=\"fill:#000000; fill-opacity:1\" points=\"\n  2249.46,1506.75 2235.32,1500.89 2229.46,1486.75 2235.32,1472.61 2249.46,1466.75 2263.6,1472.61 2269.46,1486.75 2263.6,1500.89 \n  \"/>\n<polygon clip-path=\"url(#clip4202)\" style=\"fill:#009af9; fill-opacity:1\" points=\"\n  2249.46,1502.75 2238.15,1498.06 2233.46,1486.75 2238.15,1475.44 2249.46,1470.75 2260.77,1475.44 2265.46,1486.75 2260.77,1498.06 \n  \"/>\n<polygon clip-path=\"url(#clip4202)\" style=\"fill:#000000; fill-opacity:1\" points=\"\n  2291.28,1507.47 2277.14,1501.61 2271.28,1487.47 2277.14,1473.33 2291.28,1467.47 2305.42,1473.33 2311.28,1487.47 2305.42,1501.61 \n  \"/>\n<polygon clip-path=\"url(#clip4202)\" style=\"fill:#009af9; fill-opacity:1\" points=\"\n  2291.28,1503.47 2279.97,1498.79 2275.28,1487.47 2279.97,1476.16 2291.28,1471.47 2302.59,1476.16 2307.28,1487.47 2302.59,1498.79 \n  \"/>\n<path clip-path=\"url(#clip4200)\" d=\"\nM1989.93 251.724 L2280.76 251.724 L2280.76 130.764 L1989.93 130.764  Z\n  \" fill=\"#ffffff\" fill-rule=\"evenodd\" fill-opacity=\"1\"/>\n<polyline clip-path=\"url(#clip4200)\" style=\"stroke:#000000; stroke-width:4; stroke-opacity:1; fill:none\" points=\"\n  1989.93,251.724 2280.76,251.724 2280.76,130.764 1989.93,130.764 1989.93,251.724 \n  \"/>\n<polyline clip-path=\"url(#clip4200)\" style=\"stroke:#009af9; stroke-width:4; stroke-opacity:1; fill:none\" points=\"\n  2013.93,191.244 2157.93,191.244 \n  \"/>\n<polygon clip-path=\"url(#clip4200)\" style=\"fill:#000000; fill-opacity:1\" points=\"\n  2097.93,219.244 2078.13,211.04 2069.93,191.244 2078.13,171.448 2097.93,163.244 2117.72,171.448 2125.93,191.244 2117.72,211.04 \n  \"/>\n<polygon clip-path=\"url(#clip4200)\" style=\"fill:#009af9; fill-opacity:1\" points=\"\n  2097.93,215.244 2080.96,208.212 2073.93,191.244 2080.96,174.276 2097.93,167.244 2114.89,174.276 2121.93,191.244 2114.89,208.212 \n  \"/>\n<g clip-path=\"url(#clip4200)\">\n<text style=\"fill:#000000; fill-opacity:1; font-family:Arial,Helvetica Neue,Helvetica,sans-serif; font-size:48px; text-anchor:start;\" transform=\"rotate(0, 2181.93, 208.744)\" x=\"2181.93\" y=\"208.744\">y1</text>\n</g>\n</svg>\n"
               },
               "type": "node"
              }
             ],
             "instanceArgs": {
              "namespace": "html",
              "tag": "div"
             },
             "nodeType": "DOM",
             "props": {
              "className": "interact-flex-row interact-widget"
             },
             "type": "node"
            }
           }
          },
          "systemjs_options": null
         },
         "nodeType": "Scope",
         "props": {},
         "type": "node"
        }
       ],
       "instanceArgs": {
        "namespace": "html",
        "tag": "div"
       },
       "nodeType": "DOM",
       "props": {},
       "type": "node"
      },
      "text/html": [
       "<div\n",
       "    class=\"webio-mountpoint\"\n",
       "    data-webio-mountpoint=\"9695029662217900259\"\n",
       ">\n",
       "    <script>\n",
       "    if (window.require && require.defined && require.defined(\"nbextensions/webio-jupyter-notebook\")) {\n",
       "        console.log(\"Jupyter WebIO extension detected, not mounting.\");\n",
       "    } else if (window.WebIO) {\n",
       "        WebIO.mount(\n",
       "            document.querySelector('[data-webio-mountpoint=\"9695029662217900259\"]'),\n",
       "            {\"props\":{},\"nodeType\":\"DOM\",\"type\":\"node\",\"instanceArgs\":{\"namespace\":\"html\",\"tag\":\"div\"},\"children\":[{\"props\":{\"className\":\"field interact-widget\"},\"nodeType\":\"DOM\",\"type\":\"node\",\"instanceArgs\":{\"namespace\":\"html\",\"tag\":\"div\"},\"children\":[{\"props\":{},\"nodeType\":\"Scope\",\"type\":\"node\",\"instanceArgs\":{\"imports\":{\"data\":[{\"name\":\"knockout\",\"type\":\"js\",\"url\":\"\\/assetserver\\/9a186147d51179d2ec12ccfac1799b0b805a79d5-knockout.js\"},{\"name\":\"knockout_punches\",\"type\":\"js\",\"url\":\"\\/assetserver\\/eccef011301f679ebde0900f01478cac573870ce-knockout_punches.js\"},{\"name\":null,\"type\":\"js\",\"url\":\"\\/assetserver\\/5d2042c6908ffff0b7c8d26135740476bcf00827-all.js\"},{\"name\":null,\"type\":\"css\",\"url\":\"\\/assetserver\\/87ad319ae61de5d44f67c268a0a8f65862fca478-style.css\"},{\"name\":null,\"type\":\"css\",\"url\":\"\\/assetserver\\/9354074556c360cc537db1e8b0f0283e19c8ea9d-bulma_confined.min.css\"}],\"type\":\"async_block\"},\"id\":\"14162045250798881579\",\"handlers\":{\"changes\":[\"(function (val){return (val!=this.model[\\\"changes\\\"]()) ? (this.valueFromJulia[\\\"changes\\\"]=true, this.model[\\\"changes\\\"](val)) : undefined})\"],\"index\":[\"(function (val){return (val!=this.model[\\\"index\\\"]()) ? (this.valueFromJulia[\\\"index\\\"]=true, this.model[\\\"index\\\"](val)) : undefined})\"]},\"systemjs_options\":null,\"mount_callbacks\":[\"function () {\\n    var handler = (function (ko, koPunches) {\\n    ko.punches.enableAll();\\n    ko.bindingHandlers.numericValue = {\\n        init: function(element, valueAccessor, allBindings, data, context) {\\n            var stringified = ko.observable(ko.unwrap(valueAccessor()));\\n            stringified.subscribe(function(value) {\\n                var val = parseFloat(value);\\n                if (!isNaN(val)) {\\n                    valueAccessor()(val);\\n                }\\n            });\\n            valueAccessor().subscribe(function(value) {\\n                var str = JSON.stringify(value);\\n                if ((str == \\\"0\\\") && ([\\\"-0\\\", \\\"-0.\\\"].indexOf(stringified()) >= 0))\\n                     return;\\n                 if ([\\\"null\\\", \\\"\\\"].indexOf(str) >= 0)\\n                     return;\\n                stringified(str);\\n            });\\n            ko.applyBindingsToNode(\\n                element,\\n                {\\n                    value: stringified,\\n                    valueUpdate: allBindings.get('valueUpdate'),\\n                },\\n                context,\\n            );\\n        }\\n    };\\n    var json_data = {\\\"formatted_vals\\\":[\\\"1\\\",\\\"2\\\",\\\"3\\\",\\\"4\\\",\\\"5\\\",\\\"6\\\",\\\"7\\\",\\\"8\\\",\\\"9\\\",\\\"10\\\",\\\"11\\\",\\\"12\\\",\\\"13\\\",\\\"14\\\",\\\"15\\\",\\\"16\\\",\\\"17\\\",\\\"18\\\",\\\"19\\\",\\\"20\\\",\\\"21\\\",\\\"22\\\",\\\"23\\\",\\\"24\\\",\\\"25\\\",\\\"26\\\",\\\"27\\\",\\\"28\\\",\\\"29\\\",\\\"30\\\",\\\"31\\\",\\\"32\\\",\\\"33\\\",\\\"34\\\",\\\"35\\\",\\\"36\\\",\\\"37\\\",\\\"38\\\",\\\"39\\\",\\\"40\\\",\\\"41\\\",\\\"42\\\",\\\"43\\\",\\\"44\\\",\\\"45\\\",\\\"46\\\",\\\"47\\\",\\\"48\\\",\\\"49\\\",\\\"50\\\",\\\"51\\\",\\\"52\\\",\\\"53\\\",\\\"54\\\",\\\"55\\\",\\\"56\\\",\\\"57\\\",\\\"58\\\",\\\"59\\\",\\\"60\\\",\\\"61\\\",\\\"62\\\",\\\"63\\\",\\\"64\\\",\\\"65\\\",\\\"66\\\",\\\"67\\\",\\\"68\\\",\\\"69\\\",\\\"70\\\",\\\"71\\\",\\\"72\\\",\\\"73\\\",\\\"74\\\",\\\"75\\\",\\\"76\\\",\\\"77\\\",\\\"78\\\",\\\"79\\\",\\\"80\\\",\\\"81\\\",\\\"82\\\",\\\"83\\\",\\\"84\\\",\\\"85\\\",\\\"86\\\",\\\"87\\\",\\\"88\\\",\\\"89\\\",\\\"90\\\",\\\"91\\\",\\\"92\\\",\\\"93\\\",\\\"94\\\",\\\"95\\\",\\\"96\\\",\\\"97\\\",\\\"98\\\",\\\"99\\\",\\\"100\\\"],\\\"changes\\\":WebIO.getval({\\\"name\\\":\\\"changes\\\",\\\"scope\\\":\\\"14162045250798881579\\\",\\\"id\\\":\\\"ob_22\\\",\\\"type\\\":\\\"observable\\\"}),\\\"index\\\":WebIO.getval({\\\"name\\\":\\\"index\\\",\\\"scope\\\":\\\"14162045250798881579\\\",\\\"id\\\":\\\"ob_21\\\",\\\"type\\\":\\\"observable\\\"})};\\n    var self = this;\\n    function AppViewModel() {\\n        for (var key in json_data) {\\n            var el = json_data[key];\\n            this[key] = Array.isArray(el) ? ko.observableArray(el) : ko.observable(el);\\n        }\\n        \\n        [this[\\\"formatted_val\\\"]=ko.computed(    function(){\\n        return this.formatted_vals()[parseInt(this.index())-(1)];\\n    }\\n,this)]\\n        [this[\\\"changes\\\"].subscribe((function (val){!(this.valueFromJulia[\\\"changes\\\"]) ? (WebIO.setval({\\\"name\\\":\\\"changes\\\",\\\"scope\\\":\\\"14162045250798881579\\\",\\\"id\\\":\\\"ob_22\\\",\\\"type\\\":\\\"observable\\\"},val)) : undefined; return this.valueFromJulia[\\\"changes\\\"]=false}),self),this[\\\"index\\\"].subscribe((function (val){!(this.valueFromJulia[\\\"index\\\"]) ? (WebIO.setval({\\\"name\\\":\\\"index\\\",\\\"scope\\\":\\\"14162045250798881579\\\",\\\"id\\\":\\\"ob_21\\\",\\\"type\\\":\\\"observable\\\"},val)) : undefined; return this.valueFromJulia[\\\"index\\\"]=false}),self)]\\n        \\n    }\\n    self.model = new AppViewModel();\\n    self.valueFromJulia = {};\\n    for (var key in json_data) {\\n        self.valueFromJulia[key] = false;\\n    }\\n    ko.applyBindings(self.model, self.dom);\\n}\\n);\\n    (WebIO.importBlock({\\\"data\\\":[{\\\"name\\\":\\\"knockout\\\",\\\"type\\\":\\\"js\\\",\\\"url\\\":\\\"\\/assetserver\\/9a186147d51179d2ec12ccfac1799b0b805a79d5-knockout.js\\\"},{\\\"name\\\":\\\"knockout_punches\\\",\\\"type\\\":\\\"js\\\",\\\"url\\\":\\\"\\/assetserver\\/eccef011301f679ebde0900f01478cac573870ce-knockout_punches.js\\\"}],\\\"type\\\":\\\"async_block\\\"})).then((imports) => handler.apply(this, imports));\\n}\\n\"],\"observables\":{\"changes\":{\"sync\":false,\"id\":\"ob_22\",\"value\":0},\"index\":{\"sync\":true,\"id\":\"ob_21\",\"value\":50}}},\"children\":[{\"props\":{\"className\":\"interact-flex-row interact-widget\"},\"nodeType\":\"DOM\",\"type\":\"node\",\"instanceArgs\":{\"namespace\":\"html\",\"tag\":\"div\"},\"children\":[{\"props\":{\"className\":\"interact-flex-row-left\"},\"nodeType\":\"DOM\",\"type\":\"node\",\"instanceArgs\":{\"namespace\":\"html\",\"tag\":\"div\"},\"children\":[{\"props\":{\"className\":\"interact \",\"style\":{\"padding\":\"5px 10px 0px 10px\"}},\"nodeType\":\"DOM\",\"type\":\"node\",\"instanceArgs\":{\"namespace\":\"html\",\"tag\":\"label\"},\"children\":[\"t\"]}]},{\"props\":{\"className\":\"interact-flex-row-center\"},\"nodeType\":\"DOM\",\"type\":\"node\",\"instanceArgs\":{\"namespace\":\"html\",\"tag\":\"div\"},\"children\":[{\"props\":{\"max\":100,\"min\":1,\"attributes\":{\"type\":\"range\",\"data-bind\":\"numericValue: index, valueUpdate: 'input', event: {change: function (){this.changes(this.changes()+1)}}\",\"orient\":\"horizontal\"},\"step\":1,\"className\":\"slider slider is-fullwidth\",\"style\":{}},\"nodeType\":\"DOM\",\"type\":\"node\",\"instanceArgs\":{\"namespace\":\"html\",\"tag\":\"input\"},\"children\":[]}]},{\"props\":{\"className\":\"interact-flex-row-right\"},\"nodeType\":\"DOM\",\"type\":\"node\",\"instanceArgs\":{\"namespace\":\"html\",\"tag\":\"div\"},\"children\":[{\"props\":{\"attributes\":{\"data-bind\":\"text: formatted_val\"}},\"nodeType\":\"DOM\",\"type\":\"node\",\"instanceArgs\":{\"namespace\":\"html\",\"tag\":\"p\"},\"children\":[]}]}]}]}]},{\"props\":{},\"nodeType\":\"Scope\",\"type\":\"node\",\"instanceArgs\":{\"imports\":{\"data\":[],\"type\":\"async_block\"},\"id\":\"15914534560241533608\",\"handlers\":{},\"systemjs_options\":null,\"mount_callbacks\":[],\"observables\":{\"obs-node\":{\"sync\":false,\"id\":\"ob_26\",\"value\":{\"props\":{\"className\":\"interact-flex-row interact-widget\"},\"nodeType\":\"DOM\",\"type\":\"node\",\"instanceArgs\":{\"namespace\":\"html\",\"tag\":\"div\"},\"children\":[{\"props\":{\"setInnerHtml\":\"<?xml version=\\\"1.0\\\" encoding=\\\"utf-8\\\"?>\\n<svg xmlns=\\\"http:\\/\\/www.w3.org\\/2000\\/svg\\\" xmlns:xlink=\\\"http:\\/\\/www.w3.org\\/1999\\/xlink\\\" width=\\\"600\\\" height=\\\"400\\\" viewBox=\\\"0 0 2400 1600\\\">\\n<defs>\\n  <clipPath id=\\\"clip3800\\\">\\n    <rect x=\\\"0\\\" y=\\\"0\\\" width=\\\"2400\\\" height=\\\"1600\\\"\\/>\\n  <\\/clipPath>\\n<\\/defs>\\n<path clip-path=\\\"url(#clip3800)\\\" d=\\\"\\nM0 1600 L2400 1600 L2400 0 L0 0  Z\\n  \\\" fill=\\\"#ffffff\\\" fill-rule=\\\"evenodd\\\" fill-opacity=\\\"1\\\"\\/>\\n<defs>\\n  <clipPath id=\\\"clip3801\\\">\\n    <rect x=\\\"480\\\" y=\\\"0\\\" width=\\\"1681\\\" height=\\\"1600\\\"\\/>\\n  <\\/clipPath>\\n<\\/defs>\\n<path clip-path=\\\"url(#clip3800)\\\" d=\\\"\\nM180.66 1487.47 L2352.76 1487.47 L2352.76 47.2441 L180.66 47.2441  Z\\n  \\\" fill=\\\"#ffffff\\\" fill-rule=\\\"evenodd\\\" fill-opacity=\\\"1\\\"\\/>\\n<defs>\\n  <clipPath id=\\\"clip3802\\\">\\n    <rect x=\\\"180\\\" y=\\\"47\\\" width=\\\"2173\\\" height=\\\"1441\\\"\\/>\\n  <\\/clipPath>\\n<\\/defs>\\n<polyline clip-path=\\\"url(#clip3802)\\\" style=\\\"stroke:#000000; stroke-width:2; stroke-opacity:0.1; fill:none\\\" points=\\\"\\n  200.315,1487.47 200.315,47.2441 \\n  \\\"\\/>\\n<polyline clip-path=\\\"url(#clip3802)\\\" style=\\\"stroke:#000000; stroke-width:2; stroke-opacity:0.1; fill:none\\\" points=\\\"\\n  618.509,1487.47 618.509,47.2441 \\n  \\\"\\/>\\n<polyline clip-path=\\\"url(#clip3802)\\\" style=\\\"stroke:#000000; stroke-width:2; stroke-opacity:0.1; fill:none\\\" points=\\\"\\n  1036.7,1487.47 1036.7,47.2441 \\n  \\\"\\/>\\n<polyline clip-path=\\\"url(#clip3802)\\\" style=\\\"stroke:#000000; stroke-width:2; stroke-opacity:0.1; fill:none\\\" points=\\\"\\n  1454.9,1487.47 1454.9,47.2441 \\n  \\\"\\/>\\n<polyline clip-path=\\\"url(#clip3802)\\\" style=\\\"stroke:#000000; stroke-width:2; stroke-opacity:0.1; fill:none\\\" points=\\\"\\n  1873.09,1487.47 1873.09,47.2441 \\n  \\\"\\/>\\n<polyline clip-path=\\\"url(#clip3802)\\\" style=\\\"stroke:#000000; stroke-width:2; stroke-opacity:0.1; fill:none\\\" points=\\\"\\n  2291.28,1487.47 2291.28,47.2441 \\n  \\\"\\/>\\n<polyline clip-path=\\\"url(#clip3802)\\\" style=\\\"stroke:#000000; stroke-width:2; stroke-opacity:0.1; fill:none\\\" points=\\\"\\n  180.66,1487.47 2352.76,1487.47 \\n  \\\"\\/>\\n<polyline clip-path=\\\"url(#clip3802)\\\" style=\\\"stroke:#000000; stroke-width:2; stroke-opacity:0.1; fill:none\\\" points=\\\"\\n  180.66,1247.44 2352.76,1247.44 \\n  \\\"\\/>\\n<polyline clip-path=\\\"url(#clip3802)\\\" style=\\\"stroke:#000000; stroke-width:2; stroke-opacity:0.1; fill:none\\\" points=\\\"\\n  180.66,1007.4 2352.76,1007.4 \\n  \\\"\\/>\\n<polyline clip-path=\\\"url(#clip3802)\\\" style=\\\"stroke:#000000; stroke-width:2; stroke-opacity:0.1; fill:none\\\" points=\\\"\\n  180.66,767.359 2352.76,767.359 \\n  \\\"\\/>\\n<polyline clip-path=\\\"url(#clip3802)\\\" style=\\\"stroke:#000000; stroke-width:2; stroke-opacity:0.1; fill:none\\\" points=\\\"\\n  180.66,527.321 2352.76,527.321 \\n  \\\"\\/>\\n<polyline clip-path=\\\"url(#clip3802)\\\" style=\\\"stroke:#000000; stroke-width:2; stroke-opacity:0.1; fill:none\\\" points=\\\"\\n  180.66,287.283 2352.76,287.283 \\n  \\\"\\/>\\n<polyline clip-path=\\\"url(#clip3800)\\\" style=\\\"stroke:#000000; stroke-width:4; stroke-opacity:1; fill:none\\\" points=\\\"\\n  180.66,1487.47 2352.76,1487.47 \\n  \\\"\\/>\\n<polyline clip-path=\\\"url(#clip3800)\\\" style=\\\"stroke:#000000; stroke-width:4; stroke-opacity:1; fill:none\\\" points=\\\"\\n  180.66,1487.47 180.66,47.2441 \\n  \\\"\\/>\\n<polyline clip-path=\\\"url(#clip3800)\\\" style=\\\"stroke:#000000; stroke-width:4; stroke-opacity:1; fill:none\\\" points=\\\"\\n  200.315,1487.47 200.315,1465.87 \\n  \\\"\\/>\\n<polyline clip-path=\\\"url(#clip3800)\\\" style=\\\"stroke:#000000; stroke-width:4; stroke-opacity:1; fill:none\\\" points=\\\"\\n  618.509,1487.47 618.509,1465.87 \\n  \\\"\\/>\\n<polyline clip-path=\\\"url(#clip3800)\\\" style=\\\"stroke:#000000; stroke-width:4; stroke-opacity:1; fill:none\\\" points=\\\"\\n  1036.7,1487.47 1036.7,1465.87 \\n  \\\"\\/>\\n<polyline clip-path=\\\"url(#clip3800)\\\" style=\\\"stroke:#000000; stroke-width:4; stroke-opacity:1; fill:none\\\" points=\\\"\\n  1454.9,1487.47 1454.9,1465.87 \\n  \\\"\\/>\\n<polyline clip-path=\\\"url(#clip3800)\\\" style=\\\"stroke:#000000; stroke-width:4; stroke-opacity:1; fill:none\\\" points=\\\"\\n  1873.09,1487.47 1873.09,1465.87 \\n  \\\"\\/>\\n<polyline clip-path=\\\"url(#clip3800)\\\" style=\\\"stroke:#000000; stroke-width:4; stroke-opacity:1; fill:none\\\" points=\\\"\\n  2291.28,1487.47 2291.28,1465.87 \\n  \\\"\\/>\\n<polyline clip-path=\\\"url(#clip3800)\\\" style=\\\"stroke:#000000; stroke-width:4; stroke-opacity:1; fill:none\\\" points=\\\"\\n  180.66,1487.47 213.242,1487.47 \\n  \\\"\\/>\\n<polyline clip-path=\\\"url(#clip3800)\\\" style=\\\"stroke:#000000; stroke-width:4; stroke-opacity:1; fill:none\\\" points=\\\"\\n  180.66,1247.44 213.242,1247.44 \\n  \\\"\\/>\\n<polyline clip-path=\\\"url(#clip3800)\\\" style=\\\"stroke:#000000; stroke-width:4; stroke-opacity:1; fill:none\\\" points=\\\"\\n  180.66,1007.4 213.242,1007.4 \\n  \\\"\\/>\\n<polyline clip-path=\\\"url(#clip3800)\\\" style=\\\"stroke:#000000; stroke-width:4; stroke-opacity:1; fill:none\\\" points=\\\"\\n  180.66,767.359 213.242,767.359 \\n  \\\"\\/>\\n<polyline clip-path=\\\"url(#clip3800)\\\" style=\\\"stroke:#000000; stroke-width:4; stroke-opacity:1; fill:none\\\" points=\\\"\\n  180.66,527.321 213.242,527.321 \\n  \\\"\\/>\\n<polyline clip-path=\\\"url(#clip3800)\\\" style=\\\"stroke:#000000; stroke-width:4; stroke-opacity:1; fill:none\\\" points=\\\"\\n  180.66,287.283 213.242,287.283 \\n  \\\"\\/>\\n<g clip-path=\\\"url(#clip3800)\\\">\\n<text style=\\\"fill:#000000; fill-opacity:1; font-family:Arial,Helvetica Neue,Helvetica,sans-serif; font-size:48px; text-anchor:middle;\\\" transform=\\\"rotate(0, 200.315, 1541.47)\\\" x=\\\"200.315\\\" y=\\\"1541.47\\\">0<\\/text>\\n<\\/g>\\n<g clip-path=\\\"url(#clip3800)\\\">\\n<text style=\\\"fill:#000000; fill-opacity:1; font-family:Arial,Helvetica Neue,Helvetica,sans-serif; font-size:48px; text-anchor:middle;\\\" transform=\\\"rotate(0, 618.509, 1541.47)\\\" x=\\\"618.509\\\" y=\\\"1541.47\\\">10<\\/text>\\n<\\/g>\\n<g clip-path=\\\"url(#clip3800)\\\">\\n<text style=\\\"fill:#000000; fill-opacity:1; font-family:Arial,Helvetica Neue,Helvetica,sans-serif; font-size:48px; text-anchor:middle;\\\" transform=\\\"rotate(0, 1036.7, 1541.47)\\\" x=\\\"1036.7\\\" y=\\\"1541.47\\\">20<\\/text>\\n<\\/g>\\n<g clip-path=\\\"url(#clip3800)\\\">\\n<text style=\\\"fill:#000000; fill-opacity:1; font-family:Arial,Helvetica Neue,Helvetica,sans-serif; font-size:48px; text-anchor:middle;\\\" transform=\\\"rotate(0, 1454.9, 1541.47)\\\" x=\\\"1454.9\\\" y=\\\"1541.47\\\">30<\\/text>\\n<\\/g>\\n<g clip-path=\\\"url(#clip3800)\\\">\\n<text style=\\\"fill:#000000; fill-opacity:1; font-family:Arial,Helvetica Neue,Helvetica,sans-serif; font-size:48px; text-anchor:middle;\\\" transform=\\\"rotate(0, 1873.09, 1541.47)\\\" x=\\\"1873.09\\\" y=\\\"1541.47\\\">40<\\/text>\\n<\\/g>\\n<g clip-path=\\\"url(#clip3800)\\\">\\n<text style=\\\"fill:#000000; fill-opacity:1; font-family:Arial,Helvetica Neue,Helvetica,sans-serif; font-size:48px; text-anchor:middle;\\\" transform=\\\"rotate(0, 2291.28, 1541.47)\\\" x=\\\"2291.28\\\" y=\\\"1541.47\\\">50<\\/text>\\n<\\/g>\\n<g clip-path=\\\"url(#clip3800)\\\">\\n<text style=\\\"fill:#000000; fill-opacity:1; font-family:Arial,Helvetica Neue,Helvetica,sans-serif; font-size:48px; text-anchor:end;\\\" transform=\\\"rotate(0, 156.66, 1504.97)\\\" x=\\\"156.66\\\" y=\\\"1504.97\\\">0.00<\\/text>\\n<\\/g>\\n<g clip-path=\\\"url(#clip3800)\\\">\\n<text style=\\\"fill:#000000; fill-opacity:1; font-family:Arial,Helvetica Neue,Helvetica,sans-serif; font-size:48px; text-anchor:end;\\\" transform=\\\"rotate(0, 156.66, 1264.94)\\\" x=\\\"156.66\\\" y=\\\"1264.94\\\">0.05<\\/text>\\n<\\/g>\\n<g clip-path=\\\"url(#clip3800)\\\">\\n<text style=\\\"fill:#000000; fill-opacity:1; font-family:Arial,Helvetica Neue,Helvetica,sans-serif; font-size:48px; text-anchor:end;\\\" transform=\\\"rotate(0, 156.66, 1024.9)\\\" x=\\\"156.66\\\" y=\\\"1024.9\\\">0.10<\\/text>\\n<\\/g>\\n<g clip-path=\\\"url(#clip3800)\\\">\\n<text style=\\\"fill:#000000; fill-opacity:1; font-family:Arial,Helvetica Neue,Helvetica,sans-serif; font-size:48px; text-anchor:end;\\\" transform=\\\"rotate(0, 156.66, 784.859)\\\" x=\\\"156.66\\\" y=\\\"784.859\\\">0.15<\\/text>\\n<\\/g>\\n<g clip-path=\\\"url(#clip3800)\\\">\\n<text style=\\\"fill:#000000; fill-opacity:1; font-family:Arial,Helvetica Neue,Helvetica,sans-serif; font-size:48px; text-anchor:end;\\\" transform=\\\"rotate(0, 156.66, 544.821)\\\" x=\\\"156.66\\\" y=\\\"544.821\\\">0.20<\\/text>\\n<\\/g>\\n<g clip-path=\\\"url(#clip3800)\\\">\\n<text style=\\\"fill:#000000; fill-opacity:1; font-family:Arial,Helvetica Neue,Helvetica,sans-serif; font-size:48px; text-anchor:end;\\\" transform=\\\"rotate(0, 156.66, 304.783)\\\" x=\\\"156.66\\\" y=\\\"304.783\\\">0.25<\\/text>\\n<\\/g>\\n<polyline clip-path=\\\"url(#clip3802)\\\" style=\\\"stroke:#009af9; stroke-width:4; stroke-opacity:1; fill:none\\\" points=\\\"\\n  242.135,1487.47 283.954,1486.75 325.773,1486.48 367.593,1484.72 409.412,1484.63 451.231,1480.79 493.051,1480.77 534.87,1473.21 576.689,1473.2 618.509,1459.76 \\n  660.328,1459.76 702.147,1438.21 743.967,1438.21 785.786,1407.09 827.605,1407.09 869.425,1366.9 911.244,1366.9 953.063,1320.97 994.883,1320.97 1036.7,1275.56 \\n  1078.52,1275.56 1120.34,1238.7 1162.16,1238.7 1203.98,1217.97 1245.8,1217.97 1287.62,1217.97 1329.44,1217.97 1371.26,1238.7 1413.08,1238.7 1454.9,1275.56 \\n  1496.71,1275.56 1538.53,1320.97 1580.35,1320.97 1622.17,1366.9 1663.99,1366.9 1705.81,1407.09 1747.63,1407.09 1789.45,1438.21 1831.27,1438.21 1873.09,1459.76 \\n  1914.91,1459.76 1956.73,1473.2 1998.55,1473.21 2040.37,1480.77 2082.18,1480.79 2124,1484.63 2165.82,1484.72 2207.64,1486.48 2249.46,1486.75 2291.28,1487.47 \\n  \\n  \\\"\\/>\\n<polygon clip-path=\\\"url(#clip3802)\\\" style=\\\"fill:#000000; fill-opacity:1\\\" points=\\\"\\n  242.135,1507.47 227.995,1501.61 222.135,1487.47 227.995,1473.33 242.135,1467.47 256.275,1473.33 262.135,1487.47 256.275,1501.61 \\n  \\\"\\/>\\n<polygon clip-path=\\\"url(#clip3802)\\\" style=\\\"fill:#009af9; fill-opacity:1\\\" points=\\\"\\n  242.135,1503.47 230.823,1498.79 226.135,1487.47 230.823,1476.16 242.135,1471.47 253.447,1476.16 258.135,1487.47 253.447,1498.79 \\n  \\\"\\/>\\n<polygon clip-path=\\\"url(#clip3802)\\\" style=\\\"fill:#000000; fill-opacity:1\\\" points=\\\"\\n  283.954,1506.75 269.814,1500.89 263.954,1486.75 269.814,1472.61 283.954,1466.75 298.094,1472.61 303.954,1486.75 298.094,1500.89 \\n  \\\"\\/>\\n<polygon clip-path=\\\"url(#clip3802)\\\" style=\\\"fill:#009af9; fill-opacity:1\\\" points=\\\"\\n  283.954,1502.75 272.642,1498.06 267.954,1486.75 272.642,1475.44 283.954,1470.75 295.266,1475.44 299.954,1486.75 295.266,1498.06 \\n  \\\"\\/>\\n<polygon clip-path=\\\"url(#clip3802)\\\" style=\\\"fill:#000000; fill-opacity:1\\\" points=\\\"\\n  325.773,1506.48 311.633,1500.62 305.773,1486.48 311.633,1472.34 325.773,1466.48 339.913,1472.34 345.773,1486.48 339.913,1500.62 \\n  \\\"\\/>\\n<polygon clip-path=\\\"url(#clip3802)\\\" style=\\\"fill:#009af9; fill-opacity:1\\\" points=\\\"\\n  325.773,1502.48 314.461,1497.79 309.773,1486.48 314.461,1475.17 325.773,1470.48 337.085,1475.17 341.773,1486.48 337.085,1497.79 \\n  \\\"\\/>\\n<polygon clip-path=\\\"url(#clip3802)\\\" style=\\\"fill:#000000; fill-opacity:1\\\" points=\\\"\\n  367.593,1504.72 353.453,1498.86 347.593,1484.72 353.453,1470.58 367.593,1464.72 381.733,1470.58 387.593,1484.72 381.733,1498.86 \\n  \\\"\\/>\\n<polygon clip-path=\\\"url(#clip3802)\\\" style=\\\"fill:#009af9; fill-opacity:1\\\" points=\\\"\\n  367.593,1500.72 356.281,1496.03 351.593,1484.72 356.281,1473.41 367.593,1468.72 378.905,1473.41 383.593,1484.72 378.905,1496.03 \\n  \\\"\\/>\\n<polygon clip-path=\\\"url(#clip3802)\\\" style=\\\"fill:#000000; fill-opacity:1\\\" points=\\\"\\n  409.412,1504.63 395.272,1498.77 389.412,1484.63 395.272,1470.49 409.412,1464.63 423.552,1470.49 429.412,1484.63 423.552,1498.77 \\n  \\\"\\/>\\n<polygon clip-path=\\\"url(#clip3802)\\\" style=\\\"fill:#009af9; fill-opacity:1\\\" points=\\\"\\n  409.412,1500.63 398.1,1495.94 393.412,1484.63 398.1,1473.32 409.412,1468.63 420.724,1473.32 425.412,1484.63 420.724,1495.94 \\n  \\\"\\/>\\n<polygon clip-path=\\\"url(#clip3802)\\\" style=\\\"fill:#000000; fill-opacity:1\\\" points=\\\"\\n  451.231,1500.79 437.091,1494.93 431.231,1480.79 437.091,1466.65 451.231,1460.79 465.371,1466.65 471.231,1480.79 465.371,1494.93 \\n  \\\"\\/>\\n<polygon clip-path=\\\"url(#clip3802)\\\" style=\\\"fill:#009af9; fill-opacity:1\\\" points=\\\"\\n  451.231,1496.79 439.919,1492.1 435.231,1480.79 439.919,1469.48 451.231,1464.79 462.543,1469.48 467.231,1480.79 462.543,1492.1 \\n  \\\"\\/>\\n<polygon clip-path=\\\"url(#clip3802)\\\" style=\\\"fill:#000000; fill-opacity:1\\\" points=\\\"\\n  493.051,1500.77 478.911,1494.91 473.051,1480.77 478.911,1466.63 493.051,1460.77 507.191,1466.63 513.051,1480.77 507.191,1494.91 \\n  \\\"\\/>\\n<polygon clip-path=\\\"url(#clip3802)\\\" style=\\\"fill:#009af9; fill-opacity:1\\\" points=\\\"\\n  493.051,1496.77 481.739,1492.08 477.051,1480.77 481.739,1469.45 493.051,1464.77 504.363,1469.45 509.051,1480.77 504.363,1492.08 \\n  \\\"\\/>\\n<polygon clip-path=\\\"url(#clip3802)\\\" style=\\\"fill:#000000; fill-opacity:1\\\" points=\\\"\\n  534.87,1493.21 520.73,1487.35 514.87,1473.21 520.73,1459.07 534.87,1453.21 549.01,1459.07 554.87,1473.21 549.01,1487.35 \\n  \\\"\\/>\\n<polygon clip-path=\\\"url(#clip3802)\\\" style=\\\"fill:#009af9; fill-opacity:1\\\" points=\\\"\\n  534.87,1489.21 523.558,1484.52 518.87,1473.21 523.558,1461.9 534.87,1457.21 546.182,1461.9 550.87,1473.21 546.182,1484.52 \\n  \\\"\\/>\\n<polygon clip-path=\\\"url(#clip3802)\\\" style=\\\"fill:#000000; fill-opacity:1\\\" points=\\\"\\n  576.689,1493.2 562.549,1487.34 556.689,1473.2 562.549,1459.06 576.689,1453.2 590.829,1459.06 596.689,1473.2 590.829,1487.34 \\n  \\\"\\/>\\n<polygon clip-path=\\\"url(#clip3802)\\\" style=\\\"fill:#009af9; fill-opacity:1\\\" points=\\\"\\n  576.689,1489.2 565.377,1484.51 560.689,1473.2 565.377,1461.89 576.689,1457.2 588.001,1461.89 592.689,1473.2 588.001,1484.51 \\n  \\\"\\/>\\n<polygon clip-path=\\\"url(#clip3802)\\\" style=\\\"fill:#000000; fill-opacity:1\\\" points=\\\"\\n  618.509,1479.76 604.369,1473.9 598.509,1459.76 604.369,1445.62 618.509,1439.76 632.649,1445.62 638.509,1459.76 632.649,1473.9 \\n  \\\"\\/>\\n<polygon clip-path=\\\"url(#clip3802)\\\" style=\\\"fill:#009af9; fill-opacity:1\\\" points=\\\"\\n  618.509,1475.76 607.197,1471.08 602.509,1459.76 607.197,1448.45 618.509,1443.76 629.821,1448.45 634.509,1459.76 629.821,1471.08 \\n  \\\"\\/>\\n<polygon clip-path=\\\"url(#clip3802)\\\" style=\\\"fill:#000000; fill-opacity:1\\\" points=\\\"\\n  660.328,1479.76 646.188,1473.9 640.328,1459.76 646.188,1445.62 660.328,1439.76 674.468,1445.62 680.328,1459.76 674.468,1473.9 \\n  \\\"\\/>\\n<polygon clip-path=\\\"url(#clip3802)\\\" style=\\\"fill:#009af9; fill-opacity:1\\\" points=\\\"\\n  660.328,1475.76 649.016,1471.07 644.328,1459.76 649.016,1448.45 660.328,1443.76 671.64,1448.45 676.328,1459.76 671.64,1471.07 \\n  \\\"\\/>\\n<polygon clip-path=\\\"url(#clip3802)\\\" style=\\\"fill:#000000; fill-opacity:1\\\" points=\\\"\\n  702.147,1458.21 688.007,1452.35 682.147,1438.21 688.007,1424.07 702.147,1418.21 716.287,1424.07 722.147,1438.21 716.287,1452.35 \\n  \\\"\\/>\\n<polygon clip-path=\\\"url(#clip3802)\\\" style=\\\"fill:#009af9; fill-opacity:1\\\" points=\\\"\\n  702.147,1454.21 690.835,1449.52 686.147,1438.21 690.835,1426.9 702.147,1422.21 713.459,1426.9 718.147,1438.21 713.459,1449.52 \\n  \\\"\\/>\\n<polygon clip-path=\\\"url(#clip3802)\\\" style=\\\"fill:#000000; fill-opacity:1\\\" points=\\\"\\n  743.967,1458.21 729.827,1452.35 723.967,1438.21 729.827,1424.07 743.967,1418.21 758.107,1424.07 763.967,1438.21 758.107,1452.35 \\n  \\\"\\/>\\n<polygon clip-path=\\\"url(#clip3802)\\\" style=\\\"fill:#009af9; fill-opacity:1\\\" points=\\\"\\n  743.967,1454.21 732.655,1449.52 727.967,1438.21 732.655,1426.9 743.967,1422.21 755.279,1426.9 759.967,1438.21 755.279,1449.52 \\n  \\\"\\/>\\n<polygon clip-path=\\\"url(#clip3802)\\\" style=\\\"fill:#000000; fill-opacity:1\\\" points=\\\"\\n  785.786,1427.09 771.646,1421.23 765.786,1407.09 771.646,1392.95 785.786,1387.09 799.926,1392.95 805.786,1407.09 799.926,1421.23 \\n  \\\"\\/>\\n<polygon clip-path=\\\"url(#clip3802)\\\" style=\\\"fill:#009af9; fill-opacity:1\\\" points=\\\"\\n  785.786,1423.09 774.474,1418.4 769.786,1407.09 774.474,1395.78 785.786,1391.09 797.098,1395.78 801.786,1407.09 797.098,1418.4 \\n  \\\"\\/>\\n<polygon clip-path=\\\"url(#clip3802)\\\" style=\\\"fill:#000000; fill-opacity:1\\\" points=\\\"\\n  827.605,1427.09 813.465,1421.23 807.605,1407.09 813.465,1392.95 827.605,1387.09 841.745,1392.95 847.605,1407.09 841.745,1421.23 \\n  \\\"\\/>\\n<polygon clip-path=\\\"url(#clip3802)\\\" style=\\\"fill:#009af9; fill-opacity:1\\\" points=\\\"\\n  827.605,1423.09 816.293,1418.4 811.605,1407.09 816.293,1395.78 827.605,1391.09 838.917,1395.78 843.605,1407.09 838.917,1418.4 \\n  \\\"\\/>\\n<polygon clip-path=\\\"url(#clip3802)\\\" style=\\\"fill:#000000; fill-opacity:1\\\" points=\\\"\\n  869.425,1386.9 855.285,1381.04 849.425,1366.9 855.285,1352.76 869.425,1346.9 883.565,1352.76 889.425,1366.9 883.565,1381.04 \\n  \\\"\\/>\\n<polygon clip-path=\\\"url(#clip3802)\\\" style=\\\"fill:#009af9; fill-opacity:1\\\" points=\\\"\\n  869.425,1382.9 858.113,1378.21 853.425,1366.9 858.113,1355.59 869.425,1350.9 880.737,1355.59 885.425,1366.9 880.737,1378.21 \\n  \\\"\\/>\\n<polygon clip-path=\\\"url(#clip3802)\\\" style=\\\"fill:#000000; fill-opacity:1\\\" points=\\\"\\n  911.244,1386.9 897.104,1381.04 891.244,1366.9 897.104,1352.76 911.244,1346.9 925.384,1352.76 931.244,1366.9 925.384,1381.04 \\n  \\\"\\/>\\n<polygon clip-path=\\\"url(#clip3802)\\\" style=\\\"fill:#009af9; fill-opacity:1\\\" points=\\\"\\n  911.244,1382.9 899.932,1378.21 895.244,1366.9 899.932,1355.59 911.244,1350.9 922.556,1355.59 927.244,1366.9 922.556,1378.21 \\n  \\\"\\/>\\n<polygon clip-path=\\\"url(#clip3802)\\\" style=\\\"fill:#000000; fill-opacity:1\\\" points=\\\"\\n  953.063,1340.97 938.923,1335.11 933.063,1320.97 938.923,1306.83 953.063,1300.97 967.203,1306.83 973.063,1320.97 967.203,1335.11 \\n  \\\"\\/>\\n<polygon clip-path=\\\"url(#clip3802)\\\" style=\\\"fill:#009af9; fill-opacity:1\\\" points=\\\"\\n  953.063,1336.97 941.751,1332.28 937.063,1320.97 941.751,1309.66 953.063,1304.97 964.375,1309.66 969.063,1320.97 964.375,1332.28 \\n  \\\"\\/>\\n<polygon clip-path=\\\"url(#clip3802)\\\" style=\\\"fill:#000000; fill-opacity:1\\\" points=\\\"\\n  994.883,1340.97 980.743,1335.11 974.883,1320.97 980.743,1306.83 994.883,1300.97 1009.02,1306.83 1014.88,1320.97 1009.02,1335.11 \\n  \\\"\\/>\\n<polygon clip-path=\\\"url(#clip3802)\\\" style=\\\"fill:#009af9; fill-opacity:1\\\" points=\\\"\\n  994.883,1336.97 983.571,1332.28 978.883,1320.97 983.571,1309.66 994.883,1304.97 1006.19,1309.66 1010.88,1320.97 1006.19,1332.28 \\n  \\\"\\/>\\n<polygon clip-path=\\\"url(#clip3802)\\\" style=\\\"fill:#000000; fill-opacity:1\\\" points=\\\"\\n  1036.7,1295.56 1022.56,1289.7 1016.7,1275.56 1022.56,1261.42 1036.7,1255.56 1050.84,1261.42 1056.7,1275.56 1050.84,1289.7 \\n  \\\"\\/>\\n<polygon clip-path=\\\"url(#clip3802)\\\" style=\\\"fill:#009af9; fill-opacity:1\\\" points=\\\"\\n  1036.7,1291.56 1025.39,1286.87 1020.7,1275.56 1025.39,1264.25 1036.7,1259.56 1048.01,1264.25 1052.7,1275.56 1048.01,1286.87 \\n  \\\"\\/>\\n<polygon clip-path=\\\"url(#clip3802)\\\" style=\\\"fill:#000000; fill-opacity:1\\\" points=\\\"\\n  1078.52,1295.56 1064.38,1289.7 1058.52,1275.56 1064.38,1261.42 1078.52,1255.56 1092.66,1261.42 1098.52,1275.56 1092.66,1289.7 \\n  \\\"\\/>\\n<polygon clip-path=\\\"url(#clip3802)\\\" style=\\\"fill:#009af9; fill-opacity:1\\\" points=\\\"\\n  1078.52,1291.56 1067.21,1286.87 1062.52,1275.56 1067.21,1264.25 1078.52,1259.56 1089.83,1264.25 1094.52,1275.56 1089.83,1286.87 \\n  \\\"\\/>\\n<polygon clip-path=\\\"url(#clip3802)\\\" style=\\\"fill:#000000; fill-opacity:1\\\" points=\\\"\\n  1120.34,1258.7 1106.2,1252.84 1100.34,1238.7 1106.2,1224.56 1120.34,1218.7 1134.48,1224.56 1140.34,1238.7 1134.48,1252.84 \\n  \\\"\\/>\\n<polygon clip-path=\\\"url(#clip3802)\\\" style=\\\"fill:#009af9; fill-opacity:1\\\" points=\\\"\\n  1120.34,1254.7 1109.03,1250.01 1104.34,1238.7 1109.03,1227.39 1120.34,1222.7 1131.65,1227.39 1136.34,1238.7 1131.65,1250.01 \\n  \\\"\\/>\\n<polygon clip-path=\\\"url(#clip3802)\\\" style=\\\"fill:#000000; fill-opacity:1\\\" points=\\\"\\n  1162.16,1258.7 1148.02,1252.84 1142.16,1238.7 1148.02,1224.56 1162.16,1218.7 1176.3,1224.56 1182.16,1238.7 1176.3,1252.84 \\n  \\\"\\/>\\n<polygon clip-path=\\\"url(#clip3802)\\\" style=\\\"fill:#009af9; fill-opacity:1\\\" points=\\\"\\n  1162.16,1254.7 1150.85,1250.01 1146.16,1238.7 1150.85,1227.39 1162.16,1222.7 1173.47,1227.39 1178.16,1238.7 1173.47,1250.01 \\n  \\\"\\/>\\n<polygon clip-path=\\\"url(#clip3802)\\\" style=\\\"fill:#000000; fill-opacity:1\\\" points=\\\"\\n  1203.98,1237.97 1189.84,1232.11 1183.98,1217.97 1189.84,1203.83 1203.98,1197.97 1218.12,1203.83 1223.98,1217.97 1218.12,1232.11 \\n  \\\"\\/>\\n<polygon clip-path=\\\"url(#clip3802)\\\" style=\\\"fill:#009af9; fill-opacity:1\\\" points=\\\"\\n  1203.98,1233.97 1192.67,1229.28 1187.98,1217.97 1192.67,1206.66 1203.98,1201.97 1215.29,1206.66 1219.98,1217.97 1215.29,1229.28 \\n  \\\"\\/>\\n<polygon clip-path=\\\"url(#clip3802)\\\" style=\\\"fill:#000000; fill-opacity:1\\\" points=\\\"\\n  1245.8,1237.97 1231.66,1232.11 1225.8,1217.97 1231.66,1203.83 1245.8,1197.97 1259.94,1203.83 1265.8,1217.97 1259.94,1232.11 \\n  \\\"\\/>\\n<polygon clip-path=\\\"url(#clip3802)\\\" style=\\\"fill:#009af9; fill-opacity:1\\\" points=\\\"\\n  1245.8,1233.97 1234.49,1229.28 1229.8,1217.97 1234.49,1206.66 1245.8,1201.97 1257.11,1206.66 1261.8,1217.97 1257.11,1229.28 \\n  \\\"\\/>\\n<polygon clip-path=\\\"url(#clip3802)\\\" style=\\\"fill:#000000; fill-opacity:1\\\" points=\\\"\\n  1287.62,1237.97 1273.48,1232.11 1267.62,1217.97 1273.48,1203.83 1287.62,1197.97 1301.76,1203.83 1307.62,1217.97 1301.76,1232.11 \\n  \\\"\\/>\\n<polygon clip-path=\\\"url(#clip3802)\\\" style=\\\"fill:#009af9; fill-opacity:1\\\" points=\\\"\\n  1287.62,1233.97 1276.31,1229.28 1271.62,1217.97 1276.31,1206.66 1287.62,1201.97 1298.93,1206.66 1303.62,1217.97 1298.93,1229.28 \\n  \\\"\\/>\\n<polygon clip-path=\\\"url(#clip3802)\\\" style=\\\"fill:#000000; fill-opacity:1\\\" points=\\\"\\n  1329.44,1237.97 1315.3,1232.11 1309.44,1217.97 1315.3,1203.83 1329.44,1197.97 1343.58,1203.83 1349.44,1217.97 1343.58,1232.11 \\n  \\\"\\/>\\n<polygon clip-path=\\\"url(#clip3802)\\\" style=\\\"fill:#009af9; fill-opacity:1\\\" points=\\\"\\n  1329.44,1233.97 1318.13,1229.28 1313.44,1217.97 1318.13,1206.66 1329.44,1201.97 1340.75,1206.66 1345.44,1217.97 1340.75,1229.28 \\n  \\\"\\/>\\n<polygon clip-path=\\\"url(#clip3802)\\\" style=\\\"fill:#000000; fill-opacity:1\\\" points=\\\"\\n  1371.26,1258.7 1357.12,1252.84 1351.26,1238.7 1357.12,1224.56 1371.26,1218.7 1385.4,1224.56 1391.26,1238.7 1385.4,1252.84 \\n  \\\"\\/>\\n<polygon clip-path=\\\"url(#clip3802)\\\" style=\\\"fill:#009af9; fill-opacity:1\\\" points=\\\"\\n  1371.26,1254.7 1359.94,1250.01 1355.26,1238.7 1359.94,1227.39 1371.26,1222.7 1382.57,1227.39 1387.26,1238.7 1382.57,1250.01 \\n  \\\"\\/>\\n<polygon clip-path=\\\"url(#clip3802)\\\" style=\\\"fill:#000000; fill-opacity:1\\\" points=\\\"\\n  1413.08,1258.7 1398.94,1252.84 1393.08,1238.7 1398.94,1224.56 1413.08,1218.7 1427.22,1224.56 1433.08,1238.7 1427.22,1252.84 \\n  \\\"\\/>\\n<polygon clip-path=\\\"url(#clip3802)\\\" style=\\\"fill:#009af9; fill-opacity:1\\\" points=\\\"\\n  1413.08,1254.7 1401.76,1250.01 1397.08,1238.7 1401.76,1227.39 1413.08,1222.7 1424.39,1227.39 1429.08,1238.7 1424.39,1250.01 \\n  \\\"\\/>\\n<polygon clip-path=\\\"url(#clip3802)\\\" style=\\\"fill:#000000; fill-opacity:1\\\" points=\\\"\\n  1454.9,1295.56 1440.76,1289.7 1434.9,1275.56 1440.76,1261.42 1454.9,1255.56 1469.04,1261.42 1474.9,1275.56 1469.04,1289.7 \\n  \\\"\\/>\\n<polygon clip-path=\\\"url(#clip3802)\\\" style=\\\"fill:#009af9; fill-opacity:1\\\" points=\\\"\\n  1454.9,1291.56 1443.58,1286.87 1438.9,1275.56 1443.58,1264.25 1454.9,1259.56 1466.21,1264.25 1470.9,1275.56 1466.21,1286.87 \\n  \\\"\\/>\\n<polygon clip-path=\\\"url(#clip3802)\\\" style=\\\"fill:#000000; fill-opacity:1\\\" points=\\\"\\n  1496.71,1295.56 1482.57,1289.7 1476.71,1275.56 1482.57,1261.42 1496.71,1255.56 1510.85,1261.42 1516.71,1275.56 1510.85,1289.7 \\n  \\\"\\/>\\n<polygon clip-path=\\\"url(#clip3802)\\\" style=\\\"fill:#009af9; fill-opacity:1\\\" points=\\\"\\n  1496.71,1291.56 1485.4,1286.87 1480.71,1275.56 1485.4,1264.25 1496.71,1259.56 1508.03,1264.25 1512.71,1275.56 1508.03,1286.87 \\n  \\\"\\/>\\n<polygon clip-path=\\\"url(#clip3802)\\\" style=\\\"fill:#000000; fill-opacity:1\\\" points=\\\"\\n  1538.53,1340.97 1524.39,1335.11 1518.53,1320.97 1524.39,1306.83 1538.53,1300.97 1552.67,1306.83 1558.53,1320.97 1552.67,1335.11 \\n  \\\"\\/>\\n<polygon clip-path=\\\"url(#clip3802)\\\" style=\\\"fill:#009af9; fill-opacity:1\\\" points=\\\"\\n  1538.53,1336.97 1527.22,1332.28 1522.53,1320.97 1527.22,1309.66 1538.53,1304.97 1549.85,1309.66 1554.53,1320.97 1549.85,1332.28 \\n  \\\"\\/>\\n<polygon clip-path=\\\"url(#clip3802)\\\" style=\\\"fill:#000000; fill-opacity:1\\\" points=\\\"\\n  1580.35,1340.97 1566.21,1335.11 1560.35,1320.97 1566.21,1306.83 1580.35,1300.97 1594.49,1306.83 1600.35,1320.97 1594.49,1335.11 \\n  \\\"\\/>\\n<polygon clip-path=\\\"url(#clip3802)\\\" style=\\\"fill:#009af9; fill-opacity:1\\\" points=\\\"\\n  1580.35,1336.97 1569.04,1332.28 1564.35,1320.97 1569.04,1309.66 1580.35,1304.97 1591.67,1309.66 1596.35,1320.97 1591.67,1332.28 \\n  \\\"\\/>\\n<polygon clip-path=\\\"url(#clip3802)\\\" style=\\\"fill:#000000; fill-opacity:1\\\" points=\\\"\\n  1622.17,1386.9 1608.03,1381.04 1602.17,1366.9 1608.03,1352.76 1622.17,1346.9 1636.31,1352.76 1642.17,1366.9 1636.31,1381.04 \\n  \\\"\\/>\\n<polygon clip-path=\\\"url(#clip3802)\\\" style=\\\"fill:#009af9; fill-opacity:1\\\" points=\\\"\\n  1622.17,1382.9 1610.86,1378.21 1606.17,1366.9 1610.86,1355.59 1622.17,1350.9 1633.48,1355.59 1638.17,1366.9 1633.48,1378.21 \\n  \\\"\\/>\\n<polygon clip-path=\\\"url(#clip3802)\\\" style=\\\"fill:#000000; fill-opacity:1\\\" points=\\\"\\n  1663.99,1386.9 1649.85,1381.04 1643.99,1366.9 1649.85,1352.76 1663.99,1346.9 1678.13,1352.76 1683.99,1366.9 1678.13,1381.04 \\n  \\\"\\/>\\n<polygon clip-path=\\\"url(#clip3802)\\\" style=\\\"fill:#009af9; fill-opacity:1\\\" points=\\\"\\n  1663.99,1382.9 1652.68,1378.21 1647.99,1366.9 1652.68,1355.59 1663.99,1350.9 1675.3,1355.59 1679.99,1366.9 1675.3,1378.21 \\n  \\\"\\/>\\n<polygon clip-path=\\\"url(#clip3802)\\\" style=\\\"fill:#000000; fill-opacity:1\\\" points=\\\"\\n  1705.81,1427.09 1691.67,1421.23 1685.81,1407.09 1691.67,1392.95 1705.81,1387.09 1719.95,1392.95 1725.81,1407.09 1719.95,1421.23 \\n  \\\"\\/>\\n<polygon clip-path=\\\"url(#clip3802)\\\" style=\\\"fill:#009af9; fill-opacity:1\\\" points=\\\"\\n  1705.81,1423.09 1694.5,1418.4 1689.81,1407.09 1694.5,1395.78 1705.81,1391.09 1717.12,1395.78 1721.81,1407.09 1717.12,1418.4 \\n  \\\"\\/>\\n<polygon clip-path=\\\"url(#clip3802)\\\" style=\\\"fill:#000000; fill-opacity:1\\\" points=\\\"\\n  1747.63,1427.09 1733.49,1421.23 1727.63,1407.09 1733.49,1392.95 1747.63,1387.09 1761.77,1392.95 1767.63,1407.09 1761.77,1421.23 \\n  \\\"\\/>\\n<polygon clip-path=\\\"url(#clip3802)\\\" style=\\\"fill:#009af9; fill-opacity:1\\\" points=\\\"\\n  1747.63,1423.09 1736.32,1418.4 1731.63,1407.09 1736.32,1395.78 1747.63,1391.09 1758.94,1395.78 1763.63,1407.09 1758.94,1418.4 \\n  \\\"\\/>\\n<polygon clip-path=\\\"url(#clip3802)\\\" style=\\\"fill:#000000; fill-opacity:1\\\" points=\\\"\\n  1789.45,1458.21 1775.31,1452.35 1769.45,1438.21 1775.31,1424.07 1789.45,1418.21 1803.59,1424.07 1809.45,1438.21 1803.59,1452.35 \\n  \\\"\\/>\\n<polygon clip-path=\\\"url(#clip3802)\\\" style=\\\"fill:#009af9; fill-opacity:1\\\" points=\\\"\\n  1789.45,1454.21 1778.14,1449.52 1773.45,1438.21 1778.14,1426.9 1789.45,1422.21 1800.76,1426.9 1805.45,1438.21 1800.76,1449.52 \\n  \\\"\\/>\\n<polygon clip-path=\\\"url(#clip3802)\\\" style=\\\"fill:#000000; fill-opacity:1\\\" points=\\\"\\n  1831.27,1458.21 1817.13,1452.35 1811.27,1438.21 1817.13,1424.07 1831.27,1418.21 1845.41,1424.07 1851.27,1438.21 1845.41,1452.35 \\n  \\\"\\/>\\n<polygon clip-path=\\\"url(#clip3802)\\\" style=\\\"fill:#009af9; fill-opacity:1\\\" points=\\\"\\n  1831.27,1454.21 1819.96,1449.52 1815.27,1438.21 1819.96,1426.9 1831.27,1422.21 1842.58,1426.9 1847.27,1438.21 1842.58,1449.52 \\n  \\\"\\/>\\n<polygon clip-path=\\\"url(#clip3802)\\\" style=\\\"fill:#000000; fill-opacity:1\\\" points=\\\"\\n  1873.09,1479.76 1858.95,1473.9 1853.09,1459.76 1858.95,1445.62 1873.09,1439.76 1887.23,1445.62 1893.09,1459.76 1887.23,1473.9 \\n  \\\"\\/>\\n<polygon clip-path=\\\"url(#clip3802)\\\" style=\\\"fill:#009af9; fill-opacity:1\\\" points=\\\"\\n  1873.09,1475.76 1861.78,1471.07 1857.09,1459.76 1861.78,1448.45 1873.09,1443.76 1884.4,1448.45 1889.09,1459.76 1884.4,1471.07 \\n  \\\"\\/>\\n<polygon clip-path=\\\"url(#clip3802)\\\" style=\\\"fill:#000000; fill-opacity:1\\\" points=\\\"\\n  1914.91,1479.76 1900.77,1473.9 1894.91,1459.76 1900.77,1445.62 1914.91,1439.76 1929.05,1445.62 1934.91,1459.76 1929.05,1473.9 \\n  \\\"\\/>\\n<polygon clip-path=\\\"url(#clip3802)\\\" style=\\\"fill:#009af9; fill-opacity:1\\\" points=\\\"\\n  1914.91,1475.76 1903.6,1471.08 1898.91,1459.76 1903.6,1448.45 1914.91,1443.76 1926.22,1448.45 1930.91,1459.76 1926.22,1471.08 \\n  \\\"\\/>\\n<polygon clip-path=\\\"url(#clip3802)\\\" style=\\\"fill:#000000; fill-opacity:1\\\" points=\\\"\\n  1956.73,1493.2 1942.59,1487.34 1936.73,1473.2 1942.59,1459.06 1956.73,1453.2 1970.87,1459.06 1976.73,1473.2 1970.87,1487.34 \\n  \\\"\\/>\\n<polygon clip-path=\\\"url(#clip3802)\\\" style=\\\"fill:#009af9; fill-opacity:1\\\" points=\\\"\\n  1956.73,1489.2 1945.41,1484.51 1940.73,1473.2 1945.41,1461.89 1956.73,1457.2 1968.04,1461.89 1972.73,1473.2 1968.04,1484.51 \\n  \\\"\\/>\\n<polygon clip-path=\\\"url(#clip3802)\\\" style=\\\"fill:#000000; fill-opacity:1\\\" points=\\\"\\n  1998.55,1493.21 1984.41,1487.35 1978.55,1473.21 1984.41,1459.07 1998.55,1453.21 2012.69,1459.07 2018.55,1473.21 2012.69,1487.35 \\n  \\\"\\/>\\n<polygon clip-path=\\\"url(#clip3802)\\\" style=\\\"fill:#009af9; fill-opacity:1\\\" points=\\\"\\n  1998.55,1489.21 1987.23,1484.52 1982.55,1473.21 1987.23,1461.9 1998.55,1457.21 2009.86,1461.9 2014.55,1473.21 2009.86,1484.52 \\n  \\\"\\/>\\n<polygon clip-path=\\\"url(#clip3802)\\\" style=\\\"fill:#000000; fill-opacity:1\\\" points=\\\"\\n  2040.37,1500.77 2026.23,1494.91 2020.37,1480.77 2026.23,1466.63 2040.37,1460.77 2054.51,1466.63 2060.37,1480.77 2054.51,1494.91 \\n  \\\"\\/>\\n<polygon clip-path=\\\"url(#clip3802)\\\" style=\\\"fill:#009af9; fill-opacity:1\\\" points=\\\"\\n  2040.37,1496.77 2029.05,1492.08 2024.37,1480.77 2029.05,1469.45 2040.37,1464.77 2051.68,1469.45 2056.37,1480.77 2051.68,1492.08 \\n  \\\"\\/>\\n<polygon clip-path=\\\"url(#clip3802)\\\" style=\\\"fill:#000000; fill-opacity:1\\\" points=\\\"\\n  2082.18,1500.79 2068.04,1494.93 2062.18,1480.79 2068.04,1466.65 2082.18,1460.79 2096.32,1466.65 2102.18,1480.79 2096.32,1494.93 \\n  \\\"\\/>\\n<polygon clip-path=\\\"url(#clip3802)\\\" style=\\\"fill:#009af9; fill-opacity:1\\\" points=\\\"\\n  2082.18,1496.79 2070.87,1492.1 2066.18,1480.79 2070.87,1469.48 2082.18,1464.79 2093.5,1469.48 2098.18,1480.79 2093.5,1492.1 \\n  \\\"\\/>\\n<polygon clip-path=\\\"url(#clip3802)\\\" style=\\\"fill:#000000; fill-opacity:1\\\" points=\\\"\\n  2124,1504.63 2109.86,1498.77 2104,1484.63 2109.86,1470.49 2124,1464.63 2138.14,1470.49 2144,1484.63 2138.14,1498.77 \\n  \\\"\\/>\\n<polygon clip-path=\\\"url(#clip3802)\\\" style=\\\"fill:#009af9; fill-opacity:1\\\" points=\\\"\\n  2124,1500.63 2112.69,1495.94 2108,1484.63 2112.69,1473.32 2124,1468.63 2135.32,1473.32 2140,1484.63 2135.32,1495.94 \\n  \\\"\\/>\\n<polygon clip-path=\\\"url(#clip3802)\\\" style=\\\"fill:#000000; fill-opacity:1\\\" points=\\\"\\n  2165.82,1504.72 2151.68,1498.86 2145.82,1484.72 2151.68,1470.58 2165.82,1464.72 2179.96,1470.58 2185.82,1484.72 2179.96,1498.86 \\n  \\\"\\/>\\n<polygon clip-path=\\\"url(#clip3802)\\\" style=\\\"fill:#009af9; fill-opacity:1\\\" points=\\\"\\n  2165.82,1500.72 2154.51,1496.03 2149.82,1484.72 2154.51,1473.41 2165.82,1468.72 2177.14,1473.41 2181.82,1484.72 2177.14,1496.03 \\n  \\\"\\/>\\n<polygon clip-path=\\\"url(#clip3802)\\\" style=\\\"fill:#000000; fill-opacity:1\\\" points=\\\"\\n  2207.64,1506.48 2193.5,1500.62 2187.64,1486.48 2193.5,1472.34 2207.64,1466.48 2221.78,1472.34 2227.64,1486.48 2221.78,1500.62 \\n  \\\"\\/>\\n<polygon clip-path=\\\"url(#clip3802)\\\" style=\\\"fill:#009af9; fill-opacity:1\\\" points=\\\"\\n  2207.64,1502.48 2196.33,1497.79 2191.64,1486.48 2196.33,1475.17 2207.64,1470.48 2218.95,1475.17 2223.64,1486.48 2218.95,1497.79 \\n  \\\"\\/>\\n<polygon clip-path=\\\"url(#clip3802)\\\" style=\\\"fill:#000000; fill-opacity:1\\\" points=\\\"\\n  2249.46,1506.75 2235.32,1500.89 2229.46,1486.75 2235.32,1472.61 2249.46,1466.75 2263.6,1472.61 2269.46,1486.75 2263.6,1500.89 \\n  \\\"\\/>\\n<polygon clip-path=\\\"url(#clip3802)\\\" style=\\\"fill:#009af9; fill-opacity:1\\\" points=\\\"\\n  2249.46,1502.75 2238.15,1498.06 2233.46,1486.75 2238.15,1475.44 2249.46,1470.75 2260.77,1475.44 2265.46,1486.75 2260.77,1498.06 \\n  \\\"\\/>\\n<polygon clip-path=\\\"url(#clip3802)\\\" style=\\\"fill:#000000; fill-opacity:1\\\" points=\\\"\\n  2291.28,1507.47 2277.14,1501.61 2271.28,1487.47 2277.14,1473.33 2291.28,1467.47 2305.42,1473.33 2311.28,1487.47 2305.42,1501.61 \\n  \\\"\\/>\\n<polygon clip-path=\\\"url(#clip3802)\\\" style=\\\"fill:#009af9; fill-opacity:1\\\" points=\\\"\\n  2291.28,1503.47 2279.97,1498.79 2275.28,1487.47 2279.97,1476.16 2291.28,1471.47 2302.59,1476.16 2307.28,1487.47 2302.59,1498.79 \\n  \\\"\\/>\\n<path clip-path=\\\"url(#clip3800)\\\" d=\\\"\\nM1989.93 251.724 L2280.76 251.724 L2280.76 130.764 L1989.93 130.764  Z\\n  \\\" fill=\\\"#ffffff\\\" fill-rule=\\\"evenodd\\\" fill-opacity=\\\"1\\\"\\/>\\n<polyline clip-path=\\\"url(#clip3800)\\\" style=\\\"stroke:#000000; stroke-width:4; stroke-opacity:1; fill:none\\\" points=\\\"\\n  1989.93,251.724 2280.76,251.724 2280.76,130.764 1989.93,130.764 1989.93,251.724 \\n  \\\"\\/>\\n<polyline clip-path=\\\"url(#clip3800)\\\" style=\\\"stroke:#009af9; stroke-width:4; stroke-opacity:1; fill:none\\\" points=\\\"\\n  2013.93,191.244 2157.93,191.244 \\n  \\\"\\/>\\n<polygon clip-path=\\\"url(#clip3800)\\\" style=\\\"fill:#000000; fill-opacity:1\\\" points=\\\"\\n  2097.93,219.244 2078.13,211.04 2069.93,191.244 2078.13,171.448 2097.93,163.244 2117.72,171.448 2125.93,191.244 2117.72,211.04 \\n  \\\"\\/>\\n<polygon clip-path=\\\"url(#clip3800)\\\" style=\\\"fill:#009af9; fill-opacity:1\\\" points=\\\"\\n  2097.93,215.244 2080.96,208.212 2073.93,191.244 2080.96,174.276 2097.93,167.244 2114.89,174.276 2121.93,191.244 2114.89,208.212 \\n  \\\"\\/>\\n<g clip-path=\\\"url(#clip3800)\\\">\\n<text style=\\\"fill:#000000; fill-opacity:1; font-family:Arial,Helvetica Neue,Helvetica,sans-serif; font-size:48px; text-anchor:start;\\\" transform=\\\"rotate(0, 2181.93, 208.744)\\\" x=\\\"2181.93\\\" y=\\\"208.744\\\">y1<\\/text>\\n<\\/g>\\n<\\/svg>\\n\"},\"nodeType\":\"DOM\",\"type\":\"node\",\"instanceArgs\":{\"namespace\":\"html\",\"tag\":\"div\"},\"children\":[]}]}}}},\"children\":[{\"props\":{},\"nodeType\":\"ObservableNode\",\"type\":\"node\",\"instanceArgs\":{\"id\":\"ob_26\",\"name\":\"obs-node\"},\"children\":[]}]}]},\n",
       "            window,\n",
       "        );\n",
       "    } else {\n",
       "        document\n",
       "            .querySelector('[data-webio-mountpoint=\"9695029662217900259\"]')\n",
       "            .innerHTML = (\n",
       "                '<strong>WebIO not detected. Please read ' +\n",
       "                '<a href=\"https://juliagizmos.github.io/WebIO.jl/latest/troubleshooting/not-detected/\">the troubleshooting guide</a> ' +\n",
       "                'for more information on how to resolve this issue.' +\n",
       "                '</strong>'\n",
       "            );\n",
       "    }\n",
       "    </script>\n",
       "</div>\n"
      ],
      "text/plain": [
       "Node{WebIO.DOM}(WebIO.DOM(:html, :div), Any[Node{WebIO.DOM}(WebIO.DOM(:html, :div), Any[Scope(Node{WebIO.DOM}(WebIO.DOM(:html, :div), Any[Node{WebIO.DOM}(WebIO.DOM(:html, :div), Any[Node{WebIO.DOM}(WebIO.DOM(:html, :label), Any[\"t\"], Dict{Symbol,Any}(:className => \"interact \",:style => Dict{Any,Any}(:padding => \"5px 10px 0px 10px\")))], Dict{Symbol,Any}(:className => \"interact-flex-row-left\")), Node{WebIO.DOM}(WebIO.DOM(:html, :div), Any[Node{WebIO.DOM}(WebIO.DOM(:html, :input), Any[], Dict{Symbol,Any}(:max => 100,:min => 1,:attributes => Dict{Any,Any}(:type => \"range\",Symbol(\"data-bind\") => \"numericValue: index, valueUpdate: 'input', event: {change: function (){this.changes(this.changes()+1)}}\",\"orient\" => \"horizontal\"),:step => 1,:className => \"slider slider is-fullwidth\",:style => Dict{Any,Any}()))], Dict{Symbol,Any}(:className => \"interact-flex-row-center\")), Node{WebIO.DOM}(WebIO.DOM(:html, :div), Any[Node{WebIO.DOM}(WebIO.DOM(:html, :p), Any[], Dict{Symbol,Any}(:attributes => Dict(\"data-bind\" => \"text: formatted_val\")))], Dict{Symbol,Any}(:className => \"interact-flex-row-right\"))], Dict{Symbol,Any}(:className => \"interact-flex-row interact-widget\")), Dict{String,Tuple{Observables.AbstractObservable,Union{Nothing, Bool}}}(\"changes\" => (Observable{Int64} with 1 listeners. Value:\n",
       "0, nothing),\"index\" => (Observable{Int64} with 2 listeners. Value:\n",
       "50, nothing)), Set(String[]), nothing, Asset[Asset(\"js\", \"knockout\", \"/Users/dpsanders/.julia/packages/Knockout/1sDlc/src/../assets/knockout.js\"), Asset(\"js\", \"knockout_punches\", \"/Users/dpsanders/.julia/packages/Knockout/1sDlc/src/../assets/knockout_punches.js\"), Asset(\"js\", nothing, \"/Users/dpsanders/.julia/packages/InteractBase/9mFwe/src/../assets/all.js\"), Asset(\"css\", nothing, \"/Users/dpsanders/.julia/packages/InteractBase/9mFwe/src/../assets/style.css\"), Asset(\"css\", nothing, \"/Users/dpsanders/.julia/packages/Interact/SbgIk/src/../assets/bulma_confined.min.css\")], Dict{Any,Any}(\"changes\" => Any[WebIO.JSString(\"(function (val){return (val!=this.model[\\\"changes\\\"]()) ? (this.valueFromJulia[\\\"changes\\\"]=true, this.model[\\\"changes\\\"](val)) : undefined})\")],\"index\" => Any[WebIO.JSString(\"(function (val){return (val!=this.model[\\\"index\\\"]()) ? (this.valueFromJulia[\\\"index\\\"]=true, this.model[\\\"index\\\"](val)) : undefined})\")]), WebIO.ConnectionPool(Channel{Any}(sz_max:32,sz_curr:0), Set(AbstractConnection[]), Base.GenericCondition{Base.AlwaysLockedST}(Base.InvasiveLinkedList{Task}(Task (runnable) @0x0000000112b2cfd0, Task (runnable) @0x0000000112b2cfd0), Base.AlwaysLockedST(1))), WebIO.JSString[WebIO.JSString(\"function () {\\n    var handler = (function (ko, koPunches) {\\n    ko.punches.enableAll();\\n    ko.bindingHandlers.numericValue = {\\n        init: function(element, valueAccessor, allBindings, data, context) {\\n            var stringified = ko.observable(ko.unwrap(valueAccessor()));\\n            stringified.subscribe(function(value) {\\n                var val = parseFloat(value);\\n                if (!isNaN(val)) {\\n                    valueAccessor()(val);\\n                }\\n            });\\n            valueAccessor().subscribe(function(value) {\\n                var str = JSON.stringify(value);\\n                if ((str == \\\"0\\\") && ([\\\"-0\\\", \\\"-0.\\\"].indexOf(stringified()) >= 0))\\n                     return;\\n                 if ([\\\"null\\\", \\\"\\\"].indexOf(str) >= 0)\\n                     return;\\n                stringified(str);\\n            });\\n            ko.applyBindingsToNode(\\n                element,\\n                {\\n                    value: stringified,\\n                    valueUpdate: allBindings.get('valueUpdate'),\\n                },\\n                context,\\n            );\\n        }\\n    };\\n    var json_data = {\\\"formatted_vals\\\":[\\\"1\\\",\\\"2\\\",\\\"3\\\",\\\"4\\\",\\\"5\\\",\\\"6\\\",\\\"7\\\",\\\"8\\\",\\\"9\\\",\\\"10\\\",\\\"11\\\",\\\"12\\\",\\\"13\\\",\\\"14\\\",\\\"15\\\",\\\"16\\\",\\\"17\\\",\\\"18\\\",\\\"19\\\",\\\"20\\\",\\\"21\\\",\\\"22\\\",\\\"23\\\",\\\"24\\\",\\\"25\\\",\\\"26\\\",\\\"27\\\",\\\"28\\\",\\\"29\\\",\\\"30\\\",\\\"31\\\",\\\"32\\\",\\\"33\\\",\\\"34\\\",\\\"35\\\",\\\"36\\\",\\\"37\\\",\\\"38\\\",\\\"39\\\",\\\"40\\\",\\\"41\\\",\\\"42\\\",\\\"43\\\",\\\"44\\\",\\\"45\\\",\\\"46\\\",\\\"47\\\",\\\"48\\\",\\\"49\\\",\\\"50\\\",\\\"51\\\",\\\"52\\\",\\\"53\\\",\\\"54\\\",\\\"55\\\",\\\"56\\\",\\\"57\\\",\\\"58\\\",\\\"59\\\",\\\"60\\\",\\\"61\\\",\\\"62\\\",\\\"63\\\",\\\"64\\\",\\\"65\\\",\\\"66\\\",\\\"67\\\",\\\"68\\\",\\\"69\\\",\\\"70\\\",\\\"71\\\",\\\"72\\\",\\\"73\\\",\\\"74\\\",\\\"75\\\",\\\"76\\\",\\\"77\\\",\\\"78\\\",\\\"79\\\",\\\"80\\\",\\\"81\\\",\\\"82\\\",\\\"83\\\",\\\"84\\\",\\\"85\\\",\\\"86\\\",\\\"87\\\",\\\"88\\\",\\\"89\\\",\\\"90\\\",\\\"91\\\",\\\"92\\\",\\\"93\\\",\\\"94\\\",\\\"95\\\",\\\"96\\\",\\\"97\\\",\\\"98\\\",\\\"99\\\",\\\"100\\\"],\\\"changes\\\":WebIO.getval({\\\"name\\\":\\\"changes\\\",\\\"scope\\\":\\\"14162045250798881579\\\",\\\"id\\\":\\\"ob_22\\\",\\\"type\\\":\\\"observable\\\"}),\\\"index\\\":WebIO.getval({\\\"name\\\":\\\"index\\\",\\\"scope\\\":\\\"14162045250798881579\\\",\\\"id\\\":\\\"ob_21\\\",\\\"type\\\":\\\"observable\\\"})};\\n    var self = this;\\n    function AppViewModel() {\\n        for (var key in json_data) {\\n            var el = json_data[key];\\n            this[key] = Array.isArray(el) ? ko.observableArray(el) : ko.observable(el);\\n        }\\n        \\n        [this[\\\"formatted_val\\\"]=ko.computed(    function(){\\n        return this.formatted_vals()[parseInt(this.index())-(1)];\\n    }\\n,this)]\\n        [this[\\\"changes\\\"].subscribe((function (val){!(this.valueFromJulia[\\\"changes\\\"]) ? (WebIO.setval({\\\"name\\\":\\\"changes\\\",\\\"scope\\\":\\\"14162045250798881579\\\",\\\"id\\\":\\\"ob_22\\\",\\\"type\\\":\\\"observable\\\"},val)) : undefined; return this.valueFromJulia[\\\"changes\\\"]=false}),self),this[\\\"index\\\"].subscribe((function (val){!(this.valueFromJulia[\\\"index\\\"]) ? (WebIO.setval({\\\"name\\\":\\\"index\\\",\\\"scope\\\":\\\"14162045250798881579\\\",\\\"id\\\":\\\"ob_21\\\",\\\"type\\\":\\\"observable\\\"},val)) : undefined; return this.valueFromJulia[\\\"index\\\"]=false}),self)]\\n        \\n    }\\n    self.model = new AppViewModel();\\n    self.valueFromJulia = {};\\n    for (var key in json_data) {\\n        self.valueFromJulia[key] = false;\\n    }\\n    ko.applyBindings(self.model, self.dom);\\n}\\n);\\n    (WebIO.importBlock({\\\"data\\\":[{\\\"name\\\":\\\"knockout\\\",\\\"type\\\":\\\"js\\\",\\\"url\\\":\\\"/assetserver/9a186147d51179d2ec12ccfac1799b0b805a79d5-knockout.js\\\"},{\\\"name\\\":\\\"knockout_punches\\\",\\\"type\\\":\\\"js\\\",\\\"url\\\":\\\"/assetserver/eccef011301f679ebde0900f01478cac573870ce-knockout_punches.js\\\"}],\\\"type\\\":\\\"async_block\\\"})).then((imports) => handler.apply(this, imports));\\n}\\n\")])], Dict{Symbol,Any}(:className => \"field interact-widget\")), Observable{Any} with 0 listeners. Value:\n",
       "Node{WebIO.DOM}(WebIO.DOM(:html, :div), Any[Plot{Plots.GRBackend() n=1}], Dict{Symbol,Any}(:className => \"interact-flex-row interact-widget\"))], Dict{Symbol,Any}())"
      ]
     },
     "execution_count": 71,
     "metadata": {
      "application/vnd.webio.node+json": {
       "kernelId": "e1385d62-4e30-4a99-a779-03b159d0717e"
      }
     },
     "output_type": "execute_result"
    }
   ],
   "source": [
    "@manipulate for t in 1:T\n",
    "    plot(Ps[t], m=:o)\n",
    "    ylims!(0, 0.3)\n",
    "end"
   ]
  },
  {
   "cell_type": "code",
   "execution_count": 74,
   "metadata": {},
   "outputs": [
    {
     "data": {
      "text/plain": [
       "1.0"
      ]
     },
     "execution_count": 74,
     "metadata": {},
     "output_type": "execute_result"
    }
   ],
   "source": [
    "sum(Ps[1])"
   ]
  },
  {
   "cell_type": "code",
   "execution_count": 75,
   "metadata": {},
   "outputs": [
    {
     "data": {
      "text/plain": [
       "1.0"
      ]
     },
     "execution_count": 75,
     "metadata": {},
     "output_type": "execute_result"
    }
   ],
   "source": [
    "sum(Ps[2])"
   ]
  },
  {
   "cell_type": "code",
   "execution_count": 76,
   "metadata": {},
   "outputs": [
    {
     "data": {
      "text/plain": [
       "101-element Array{Float64,1}:\n",
       " 1.0               \n",
       " 1.0               \n",
       " 1.0               \n",
       " 1.0               \n",
       " 1.0               \n",
       " 1.0               \n",
       " 1.0               \n",
       " 1.0               \n",
       " 1.0               \n",
       " 1.0               \n",
       " 1.0               \n",
       " 1.0               \n",
       " 1.0               \n",
       " ⋮                 \n",
       " 0.9814071746356694\n",
       " 0.9804977313273494\n",
       " 0.9797627286535995\n",
       " 0.9788184663950877\n",
       " 0.9780515867359861\n",
       " 0.9770734865079201\n",
       " 0.9762753838912703\n",
       " 0.9752644539101794\n",
       " 0.9744358227781404\n",
       " 0.9733930912779291\n",
       " 0.9725346597673439\n",
       " 0.9714611685730494"
      ]
     },
     "execution_count": 76,
     "metadata": {},
     "output_type": "execute_result"
    }
   ],
   "source": [
    "sum.(Ps)"
   ]
  },
  {
   "cell_type": "markdown",
   "metadata": {},
   "source": [
    "## Abstract types"
   ]
  },
  {
   "cell_type": "code",
   "execution_count": 77,
   "metadata": {},
   "outputs": [],
   "source": [
    "abstract type Animal end"
   ]
  },
  {
   "cell_type": "code",
   "execution_count": 80,
   "metadata": {},
   "outputs": [],
   "source": [
    "struct Cat <: Animal\n",
    "    name\n",
    "    age\n",
    "end"
   ]
  },
  {
   "cell_type": "code",
   "execution_count": 79,
   "metadata": {},
   "outputs": [],
   "source": [
    "struct Dog <: Animal\n",
    "    name\n",
    "    age\n",
    "end"
   ]
  },
  {
   "cell_type": "code",
   "execution_count": 81,
   "metadata": {},
   "outputs": [],
   "source": [
    "abstract type Bird <: Animal end"
   ]
  },
  {
   "cell_type": "code",
   "execution_count": 82,
   "metadata": {},
   "outputs": [
    {
     "data": {
      "text/plain": [
       "name (generic function with 1 method)"
      ]
     },
     "execution_count": 82,
     "metadata": {},
     "output_type": "execute_result"
    }
   ],
   "source": [
    "name(a::Animal) = a.name"
   ]
  },
  {
   "cell_type": "code",
   "execution_count": 83,
   "metadata": {},
   "outputs": [
    {
     "data": {
      "text/plain": [
       "Cat(\"a\", 3)"
      ]
     },
     "execution_count": 83,
     "metadata": {},
     "output_type": "execute_result"
    }
   ],
   "source": [
    "c = Cat(\"a\", 3)"
   ]
  },
  {
   "cell_type": "code",
   "execution_count": 84,
   "metadata": {},
   "outputs": [
    {
     "data": {
      "text/plain": [
       "\"a\""
      ]
     },
     "execution_count": 84,
     "metadata": {},
     "output_type": "execute_result"
    }
   ],
   "source": [
    "name(c)"
   ]
  },
  {
   "cell_type": "code",
   "execution_count": 85,
   "metadata": {},
   "outputs": [],
   "source": [
    "struct Pelican <: Bird \n",
    "    wingspan\n",
    "    name\n",
    "    age\n",
    "end"
   ]
  },
  {
   "cell_type": "code",
   "execution_count": 86,
   "metadata": {},
   "outputs": [
    {
     "data": {
      "text/plain": [
       "Pelican(3, \"p\", 10)"
      ]
     },
     "execution_count": 86,
     "metadata": {},
     "output_type": "execute_result"
    }
   ],
   "source": [
    "p = Pelican(3, \"p\", 10)"
   ]
  },
  {
   "cell_type": "code",
   "execution_count": 87,
   "metadata": {},
   "outputs": [
    {
     "data": {
      "text/plain": [
       "\"p\""
      ]
     },
     "execution_count": 87,
     "metadata": {},
     "output_type": "execute_result"
    }
   ],
   "source": [
    "name(p)"
   ]
  },
  {
   "cell_type": "code",
   "execution_count": 88,
   "metadata": {},
   "outputs": [
    {
     "data": {
      "text/plain": [
       "wingspan (generic function with 1 method)"
      ]
     },
     "execution_count": 88,
     "metadata": {},
     "output_type": "execute_result"
    }
   ],
   "source": [
    "wingspan(b::Bird) = b.wingspan"
   ]
  },
  {
   "cell_type": "code",
   "execution_count": 89,
   "metadata": {},
   "outputs": [
    {
     "ename": "MethodError",
     "evalue": "MethodError: no method matching wingspan(::Cat)\nClosest candidates are:\n  wingspan(!Matched::Bird) at In[88]:1",
     "output_type": "error",
     "traceback": [
      "MethodError: no method matching wingspan(::Cat)\nClosest candidates are:\n  wingspan(!Matched::Bird) at In[88]:1",
      "",
      "Stacktrace:",
      " [1] top-level scope at In[89]:1"
     ]
    }
   ],
   "source": [
    "wingspan(c)"
   ]
  },
  {
   "cell_type": "code",
   "execution_count": 90,
   "metadata": {},
   "outputs": [
    {
     "data": {
      "text/plain": [
       "3"
      ]
     },
     "execution_count": 90,
     "metadata": {},
     "output_type": "execute_result"
    }
   ],
   "source": [
    "wingspan(p)"
   ]
  },
  {
   "cell_type": "code",
   "execution_count": 91,
   "metadata": {},
   "outputs": [
    {
     "data": {
      "image/svg+xml": [
       "<?xml version=\"1.0\" encoding=\"utf-8\"?>\n",
       "<svg xmlns=\"http://www.w3.org/2000/svg\" xmlns:xlink=\"http://www.w3.org/1999/xlink\" width=\"600\" height=\"400\" viewBox=\"0 0 2400 1600\">\n",
       "<defs>\n",
       "  <clipPath id=\"clip4200\">\n",
       "    <rect x=\"0\" y=\"0\" width=\"2400\" height=\"1600\"/>\n",
       "  </clipPath>\n",
       "</defs>\n",
       "<path clip-path=\"url(#clip4200)\" d=\"\n",
       "M0 1600 L2400 1600 L2400 0 L0 0  Z\n",
       "  \" fill=\"#ffffff\" fill-rule=\"evenodd\" fill-opacity=\"1\"/>\n",
       "<defs>\n",
       "  <clipPath id=\"clip4201\">\n",
       "    <rect x=\"480\" y=\"0\" width=\"1681\" height=\"1600\"/>\n",
       "  </clipPath>\n",
       "</defs>\n",
       "<path clip-path=\"url(#clip4200)\" d=\"\n",
       "M141.865 1487.47 L2352.76 1487.47 L2352.76 47.2441 L141.865 47.2441  Z\n",
       "  \" fill=\"#ffffff\" fill-rule=\"evenodd\" fill-opacity=\"1\"/>\n",
       "<defs>\n",
       "  <clipPath id=\"clip4202\">\n",
       "    <rect x=\"141\" y=\"47\" width=\"2212\" height=\"1441\"/>\n",
       "  </clipPath>\n",
       "</defs>\n",
       "<polyline clip-path=\"url(#clip4202)\" style=\"stroke:#000000; stroke-width:2; stroke-opacity:0.1; fill:none\" points=\"\n",
       "  204.437,1487.47 204.437,47.2441 \n",
       "  \"/>\n",
       "<polyline clip-path=\"url(#clip4202)\" style=\"stroke:#000000; stroke-width:2; stroke-opacity:0.1; fill:none\" points=\"\n",
       "  725.874,1487.47 725.874,47.2441 \n",
       "  \"/>\n",
       "<polyline clip-path=\"url(#clip4202)\" style=\"stroke:#000000; stroke-width:2; stroke-opacity:0.1; fill:none\" points=\"\n",
       "  1247.31,1487.47 1247.31,47.2441 \n",
       "  \"/>\n",
       "<polyline clip-path=\"url(#clip4202)\" style=\"stroke:#000000; stroke-width:2; stroke-opacity:0.1; fill:none\" points=\"\n",
       "  1768.75,1487.47 1768.75,47.2441 \n",
       "  \"/>\n",
       "<polyline clip-path=\"url(#clip4202)\" style=\"stroke:#000000; stroke-width:2; stroke-opacity:0.1; fill:none\" points=\"\n",
       "  2290.18,1487.47 2290.18,47.2441 \n",
       "  \"/>\n",
       "<polyline clip-path=\"url(#clip4202)\" style=\"stroke:#000000; stroke-width:2; stroke-opacity:0.1; fill:none\" points=\"\n",
       "  141.865,1446.71 2352.76,1446.71 \n",
       "  \"/>\n",
       "<polyline clip-path=\"url(#clip4202)\" style=\"stroke:#000000; stroke-width:2; stroke-opacity:0.1; fill:none\" points=\"\n",
       "  141.865,993.811 2352.76,993.811 \n",
       "  \"/>\n",
       "<polyline clip-path=\"url(#clip4202)\" style=\"stroke:#000000; stroke-width:2; stroke-opacity:0.1; fill:none\" points=\"\n",
       "  141.865,540.908 2352.76,540.908 \n",
       "  \"/>\n",
       "<polyline clip-path=\"url(#clip4202)\" style=\"stroke:#000000; stroke-width:2; stroke-opacity:0.1; fill:none\" points=\"\n",
       "  141.865,88.0053 2352.76,88.0053 \n",
       "  \"/>\n",
       "<polyline clip-path=\"url(#clip4200)\" style=\"stroke:#000000; stroke-width:4; stroke-opacity:1; fill:none\" points=\"\n",
       "  141.865,1487.47 2352.76,1487.47 \n",
       "  \"/>\n",
       "<polyline clip-path=\"url(#clip4200)\" style=\"stroke:#000000; stroke-width:4; stroke-opacity:1; fill:none\" points=\"\n",
       "  141.865,1487.47 141.865,47.2441 \n",
       "  \"/>\n",
       "<polyline clip-path=\"url(#clip4200)\" style=\"stroke:#000000; stroke-width:4; stroke-opacity:1; fill:none\" points=\"\n",
       "  204.437,1487.47 204.437,1465.87 \n",
       "  \"/>\n",
       "<polyline clip-path=\"url(#clip4200)\" style=\"stroke:#000000; stroke-width:4; stroke-opacity:1; fill:none\" points=\"\n",
       "  725.874,1487.47 725.874,1465.87 \n",
       "  \"/>\n",
       "<polyline clip-path=\"url(#clip4200)\" style=\"stroke:#000000; stroke-width:4; stroke-opacity:1; fill:none\" points=\"\n",
       "  1247.31,1487.47 1247.31,1465.87 \n",
       "  \"/>\n",
       "<polyline clip-path=\"url(#clip4200)\" style=\"stroke:#000000; stroke-width:4; stroke-opacity:1; fill:none\" points=\"\n",
       "  1768.75,1487.47 1768.75,1465.87 \n",
       "  \"/>\n",
       "<polyline clip-path=\"url(#clip4200)\" style=\"stroke:#000000; stroke-width:4; stroke-opacity:1; fill:none\" points=\"\n",
       "  2290.18,1487.47 2290.18,1465.87 \n",
       "  \"/>\n",
       "<polyline clip-path=\"url(#clip4200)\" style=\"stroke:#000000; stroke-width:4; stroke-opacity:1; fill:none\" points=\"\n",
       "  141.865,1446.71 175.028,1446.71 \n",
       "  \"/>\n",
       "<polyline clip-path=\"url(#clip4200)\" style=\"stroke:#000000; stroke-width:4; stroke-opacity:1; fill:none\" points=\"\n",
       "  141.865,993.811 175.028,993.811 \n",
       "  \"/>\n",
       "<polyline clip-path=\"url(#clip4200)\" style=\"stroke:#000000; stroke-width:4; stroke-opacity:1; fill:none\" points=\"\n",
       "  141.865,540.908 175.028,540.908 \n",
       "  \"/>\n",
       "<polyline clip-path=\"url(#clip4200)\" style=\"stroke:#000000; stroke-width:4; stroke-opacity:1; fill:none\" points=\"\n",
       "  141.865,88.0053 175.028,88.0053 \n",
       "  \"/>\n",
       "<g clip-path=\"url(#clip4200)\">\n",
       "<text style=\"fill:#000000; fill-opacity:1; font-family:Arial,Helvetica Neue,Helvetica,sans-serif; font-size:48px; text-anchor:middle;\" transform=\"rotate(0, 204.437, 1541.47)\" x=\"204.437\" y=\"1541.47\">1.0</text>\n",
       "</g>\n",
       "<g clip-path=\"url(#clip4200)\">\n",
       "<text style=\"fill:#000000; fill-opacity:1; font-family:Arial,Helvetica Neue,Helvetica,sans-serif; font-size:48px; text-anchor:middle;\" transform=\"rotate(0, 725.874, 1541.47)\" x=\"725.874\" y=\"1541.47\">1.5</text>\n",
       "</g>\n",
       "<g clip-path=\"url(#clip4200)\">\n",
       "<text style=\"fill:#000000; fill-opacity:1; font-family:Arial,Helvetica Neue,Helvetica,sans-serif; font-size:48px; text-anchor:middle;\" transform=\"rotate(0, 1247.31, 1541.47)\" x=\"1247.31\" y=\"1541.47\">2.0</text>\n",
       "</g>\n",
       "<g clip-path=\"url(#clip4200)\">\n",
       "<text style=\"fill:#000000; fill-opacity:1; font-family:Arial,Helvetica Neue,Helvetica,sans-serif; font-size:48px; text-anchor:middle;\" transform=\"rotate(0, 1768.75, 1541.47)\" x=\"1768.75\" y=\"1541.47\">2.5</text>\n",
       "</g>\n",
       "<g clip-path=\"url(#clip4200)\">\n",
       "<text style=\"fill:#000000; fill-opacity:1; font-family:Arial,Helvetica Neue,Helvetica,sans-serif; font-size:48px; text-anchor:middle;\" transform=\"rotate(0, 2290.18, 1541.47)\" x=\"2290.18\" y=\"1541.47\">3.0</text>\n",
       "</g>\n",
       "<g clip-path=\"url(#clip4200)\">\n",
       "<text style=\"fill:#000000; fill-opacity:1; font-family:Arial,Helvetica Neue,Helvetica,sans-serif; font-size:48px; text-anchor:end;\" transform=\"rotate(0, 117.865, 1464.21)\" x=\"117.865\" y=\"1464.21\">-1</text>\n",
       "</g>\n",
       "<g clip-path=\"url(#clip4200)\">\n",
       "<text style=\"fill:#000000; fill-opacity:1; font-family:Arial,Helvetica Neue,Helvetica,sans-serif; font-size:48px; text-anchor:end;\" transform=\"rotate(0, 117.865, 1011.31)\" x=\"117.865\" y=\"1011.31\">0</text>\n",
       "</g>\n",
       "<g clip-path=\"url(#clip4200)\">\n",
       "<text style=\"fill:#000000; fill-opacity:1; font-family:Arial,Helvetica Neue,Helvetica,sans-serif; font-size:48px; text-anchor:end;\" transform=\"rotate(0, 117.865, 558.408)\" x=\"117.865\" y=\"558.408\">1</text>\n",
       "</g>\n",
       "<g clip-path=\"url(#clip4200)\">\n",
       "<text style=\"fill:#000000; fill-opacity:1; font-family:Arial,Helvetica Neue,Helvetica,sans-serif; font-size:48px; text-anchor:end;\" transform=\"rotate(0, 117.865, 105.505)\" x=\"117.865\" y=\"105.505\">2</text>\n",
       "</g>\n",
       "<polyline clip-path=\"url(#clip4202)\" style=\"stroke:#009af9; stroke-width:4; stroke-opacity:1; fill:none\" points=\"\n",
       "  204.437,88.0053 2290.18,1446.71 \n",
       "  \"/>\n",
       "<path clip-path=\"url(#clip4200)\" d=\"\n",
       "M1989.93 251.724 L2280.76 251.724 L2280.76 130.764 L1989.93 130.764  Z\n",
       "  \" fill=\"#ffffff\" fill-rule=\"evenodd\" fill-opacity=\"1\"/>\n",
       "<polyline clip-path=\"url(#clip4200)\" style=\"stroke:#000000; stroke-width:4; stroke-opacity:1; fill:none\" points=\"\n",
       "  1989.93,251.724 2280.76,251.724 2280.76,130.764 1989.93,130.764 1989.93,251.724 \n",
       "  \"/>\n",
       "<polyline clip-path=\"url(#clip4200)\" style=\"stroke:#009af9; stroke-width:4; stroke-opacity:1; fill:none\" points=\"\n",
       "  2013.93,191.244 2157.93,191.244 \n",
       "  \"/>\n",
       "<g clip-path=\"url(#clip4200)\">\n",
       "<text style=\"fill:#000000; fill-opacity:1; font-family:Arial,Helvetica Neue,Helvetica,sans-serif; font-size:48px; text-anchor:start;\" transform=\"rotate(0, 2181.93, 208.744)\" x=\"2181.93\" y=\"208.744\">y1</text>\n",
       "</g>\n",
       "</svg>\n"
      ]
     },
     "execution_count": 91,
     "metadata": {},
     "output_type": "execute_result"
    }
   ],
   "source": [
    "plot([(1, 2), (3, -1)])"
   ]
  },
  {
   "cell_type": "code",
   "execution_count": 92,
   "metadata": {},
   "outputs": [
    {
     "data": {
      "text/plain": [
       "Tuple"
      ]
     },
     "execution_count": 92,
     "metadata": {},
     "output_type": "execute_result"
    }
   ],
   "source": [
    "Tuple"
   ]
  },
  {
   "cell_type": "code",
   "execution_count": 93,
   "metadata": {},
   "outputs": [
    {
     "data": {
      "text/plain": [
       "(3, 4)"
      ]
     },
     "execution_count": 93,
     "metadata": {},
     "output_type": "execute_result"
    }
   ],
   "source": [
    "Tuple([3, 4])"
   ]
  },
  {
   "cell_type": "code",
   "execution_count": null,
   "metadata": {},
   "outputs": [],
   "source": [
    "Base.Tuple(x) = "
   ]
  }
 ],
 "metadata": {
  "@webio": {
   "lastCommId": "6e2e68c89c044b84a2c6632056f09fdc",
   "lastKernelId": "e1385d62-4e30-4a99-a779-03b159d0717e"
  },
  "kernelspec": {
   "display_name": "Julia 1.3.0-rc3",
   "language": "julia",
   "name": "julia-1.3"
  },
  "language_info": {
   "file_extension": ".jl",
   "mimetype": "application/julia",
   "name": "julia",
   "version": "1.3.0"
  }
 },
 "nbformat": 4,
 "nbformat_minor": 2
}
