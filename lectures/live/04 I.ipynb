{
 "cells": [
  {
   "cell_type": "markdown",
   "metadata": {},
   "source": [
    "# Generate and count data"
   ]
  },
  {
   "cell_type": "code",
   "execution_count": null,
   "metadata": {},
   "outputs": [],
   "source": [
    "using Pkg\n",
    "Pkg.add(\"IJulia\")\n",
    "\n",
    "using IJulia\n",
    "notebook()\n",
    "\n"
   ]
  },
  {
   "cell_type": "markdown",
   "metadata": {},
   "source": [
    "Use Nteract on the desktop to use Jupyter notebooks"
   ]
  },
  {
   "cell_type": "code",
   "execution_count": 4,
   "metadata": {
    "collapsed": true
   },
   "outputs": [
    {
     "data": {
      "text/plain": [
       "1000-element Array{Int64,1}:\n",
       " 3\n",
       " 4\n",
       " 1\n",
       " 1\n",
       " 2\n",
       " 4\n",
       " 4\n",
       " 2\n",
       " 5\n",
       " 6\n",
       " 1\n",
       " 3\n",
       " 5\n",
       " ⋮\n",
       " 2\n",
       " 2\n",
       " 6\n",
       " 1\n",
       " 2\n",
       " 6\n",
       " 6\n",
       " 6\n",
       " 2\n",
       " 5\n",
       " 2\n",
       " 6"
      ]
     },
     "execution_count": 4,
     "metadata": {},
     "output_type": "execute_result"
    }
   ],
   "source": [
    "N = 1000\n",
    "data = rand(1:6, N)"
   ]
  },
  {
   "cell_type": "code",
   "execution_count": 6,
   "metadata": {},
   "outputs": [
    {
     "data": {
      "text/plain": [
       "count_outcomes (generic function with 1 method)"
      ]
     },
     "execution_count": 6,
     "metadata": {},
     "output_type": "execute_result"
    }
   ],
   "source": [
    "function count_outcomes(data, num_sides)  # maximum number in the data\n",
    "    counts = zeros(Int, num_sides)\n",
    "\n",
    "    for result in data   # alternative:  for i in 1:length(data)\n",
    "        counts[result] += 1\n",
    "    end\n",
    "\n",
    "    return counts \n",
    "end"
   ]
  },
  {
   "cell_type": "code",
   "execution_count": 8,
   "metadata": {},
   "outputs": [
    {
     "data": {
      "text/plain": [
       "6-element Array{Int64,1}:\n",
       " 156\n",
       " 166\n",
       " 160\n",
       " 180\n",
       " 160\n",
       " 178"
      ]
     },
     "execution_count": 8,
     "metadata": {},
     "output_type": "execute_result"
    }
   ],
   "source": [
    "count_outcomes(data, 6)    "
   ]
  },
  {
   "cell_type": "code",
   "execution_count": 9,
   "metadata": {},
   "outputs": [
    {
     "data": {
      "text/plain": [
       "8-element Array{Int64,1}:\n",
       " 156\n",
       " 166\n",
       " 160\n",
       " 180\n",
       " 160\n",
       " 178\n",
       "   0\n",
       "   0"
      ]
     },
     "execution_count": 9,
     "metadata": {},
     "output_type": "execute_result"
    }
   ],
   "source": [
    "count_outcomes(data, 8)    "
   ]
  },
  {
   "cell_type": "code",
   "execution_count": 10,
   "metadata": {},
   "outputs": [
    {
     "data": {
      "text/plain": [
       "6-element Array{Int64,1}:\n",
       " 165\n",
       " 145\n",
       " 165\n",
       " 163\n",
       " 203\n",
       " 159"
      ]
     },
     "execution_count": 10,
     "metadata": {},
     "output_type": "execute_result"
    }
   ],
   "source": [
    "data = rand(1:6, N)\n",
    "count_outcomes(data, 6)    "
   ]
  },
  {
   "cell_type": "code",
   "execution_count": 13,
   "metadata": {},
   "outputs": [
    {
     "data": {
      "text/plain": [
       "6-element Array{Int64,1}:\n",
       " 178\n",
       " 162\n",
       " 178\n",
       " 159\n",
       " 173\n",
       " 150"
      ]
     },
     "execution_count": 13,
     "metadata": {},
     "output_type": "execute_result"
    }
   ],
   "source": [
    "data = rand(1:6, N)\n",
    "counts = count_outcomes(data, 6)  "
   ]
  },
  {
   "cell_type": "code",
   "execution_count": 12,
   "metadata": {},
   "outputs": [],
   "source": [
    "using Plots"
   ]
  },
  {
   "cell_type": "markdown",
   "metadata": {},
   "source": [
    "This is **some** text and equations:\n",
    "\n",
    "$$y = x^2$$\n",
    "\n",
    "[Google](www.google.com)"
   ]
  },
  {
   "cell_type": "code",
   "execution_count": 27,
   "metadata": {},
   "outputs": [
    {
     "data": {
      "image/svg+xml": [
       "<?xml version=\"1.0\" encoding=\"utf-8\"?>\n",
       "<svg xmlns=\"http://www.w3.org/2000/svg\" xmlns:xlink=\"http://www.w3.org/1999/xlink\" width=\"600\" height=\"400\" viewBox=\"0 0 2400 1600\">\n",
       "<defs>\n",
       "  <clipPath id=\"clip0400\">\n",
       "    <rect x=\"0\" y=\"0\" width=\"2400\" height=\"1600\"/>\n",
       "  </clipPath>\n",
       "</defs>\n",
       "<path clip-path=\"url(#clip0400)\" d=\"\n",
       "M0 1600 L2400 1600 L2400 0 L0 0  Z\n",
       "  \" fill=\"#ffffff\" fill-rule=\"evenodd\" fill-opacity=\"1\"/>\n",
       "<defs>\n",
       "  <clipPath id=\"clip0401\">\n",
       "    <rect x=\"480\" y=\"0\" width=\"1681\" height=\"1600\"/>\n",
       "  </clipPath>\n",
       "</defs>\n",
       "<path clip-path=\"url(#clip0400)\" d=\"\n",
       "M167.279 1487.47 L2352.76 1487.47 L2352.76 47.2441 L167.279 47.2441  Z\n",
       "  \" fill=\"#ffffff\" fill-rule=\"evenodd\" fill-opacity=\"1\"/>\n",
       "<defs>\n",
       "  <clipPath id=\"clip0402\">\n",
       "    <rect x=\"167\" y=\"47\" width=\"2186\" height=\"1441\"/>\n",
       "  </clipPath>\n",
       "</defs>\n",
       "<polyline clip-path=\"url(#clip0402)\" style=\"stroke:#000000; stroke-width:2; stroke-opacity:0.1; fill:none\" points=\"\n",
       "  421.627,1487.47 421.627,47.2441 \n",
       "  \"/>\n",
       "<polyline clip-path=\"url(#clip0402)\" style=\"stroke:#000000; stroke-width:2; stroke-opacity:0.1; fill:none\" points=\"\n",
       "  756.983,1487.47 756.983,47.2441 \n",
       "  \"/>\n",
       "<polyline clip-path=\"url(#clip0402)\" style=\"stroke:#000000; stroke-width:2; stroke-opacity:0.1; fill:none\" points=\"\n",
       "  1092.34,1487.47 1092.34,47.2441 \n",
       "  \"/>\n",
       "<polyline clip-path=\"url(#clip0402)\" style=\"stroke:#000000; stroke-width:2; stroke-opacity:0.1; fill:none\" points=\"\n",
       "  1427.7,1487.47 1427.7,47.2441 \n",
       "  \"/>\n",
       "<polyline clip-path=\"url(#clip0402)\" style=\"stroke:#000000; stroke-width:2; stroke-opacity:0.1; fill:none\" points=\"\n",
       "  1763.05,1487.47 1763.05,47.2441 \n",
       "  \"/>\n",
       "<polyline clip-path=\"url(#clip0402)\" style=\"stroke:#000000; stroke-width:2; stroke-opacity:0.1; fill:none\" points=\"\n",
       "  2098.41,1487.47 2098.41,47.2441 \n",
       "  \"/>\n",
       "<polyline clip-path=\"url(#clip0402)\" style=\"stroke:#000000; stroke-width:2; stroke-opacity:0.1; fill:none\" points=\"\n",
       "  167.279,1446.71 2352.76,1446.71 \n",
       "  \"/>\n",
       "<polyline clip-path=\"url(#clip0402)\" style=\"stroke:#000000; stroke-width:2; stroke-opacity:0.1; fill:none\" points=\"\n",
       "  167.279,1077.5 2352.76,1077.5 \n",
       "  \"/>\n",
       "<polyline clip-path=\"url(#clip0402)\" style=\"stroke:#000000; stroke-width:2; stroke-opacity:0.1; fill:none\" points=\"\n",
       "  167.279,708.285 2352.76,708.285 \n",
       "  \"/>\n",
       "<polyline clip-path=\"url(#clip0402)\" style=\"stroke:#000000; stroke-width:2; stroke-opacity:0.1; fill:none\" points=\"\n",
       "  167.279,339.071 2352.76,339.071 \n",
       "  \"/>\n",
       "<polyline clip-path=\"url(#clip0400)\" style=\"stroke:#000000; stroke-width:4; stroke-opacity:1; fill:none\" points=\"\n",
       "  167.279,1487.47 2352.76,1487.47 \n",
       "  \"/>\n",
       "<polyline clip-path=\"url(#clip0400)\" style=\"stroke:#000000; stroke-width:4; stroke-opacity:1; fill:none\" points=\"\n",
       "  167.279,1487.47 167.279,47.2441 \n",
       "  \"/>\n",
       "<polyline clip-path=\"url(#clip0400)\" style=\"stroke:#000000; stroke-width:4; stroke-opacity:1; fill:none\" points=\"\n",
       "  421.627,1487.47 421.627,1465.87 \n",
       "  \"/>\n",
       "<polyline clip-path=\"url(#clip0400)\" style=\"stroke:#000000; stroke-width:4; stroke-opacity:1; fill:none\" points=\"\n",
       "  756.983,1487.47 756.983,1465.87 \n",
       "  \"/>\n",
       "<polyline clip-path=\"url(#clip0400)\" style=\"stroke:#000000; stroke-width:4; stroke-opacity:1; fill:none\" points=\"\n",
       "  1092.34,1487.47 1092.34,1465.87 \n",
       "  \"/>\n",
       "<polyline clip-path=\"url(#clip0400)\" style=\"stroke:#000000; stroke-width:4; stroke-opacity:1; fill:none\" points=\"\n",
       "  1427.7,1487.47 1427.7,1465.87 \n",
       "  \"/>\n",
       "<polyline clip-path=\"url(#clip0400)\" style=\"stroke:#000000; stroke-width:4; stroke-opacity:1; fill:none\" points=\"\n",
       "  1763.05,1487.47 1763.05,1465.87 \n",
       "  \"/>\n",
       "<polyline clip-path=\"url(#clip0400)\" style=\"stroke:#000000; stroke-width:4; stroke-opacity:1; fill:none\" points=\"\n",
       "  2098.41,1487.47 2098.41,1465.87 \n",
       "  \"/>\n",
       "<polyline clip-path=\"url(#clip0400)\" style=\"stroke:#000000; stroke-width:4; stroke-opacity:1; fill:none\" points=\"\n",
       "  167.279,1446.71 200.061,1446.71 \n",
       "  \"/>\n",
       "<polyline clip-path=\"url(#clip0400)\" style=\"stroke:#000000; stroke-width:4; stroke-opacity:1; fill:none\" points=\"\n",
       "  167.279,1077.5 200.061,1077.5 \n",
       "  \"/>\n",
       "<polyline clip-path=\"url(#clip0400)\" style=\"stroke:#000000; stroke-width:4; stroke-opacity:1; fill:none\" points=\"\n",
       "  167.279,708.285 200.061,708.285 \n",
       "  \"/>\n",
       "<polyline clip-path=\"url(#clip0400)\" style=\"stroke:#000000; stroke-width:4; stroke-opacity:1; fill:none\" points=\"\n",
       "  167.279,339.071 200.061,339.071 \n",
       "  \"/>\n",
       "<g clip-path=\"url(#clip0400)\">\n",
       "<text style=\"fill:#000000; fill-opacity:1; font-family:Arial,Helvetica Neue,Helvetica,sans-serif; font-size:48px; text-anchor:middle;\" transform=\"rotate(0, 421.627, 1541.47)\" x=\"421.627\" y=\"1541.47\">1</text>\n",
       "</g>\n",
       "<g clip-path=\"url(#clip0400)\">\n",
       "<text style=\"fill:#000000; fill-opacity:1; font-family:Arial,Helvetica Neue,Helvetica,sans-serif; font-size:48px; text-anchor:middle;\" transform=\"rotate(0, 756.983, 1541.47)\" x=\"756.983\" y=\"1541.47\">2</text>\n",
       "</g>\n",
       "<g clip-path=\"url(#clip0400)\">\n",
       "<text style=\"fill:#000000; fill-opacity:1; font-family:Arial,Helvetica Neue,Helvetica,sans-serif; font-size:48px; text-anchor:middle;\" transform=\"rotate(0, 1092.34, 1541.47)\" x=\"1092.34\" y=\"1541.47\">3</text>\n",
       "</g>\n",
       "<g clip-path=\"url(#clip0400)\">\n",
       "<text style=\"fill:#000000; fill-opacity:1; font-family:Arial,Helvetica Neue,Helvetica,sans-serif; font-size:48px; text-anchor:middle;\" transform=\"rotate(0, 1427.7, 1541.47)\" x=\"1427.7\" y=\"1541.47\">4</text>\n",
       "</g>\n",
       "<g clip-path=\"url(#clip0400)\">\n",
       "<text style=\"fill:#000000; fill-opacity:1; font-family:Arial,Helvetica Neue,Helvetica,sans-serif; font-size:48px; text-anchor:middle;\" transform=\"rotate(0, 1763.05, 1541.47)\" x=\"1763.05\" y=\"1541.47\">5</text>\n",
       "</g>\n",
       "<g clip-path=\"url(#clip0400)\">\n",
       "<text style=\"fill:#000000; fill-opacity:1; font-family:Arial,Helvetica Neue,Helvetica,sans-serif; font-size:48px; text-anchor:middle;\" transform=\"rotate(0, 2098.41, 1541.47)\" x=\"2098.41\" y=\"1541.47\">6</text>\n",
       "</g>\n",
       "<g clip-path=\"url(#clip0400)\">\n",
       "<text style=\"fill:#000000; fill-opacity:1; font-family:Arial,Helvetica Neue,Helvetica,sans-serif; font-size:48px; text-anchor:end;\" transform=\"rotate(0, 143.279, 1464.21)\" x=\"143.279\" y=\"1464.21\">0</text>\n",
       "</g>\n",
       "<g clip-path=\"url(#clip0400)\">\n",
       "<text style=\"fill:#000000; fill-opacity:1; font-family:Arial,Helvetica Neue,Helvetica,sans-serif; font-size:48px; text-anchor:end;\" transform=\"rotate(0, 143.279, 1095)\" x=\"143.279\" y=\"1095\">50</text>\n",
       "</g>\n",
       "<g clip-path=\"url(#clip0400)\">\n",
       "<text style=\"fill:#000000; fill-opacity:1; font-family:Arial,Helvetica Neue,Helvetica,sans-serif; font-size:48px; text-anchor:end;\" transform=\"rotate(0, 143.279, 725.785)\" x=\"143.279\" y=\"725.785\">100</text>\n",
       "</g>\n",
       "<g clip-path=\"url(#clip0400)\">\n",
       "<text style=\"fill:#000000; fill-opacity:1; font-family:Arial,Helvetica Neue,Helvetica,sans-serif; font-size:48px; text-anchor:end;\" transform=\"rotate(0, 143.279, 356.571)\" x=\"143.279\" y=\"356.571\">150</text>\n",
       "</g>\n",
       "<path clip-path=\"url(#clip0402)\" d=\"\n",
       "M287.484 88.0053 L287.484 1446.71 L555.769 1446.71 L555.769 88.0053 L287.484 88.0053 L287.484 88.0053  Z\n",
       "  \" fill=\"#009af9\" fill-rule=\"evenodd\" fill-opacity=\"1\"/>\n",
       "<polyline clip-path=\"url(#clip0402)\" style=\"stroke:#000000; stroke-width:4; stroke-opacity:1; fill:none\" points=\"\n",
       "  287.484,88.0053 287.484,1446.71 555.769,1446.71 555.769,88.0053 287.484,88.0053 \n",
       "  \"/>\n",
       "<path clip-path=\"url(#clip0402)\" d=\"\n",
       "M622.841 191.385 L622.841 1446.71 L891.126 1446.71 L891.126 191.385 L622.841 191.385 L622.841 191.385  Z\n",
       "  \" fill=\"#009af9\" fill-rule=\"evenodd\" fill-opacity=\"1\"/>\n",
       "<polyline clip-path=\"url(#clip0402)\" style=\"stroke:#000000; stroke-width:4; stroke-opacity:1; fill:none\" points=\"\n",
       "  622.841,191.385 622.841,1446.71 891.126,1446.71 891.126,191.385 622.841,191.385 \n",
       "  \"/>\n",
       "<path clip-path=\"url(#clip0402)\" d=\"\n",
       "M958.197 353.84 L958.197 1446.71 L1226.48 1446.71 L1226.48 353.84 L958.197 353.84 L958.197 353.84  Z\n",
       "  \" fill=\"#009af9\" fill-rule=\"evenodd\" fill-opacity=\"1\"/>\n",
       "<polyline clip-path=\"url(#clip0402)\" style=\"stroke:#000000; stroke-width:4; stroke-opacity:1; fill:none\" points=\"\n",
       "  958.197,353.84 958.197,1446.71 1226.48,1446.71 1226.48,353.84 958.197,353.84 \n",
       "  \"/>\n",
       "<path clip-path=\"url(#clip0402)\" d=\"\n",
       "M1293.55 184.001 L1293.55 1446.71 L1561.84 1446.71 L1561.84 184.001 L1293.55 184.001 L1293.55 184.001  Z\n",
       "  \" fill=\"#009af9\" fill-rule=\"evenodd\" fill-opacity=\"1\"/>\n",
       "<polyline clip-path=\"url(#clip0402)\" style=\"stroke:#000000; stroke-width:4; stroke-opacity:1; fill:none\" points=\"\n",
       "  1293.55,184.001 1293.55,1446.71 1561.84,1446.71 1561.84,184.001 1293.55,184.001 \n",
       "  \"/>\n",
       "<path clip-path=\"url(#clip0402)\" d=\"\n",
       "M1628.91 272.612 L1628.91 1446.71 L1897.19 1446.71 L1897.19 272.612 L1628.91 272.612 L1628.91 272.612  Z\n",
       "  \" fill=\"#009af9\" fill-rule=\"evenodd\" fill-opacity=\"1\"/>\n",
       "<polyline clip-path=\"url(#clip0402)\" style=\"stroke:#000000; stroke-width:4; stroke-opacity:1; fill:none\" points=\"\n",
       "  1628.91,272.612 1628.91,1446.71 1897.19,1446.71 1897.19,272.612 1628.91,272.612 \n",
       "  \"/>\n",
       "<path clip-path=\"url(#clip0402)\" d=\"\n",
       "M1964.27 206.154 L1964.27 1446.71 L2232.55 1446.71 L2232.55 206.154 L1964.27 206.154 L1964.27 206.154  Z\n",
       "  \" fill=\"#009af9\" fill-rule=\"evenodd\" fill-opacity=\"1\"/>\n",
       "<polyline clip-path=\"url(#clip0402)\" style=\"stroke:#000000; stroke-width:4; stroke-opacity:1; fill:none\" points=\"\n",
       "  1964.27,206.154 1964.27,1446.71 2232.55,1446.71 2232.55,206.154 1964.27,206.154 \n",
       "  \"/>\n",
       "<path clip-path=\"url(#clip0400)\" d=\"\n",
       "M1989.93 251.724 L2280.76 251.724 L2280.76 130.764 L1989.93 130.764  Z\n",
       "  \" fill=\"#ffffff\" fill-rule=\"evenodd\" fill-opacity=\"1\"/>\n",
       "<polyline clip-path=\"url(#clip0400)\" style=\"stroke:#000000; stroke-width:4; stroke-opacity:1; fill:none\" points=\"\n",
       "  1989.93,251.724 2280.76,251.724 2280.76,130.764 1989.93,130.764 1989.93,251.724 \n",
       "  \"/>\n",
       "<path clip-path=\"url(#clip0400)\" d=\"\n",
       "M2013.93 215.436 L2157.93 215.436 L2157.93 167.052 L2013.93 167.052 L2013.93 215.436  Z\n",
       "  \" fill=\"#009af9\" fill-rule=\"evenodd\" fill-opacity=\"1\"/>\n",
       "<polyline clip-path=\"url(#clip0400)\" style=\"stroke:#000000; stroke-width:4; stroke-opacity:1; fill:none\" points=\"\n",
       "  2013.93,215.436 2157.93,215.436 2157.93,167.052 2013.93,167.052 2013.93,215.436 \n",
       "  \"/>\n",
       "<g clip-path=\"url(#clip0400)\">\n",
       "<text style=\"fill:#000000; fill-opacity:1; font-family:Arial,Helvetica Neue,Helvetica,sans-serif; font-size:48px; text-anchor:start;\" transform=\"rotate(0, 2181.93, 208.744)\" x=\"2181.93\" y=\"208.744\">y1</text>\n",
       "</g>\n",
       "</svg>\n"
      ]
     },
     "execution_count": 27,
     "metadata": {},
     "output_type": "execute_result"
    }
   ],
   "source": [
    "data = rand(1:6, N)\n",
    "counts = count_outcomes(data, 6)  \n",
    "bar(counts)"
   ]
  },
  {
   "cell_type": "markdown",
   "metadata": {},
   "source": [
    "Interactive movie:"
   ]
  },
  {
   "cell_type": "code",
   "execution_count": 28,
   "metadata": {},
   "outputs": [
    {
     "data": {
      "text/html": [
       "<script>\n",
       "// Immediately-invoked-function-expression to avoid global variables.\n",
       "(function() {\n",
       "    var warning_div = document.getElementById(\"webio-warning-11647983241965965364\");\n",
       "    var hide = function () {\n",
       "        var script = document.getElementById(\"webio-setup-3434966674086953003\");\n",
       "        var parent = script && script.parentElement;\n",
       "        var grandparent = parent && parent.parentElement;\n",
       "        if (grandparent) {\n",
       "            grandparent.style.display = \"none\";\n",
       "        }\n",
       "        warning_div.style.display = \"none\";\n",
       "    };\n",
       "    if (typeof Jupyter !== \"undefined\") {\n",
       "        console.log(\"WebIO detected Jupyter notebook environment.\");\n",
       "        // Jupyter notebook.\n",
       "        var extensions = (\n",
       "            Jupyter\n",
       "            && Jupyter.notebook.config.data\n",
       "            && Jupyter.notebook.config.data.load_extensions\n",
       "        );\n",
       "        if (extensions && extensions[\"webio-jupyter-notebook\"]) {\n",
       "            // Extension already loaded.\n",
       "            console.log(\"Jupyter WebIO nbextension detected; not loading ad-hoc.\");\n",
       "            hide();\n",
       "            return;\n",
       "        }\n",
       "    } else if (window.location.pathname.includes(\"/lab\")) {\n",
       "        // Guessing JupyterLa\n",
       "        console.log(\"Jupyter Lab detected; make sure the @webio/jupyter-lab-provider labextension is installed.\");\n",
       "        hide();\n",
       "        return;\n",
       "    }\n",
       "})();\n",
       "\n",
       "</script>\n",
       "<p\n",
       "    id=\"webio-warning-11647983241965965364\"\n",
       "    class=\"output_text output_stderr\"\n",
       "    style=\"padding: 1em; font-weight: bold;\"\n",
       ">\n",
       "    Unable to load WebIO. Please make sure WebIO works for your Jupyter client.\n",
       "    For troubleshooting, please see <a href=\"https://juliagizmos.github.io/WebIO.jl/latest/providers/ijulia/\">\n",
       "    the WebIO/IJulia documentation</a>.\n",
       "    <!-- TODO: link to installation docs. -->\n",
       "</p>\n"
      ],
      "text/plain": [
       "HTML{String}(\"<script>\\n// Immediately-invoked-function-expression to avoid global variables.\\n(function() {\\n    var warning_div = document.getElementById(\\\"webio-warning-11647983241965965364\\\");\\n    var hide = function () {\\n        var script = document.getElementById(\\\"webio-setup-3434966674086953003\\\");\\n        var parent = script && script.parentElement;\\n        var grandparent = parent && parent.parentElement;\\n        if (grandparent) {\\n            grandparent.style.display = \\\"none\\\";\\n        }\\n        warning_div.style.display = \\\"none\\\";\\n    };\\n    if (typeof Jupyter !== \\\"undefined\\\") {\\n        console.log(\\\"WebIO detected Jupyter notebook environment.\\\");\\n        // Jupyter notebook.\\n        var extensions = (\\n            Jupyter\\n            && Jupyter.notebook.config.data\\n            && Jupyter.notebook.config.data.load_extensions\\n        );\\n        if (extensions && extensions[\\\"webio-jupyter-notebook\\\"]) {\\n            // Extension already loaded.\\n            console.log(\\\"Jupyter WebIO nbextension detected; not loading ad-hoc.\\\");\\n            hide();\\n            return;\\n        }\\n    } else if (window.location.pathname.includes(\\\"/lab\\\")) {\\n        // Guessing JupyterLa\\n        console.log(\\\"Jupyter Lab detected; make sure the @webio/jupyter-lab-provider labextension is installed.\\\");\\n        hide();\\n        return;\\n    }\\n})();\\n\\n</script>\\n<p\\n    id=\\\"webio-warning-11647983241965965364\\\"\\n    class=\\\"output_text output_stderr\\\"\\n    style=\\\"padding: 1em; font-weight: bold;\\\"\\n>\\n    Unable to load WebIO. Please make sure WebIO works for your Jupyter client.\\n    For troubleshooting, please see <a href=\\\"https://juliagizmos.github.io/WebIO.jl/latest/providers/ijulia/\\\">\\n    the WebIO/IJulia documentation</a>.\\n    <!-- TODO: link to installation docs. -->\\n</p>\\n\")"
      ]
     },
     "metadata": {},
     "output_type": "display_data"
    }
   ],
   "source": [
    "using Interact"
   ]
  },
  {
   "cell_type": "code",
   "execution_count": null,
   "metadata": {},
   "outputs": [],
   "source": []
  },
  {
   "cell_type": "markdown",
   "metadata": {},
   "source": [
    "## Frequencies"
   ]
  },
  {
   "cell_type": "code",
   "execution_count": 44,
   "metadata": {},
   "outputs": [
    {
     "data": {
      "image/svg+xml": [
       "<?xml version=\"1.0\" encoding=\"utf-8\"?>\n",
       "<svg xmlns=\"http://www.w3.org/2000/svg\" xmlns:xlink=\"http://www.w3.org/1999/xlink\" width=\"600\" height=\"400\" viewBox=\"0 0 2400 1600\">\n",
       "<defs>\n",
       "  <clipPath id=\"clip6800\">\n",
       "    <rect x=\"0\" y=\"0\" width=\"2400\" height=\"1600\"/>\n",
       "  </clipPath>\n",
       "</defs>\n",
       "<path clip-path=\"url(#clip6800)\" d=\"\n",
       "M0 1600 L2400 1600 L2400 0 L0 0  Z\n",
       "  \" fill=\"#ffffff\" fill-rule=\"evenodd\" fill-opacity=\"1\"/>\n",
       "<defs>\n",
       "  <clipPath id=\"clip6801\">\n",
       "    <rect x=\"480\" y=\"0\" width=\"1681\" height=\"1600\"/>\n",
       "  </clipPath>\n",
       "</defs>\n",
       "<path clip-path=\"url(#clip6800)\" d=\"\n",
       "M180.66 1487.47 L2352.76 1487.47 L2352.76 47.2441 L180.66 47.2441  Z\n",
       "  \" fill=\"#ffffff\" fill-rule=\"evenodd\" fill-opacity=\"1\"/>\n",
       "<defs>\n",
       "  <clipPath id=\"clip6802\">\n",
       "    <rect x=\"180\" y=\"47\" width=\"2173\" height=\"1441\"/>\n",
       "  </clipPath>\n",
       "</defs>\n",
       "<polyline clip-path=\"url(#clip6802)\" style=\"stroke:#000000; stroke-width:2; stroke-opacity:0.1; fill:none\" points=\"\n",
       "  433.451,1487.47 433.451,47.2441 \n",
       "  \"/>\n",
       "<polyline clip-path=\"url(#clip6802)\" style=\"stroke:#000000; stroke-width:2; stroke-opacity:0.1; fill:none\" points=\"\n",
       "  766.754,1487.47 766.754,47.2441 \n",
       "  \"/>\n",
       "<polyline clip-path=\"url(#clip6802)\" style=\"stroke:#000000; stroke-width:2; stroke-opacity:0.1; fill:none\" points=\"\n",
       "  1100.06,1487.47 1100.06,47.2441 \n",
       "  \"/>\n",
       "<polyline clip-path=\"url(#clip6802)\" style=\"stroke:#000000; stroke-width:2; stroke-opacity:0.1; fill:none\" points=\"\n",
       "  1433.36,1487.47 1433.36,47.2441 \n",
       "  \"/>\n",
       "<polyline clip-path=\"url(#clip6802)\" style=\"stroke:#000000; stroke-width:2; stroke-opacity:0.1; fill:none\" points=\"\n",
       "  1766.66,1487.47 1766.66,47.2441 \n",
       "  \"/>\n",
       "<polyline clip-path=\"url(#clip6802)\" style=\"stroke:#000000; stroke-width:2; stroke-opacity:0.1; fill:none\" points=\"\n",
       "  2099.97,1487.47 2099.97,47.2441 \n",
       "  \"/>\n",
       "<polyline clip-path=\"url(#clip6802)\" style=\"stroke:#000000; stroke-width:2; stroke-opacity:0.1; fill:none\" points=\"\n",
       "  180.66,1446.71 2352.76,1446.71 \n",
       "  \"/>\n",
       "<polyline clip-path=\"url(#clip6802)\" style=\"stroke:#000000; stroke-width:2; stroke-opacity:0.1; fill:none\" points=\"\n",
       "  180.66,1065.05 2352.76,1065.05 \n",
       "  \"/>\n",
       "<polyline clip-path=\"url(#clip6802)\" style=\"stroke:#000000; stroke-width:2; stroke-opacity:0.1; fill:none\" points=\"\n",
       "  180.66,683.394 2352.76,683.394 \n",
       "  \"/>\n",
       "<polyline clip-path=\"url(#clip6802)\" style=\"stroke:#000000; stroke-width:2; stroke-opacity:0.1; fill:none\" points=\"\n",
       "  180.66,301.735 2352.76,301.735 \n",
       "  \"/>\n",
       "<polyline clip-path=\"url(#clip6800)\" style=\"stroke:#000000; stroke-width:4; stroke-opacity:1; fill:none\" points=\"\n",
       "  180.66,1487.47 2352.76,1487.47 \n",
       "  \"/>\n",
       "<polyline clip-path=\"url(#clip6800)\" style=\"stroke:#000000; stroke-width:4; stroke-opacity:1; fill:none\" points=\"\n",
       "  180.66,1487.47 180.66,47.2441 \n",
       "  \"/>\n",
       "<polyline clip-path=\"url(#clip6800)\" style=\"stroke:#000000; stroke-width:4; stroke-opacity:1; fill:none\" points=\"\n",
       "  433.451,1487.47 433.451,1465.87 \n",
       "  \"/>\n",
       "<polyline clip-path=\"url(#clip6800)\" style=\"stroke:#000000; stroke-width:4; stroke-opacity:1; fill:none\" points=\"\n",
       "  766.754,1487.47 766.754,1465.87 \n",
       "  \"/>\n",
       "<polyline clip-path=\"url(#clip6800)\" style=\"stroke:#000000; stroke-width:4; stroke-opacity:1; fill:none\" points=\"\n",
       "  1100.06,1487.47 1100.06,1465.87 \n",
       "  \"/>\n",
       "<polyline clip-path=\"url(#clip6800)\" style=\"stroke:#000000; stroke-width:4; stroke-opacity:1; fill:none\" points=\"\n",
       "  1433.36,1487.47 1433.36,1465.87 \n",
       "  \"/>\n",
       "<polyline clip-path=\"url(#clip6800)\" style=\"stroke:#000000; stroke-width:4; stroke-opacity:1; fill:none\" points=\"\n",
       "  1766.66,1487.47 1766.66,1465.87 \n",
       "  \"/>\n",
       "<polyline clip-path=\"url(#clip6800)\" style=\"stroke:#000000; stroke-width:4; stroke-opacity:1; fill:none\" points=\"\n",
       "  2099.97,1487.47 2099.97,1465.87 \n",
       "  \"/>\n",
       "<polyline clip-path=\"url(#clip6800)\" style=\"stroke:#000000; stroke-width:4; stroke-opacity:1; fill:none\" points=\"\n",
       "  180.66,1446.71 213.242,1446.71 \n",
       "  \"/>\n",
       "<polyline clip-path=\"url(#clip6800)\" style=\"stroke:#000000; stroke-width:4; stroke-opacity:1; fill:none\" points=\"\n",
       "  180.66,1065.05 213.242,1065.05 \n",
       "  \"/>\n",
       "<polyline clip-path=\"url(#clip6800)\" style=\"stroke:#000000; stroke-width:4; stroke-opacity:1; fill:none\" points=\"\n",
       "  180.66,683.394 213.242,683.394 \n",
       "  \"/>\n",
       "<polyline clip-path=\"url(#clip6800)\" style=\"stroke:#000000; stroke-width:4; stroke-opacity:1; fill:none\" points=\"\n",
       "  180.66,301.735 213.242,301.735 \n",
       "  \"/>\n",
       "<g clip-path=\"url(#clip6800)\">\n",
       "<text style=\"fill:#000000; fill-opacity:1; font-family:Arial,Helvetica Neue,Helvetica,sans-serif; font-size:48px; text-anchor:middle;\" transform=\"rotate(0, 433.451, 1541.47)\" x=\"433.451\" y=\"1541.47\">1</text>\n",
       "</g>\n",
       "<g clip-path=\"url(#clip6800)\">\n",
       "<text style=\"fill:#000000; fill-opacity:1; font-family:Arial,Helvetica Neue,Helvetica,sans-serif; font-size:48px; text-anchor:middle;\" transform=\"rotate(0, 766.754, 1541.47)\" x=\"766.754\" y=\"1541.47\">2</text>\n",
       "</g>\n",
       "<g clip-path=\"url(#clip6800)\">\n",
       "<text style=\"fill:#000000; fill-opacity:1; font-family:Arial,Helvetica Neue,Helvetica,sans-serif; font-size:48px; text-anchor:middle;\" transform=\"rotate(0, 1100.06, 1541.47)\" x=\"1100.06\" y=\"1541.47\">3</text>\n",
       "</g>\n",
       "<g clip-path=\"url(#clip6800)\">\n",
       "<text style=\"fill:#000000; fill-opacity:1; font-family:Arial,Helvetica Neue,Helvetica,sans-serif; font-size:48px; text-anchor:middle;\" transform=\"rotate(0, 1433.36, 1541.47)\" x=\"1433.36\" y=\"1541.47\">4</text>\n",
       "</g>\n",
       "<g clip-path=\"url(#clip6800)\">\n",
       "<text style=\"fill:#000000; fill-opacity:1; font-family:Arial,Helvetica Neue,Helvetica,sans-serif; font-size:48px; text-anchor:middle;\" transform=\"rotate(0, 1766.66, 1541.47)\" x=\"1766.66\" y=\"1541.47\">5</text>\n",
       "</g>\n",
       "<g clip-path=\"url(#clip6800)\">\n",
       "<text style=\"fill:#000000; fill-opacity:1; font-family:Arial,Helvetica Neue,Helvetica,sans-serif; font-size:48px; text-anchor:middle;\" transform=\"rotate(0, 2099.97, 1541.47)\" x=\"2099.97\" y=\"1541.47\">6</text>\n",
       "</g>\n",
       "<g clip-path=\"url(#clip6800)\">\n",
       "<text style=\"fill:#000000; fill-opacity:1; font-family:Arial,Helvetica Neue,Helvetica,sans-serif; font-size:48px; text-anchor:end;\" transform=\"rotate(0, 156.66, 1464.21)\" x=\"156.66\" y=\"1464.21\">0.00</text>\n",
       "</g>\n",
       "<g clip-path=\"url(#clip6800)\">\n",
       "<text style=\"fill:#000000; fill-opacity:1; font-family:Arial,Helvetica Neue,Helvetica,sans-serif; font-size:48px; text-anchor:end;\" transform=\"rotate(0, 156.66, 1082.55)\" x=\"156.66\" y=\"1082.55\">0.05</text>\n",
       "</g>\n",
       "<g clip-path=\"url(#clip6800)\">\n",
       "<text style=\"fill:#000000; fill-opacity:1; font-family:Arial,Helvetica Neue,Helvetica,sans-serif; font-size:48px; text-anchor:end;\" transform=\"rotate(0, 156.66, 700.894)\" x=\"156.66\" y=\"700.894\">0.10</text>\n",
       "</g>\n",
       "<g clip-path=\"url(#clip6800)\">\n",
       "<text style=\"fill:#000000; fill-opacity:1; font-family:Arial,Helvetica Neue,Helvetica,sans-serif; font-size:48px; text-anchor:end;\" transform=\"rotate(0, 156.66, 319.235)\" x=\"156.66\" y=\"319.235\">0.15</text>\n",
       "</g>\n",
       "<path clip-path=\"url(#clip6802)\" d=\"\n",
       "M300.129 225.403 L300.129 1446.71 L566.772 1446.71 L566.772 225.403 L300.129 225.403 L300.129 225.403  Z\n",
       "  \" fill=\"#009af9\" fill-rule=\"evenodd\" fill-opacity=\"1\"/>\n",
       "<polyline clip-path=\"url(#clip6802)\" style=\"stroke:#000000; stroke-width:4; stroke-opacity:1; fill:none\" points=\"\n",
       "  300.129,225.403 300.129,1446.71 566.772,1446.71 566.772,225.403 300.129,225.403 \n",
       "  \"/>\n",
       "<path clip-path=\"url(#clip6802)\" d=\"\n",
       "M633.432 225.403 L633.432 1446.71 L900.075 1446.71 L900.075 225.403 L633.432 225.403 L633.432 225.403  Z\n",
       "  \" fill=\"#009af9\" fill-rule=\"evenodd\" fill-opacity=\"1\"/>\n",
       "<polyline clip-path=\"url(#clip6802)\" style=\"stroke:#000000; stroke-width:4; stroke-opacity:1; fill:none\" points=\"\n",
       "  633.432,225.403 633.432,1446.71 900.075,1446.71 900.075,225.403 633.432,225.403 \n",
       "  \"/>\n",
       "<path clip-path=\"url(#clip6802)\" d=\"\n",
       "M966.735 88.0053 L966.735 1446.71 L1233.38 1446.71 L1233.38 88.0053 L966.735 88.0053 L966.735 88.0053  Z\n",
       "  \" fill=\"#009af9\" fill-rule=\"evenodd\" fill-opacity=\"1\"/>\n",
       "<polyline clip-path=\"url(#clip6802)\" style=\"stroke:#000000; stroke-width:4; stroke-opacity:1; fill:none\" points=\"\n",
       "  966.735,88.0053 966.735,1446.71 1233.38,1446.71 1233.38,88.0053 966.735,88.0053 \n",
       "  \"/>\n",
       "<path clip-path=\"url(#clip6802)\" d=\"\n",
       "M1300.04 210.136 L1300.04 1446.71 L1566.68 1446.71 L1566.68 210.136 L1300.04 210.136 L1300.04 210.136  Z\n",
       "  \" fill=\"#009af9\" fill-rule=\"evenodd\" fill-opacity=\"1\"/>\n",
       "<polyline clip-path=\"url(#clip6802)\" style=\"stroke:#000000; stroke-width:4; stroke-opacity:1; fill:none\" points=\"\n",
       "  1300.04,210.136 1300.04,1446.71 1566.68,1446.71 1566.68,210.136 1300.04,210.136 \n",
       "  \"/>\n",
       "<path clip-path=\"url(#clip6802)\" d=\"\n",
       "M1633.34 187.237 L1633.34 1446.71 L1899.98 1446.71 L1899.98 187.237 L1633.34 187.237 L1633.34 187.237  Z\n",
       "  \" fill=\"#009af9\" fill-rule=\"evenodd\" fill-opacity=\"1\"/>\n",
       "<polyline clip-path=\"url(#clip6802)\" style=\"stroke:#000000; stroke-width:4; stroke-opacity:1; fill:none\" points=\"\n",
       "  1633.34,187.237 1633.34,1446.71 1899.98,1446.71 1899.98,187.237 1633.34,187.237 \n",
       "  \"/>\n",
       "<path clip-path=\"url(#clip6802)\" d=\"\n",
       "M1966.64 110.905 L1966.64 1446.71 L2233.29 1446.71 L2233.29 110.905 L1966.64 110.905 L1966.64 110.905  Z\n",
       "  \" fill=\"#009af9\" fill-rule=\"evenodd\" fill-opacity=\"1\"/>\n",
       "<polyline clip-path=\"url(#clip6802)\" style=\"stroke:#000000; stroke-width:4; stroke-opacity:1; fill:none\" points=\"\n",
       "  1966.64,110.905 1966.64,1446.71 2233.29,1446.71 2233.29,110.905 1966.64,110.905 \n",
       "  \"/>\n",
       "<polyline clip-path=\"url(#clip6802)\" style=\"stroke:#e26f46; stroke-width:8; stroke-opacity:1; fill:none\" stroke-dasharray=\"32, 20\" points=\"\n",
       "  -1991.44,174.515 4524.85,174.515 \n",
       "  \"/>\n",
       "</svg>\n"
      ]
     },
     "execution_count": 44,
     "metadata": {},
     "output_type": "execute_result"
    }
   ],
   "source": [
    "data = rand(1:6, N)\n",
    "counts = count_outcomes(data, 6)  \n",
    "bar(counts ./ N, leg=false)\n",
    "hline!( [1/6], ls=:dash, lw=2)"
   ]
  },
  {
   "cell_type": "markdown",
   "metadata": {},
   "source": [
    "## Variability"
   ]
  },
  {
   "cell_type": "code",
   "execution_count": 50,
   "metadata": {},
   "outputs": [
    {
     "data": {
      "text/plain": [
       "10-element Array{Int64,1}:\n",
       " 5\n",
       " 1\n",
       " 5\n",
       " 2\n",
       " 6\n",
       " 2\n",
       " 1\n",
       " 2\n",
       " 1\n",
       " 4"
      ]
     },
     "execution_count": 50,
     "metadata": {},
     "output_type": "execute_result"
    }
   ],
   "source": [
    "N = 10\n",
    "data = rand(1:6, N)"
   ]
  },
  {
   "cell_type": "code",
   "execution_count": 51,
   "metadata": {},
   "outputs": [
    {
     "data": {
      "text/plain": [
       "10-element Array{Bool,1}:\n",
       " 0\n",
       " 1\n",
       " 0\n",
       " 0\n",
       " 0\n",
       " 0\n",
       " 1\n",
       " 0\n",
       " 1\n",
       " 0"
      ]
     },
     "execution_count": 51,
     "metadata": {},
     "output_type": "execute_result"
    }
   ],
   "source": [
    "[ data[i] == 1 for i in 1:N]"
   ]
  },
  {
   "cell_type": "code",
   "execution_count": 52,
   "metadata": {},
   "outputs": [
    {
     "data": {
      "text/plain": [
       "10-element Array{Bool,1}:\n",
       " 0\n",
       " 1\n",
       " 0\n",
       " 0\n",
       " 0\n",
       " 0\n",
       " 1\n",
       " 0\n",
       " 1\n",
       " 0"
      ]
     },
     "execution_count": 52,
     "metadata": {},
     "output_type": "execute_result"
    }
   ],
   "source": [
    "[value == 1 for value in data]"
   ]
  },
  {
   "cell_type": "code",
   "execution_count": 53,
   "metadata": {},
   "outputs": [
    {
     "data": {
      "text/plain": [
       "3-element Array{Int64,1}:\n",
       " 1\n",
       " 1\n",
       " 1"
      ]
     },
     "execution_count": 53,
     "metadata": {},
     "output_type": "execute_result"
    }
   ],
   "source": [
    "[value for value in data if value == 1]"
   ]
  },
  {
   "cell_type": "code",
   "execution_count": 54,
   "metadata": {},
   "outputs": [
    {
     "data": {
      "text/plain": [
       "2"
      ]
     },
     "execution_count": 54,
     "metadata": {},
     "output_type": "execute_result"
    }
   ],
   "source": [
    "value = 2"
   ]
  },
  {
   "cell_type": "code",
   "execution_count": 55,
   "metadata": {},
   "outputs": [
    {
     "data": {
      "text/plain": [
       "false"
      ]
     },
     "execution_count": 55,
     "metadata": {},
     "output_type": "execute_result"
    }
   ],
   "source": [
    "value == 1"
   ]
  },
  {
   "cell_type": "code",
   "execution_count": 56,
   "metadata": {},
   "outputs": [
    {
     "data": {
      "text/plain": [
       "3"
      ]
     },
     "execution_count": 56,
     "metadata": {},
     "output_type": "execute_result"
    }
   ],
   "source": [
    "length([value for value in data if value == 1])"
   ]
  },
  {
   "cell_type": "code",
   "execution_count": 57,
   "metadata": {},
   "outputs": [
    {
     "data": {
      "text/plain": [
       "3"
      ]
     },
     "execution_count": 57,
     "metadata": {},
     "output_type": "execute_result"
    }
   ],
   "source": [
    "sum([value == 1 for value in data])"
   ]
  },
  {
   "cell_type": "code",
   "execution_count": 58,
   "metadata": {},
   "outputs": [
    {
     "data": {
      "text/plain": [
       "3"
      ]
     },
     "execution_count": 58,
     "metadata": {},
     "output_type": "execute_result"
    }
   ],
   "source": [
    "count([value == 1 for value in data])"
   ]
  },
  {
   "cell_type": "code",
   "execution_count": 59,
   "metadata": {},
   "outputs": [
    {
     "data": {
      "text/plain": [
       "3"
      ]
     },
     "execution_count": 59,
     "metadata": {},
     "output_type": "execute_result"
    }
   ],
   "source": [
    "count(value == 1 for value in data)"
   ]
  },
  {
   "cell_type": "code",
   "execution_count": 60,
   "metadata": {},
   "outputs": [
    {
     "data": {
      "text/plain": [
       "Base.Generator{Array{Int64,1},getfield(Main, Symbol(\"##25#26\"))}(getfield(Main, Symbol(\"##25#26\"))(), [5, 1, 5, 2, 6, 2, 1, 2, 1, 4])"
      ]
     },
     "execution_count": 60,
     "metadata": {},
     "output_type": "execute_result"
    }
   ],
   "source": [
    "(value == 1 for value in data)"
   ]
  },
  {
   "cell_type": "code",
   "execution_count": 61,
   "metadata": {},
   "outputs": [
    {
     "data": {
      "text/plain": [
       "3"
      ]
     },
     "execution_count": 61,
     "metadata": {},
     "output_type": "execute_result"
    }
   ],
   "source": [
    "count(value == 1 for value in data)"
   ]
  },
  {
   "cell_type": "code",
   "execution_count": 63,
   "metadata": {},
   "outputs": [
    {
     "data": {
      "text/plain": [
       "10-element BitArray{1}:\n",
       " 0\n",
       " 1\n",
       " 0\n",
       " 0\n",
       " 0\n",
       " 0\n",
       " 1\n",
       " 0\n",
       " 1\n",
       " 0"
      ]
     },
     "execution_count": 63,
     "metadata": {},
     "output_type": "execute_result"
    }
   ],
   "source": [
    "data .== 1"
   ]
  },
  {
   "cell_type": "code",
   "execution_count": 65,
   "metadata": {},
   "outputs": [
    {
     "data": {
      "text/plain": [
       "3"
      ]
     },
     "execution_count": 65,
     "metadata": {},
     "output_type": "execute_result"
    }
   ],
   "source": [
    "sum(data .== 1)"
   ]
  },
  {
   "cell_type": "code",
   "execution_count": 66,
   "metadata": {},
   "outputs": [
    {
     "data": {
      "text/plain": [
       "3-element Array{Int64,1}:\n",
       " 3\n",
       " 4\n",
       " 5"
      ]
     },
     "execution_count": 66,
     "metadata": {},
     "output_type": "execute_result"
    }
   ],
   "source": [
    "v = [3, 4, 5]"
   ]
  },
  {
   "cell_type": "code",
   "execution_count": 67,
   "metadata": {},
   "outputs": [
    {
     "ename": "TypeError",
     "evalue": "TypeError: non-boolean (Int64) used in boolean context",
     "output_type": "error",
     "traceback": [
      "TypeError: non-boolean (Int64) used in boolean context",
      "",
      "Stacktrace:",
      " [1] count at ./reduce.jl:779 [inlined]",
      " [2] count(::Array{Int64,1}) at ./reduce.jl:783",
      " [3] top-level scope at In[67]:1"
     ]
    }
   ],
   "source": [
    "count(v)"
   ]
  },
  {
   "cell_type": "code",
   "execution_count": 68,
   "metadata": {},
   "outputs": [
    {
     "data": {
      "text/plain": [
       "true"
      ]
     },
     "execution_count": 68,
     "metadata": {},
     "output_type": "execute_result"
    }
   ],
   "source": [
    "true == 1"
   ]
  },
  {
   "cell_type": "code",
   "execution_count": 69,
   "metadata": {},
   "outputs": [
    {
     "data": {
      "text/plain": [
       "true"
      ]
     },
     "execution_count": 69,
     "metadata": {},
     "output_type": "execute_result"
    }
   ],
   "source": [
    "false == 0   # mathematical concept \"equality\""
   ]
  },
  {
   "cell_type": "code",
   "execution_count": 71,
   "metadata": {},
   "outputs": [
    {
     "data": {
      "text/plain": [
       "false"
      ]
     },
     "execution_count": 71,
     "metadata": {},
     "output_type": "execute_result"
    }
   ],
   "source": [
    "true === 1   # computer science concept \"egal\" -- identical Julia objects"
   ]
  },
  {
   "cell_type": "code",
   "execution_count": 72,
   "metadata": {},
   "outputs": [
    {
     "data": {
      "text/plain": [
       "true"
      ]
     },
     "execution_count": 72,
     "metadata": {},
     "output_type": "execute_result"
    }
   ],
   "source": [
    "1 === 1"
   ]
  },
  {
   "cell_type": "code",
   "execution_count": 73,
   "metadata": {},
   "outputs": [
    {
     "ename": "UndefVarError",
     "evalue": "UndefVarError: ⨥ not defined",
     "output_type": "error",
     "traceback": [
      "UndefVarError: ⨥ not defined",
      "",
      "Stacktrace:",
      " [1] top-level scope at In[73]:1"
     ]
    }
   ],
   "source": [
    "3 ⨥ 4"
   ]
  },
  {
   "cell_type": "code",
   "execution_count": 74,
   "metadata": {},
   "outputs": [
    {
     "data": {
      "text/plain": [
       "⨥ (generic function with 1 method)"
      ]
     },
     "execution_count": 74,
     "metadata": {},
     "output_type": "execute_result"
    }
   ],
   "source": [
    "⨥(a, b) = a + 2b"
   ]
  },
  {
   "cell_type": "code",
   "execution_count": 75,
   "metadata": {},
   "outputs": [
    {
     "data": {
      "text/plain": [
       "11"
      ]
     },
     "execution_count": 75,
     "metadata": {},
     "output_type": "execute_result"
    }
   ],
   "source": [
    "3 ⨥ 4"
   ]
  },
  {
   "cell_type": "code",
   "execution_count": 76,
   "metadata": {},
   "outputs": [
    {
     "data": {
      "text/plain": [
       "⛄ (generic function with 1 method)"
      ]
     },
     "execution_count": 76,
     "metadata": {},
     "output_type": "execute_result"
    }
   ],
   "source": [
    "⛄(a, b) = a + 2b"
   ]
  },
  {
   "cell_type": "code",
   "execution_count": 77,
   "metadata": {},
   "outputs": [
    {
     "data": {
      "text/plain": [
       "11"
      ]
     },
     "execution_count": 77,
     "metadata": {},
     "output_type": "execute_result"
    }
   ],
   "source": [
    "⛄(3, 4)"
   ]
  },
  {
   "cell_type": "code",
   "execution_count": 78,
   "metadata": {},
   "outputs": [
    {
     "data": {
      "text/plain": [
       "n1 (generic function with 1 method)"
      ]
     },
     "execution_count": 78,
     "metadata": {},
     "output_type": "execute_result"
    }
   ],
   "source": [
    "n1(N) = count(rand(1:6, N) .== 1)"
   ]
  },
  {
   "cell_type": "code",
   "execution_count": 85,
   "metadata": {},
   "outputs": [
    {
     "data": {
      "text/plain": [
       "100-element Array{Int64,1}:\n",
       " 0\n",
       " 0\n",
       " 0\n",
       " 0\n",
       " 0\n",
       " 0\n",
       " 0\n",
       " 0\n",
       " 3\n",
       " 5\n",
       " 7\n",
       " 5\n",
       " 6\n",
       " ⋮\n",
       " 0\n",
       " 0\n",
       " 0\n",
       " 0\n",
       " 0\n",
       " 0\n",
       " 0\n",
       " 0\n",
       " 0\n",
       " 0\n",
       " 0\n",
       " 0"
      ]
     },
     "execution_count": 85,
     "metadata": {},
     "output_type": "execute_result"
    }
   ],
   "source": [
    "N = 100 # number of die rolls\n",
    "num_experiments = 100 # repeat experiment:\n",
    "n1_data = [n1(N) for i in 1:num_experiments] \n",
    "counts = count_outcomes(n1_data, N)\n",
    "# better to use a Dict?\n"
   ]
  },
  {
   "cell_type": "code",
   "execution_count": 87,
   "metadata": {},
   "outputs": [
    {
     "data": {
      "application/vnd.webio.node+json": {
       "children": [
        {
         "children": [
          {
           "children": [
            {
             "children": [
              {
               "children": [
                {
                 "children": [
                  "N"
                 ],
                 "instanceArgs": {
                  "namespace": "html",
                  "tag": "label"
                 },
                 "nodeType": "DOM",
                 "props": {
                  "className": "interact ",
                  "style": {
                   "padding": "5px 10px 0px 10px"
                  }
                 },
                 "type": "node"
                }
               ],
               "instanceArgs": {
                "namespace": "html",
                "tag": "div"
               },
               "nodeType": "DOM",
               "props": {
                "className": "interact-flex-row-left"
               },
               "type": "node"
              },
              {
               "children": [
                {
                 "children": [],
                 "instanceArgs": {
                  "namespace": "html",
                  "tag": "input"
                 },
                 "nodeType": "DOM",
                 "props": {
                  "attributes": {
                   "data-bind": "numericValue: index, valueUpdate: 'input', event: {change: function (){this.changes(this.changes()+1)}}",
                   "orient": "horizontal",
                   "type": "range"
                  },
                  "className": "slider slider is-fullwidth",
                  "max": 100,
                  "min": 1,
                  "step": 1,
                  "style": {}
                 },
                 "type": "node"
                }
               ],
               "instanceArgs": {
                "namespace": "html",
                "tag": "div"
               },
               "nodeType": "DOM",
               "props": {
                "className": "interact-flex-row-center"
               },
               "type": "node"
              },
              {
               "children": [
                {
                 "children": [],
                 "instanceArgs": {
                  "namespace": "html",
                  "tag": "p"
                 },
                 "nodeType": "DOM",
                 "props": {
                  "attributes": {
                   "data-bind": "text: formatted_val"
                  }
                 },
                 "type": "node"
                }
               ],
               "instanceArgs": {
                "namespace": "html",
                "tag": "div"
               },
               "nodeType": "DOM",
               "props": {
                "className": "interact-flex-row-right"
               },
               "type": "node"
              }
             ],
             "instanceArgs": {
              "namespace": "html",
              "tag": "div"
             },
             "nodeType": "DOM",
             "props": {
              "className": "interact-flex-row interact-widget"
             },
             "type": "node"
            }
           ],
           "instanceArgs": {
            "handlers": {
             "changes": [
              "(function (val){return (val!=this.model[\"changes\"]()) ? (this.valueFromJulia[\"changes\"]=true, this.model[\"changes\"](val)) : undefined})"
             ],
             "index": [
              "(function (val){return (val!=this.model[\"index\"]()) ? (this.valueFromJulia[\"index\"]=true, this.model[\"index\"](val)) : undefined})"
             ]
            },
            "id": "5691111776126644276",
            "imports": {
             "data": [
              {
               "name": "knockout",
               "type": "js",
               "url": "/assetserver/9a186147d51179d2ec12ccfac1799b0b805a79d5-knockout.js"
              },
              {
               "name": "knockout_punches",
               "type": "js",
               "url": "/assetserver/eccef011301f679ebde0900f01478cac573870ce-knockout_punches.js"
              },
              {
               "name": null,
               "type": "js",
               "url": "/assetserver/5d2042c6908ffff0b7c8d26135740476bcf00827-all.js"
              },
              {
               "name": null,
               "type": "css",
               "url": "/assetserver/87ad319ae61de5d44f67c268a0a8f65862fca478-style.css"
              },
              {
               "name": null,
               "type": "css",
               "url": "/assetserver/9354074556c360cc537db1e8b0f0283e19c8ea9d-bulma_confined.min.css"
              }
             ],
             "type": "async_block"
            },
            "mount_callbacks": [
             "function () {\n    var handler = (function (ko, koPunches) {\n    ko.punches.enableAll();\n    ko.bindingHandlers.numericValue = {\n        init: function(element, valueAccessor, allBindings, data, context) {\n            var stringified = ko.observable(ko.unwrap(valueAccessor()));\n            stringified.subscribe(function(value) {\n                var val = parseFloat(value);\n                if (!isNaN(val)) {\n                    valueAccessor()(val);\n                }\n            });\n            valueAccessor().subscribe(function(value) {\n                var str = JSON.stringify(value);\n                if ((str == \"0\") && ([\"-0\", \"-0.\"].indexOf(stringified()) >= 0))\n                     return;\n                 if ([\"null\", \"\"].indexOf(str) >= 0)\n                     return;\n                stringified(str);\n            });\n            ko.applyBindingsToNode(\n                element,\n                {\n                    value: stringified,\n                    valueUpdate: allBindings.get('valueUpdate'),\n                },\n                context,\n            );\n        }\n    };\n    var json_data = {\"formatted_vals\":[\"1\",\"2\",\"3\",\"4\",\"5\",\"6\",\"7\",\"8\",\"9\",\"10\",\"11\",\"12\",\"13\",\"14\",\"15\",\"16\",\"17\",\"18\",\"19\",\"20\",\"21\",\"22\",\"23\",\"24\",\"25\",\"26\",\"27\",\"28\",\"29\",\"30\",\"31\",\"32\",\"33\",\"34\",\"35\",\"36\",\"37\",\"38\",\"39\",\"40\",\"41\",\"42\",\"43\",\"44\",\"45\",\"46\",\"47\",\"48\",\"49\",\"50\",\"51\",\"52\",\"53\",\"54\",\"55\",\"56\",\"57\",\"58\",\"59\",\"60\",\"61\",\"62\",\"63\",\"64\",\"65\",\"66\",\"67\",\"68\",\"69\",\"70\",\"71\",\"72\",\"73\",\"74\",\"75\",\"76\",\"77\",\"78\",\"79\",\"80\",\"81\",\"82\",\"83\",\"84\",\"85\",\"86\",\"87\",\"88\",\"89\",\"90\",\"91\",\"92\",\"93\",\"94\",\"95\",\"96\",\"97\",\"98\",\"99\",\"100\"],\"changes\":WebIO.getval({\"name\":\"changes\",\"scope\":\"5691111776126644276\",\"id\":\"ob_02\",\"type\":\"observable\"}),\"index\":WebIO.getval({\"name\":\"index\",\"scope\":\"5691111776126644276\",\"id\":\"ob_01\",\"type\":\"observable\"})};\n    var self = this;\n    function AppViewModel() {\n        for (var key in json_data) {\n            var el = json_data[key];\n            this[key] = Array.isArray(el) ? ko.observableArray(el) : ko.observable(el);\n        }\n        \n        [this[\"formatted_val\"]=ko.computed(    function(){\n        return this.formatted_vals()[parseInt(this.index())-(1)];\n    }\n,this)]\n        [this[\"changes\"].subscribe((function (val){!(this.valueFromJulia[\"changes\"]) ? (WebIO.setval({\"name\":\"changes\",\"scope\":\"5691111776126644276\",\"id\":\"ob_02\",\"type\":\"observable\"},val)) : undefined; return this.valueFromJulia[\"changes\"]=false}),self),this[\"index\"].subscribe((function (val){!(this.valueFromJulia[\"index\"]) ? (WebIO.setval({\"name\":\"index\",\"scope\":\"5691111776126644276\",\"id\":\"ob_01\",\"type\":\"observable\"},val)) : undefined; return this.valueFromJulia[\"index\"]=false}),self)]\n        \n    }\n    self.model = new AppViewModel();\n    self.valueFromJulia = {};\n    for (var key in json_data) {\n        self.valueFromJulia[key] = false;\n    }\n    ko.applyBindings(self.model, self.dom);\n}\n);\n    (WebIO.importBlock({\"data\":[{\"name\":\"knockout\",\"type\":\"js\",\"url\":\"/assetserver/9a186147d51179d2ec12ccfac1799b0b805a79d5-knockout.js\"},{\"name\":\"knockout_punches\",\"type\":\"js\",\"url\":\"/assetserver/eccef011301f679ebde0900f01478cac573870ce-knockout_punches.js\"}],\"type\":\"async_block\"})).then((imports) => handler.apply(this, imports));\n}\n"
            ],
            "observables": {
             "changes": {
              "id": "ob_02",
              "sync": false,
              "value": 0
             },
             "index": {
              "id": "ob_01",
              "sync": true,
              "value": 50
             }
            },
            "systemjs_options": null
           },
           "nodeType": "Scope",
           "props": {},
           "type": "node"
          }
         ],
         "instanceArgs": {
          "namespace": "html",
          "tag": "div"
         },
         "nodeType": "DOM",
         "props": {
          "className": "field interact-widget"
         },
         "type": "node"
        },
        {
         "children": [
          {
           "children": [
            {
             "children": [
              {
               "children": [
                {
                 "children": [
                  "num_experiments"
                 ],
                 "instanceArgs": {
                  "namespace": "html",
                  "tag": "label"
                 },
                 "nodeType": "DOM",
                 "props": {
                  "className": "interact ",
                  "style": {
                   "padding": "5px 10px 0px 10px"
                  }
                 },
                 "type": "node"
                }
               ],
               "instanceArgs": {
                "namespace": "html",
                "tag": "div"
               },
               "nodeType": "DOM",
               "props": {
                "className": "interact-flex-row-left"
               },
               "type": "node"
              },
              {
               "children": [
                {
                 "children": [],
                 "instanceArgs": {
                  "namespace": "html",
                  "tag": "input"
                 },
                 "nodeType": "DOM",
                 "props": {
                  "attributes": {
                   "data-bind": "numericValue: index, valueUpdate: 'input', event: {change: function (){this.changes(this.changes()+1)}}",
                   "orient": "horizontal",
                   "type": "range"
                  },
                  "className": "slider slider is-fullwidth",
                  "max": 100,
                  "min": 1,
                  "step": 1,
                  "style": {}
                 },
                 "type": "node"
                }
               ],
               "instanceArgs": {
                "namespace": "html",
                "tag": "div"
               },
               "nodeType": "DOM",
               "props": {
                "className": "interact-flex-row-center"
               },
               "type": "node"
              },
              {
               "children": [
                {
                 "children": [],
                 "instanceArgs": {
                  "namespace": "html",
                  "tag": "p"
                 },
                 "nodeType": "DOM",
                 "props": {
                  "attributes": {
                   "data-bind": "text: formatted_val"
                  }
                 },
                 "type": "node"
                }
               ],
               "instanceArgs": {
                "namespace": "html",
                "tag": "div"
               },
               "nodeType": "DOM",
               "props": {
                "className": "interact-flex-row-right"
               },
               "type": "node"
              }
             ],
             "instanceArgs": {
              "namespace": "html",
              "tag": "div"
             },
             "nodeType": "DOM",
             "props": {
              "className": "interact-flex-row interact-widget"
             },
             "type": "node"
            }
           ],
           "instanceArgs": {
            "handlers": {
             "changes": [
              "(function (val){return (val!=this.model[\"changes\"]()) ? (this.valueFromJulia[\"changes\"]=true, this.model[\"changes\"](val)) : undefined})"
             ],
             "index": [
              "(function (val){return (val!=this.model[\"index\"]()) ? (this.valueFromJulia[\"index\"]=true, this.model[\"index\"](val)) : undefined})"
             ]
            },
            "id": "17592105006256129576",
            "imports": {
             "data": [
              {
               "name": "knockout",
               "type": "js",
               "url": "/assetserver/9a186147d51179d2ec12ccfac1799b0b805a79d5-knockout.js"
              },
              {
               "name": "knockout_punches",
               "type": "js",
               "url": "/assetserver/eccef011301f679ebde0900f01478cac573870ce-knockout_punches.js"
              },
              {
               "name": null,
               "type": "js",
               "url": "/assetserver/5d2042c6908ffff0b7c8d26135740476bcf00827-all.js"
              },
              {
               "name": null,
               "type": "css",
               "url": "/assetserver/87ad319ae61de5d44f67c268a0a8f65862fca478-style.css"
              },
              {
               "name": null,
               "type": "css",
               "url": "/assetserver/9354074556c360cc537db1e8b0f0283e19c8ea9d-bulma_confined.min.css"
              }
             ],
             "type": "async_block"
            },
            "mount_callbacks": [
             "function () {\n    var handler = (function (ko, koPunches) {\n    ko.punches.enableAll();\n    ko.bindingHandlers.numericValue = {\n        init: function(element, valueAccessor, allBindings, data, context) {\n            var stringified = ko.observable(ko.unwrap(valueAccessor()));\n            stringified.subscribe(function(value) {\n                var val = parseFloat(value);\n                if (!isNaN(val)) {\n                    valueAccessor()(val);\n                }\n            });\n            valueAccessor().subscribe(function(value) {\n                var str = JSON.stringify(value);\n                if ((str == \"0\") && ([\"-0\", \"-0.\"].indexOf(stringified()) >= 0))\n                     return;\n                 if ([\"null\", \"\"].indexOf(str) >= 0)\n                     return;\n                stringified(str);\n            });\n            ko.applyBindingsToNode(\n                element,\n                {\n                    value: stringified,\n                    valueUpdate: allBindings.get('valueUpdate'),\n                },\n                context,\n            );\n        }\n    };\n    var json_data = {\"formatted_vals\":[\"1\",\"2\",\"3\",\"4\",\"5\",\"6\",\"7\",\"8\",\"9\",\"10\",\"11\",\"12\",\"13\",\"14\",\"15\",\"16\",\"17\",\"18\",\"19\",\"20\",\"21\",\"22\",\"23\",\"24\",\"25\",\"26\",\"27\",\"28\",\"29\",\"30\",\"31\",\"32\",\"33\",\"34\",\"35\",\"36\",\"37\",\"38\",\"39\",\"40\",\"41\",\"42\",\"43\",\"44\",\"45\",\"46\",\"47\",\"48\",\"49\",\"50\",\"51\",\"52\",\"53\",\"54\",\"55\",\"56\",\"57\",\"58\",\"59\",\"60\",\"61\",\"62\",\"63\",\"64\",\"65\",\"66\",\"67\",\"68\",\"69\",\"70\",\"71\",\"72\",\"73\",\"74\",\"75\",\"76\",\"77\",\"78\",\"79\",\"80\",\"81\",\"82\",\"83\",\"84\",\"85\",\"86\",\"87\",\"88\",\"89\",\"90\",\"91\",\"92\",\"93\",\"94\",\"95\",\"96\",\"97\",\"98\",\"99\",\"100\"],\"changes\":WebIO.getval({\"name\":\"changes\",\"scope\":\"17592105006256129576\",\"id\":\"ob_04\",\"type\":\"observable\"}),\"index\":WebIO.getval({\"name\":\"index\",\"scope\":\"17592105006256129576\",\"id\":\"ob_03\",\"type\":\"observable\"})};\n    var self = this;\n    function AppViewModel() {\n        for (var key in json_data) {\n            var el = json_data[key];\n            this[key] = Array.isArray(el) ? ko.observableArray(el) : ko.observable(el);\n        }\n        \n        [this[\"formatted_val\"]=ko.computed(    function(){\n        return this.formatted_vals()[parseInt(this.index())-(1)];\n    }\n,this)]\n        [this[\"changes\"].subscribe((function (val){!(this.valueFromJulia[\"changes\"]) ? (WebIO.setval({\"name\":\"changes\",\"scope\":\"17592105006256129576\",\"id\":\"ob_04\",\"type\":\"observable\"},val)) : undefined; return this.valueFromJulia[\"changes\"]=false}),self),this[\"index\"].subscribe((function (val){!(this.valueFromJulia[\"index\"]) ? (WebIO.setval({\"name\":\"index\",\"scope\":\"17592105006256129576\",\"id\":\"ob_03\",\"type\":\"observable\"},val)) : undefined; return this.valueFromJulia[\"index\"]=false}),self)]\n        \n    }\n    self.model = new AppViewModel();\n    self.valueFromJulia = {};\n    for (var key in json_data) {\n        self.valueFromJulia[key] = false;\n    }\n    ko.applyBindings(self.model, self.dom);\n}\n);\n    (WebIO.importBlock({\"data\":[{\"name\":\"knockout\",\"type\":\"js\",\"url\":\"/assetserver/9a186147d51179d2ec12ccfac1799b0b805a79d5-knockout.js\"},{\"name\":\"knockout_punches\",\"type\":\"js\",\"url\":\"/assetserver/eccef011301f679ebde0900f01478cac573870ce-knockout_punches.js\"}],\"type\":\"async_block\"})).then((imports) => handler.apply(this, imports));\n}\n"
            ],
            "observables": {
             "changes": {
              "id": "ob_04",
              "sync": false,
              "value": 0
             },
             "index": {
              "id": "ob_03",
              "sync": true,
              "value": 50
             }
            },
            "systemjs_options": null
           },
           "nodeType": "Scope",
           "props": {},
           "type": "node"
          }
         ],
         "instanceArgs": {
          "namespace": "html",
          "tag": "div"
         },
         "nodeType": "DOM",
         "props": {
          "className": "field interact-widget"
         },
         "type": "node"
        },
        {
         "children": [
          {
           "children": [],
           "instanceArgs": {
            "id": "ob_10",
            "name": "obs-node"
           },
           "nodeType": "ObservableNode",
           "props": {},
           "type": "node"
          }
         ],
         "instanceArgs": {
          "handlers": {},
          "id": "10597171500492989158",
          "imports": {
           "data": [],
           "type": "async_block"
          },
          "mount_callbacks": [],
          "observables": {
           "obs-node": {
            "id": "ob_10",
            "sync": false,
            "value": {
             "children": [
              {
               "children": [],
               "instanceArgs": {
                "namespace": "html",
                "tag": "div"
               },
               "nodeType": "DOM",
               "props": {
                "setInnerHtml": "<?xml version=\"1.0\" encoding=\"utf-8\"?>\n<svg xmlns=\"http://www.w3.org/2000/svg\" xmlns:xlink=\"http://www.w3.org/1999/xlink\" width=\"600\" height=\"400\" viewBox=\"0 0 2400 1600\">\n<defs>\n  <clipPath id=\"clip8400\">\n    <rect x=\"0\" y=\"0\" width=\"2400\" height=\"1600\"/>\n  </clipPath>\n</defs>\n<path clip-path=\"url(#clip8400)\" d=\"\nM0 1600 L2400 1600 L2400 0 L0 0  Z\n  \" fill=\"#ffffff\" fill-rule=\"evenodd\" fill-opacity=\"1\"/>\n<defs>\n  <clipPath id=\"clip8401\">\n    <rect x=\"480\" y=\"0\" width=\"1681\" height=\"1600\"/>\n  </clipPath>\n</defs>\n<path clip-path=\"url(#clip8400)\" d=\"\nM180.66 1487.47 L2352.76 1487.47 L2352.76 47.2441 L180.66 47.2441  Z\n  \" fill=\"#ffffff\" fill-rule=\"evenodd\" fill-opacity=\"1\"/>\n<defs>\n  <clipPath id=\"clip8402\">\n    <rect x=\"180\" y=\"47\" width=\"2173\" height=\"1441\"/>\n  </clipPath>\n</defs>\n<polyline clip-path=\"url(#clip8402)\" style=\"stroke:#000000; stroke-width:2; stroke-opacity:0.1; fill:none\" points=\"\n  276.838,1487.47 276.838,47.2441 \n  \"/>\n<polyline clip-path=\"url(#clip8402)\" style=\"stroke:#000000; stroke-width:2; stroke-opacity:0.1; fill:none\" points=\"\n  665.023,1487.47 665.023,47.2441 \n  \"/>\n<polyline clip-path=\"url(#clip8402)\" style=\"stroke:#000000; stroke-width:2; stroke-opacity:0.1; fill:none\" points=\"\n  1053.21,1487.47 1053.21,47.2441 \n  \"/>\n<polyline clip-path=\"url(#clip8402)\" style=\"stroke:#000000; stroke-width:2; stroke-opacity:0.1; fill:none\" points=\"\n  1441.39,1487.47 1441.39,47.2441 \n  \"/>\n<polyline clip-path=\"url(#clip8402)\" style=\"stroke:#000000; stroke-width:2; stroke-opacity:0.1; fill:none\" points=\"\n  1829.58,1487.47 1829.58,47.2441 \n  \"/>\n<polyline clip-path=\"url(#clip8402)\" style=\"stroke:#000000; stroke-width:2; stroke-opacity:0.1; fill:none\" points=\"\n  2217.76,1487.47 2217.76,47.2441 \n  \"/>\n<polyline clip-path=\"url(#clip8402)\" style=\"stroke:#000000; stroke-width:2; stroke-opacity:0.1; fill:none\" points=\"\n  180.66,1446.71 2352.76,1446.71 \n  \"/>\n<polyline clip-path=\"url(#clip8402)\" style=\"stroke:#000000; stroke-width:2; stroke-opacity:0.1; fill:none\" points=\"\n  180.66,1163.65 2352.76,1163.65 \n  \"/>\n<polyline clip-path=\"url(#clip8402)\" style=\"stroke:#000000; stroke-width:2; stroke-opacity:0.1; fill:none\" points=\"\n  180.66,880.585 2352.76,880.585 \n  \"/>\n<polyline clip-path=\"url(#clip8402)\" style=\"stroke:#000000; stroke-width:2; stroke-opacity:0.1; fill:none\" points=\"\n  180.66,597.521 2352.76,597.521 \n  \"/>\n<polyline clip-path=\"url(#clip8402)\" style=\"stroke:#000000; stroke-width:2; stroke-opacity:0.1; fill:none\" points=\"\n  180.66,314.457 2352.76,314.457 \n  \"/>\n<polyline clip-path=\"url(#clip8400)\" style=\"stroke:#000000; stroke-width:4; stroke-opacity:1; fill:none\" points=\"\n  180.66,1487.47 2352.76,1487.47 \n  \"/>\n<polyline clip-path=\"url(#clip8400)\" style=\"stroke:#000000; stroke-width:4; stroke-opacity:1; fill:none\" points=\"\n  180.66,1487.47 180.66,47.2441 \n  \"/>\n<polyline clip-path=\"url(#clip8400)\" style=\"stroke:#000000; stroke-width:4; stroke-opacity:1; fill:none\" points=\"\n  276.838,1487.47 276.838,1465.87 \n  \"/>\n<polyline clip-path=\"url(#clip8400)\" style=\"stroke:#000000; stroke-width:4; stroke-opacity:1; fill:none\" points=\"\n  665.023,1487.47 665.023,1465.87 \n  \"/>\n<polyline clip-path=\"url(#clip8400)\" style=\"stroke:#000000; stroke-width:4; stroke-opacity:1; fill:none\" points=\"\n  1053.21,1487.47 1053.21,1465.87 \n  \"/>\n<polyline clip-path=\"url(#clip8400)\" style=\"stroke:#000000; stroke-width:4; stroke-opacity:1; fill:none\" points=\"\n  1441.39,1487.47 1441.39,1465.87 \n  \"/>\n<polyline clip-path=\"url(#clip8400)\" style=\"stroke:#000000; stroke-width:4; stroke-opacity:1; fill:none\" points=\"\n  1829.58,1487.47 1829.58,1465.87 \n  \"/>\n<polyline clip-path=\"url(#clip8400)\" style=\"stroke:#000000; stroke-width:4; stroke-opacity:1; fill:none\" points=\"\n  2217.76,1487.47 2217.76,1465.87 \n  \"/>\n<polyline clip-path=\"url(#clip8400)\" style=\"stroke:#000000; stroke-width:4; stroke-opacity:1; fill:none\" points=\"\n  180.66,1446.71 213.242,1446.71 \n  \"/>\n<polyline clip-path=\"url(#clip8400)\" style=\"stroke:#000000; stroke-width:4; stroke-opacity:1; fill:none\" points=\"\n  180.66,1163.65 213.242,1163.65 \n  \"/>\n<polyline clip-path=\"url(#clip8400)\" style=\"stroke:#000000; stroke-width:4; stroke-opacity:1; fill:none\" points=\"\n  180.66,880.585 213.242,880.585 \n  \"/>\n<polyline clip-path=\"url(#clip8400)\" style=\"stroke:#000000; stroke-width:4; stroke-opacity:1; fill:none\" points=\"\n  180.66,597.521 213.242,597.521 \n  \"/>\n<polyline clip-path=\"url(#clip8400)\" style=\"stroke:#000000; stroke-width:4; stroke-opacity:1; fill:none\" points=\"\n  180.66,314.457 213.242,314.457 \n  \"/>\n<g clip-path=\"url(#clip8400)\">\n<text style=\"fill:#000000; fill-opacity:1; font-family:Arial,Helvetica Neue,Helvetica,sans-serif; font-size:48px; text-anchor:middle;\" transform=\"rotate(0, 276.838, 1541.47)\" x=\"276.838\" y=\"1541.47\">0</text>\n</g>\n<g clip-path=\"url(#clip8400)\">\n<text style=\"fill:#000000; fill-opacity:1; font-family:Arial,Helvetica Neue,Helvetica,sans-serif; font-size:48px; text-anchor:middle;\" transform=\"rotate(0, 665.023, 1541.47)\" x=\"665.023\" y=\"1541.47\">10</text>\n</g>\n<g clip-path=\"url(#clip8400)\">\n<text style=\"fill:#000000; fill-opacity:1; font-family:Arial,Helvetica Neue,Helvetica,sans-serif; font-size:48px; text-anchor:middle;\" transform=\"rotate(0, 1053.21, 1541.47)\" x=\"1053.21\" y=\"1541.47\">20</text>\n</g>\n<g clip-path=\"url(#clip8400)\">\n<text style=\"fill:#000000; fill-opacity:1; font-family:Arial,Helvetica Neue,Helvetica,sans-serif; font-size:48px; text-anchor:middle;\" transform=\"rotate(0, 1441.39, 1541.47)\" x=\"1441.39\" y=\"1541.47\">30</text>\n</g>\n<g clip-path=\"url(#clip8400)\">\n<text style=\"fill:#000000; fill-opacity:1; font-family:Arial,Helvetica Neue,Helvetica,sans-serif; font-size:48px; text-anchor:middle;\" transform=\"rotate(0, 1829.58, 1541.47)\" x=\"1829.58\" y=\"1541.47\">40</text>\n</g>\n<g clip-path=\"url(#clip8400)\">\n<text style=\"fill:#000000; fill-opacity:1; font-family:Arial,Helvetica Neue,Helvetica,sans-serif; font-size:48px; text-anchor:middle;\" transform=\"rotate(0, 2217.76, 1541.47)\" x=\"2217.76\" y=\"1541.47\">50</text>\n</g>\n<g clip-path=\"url(#clip8400)\">\n<text style=\"fill:#000000; fill-opacity:1; font-family:Arial,Helvetica Neue,Helvetica,sans-serif; font-size:48px; text-anchor:end;\" transform=\"rotate(0, 156.66, 1464.21)\" x=\"156.66\" y=\"1464.21\">0.0</text>\n</g>\n<g clip-path=\"url(#clip8400)\">\n<text style=\"fill:#000000; fill-opacity:1; font-family:Arial,Helvetica Neue,Helvetica,sans-serif; font-size:48px; text-anchor:end;\" transform=\"rotate(0, 156.66, 1181.15)\" x=\"156.66\" y=\"1181.15\">2.5</text>\n</g>\n<g clip-path=\"url(#clip8400)\">\n<text style=\"fill:#000000; fill-opacity:1; font-family:Arial,Helvetica Neue,Helvetica,sans-serif; font-size:48px; text-anchor:end;\" transform=\"rotate(0, 156.66, 898.085)\" x=\"156.66\" y=\"898.085\">5.0</text>\n</g>\n<g clip-path=\"url(#clip8400)\">\n<text style=\"fill:#000000; fill-opacity:1; font-family:Arial,Helvetica Neue,Helvetica,sans-serif; font-size:48px; text-anchor:end;\" transform=\"rotate(0, 156.66, 615.021)\" x=\"156.66\" y=\"615.021\">7.5</text>\n</g>\n<g clip-path=\"url(#clip8400)\">\n<text style=\"fill:#000000; fill-opacity:1; font-family:Arial,Helvetica Neue,Helvetica,sans-serif; font-size:48px; text-anchor:end;\" transform=\"rotate(0, 156.66, 331.957)\" x=\"156.66\" y=\"331.957\">10.0</text>\n</g>\n<path clip-path=\"url(#clip8402)\" d=\"\nM300.129 1446.71 L300.129 1446.71 L331.184 1446.71 L331.184 1446.71 L300.129 1446.71 L300.129 1446.71  Z\n  \" fill=\"#009af9\" fill-rule=\"evenodd\" fill-opacity=\"1\"/>\n<polyline clip-path=\"url(#clip8402)\" style=\"stroke:#000000; stroke-width:4; stroke-opacity:1; fill:none\" points=\"\n  300.129,1446.71 300.129,1446.71 331.184,1446.71 300.129,1446.71 \n  \"/>\n<path clip-path=\"url(#clip8402)\" d=\"\nM338.948 1446.71 L338.948 1446.71 L370.003 1446.71 L370.003 1446.71 L338.948 1446.71 L338.948 1446.71  Z\n  \" fill=\"#009af9\" fill-rule=\"evenodd\" fill-opacity=\"1\"/>\n<polyline clip-path=\"url(#clip8402)\" style=\"stroke:#000000; stroke-width:4; stroke-opacity:1; fill:none\" points=\"\n  338.948,1446.71 338.948,1446.71 370.003,1446.71 338.948,1446.71 \n  \"/>\n<path clip-path=\"url(#clip8402)\" d=\"\nM377.766 1446.71 L377.766 1446.71 L408.821 1446.71 L408.821 1446.71 L377.766 1446.71 L377.766 1446.71  Z\n  \" fill=\"#009af9\" fill-rule=\"evenodd\" fill-opacity=\"1\"/>\n<polyline clip-path=\"url(#clip8402)\" style=\"stroke:#000000; stroke-width:4; stroke-opacity:1; fill:none\" points=\"\n  377.766,1446.71 377.766,1446.71 408.821,1446.71 377.766,1446.71 \n  \"/>\n<path clip-path=\"url(#clip8402)\" d=\"\nM416.585 1446.71 L416.585 1446.71 L447.639 1446.71 L447.639 1446.71 L416.585 1446.71 L416.585 1446.71  Z\n  \" fill=\"#009af9\" fill-rule=\"evenodd\" fill-opacity=\"1\"/>\n<polyline clip-path=\"url(#clip8402)\" style=\"stroke:#000000; stroke-width:4; stroke-opacity:1; fill:none\" points=\"\n  416.585,1446.71 416.585,1446.71 447.639,1446.71 416.585,1446.71 \n  \"/>\n<path clip-path=\"url(#clip8402)\" d=\"\nM455.403 1107.04 L455.403 1446.71 L486.458 1446.71 L486.458 1107.04 L455.403 1107.04 L455.403 1107.04  Z\n  \" fill=\"#009af9\" fill-rule=\"evenodd\" fill-opacity=\"1\"/>\n<polyline clip-path=\"url(#clip8402)\" style=\"stroke:#000000; stroke-width:4; stroke-opacity:1; fill:none\" points=\"\n  455.403,1107.04 455.403,1446.71 486.458,1446.71 486.458,1107.04 455.403,1107.04 \n  \"/>\n<path clip-path=\"url(#clip8402)\" d=\"\nM494.222 767.359 L494.222 1446.71 L525.276 1446.71 L525.276 767.359 L494.222 767.359 L494.222 767.359  Z\n  \" fill=\"#009af9\" fill-rule=\"evenodd\" fill-opacity=\"1\"/>\n<polyline clip-path=\"url(#clip8402)\" style=\"stroke:#000000; stroke-width:4; stroke-opacity:1; fill:none\" points=\"\n  494.222,767.359 494.222,1446.71 525.276,1446.71 525.276,767.359 494.222,767.359 \n  \"/>\n<path clip-path=\"url(#clip8402)\" d=\"\nM533.04 88.0053 L533.04 1446.71 L564.095 1446.71 L564.095 88.0053 L533.04 88.0053 L533.04 88.0053  Z\n  \" fill=\"#009af9\" fill-rule=\"evenodd\" fill-opacity=\"1\"/>\n<polyline clip-path=\"url(#clip8402)\" style=\"stroke:#000000; stroke-width:4; stroke-opacity:1; fill:none\" points=\"\n  533.04,88.0053 533.04,1446.71 564.095,1446.71 564.095,88.0053 533.04,88.0053 \n  \"/>\n<path clip-path=\"url(#clip8402)\" d=\"\nM571.858 767.359 L571.858 1446.71 L602.913 1446.71 L602.913 767.359 L571.858 767.359 L571.858 767.359  Z\n  \" fill=\"#009af9\" fill-rule=\"evenodd\" fill-opacity=\"1\"/>\n<polyline clip-path=\"url(#clip8402)\" style=\"stroke:#000000; stroke-width:4; stroke-opacity:1; fill:none\" points=\"\n  571.858,767.359 571.858,1446.71 602.913,1446.71 602.913,767.359 571.858,767.359 \n  \"/>\n<path clip-path=\"url(#clip8402)\" d=\"\nM610.677 767.359 L610.677 1446.71 L641.732 1446.71 L641.732 767.359 L610.677 767.359 L610.677 767.359  Z\n  \" fill=\"#009af9\" fill-rule=\"evenodd\" fill-opacity=\"1\"/>\n<polyline clip-path=\"url(#clip8402)\" style=\"stroke:#000000; stroke-width:4; stroke-opacity:1; fill:none\" points=\"\n  610.677,767.359 610.677,1446.71 641.732,1446.71 641.732,767.359 610.677,767.359 \n  \"/>\n<path clip-path=\"url(#clip8402)\" d=\"\nM649.495 1107.04 L649.495 1446.71 L680.55 1446.71 L680.55 1107.04 L649.495 1107.04 L649.495 1107.04  Z\n  \" fill=\"#009af9\" fill-rule=\"evenodd\" fill-opacity=\"1\"/>\n<polyline clip-path=\"url(#clip8402)\" style=\"stroke:#000000; stroke-width:4; stroke-opacity:1; fill:none\" points=\"\n  649.495,1107.04 649.495,1446.71 680.55,1446.71 680.55,1107.04 649.495,1107.04 \n  \"/>\n<path clip-path=\"url(#clip8402)\" d=\"\nM688.314 654.134 L688.314 1446.71 L719.368 1446.71 L719.368 654.134 L688.314 654.134 L688.314 654.134  Z\n  \" fill=\"#009af9\" fill-rule=\"evenodd\" fill-opacity=\"1\"/>\n<polyline clip-path=\"url(#clip8402)\" style=\"stroke:#000000; stroke-width:4; stroke-opacity:1; fill:none\" points=\"\n  688.314,654.134 688.314,1446.71 719.368,1446.71 719.368,654.134 688.314,654.134 \n  \"/>\n<path clip-path=\"url(#clip8402)\" d=\"\nM727.132 1107.04 L727.132 1446.71 L758.187 1446.71 L758.187 1107.04 L727.132 1107.04 L727.132 1107.04  Z\n  \" fill=\"#009af9\" fill-rule=\"evenodd\" fill-opacity=\"1\"/>\n<polyline clip-path=\"url(#clip8402)\" style=\"stroke:#000000; stroke-width:4; stroke-opacity:1; fill:none\" points=\"\n  727.132,1107.04 727.132,1446.71 758.187,1446.71 758.187,1107.04 727.132,1107.04 \n  \"/>\n<path clip-path=\"url(#clip8402)\" d=\"\nM765.95 1107.04 L765.95 1446.71 L797.005 1446.71 L797.005 1107.04 L765.95 1107.04 L765.95 1107.04  Z\n  \" fill=\"#009af9\" fill-rule=\"evenodd\" fill-opacity=\"1\"/>\n<polyline clip-path=\"url(#clip8402)\" style=\"stroke:#000000; stroke-width:4; stroke-opacity:1; fill:none\" points=\"\n  765.95,1107.04 765.95,1446.71 797.005,1446.71 797.005,1107.04 765.95,1107.04 \n  \"/>\n<path clip-path=\"url(#clip8402)\" d=\"\nM804.769 1446.71 L804.769 1446.71 L835.824 1446.71 L835.824 1446.71 L804.769 1446.71 L804.769 1446.71  Z\n  \" fill=\"#009af9\" fill-rule=\"evenodd\" fill-opacity=\"1\"/>\n<polyline clip-path=\"url(#clip8402)\" style=\"stroke:#000000; stroke-width:4; stroke-opacity:1; fill:none\" points=\"\n  804.769,1446.71 804.769,1446.71 835.824,1446.71 804.769,1446.71 \n  \"/>\n<path clip-path=\"url(#clip8402)\" d=\"\nM843.587 1333.49 L843.587 1446.71 L874.642 1446.71 L874.642 1333.49 L843.587 1333.49 L843.587 1333.49  Z\n  \" fill=\"#009af9\" fill-rule=\"evenodd\" fill-opacity=\"1\"/>\n<polyline clip-path=\"url(#clip8402)\" style=\"stroke:#000000; stroke-width:4; stroke-opacity:1; fill:none\" points=\"\n  843.587,1333.49 843.587,1446.71 874.642,1446.71 874.642,1333.49 843.587,1333.49 \n  \"/>\n<path clip-path=\"url(#clip8402)\" d=\"\nM882.406 1446.71 L882.406 1446.71 L913.46 1446.71 L913.46 1446.71 L882.406 1446.71 L882.406 1446.71  Z\n  \" fill=\"#009af9\" fill-rule=\"evenodd\" fill-opacity=\"1\"/>\n<polyline clip-path=\"url(#clip8402)\" style=\"stroke:#000000; stroke-width:4; stroke-opacity:1; fill:none\" points=\"\n  882.406,1446.71 882.406,1446.71 913.46,1446.71 882.406,1446.71 \n  \"/>\n<path clip-path=\"url(#clip8402)\" d=\"\nM921.224 1446.71 L921.224 1446.71 L952.279 1446.71 L952.279 1446.71 L921.224 1446.71 L921.224 1446.71  Z\n  \" fill=\"#009af9\" fill-rule=\"evenodd\" fill-opacity=\"1\"/>\n<polyline clip-path=\"url(#clip8402)\" style=\"stroke:#000000; stroke-width:4; stroke-opacity:1; fill:none\" points=\"\n  921.224,1446.71 921.224,1446.71 952.279,1446.71 921.224,1446.71 \n  \"/>\n<path clip-path=\"url(#clip8402)\" d=\"\nM960.043 1446.71 L960.043 1446.71 L991.097 1446.71 L991.097 1446.71 L960.043 1446.71 L960.043 1446.71  Z\n  \" fill=\"#009af9\" fill-rule=\"evenodd\" fill-opacity=\"1\"/>\n<polyline clip-path=\"url(#clip8402)\" style=\"stroke:#000000; stroke-width:4; stroke-opacity:1; fill:none\" points=\"\n  960.043,1446.71 960.043,1446.71 991.097,1446.71 960.043,1446.71 \n  \"/>\n<path clip-path=\"url(#clip8402)\" d=\"\nM998.861 1446.71 L998.861 1446.71 L1029.92 1446.71 L1029.92 1446.71 L998.861 1446.71 L998.861 1446.71  Z\n  \" fill=\"#009af9\" fill-rule=\"evenodd\" fill-opacity=\"1\"/>\n<polyline clip-path=\"url(#clip8402)\" style=\"stroke:#000000; stroke-width:4; stroke-opacity:1; fill:none\" points=\"\n  998.861,1446.71 998.861,1446.71 1029.92,1446.71 998.861,1446.71 \n  \"/>\n<path clip-path=\"url(#clip8402)\" d=\"\nM1037.68 1446.71 L1037.68 1446.71 L1068.73 1446.71 L1068.73 1446.71 L1037.68 1446.71 L1037.68 1446.71  Z\n  \" fill=\"#009af9\" fill-rule=\"evenodd\" fill-opacity=\"1\"/>\n<polyline clip-path=\"url(#clip8402)\" style=\"stroke:#000000; stroke-width:4; stroke-opacity:1; fill:none\" points=\"\n  1037.68,1446.71 1037.68,1446.71 1068.73,1446.71 1037.68,1446.71 \n  \"/>\n<path clip-path=\"url(#clip8402)\" d=\"\nM1076.5 1446.71 L1076.5 1446.71 L1107.55 1446.71 L1107.55 1446.71 L1076.5 1446.71 L1076.5 1446.71  Z\n  \" fill=\"#009af9\" fill-rule=\"evenodd\" fill-opacity=\"1\"/>\n<polyline clip-path=\"url(#clip8402)\" style=\"stroke:#000000; stroke-width:4; stroke-opacity:1; fill:none\" points=\"\n  1076.5,1446.71 1076.5,1446.71 1107.55,1446.71 1076.5,1446.71 \n  \"/>\n<path clip-path=\"url(#clip8402)\" d=\"\nM1115.32 1446.71 L1115.32 1446.71 L1146.37 1446.71 L1146.37 1446.71 L1115.32 1446.71 L1115.32 1446.71  Z\n  \" fill=\"#009af9\" fill-rule=\"evenodd\" fill-opacity=\"1\"/>\n<polyline clip-path=\"url(#clip8402)\" style=\"stroke:#000000; stroke-width:4; stroke-opacity:1; fill:none\" points=\"\n  1115.32,1446.71 1115.32,1446.71 1146.37,1446.71 1115.32,1446.71 \n  \"/>\n<path clip-path=\"url(#clip8402)\" d=\"\nM1154.13 1446.71 L1154.13 1446.71 L1185.19 1446.71 L1185.19 1446.71 L1154.13 1446.71 L1154.13 1446.71  Z\n  \" fill=\"#009af9\" fill-rule=\"evenodd\" fill-opacity=\"1\"/>\n<polyline clip-path=\"url(#clip8402)\" style=\"stroke:#000000; stroke-width:4; stroke-opacity:1; fill:none\" points=\"\n  1154.13,1446.71 1154.13,1446.71 1185.19,1446.71 1154.13,1446.71 \n  \"/>\n<path clip-path=\"url(#clip8402)\" d=\"\nM1192.95 1446.71 L1192.95 1446.71 L1224.01 1446.71 L1224.01 1446.71 L1192.95 1446.71 L1192.95 1446.71  Z\n  \" fill=\"#009af9\" fill-rule=\"evenodd\" fill-opacity=\"1\"/>\n<polyline clip-path=\"url(#clip8402)\" style=\"stroke:#000000; stroke-width:4; stroke-opacity:1; fill:none\" points=\"\n  1192.95,1446.71 1192.95,1446.71 1224.01,1446.71 1192.95,1446.71 \n  \"/>\n<path clip-path=\"url(#clip8402)\" d=\"\nM1231.77 1446.71 L1231.77 1446.71 L1262.83 1446.71 L1262.83 1446.71 L1231.77 1446.71 L1231.77 1446.71  Z\n  \" fill=\"#009af9\" fill-rule=\"evenodd\" fill-opacity=\"1\"/>\n<polyline clip-path=\"url(#clip8402)\" style=\"stroke:#000000; stroke-width:4; stroke-opacity:1; fill:none\" points=\"\n  1231.77,1446.71 1231.77,1446.71 1262.83,1446.71 1231.77,1446.71 \n  \"/>\n<path clip-path=\"url(#clip8402)\" d=\"\nM1270.59 1446.71 L1270.59 1446.71 L1301.64 1446.71 L1301.64 1446.71 L1270.59 1446.71 L1270.59 1446.71  Z\n  \" fill=\"#009af9\" fill-rule=\"evenodd\" fill-opacity=\"1\"/>\n<polyline clip-path=\"url(#clip8402)\" style=\"stroke:#000000; stroke-width:4; stroke-opacity:1; fill:none\" points=\"\n  1270.59,1446.71 1270.59,1446.71 1301.64,1446.71 1270.59,1446.71 \n  \"/>\n<path clip-path=\"url(#clip8402)\" d=\"\nM1309.41 1446.71 L1309.41 1446.71 L1340.46 1446.71 L1340.46 1446.71 L1309.41 1446.71 L1309.41 1446.71  Z\n  \" fill=\"#009af9\" fill-rule=\"evenodd\" fill-opacity=\"1\"/>\n<polyline clip-path=\"url(#clip8402)\" style=\"stroke:#000000; stroke-width:4; stroke-opacity:1; fill:none\" points=\"\n  1309.41,1446.71 1309.41,1446.71 1340.46,1446.71 1309.41,1446.71 \n  \"/>\n<path clip-path=\"url(#clip8402)\" d=\"\nM1348.23 1446.71 L1348.23 1446.71 L1379.28 1446.71 L1379.28 1446.71 L1348.23 1446.71 L1348.23 1446.71  Z\n  \" fill=\"#009af9\" fill-rule=\"evenodd\" fill-opacity=\"1\"/>\n<polyline clip-path=\"url(#clip8402)\" style=\"stroke:#000000; stroke-width:4; stroke-opacity:1; fill:none\" points=\"\n  1348.23,1446.71 1348.23,1446.71 1379.28,1446.71 1348.23,1446.71 \n  \"/>\n<path clip-path=\"url(#clip8402)\" d=\"\nM1387.05 1446.71 L1387.05 1446.71 L1418.1 1446.71 L1418.1 1446.71 L1387.05 1446.71 L1387.05 1446.71  Z\n  \" fill=\"#009af9\" fill-rule=\"evenodd\" fill-opacity=\"1\"/>\n<polyline clip-path=\"url(#clip8402)\" style=\"stroke:#000000; stroke-width:4; stroke-opacity:1; fill:none\" points=\"\n  1387.05,1446.71 1387.05,1446.71 1418.1,1446.71 1387.05,1446.71 \n  \"/>\n<path clip-path=\"url(#clip8402)\" d=\"\nM1425.86 1446.71 L1425.86 1446.71 L1456.92 1446.71 L1456.92 1446.71 L1425.86 1446.71 L1425.86 1446.71  Z\n  \" fill=\"#009af9\" fill-rule=\"evenodd\" fill-opacity=\"1\"/>\n<polyline clip-path=\"url(#clip8402)\" style=\"stroke:#000000; stroke-width:4; stroke-opacity:1; fill:none\" points=\"\n  1425.86,1446.71 1425.86,1446.71 1456.92,1446.71 1425.86,1446.71 \n  \"/>\n<path clip-path=\"url(#clip8402)\" d=\"\nM1464.68 1446.71 L1464.68 1446.71 L1495.74 1446.71 L1495.74 1446.71 L1464.68 1446.71 L1464.68 1446.71  Z\n  \" fill=\"#009af9\" fill-rule=\"evenodd\" fill-opacity=\"1\"/>\n<polyline clip-path=\"url(#clip8402)\" style=\"stroke:#000000; stroke-width:4; stroke-opacity:1; fill:none\" points=\"\n  1464.68,1446.71 1464.68,1446.71 1495.74,1446.71 1464.68,1446.71 \n  \"/>\n<path clip-path=\"url(#clip8402)\" d=\"\nM1503.5 1446.71 L1503.5 1446.71 L1534.56 1446.71 L1534.56 1446.71 L1503.5 1446.71 L1503.5 1446.71  Z\n  \" fill=\"#009af9\" fill-rule=\"evenodd\" fill-opacity=\"1\"/>\n<polyline clip-path=\"url(#clip8402)\" style=\"stroke:#000000; stroke-width:4; stroke-opacity:1; fill:none\" points=\"\n  1503.5,1446.71 1503.5,1446.71 1534.56,1446.71 1503.5,1446.71 \n  \"/>\n<path clip-path=\"url(#clip8402)\" d=\"\nM1542.32 1446.71 L1542.32 1446.71 L1573.37 1446.71 L1573.37 1446.71 L1542.32 1446.71 L1542.32 1446.71  Z\n  \" fill=\"#009af9\" fill-rule=\"evenodd\" fill-opacity=\"1\"/>\n<polyline clip-path=\"url(#clip8402)\" style=\"stroke:#000000; stroke-width:4; stroke-opacity:1; fill:none\" points=\"\n  1542.32,1446.71 1542.32,1446.71 1573.37,1446.71 1542.32,1446.71 \n  \"/>\n<path clip-path=\"url(#clip8402)\" d=\"\nM1581.14 1446.71 L1581.14 1446.71 L1612.19 1446.71 L1612.19 1446.71 L1581.14 1446.71 L1581.14 1446.71  Z\n  \" fill=\"#009af9\" fill-rule=\"evenodd\" fill-opacity=\"1\"/>\n<polyline clip-path=\"url(#clip8402)\" style=\"stroke:#000000; stroke-width:4; stroke-opacity:1; fill:none\" points=\"\n  1581.14,1446.71 1581.14,1446.71 1612.19,1446.71 1581.14,1446.71 \n  \"/>\n<path clip-path=\"url(#clip8402)\" d=\"\nM1619.96 1446.71 L1619.96 1446.71 L1651.01 1446.71 L1651.01 1446.71 L1619.96 1446.71 L1619.96 1446.71  Z\n  \" fill=\"#009af9\" fill-rule=\"evenodd\" fill-opacity=\"1\"/>\n<polyline clip-path=\"url(#clip8402)\" style=\"stroke:#000000; stroke-width:4; stroke-opacity:1; fill:none\" points=\"\n  1619.96,1446.71 1619.96,1446.71 1651.01,1446.71 1619.96,1446.71 \n  \"/>\n<path clip-path=\"url(#clip8402)\" d=\"\nM1658.77 1446.71 L1658.77 1446.71 L1689.83 1446.71 L1689.83 1446.71 L1658.77 1446.71 L1658.77 1446.71  Z\n  \" fill=\"#009af9\" fill-rule=\"evenodd\" fill-opacity=\"1\"/>\n<polyline clip-path=\"url(#clip8402)\" style=\"stroke:#000000; stroke-width:4; stroke-opacity:1; fill:none\" points=\"\n  1658.77,1446.71 1658.77,1446.71 1689.83,1446.71 1658.77,1446.71 \n  \"/>\n<path clip-path=\"url(#clip8402)\" d=\"\nM1697.59 1446.71 L1697.59 1446.71 L1728.65 1446.71 L1728.65 1446.71 L1697.59 1446.71 L1697.59 1446.71  Z\n  \" fill=\"#009af9\" fill-rule=\"evenodd\" fill-opacity=\"1\"/>\n<polyline clip-path=\"url(#clip8402)\" style=\"stroke:#000000; stroke-width:4; stroke-opacity:1; fill:none\" points=\"\n  1697.59,1446.71 1697.59,1446.71 1728.65,1446.71 1697.59,1446.71 \n  \"/>\n<path clip-path=\"url(#clip8402)\" d=\"\nM1736.41 1446.71 L1736.41 1446.71 L1767.47 1446.71 L1767.47 1446.71 L1736.41 1446.71 L1736.41 1446.71  Z\n  \" fill=\"#009af9\" fill-rule=\"evenodd\" fill-opacity=\"1\"/>\n<polyline clip-path=\"url(#clip8402)\" style=\"stroke:#000000; stroke-width:4; stroke-opacity:1; fill:none\" points=\"\n  1736.41,1446.71 1736.41,1446.71 1767.47,1446.71 1736.41,1446.71 \n  \"/>\n<path clip-path=\"url(#clip8402)\" d=\"\nM1775.23 1446.71 L1775.23 1446.71 L1806.28 1446.71 L1806.28 1446.71 L1775.23 1446.71 L1775.23 1446.71  Z\n  \" fill=\"#009af9\" fill-rule=\"evenodd\" fill-opacity=\"1\"/>\n<polyline clip-path=\"url(#clip8402)\" style=\"stroke:#000000; stroke-width:4; stroke-opacity:1; fill:none\" points=\"\n  1775.23,1446.71 1775.23,1446.71 1806.28,1446.71 1775.23,1446.71 \n  \"/>\n<path clip-path=\"url(#clip8402)\" d=\"\nM1814.05 1446.71 L1814.05 1446.71 L1845.1 1446.71 L1845.1 1446.71 L1814.05 1446.71 L1814.05 1446.71  Z\n  \" fill=\"#009af9\" fill-rule=\"evenodd\" fill-opacity=\"1\"/>\n<polyline clip-path=\"url(#clip8402)\" style=\"stroke:#000000; stroke-width:4; stroke-opacity:1; fill:none\" points=\"\n  1814.05,1446.71 1814.05,1446.71 1845.1,1446.71 1814.05,1446.71 \n  \"/>\n<path clip-path=\"url(#clip8402)\" d=\"\nM1852.87 1446.71 L1852.87 1446.71 L1883.92 1446.71 L1883.92 1446.71 L1852.87 1446.71 L1852.87 1446.71  Z\n  \" fill=\"#009af9\" fill-rule=\"evenodd\" fill-opacity=\"1\"/>\n<polyline clip-path=\"url(#clip8402)\" style=\"stroke:#000000; stroke-width:4; stroke-opacity:1; fill:none\" points=\"\n  1852.87,1446.71 1852.87,1446.71 1883.92,1446.71 1852.87,1446.71 \n  \"/>\n<path clip-path=\"url(#clip8402)\" d=\"\nM1891.68 1446.71 L1891.68 1446.71 L1922.74 1446.71 L1922.74 1446.71 L1891.68 1446.71 L1891.68 1446.71  Z\n  \" fill=\"#009af9\" fill-rule=\"evenodd\" fill-opacity=\"1\"/>\n<polyline clip-path=\"url(#clip8402)\" style=\"stroke:#000000; stroke-width:4; stroke-opacity:1; fill:none\" points=\"\n  1891.68,1446.71 1891.68,1446.71 1922.74,1446.71 1891.68,1446.71 \n  \"/>\n<path clip-path=\"url(#clip8402)\" d=\"\nM1930.5 1446.71 L1930.5 1446.71 L1961.56 1446.71 L1961.56 1446.71 L1930.5 1446.71 L1930.5 1446.71  Z\n  \" fill=\"#009af9\" fill-rule=\"evenodd\" fill-opacity=\"1\"/>\n<polyline clip-path=\"url(#clip8402)\" style=\"stroke:#000000; stroke-width:4; stroke-opacity:1; fill:none\" points=\"\n  1930.5,1446.71 1930.5,1446.71 1961.56,1446.71 1930.5,1446.71 \n  \"/>\n<path clip-path=\"url(#clip8402)\" d=\"\nM1969.32 1446.71 L1969.32 1446.71 L2000.38 1446.71 L2000.38 1446.71 L1969.32 1446.71 L1969.32 1446.71  Z\n  \" fill=\"#009af9\" fill-rule=\"evenodd\" fill-opacity=\"1\"/>\n<polyline clip-path=\"url(#clip8402)\" style=\"stroke:#000000; stroke-width:4; stroke-opacity:1; fill:none\" points=\"\n  1969.32,1446.71 1969.32,1446.71 2000.38,1446.71 1969.32,1446.71 \n  \"/>\n<path clip-path=\"url(#clip8402)\" d=\"\nM2008.14 1446.71 L2008.14 1446.71 L2039.19 1446.71 L2039.19 1446.71 L2008.14 1446.71 L2008.14 1446.71  Z\n  \" fill=\"#009af9\" fill-rule=\"evenodd\" fill-opacity=\"1\"/>\n<polyline clip-path=\"url(#clip8402)\" style=\"stroke:#000000; stroke-width:4; stroke-opacity:1; fill:none\" points=\"\n  2008.14,1446.71 2008.14,1446.71 2039.19,1446.71 2008.14,1446.71 \n  \"/>\n<path clip-path=\"url(#clip8402)\" d=\"\nM2046.96 1446.71 L2046.96 1446.71 L2078.01 1446.71 L2078.01 1446.71 L2046.96 1446.71 L2046.96 1446.71  Z\n  \" fill=\"#009af9\" fill-rule=\"evenodd\" fill-opacity=\"1\"/>\n<polyline clip-path=\"url(#clip8402)\" style=\"stroke:#000000; stroke-width:4; stroke-opacity:1; fill:none\" points=\"\n  2046.96,1446.71 2046.96,1446.71 2078.01,1446.71 2046.96,1446.71 \n  \"/>\n<path clip-path=\"url(#clip8402)\" d=\"\nM2085.78 1446.71 L2085.78 1446.71 L2116.83 1446.71 L2116.83 1446.71 L2085.78 1446.71 L2085.78 1446.71  Z\n  \" fill=\"#009af9\" fill-rule=\"evenodd\" fill-opacity=\"1\"/>\n<polyline clip-path=\"url(#clip8402)\" style=\"stroke:#000000; stroke-width:4; stroke-opacity:1; fill:none\" points=\"\n  2085.78,1446.71 2085.78,1446.71 2116.83,1446.71 2085.78,1446.71 \n  \"/>\n<path clip-path=\"url(#clip8402)\" d=\"\nM2124.6 1446.71 L2124.6 1446.71 L2155.65 1446.71 L2155.65 1446.71 L2124.6 1446.71 L2124.6 1446.71  Z\n  \" fill=\"#009af9\" fill-rule=\"evenodd\" fill-opacity=\"1\"/>\n<polyline clip-path=\"url(#clip8402)\" style=\"stroke:#000000; stroke-width:4; stroke-opacity:1; fill:none\" points=\"\n  2124.6,1446.71 2124.6,1446.71 2155.65,1446.71 2124.6,1446.71 \n  \"/>\n<path clip-path=\"url(#clip8402)\" d=\"\nM2163.41 1446.71 L2163.41 1446.71 L2194.47 1446.71 L2194.47 1446.71 L2163.41 1446.71 L2163.41 1446.71  Z\n  \" fill=\"#009af9\" fill-rule=\"evenodd\" fill-opacity=\"1\"/>\n<polyline clip-path=\"url(#clip8402)\" style=\"stroke:#000000; stroke-width:4; stroke-opacity:1; fill:none\" points=\"\n  2163.41,1446.71 2163.41,1446.71 2194.47,1446.71 2163.41,1446.71 \n  \"/>\n<path clip-path=\"url(#clip8402)\" d=\"\nM2202.23 1446.71 L2202.23 1446.71 L2233.29 1446.71 L2233.29 1446.71 L2202.23 1446.71 L2202.23 1446.71  Z\n  \" fill=\"#009af9\" fill-rule=\"evenodd\" fill-opacity=\"1\"/>\n<polyline clip-path=\"url(#clip8402)\" style=\"stroke:#000000; stroke-width:4; stroke-opacity:1; fill:none\" points=\"\n  2202.23,1446.71 2202.23,1446.71 2233.29,1446.71 2202.23,1446.71 \n  \"/>\n<path clip-path=\"url(#clip8400)\" d=\"\nM1989.93 251.724 L2280.76 251.724 L2280.76 130.764 L1989.93 130.764  Z\n  \" fill=\"#ffffff\" fill-rule=\"evenodd\" fill-opacity=\"1\"/>\n<polyline clip-path=\"url(#clip8400)\" style=\"stroke:#000000; stroke-width:4; stroke-opacity:1; fill:none\" points=\"\n  1989.93,251.724 2280.76,251.724 2280.76,130.764 1989.93,130.764 1989.93,251.724 \n  \"/>\n<path clip-path=\"url(#clip8400)\" d=\"\nM2013.93 215.436 L2157.93 215.436 L2157.93 167.052 L2013.93 167.052 L2013.93 215.436  Z\n  \" fill=\"#009af9\" fill-rule=\"evenodd\" fill-opacity=\"1\"/>\n<polyline clip-path=\"url(#clip8400)\" style=\"stroke:#000000; stroke-width:4; stroke-opacity:1; fill:none\" points=\"\n  2013.93,215.436 2157.93,215.436 2157.93,167.052 2013.93,167.052 2013.93,215.436 \n  \"/>\n<g clip-path=\"url(#clip8400)\">\n<text style=\"fill:#000000; fill-opacity:1; font-family:Arial,Helvetica Neue,Helvetica,sans-serif; font-size:48px; text-anchor:start;\" transform=\"rotate(0, 2181.93, 208.744)\" x=\"2181.93\" y=\"208.744\">y1</text>\n</g>\n</svg>\n"
               },
               "type": "node"
              }
             ],
             "instanceArgs": {
              "namespace": "html",
              "tag": "div"
             },
             "nodeType": "DOM",
             "props": {
              "className": "interact-flex-row interact-widget"
             },
             "type": "node"
            }
           }
          },
          "systemjs_options": null
         },
         "nodeType": "Scope",
         "props": {},
         "type": "node"
        }
       ],
       "instanceArgs": {
        "namespace": "html",
        "tag": "div"
       },
       "nodeType": "DOM",
       "props": {},
       "type": "node"
      },
      "text/html": [
       "<div\n",
       "    class=\"webio-mountpoint\"\n",
       "    data-webio-mountpoint=\"553397547446703446\"\n",
       ">\n",
       "    <script>\n",
       "    if (window.require && require.defined && require.defined(\"nbextensions/webio-jupyter-notebook\")) {\n",
       "        console.log(\"Jupyter WebIO extension detected, not mounting.\");\n",
       "    } else if (window.WebIO) {\n",
       "        WebIO.mount(\n",
       "            document.querySelector('[data-webio-mountpoint=\"553397547446703446\"]'),\n",
       "            {\"props\":{},\"nodeType\":\"DOM\",\"type\":\"node\",\"instanceArgs\":{\"namespace\":\"html\",\"tag\":\"div\"},\"children\":[{\"props\":{\"className\":\"field interact-widget\"},\"nodeType\":\"DOM\",\"type\":\"node\",\"instanceArgs\":{\"namespace\":\"html\",\"tag\":\"div\"},\"children\":[{\"props\":{},\"nodeType\":\"Scope\",\"type\":\"node\",\"instanceArgs\":{\"imports\":{\"data\":[{\"name\":\"knockout\",\"type\":\"js\",\"url\":\"\\/assetserver\\/9a186147d51179d2ec12ccfac1799b0b805a79d5-knockout.js\"},{\"name\":\"knockout_punches\",\"type\":\"js\",\"url\":\"\\/assetserver\\/eccef011301f679ebde0900f01478cac573870ce-knockout_punches.js\"},{\"name\":null,\"type\":\"js\",\"url\":\"\\/assetserver\\/5d2042c6908ffff0b7c8d26135740476bcf00827-all.js\"},{\"name\":null,\"type\":\"css\",\"url\":\"\\/assetserver\\/87ad319ae61de5d44f67c268a0a8f65862fca478-style.css\"},{\"name\":null,\"type\":\"css\",\"url\":\"\\/assetserver\\/9354074556c360cc537db1e8b0f0283e19c8ea9d-bulma_confined.min.css\"}],\"type\":\"async_block\"},\"id\":\"5691111776126644276\",\"handlers\":{\"changes\":[\"(function (val){return (val!=this.model[\\\"changes\\\"]()) ? (this.valueFromJulia[\\\"changes\\\"]=true, this.model[\\\"changes\\\"](val)) : undefined})\"],\"index\":[\"(function (val){return (val!=this.model[\\\"index\\\"]()) ? (this.valueFromJulia[\\\"index\\\"]=true, this.model[\\\"index\\\"](val)) : undefined})\"]},\"systemjs_options\":null,\"mount_callbacks\":[\"function () {\\n    var handler = (function (ko, koPunches) {\\n    ko.punches.enableAll();\\n    ko.bindingHandlers.numericValue = {\\n        init: function(element, valueAccessor, allBindings, data, context) {\\n            var stringified = ko.observable(ko.unwrap(valueAccessor()));\\n            stringified.subscribe(function(value) {\\n                var val = parseFloat(value);\\n                if (!isNaN(val)) {\\n                    valueAccessor()(val);\\n                }\\n            });\\n            valueAccessor().subscribe(function(value) {\\n                var str = JSON.stringify(value);\\n                if ((str == \\\"0\\\") && ([\\\"-0\\\", \\\"-0.\\\"].indexOf(stringified()) >= 0))\\n                     return;\\n                 if ([\\\"null\\\", \\\"\\\"].indexOf(str) >= 0)\\n                     return;\\n                stringified(str);\\n            });\\n            ko.applyBindingsToNode(\\n                element,\\n                {\\n                    value: stringified,\\n                    valueUpdate: allBindings.get('valueUpdate'),\\n                },\\n                context,\\n            );\\n        }\\n    };\\n    var json_data = {\\\"formatted_vals\\\":[\\\"1\\\",\\\"2\\\",\\\"3\\\",\\\"4\\\",\\\"5\\\",\\\"6\\\",\\\"7\\\",\\\"8\\\",\\\"9\\\",\\\"10\\\",\\\"11\\\",\\\"12\\\",\\\"13\\\",\\\"14\\\",\\\"15\\\",\\\"16\\\",\\\"17\\\",\\\"18\\\",\\\"19\\\",\\\"20\\\",\\\"21\\\",\\\"22\\\",\\\"23\\\",\\\"24\\\",\\\"25\\\",\\\"26\\\",\\\"27\\\",\\\"28\\\",\\\"29\\\",\\\"30\\\",\\\"31\\\",\\\"32\\\",\\\"33\\\",\\\"34\\\",\\\"35\\\",\\\"36\\\",\\\"37\\\",\\\"38\\\",\\\"39\\\",\\\"40\\\",\\\"41\\\",\\\"42\\\",\\\"43\\\",\\\"44\\\",\\\"45\\\",\\\"46\\\",\\\"47\\\",\\\"48\\\",\\\"49\\\",\\\"50\\\",\\\"51\\\",\\\"52\\\",\\\"53\\\",\\\"54\\\",\\\"55\\\",\\\"56\\\",\\\"57\\\",\\\"58\\\",\\\"59\\\",\\\"60\\\",\\\"61\\\",\\\"62\\\",\\\"63\\\",\\\"64\\\",\\\"65\\\",\\\"66\\\",\\\"67\\\",\\\"68\\\",\\\"69\\\",\\\"70\\\",\\\"71\\\",\\\"72\\\",\\\"73\\\",\\\"74\\\",\\\"75\\\",\\\"76\\\",\\\"77\\\",\\\"78\\\",\\\"79\\\",\\\"80\\\",\\\"81\\\",\\\"82\\\",\\\"83\\\",\\\"84\\\",\\\"85\\\",\\\"86\\\",\\\"87\\\",\\\"88\\\",\\\"89\\\",\\\"90\\\",\\\"91\\\",\\\"92\\\",\\\"93\\\",\\\"94\\\",\\\"95\\\",\\\"96\\\",\\\"97\\\",\\\"98\\\",\\\"99\\\",\\\"100\\\"],\\\"changes\\\":WebIO.getval({\\\"name\\\":\\\"changes\\\",\\\"scope\\\":\\\"5691111776126644276\\\",\\\"id\\\":\\\"ob_02\\\",\\\"type\\\":\\\"observable\\\"}),\\\"index\\\":WebIO.getval({\\\"name\\\":\\\"index\\\",\\\"scope\\\":\\\"5691111776126644276\\\",\\\"id\\\":\\\"ob_01\\\",\\\"type\\\":\\\"observable\\\"})};\\n    var self = this;\\n    function AppViewModel() {\\n        for (var key in json_data) {\\n            var el = json_data[key];\\n            this[key] = Array.isArray(el) ? ko.observableArray(el) : ko.observable(el);\\n        }\\n        \\n        [this[\\\"formatted_val\\\"]=ko.computed(    function(){\\n        return this.formatted_vals()[parseInt(this.index())-(1)];\\n    }\\n,this)]\\n        [this[\\\"changes\\\"].subscribe((function (val){!(this.valueFromJulia[\\\"changes\\\"]) ? (WebIO.setval({\\\"name\\\":\\\"changes\\\",\\\"scope\\\":\\\"5691111776126644276\\\",\\\"id\\\":\\\"ob_02\\\",\\\"type\\\":\\\"observable\\\"},val)) : undefined; return this.valueFromJulia[\\\"changes\\\"]=false}),self),this[\\\"index\\\"].subscribe((function (val){!(this.valueFromJulia[\\\"index\\\"]) ? (WebIO.setval({\\\"name\\\":\\\"index\\\",\\\"scope\\\":\\\"5691111776126644276\\\",\\\"id\\\":\\\"ob_01\\\",\\\"type\\\":\\\"observable\\\"},val)) : undefined; return this.valueFromJulia[\\\"index\\\"]=false}),self)]\\n        \\n    }\\n    self.model = new AppViewModel();\\n    self.valueFromJulia = {};\\n    for (var key in json_data) {\\n        self.valueFromJulia[key] = false;\\n    }\\n    ko.applyBindings(self.model, self.dom);\\n}\\n);\\n    (WebIO.importBlock({\\\"data\\\":[{\\\"name\\\":\\\"knockout\\\",\\\"type\\\":\\\"js\\\",\\\"url\\\":\\\"\\/assetserver\\/9a186147d51179d2ec12ccfac1799b0b805a79d5-knockout.js\\\"},{\\\"name\\\":\\\"knockout_punches\\\",\\\"type\\\":\\\"js\\\",\\\"url\\\":\\\"\\/assetserver\\/eccef011301f679ebde0900f01478cac573870ce-knockout_punches.js\\\"}],\\\"type\\\":\\\"async_block\\\"})).then((imports) => handler.apply(this, imports));\\n}\\n\"],\"observables\":{\"changes\":{\"sync\":false,\"id\":\"ob_02\",\"value\":0},\"index\":{\"sync\":true,\"id\":\"ob_01\",\"value\":50}}},\"children\":[{\"props\":{\"className\":\"interact-flex-row interact-widget\"},\"nodeType\":\"DOM\",\"type\":\"node\",\"instanceArgs\":{\"namespace\":\"html\",\"tag\":\"div\"},\"children\":[{\"props\":{\"className\":\"interact-flex-row-left\"},\"nodeType\":\"DOM\",\"type\":\"node\",\"instanceArgs\":{\"namespace\":\"html\",\"tag\":\"div\"},\"children\":[{\"props\":{\"className\":\"interact \",\"style\":{\"padding\":\"5px 10px 0px 10px\"}},\"nodeType\":\"DOM\",\"type\":\"node\",\"instanceArgs\":{\"namespace\":\"html\",\"tag\":\"label\"},\"children\":[\"N\"]}]},{\"props\":{\"className\":\"interact-flex-row-center\"},\"nodeType\":\"DOM\",\"type\":\"node\",\"instanceArgs\":{\"namespace\":\"html\",\"tag\":\"div\"},\"children\":[{\"props\":{\"max\":100,\"min\":1,\"attributes\":{\"type\":\"range\",\"data-bind\":\"numericValue: index, valueUpdate: 'input', event: {change: function (){this.changes(this.changes()+1)}}\",\"orient\":\"horizontal\"},\"step\":1,\"className\":\"slider slider is-fullwidth\",\"style\":{}},\"nodeType\":\"DOM\",\"type\":\"node\",\"instanceArgs\":{\"namespace\":\"html\",\"tag\":\"input\"},\"children\":[]}]},{\"props\":{\"className\":\"interact-flex-row-right\"},\"nodeType\":\"DOM\",\"type\":\"node\",\"instanceArgs\":{\"namespace\":\"html\",\"tag\":\"div\"},\"children\":[{\"props\":{\"attributes\":{\"data-bind\":\"text: formatted_val\"}},\"nodeType\":\"DOM\",\"type\":\"node\",\"instanceArgs\":{\"namespace\":\"html\",\"tag\":\"p\"},\"children\":[]}]}]}]}]},{\"props\":{\"className\":\"field interact-widget\"},\"nodeType\":\"DOM\",\"type\":\"node\",\"instanceArgs\":{\"namespace\":\"html\",\"tag\":\"div\"},\"children\":[{\"props\":{},\"nodeType\":\"Scope\",\"type\":\"node\",\"instanceArgs\":{\"imports\":{\"data\":[{\"name\":\"knockout\",\"type\":\"js\",\"url\":\"\\/assetserver\\/9a186147d51179d2ec12ccfac1799b0b805a79d5-knockout.js\"},{\"name\":\"knockout_punches\",\"type\":\"js\",\"url\":\"\\/assetserver\\/eccef011301f679ebde0900f01478cac573870ce-knockout_punches.js\"},{\"name\":null,\"type\":\"js\",\"url\":\"\\/assetserver\\/5d2042c6908ffff0b7c8d26135740476bcf00827-all.js\"},{\"name\":null,\"type\":\"css\",\"url\":\"\\/assetserver\\/87ad319ae61de5d44f67c268a0a8f65862fca478-style.css\"},{\"name\":null,\"type\":\"css\",\"url\":\"\\/assetserver\\/9354074556c360cc537db1e8b0f0283e19c8ea9d-bulma_confined.min.css\"}],\"type\":\"async_block\"},\"id\":\"17592105006256129576\",\"handlers\":{\"changes\":[\"(function (val){return (val!=this.model[\\\"changes\\\"]()) ? (this.valueFromJulia[\\\"changes\\\"]=true, this.model[\\\"changes\\\"](val)) : undefined})\"],\"index\":[\"(function (val){return (val!=this.model[\\\"index\\\"]()) ? (this.valueFromJulia[\\\"index\\\"]=true, this.model[\\\"index\\\"](val)) : undefined})\"]},\"systemjs_options\":null,\"mount_callbacks\":[\"function () {\\n    var handler = (function (ko, koPunches) {\\n    ko.punches.enableAll();\\n    ko.bindingHandlers.numericValue = {\\n        init: function(element, valueAccessor, allBindings, data, context) {\\n            var stringified = ko.observable(ko.unwrap(valueAccessor()));\\n            stringified.subscribe(function(value) {\\n                var val = parseFloat(value);\\n                if (!isNaN(val)) {\\n                    valueAccessor()(val);\\n                }\\n            });\\n            valueAccessor().subscribe(function(value) {\\n                var str = JSON.stringify(value);\\n                if ((str == \\\"0\\\") && ([\\\"-0\\\", \\\"-0.\\\"].indexOf(stringified()) >= 0))\\n                     return;\\n                 if ([\\\"null\\\", \\\"\\\"].indexOf(str) >= 0)\\n                     return;\\n                stringified(str);\\n            });\\n            ko.applyBindingsToNode(\\n                element,\\n                {\\n                    value: stringified,\\n                    valueUpdate: allBindings.get('valueUpdate'),\\n                },\\n                context,\\n            );\\n        }\\n    };\\n    var json_data = {\\\"formatted_vals\\\":[\\\"1\\\",\\\"2\\\",\\\"3\\\",\\\"4\\\",\\\"5\\\",\\\"6\\\",\\\"7\\\",\\\"8\\\",\\\"9\\\",\\\"10\\\",\\\"11\\\",\\\"12\\\",\\\"13\\\",\\\"14\\\",\\\"15\\\",\\\"16\\\",\\\"17\\\",\\\"18\\\",\\\"19\\\",\\\"20\\\",\\\"21\\\",\\\"22\\\",\\\"23\\\",\\\"24\\\",\\\"25\\\",\\\"26\\\",\\\"27\\\",\\\"28\\\",\\\"29\\\",\\\"30\\\",\\\"31\\\",\\\"32\\\",\\\"33\\\",\\\"34\\\",\\\"35\\\",\\\"36\\\",\\\"37\\\",\\\"38\\\",\\\"39\\\",\\\"40\\\",\\\"41\\\",\\\"42\\\",\\\"43\\\",\\\"44\\\",\\\"45\\\",\\\"46\\\",\\\"47\\\",\\\"48\\\",\\\"49\\\",\\\"50\\\",\\\"51\\\",\\\"52\\\",\\\"53\\\",\\\"54\\\",\\\"55\\\",\\\"56\\\",\\\"57\\\",\\\"58\\\",\\\"59\\\",\\\"60\\\",\\\"61\\\",\\\"62\\\",\\\"63\\\",\\\"64\\\",\\\"65\\\",\\\"66\\\",\\\"67\\\",\\\"68\\\",\\\"69\\\",\\\"70\\\",\\\"71\\\",\\\"72\\\",\\\"73\\\",\\\"74\\\",\\\"75\\\",\\\"76\\\",\\\"77\\\",\\\"78\\\",\\\"79\\\",\\\"80\\\",\\\"81\\\",\\\"82\\\",\\\"83\\\",\\\"84\\\",\\\"85\\\",\\\"86\\\",\\\"87\\\",\\\"88\\\",\\\"89\\\",\\\"90\\\",\\\"91\\\",\\\"92\\\",\\\"93\\\",\\\"94\\\",\\\"95\\\",\\\"96\\\",\\\"97\\\",\\\"98\\\",\\\"99\\\",\\\"100\\\"],\\\"changes\\\":WebIO.getval({\\\"name\\\":\\\"changes\\\",\\\"scope\\\":\\\"17592105006256129576\\\",\\\"id\\\":\\\"ob_04\\\",\\\"type\\\":\\\"observable\\\"}),\\\"index\\\":WebIO.getval({\\\"name\\\":\\\"index\\\",\\\"scope\\\":\\\"17592105006256129576\\\",\\\"id\\\":\\\"ob_03\\\",\\\"type\\\":\\\"observable\\\"})};\\n    var self = this;\\n    function AppViewModel() {\\n        for (var key in json_data) {\\n            var el = json_data[key];\\n            this[key] = Array.isArray(el) ? ko.observableArray(el) : ko.observable(el);\\n        }\\n        \\n        [this[\\\"formatted_val\\\"]=ko.computed(    function(){\\n        return this.formatted_vals()[parseInt(this.index())-(1)];\\n    }\\n,this)]\\n        [this[\\\"changes\\\"].subscribe((function (val){!(this.valueFromJulia[\\\"changes\\\"]) ? (WebIO.setval({\\\"name\\\":\\\"changes\\\",\\\"scope\\\":\\\"17592105006256129576\\\",\\\"id\\\":\\\"ob_04\\\",\\\"type\\\":\\\"observable\\\"},val)) : undefined; return this.valueFromJulia[\\\"changes\\\"]=false}),self),this[\\\"index\\\"].subscribe((function (val){!(this.valueFromJulia[\\\"index\\\"]) ? (WebIO.setval({\\\"name\\\":\\\"index\\\",\\\"scope\\\":\\\"17592105006256129576\\\",\\\"id\\\":\\\"ob_03\\\",\\\"type\\\":\\\"observable\\\"},val)) : undefined; return this.valueFromJulia[\\\"index\\\"]=false}),self)]\\n        \\n    }\\n    self.model = new AppViewModel();\\n    self.valueFromJulia = {};\\n    for (var key in json_data) {\\n        self.valueFromJulia[key] = false;\\n    }\\n    ko.applyBindings(self.model, self.dom);\\n}\\n);\\n    (WebIO.importBlock({\\\"data\\\":[{\\\"name\\\":\\\"knockout\\\",\\\"type\\\":\\\"js\\\",\\\"url\\\":\\\"\\/assetserver\\/9a186147d51179d2ec12ccfac1799b0b805a79d5-knockout.js\\\"},{\\\"name\\\":\\\"knockout_punches\\\",\\\"type\\\":\\\"js\\\",\\\"url\\\":\\\"\\/assetserver\\/eccef011301f679ebde0900f01478cac573870ce-knockout_punches.js\\\"}],\\\"type\\\":\\\"async_block\\\"})).then((imports) => handler.apply(this, imports));\\n}\\n\"],\"observables\":{\"changes\":{\"sync\":false,\"id\":\"ob_04\",\"value\":0},\"index\":{\"sync\":true,\"id\":\"ob_03\",\"value\":50}}},\"children\":[{\"props\":{\"className\":\"interact-flex-row interact-widget\"},\"nodeType\":\"DOM\",\"type\":\"node\",\"instanceArgs\":{\"namespace\":\"html\",\"tag\":\"div\"},\"children\":[{\"props\":{\"className\":\"interact-flex-row-left\"},\"nodeType\":\"DOM\",\"type\":\"node\",\"instanceArgs\":{\"namespace\":\"html\",\"tag\":\"div\"},\"children\":[{\"props\":{\"className\":\"interact \",\"style\":{\"padding\":\"5px 10px 0px 10px\"}},\"nodeType\":\"DOM\",\"type\":\"node\",\"instanceArgs\":{\"namespace\":\"html\",\"tag\":\"label\"},\"children\":[\"num_experiments\"]}]},{\"props\":{\"className\":\"interact-flex-row-center\"},\"nodeType\":\"DOM\",\"type\":\"node\",\"instanceArgs\":{\"namespace\":\"html\",\"tag\":\"div\"},\"children\":[{\"props\":{\"max\":100,\"min\":1,\"attributes\":{\"type\":\"range\",\"data-bind\":\"numericValue: index, valueUpdate: 'input', event: {change: function (){this.changes(this.changes()+1)}}\",\"orient\":\"horizontal\"},\"step\":1,\"className\":\"slider slider is-fullwidth\",\"style\":{}},\"nodeType\":\"DOM\",\"type\":\"node\",\"instanceArgs\":{\"namespace\":\"html\",\"tag\":\"input\"},\"children\":[]}]},{\"props\":{\"className\":\"interact-flex-row-right\"},\"nodeType\":\"DOM\",\"type\":\"node\",\"instanceArgs\":{\"namespace\":\"html\",\"tag\":\"div\"},\"children\":[{\"props\":{\"attributes\":{\"data-bind\":\"text: formatted_val\"}},\"nodeType\":\"DOM\",\"type\":\"node\",\"instanceArgs\":{\"namespace\":\"html\",\"tag\":\"p\"},\"children\":[]}]}]}]}]},{\"props\":{},\"nodeType\":\"Scope\",\"type\":\"node\",\"instanceArgs\":{\"imports\":{\"data\":[],\"type\":\"async_block\"},\"id\":\"18107908781758690154\",\"handlers\":{},\"systemjs_options\":null,\"mount_callbacks\":[],\"observables\":{\"obs-node\":{\"sync\":false,\"id\":\"ob_08\",\"value\":{\"props\":{\"className\":\"interact-flex-row interact-widget\"},\"nodeType\":\"DOM\",\"type\":\"node\",\"instanceArgs\":{\"namespace\":\"html\",\"tag\":\"div\"},\"children\":[{\"props\":{\"setInnerHtml\":\"<?xml version=\\\"1.0\\\" encoding=\\\"utf-8\\\"?>\\n<svg xmlns=\\\"http:\\/\\/www.w3.org\\/2000\\/svg\\\" xmlns:xlink=\\\"http:\\/\\/www.w3.org\\/1999\\/xlink\\\" width=\\\"600\\\" height=\\\"400\\\" viewBox=\\\"0 0 2400 1600\\\">\\n<defs>\\n  <clipPath id=\\\"clip8000\\\">\\n    <rect x=\\\"0\\\" y=\\\"0\\\" width=\\\"2400\\\" height=\\\"1600\\\"\\/>\\n  <\\/clipPath>\\n<\\/defs>\\n<path clip-path=\\\"url(#clip8000)\\\" d=\\\"\\nM0 1600 L2400 1600 L2400 0 L0 0  Z\\n  \\\" fill=\\\"#ffffff\\\" fill-rule=\\\"evenodd\\\" fill-opacity=\\\"1\\\"\\/>\\n<defs>\\n  <clipPath id=\\\"clip8001\\\">\\n    <rect x=\\\"480\\\" y=\\\"0\\\" width=\\\"1681\\\" height=\\\"1600\\\"\\/>\\n  <\\/clipPath>\\n<\\/defs>\\n<path clip-path=\\\"url(#clip8000)\\\" d=\\\"\\nM180.66 1487.47 L2352.76 1487.47 L2352.76 47.2441 L180.66 47.2441  Z\\n  \\\" fill=\\\"#ffffff\\\" fill-rule=\\\"evenodd\\\" fill-opacity=\\\"1\\\"\\/>\\n<defs>\\n  <clipPath id=\\\"clip8002\\\">\\n    <rect x=\\\"180\\\" y=\\\"47\\\" width=\\\"2173\\\" height=\\\"1441\\\"\\/>\\n  <\\/clipPath>\\n<\\/defs>\\n<polyline clip-path=\\\"url(#clip8002)\\\" style=\\\"stroke:#000000; stroke-width:2; stroke-opacity:0.1; fill:none\\\" points=\\\"\\n  276.838,1487.47 276.838,47.2441 \\n  \\\"\\/>\\n<polyline clip-path=\\\"url(#clip8002)\\\" style=\\\"stroke:#000000; stroke-width:2; stroke-opacity:0.1; fill:none\\\" points=\\\"\\n  665.023,1487.47 665.023,47.2441 \\n  \\\"\\/>\\n<polyline clip-path=\\\"url(#clip8002)\\\" style=\\\"stroke:#000000; stroke-width:2; stroke-opacity:0.1; fill:none\\\" points=\\\"\\n  1053.21,1487.47 1053.21,47.2441 \\n  \\\"\\/>\\n<polyline clip-path=\\\"url(#clip8002)\\\" style=\\\"stroke:#000000; stroke-width:2; stroke-opacity:0.1; fill:none\\\" points=\\\"\\n  1441.39,1487.47 1441.39,47.2441 \\n  \\\"\\/>\\n<polyline clip-path=\\\"url(#clip8002)\\\" style=\\\"stroke:#000000; stroke-width:2; stroke-opacity:0.1; fill:none\\\" points=\\\"\\n  1829.58,1487.47 1829.58,47.2441 \\n  \\\"\\/>\\n<polyline clip-path=\\\"url(#clip8002)\\\" style=\\\"stroke:#000000; stroke-width:2; stroke-opacity:0.1; fill:none\\\" points=\\\"\\n  2217.76,1487.47 2217.76,47.2441 \\n  \\\"\\/>\\n<polyline clip-path=\\\"url(#clip8002)\\\" style=\\\"stroke:#000000; stroke-width:2; stroke-opacity:0.1; fill:none\\\" points=\\\"\\n  180.66,1446.71 2352.76,1446.71 \\n  \\\"\\/>\\n<polyline clip-path=\\\"url(#clip8002)\\\" style=\\\"stroke:#000000; stroke-width:2; stroke-opacity:0.1; fill:none\\\" points=\\\"\\n  180.66,1163.65 2352.76,1163.65 \\n  \\\"\\/>\\n<polyline clip-path=\\\"url(#clip8002)\\\" style=\\\"stroke:#000000; stroke-width:2; stroke-opacity:0.1; fill:none\\\" points=\\\"\\n  180.66,880.585 2352.76,880.585 \\n  \\\"\\/>\\n<polyline clip-path=\\\"url(#clip8002)\\\" style=\\\"stroke:#000000; stroke-width:2; stroke-opacity:0.1; fill:none\\\" points=\\\"\\n  180.66,597.521 2352.76,597.521 \\n  \\\"\\/>\\n<polyline clip-path=\\\"url(#clip8002)\\\" style=\\\"stroke:#000000; stroke-width:2; stroke-opacity:0.1; fill:none\\\" points=\\\"\\n  180.66,314.457 2352.76,314.457 \\n  \\\"\\/>\\n<polyline clip-path=\\\"url(#clip8000)\\\" style=\\\"stroke:#000000; stroke-width:4; stroke-opacity:1; fill:none\\\" points=\\\"\\n  180.66,1487.47 2352.76,1487.47 \\n  \\\"\\/>\\n<polyline clip-path=\\\"url(#clip8000)\\\" style=\\\"stroke:#000000; stroke-width:4; stroke-opacity:1; fill:none\\\" points=\\\"\\n  180.66,1487.47 180.66,47.2441 \\n  \\\"\\/>\\n<polyline clip-path=\\\"url(#clip8000)\\\" style=\\\"stroke:#000000; stroke-width:4; stroke-opacity:1; fill:none\\\" points=\\\"\\n  276.838,1487.47 276.838,1465.87 \\n  \\\"\\/>\\n<polyline clip-path=\\\"url(#clip8000)\\\" style=\\\"stroke:#000000; stroke-width:4; stroke-opacity:1; fill:none\\\" points=\\\"\\n  665.023,1487.47 665.023,1465.87 \\n  \\\"\\/>\\n<polyline clip-path=\\\"url(#clip8000)\\\" style=\\\"stroke:#000000; stroke-width:4; stroke-opacity:1; fill:none\\\" points=\\\"\\n  1053.21,1487.47 1053.21,1465.87 \\n  \\\"\\/>\\n<polyline clip-path=\\\"url(#clip8000)\\\" style=\\\"stroke:#000000; stroke-width:4; stroke-opacity:1; fill:none\\\" points=\\\"\\n  1441.39,1487.47 1441.39,1465.87 \\n  \\\"\\/>\\n<polyline clip-path=\\\"url(#clip8000)\\\" style=\\\"stroke:#000000; stroke-width:4; stroke-opacity:1; fill:none\\\" points=\\\"\\n  1829.58,1487.47 1829.58,1465.87 \\n  \\\"\\/>\\n<polyline clip-path=\\\"url(#clip8000)\\\" style=\\\"stroke:#000000; stroke-width:4; stroke-opacity:1; fill:none\\\" points=\\\"\\n  2217.76,1487.47 2217.76,1465.87 \\n  \\\"\\/>\\n<polyline clip-path=\\\"url(#clip8000)\\\" style=\\\"stroke:#000000; stroke-width:4; stroke-opacity:1; fill:none\\\" points=\\\"\\n  180.66,1446.71 213.242,1446.71 \\n  \\\"\\/>\\n<polyline clip-path=\\\"url(#clip8000)\\\" style=\\\"stroke:#000000; stroke-width:4; stroke-opacity:1; fill:none\\\" points=\\\"\\n  180.66,1163.65 213.242,1163.65 \\n  \\\"\\/>\\n<polyline clip-path=\\\"url(#clip8000)\\\" style=\\\"stroke:#000000; stroke-width:4; stroke-opacity:1; fill:none\\\" points=\\\"\\n  180.66,880.585 213.242,880.585 \\n  \\\"\\/>\\n<polyline clip-path=\\\"url(#clip8000)\\\" style=\\\"stroke:#000000; stroke-width:4; stroke-opacity:1; fill:none\\\" points=\\\"\\n  180.66,597.521 213.242,597.521 \\n  \\\"\\/>\\n<polyline clip-path=\\\"url(#clip8000)\\\" style=\\\"stroke:#000000; stroke-width:4; stroke-opacity:1; fill:none\\\" points=\\\"\\n  180.66,314.457 213.242,314.457 \\n  \\\"\\/>\\n<g clip-path=\\\"url(#clip8000)\\\">\\n<text style=\\\"fill:#000000; fill-opacity:1; font-family:Arial,Helvetica Neue,Helvetica,sans-serif; font-size:48px; text-anchor:middle;\\\" transform=\\\"rotate(0, 276.838, 1541.47)\\\" x=\\\"276.838\\\" y=\\\"1541.47\\\">0<\\/text>\\n<\\/g>\\n<g clip-path=\\\"url(#clip8000)\\\">\\n<text style=\\\"fill:#000000; fill-opacity:1; font-family:Arial,Helvetica Neue,Helvetica,sans-serif; font-size:48px; text-anchor:middle;\\\" transform=\\\"rotate(0, 665.023, 1541.47)\\\" x=\\\"665.023\\\" y=\\\"1541.47\\\">10<\\/text>\\n<\\/g>\\n<g clip-path=\\\"url(#clip8000)\\\">\\n<text style=\\\"fill:#000000; fill-opacity:1; font-family:Arial,Helvetica Neue,Helvetica,sans-serif; font-size:48px; text-anchor:middle;\\\" transform=\\\"rotate(0, 1053.21, 1541.47)\\\" x=\\\"1053.21\\\" y=\\\"1541.47\\\">20<\\/text>\\n<\\/g>\\n<g clip-path=\\\"url(#clip8000)\\\">\\n<text style=\\\"fill:#000000; fill-opacity:1; font-family:Arial,Helvetica Neue,Helvetica,sans-serif; font-size:48px; text-anchor:middle;\\\" transform=\\\"rotate(0, 1441.39, 1541.47)\\\" x=\\\"1441.39\\\" y=\\\"1541.47\\\">30<\\/text>\\n<\\/g>\\n<g clip-path=\\\"url(#clip8000)\\\">\\n<text style=\\\"fill:#000000; fill-opacity:1; font-family:Arial,Helvetica Neue,Helvetica,sans-serif; font-size:48px; text-anchor:middle;\\\" transform=\\\"rotate(0, 1829.58, 1541.47)\\\" x=\\\"1829.58\\\" y=\\\"1541.47\\\">40<\\/text>\\n<\\/g>\\n<g clip-path=\\\"url(#clip8000)\\\">\\n<text style=\\\"fill:#000000; fill-opacity:1; font-family:Arial,Helvetica Neue,Helvetica,sans-serif; font-size:48px; text-anchor:middle;\\\" transform=\\\"rotate(0, 2217.76, 1541.47)\\\" x=\\\"2217.76\\\" y=\\\"1541.47\\\">50<\\/text>\\n<\\/g>\\n<g clip-path=\\\"url(#clip8000)\\\">\\n<text style=\\\"fill:#000000; fill-opacity:1; font-family:Arial,Helvetica Neue,Helvetica,sans-serif; font-size:48px; text-anchor:end;\\\" transform=\\\"rotate(0, 156.66, 1464.21)\\\" x=\\\"156.66\\\" y=\\\"1464.21\\\">0.0<\\/text>\\n<\\/g>\\n<g clip-path=\\\"url(#clip8000)\\\">\\n<text style=\\\"fill:#000000; fill-opacity:1; font-family:Arial,Helvetica Neue,Helvetica,sans-serif; font-size:48px; text-anchor:end;\\\" transform=\\\"rotate(0, 156.66, 1181.15)\\\" x=\\\"156.66\\\" y=\\\"1181.15\\\">2.5<\\/text>\\n<\\/g>\\n<g clip-path=\\\"url(#clip8000)\\\">\\n<text style=\\\"fill:#000000; fill-opacity:1; font-family:Arial,Helvetica Neue,Helvetica,sans-serif; font-size:48px; text-anchor:end;\\\" transform=\\\"rotate(0, 156.66, 898.085)\\\" x=\\\"156.66\\\" y=\\\"898.085\\\">5.0<\\/text>\\n<\\/g>\\n<g clip-path=\\\"url(#clip8000)\\\">\\n<text style=\\\"fill:#000000; fill-opacity:1; font-family:Arial,Helvetica Neue,Helvetica,sans-serif; font-size:48px; text-anchor:end;\\\" transform=\\\"rotate(0, 156.66, 615.021)\\\" x=\\\"156.66\\\" y=\\\"615.021\\\">7.5<\\/text>\\n<\\/g>\\n<g clip-path=\\\"url(#clip8000)\\\">\\n<text style=\\\"fill:#000000; fill-opacity:1; font-family:Arial,Helvetica Neue,Helvetica,sans-serif; font-size:48px; text-anchor:end;\\\" transform=\\\"rotate(0, 156.66, 331.957)\\\" x=\\\"156.66\\\" y=\\\"331.957\\\">10.0<\\/text>\\n<\\/g>\\n<path clip-path=\\\"url(#clip8002)\\\" d=\\\"\\nM300.129 1446.71 L300.129 1446.71 L331.184 1446.71 L331.184 1446.71 L300.129 1446.71 L300.129 1446.71  Z\\n  \\\" fill=\\\"#009af9\\\" fill-rule=\\\"evenodd\\\" fill-opacity=\\\"1\\\"\\/>\\n<polyline clip-path=\\\"url(#clip8002)\\\" style=\\\"stroke:#000000; stroke-width:4; stroke-opacity:1; fill:none\\\" points=\\\"\\n  300.129,1446.71 300.129,1446.71 331.184,1446.71 300.129,1446.71 \\n  \\\"\\/>\\n<path clip-path=\\\"url(#clip8002)\\\" d=\\\"\\nM338.948 1446.71 L338.948 1446.71 L370.003 1446.71 L370.003 1446.71 L338.948 1446.71 L338.948 1446.71  Z\\n  \\\" fill=\\\"#009af9\\\" fill-rule=\\\"evenodd\\\" fill-opacity=\\\"1\\\"\\/>\\n<polyline clip-path=\\\"url(#clip8002)\\\" style=\\\"stroke:#000000; stroke-width:4; stroke-opacity:1; fill:none\\\" points=\\\"\\n  338.948,1446.71 338.948,1446.71 370.003,1446.71 338.948,1446.71 \\n  \\\"\\/>\\n<path clip-path=\\\"url(#clip8002)\\\" d=\\\"\\nM377.766 1446.71 L377.766 1446.71 L408.821 1446.71 L408.821 1446.71 L377.766 1446.71 L377.766 1446.71  Z\\n  \\\" fill=\\\"#009af9\\\" fill-rule=\\\"evenodd\\\" fill-opacity=\\\"1\\\"\\/>\\n<polyline clip-path=\\\"url(#clip8002)\\\" style=\\\"stroke:#000000; stroke-width:4; stroke-opacity:1; fill:none\\\" points=\\\"\\n  377.766,1446.71 377.766,1446.71 408.821,1446.71 377.766,1446.71 \\n  \\\"\\/>\\n<path clip-path=\\\"url(#clip8002)\\\" d=\\\"\\nM416.585 1446.71 L416.585 1446.71 L447.639 1446.71 L447.639 1446.71 L416.585 1446.71 L416.585 1446.71  Z\\n  \\\" fill=\\\"#009af9\\\" fill-rule=\\\"evenodd\\\" fill-opacity=\\\"1\\\"\\/>\\n<polyline clip-path=\\\"url(#clip8002)\\\" style=\\\"stroke:#000000; stroke-width:4; stroke-opacity:1; fill:none\\\" points=\\\"\\n  416.585,1446.71 416.585,1446.71 447.639,1446.71 416.585,1446.71 \\n  \\\"\\/>\\n<path clip-path=\\\"url(#clip8002)\\\" d=\\\"\\nM455.403 1107.04 L455.403 1446.71 L486.458 1446.71 L486.458 1107.04 L455.403 1107.04 L455.403 1107.04  Z\\n  \\\" fill=\\\"#009af9\\\" fill-rule=\\\"evenodd\\\" fill-opacity=\\\"1\\\"\\/>\\n<polyline clip-path=\\\"url(#clip8002)\\\" style=\\\"stroke:#000000; stroke-width:4; stroke-opacity:1; fill:none\\\" points=\\\"\\n  455.403,1107.04 455.403,1446.71 486.458,1446.71 486.458,1107.04 455.403,1107.04 \\n  \\\"\\/>\\n<path clip-path=\\\"url(#clip8002)\\\" d=\\\"\\nM494.222 767.359 L494.222 1446.71 L525.276 1446.71 L525.276 767.359 L494.222 767.359 L494.222 767.359  Z\\n  \\\" fill=\\\"#009af9\\\" fill-rule=\\\"evenodd\\\" fill-opacity=\\\"1\\\"\\/>\\n<polyline clip-path=\\\"url(#clip8002)\\\" style=\\\"stroke:#000000; stroke-width:4; stroke-opacity:1; fill:none\\\" points=\\\"\\n  494.222,767.359 494.222,1446.71 525.276,1446.71 525.276,767.359 494.222,767.359 \\n  \\\"\\/>\\n<path clip-path=\\\"url(#clip8002)\\\" d=\\\"\\nM533.04 88.0053 L533.04 1446.71 L564.095 1446.71 L564.095 88.0053 L533.04 88.0053 L533.04 88.0053  Z\\n  \\\" fill=\\\"#009af9\\\" fill-rule=\\\"evenodd\\\" fill-opacity=\\\"1\\\"\\/>\\n<polyline clip-path=\\\"url(#clip8002)\\\" style=\\\"stroke:#000000; stroke-width:4; stroke-opacity:1; fill:none\\\" points=\\\"\\n  533.04,88.0053 533.04,1446.71 564.095,1446.71 564.095,88.0053 533.04,88.0053 \\n  \\\"\\/>\\n<path clip-path=\\\"url(#clip8002)\\\" d=\\\"\\nM571.858 767.359 L571.858 1446.71 L602.913 1446.71 L602.913 767.359 L571.858 767.359 L571.858 767.359  Z\\n  \\\" fill=\\\"#009af9\\\" fill-rule=\\\"evenodd\\\" fill-opacity=\\\"1\\\"\\/>\\n<polyline clip-path=\\\"url(#clip8002)\\\" style=\\\"stroke:#000000; stroke-width:4; stroke-opacity:1; fill:none\\\" points=\\\"\\n  571.858,767.359 571.858,1446.71 602.913,1446.71 602.913,767.359 571.858,767.359 \\n  \\\"\\/>\\n<path clip-path=\\\"url(#clip8002)\\\" d=\\\"\\nM610.677 767.359 L610.677 1446.71 L641.732 1446.71 L641.732 767.359 L610.677 767.359 L610.677 767.359  Z\\n  \\\" fill=\\\"#009af9\\\" fill-rule=\\\"evenodd\\\" fill-opacity=\\\"1\\\"\\/>\\n<polyline clip-path=\\\"url(#clip8002)\\\" style=\\\"stroke:#000000; stroke-width:4; stroke-opacity:1; fill:none\\\" points=\\\"\\n  610.677,767.359 610.677,1446.71 641.732,1446.71 641.732,767.359 610.677,767.359 \\n  \\\"\\/>\\n<path clip-path=\\\"url(#clip8002)\\\" d=\\\"\\nM649.495 1107.04 L649.495 1446.71 L680.55 1446.71 L680.55 1107.04 L649.495 1107.04 L649.495 1107.04  Z\\n  \\\" fill=\\\"#009af9\\\" fill-rule=\\\"evenodd\\\" fill-opacity=\\\"1\\\"\\/>\\n<polyline clip-path=\\\"url(#clip8002)\\\" style=\\\"stroke:#000000; stroke-width:4; stroke-opacity:1; fill:none\\\" points=\\\"\\n  649.495,1107.04 649.495,1446.71 680.55,1446.71 680.55,1107.04 649.495,1107.04 \\n  \\\"\\/>\\n<path clip-path=\\\"url(#clip8002)\\\" d=\\\"\\nM688.314 654.134 L688.314 1446.71 L719.368 1446.71 L719.368 654.134 L688.314 654.134 L688.314 654.134  Z\\n  \\\" fill=\\\"#009af9\\\" fill-rule=\\\"evenodd\\\" fill-opacity=\\\"1\\\"\\/>\\n<polyline clip-path=\\\"url(#clip8002)\\\" style=\\\"stroke:#000000; stroke-width:4; stroke-opacity:1; fill:none\\\" points=\\\"\\n  688.314,654.134 688.314,1446.71 719.368,1446.71 719.368,654.134 688.314,654.134 \\n  \\\"\\/>\\n<path clip-path=\\\"url(#clip8002)\\\" d=\\\"\\nM727.132 1107.04 L727.132 1446.71 L758.187 1446.71 L758.187 1107.04 L727.132 1107.04 L727.132 1107.04  Z\\n  \\\" fill=\\\"#009af9\\\" fill-rule=\\\"evenodd\\\" fill-opacity=\\\"1\\\"\\/>\\n<polyline clip-path=\\\"url(#clip8002)\\\" style=\\\"stroke:#000000; stroke-width:4; stroke-opacity:1; fill:none\\\" points=\\\"\\n  727.132,1107.04 727.132,1446.71 758.187,1446.71 758.187,1107.04 727.132,1107.04 \\n  \\\"\\/>\\n<path clip-path=\\\"url(#clip8002)\\\" d=\\\"\\nM765.95 1107.04 L765.95 1446.71 L797.005 1446.71 L797.005 1107.04 L765.95 1107.04 L765.95 1107.04  Z\\n  \\\" fill=\\\"#009af9\\\" fill-rule=\\\"evenodd\\\" fill-opacity=\\\"1\\\"\\/>\\n<polyline clip-path=\\\"url(#clip8002)\\\" style=\\\"stroke:#000000; stroke-width:4; stroke-opacity:1; fill:none\\\" points=\\\"\\n  765.95,1107.04 765.95,1446.71 797.005,1446.71 797.005,1107.04 765.95,1107.04 \\n  \\\"\\/>\\n<path clip-path=\\\"url(#clip8002)\\\" d=\\\"\\nM804.769 1446.71 L804.769 1446.71 L835.824 1446.71 L835.824 1446.71 L804.769 1446.71 L804.769 1446.71  Z\\n  \\\" fill=\\\"#009af9\\\" fill-rule=\\\"evenodd\\\" fill-opacity=\\\"1\\\"\\/>\\n<polyline clip-path=\\\"url(#clip8002)\\\" style=\\\"stroke:#000000; stroke-width:4; stroke-opacity:1; fill:none\\\" points=\\\"\\n  804.769,1446.71 804.769,1446.71 835.824,1446.71 804.769,1446.71 \\n  \\\"\\/>\\n<path clip-path=\\\"url(#clip8002)\\\" d=\\\"\\nM843.587 1333.49 L843.587 1446.71 L874.642 1446.71 L874.642 1333.49 L843.587 1333.49 L843.587 1333.49  Z\\n  \\\" fill=\\\"#009af9\\\" fill-rule=\\\"evenodd\\\" fill-opacity=\\\"1\\\"\\/>\\n<polyline clip-path=\\\"url(#clip8002)\\\" style=\\\"stroke:#000000; stroke-width:4; stroke-opacity:1; fill:none\\\" points=\\\"\\n  843.587,1333.49 843.587,1446.71 874.642,1446.71 874.642,1333.49 843.587,1333.49 \\n  \\\"\\/>\\n<path clip-path=\\\"url(#clip8002)\\\" d=\\\"\\nM882.406 1446.71 L882.406 1446.71 L913.46 1446.71 L913.46 1446.71 L882.406 1446.71 L882.406 1446.71  Z\\n  \\\" fill=\\\"#009af9\\\" fill-rule=\\\"evenodd\\\" fill-opacity=\\\"1\\\"\\/>\\n<polyline clip-path=\\\"url(#clip8002)\\\" style=\\\"stroke:#000000; stroke-width:4; stroke-opacity:1; fill:none\\\" points=\\\"\\n  882.406,1446.71 882.406,1446.71 913.46,1446.71 882.406,1446.71 \\n  \\\"\\/>\\n<path clip-path=\\\"url(#clip8002)\\\" d=\\\"\\nM921.224 1446.71 L921.224 1446.71 L952.279 1446.71 L952.279 1446.71 L921.224 1446.71 L921.224 1446.71  Z\\n  \\\" fill=\\\"#009af9\\\" fill-rule=\\\"evenodd\\\" fill-opacity=\\\"1\\\"\\/>\\n<polyline clip-path=\\\"url(#clip8002)\\\" style=\\\"stroke:#000000; stroke-width:4; stroke-opacity:1; fill:none\\\" points=\\\"\\n  921.224,1446.71 921.224,1446.71 952.279,1446.71 921.224,1446.71 \\n  \\\"\\/>\\n<path clip-path=\\\"url(#clip8002)\\\" d=\\\"\\nM960.043 1446.71 L960.043 1446.71 L991.097 1446.71 L991.097 1446.71 L960.043 1446.71 L960.043 1446.71  Z\\n  \\\" fill=\\\"#009af9\\\" fill-rule=\\\"evenodd\\\" fill-opacity=\\\"1\\\"\\/>\\n<polyline clip-path=\\\"url(#clip8002)\\\" style=\\\"stroke:#000000; stroke-width:4; stroke-opacity:1; fill:none\\\" points=\\\"\\n  960.043,1446.71 960.043,1446.71 991.097,1446.71 960.043,1446.71 \\n  \\\"\\/>\\n<path clip-path=\\\"url(#clip8002)\\\" d=\\\"\\nM998.861 1446.71 L998.861 1446.71 L1029.92 1446.71 L1029.92 1446.71 L998.861 1446.71 L998.861 1446.71  Z\\n  \\\" fill=\\\"#009af9\\\" fill-rule=\\\"evenodd\\\" fill-opacity=\\\"1\\\"\\/>\\n<polyline clip-path=\\\"url(#clip8002)\\\" style=\\\"stroke:#000000; stroke-width:4; stroke-opacity:1; fill:none\\\" points=\\\"\\n  998.861,1446.71 998.861,1446.71 1029.92,1446.71 998.861,1446.71 \\n  \\\"\\/>\\n<path clip-path=\\\"url(#clip8002)\\\" d=\\\"\\nM1037.68 1446.71 L1037.68 1446.71 L1068.73 1446.71 L1068.73 1446.71 L1037.68 1446.71 L1037.68 1446.71  Z\\n  \\\" fill=\\\"#009af9\\\" fill-rule=\\\"evenodd\\\" fill-opacity=\\\"1\\\"\\/>\\n<polyline clip-path=\\\"url(#clip8002)\\\" style=\\\"stroke:#000000; stroke-width:4; stroke-opacity:1; fill:none\\\" points=\\\"\\n  1037.68,1446.71 1037.68,1446.71 1068.73,1446.71 1037.68,1446.71 \\n  \\\"\\/>\\n<path clip-path=\\\"url(#clip8002)\\\" d=\\\"\\nM1076.5 1446.71 L1076.5 1446.71 L1107.55 1446.71 L1107.55 1446.71 L1076.5 1446.71 L1076.5 1446.71  Z\\n  \\\" fill=\\\"#009af9\\\" fill-rule=\\\"evenodd\\\" fill-opacity=\\\"1\\\"\\/>\\n<polyline clip-path=\\\"url(#clip8002)\\\" style=\\\"stroke:#000000; stroke-width:4; stroke-opacity:1; fill:none\\\" points=\\\"\\n  1076.5,1446.71 1076.5,1446.71 1107.55,1446.71 1076.5,1446.71 \\n  \\\"\\/>\\n<path clip-path=\\\"url(#clip8002)\\\" d=\\\"\\nM1115.32 1446.71 L1115.32 1446.71 L1146.37 1446.71 L1146.37 1446.71 L1115.32 1446.71 L1115.32 1446.71  Z\\n  \\\" fill=\\\"#009af9\\\" fill-rule=\\\"evenodd\\\" fill-opacity=\\\"1\\\"\\/>\\n<polyline clip-path=\\\"url(#clip8002)\\\" style=\\\"stroke:#000000; stroke-width:4; stroke-opacity:1; fill:none\\\" points=\\\"\\n  1115.32,1446.71 1115.32,1446.71 1146.37,1446.71 1115.32,1446.71 \\n  \\\"\\/>\\n<path clip-path=\\\"url(#clip8002)\\\" d=\\\"\\nM1154.13 1446.71 L1154.13 1446.71 L1185.19 1446.71 L1185.19 1446.71 L1154.13 1446.71 L1154.13 1446.71  Z\\n  \\\" fill=\\\"#009af9\\\" fill-rule=\\\"evenodd\\\" fill-opacity=\\\"1\\\"\\/>\\n<polyline clip-path=\\\"url(#clip8002)\\\" style=\\\"stroke:#000000; stroke-width:4; stroke-opacity:1; fill:none\\\" points=\\\"\\n  1154.13,1446.71 1154.13,1446.71 1185.19,1446.71 1154.13,1446.71 \\n  \\\"\\/>\\n<path clip-path=\\\"url(#clip8002)\\\" d=\\\"\\nM1192.95 1446.71 L1192.95 1446.71 L1224.01 1446.71 L1224.01 1446.71 L1192.95 1446.71 L1192.95 1446.71  Z\\n  \\\" fill=\\\"#009af9\\\" fill-rule=\\\"evenodd\\\" fill-opacity=\\\"1\\\"\\/>\\n<polyline clip-path=\\\"url(#clip8002)\\\" style=\\\"stroke:#000000; stroke-width:4; stroke-opacity:1; fill:none\\\" points=\\\"\\n  1192.95,1446.71 1192.95,1446.71 1224.01,1446.71 1192.95,1446.71 \\n  \\\"\\/>\\n<path clip-path=\\\"url(#clip8002)\\\" d=\\\"\\nM1231.77 1446.71 L1231.77 1446.71 L1262.83 1446.71 L1262.83 1446.71 L1231.77 1446.71 L1231.77 1446.71  Z\\n  \\\" fill=\\\"#009af9\\\" fill-rule=\\\"evenodd\\\" fill-opacity=\\\"1\\\"\\/>\\n<polyline clip-path=\\\"url(#clip8002)\\\" style=\\\"stroke:#000000; stroke-width:4; stroke-opacity:1; fill:none\\\" points=\\\"\\n  1231.77,1446.71 1231.77,1446.71 1262.83,1446.71 1231.77,1446.71 \\n  \\\"\\/>\\n<path clip-path=\\\"url(#clip8002)\\\" d=\\\"\\nM1270.59 1446.71 L1270.59 1446.71 L1301.64 1446.71 L1301.64 1446.71 L1270.59 1446.71 L1270.59 1446.71  Z\\n  \\\" fill=\\\"#009af9\\\" fill-rule=\\\"evenodd\\\" fill-opacity=\\\"1\\\"\\/>\\n<polyline clip-path=\\\"url(#clip8002)\\\" style=\\\"stroke:#000000; stroke-width:4; stroke-opacity:1; fill:none\\\" points=\\\"\\n  1270.59,1446.71 1270.59,1446.71 1301.64,1446.71 1270.59,1446.71 \\n  \\\"\\/>\\n<path clip-path=\\\"url(#clip8002)\\\" d=\\\"\\nM1309.41 1446.71 L1309.41 1446.71 L1340.46 1446.71 L1340.46 1446.71 L1309.41 1446.71 L1309.41 1446.71  Z\\n  \\\" fill=\\\"#009af9\\\" fill-rule=\\\"evenodd\\\" fill-opacity=\\\"1\\\"\\/>\\n<polyline clip-path=\\\"url(#clip8002)\\\" style=\\\"stroke:#000000; stroke-width:4; stroke-opacity:1; fill:none\\\" points=\\\"\\n  1309.41,1446.71 1309.41,1446.71 1340.46,1446.71 1309.41,1446.71 \\n  \\\"\\/>\\n<path clip-path=\\\"url(#clip8002)\\\" d=\\\"\\nM1348.23 1446.71 L1348.23 1446.71 L1379.28 1446.71 L1379.28 1446.71 L1348.23 1446.71 L1348.23 1446.71  Z\\n  \\\" fill=\\\"#009af9\\\" fill-rule=\\\"evenodd\\\" fill-opacity=\\\"1\\\"\\/>\\n<polyline clip-path=\\\"url(#clip8002)\\\" style=\\\"stroke:#000000; stroke-width:4; stroke-opacity:1; fill:none\\\" points=\\\"\\n  1348.23,1446.71 1348.23,1446.71 1379.28,1446.71 1348.23,1446.71 \\n  \\\"\\/>\\n<path clip-path=\\\"url(#clip8002)\\\" d=\\\"\\nM1387.05 1446.71 L1387.05 1446.71 L1418.1 1446.71 L1418.1 1446.71 L1387.05 1446.71 L1387.05 1446.71  Z\\n  \\\" fill=\\\"#009af9\\\" fill-rule=\\\"evenodd\\\" fill-opacity=\\\"1\\\"\\/>\\n<polyline clip-path=\\\"url(#clip8002)\\\" style=\\\"stroke:#000000; stroke-width:4; stroke-opacity:1; fill:none\\\" points=\\\"\\n  1387.05,1446.71 1387.05,1446.71 1418.1,1446.71 1387.05,1446.71 \\n  \\\"\\/>\\n<path clip-path=\\\"url(#clip8002)\\\" d=\\\"\\nM1425.86 1446.71 L1425.86 1446.71 L1456.92 1446.71 L1456.92 1446.71 L1425.86 1446.71 L1425.86 1446.71  Z\\n  \\\" fill=\\\"#009af9\\\" fill-rule=\\\"evenodd\\\" fill-opacity=\\\"1\\\"\\/>\\n<polyline clip-path=\\\"url(#clip8002)\\\" style=\\\"stroke:#000000; stroke-width:4; stroke-opacity:1; fill:none\\\" points=\\\"\\n  1425.86,1446.71 1425.86,1446.71 1456.92,1446.71 1425.86,1446.71 \\n  \\\"\\/>\\n<path clip-path=\\\"url(#clip8002)\\\" d=\\\"\\nM1464.68 1446.71 L1464.68 1446.71 L1495.74 1446.71 L1495.74 1446.71 L1464.68 1446.71 L1464.68 1446.71  Z\\n  \\\" fill=\\\"#009af9\\\" fill-rule=\\\"evenodd\\\" fill-opacity=\\\"1\\\"\\/>\\n<polyline clip-path=\\\"url(#clip8002)\\\" style=\\\"stroke:#000000; stroke-width:4; stroke-opacity:1; fill:none\\\" points=\\\"\\n  1464.68,1446.71 1464.68,1446.71 1495.74,1446.71 1464.68,1446.71 \\n  \\\"\\/>\\n<path clip-path=\\\"url(#clip8002)\\\" d=\\\"\\nM1503.5 1446.71 L1503.5 1446.71 L1534.56 1446.71 L1534.56 1446.71 L1503.5 1446.71 L1503.5 1446.71  Z\\n  \\\" fill=\\\"#009af9\\\" fill-rule=\\\"evenodd\\\" fill-opacity=\\\"1\\\"\\/>\\n<polyline clip-path=\\\"url(#clip8002)\\\" style=\\\"stroke:#000000; stroke-width:4; stroke-opacity:1; fill:none\\\" points=\\\"\\n  1503.5,1446.71 1503.5,1446.71 1534.56,1446.71 1503.5,1446.71 \\n  \\\"\\/>\\n<path clip-path=\\\"url(#clip8002)\\\" d=\\\"\\nM1542.32 1446.71 L1542.32 1446.71 L1573.37 1446.71 L1573.37 1446.71 L1542.32 1446.71 L1542.32 1446.71  Z\\n  \\\" fill=\\\"#009af9\\\" fill-rule=\\\"evenodd\\\" fill-opacity=\\\"1\\\"\\/>\\n<polyline clip-path=\\\"url(#clip8002)\\\" style=\\\"stroke:#000000; stroke-width:4; stroke-opacity:1; fill:none\\\" points=\\\"\\n  1542.32,1446.71 1542.32,1446.71 1573.37,1446.71 1542.32,1446.71 \\n  \\\"\\/>\\n<path clip-path=\\\"url(#clip8002)\\\" d=\\\"\\nM1581.14 1446.71 L1581.14 1446.71 L1612.19 1446.71 L1612.19 1446.71 L1581.14 1446.71 L1581.14 1446.71  Z\\n  \\\" fill=\\\"#009af9\\\" fill-rule=\\\"evenodd\\\" fill-opacity=\\\"1\\\"\\/>\\n<polyline clip-path=\\\"url(#clip8002)\\\" style=\\\"stroke:#000000; stroke-width:4; stroke-opacity:1; fill:none\\\" points=\\\"\\n  1581.14,1446.71 1581.14,1446.71 1612.19,1446.71 1581.14,1446.71 \\n  \\\"\\/>\\n<path clip-path=\\\"url(#clip8002)\\\" d=\\\"\\nM1619.96 1446.71 L1619.96 1446.71 L1651.01 1446.71 L1651.01 1446.71 L1619.96 1446.71 L1619.96 1446.71  Z\\n  \\\" fill=\\\"#009af9\\\" fill-rule=\\\"evenodd\\\" fill-opacity=\\\"1\\\"\\/>\\n<polyline clip-path=\\\"url(#clip8002)\\\" style=\\\"stroke:#000000; stroke-width:4; stroke-opacity:1; fill:none\\\" points=\\\"\\n  1619.96,1446.71 1619.96,1446.71 1651.01,1446.71 1619.96,1446.71 \\n  \\\"\\/>\\n<path clip-path=\\\"url(#clip8002)\\\" d=\\\"\\nM1658.77 1446.71 L1658.77 1446.71 L1689.83 1446.71 L1689.83 1446.71 L1658.77 1446.71 L1658.77 1446.71  Z\\n  \\\" fill=\\\"#009af9\\\" fill-rule=\\\"evenodd\\\" fill-opacity=\\\"1\\\"\\/>\\n<polyline clip-path=\\\"url(#clip8002)\\\" style=\\\"stroke:#000000; stroke-width:4; stroke-opacity:1; fill:none\\\" points=\\\"\\n  1658.77,1446.71 1658.77,1446.71 1689.83,1446.71 1658.77,1446.71 \\n  \\\"\\/>\\n<path clip-path=\\\"url(#clip8002)\\\" d=\\\"\\nM1697.59 1446.71 L1697.59 1446.71 L1728.65 1446.71 L1728.65 1446.71 L1697.59 1446.71 L1697.59 1446.71  Z\\n  \\\" fill=\\\"#009af9\\\" fill-rule=\\\"evenodd\\\" fill-opacity=\\\"1\\\"\\/>\\n<polyline clip-path=\\\"url(#clip8002)\\\" style=\\\"stroke:#000000; stroke-width:4; stroke-opacity:1; fill:none\\\" points=\\\"\\n  1697.59,1446.71 1697.59,1446.71 1728.65,1446.71 1697.59,1446.71 \\n  \\\"\\/>\\n<path clip-path=\\\"url(#clip8002)\\\" d=\\\"\\nM1736.41 1446.71 L1736.41 1446.71 L1767.47 1446.71 L1767.47 1446.71 L1736.41 1446.71 L1736.41 1446.71  Z\\n  \\\" fill=\\\"#009af9\\\" fill-rule=\\\"evenodd\\\" fill-opacity=\\\"1\\\"\\/>\\n<polyline clip-path=\\\"url(#clip8002)\\\" style=\\\"stroke:#000000; stroke-width:4; stroke-opacity:1; fill:none\\\" points=\\\"\\n  1736.41,1446.71 1736.41,1446.71 1767.47,1446.71 1736.41,1446.71 \\n  \\\"\\/>\\n<path clip-path=\\\"url(#clip8002)\\\" d=\\\"\\nM1775.23 1446.71 L1775.23 1446.71 L1806.28 1446.71 L1806.28 1446.71 L1775.23 1446.71 L1775.23 1446.71  Z\\n  \\\" fill=\\\"#009af9\\\" fill-rule=\\\"evenodd\\\" fill-opacity=\\\"1\\\"\\/>\\n<polyline clip-path=\\\"url(#clip8002)\\\" style=\\\"stroke:#000000; stroke-width:4; stroke-opacity:1; fill:none\\\" points=\\\"\\n  1775.23,1446.71 1775.23,1446.71 1806.28,1446.71 1775.23,1446.71 \\n  \\\"\\/>\\n<path clip-path=\\\"url(#clip8002)\\\" d=\\\"\\nM1814.05 1446.71 L1814.05 1446.71 L1845.1 1446.71 L1845.1 1446.71 L1814.05 1446.71 L1814.05 1446.71  Z\\n  \\\" fill=\\\"#009af9\\\" fill-rule=\\\"evenodd\\\" fill-opacity=\\\"1\\\"\\/>\\n<polyline clip-path=\\\"url(#clip8002)\\\" style=\\\"stroke:#000000; stroke-width:4; stroke-opacity:1; fill:none\\\" points=\\\"\\n  1814.05,1446.71 1814.05,1446.71 1845.1,1446.71 1814.05,1446.71 \\n  \\\"\\/>\\n<path clip-path=\\\"url(#clip8002)\\\" d=\\\"\\nM1852.87 1446.71 L1852.87 1446.71 L1883.92 1446.71 L1883.92 1446.71 L1852.87 1446.71 L1852.87 1446.71  Z\\n  \\\" fill=\\\"#009af9\\\" fill-rule=\\\"evenodd\\\" fill-opacity=\\\"1\\\"\\/>\\n<polyline clip-path=\\\"url(#clip8002)\\\" style=\\\"stroke:#000000; stroke-width:4; stroke-opacity:1; fill:none\\\" points=\\\"\\n  1852.87,1446.71 1852.87,1446.71 1883.92,1446.71 1852.87,1446.71 \\n  \\\"\\/>\\n<path clip-path=\\\"url(#clip8002)\\\" d=\\\"\\nM1891.68 1446.71 L1891.68 1446.71 L1922.74 1446.71 L1922.74 1446.71 L1891.68 1446.71 L1891.68 1446.71  Z\\n  \\\" fill=\\\"#009af9\\\" fill-rule=\\\"evenodd\\\" fill-opacity=\\\"1\\\"\\/>\\n<polyline clip-path=\\\"url(#clip8002)\\\" style=\\\"stroke:#000000; stroke-width:4; stroke-opacity:1; fill:none\\\" points=\\\"\\n  1891.68,1446.71 1891.68,1446.71 1922.74,1446.71 1891.68,1446.71 \\n  \\\"\\/>\\n<path clip-path=\\\"url(#clip8002)\\\" d=\\\"\\nM1930.5 1446.71 L1930.5 1446.71 L1961.56 1446.71 L1961.56 1446.71 L1930.5 1446.71 L1930.5 1446.71  Z\\n  \\\" fill=\\\"#009af9\\\" fill-rule=\\\"evenodd\\\" fill-opacity=\\\"1\\\"\\/>\\n<polyline clip-path=\\\"url(#clip8002)\\\" style=\\\"stroke:#000000; stroke-width:4; stroke-opacity:1; fill:none\\\" points=\\\"\\n  1930.5,1446.71 1930.5,1446.71 1961.56,1446.71 1930.5,1446.71 \\n  \\\"\\/>\\n<path clip-path=\\\"url(#clip8002)\\\" d=\\\"\\nM1969.32 1446.71 L1969.32 1446.71 L2000.38 1446.71 L2000.38 1446.71 L1969.32 1446.71 L1969.32 1446.71  Z\\n  \\\" fill=\\\"#009af9\\\" fill-rule=\\\"evenodd\\\" fill-opacity=\\\"1\\\"\\/>\\n<polyline clip-path=\\\"url(#clip8002)\\\" style=\\\"stroke:#000000; stroke-width:4; stroke-opacity:1; fill:none\\\" points=\\\"\\n  1969.32,1446.71 1969.32,1446.71 2000.38,1446.71 1969.32,1446.71 \\n  \\\"\\/>\\n<path clip-path=\\\"url(#clip8002)\\\" d=\\\"\\nM2008.14 1446.71 L2008.14 1446.71 L2039.19 1446.71 L2039.19 1446.71 L2008.14 1446.71 L2008.14 1446.71  Z\\n  \\\" fill=\\\"#009af9\\\" fill-rule=\\\"evenodd\\\" fill-opacity=\\\"1\\\"\\/>\\n<polyline clip-path=\\\"url(#clip8002)\\\" style=\\\"stroke:#000000; stroke-width:4; stroke-opacity:1; fill:none\\\" points=\\\"\\n  2008.14,1446.71 2008.14,1446.71 2039.19,1446.71 2008.14,1446.71 \\n  \\\"\\/>\\n<path clip-path=\\\"url(#clip8002)\\\" d=\\\"\\nM2046.96 1446.71 L2046.96 1446.71 L2078.01 1446.71 L2078.01 1446.71 L2046.96 1446.71 L2046.96 1446.71  Z\\n  \\\" fill=\\\"#009af9\\\" fill-rule=\\\"evenodd\\\" fill-opacity=\\\"1\\\"\\/>\\n<polyline clip-path=\\\"url(#clip8002)\\\" style=\\\"stroke:#000000; stroke-width:4; stroke-opacity:1; fill:none\\\" points=\\\"\\n  2046.96,1446.71 2046.96,1446.71 2078.01,1446.71 2046.96,1446.71 \\n  \\\"\\/>\\n<path clip-path=\\\"url(#clip8002)\\\" d=\\\"\\nM2085.78 1446.71 L2085.78 1446.71 L2116.83 1446.71 L2116.83 1446.71 L2085.78 1446.71 L2085.78 1446.71  Z\\n  \\\" fill=\\\"#009af9\\\" fill-rule=\\\"evenodd\\\" fill-opacity=\\\"1\\\"\\/>\\n<polyline clip-path=\\\"url(#clip8002)\\\" style=\\\"stroke:#000000; stroke-width:4; stroke-opacity:1; fill:none\\\" points=\\\"\\n  2085.78,1446.71 2085.78,1446.71 2116.83,1446.71 2085.78,1446.71 \\n  \\\"\\/>\\n<path clip-path=\\\"url(#clip8002)\\\" d=\\\"\\nM2124.6 1446.71 L2124.6 1446.71 L2155.65 1446.71 L2155.65 1446.71 L2124.6 1446.71 L2124.6 1446.71  Z\\n  \\\" fill=\\\"#009af9\\\" fill-rule=\\\"evenodd\\\" fill-opacity=\\\"1\\\"\\/>\\n<polyline clip-path=\\\"url(#clip8002)\\\" style=\\\"stroke:#000000; stroke-width:4; stroke-opacity:1; fill:none\\\" points=\\\"\\n  2124.6,1446.71 2124.6,1446.71 2155.65,1446.71 2124.6,1446.71 \\n  \\\"\\/>\\n<path clip-path=\\\"url(#clip8002)\\\" d=\\\"\\nM2163.41 1446.71 L2163.41 1446.71 L2194.47 1446.71 L2194.47 1446.71 L2163.41 1446.71 L2163.41 1446.71  Z\\n  \\\" fill=\\\"#009af9\\\" fill-rule=\\\"evenodd\\\" fill-opacity=\\\"1\\\"\\/>\\n<polyline clip-path=\\\"url(#clip8002)\\\" style=\\\"stroke:#000000; stroke-width:4; stroke-opacity:1; fill:none\\\" points=\\\"\\n  2163.41,1446.71 2163.41,1446.71 2194.47,1446.71 2163.41,1446.71 \\n  \\\"\\/>\\n<path clip-path=\\\"url(#clip8002)\\\" d=\\\"\\nM2202.23 1446.71 L2202.23 1446.71 L2233.29 1446.71 L2233.29 1446.71 L2202.23 1446.71 L2202.23 1446.71  Z\\n  \\\" fill=\\\"#009af9\\\" fill-rule=\\\"evenodd\\\" fill-opacity=\\\"1\\\"\\/>\\n<polyline clip-path=\\\"url(#clip8002)\\\" style=\\\"stroke:#000000; stroke-width:4; stroke-opacity:1; fill:none\\\" points=\\\"\\n  2202.23,1446.71 2202.23,1446.71 2233.29,1446.71 2202.23,1446.71 \\n  \\\"\\/>\\n<path clip-path=\\\"url(#clip8000)\\\" d=\\\"\\nM1989.93 251.724 L2280.76 251.724 L2280.76 130.764 L1989.93 130.764  Z\\n  \\\" fill=\\\"#ffffff\\\" fill-rule=\\\"evenodd\\\" fill-opacity=\\\"1\\\"\\/>\\n<polyline clip-path=\\\"url(#clip8000)\\\" style=\\\"stroke:#000000; stroke-width:4; stroke-opacity:1; fill:none\\\" points=\\\"\\n  1989.93,251.724 2280.76,251.724 2280.76,130.764 1989.93,130.764 1989.93,251.724 \\n  \\\"\\/>\\n<path clip-path=\\\"url(#clip8000)\\\" d=\\\"\\nM2013.93 215.436 L2157.93 215.436 L2157.93 167.052 L2013.93 167.052 L2013.93 215.436  Z\\n  \\\" fill=\\\"#009af9\\\" fill-rule=\\\"evenodd\\\" fill-opacity=\\\"1\\\"\\/>\\n<polyline clip-path=\\\"url(#clip8000)\\\" style=\\\"stroke:#000000; stroke-width:4; stroke-opacity:1; fill:none\\\" points=\\\"\\n  2013.93,215.436 2157.93,215.436 2157.93,167.052 2013.93,167.052 2013.93,215.436 \\n  \\\"\\/>\\n<g clip-path=\\\"url(#clip8000)\\\">\\n<text style=\\\"fill:#000000; fill-opacity:1; font-family:Arial,Helvetica Neue,Helvetica,sans-serif; font-size:48px; text-anchor:start;\\\" transform=\\\"rotate(0, 2181.93, 208.744)\\\" x=\\\"2181.93\\\" y=\\\"208.744\\\">y1<\\/text>\\n<\\/g>\\n<\\/svg>\\n\"},\"nodeType\":\"DOM\",\"type\":\"node\",\"instanceArgs\":{\"namespace\":\"html\",\"tag\":\"div\"},\"children\":[]}]}}}},\"children\":[{\"props\":{},\"nodeType\":\"ObservableNode\",\"type\":\"node\",\"instanceArgs\":{\"id\":\"ob_08\",\"name\":\"obs-node\"},\"children\":[]}]}]},\n",
       "            window,\n",
       "        );\n",
       "    } else {\n",
       "        document\n",
       "            .querySelector('[data-webio-mountpoint=\"553397547446703446\"]')\n",
       "            .innerHTML = (\n",
       "                '<strong>WebIO not detected. Please read ' +\n",
       "                '<a href=\"https://juliagizmos.github.io/WebIO.jl/latest/troubleshooting/not-detected/\">the troubleshooting guide</a> ' +\n",
       "                'for more information on how to resolve this issue.' +\n",
       "                '</strong>'\n",
       "            );\n",
       "    }\n",
       "    </script>\n",
       "</div>\n"
      ],
      "text/plain": [
       "Node{WebIO.DOM}(WebIO.DOM(:html, :div), Any[Node{WebIO.DOM}(WebIO.DOM(:html, :div), Any[Scope(Node{WebIO.DOM}(WebIO.DOM(:html, :div), Any[Node{WebIO.DOM}(WebIO.DOM(:html, :div), Any[Node{WebIO.DOM}(WebIO.DOM(:html, :label), Any[\"N\"], Dict{Symbol,Any}(:className => \"interact \",:style => Dict{Any,Any}(:padding => \"5px 10px 0px 10px\")))], Dict{Symbol,Any}(:className => \"interact-flex-row-left\")), Node{WebIO.DOM}(WebIO.DOM(:html, :div), Any[Node{WebIO.DOM}(WebIO.DOM(:html, :input), Any[], Dict{Symbol,Any}(:max => 100,:min => 1,:attributes => Dict{Any,Any}(:type => \"range\",Symbol(\"data-bind\") => \"numericValue: index, valueUpdate: 'input', event: {change: function (){this.changes(this.changes()+1)}}\",\"orient\" => \"horizontal\"),:step => 1,:className => \"slider slider is-fullwidth\",:style => Dict{Any,Any}()))], Dict{Symbol,Any}(:className => \"interact-flex-row-center\")), Node{WebIO.DOM}(WebIO.DOM(:html, :div), Any[Node{WebIO.DOM}(WebIO.DOM(:html, :p), Any[], Dict{Symbol,Any}(:attributes => Dict(\"data-bind\" => \"text: formatted_val\")))], Dict{Symbol,Any}(:className => \"interact-flex-row-right\"))], Dict{Symbol,Any}(:className => \"interact-flex-row interact-widget\")), Dict{String,Tuple{Observables.AbstractObservable,Union{Nothing, Bool}}}(\"changes\" => (Observable{Int64} with 1 listeners. Value:\n",
       "0, nothing),\"index\" => (Observable{Int64} with 2 listeners. Value:\n",
       "50, nothing)), Set(String[]), nothing, Asset[Asset(\"js\", \"knockout\", \"/Users/dpsanders/.julia/packages/Knockout/1sDlc/src/../assets/knockout.js\"), Asset(\"js\", \"knockout_punches\", \"/Users/dpsanders/.julia/packages/Knockout/1sDlc/src/../assets/knockout_punches.js\"), Asset(\"js\", nothing, \"/Users/dpsanders/.julia/packages/InteractBase/9mFwe/src/../assets/all.js\"), Asset(\"css\", nothing, \"/Users/dpsanders/.julia/packages/InteractBase/9mFwe/src/../assets/style.css\"), Asset(\"css\", nothing, \"/Users/dpsanders/.julia/packages/Interact/SbgIk/src/../assets/bulma_confined.min.css\")], Dict{Any,Any}(\"changes\" => Any[WebIO.JSString(\"(function (val){return (val!=this.model[\\\"changes\\\"]()) ? (this.valueFromJulia[\\\"changes\\\"]=true, this.model[\\\"changes\\\"](val)) : undefined})\")],\"index\" => Any[WebIO.JSString(\"(function (val){return (val!=this.model[\\\"index\\\"]()) ? (this.valueFromJulia[\\\"index\\\"]=true, this.model[\\\"index\\\"](val)) : undefined})\")]), WebIO.ConnectionPool(Channel{Any}(sz_max:32,sz_curr:0), Set(AbstractConnection[]), Base.GenericCondition{Base.AlwaysLockedST}(Base.InvasiveLinkedList{Task}(Task (runnable) @0x000000011c599d50, Task (runnable) @0x000000011c599d50), Base.AlwaysLockedST(1))), WebIO.JSString[WebIO.JSString(\"function () {\\n    var handler = (function (ko, koPunches) {\\n    ko.punches.enableAll();\\n    ko.bindingHandlers.numericValue = {\\n        init: function(element, valueAccessor, allBindings, data, context) {\\n            var stringified = ko.observable(ko.unwrap(valueAccessor()));\\n            stringified.subscribe(function(value) {\\n                var val = parseFloat(value);\\n                if (!isNaN(val)) {\\n                    valueAccessor()(val);\\n                }\\n            });\\n            valueAccessor().subscribe(function(value) {\\n                var str = JSON.stringify(value);\\n                if ((str == \\\"0\\\") && ([\\\"-0\\\", \\\"-0.\\\"].indexOf(stringified()) >= 0))\\n                     return;\\n                 if ([\\\"null\\\", \\\"\\\"].indexOf(str) >= 0)\\n                     return;\\n                stringified(str);\\n            });\\n            ko.applyBindingsToNode(\\n                element,\\n                {\\n                    value: stringified,\\n                    valueUpdate: allBindings.get('valueUpdate'),\\n                },\\n                context,\\n            );\\n        }\\n    };\\n    var json_data = {\\\"formatted_vals\\\":[\\\"1\\\",\\\"2\\\",\\\"3\\\",\\\"4\\\",\\\"5\\\",\\\"6\\\",\\\"7\\\",\\\"8\\\",\\\"9\\\",\\\"10\\\",\\\"11\\\",\\\"12\\\",\\\"13\\\",\\\"14\\\",\\\"15\\\",\\\"16\\\",\\\"17\\\",\\\"18\\\",\\\"19\\\",\\\"20\\\",\\\"21\\\",\\\"22\\\",\\\"23\\\",\\\"24\\\",\\\"25\\\",\\\"26\\\",\\\"27\\\",\\\"28\\\",\\\"29\\\",\\\"30\\\",\\\"31\\\",\\\"32\\\",\\\"33\\\",\\\"34\\\",\\\"35\\\",\\\"36\\\",\\\"37\\\",\\\"38\\\",\\\"39\\\",\\\"40\\\",\\\"41\\\",\\\"42\\\",\\\"43\\\",\\\"44\\\",\\\"45\\\",\\\"46\\\",\\\"47\\\",\\\"48\\\",\\\"49\\\",\\\"50\\\",\\\"51\\\",\\\"52\\\",\\\"53\\\",\\\"54\\\",\\\"55\\\",\\\"56\\\",\\\"57\\\",\\\"58\\\",\\\"59\\\",\\\"60\\\",\\\"61\\\",\\\"62\\\",\\\"63\\\",\\\"64\\\",\\\"65\\\",\\\"66\\\",\\\"67\\\",\\\"68\\\",\\\"69\\\",\\\"70\\\",\\\"71\\\",\\\"72\\\",\\\"73\\\",\\\"74\\\",\\\"75\\\",\\\"76\\\",\\\"77\\\",\\\"78\\\",\\\"79\\\",\\\"80\\\",\\\"81\\\",\\\"82\\\",\\\"83\\\",\\\"84\\\",\\\"85\\\",\\\"86\\\",\\\"87\\\",\\\"88\\\",\\\"89\\\",\\\"90\\\",\\\"91\\\",\\\"92\\\",\\\"93\\\",\\\"94\\\",\\\"95\\\",\\\"96\\\",\\\"97\\\",\\\"98\\\",\\\"99\\\",\\\"100\\\"],\\\"changes\\\":WebIO.getval({\\\"name\\\":\\\"changes\\\",\\\"scope\\\":\\\"5691111776126644276\\\",\\\"id\\\":\\\"ob_02\\\",\\\"type\\\":\\\"observable\\\"}),\\\"index\\\":WebIO.getval({\\\"name\\\":\\\"index\\\",\\\"scope\\\":\\\"5691111776126644276\\\",\\\"id\\\":\\\"ob_01\\\",\\\"type\\\":\\\"observable\\\"})};\\n    var self = this;\\n    function AppViewModel() {\\n        for (var key in json_data) {\\n            var el = json_data[key];\\n            this[key] = Array.isArray(el) ? ko.observableArray(el) : ko.observable(el);\\n        }\\n        \\n        [this[\\\"formatted_val\\\"]=ko.computed(    function(){\\n        return this.formatted_vals()[parseInt(this.index())-(1)];\\n    }\\n,this)]\\n        [this[\\\"changes\\\"].subscribe((function (val){!(this.valueFromJulia[\\\"changes\\\"]) ? (WebIO.setval({\\\"name\\\":\\\"changes\\\",\\\"scope\\\":\\\"5691111776126644276\\\",\\\"id\\\":\\\"ob_02\\\",\\\"type\\\":\\\"observable\\\"},val)) : undefined; return this.valueFromJulia[\\\"changes\\\"]=false}),self),this[\\\"index\\\"].subscribe((function (val){!(this.valueFromJulia[\\\"index\\\"]) ? (WebIO.setval({\\\"name\\\":\\\"index\\\",\\\"scope\\\":\\\"5691111776126644276\\\",\\\"id\\\":\\\"ob_01\\\",\\\"type\\\":\\\"observable\\\"},val)) : undefined; return this.valueFromJulia[\\\"index\\\"]=false}),self)]\\n        \\n    }\\n    self.model = new AppViewModel();\\n    self.valueFromJulia = {};\\n    for (var key in json_data) {\\n        self.valueFromJulia[key] = false;\\n    }\\n    ko.applyBindings(self.model, self.dom);\\n}\\n);\\n    (WebIO.importBlock({\\\"data\\\":[{\\\"name\\\":\\\"knockout\\\",\\\"type\\\":\\\"js\\\",\\\"url\\\":\\\"/assetserver/9a186147d51179d2ec12ccfac1799b0b805a79d5-knockout.js\\\"},{\\\"name\\\":\\\"knockout_punches\\\",\\\"type\\\":\\\"js\\\",\\\"url\\\":\\\"/assetserver/eccef011301f679ebde0900f01478cac573870ce-knockout_punches.js\\\"}],\\\"type\\\":\\\"async_block\\\"})).then((imports) => handler.apply(this, imports));\\n}\\n\")])], Dict{Symbol,Any}(:className => \"field interact-widget\")), Node{WebIO.DOM}(WebIO.DOM(:html, :div), Any[Scope(Node{WebIO.DOM}(WebIO.DOM(:html, :div), Any[Node{WebIO.DOM}(WebIO.DOM(:html, :div), Any[Node{WebIO.DOM}(WebIO.DOM(:html, :label), Any[\"num_experiments\"], Dict{Symbol,Any}(:className => \"interact \",:style => Dict{Any,Any}(:padding => \"5px 10px 0px 10px\")))], Dict{Symbol,Any}(:className => \"interact-flex-row-left\")), Node{WebIO.DOM}(WebIO.DOM(:html, :div), Any[Node{WebIO.DOM}(WebIO.DOM(:html, :input), Any[], Dict{Symbol,Any}(:max => 100,:min => 1,:attributes => Dict{Any,Any}(:type => \"range\",Symbol(\"data-bind\") => \"numericValue: index, valueUpdate: 'input', event: {change: function (){this.changes(this.changes()+1)}}\",\"orient\" => \"horizontal\"),:step => 1,:className => \"slider slider is-fullwidth\",:style => Dict{Any,Any}()))], Dict{Symbol,Any}(:className => \"interact-flex-row-center\")), Node{WebIO.DOM}(WebIO.DOM(:html, :div), Any[Node{WebIO.DOM}(WebIO.DOM(:html, :p), Any[], Dict{Symbol,Any}(:attributes => Dict(\"data-bind\" => \"text: formatted_val\")))], Dict{Symbol,Any}(:className => \"interact-flex-row-right\"))], Dict{Symbol,Any}(:className => \"interact-flex-row interact-widget\")), Dict{String,Tuple{Observables.AbstractObservable,Union{Nothing, Bool}}}(\"changes\" => (Observable{Int64} with 1 listeners. Value:\n",
       "0, nothing),\"index\" => (Observable{Int64} with 2 listeners. Value:\n",
       "50, nothing)), Set(String[]), nothing, Asset[Asset(\"js\", \"knockout\", \"/Users/dpsanders/.julia/packages/Knockout/1sDlc/src/../assets/knockout.js\"), Asset(\"js\", \"knockout_punches\", \"/Users/dpsanders/.julia/packages/Knockout/1sDlc/src/../assets/knockout_punches.js\"), Asset(\"js\", nothing, \"/Users/dpsanders/.julia/packages/InteractBase/9mFwe/src/../assets/all.js\"), Asset(\"css\", nothing, \"/Users/dpsanders/.julia/packages/InteractBase/9mFwe/src/../assets/style.css\"), Asset(\"css\", nothing, \"/Users/dpsanders/.julia/packages/Interact/SbgIk/src/../assets/bulma_confined.min.css\")], Dict{Any,Any}(\"changes\" => Any[WebIO.JSString(\"(function (val){return (val!=this.model[\\\"changes\\\"]()) ? (this.valueFromJulia[\\\"changes\\\"]=true, this.model[\\\"changes\\\"](val)) : undefined})\")],\"index\" => Any[WebIO.JSString(\"(function (val){return (val!=this.model[\\\"index\\\"]()) ? (this.valueFromJulia[\\\"index\\\"]=true, this.model[\\\"index\\\"](val)) : undefined})\")]), WebIO.ConnectionPool(Channel{Any}(sz_max:32,sz_curr:0), Set(AbstractConnection[]), Base.GenericCondition{Base.AlwaysLockedST}(Base.InvasiveLinkedList{Task}(Task (runnable) @0x000000011b36cd90, Task (runnable) @0x000000011b36cd90), Base.AlwaysLockedST(1))), WebIO.JSString[WebIO.JSString(\"function () {\\n    var handler = (function (ko, koPunches) {\\n    ko.punches.enableAll();\\n    ko.bindingHandlers.numericValue = {\\n        init: function(element, valueAccessor, allBindings, data, context) {\\n            var stringified = ko.observable(ko.unwrap(valueAccessor()));\\n            stringified.subscribe(function(value) {\\n                var val = parseFloat(value);\\n                if (!isNaN(val)) {\\n                    valueAccessor()(val);\\n                }\\n            });\\n            valueAccessor().subscribe(function(value) {\\n                var str = JSON.stringify(value);\\n                if ((str == \\\"0\\\") && ([\\\"-0\\\", \\\"-0.\\\"].indexOf(stringified()) >= 0))\\n                     return;\\n                 if ([\\\"null\\\", \\\"\\\"].indexOf(str) >= 0)\\n                     return;\\n                stringified(str);\\n            });\\n            ko.applyBindingsToNode(\\n                element,\\n                {\\n                    value: stringified,\\n                    valueUpdate: allBindings.get('valueUpdate'),\\n                },\\n                context,\\n            );\\n        }\\n    };\\n    var json_data = {\\\"formatted_vals\\\":[\\\"1\\\",\\\"2\\\",\\\"3\\\",\\\"4\\\",\\\"5\\\",\\\"6\\\",\\\"7\\\",\\\"8\\\",\\\"9\\\",\\\"10\\\",\\\"11\\\",\\\"12\\\",\\\"13\\\",\\\"14\\\",\\\"15\\\",\\\"16\\\",\\\"17\\\",\\\"18\\\",\\\"19\\\",\\\"20\\\",\\\"21\\\",\\\"22\\\",\\\"23\\\",\\\"24\\\",\\\"25\\\",\\\"26\\\",\\\"27\\\",\\\"28\\\",\\\"29\\\",\\\"30\\\",\\\"31\\\",\\\"32\\\",\\\"33\\\",\\\"34\\\",\\\"35\\\",\\\"36\\\",\\\"37\\\",\\\"38\\\",\\\"39\\\",\\\"40\\\",\\\"41\\\",\\\"42\\\",\\\"43\\\",\\\"44\\\",\\\"45\\\",\\\"46\\\",\\\"47\\\",\\\"48\\\",\\\"49\\\",\\\"50\\\",\\\"51\\\",\\\"52\\\",\\\"53\\\",\\\"54\\\",\\\"55\\\",\\\"56\\\",\\\"57\\\",\\\"58\\\",\\\"59\\\",\\\"60\\\",\\\"61\\\",\\\"62\\\",\\\"63\\\",\\\"64\\\",\\\"65\\\",\\\"66\\\",\\\"67\\\",\\\"68\\\",\\\"69\\\",\\\"70\\\",\\\"71\\\",\\\"72\\\",\\\"73\\\",\\\"74\\\",\\\"75\\\",\\\"76\\\",\\\"77\\\",\\\"78\\\",\\\"79\\\",\\\"80\\\",\\\"81\\\",\\\"82\\\",\\\"83\\\",\\\"84\\\",\\\"85\\\",\\\"86\\\",\\\"87\\\",\\\"88\\\",\\\"89\\\",\\\"90\\\",\\\"91\\\",\\\"92\\\",\\\"93\\\",\\\"94\\\",\\\"95\\\",\\\"96\\\",\\\"97\\\",\\\"98\\\",\\\"99\\\",\\\"100\\\"],\\\"changes\\\":WebIO.getval({\\\"name\\\":\\\"changes\\\",\\\"scope\\\":\\\"17592105006256129576\\\",\\\"id\\\":\\\"ob_04\\\",\\\"type\\\":\\\"observable\\\"}),\\\"index\\\":WebIO.getval({\\\"name\\\":\\\"index\\\",\\\"scope\\\":\\\"17592105006256129576\\\",\\\"id\\\":\\\"ob_03\\\",\\\"type\\\":\\\"observable\\\"})};\\n    var self = this;\\n    function AppViewModel() {\\n        for (var key in json_data) {\\n            var el = json_data[key];\\n            this[key] = Array.isArray(el) ? ko.observableArray(el) : ko.observable(el);\\n        }\\n        \\n        [this[\\\"formatted_val\\\"]=ko.computed(    function(){\\n        return this.formatted_vals()[parseInt(this.index())-(1)];\\n    }\\n,this)]\\n        [this[\\\"changes\\\"].subscribe((function (val){!(this.valueFromJulia[\\\"changes\\\"]) ? (WebIO.setval({\\\"name\\\":\\\"changes\\\",\\\"scope\\\":\\\"17592105006256129576\\\",\\\"id\\\":\\\"ob_04\\\",\\\"type\\\":\\\"observable\\\"},val)) : undefined; return this.valueFromJulia[\\\"changes\\\"]=false}),self),this[\\\"index\\\"].subscribe((function (val){!(this.valueFromJulia[\\\"index\\\"]) ? (WebIO.setval({\\\"name\\\":\\\"index\\\",\\\"scope\\\":\\\"17592105006256129576\\\",\\\"id\\\":\\\"ob_03\\\",\\\"type\\\":\\\"observable\\\"},val)) : undefined; return this.valueFromJulia[\\\"index\\\"]=false}),self)]\\n        \\n    }\\n    self.model = new AppViewModel();\\n    self.valueFromJulia = {};\\n    for (var key in json_data) {\\n        self.valueFromJulia[key] = false;\\n    }\\n    ko.applyBindings(self.model, self.dom);\\n}\\n);\\n    (WebIO.importBlock({\\\"data\\\":[{\\\"name\\\":\\\"knockout\\\",\\\"type\\\":\\\"js\\\",\\\"url\\\":\\\"/assetserver/9a186147d51179d2ec12ccfac1799b0b805a79d5-knockout.js\\\"},{\\\"name\\\":\\\"knockout_punches\\\",\\\"type\\\":\\\"js\\\",\\\"url\\\":\\\"/assetserver/eccef011301f679ebde0900f01478cac573870ce-knockout_punches.js\\\"}],\\\"type\\\":\\\"async_block\\\"})).then((imports) => handler.apply(this, imports));\\n}\\n\")])], Dict{Symbol,Any}(:className => \"field interact-widget\")), Observable{Any} with 0 listeners. Value:\n",
       "Node{WebIO.DOM}(WebIO.DOM(:html, :div), Any[Plot{Plots.GRBackend() n=1}], Dict{Symbol,Any}(:className => \"interact-flex-row interact-widget\"))], Dict{Symbol,Any}())"
      ]
     },
     "execution_count": 87,
     "metadata": {},
     "output_type": "execute_result"
    }
   ],
   "source": [
    "@manipulate for N in 1:100, num_experiments in 1:100 # repeat experiment:\n",
    "    n1_data = [n1(N) for i in 1:num_experiments] \n",
    "    counts = count_outcomes(n1_data, N)\n",
    "# better to use a Dict?\n",
    "    bar(counts)\n",
    "end"
   ]
  },
  {
   "cell_type": "code",
   "execution_count": 88,
   "metadata": {},
   "outputs": [
    {
     "data": {
      "text/plain": [
       "10-element Array{Int64,1}:\n",
       " 5\n",
       " 1\n",
       " 5\n",
       " 2\n",
       " 6\n",
       " 2\n",
       " 1\n",
       " 2\n",
       " 1\n",
       " 4"
      ]
     },
     "execution_count": 88,
     "metadata": {},
     "output_type": "execute_result"
    }
   ],
   "source": [
    "data"
   ]
  },
  {
   "cell_type": "code",
   "execution_count": 91,
   "metadata": {},
   "outputs": [
    {
     "data": {
      "text/html": [
       "sum(f, a) in Base at <a href=\"https://github.com/JuliaLang/julia/tree/c6da87ff4bc7a855e217856757ad3413cf6d1f79/base/reduce.jl#L403\" target=\"_blank\">reduce.jl:403</a>"
      ],
      "text/plain": [
       "sum(f, a) in Base at reduce.jl:403"
      ]
     },
     "execution_count": 91,
     "metadata": {},
     "output_type": "execute_result"
    }
   ],
   "source": [
    "@which sum(data, 1)"
   ]
  },
  {
   "cell_type": "code",
   "execution_count": null,
   "metadata": {},
   "outputs": [],
   "source": []
  }
 ],
 "metadata": {
  "kernelspec": {
   "display_name": "Julia 1.2.0",
   "language": "julia",
   "name": "julia-1.2"
  },
  "language_info": {
   "file_extension": ".jl",
   "mimetype": "application/julia",
   "name": "julia",
   "version": "1.2.0"
  }
 },
 "nbformat": 4,
 "nbformat_minor": 2
}
