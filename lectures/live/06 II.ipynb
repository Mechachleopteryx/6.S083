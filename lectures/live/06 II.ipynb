{
 "cells": [
  {
   "cell_type": "markdown",
   "metadata": {},
   "source": [
    "## Random walker type"
   ]
  },
  {
   "cell_type": "code",
   "execution_count": 1,
   "metadata": {},
   "outputs": [],
   "source": [
    "mutable struct SimpleWalker\n",
    "    x::Int\n",
    "end"
   ]
  },
  {
   "cell_type": "code",
   "execution_count": 2,
   "metadata": {},
   "outputs": [
    {
     "data": {
      "text/plain": [
       "SimpleWalker"
      ]
     },
     "execution_count": 2,
     "metadata": {},
     "output_type": "execute_result"
    }
   ],
   "source": [
    "SimpleWalker"
   ]
  },
  {
   "cell_type": "code",
   "execution_count": 3,
   "metadata": {},
   "outputs": [
    {
     "data": {
      "text/html": [
       "# 2 methods for type constructor:<ul><li> SimpleWalker(x::<b>Int64</b>) in Main at In[1]:2</li> <li> SimpleWalker(x) in Main at In[1]:2</li> </ul>"
      ],
      "text/plain": [
       "# 2 methods for type constructor:\n",
       "[1] SimpleWalker(x::Int64) in Main at In[1]:2\n",
       "[2] SimpleWalker(x) in Main at In[1]:2"
      ]
     },
     "execution_count": 3,
     "metadata": {},
     "output_type": "execute_result"
    }
   ],
   "source": [
    "methods(SimpleWalker)"
   ]
  },
  {
   "cell_type": "code",
   "execution_count": 5,
   "metadata": {},
   "outputs": [
    {
     "data": {
      "text/plain": [
       "SimpleWalker(0)"
      ]
     },
     "execution_count": 5,
     "metadata": {},
     "output_type": "execute_result"
    }
   ],
   "source": [
    "d = SimpleWalker(0)"
   ]
  },
  {
   "cell_type": "code",
   "execution_count": 6,
   "metadata": {},
   "outputs": [
    {
     "data": {
      "text/plain": [
       "SimpleWalker(0)"
      ]
     },
     "execution_count": 6,
     "metadata": {},
     "output_type": "execute_result"
    }
   ],
   "source": [
    "d"
   ]
  },
  {
   "cell_type": "code",
   "execution_count": 7,
   "metadata": {},
   "outputs": [
    {
     "data": {
      "text/plain": [
       "SimpleWalker"
      ]
     },
     "execution_count": 7,
     "metadata": {},
     "output_type": "execute_result"
    }
   ],
   "source": [
    "typeof(d)"
   ]
  },
  {
   "cell_type": "code",
   "execution_count": 8,
   "metadata": {},
   "outputs": [
    {
     "ename": "MethodError",
     "evalue": "MethodError: no method matching SimpleWalker()\nClosest candidates are:\n  SimpleWalker(!Matched::Int64) at In[1]:2\n  SimpleWalker(!Matched::Any) at In[1]:2",
     "output_type": "error",
     "traceback": [
      "MethodError: no method matching SimpleWalker()\nClosest candidates are:\n  SimpleWalker(!Matched::Int64) at In[1]:2\n  SimpleWalker(!Matched::Any) at In[1]:2",
      "",
      "Stacktrace:",
      " [1] top-level scope at In[8]:1"
     ]
    }
   ],
   "source": [
    "SimpleWalker()"
   ]
  },
  {
   "cell_type": "code",
   "execution_count": 9,
   "metadata": {},
   "outputs": [
    {
     "data": {
      "text/plain": [
       "SimpleWalker"
      ]
     },
     "execution_count": 9,
     "metadata": {},
     "output_type": "execute_result"
    }
   ],
   "source": [
    "function SimpleWalker()\n",
    "    return SimpleWalker(0)\n",
    "end"
   ]
  },
  {
   "cell_type": "code",
   "execution_count": 10,
   "metadata": {},
   "outputs": [
    {
     "data": {
      "text/plain": [
       "SimpleWalker"
      ]
     },
     "execution_count": 10,
     "metadata": {},
     "output_type": "execute_result"
    }
   ],
   "source": [
    "SimpleWalker() = SimpleWalker(0)"
   ]
  },
  {
   "cell_type": "code",
   "execution_count": 11,
   "metadata": {},
   "outputs": [
    {
     "data": {
      "text/html": [
       "# 3 methods for type constructor:<ul><li> SimpleWalker() in Main at In[10]:1</li> <li> SimpleWalker(x::<b>Int64</b>) in Main at In[1]:2</li> <li> SimpleWalker(x) in Main at In[1]:2</li> </ul>"
      ],
      "text/plain": [
       "# 3 methods for type constructor:\n",
       "[1] SimpleWalker() in Main at In[10]:1\n",
       "[2] SimpleWalker(x::Int64) in Main at In[1]:2\n",
       "[3] SimpleWalker(x) in Main at In[1]:2"
      ]
     },
     "execution_count": 11,
     "metadata": {},
     "output_type": "execute_result"
    }
   ],
   "source": [
    "methods(SimpleWalker)"
   ]
  },
  {
   "cell_type": "code",
   "execution_count": 12,
   "metadata": {},
   "outputs": [
    {
     "data": {
      "text/plain": [
       "SimpleWalker(0)"
      ]
     },
     "execution_count": 12,
     "metadata": {},
     "output_type": "execute_result"
    }
   ],
   "source": [
    "d"
   ]
  },
  {
   "cell_type": "code",
   "execution_count": 13,
   "metadata": {},
   "outputs": [
    {
     "data": {
      "text/plain": [
       "0"
      ]
     },
     "execution_count": 13,
     "metadata": {},
     "output_type": "execute_result"
    }
   ],
   "source": [
    "d.x"
   ]
  },
  {
   "cell_type": "code",
   "execution_count": 14,
   "metadata": {},
   "outputs": [
    {
     "data": {
      "text/plain": [
       "0"
      ]
     },
     "execution_count": 14,
     "metadata": {},
     "output_type": "execute_result"
    }
   ],
   "source": [
    "d.x"
   ]
  },
  {
   "cell_type": "code",
   "execution_count": 15,
   "metadata": {},
   "outputs": [
    {
     "data": {
      "text/plain": [
       "10"
      ]
     },
     "execution_count": 15,
     "metadata": {},
     "output_type": "execute_result"
    }
   ],
   "source": [
    "d.x = 10"
   ]
  },
  {
   "cell_type": "code",
   "execution_count": 16,
   "metadata": {},
   "outputs": [
    {
     "data": {
      "text/plain": [
       "SimpleWalker(10)"
      ]
     },
     "execution_count": 16,
     "metadata": {},
     "output_type": "execute_result"
    }
   ],
   "source": [
    "d"
   ]
  },
  {
   "cell_type": "markdown",
   "metadata": {},
   "source": [
    "## Functions"
   ]
  },
  {
   "cell_type": "code",
   "execution_count": 17,
   "metadata": {},
   "outputs": [
    {
     "data": {
      "text/plain": [
       "pos (generic function with 1 method)"
      ]
     },
     "execution_count": 17,
     "metadata": {},
     "output_type": "execute_result"
    }
   ],
   "source": [
    "function pos(w::SimpleWalker)\n",
    "    return w.x\n",
    "end"
   ]
  },
  {
   "cell_type": "code",
   "execution_count": 18,
   "metadata": {},
   "outputs": [
    {
     "data": {
      "text/plain": [
       "pos (generic function with 1 method)"
      ]
     },
     "execution_count": 18,
     "metadata": {},
     "output_type": "execute_result"
    }
   ],
   "source": [
    "pos(w::SimpleWalker) = w.x"
   ]
  },
  {
   "cell_type": "code",
   "execution_count": 19,
   "metadata": {},
   "outputs": [
    {
     "data": {
      "text/plain": [
       "jump! (generic function with 1 method)"
      ]
     },
     "execution_count": 19,
     "metadata": {},
     "output_type": "execute_result"
    }
   ],
   "source": [
    "function jump!(w::SimpleWalker)\n",
    "    w.x += rand( (-1, +1) )\n",
    "end"
   ]
  },
  {
   "cell_type": "code",
   "execution_count": 21,
   "metadata": {},
   "outputs": [
    {
     "data": {
      "text/plain": [
       "SimpleWalker(10)"
      ]
     },
     "execution_count": 21,
     "metadata": {},
     "output_type": "execute_result"
    }
   ],
   "source": [
    "d"
   ]
  },
  {
   "cell_type": "code",
   "execution_count": 22,
   "metadata": {},
   "outputs": [
    {
     "data": {
      "text/plain": [
       "10"
      ]
     },
     "execution_count": 22,
     "metadata": {},
     "output_type": "execute_result"
    }
   ],
   "source": [
    "pos(d)"
   ]
  },
  {
   "cell_type": "code",
   "execution_count": 23,
   "metadata": {},
   "outputs": [
    {
     "data": {
      "text/plain": [
       "9"
      ]
     },
     "execution_count": 23,
     "metadata": {},
     "output_type": "execute_result"
    }
   ],
   "source": [
    "jump!(d)"
   ]
  },
  {
   "cell_type": "code",
   "execution_count": 24,
   "metadata": {},
   "outputs": [
    {
     "data": {
      "text/plain": [
       "9"
      ]
     },
     "execution_count": 24,
     "metadata": {},
     "output_type": "execute_result"
    }
   ],
   "source": [
    "pos(d)"
   ]
  },
  {
   "cell_type": "code",
   "execution_count": 25,
   "metadata": {},
   "outputs": [
    {
     "data": {
      "text/plain": [
       "9"
      ]
     },
     "execution_count": 25,
     "metadata": {},
     "output_type": "execute_result"
    }
   ],
   "source": [
    "d.x"
   ]
  },
  {
   "cell_type": "code",
   "execution_count": 26,
   "metadata": {},
   "outputs": [
    {
     "data": {
      "text/plain": [
       "jump! (generic function with 1 method)"
      ]
     },
     "execution_count": 26,
     "metadata": {},
     "output_type": "execute_result"
    }
   ],
   "source": [
    "function jump!(w::SimpleWalker)\n",
    "    w.x += rand( (-1, +1) )\n",
    "    return w\n",
    "end"
   ]
  },
  {
   "cell_type": "code",
   "execution_count": 27,
   "metadata": {},
   "outputs": [
    {
     "data": {
      "text/plain": [
       "SimpleWalker(8)"
      ]
     },
     "execution_count": 27,
     "metadata": {},
     "output_type": "execute_result"
    }
   ],
   "source": [
    "jump!(d)"
   ]
  },
  {
   "cell_type": "code",
   "execution_count": 28,
   "metadata": {},
   "outputs": [
    {
     "data": {
      "text/plain": [
       "jump! (generic function with 1 method)"
      ]
     },
     "execution_count": 28,
     "metadata": {},
     "output_type": "execute_result"
    }
   ],
   "source": [
    "function jump!(w::SimpleWalker)\n",
    "    w.x += rand( (-1, +1) )\n",
    "    return nothing\n",
    "end"
   ]
  },
  {
   "cell_type": "code",
   "execution_count": 29,
   "metadata": {},
   "outputs": [],
   "source": [
    "jump!(d)"
   ]
  },
  {
   "cell_type": "code",
   "execution_count": 30,
   "metadata": {},
   "outputs": [
    {
     "data": {
      "text/plain": [
       "Nothing"
      ]
     },
     "execution_count": 30,
     "metadata": {},
     "output_type": "execute_result"
    }
   ],
   "source": [
    "typeof(nothing)"
   ]
  },
  {
   "cell_type": "code",
   "execution_count": 31,
   "metadata": {},
   "outputs": [
    {
     "data": {
      "text/plain": [
       "jump! (generic function with 1 method)"
      ]
     },
     "execution_count": 31,
     "metadata": {},
     "output_type": "execute_result"
    }
   ],
   "source": [
    "jump!(w::SimpleWalker) = ( w.x += rand( (-1, +1) ); return w )"
   ]
  },
  {
   "cell_type": "code",
   "execution_count": 33,
   "metadata": {},
   "outputs": [
    {
     "data": {
      "text/plain": [
       "walk! (generic function with 1 method)"
      ]
     },
     "execution_count": 33,
     "metadata": {},
     "output_type": "execute_result"
    }
   ],
   "source": [
    "function walk!(w::SimpleWalker, N)\n",
    "    positions = [pos(w)]\n",
    "\n",
    "    for i in 1:N\n",
    "        jump!(w)\n",
    "        push!(positions, pos(w))\n",
    "    end\n",
    "    \n",
    "    return positions\n",
    "end"
   ]
  },
  {
   "cell_type": "code",
   "execution_count": 45,
   "metadata": {},
   "outputs": [
    {
     "data": {
      "text/plain": [
       "SimpleWalker(0)"
      ]
     },
     "execution_count": 45,
     "metadata": {},
     "output_type": "execute_result"
    }
   ],
   "source": [
    "d = SimpleWalker()"
   ]
  },
  {
   "cell_type": "code",
   "execution_count": 46,
   "metadata": {},
   "outputs": [
    {
     "data": {
      "text/plain": [
       "11-element Array{Int64,1}:\n",
       "  0\n",
       " -1\n",
       " -2\n",
       " -3\n",
       " -2\n",
       " -3\n",
       " -4\n",
       " -5\n",
       " -6\n",
       " -7\n",
       " -6"
      ]
     },
     "execution_count": 46,
     "metadata": {},
     "output_type": "execute_result"
    }
   ],
   "source": [
    "positions = walk!(d, 10)"
   ]
  },
  {
   "cell_type": "code",
   "execution_count": 47,
   "metadata": {},
   "outputs": [
    {
     "data": {
      "text/plain": [
       "SimpleWalker(-6)"
      ]
     },
     "execution_count": 47,
     "metadata": {},
     "output_type": "execute_result"
    }
   ],
   "source": [
    "d"
   ]
  },
  {
   "cell_type": "code",
   "execution_count": 48,
   "metadata": {},
   "outputs": [
    {
     "data": {
      "text/plain": [
       "SimpleWalker(-5)"
      ]
     },
     "execution_count": 48,
     "metadata": {},
     "output_type": "execute_result"
    }
   ],
   "source": [
    "jump!(d)"
   ]
  },
  {
   "cell_type": "code",
   "execution_count": 49,
   "metadata": {},
   "outputs": [
    {
     "data": {
      "text/plain": [
       "10-element Array{SimpleWalker,1}:\n",
       " SimpleWalker(1)\n",
       " SimpleWalker(1)\n",
       " SimpleWalker(1)\n",
       " SimpleWalker(1)\n",
       " SimpleWalker(1)\n",
       " SimpleWalker(1)\n",
       " SimpleWalker(1)\n",
       " SimpleWalker(1)\n",
       " SimpleWalker(1)\n",
       " SimpleWalker(1)"
      ]
     },
     "execution_count": 49,
     "metadata": {},
     "output_type": "execute_result"
    }
   ],
   "source": [
    "[jump!(d) for i in 1:10]"
   ]
  },
  {
   "cell_type": "code",
   "execution_count": 50,
   "metadata": {},
   "outputs": [
    {
     "data": {
      "text/plain": [
       "SimpleWalker(1)"
      ]
     },
     "execution_count": 50,
     "metadata": {},
     "output_type": "execute_result"
    }
   ],
   "source": [
    "d"
   ]
  },
  {
   "cell_type": "code",
   "execution_count": 51,
   "metadata": {},
   "outputs": [
    {
     "data": {
      "text/plain": [
       "SimpleWalker(0)"
      ]
     },
     "execution_count": 51,
     "metadata": {},
     "output_type": "execute_result"
    }
   ],
   "source": [
    "d = SimpleWalker()\n",
    "\n"
   ]
  },
  {
   "cell_type": "code",
   "execution_count": 53,
   "metadata": {},
   "outputs": [
    {
     "ename": "MethodError",
     "evalue": "MethodError: no method matching copy(::SimpleWalker)\nClosest candidates are:\n  copy(!Matched::Expr) at expr.jl:36\n  copy(!Matched::Core.CodeInfo) at expr.jl:64\n  copy(!Matched::BitSet) at bitset.jl:46\n  ...",
     "output_type": "error",
     "traceback": [
      "MethodError: no method matching copy(::SimpleWalker)\nClosest candidates are:\n  copy(!Matched::Expr) at expr.jl:36\n  copy(!Matched::Core.CodeInfo) at expr.jl:64\n  copy(!Matched::BitSet) at bitset.jl:46\n  ...",
      "",
      "Stacktrace:",
      " [1] (::var\"#7#8\")(::Int64) at ./none:0",
      " [2] iterate at ./generator.jl:47 [inlined]",
      " [3] collect(::Base.Generator{UnitRange{Int64},var\"#7#8\"}) at ./array.jl:620",
      " [4] top-level scope at In[53]:1"
     ]
    }
   ],
   "source": [
    "[copy(jump!(d)) for i in 1:10]"
   ]
  },
  {
   "cell_type": "code",
   "execution_count": 54,
   "metadata": {},
   "outputs": [
    {
     "data": {
      "text/plain": [
       "10-element Array{Int64,1}:\n",
       "  2\n",
       "  1\n",
       "  0\n",
       "  1\n",
       "  0\n",
       "  1\n",
       "  0\n",
       " -1\n",
       "  0\n",
       "  1"
      ]
     },
     "execution_count": 54,
     "metadata": {},
     "output_type": "execute_result"
    }
   ],
   "source": [
    "[pos(jump!(d)) for i in 1:10]"
   ]
  },
  {
   "cell_type": "code",
   "execution_count": null,
   "metadata": {},
   "outputs": [],
   "source": [
    "function walk!(w::Union{SimpleWalker,ContinuousWalker}, N)\n",
    "    positions = [pos(w)]\n",
    "\n",
    "    for i in 1:N\n",
    "        jump!(w)\n",
    "        push!(positions, pos(w))\n",
    "    end\n",
    "    \n",
    "    return positions\n",
    "end"
   ]
  },
  {
   "cell_type": "markdown",
   "metadata": {},
   "source": [
    "## Common supertype"
   ]
  },
  {
   "cell_type": "code",
   "execution_count": 55,
   "metadata": {},
   "outputs": [],
   "source": [
    "abstract type Walker end"
   ]
  },
  {
   "cell_type": "code",
   "execution_count": 56,
   "metadata": {},
   "outputs": [],
   "source": [
    "mutable struct DiscreteWalker <: Walker # is a subtype of\n",
    "    x::Int\n",
    "end"
   ]
  },
  {
   "cell_type": "code",
   "execution_count": 57,
   "metadata": {},
   "outputs": [],
   "source": [
    "mutable struct ContinuousWalker <: Walker # is a subtype of\n",
    "    x::Float64\n",
    "end"
   ]
  },
  {
   "cell_type": "code",
   "execution_count": 58,
   "metadata": {},
   "outputs": [
    {
     "data": {
      "text/plain": [
       "pos (generic function with 2 methods)"
      ]
     },
     "execution_count": 58,
     "metadata": {},
     "output_type": "execute_result"
    }
   ],
   "source": [
    "pos(w::Walker) = w.x"
   ]
  },
  {
   "cell_type": "code",
   "execution_count": 59,
   "metadata": {},
   "outputs": [
    {
     "data": {
      "text/plain": [
       "DiscreteWalker(0)"
      ]
     },
     "execution_count": 59,
     "metadata": {},
     "output_type": "execute_result"
    }
   ],
   "source": [
    "d = DiscreteWalker(0)"
   ]
  },
  {
   "cell_type": "code",
   "execution_count": 60,
   "metadata": {},
   "outputs": [
    {
     "data": {
      "text/plain": [
       "ContinuousWalker(0.0)"
      ]
     },
     "execution_count": 60,
     "metadata": {},
     "output_type": "execute_result"
    }
   ],
   "source": [
    "c = ContinuousWalker(0.0)"
   ]
  },
  {
   "cell_type": "code",
   "execution_count": 61,
   "metadata": {},
   "outputs": [
    {
     "data": {
      "text/plain": [
       "DiscreteWalker"
      ]
     },
     "execution_count": 61,
     "metadata": {},
     "output_type": "execute_result"
    }
   ],
   "source": [
    "typeof(d)"
   ]
  },
  {
   "cell_type": "code",
   "execution_count": 62,
   "metadata": {},
   "outputs": [
    {
     "data": {
      "text/plain": [
       "true"
      ]
     },
     "execution_count": 62,
     "metadata": {},
     "output_type": "execute_result"
    }
   ],
   "source": [
    "d isa DiscreteWalker"
   ]
  },
  {
   "cell_type": "code",
   "execution_count": 63,
   "metadata": {},
   "outputs": [
    {
     "data": {
      "text/plain": [
       "true"
      ]
     },
     "execution_count": 63,
     "metadata": {},
     "output_type": "execute_result"
    }
   ],
   "source": [
    "d isa Walker"
   ]
  },
  {
   "cell_type": "code",
   "execution_count": 64,
   "metadata": {},
   "outputs": [
    {
     "data": {
      "text/plain": [
       "0"
      ]
     },
     "execution_count": 64,
     "metadata": {},
     "output_type": "execute_result"
    }
   ],
   "source": [
    "pos(d)"
   ]
  },
  {
   "cell_type": "code",
   "execution_count": 65,
   "metadata": {},
   "outputs": [
    {
     "data": {
      "text/plain": [
       "0.0"
      ]
     },
     "execution_count": 65,
     "metadata": {},
     "output_type": "execute_result"
    }
   ],
   "source": [
    "pos(c)"
   ]
  },
  {
   "cell_type": "code",
   "execution_count": 66,
   "metadata": {},
   "outputs": [
    {
     "data": {
      "text/plain": [
       "special_pos (generic function with 1 method)"
      ]
     },
     "execution_count": 66,
     "metadata": {},
     "output_type": "execute_result"
    }
   ],
   "source": [
    "special_pos(w::Walker) = w.x"
   ]
  },
  {
   "cell_type": "code",
   "execution_count": 71,
   "metadata": {},
   "outputs": [
    {
     "data": {
      "text/plain": [
       "special_pos (generic function with 2 methods)"
      ]
     },
     "execution_count": 71,
     "metadata": {},
     "output_type": "execute_result"
    }
   ],
   "source": [
    "special_pos(w::DiscreteWalker) = (Float64(w.x); @show \"HELLO\")"
   ]
  },
  {
   "cell_type": "code",
   "execution_count": 72,
   "metadata": {},
   "outputs": [
    {
     "data": {
      "text/html": [
       "# 2 methods for generic function <b>special_pos</b>:<ul><li> special_pos(w::<b>DiscreteWalker</b>) in Main at In[71]:1</li> <li> special_pos(w::<b>Walker</b>) in Main at In[66]:1</li> </ul>"
      ],
      "text/plain": [
       "# 2 methods for generic function \"special_pos\":\n",
       "[1] special_pos(w::DiscreteWalker) in Main at In[71]:1\n",
       "[2] special_pos(w::Walker) in Main at In[66]:1"
      ]
     },
     "execution_count": 72,
     "metadata": {},
     "output_type": "execute_result"
    }
   ],
   "source": [
    "methods(special_pos)"
   ]
  },
  {
   "cell_type": "code",
   "execution_count": 73,
   "metadata": {},
   "outputs": [
    {
     "data": {
      "text/plain": [
       "0.0"
      ]
     },
     "execution_count": 73,
     "metadata": {},
     "output_type": "execute_result"
    }
   ],
   "source": [
    "special_pos(c)"
   ]
  },
  {
   "cell_type": "code",
   "execution_count": 74,
   "metadata": {},
   "outputs": [
    {
     "name": "stdout",
     "output_type": "stream",
     "text": [
      "\"HELLO\" = \"HELLO\"\n"
     ]
    },
    {
     "data": {
      "text/plain": [
       "\"HELLO\""
      ]
     },
     "execution_count": 74,
     "metadata": {},
     "output_type": "execute_result"
    }
   ],
   "source": [
    "special_pos(d)"
   ]
  },
  {
   "cell_type": "code",
   "execution_count": 75,
   "metadata": {},
   "outputs": [
    {
     "data": {
      "text/plain": [
       "jump! (generic function with 3 methods)"
      ]
     },
     "execution_count": 75,
     "metadata": {},
     "output_type": "execute_result"
    }
   ],
   "source": [
    "jump!(w::DiscreteWalker) = w.x += rand((-1, 1))\n",
    "jump!(w::ContinuousWalker) = w.x += rand() - 0.5"
   ]
  },
  {
   "cell_type": "code",
   "execution_count": 76,
   "metadata": {},
   "outputs": [
    {
     "data": {
      "text/plain": [
       "walk! (generic function with 2 methods)"
      ]
     },
     "execution_count": 76,
     "metadata": {},
     "output_type": "execute_result"
    }
   ],
   "source": [
    "function walk!(w::Walker, N)\n",
    "    positions = [pos(w)]\n",
    "\n",
    "    for i in 1:N\n",
    "        jump!(w)\n",
    "        push!(positions, pos(w))\n",
    "    end\n",
    "    \n",
    "    return positions\n",
    "end"
   ]
  },
  {
   "cell_type": "code",
   "execution_count": 78,
   "metadata": {},
   "outputs": [
    {
     "data": {
      "text/plain": [
       "11-element Array{Int64,1}:\n",
       "  0\n",
       " -1\n",
       "  0\n",
       "  1\n",
       "  2\n",
       "  3\n",
       "  2\n",
       "  1\n",
       "  0\n",
       "  1\n",
       "  2"
      ]
     },
     "execution_count": 78,
     "metadata": {},
     "output_type": "execute_result"
    }
   ],
   "source": [
    "walk!(d, 10)"
   ]
  },
  {
   "cell_type": "code",
   "execution_count": 79,
   "metadata": {},
   "outputs": [
    {
     "data": {
      "text/plain": [
       "11-element Array{Float64,1}:\n",
       "  0.0                 \n",
       " -0.41078173814216856 \n",
       " -0.6063799439652793  \n",
       " -0.955582153878888   \n",
       " -1.1806413572337733  \n",
       " -1.0722692777841618  \n",
       " -0.6374999168322559  \n",
       " -0.15307871687643182 \n",
       " -0.21620172687057493 \n",
       "  0.039103791355175055\n",
       "  0.21964383559356526 "
      ]
     },
     "execution_count": 79,
     "metadata": {},
     "output_type": "execute_result"
    }
   ],
   "source": [
    "walk!(c, 10)"
   ]
  },
  {
   "cell_type": "code",
   "execution_count": 90,
   "metadata": {},
   "outputs": [],
   "source": [
    "mutable struct NewWalker2 <: Walker\n",
    "    y::Int\n",
    "end"
   ]
  },
  {
   "cell_type": "code",
   "execution_count": 91,
   "metadata": {},
   "outputs": [
    {
     "data": {
      "text/plain": [
       "NewWalker2(0)"
      ]
     },
     "execution_count": 91,
     "metadata": {},
     "output_type": "execute_result"
    }
   ],
   "source": [
    "n = NewWalker2(0)"
   ]
  },
  {
   "cell_type": "code",
   "execution_count": 92,
   "metadata": {},
   "outputs": [
    {
     "ename": "ErrorException",
     "evalue": "type NewWalker2 has no field x",
     "output_type": "error",
     "traceback": [
      "type NewWalker2 has no field x",
      "",
      "Stacktrace:",
      " [1] getproperty(::Any, ::Symbol) at ./Base.jl:20",
      " [2] pos(::NewWalker2) at ./In[58]:1",
      " [3] top-level scope at In[92]:1"
     ]
    }
   ],
   "source": [
    "pos(n)"
   ]
  },
  {
   "cell_type": "code",
   "execution_count": 93,
   "metadata": {},
   "outputs": [
    {
     "data": {
      "text/plain": [
       "pos (generic function with 4 methods)"
      ]
     },
     "execution_count": 93,
     "metadata": {},
     "output_type": "execute_result"
    }
   ],
   "source": [
    "pos(w::NewWalker2) = w.y"
   ]
  },
  {
   "cell_type": "code",
   "execution_count": 84,
   "metadata": {},
   "outputs": [
    {
     "data": {
      "text/plain": [
       "0"
      ]
     },
     "execution_count": 84,
     "metadata": {},
     "output_type": "execute_result"
    }
   ],
   "source": [
    "pos(n)"
   ]
  },
  {
   "cell_type": "code",
   "execution_count": 94,
   "metadata": {},
   "outputs": [
    {
     "data": {
      "text/plain": [
       "jump! (generic function with 5 methods)"
      ]
     },
     "execution_count": 94,
     "metadata": {},
     "output_type": "execute_result"
    }
   ],
   "source": [
    "jump!(w::NewWalker2) = w.y += 1"
   ]
  },
  {
   "cell_type": "code",
   "execution_count": 95,
   "metadata": {},
   "outputs": [
    {
     "data": {
      "text/plain": [
       "11-element Array{Int64,1}:\n",
       "  0\n",
       "  1\n",
       "  2\n",
       "  3\n",
       "  4\n",
       "  5\n",
       "  6\n",
       "  7\n",
       "  8\n",
       "  9\n",
       " 10"
      ]
     },
     "execution_count": 95,
     "metadata": {},
     "output_type": "execute_result"
    }
   ],
   "source": [
    "walk!(n, 10)"
   ]
  },
  {
   "cell_type": "markdown",
   "metadata": {},
   "source": [
    "\n",
    "## Monty Hall"
   ]
  },
  {
   "cell_type": "code",
   "execution_count": 96,
   "metadata": {},
   "outputs": [
    {
     "data": {
      "text/plain": [
       "3"
      ]
     },
     "execution_count": 96,
     "metadata": {},
     "output_type": "execute_result"
    }
   ],
   "source": [
    "my_choice = rand(1:3)"
   ]
  },
  {
   "cell_type": "code",
   "execution_count": 97,
   "metadata": {},
   "outputs": [
    {
     "data": {
      "text/plain": [
       "2"
      ]
     },
     "execution_count": 97,
     "metadata": {},
     "output_type": "execute_result"
    }
   ],
   "source": [
    "car = rand(1:3)"
   ]
  },
  {
   "cell_type": "code",
   "execution_count": 98,
   "metadata": {},
   "outputs": [
    {
     "data": {
      "text/plain": [
       "3-element Array{Int64,1}:\n",
       " 1\n",
       " 2\n",
       " 3"
      ]
     },
     "execution_count": 98,
     "metadata": {},
     "output_type": "execute_result"
    }
   ],
   "source": [
    "possible = [1, 2, 3]"
   ]
  },
  {
   "cell_type": "code",
   "execution_count": 100,
   "metadata": {},
   "outputs": [
    {
     "name": "stdout",
     "output_type": "stream",
     "text": [
      "search: \u001b[0m\u001b[1md\u001b[22m\u001b[0m\u001b[1me\u001b[22m\u001b[0m\u001b[1ml\u001b[22m\u001b[0m\u001b[1me\u001b[22m\u001b[0m\u001b[1mt\u001b[22m\u001b[0m\u001b[1me\u001b[22m\u001b[0m\u001b[1m!\u001b[22m \u001b[0m\u001b[1md\u001b[22m\u001b[0m\u001b[1me\u001b[22m\u001b[0m\u001b[1ml\u001b[22m\u001b[0m\u001b[1me\u001b[22m\u001b[0m\u001b[1mt\u001b[22m\u001b[0m\u001b[1me\u001b[22mat\u001b[0m\u001b[1m!\u001b[22m\n",
      "\n"
     ]
    },
    {
     "data": {
      "text/latex": [
       "\\begin{verbatim}\n",
       "delete!(collection, key)\n",
       "\\end{verbatim}\n",
       "Delete the mapping for the given key in a collection, and return the collection.\n",
       "\n",
       "\\section{Examples}\n",
       "\\begin{verbatim}\n",
       "julia> d = Dict(\"a\"=>1, \"b\"=>2)\n",
       "Dict{String,Int64} with 2 entries:\n",
       "  \"b\" => 2\n",
       "  \"a\" => 1\n",
       "\n",
       "julia> delete!(d, \"b\")\n",
       "Dict{String,Int64} with 1 entry:\n",
       "  \"a\" => 1\n",
       "\\end{verbatim}\n"
      ],
      "text/markdown": [
       "```\n",
       "delete!(collection, key)\n",
       "```\n",
       "\n",
       "Delete the mapping for the given key in a collection, and return the collection.\n",
       "\n",
       "# Examples\n",
       "\n",
       "```jldoctest\n",
       "julia> d = Dict(\"a\"=>1, \"b\"=>2)\n",
       "Dict{String,Int64} with 2 entries:\n",
       "  \"b\" => 2\n",
       "  \"a\" => 1\n",
       "\n",
       "julia> delete!(d, \"b\")\n",
       "Dict{String,Int64} with 1 entry:\n",
       "  \"a\" => 1\n",
       "```\n"
      ],
      "text/plain": [
       "\u001b[36m  delete!(collection, key)\u001b[39m\n",
       "\n",
       "  Delete the mapping for the given key in a collection, and return the\n",
       "  collection.\n",
       "\n",
       "\u001b[1m  Examples\u001b[22m\n",
       "\u001b[1m  ≡≡≡≡≡≡≡≡≡≡\u001b[22m\n",
       "\n",
       "\u001b[36m  julia> d = Dict(\"a\"=>1, \"b\"=>2)\u001b[39m\n",
       "\u001b[36m  Dict{String,Int64} with 2 entries:\u001b[39m\n",
       "\u001b[36m    \"b\" => 2\u001b[39m\n",
       "\u001b[36m    \"a\" => 1\u001b[39m\n",
       "\u001b[36m  \u001b[39m\n",
       "\u001b[36m  julia> delete!(d, \"b\")\u001b[39m\n",
       "\u001b[36m  Dict{String,Int64} with 1 entry:\u001b[39m\n",
       "\u001b[36m    \"a\" => 1\u001b[39m"
      ]
     },
     "execution_count": 100,
     "metadata": {},
     "output_type": "execute_result"
    }
   ],
   "source": [
    "?delete!"
   ]
  },
  {
   "cell_type": "code",
   "execution_count": 99,
   "metadata": {},
   "outputs": [
    {
     "ename": "MethodError",
     "evalue": "MethodError: no method matching delete!(::Array{Int64,1}, ::Int64)\nClosest candidates are:\n  delete!(!Matched::BitSet, ::Int64) at bitset.jl:297\n  delete!(!Matched::IdDict{K,V} where V, ::Any) where K at abstractdict.jl:624\n  delete!(!Matched::Base.IdSet, ::Any) at abstractdict.jl:693\n  ...",
     "output_type": "error",
     "traceback": [
      "MethodError: no method matching delete!(::Array{Int64,1}, ::Int64)\nClosest candidates are:\n  delete!(!Matched::BitSet, ::Int64) at bitset.jl:297\n  delete!(!Matched::IdDict{K,V} where V, ::Any) where K at abstractdict.jl:624\n  delete!(!Matched::Base.IdSet, ::Any) at abstractdict.jl:693\n  ...",
      "",
      "Stacktrace:",
      " [1] top-level scope at In[99]:1"
     ]
    }
   ],
   "source": [
    "delete!(possible, my_choice)"
   ]
  },
  {
   "cell_type": "markdown",
   "metadata": {},
   "source": [
    "## Pi area"
   ]
  },
  {
   "cell_type": "code",
   "execution_count": 101,
   "metadata": {},
   "outputs": [
    {
     "data": {
      "text/plain": [
       "rand_in_interval (generic function with 1 method)"
      ]
     },
     "execution_count": 101,
     "metadata": {},
     "output_type": "execute_result"
    }
   ],
   "source": [
    "rand_in_interval() = rand() * 2 - 1"
   ]
  },
  {
   "cell_type": "code",
   "execution_count": 102,
   "metadata": {},
   "outputs": [
    {
     "name": "stderr",
     "output_type": "stream",
     "text": [
      "┌ Info: Precompiling Plots [91a5bcdd-55d7-5caf-9e0b-520d859cae80]\n",
      "└ @ Base loading.jl:1273\n"
     ]
    }
   ],
   "source": [
    "using Plots"
   ]
  },
  {
   "cell_type": "code",
   "execution_count": 103,
   "metadata": {},
   "outputs": [
    {
     "data": {
      "image/svg+xml": [
       "<?xml version=\"1.0\" encoding=\"utf-8\"?>\n",
       "<svg xmlns=\"http://www.w3.org/2000/svg\" xmlns:xlink=\"http://www.w3.org/1999/xlink\" width=\"600\" height=\"400\" viewBox=\"0 0 2400 1600\">\n",
       "<defs>\n",
       "  <clipPath id=\"clip4100\">\n",
       "    <rect x=\"0\" y=\"0\" width=\"2400\" height=\"1600\"/>\n",
       "  </clipPath>\n",
       "</defs>\n",
       "<path clip-path=\"url(#clip4100)\" d=\"\n",
       "M0 1600 L2400 1600 L2400 0 L0 0  Z\n",
       "  \" fill=\"#ffffff\" fill-rule=\"evenodd\" fill-opacity=\"1\"/>\n",
       "<defs>\n",
       "  <clipPath id=\"clip4101\">\n",
       "    <rect x=\"480\" y=\"0\" width=\"1681\" height=\"1600\"/>\n",
       "  </clipPath>\n",
       "</defs>\n",
       "<path clip-path=\"url(#clip4100)\" d=\"\n",
       "M182.008 1487.47 L2352.76 1487.47 L2352.76 47.2441 L182.008 47.2441  Z\n",
       "  \" fill=\"#ffffff\" fill-rule=\"evenodd\" fill-opacity=\"1\"/>\n",
       "<defs>\n",
       "  <clipPath id=\"clip4102\">\n",
       "    <rect x=\"182\" y=\"47\" width=\"2172\" height=\"1441\"/>\n",
       "  </clipPath>\n",
       "</defs>\n",
       "<polyline clip-path=\"url(#clip4102)\" style=\"stroke:#000000; stroke-width:2; stroke-opacity:0.1; fill:none\" points=\"\n",
       "  241.394,1487.47 241.394,47.2441 \n",
       "  \"/>\n",
       "<polyline clip-path=\"url(#clip4102)\" style=\"stroke:#000000; stroke-width:2; stroke-opacity:0.1; fill:none\" points=\"\n",
       "  753.876,1487.47 753.876,47.2441 \n",
       "  \"/>\n",
       "<polyline clip-path=\"url(#clip4102)\" style=\"stroke:#000000; stroke-width:2; stroke-opacity:0.1; fill:none\" points=\"\n",
       "  1266.36,1487.47 1266.36,47.2441 \n",
       "  \"/>\n",
       "<polyline clip-path=\"url(#clip4102)\" style=\"stroke:#000000; stroke-width:2; stroke-opacity:0.1; fill:none\" points=\"\n",
       "  1778.84,1487.47 1778.84,47.2441 \n",
       "  \"/>\n",
       "<polyline clip-path=\"url(#clip4102)\" style=\"stroke:#000000; stroke-width:2; stroke-opacity:0.1; fill:none\" points=\"\n",
       "  2291.32,1487.47 2291.32,47.2441 \n",
       "  \"/>\n",
       "<polyline clip-path=\"url(#clip4102)\" style=\"stroke:#000000; stroke-width:2; stroke-opacity:0.1; fill:none\" points=\"\n",
       "  182.008,1446.75 2352.76,1446.75 \n",
       "  \"/>\n",
       "<polyline clip-path=\"url(#clip4102)\" style=\"stroke:#000000; stroke-width:2; stroke-opacity:0.1; fill:none\" points=\"\n",
       "  182.008,1106.84 2352.76,1106.84 \n",
       "  \"/>\n",
       "<polyline clip-path=\"url(#clip4102)\" style=\"stroke:#000000; stroke-width:2; stroke-opacity:0.1; fill:none\" points=\"\n",
       "  182.008,766.924 2352.76,766.924 \n",
       "  \"/>\n",
       "<polyline clip-path=\"url(#clip4102)\" style=\"stroke:#000000; stroke-width:2; stroke-opacity:0.1; fill:none\" points=\"\n",
       "  182.008,427.01 2352.76,427.01 \n",
       "  \"/>\n",
       "<polyline clip-path=\"url(#clip4102)\" style=\"stroke:#000000; stroke-width:2; stroke-opacity:0.1; fill:none\" points=\"\n",
       "  182.008,87.0961 2352.76,87.0961 \n",
       "  \"/>\n",
       "<polyline clip-path=\"url(#clip4100)\" style=\"stroke:#000000; stroke-width:4; stroke-opacity:1; fill:none\" points=\"\n",
       "  182.008,1487.47 2352.76,1487.47 \n",
       "  \"/>\n",
       "<polyline clip-path=\"url(#clip4100)\" style=\"stroke:#000000; stroke-width:4; stroke-opacity:1; fill:none\" points=\"\n",
       "  182.008,1487.47 182.008,47.2441 \n",
       "  \"/>\n",
       "<polyline clip-path=\"url(#clip4100)\" style=\"stroke:#000000; stroke-width:4; stroke-opacity:1; fill:none\" points=\"\n",
       "  241.394,1487.47 241.394,1465.87 \n",
       "  \"/>\n",
       "<polyline clip-path=\"url(#clip4100)\" style=\"stroke:#000000; stroke-width:4; stroke-opacity:1; fill:none\" points=\"\n",
       "  753.876,1487.47 753.876,1465.87 \n",
       "  \"/>\n",
       "<polyline clip-path=\"url(#clip4100)\" style=\"stroke:#000000; stroke-width:4; stroke-opacity:1; fill:none\" points=\"\n",
       "  1266.36,1487.47 1266.36,1465.87 \n",
       "  \"/>\n",
       "<polyline clip-path=\"url(#clip4100)\" style=\"stroke:#000000; stroke-width:4; stroke-opacity:1; fill:none\" points=\"\n",
       "  1778.84,1487.47 1778.84,1465.87 \n",
       "  \"/>\n",
       "<polyline clip-path=\"url(#clip4100)\" style=\"stroke:#000000; stroke-width:4; stroke-opacity:1; fill:none\" points=\"\n",
       "  2291.32,1487.47 2291.32,1465.87 \n",
       "  \"/>\n",
       "<polyline clip-path=\"url(#clip4100)\" style=\"stroke:#000000; stroke-width:4; stroke-opacity:1; fill:none\" points=\"\n",
       "  182.008,1446.75 214.569,1446.75 \n",
       "  \"/>\n",
       "<polyline clip-path=\"url(#clip4100)\" style=\"stroke:#000000; stroke-width:4; stroke-opacity:1; fill:none\" points=\"\n",
       "  182.008,1106.84 214.569,1106.84 \n",
       "  \"/>\n",
       "<polyline clip-path=\"url(#clip4100)\" style=\"stroke:#000000; stroke-width:4; stroke-opacity:1; fill:none\" points=\"\n",
       "  182.008,766.924 214.569,766.924 \n",
       "  \"/>\n",
       "<polyline clip-path=\"url(#clip4100)\" style=\"stroke:#000000; stroke-width:4; stroke-opacity:1; fill:none\" points=\"\n",
       "  182.008,427.01 214.569,427.01 \n",
       "  \"/>\n",
       "<polyline clip-path=\"url(#clip4100)\" style=\"stroke:#000000; stroke-width:4; stroke-opacity:1; fill:none\" points=\"\n",
       "  182.008,87.0961 214.569,87.0961 \n",
       "  \"/>\n",
       "<g clip-path=\"url(#clip4100)\">\n",
       "<text style=\"fill:#000000; fill-opacity:1; font-family:Arial,Helvetica Neue,Helvetica,sans-serif; font-size:48px; text-anchor:middle;\" transform=\"rotate(0, 241.394, 1541.47)\" x=\"241.394\" y=\"1541.47\">0</text>\n",
       "</g>\n",
       "<g clip-path=\"url(#clip4100)\">\n",
       "<text style=\"fill:#000000; fill-opacity:1; font-family:Arial,Helvetica Neue,Helvetica,sans-serif; font-size:48px; text-anchor:middle;\" transform=\"rotate(0, 753.876, 1541.47)\" x=\"753.876\" y=\"1541.47\">250</text>\n",
       "</g>\n",
       "<g clip-path=\"url(#clip4100)\">\n",
       "<text style=\"fill:#000000; fill-opacity:1; font-family:Arial,Helvetica Neue,Helvetica,sans-serif; font-size:48px; text-anchor:middle;\" transform=\"rotate(0, 1266.36, 1541.47)\" x=\"1266.36\" y=\"1541.47\">500</text>\n",
       "</g>\n",
       "<g clip-path=\"url(#clip4100)\">\n",
       "<text style=\"fill:#000000; fill-opacity:1; font-family:Arial,Helvetica Neue,Helvetica,sans-serif; font-size:48px; text-anchor:middle;\" transform=\"rotate(0, 1778.84, 1541.47)\" x=\"1778.84\" y=\"1541.47\">750</text>\n",
       "</g>\n",
       "<g clip-path=\"url(#clip4100)\">\n",
       "<text style=\"fill:#000000; fill-opacity:1; font-family:Arial,Helvetica Neue,Helvetica,sans-serif; font-size:48px; text-anchor:middle;\" transform=\"rotate(0, 2291.32, 1541.47)\" x=\"2291.32\" y=\"1541.47\">1000</text>\n",
       "</g>\n",
       "<g clip-path=\"url(#clip4100)\">\n",
       "<text style=\"fill:#000000; fill-opacity:1; font-family:Arial,Helvetica Neue,Helvetica,sans-serif; font-size:48px; text-anchor:end;\" transform=\"rotate(0, 158.008, 1464.25)\" x=\"158.008\" y=\"1464.25\">-1.0</text>\n",
       "</g>\n",
       "<g clip-path=\"url(#clip4100)\">\n",
       "<text style=\"fill:#000000; fill-opacity:1; font-family:Arial,Helvetica Neue,Helvetica,sans-serif; font-size:48px; text-anchor:end;\" transform=\"rotate(0, 158.008, 1124.34)\" x=\"158.008\" y=\"1124.34\">-0.5</text>\n",
       "</g>\n",
       "<g clip-path=\"url(#clip4100)\">\n",
       "<text style=\"fill:#000000; fill-opacity:1; font-family:Arial,Helvetica Neue,Helvetica,sans-serif; font-size:48px; text-anchor:end;\" transform=\"rotate(0, 158.008, 784.424)\" x=\"158.008\" y=\"784.424\">0.0</text>\n",
       "</g>\n",
       "<g clip-path=\"url(#clip4100)\">\n",
       "<text style=\"fill:#000000; fill-opacity:1; font-family:Arial,Helvetica Neue,Helvetica,sans-serif; font-size:48px; text-anchor:end;\" transform=\"rotate(0, 158.008, 444.51)\" x=\"158.008\" y=\"444.51\">0.5</text>\n",
       "</g>\n",
       "<g clip-path=\"url(#clip4100)\">\n",
       "<text style=\"fill:#000000; fill-opacity:1; font-family:Arial,Helvetica Neue,Helvetica,sans-serif; font-size:48px; text-anchor:end;\" transform=\"rotate(0, 158.008, 104.596)\" x=\"158.008\" y=\"104.596\">1.0</text>\n",
       "</g>\n",
       "<circle clip-path=\"url(#clip4102)\" style=\"fill:#000000; stroke:none; fill-opacity:1\" cx=\"243.444\" cy=\"1007.38\" r=\"18\"/>\n",
       "<circle clip-path=\"url(#clip4102)\" style=\"fill:#009af9; stroke:none; fill-opacity:1\" cx=\"243.444\" cy=\"1007.38\" r=\"14\"/>\n",
       "<circle clip-path=\"url(#clip4102)\" style=\"fill:#000000; stroke:none; fill-opacity:1\" cx=\"245.494\" cy=\"539.254\" r=\"18\"/>\n",
       "<circle clip-path=\"url(#clip4102)\" style=\"fill:#009af9; stroke:none; fill-opacity:1\" cx=\"245.494\" cy=\"539.254\" r=\"14\"/>\n",
       "<circle clip-path=\"url(#clip4102)\" style=\"fill:#000000; stroke:none; fill-opacity:1\" cx=\"247.544\" cy=\"1026.75\" r=\"18\"/>\n",
       "<circle clip-path=\"url(#clip4102)\" style=\"fill:#009af9; stroke:none; fill-opacity:1\" cx=\"247.544\" cy=\"1026.75\" r=\"14\"/>\n",
       "<circle clip-path=\"url(#clip4102)\" style=\"fill:#000000; stroke:none; fill-opacity:1\" cx=\"249.594\" cy=\"408.522\" r=\"18\"/>\n",
       "<circle clip-path=\"url(#clip4102)\" style=\"fill:#009af9; stroke:none; fill-opacity:1\" cx=\"249.594\" cy=\"408.522\" r=\"14\"/>\n",
       "<circle clip-path=\"url(#clip4102)\" style=\"fill:#000000; stroke:none; fill-opacity:1\" cx=\"251.644\" cy=\"391.33\" r=\"18\"/>\n",
       "<circle clip-path=\"url(#clip4102)\" style=\"fill:#009af9; stroke:none; fill-opacity:1\" cx=\"251.644\" cy=\"391.33\" r=\"14\"/>\n",
       "<circle clip-path=\"url(#clip4102)\" style=\"fill:#000000; stroke:none; fill-opacity:1\" cx=\"253.694\" cy=\"259.724\" r=\"18\"/>\n",
       "<circle clip-path=\"url(#clip4102)\" style=\"fill:#009af9; stroke:none; fill-opacity:1\" cx=\"253.694\" cy=\"259.724\" r=\"14\"/>\n",
       "<circle clip-path=\"url(#clip4102)\" style=\"fill:#000000; stroke:none; fill-opacity:1\" cx=\"255.744\" cy=\"324.92\" r=\"18\"/>\n",
       "<circle clip-path=\"url(#clip4102)\" style=\"fill:#009af9; stroke:none; fill-opacity:1\" cx=\"255.744\" cy=\"324.92\" r=\"14\"/>\n",
       "<circle clip-path=\"url(#clip4102)\" style=\"fill:#000000; stroke:none; fill-opacity:1\" cx=\"257.794\" cy=\"837.392\" r=\"18\"/>\n",
       "<circle clip-path=\"url(#clip4102)\" style=\"fill:#009af9; stroke:none; fill-opacity:1\" cx=\"257.794\" cy=\"837.392\" r=\"14\"/>\n",
       "<circle clip-path=\"url(#clip4102)\" style=\"fill:#000000; stroke:none; fill-opacity:1\" cx=\"259.844\" cy=\"199.137\" r=\"18\"/>\n",
       "<circle clip-path=\"url(#clip4102)\" style=\"fill:#009af9; stroke:none; fill-opacity:1\" cx=\"259.844\" cy=\"199.137\" r=\"14\"/>\n",
       "<circle clip-path=\"url(#clip4102)\" style=\"fill:#000000; stroke:none; fill-opacity:1\" cx=\"261.894\" cy=\"617.722\" r=\"18\"/>\n",
       "<circle clip-path=\"url(#clip4102)\" style=\"fill:#009af9; stroke:none; fill-opacity:1\" cx=\"261.894\" cy=\"617.722\" r=\"14\"/>\n",
       "<circle clip-path=\"url(#clip4102)\" style=\"fill:#000000; stroke:none; fill-opacity:1\" cx=\"263.944\" cy=\"277.1\" r=\"18\"/>\n",
       "<circle clip-path=\"url(#clip4102)\" style=\"fill:#009af9; stroke:none; fill-opacity:1\" cx=\"263.944\" cy=\"277.1\" r=\"14\"/>\n",
       "<circle clip-path=\"url(#clip4102)\" style=\"fill:#000000; stroke:none; fill-opacity:1\" cx=\"265.993\" cy=\"1128.96\" r=\"18\"/>\n",
       "<circle clip-path=\"url(#clip4102)\" style=\"fill:#009af9; stroke:none; fill-opacity:1\" cx=\"265.993\" cy=\"1128.96\" r=\"14\"/>\n",
       "<circle clip-path=\"url(#clip4102)\" style=\"fill:#000000; stroke:none; fill-opacity:1\" cx=\"268.043\" cy=\"533.221\" r=\"18\"/>\n",
       "<circle clip-path=\"url(#clip4102)\" style=\"fill:#009af9; stroke:none; fill-opacity:1\" cx=\"268.043\" cy=\"533.221\" r=\"14\"/>\n",
       "<circle clip-path=\"url(#clip4102)\" style=\"fill:#000000; stroke:none; fill-opacity:1\" cx=\"270.093\" cy=\"307.324\" r=\"18\"/>\n",
       "<circle clip-path=\"url(#clip4102)\" style=\"fill:#009af9; stroke:none; fill-opacity:1\" cx=\"270.093\" cy=\"307.324\" r=\"14\"/>\n",
       "<circle clip-path=\"url(#clip4102)\" style=\"fill:#000000; stroke:none; fill-opacity:1\" cx=\"272.143\" cy=\"375.041\" r=\"18\"/>\n",
       "<circle clip-path=\"url(#clip4102)\" style=\"fill:#009af9; stroke:none; fill-opacity:1\" cx=\"272.143\" cy=\"375.041\" r=\"14\"/>\n",
       "<circle clip-path=\"url(#clip4102)\" style=\"fill:#000000; stroke:none; fill-opacity:1\" cx=\"274.193\" cy=\"1074.75\" r=\"18\"/>\n",
       "<circle clip-path=\"url(#clip4102)\" style=\"fill:#009af9; stroke:none; fill-opacity:1\" cx=\"274.193\" cy=\"1074.75\" r=\"14\"/>\n",
       "<circle clip-path=\"url(#clip4102)\" style=\"fill:#000000; stroke:none; fill-opacity:1\" cx=\"276.243\" cy=\"1438.35\" r=\"18\"/>\n",
       "<circle clip-path=\"url(#clip4102)\" style=\"fill:#009af9; stroke:none; fill-opacity:1\" cx=\"276.243\" cy=\"1438.35\" r=\"14\"/>\n",
       "<circle clip-path=\"url(#clip4102)\" style=\"fill:#000000; stroke:none; fill-opacity:1\" cx=\"278.293\" cy=\"1114.29\" r=\"18\"/>\n",
       "<circle clip-path=\"url(#clip4102)\" style=\"fill:#009af9; stroke:none; fill-opacity:1\" cx=\"278.293\" cy=\"1114.29\" r=\"14\"/>\n",
       "<circle clip-path=\"url(#clip4102)\" style=\"fill:#000000; stroke:none; fill-opacity:1\" cx=\"280.343\" cy=\"1293.17\" r=\"18\"/>\n",
       "<circle clip-path=\"url(#clip4102)\" style=\"fill:#009af9; stroke:none; fill-opacity:1\" cx=\"280.343\" cy=\"1293.17\" r=\"14\"/>\n",
       "<circle clip-path=\"url(#clip4102)\" style=\"fill:#000000; stroke:none; fill-opacity:1\" cx=\"282.393\" cy=\"799.667\" r=\"18\"/>\n",
       "<circle clip-path=\"url(#clip4102)\" style=\"fill:#009af9; stroke:none; fill-opacity:1\" cx=\"282.393\" cy=\"799.667\" r=\"14\"/>\n",
       "<circle clip-path=\"url(#clip4102)\" style=\"fill:#000000; stroke:none; fill-opacity:1\" cx=\"284.443\" cy=\"279.404\" r=\"18\"/>\n",
       "<circle clip-path=\"url(#clip4102)\" style=\"fill:#009af9; stroke:none; fill-opacity:1\" cx=\"284.443\" cy=\"279.404\" r=\"14\"/>\n",
       "<circle clip-path=\"url(#clip4102)\" style=\"fill:#000000; stroke:none; fill-opacity:1\" cx=\"286.493\" cy=\"588.556\" r=\"18\"/>\n",
       "<circle clip-path=\"url(#clip4102)\" style=\"fill:#009af9; stroke:none; fill-opacity:1\" cx=\"286.493\" cy=\"588.556\" r=\"14\"/>\n",
       "<circle clip-path=\"url(#clip4102)\" style=\"fill:#000000; stroke:none; fill-opacity:1\" cx=\"288.543\" cy=\"1300.95\" r=\"18\"/>\n",
       "<circle clip-path=\"url(#clip4102)\" style=\"fill:#009af9; stroke:none; fill-opacity:1\" cx=\"288.543\" cy=\"1300.95\" r=\"14\"/>\n",
       "<circle clip-path=\"url(#clip4102)\" style=\"fill:#000000; stroke:none; fill-opacity:1\" cx=\"290.593\" cy=\"1398.07\" r=\"18\"/>\n",
       "<circle clip-path=\"url(#clip4102)\" style=\"fill:#009af9; stroke:none; fill-opacity:1\" cx=\"290.593\" cy=\"1398.07\" r=\"14\"/>\n",
       "<circle clip-path=\"url(#clip4102)\" style=\"fill:#000000; stroke:none; fill-opacity:1\" cx=\"292.643\" cy=\"517.214\" r=\"18\"/>\n",
       "<circle clip-path=\"url(#clip4102)\" style=\"fill:#009af9; stroke:none; fill-opacity:1\" cx=\"292.643\" cy=\"517.214\" r=\"14\"/>\n",
       "<circle clip-path=\"url(#clip4102)\" style=\"fill:#000000; stroke:none; fill-opacity:1\" cx=\"294.692\" cy=\"1202.66\" r=\"18\"/>\n",
       "<circle clip-path=\"url(#clip4102)\" style=\"fill:#009af9; stroke:none; fill-opacity:1\" cx=\"294.692\" cy=\"1202.66\" r=\"14\"/>\n",
       "<circle clip-path=\"url(#clip4102)\" style=\"fill:#000000; stroke:none; fill-opacity:1\" cx=\"296.742\" cy=\"1333.86\" r=\"18\"/>\n",
       "<circle clip-path=\"url(#clip4102)\" style=\"fill:#009af9; stroke:none; fill-opacity:1\" cx=\"296.742\" cy=\"1333.86\" r=\"14\"/>\n",
       "<circle clip-path=\"url(#clip4102)\" style=\"fill:#000000; stroke:none; fill-opacity:1\" cx=\"298.792\" cy=\"1364.16\" r=\"18\"/>\n",
       "<circle clip-path=\"url(#clip4102)\" style=\"fill:#009af9; stroke:none; fill-opacity:1\" cx=\"298.792\" cy=\"1364.16\" r=\"14\"/>\n",
       "<circle clip-path=\"url(#clip4102)\" style=\"fill:#000000; stroke:none; fill-opacity:1\" cx=\"300.842\" cy=\"191.066\" r=\"18\"/>\n",
       "<circle clip-path=\"url(#clip4102)\" style=\"fill:#009af9; stroke:none; fill-opacity:1\" cx=\"300.842\" cy=\"191.066\" r=\"14\"/>\n",
       "<circle clip-path=\"url(#clip4102)\" style=\"fill:#000000; stroke:none; fill-opacity:1\" cx=\"302.892\" cy=\"243.942\" r=\"18\"/>\n",
       "<circle clip-path=\"url(#clip4102)\" style=\"fill:#009af9; stroke:none; fill-opacity:1\" cx=\"302.892\" cy=\"243.942\" r=\"14\"/>\n",
       "<circle clip-path=\"url(#clip4102)\" style=\"fill:#000000; stroke:none; fill-opacity:1\" cx=\"304.942\" cy=\"1292.82\" r=\"18\"/>\n",
       "<circle clip-path=\"url(#clip4102)\" style=\"fill:#009af9; stroke:none; fill-opacity:1\" cx=\"304.942\" cy=\"1292.82\" r=\"14\"/>\n",
       "<circle clip-path=\"url(#clip4102)\" style=\"fill:#000000; stroke:none; fill-opacity:1\" cx=\"306.992\" cy=\"1141.14\" r=\"18\"/>\n",
       "<circle clip-path=\"url(#clip4102)\" style=\"fill:#009af9; stroke:none; fill-opacity:1\" cx=\"306.992\" cy=\"1141.14\" r=\"14\"/>\n",
       "<circle clip-path=\"url(#clip4102)\" style=\"fill:#000000; stroke:none; fill-opacity:1\" cx=\"309.042\" cy=\"1151.82\" r=\"18\"/>\n",
       "<circle clip-path=\"url(#clip4102)\" style=\"fill:#009af9; stroke:none; fill-opacity:1\" cx=\"309.042\" cy=\"1151.82\" r=\"14\"/>\n",
       "<circle clip-path=\"url(#clip4102)\" style=\"fill:#000000; stroke:none; fill-opacity:1\" cx=\"311.092\" cy=\"707.393\" r=\"18\"/>\n",
       "<circle clip-path=\"url(#clip4102)\" style=\"fill:#009af9; stroke:none; fill-opacity:1\" cx=\"311.092\" cy=\"707.393\" r=\"14\"/>\n",
       "<circle clip-path=\"url(#clip4102)\" style=\"fill:#000000; stroke:none; fill-opacity:1\" cx=\"313.142\" cy=\"742.944\" r=\"18\"/>\n",
       "<circle clip-path=\"url(#clip4102)\" style=\"fill:#009af9; stroke:none; fill-opacity:1\" cx=\"313.142\" cy=\"742.944\" r=\"14\"/>\n",
       "<circle clip-path=\"url(#clip4102)\" style=\"fill:#000000; stroke:none; fill-opacity:1\" cx=\"315.192\" cy=\"765.336\" r=\"18\"/>\n",
       "<circle clip-path=\"url(#clip4102)\" style=\"fill:#009af9; stroke:none; fill-opacity:1\" cx=\"315.192\" cy=\"765.336\" r=\"14\"/>\n",
       "<circle clip-path=\"url(#clip4102)\" style=\"fill:#000000; stroke:none; fill-opacity:1\" cx=\"317.242\" cy=\"1191.68\" r=\"18\"/>\n",
       "<circle clip-path=\"url(#clip4102)\" style=\"fill:#009af9; stroke:none; fill-opacity:1\" cx=\"317.242\" cy=\"1191.68\" r=\"14\"/>\n",
       "<circle clip-path=\"url(#clip4102)\" style=\"fill:#000000; stroke:none; fill-opacity:1\" cx=\"319.292\" cy=\"102.012\" r=\"18\"/>\n",
       "<circle clip-path=\"url(#clip4102)\" style=\"fill:#009af9; stroke:none; fill-opacity:1\" cx=\"319.292\" cy=\"102.012\" r=\"14\"/>\n",
       "<circle clip-path=\"url(#clip4102)\" style=\"fill:#000000; stroke:none; fill-opacity:1\" cx=\"321.341\" cy=\"1182.27\" r=\"18\"/>\n",
       "<circle clip-path=\"url(#clip4102)\" style=\"fill:#009af9; stroke:none; fill-opacity:1\" cx=\"321.341\" cy=\"1182.27\" r=\"14\"/>\n",
       "<circle clip-path=\"url(#clip4102)\" style=\"fill:#000000; stroke:none; fill-opacity:1\" cx=\"323.391\" cy=\"1328.81\" r=\"18\"/>\n",
       "<circle clip-path=\"url(#clip4102)\" style=\"fill:#009af9; stroke:none; fill-opacity:1\" cx=\"323.391\" cy=\"1328.81\" r=\"14\"/>\n",
       "<circle clip-path=\"url(#clip4102)\" style=\"fill:#000000; stroke:none; fill-opacity:1\" cx=\"325.441\" cy=\"1349.01\" r=\"18\"/>\n",
       "<circle clip-path=\"url(#clip4102)\" style=\"fill:#009af9; stroke:none; fill-opacity:1\" cx=\"325.441\" cy=\"1349.01\" r=\"14\"/>\n",
       "<circle clip-path=\"url(#clip4102)\" style=\"fill:#000000; stroke:none; fill-opacity:1\" cx=\"327.491\" cy=\"546.26\" r=\"18\"/>\n",
       "<circle clip-path=\"url(#clip4102)\" style=\"fill:#009af9; stroke:none; fill-opacity:1\" cx=\"327.491\" cy=\"546.26\" r=\"14\"/>\n",
       "<circle clip-path=\"url(#clip4102)\" style=\"fill:#000000; stroke:none; fill-opacity:1\" cx=\"329.541\" cy=\"1201.57\" r=\"18\"/>\n",
       "<circle clip-path=\"url(#clip4102)\" style=\"fill:#009af9; stroke:none; fill-opacity:1\" cx=\"329.541\" cy=\"1201.57\" r=\"14\"/>\n",
       "<circle clip-path=\"url(#clip4102)\" style=\"fill:#000000; stroke:none; fill-opacity:1\" cx=\"331.591\" cy=\"974.48\" r=\"18\"/>\n",
       "<circle clip-path=\"url(#clip4102)\" style=\"fill:#009af9; stroke:none; fill-opacity:1\" cx=\"331.591\" cy=\"974.48\" r=\"14\"/>\n",
       "<circle clip-path=\"url(#clip4102)\" style=\"fill:#000000; stroke:none; fill-opacity:1\" cx=\"333.641\" cy=\"1086.5\" r=\"18\"/>\n",
       "<circle clip-path=\"url(#clip4102)\" style=\"fill:#009af9; stroke:none; fill-opacity:1\" cx=\"333.641\" cy=\"1086.5\" r=\"14\"/>\n",
       "<circle clip-path=\"url(#clip4102)\" style=\"fill:#000000; stroke:none; fill-opacity:1\" cx=\"335.691\" cy=\"1285.25\" r=\"18\"/>\n",
       "<circle clip-path=\"url(#clip4102)\" style=\"fill:#009af9; stroke:none; fill-opacity:1\" cx=\"335.691\" cy=\"1285.25\" r=\"14\"/>\n",
       "<circle clip-path=\"url(#clip4102)\" style=\"fill:#000000; stroke:none; fill-opacity:1\" cx=\"337.741\" cy=\"1096.15\" r=\"18\"/>\n",
       "<circle clip-path=\"url(#clip4102)\" style=\"fill:#009af9; stroke:none; fill-opacity:1\" cx=\"337.741\" cy=\"1096.15\" r=\"14\"/>\n",
       "<circle clip-path=\"url(#clip4102)\" style=\"fill:#000000; stroke:none; fill-opacity:1\" cx=\"339.791\" cy=\"534.828\" r=\"18\"/>\n",
       "<circle clip-path=\"url(#clip4102)\" style=\"fill:#009af9; stroke:none; fill-opacity:1\" cx=\"339.791\" cy=\"534.828\" r=\"14\"/>\n",
       "<circle clip-path=\"url(#clip4102)\" style=\"fill:#000000; stroke:none; fill-opacity:1\" cx=\"341.841\" cy=\"182.973\" r=\"18\"/>\n",
       "<circle clip-path=\"url(#clip4102)\" style=\"fill:#009af9; stroke:none; fill-opacity:1\" cx=\"341.841\" cy=\"182.973\" r=\"14\"/>\n",
       "<circle clip-path=\"url(#clip4102)\" style=\"fill:#000000; stroke:none; fill-opacity:1\" cx=\"343.891\" cy=\"569.716\" r=\"18\"/>\n",
       "<circle clip-path=\"url(#clip4102)\" style=\"fill:#009af9; stroke:none; fill-opacity:1\" cx=\"343.891\" cy=\"569.716\" r=\"14\"/>\n",
       "<circle clip-path=\"url(#clip4102)\" style=\"fill:#000000; stroke:none; fill-opacity:1\" cx=\"345.941\" cy=\"707.321\" r=\"18\"/>\n",
       "<circle clip-path=\"url(#clip4102)\" style=\"fill:#009af9; stroke:none; fill-opacity:1\" cx=\"345.941\" cy=\"707.321\" r=\"14\"/>\n",
       "<circle clip-path=\"url(#clip4102)\" style=\"fill:#000000; stroke:none; fill-opacity:1\" cx=\"347.991\" cy=\"460.469\" r=\"18\"/>\n",
       "<circle clip-path=\"url(#clip4102)\" style=\"fill:#009af9; stroke:none; fill-opacity:1\" cx=\"347.991\" cy=\"460.469\" r=\"14\"/>\n",
       "<circle clip-path=\"url(#clip4102)\" style=\"fill:#000000; stroke:none; fill-opacity:1\" cx=\"350.04\" cy=\"557.075\" r=\"18\"/>\n",
       "<circle clip-path=\"url(#clip4102)\" style=\"fill:#009af9; stroke:none; fill-opacity:1\" cx=\"350.04\" cy=\"557.075\" r=\"14\"/>\n",
       "<circle clip-path=\"url(#clip4102)\" style=\"fill:#000000; stroke:none; fill-opacity:1\" cx=\"352.09\" cy=\"886.362\" r=\"18\"/>\n",
       "<circle clip-path=\"url(#clip4102)\" style=\"fill:#009af9; stroke:none; fill-opacity:1\" cx=\"352.09\" cy=\"886.362\" r=\"14\"/>\n",
       "<circle clip-path=\"url(#clip4102)\" style=\"fill:#000000; stroke:none; fill-opacity:1\" cx=\"354.14\" cy=\"1164.45\" r=\"18\"/>\n",
       "<circle clip-path=\"url(#clip4102)\" style=\"fill:#009af9; stroke:none; fill-opacity:1\" cx=\"354.14\" cy=\"1164.45\" r=\"14\"/>\n",
       "<circle clip-path=\"url(#clip4102)\" style=\"fill:#000000; stroke:none; fill-opacity:1\" cx=\"356.19\" cy=\"107.478\" r=\"18\"/>\n",
       "<circle clip-path=\"url(#clip4102)\" style=\"fill:#009af9; stroke:none; fill-opacity:1\" cx=\"356.19\" cy=\"107.478\" r=\"14\"/>\n",
       "<circle clip-path=\"url(#clip4102)\" style=\"fill:#000000; stroke:none; fill-opacity:1\" cx=\"358.24\" cy=\"934.337\" r=\"18\"/>\n",
       "<circle clip-path=\"url(#clip4102)\" style=\"fill:#009af9; stroke:none; fill-opacity:1\" cx=\"358.24\" cy=\"934.337\" r=\"14\"/>\n",
       "<circle clip-path=\"url(#clip4102)\" style=\"fill:#000000; stroke:none; fill-opacity:1\" cx=\"360.29\" cy=\"682.151\" r=\"18\"/>\n",
       "<circle clip-path=\"url(#clip4102)\" style=\"fill:#009af9; stroke:none; fill-opacity:1\" cx=\"360.29\" cy=\"682.151\" r=\"14\"/>\n",
       "<circle clip-path=\"url(#clip4102)\" style=\"fill:#000000; stroke:none; fill-opacity:1\" cx=\"362.34\" cy=\"1197.79\" r=\"18\"/>\n",
       "<circle clip-path=\"url(#clip4102)\" style=\"fill:#009af9; stroke:none; fill-opacity:1\" cx=\"362.34\" cy=\"1197.79\" r=\"14\"/>\n",
       "<circle clip-path=\"url(#clip4102)\" style=\"fill:#000000; stroke:none; fill-opacity:1\" cx=\"364.39\" cy=\"291.087\" r=\"18\"/>\n",
       "<circle clip-path=\"url(#clip4102)\" style=\"fill:#009af9; stroke:none; fill-opacity:1\" cx=\"364.39\" cy=\"291.087\" r=\"14\"/>\n",
       "<circle clip-path=\"url(#clip4102)\" style=\"fill:#000000; stroke:none; fill-opacity:1\" cx=\"366.44\" cy=\"1109.97\" r=\"18\"/>\n",
       "<circle clip-path=\"url(#clip4102)\" style=\"fill:#009af9; stroke:none; fill-opacity:1\" cx=\"366.44\" cy=\"1109.97\" r=\"14\"/>\n",
       "<circle clip-path=\"url(#clip4102)\" style=\"fill:#000000; stroke:none; fill-opacity:1\" cx=\"368.49\" cy=\"940.902\" r=\"18\"/>\n",
       "<circle clip-path=\"url(#clip4102)\" style=\"fill:#009af9; stroke:none; fill-opacity:1\" cx=\"368.49\" cy=\"940.902\" r=\"14\"/>\n",
       "<circle clip-path=\"url(#clip4102)\" style=\"fill:#000000; stroke:none; fill-opacity:1\" cx=\"370.54\" cy=\"1139.4\" r=\"18\"/>\n",
       "<circle clip-path=\"url(#clip4102)\" style=\"fill:#009af9; stroke:none; fill-opacity:1\" cx=\"370.54\" cy=\"1139.4\" r=\"14\"/>\n",
       "<circle clip-path=\"url(#clip4102)\" style=\"fill:#000000; stroke:none; fill-opacity:1\" cx=\"372.59\" cy=\"255.399\" r=\"18\"/>\n",
       "<circle clip-path=\"url(#clip4102)\" style=\"fill:#009af9; stroke:none; fill-opacity:1\" cx=\"372.59\" cy=\"255.399\" r=\"14\"/>\n",
       "<circle clip-path=\"url(#clip4102)\" style=\"fill:#000000; stroke:none; fill-opacity:1\" cx=\"374.64\" cy=\"1087.03\" r=\"18\"/>\n",
       "<circle clip-path=\"url(#clip4102)\" style=\"fill:#009af9; stroke:none; fill-opacity:1\" cx=\"374.64\" cy=\"1087.03\" r=\"14\"/>\n",
       "<circle clip-path=\"url(#clip4102)\" style=\"fill:#000000; stroke:none; fill-opacity:1\" cx=\"376.689\" cy=\"505.422\" r=\"18\"/>\n",
       "<circle clip-path=\"url(#clip4102)\" style=\"fill:#009af9; stroke:none; fill-opacity:1\" cx=\"376.689\" cy=\"505.422\" r=\"14\"/>\n",
       "<circle clip-path=\"url(#clip4102)\" style=\"fill:#000000; stroke:none; fill-opacity:1\" cx=\"378.739\" cy=\"930.955\" r=\"18\"/>\n",
       "<circle clip-path=\"url(#clip4102)\" style=\"fill:#009af9; stroke:none; fill-opacity:1\" cx=\"378.739\" cy=\"930.955\" r=\"14\"/>\n",
       "<circle clip-path=\"url(#clip4102)\" style=\"fill:#000000; stroke:none; fill-opacity:1\" cx=\"380.789\" cy=\"610.552\" r=\"18\"/>\n",
       "<circle clip-path=\"url(#clip4102)\" style=\"fill:#009af9; stroke:none; fill-opacity:1\" cx=\"380.789\" cy=\"610.552\" r=\"14\"/>\n",
       "<circle clip-path=\"url(#clip4102)\" style=\"fill:#000000; stroke:none; fill-opacity:1\" cx=\"382.839\" cy=\"980.587\" r=\"18\"/>\n",
       "<circle clip-path=\"url(#clip4102)\" style=\"fill:#009af9; stroke:none; fill-opacity:1\" cx=\"382.839\" cy=\"980.587\" r=\"14\"/>\n",
       "<circle clip-path=\"url(#clip4102)\" style=\"fill:#000000; stroke:none; fill-opacity:1\" cx=\"384.889\" cy=\"605.779\" r=\"18\"/>\n",
       "<circle clip-path=\"url(#clip4102)\" style=\"fill:#009af9; stroke:none; fill-opacity:1\" cx=\"384.889\" cy=\"605.779\" r=\"14\"/>\n",
       "<circle clip-path=\"url(#clip4102)\" style=\"fill:#000000; stroke:none; fill-opacity:1\" cx=\"386.939\" cy=\"420.219\" r=\"18\"/>\n",
       "<circle clip-path=\"url(#clip4102)\" style=\"fill:#009af9; stroke:none; fill-opacity:1\" cx=\"386.939\" cy=\"420.219\" r=\"14\"/>\n",
       "<circle clip-path=\"url(#clip4102)\" style=\"fill:#000000; stroke:none; fill-opacity:1\" cx=\"388.989\" cy=\"709.788\" r=\"18\"/>\n",
       "<circle clip-path=\"url(#clip4102)\" style=\"fill:#009af9; stroke:none; fill-opacity:1\" cx=\"388.989\" cy=\"709.788\" r=\"14\"/>\n",
       "<circle clip-path=\"url(#clip4102)\" style=\"fill:#000000; stroke:none; fill-opacity:1\" cx=\"391.039\" cy=\"271.499\" r=\"18\"/>\n",
       "<circle clip-path=\"url(#clip4102)\" style=\"fill:#009af9; stroke:none; fill-opacity:1\" cx=\"391.039\" cy=\"271.499\" r=\"14\"/>\n",
       "<circle clip-path=\"url(#clip4102)\" style=\"fill:#000000; stroke:none; fill-opacity:1\" cx=\"393.089\" cy=\"757.76\" r=\"18\"/>\n",
       "<circle clip-path=\"url(#clip4102)\" style=\"fill:#009af9; stroke:none; fill-opacity:1\" cx=\"393.089\" cy=\"757.76\" r=\"14\"/>\n",
       "<circle clip-path=\"url(#clip4102)\" style=\"fill:#000000; stroke:none; fill-opacity:1\" cx=\"395.139\" cy=\"259.815\" r=\"18\"/>\n",
       "<circle clip-path=\"url(#clip4102)\" style=\"fill:#009af9; stroke:none; fill-opacity:1\" cx=\"395.139\" cy=\"259.815\" r=\"14\"/>\n",
       "<circle clip-path=\"url(#clip4102)\" style=\"fill:#000000; stroke:none; fill-opacity:1\" cx=\"397.189\" cy=\"733.644\" r=\"18\"/>\n",
       "<circle clip-path=\"url(#clip4102)\" style=\"fill:#009af9; stroke:none; fill-opacity:1\" cx=\"397.189\" cy=\"733.644\" r=\"14\"/>\n",
       "<circle clip-path=\"url(#clip4102)\" style=\"fill:#000000; stroke:none; fill-opacity:1\" cx=\"399.239\" cy=\"753.233\" r=\"18\"/>\n",
       "<circle clip-path=\"url(#clip4102)\" style=\"fill:#009af9; stroke:none; fill-opacity:1\" cx=\"399.239\" cy=\"753.233\" r=\"14\"/>\n",
       "<circle clip-path=\"url(#clip4102)\" style=\"fill:#000000; stroke:none; fill-opacity:1\" cx=\"401.289\" cy=\"858.693\" r=\"18\"/>\n",
       "<circle clip-path=\"url(#clip4102)\" style=\"fill:#009af9; stroke:none; fill-opacity:1\" cx=\"401.289\" cy=\"858.693\" r=\"14\"/>\n",
       "<circle clip-path=\"url(#clip4102)\" style=\"fill:#000000; stroke:none; fill-opacity:1\" cx=\"403.338\" cy=\"1257.47\" r=\"18\"/>\n",
       "<circle clip-path=\"url(#clip4102)\" style=\"fill:#009af9; stroke:none; fill-opacity:1\" cx=\"403.338\" cy=\"1257.47\" r=\"14\"/>\n",
       "<circle clip-path=\"url(#clip4102)\" style=\"fill:#000000; stroke:none; fill-opacity:1\" cx=\"405.388\" cy=\"1225.24\" r=\"18\"/>\n",
       "<circle clip-path=\"url(#clip4102)\" style=\"fill:#009af9; stroke:none; fill-opacity:1\" cx=\"405.388\" cy=\"1225.24\" r=\"14\"/>\n",
       "<circle clip-path=\"url(#clip4102)\" style=\"fill:#000000; stroke:none; fill-opacity:1\" cx=\"407.438\" cy=\"715.551\" r=\"18\"/>\n",
       "<circle clip-path=\"url(#clip4102)\" style=\"fill:#009af9; stroke:none; fill-opacity:1\" cx=\"407.438\" cy=\"715.551\" r=\"14\"/>\n",
       "<circle clip-path=\"url(#clip4102)\" style=\"fill:#000000; stroke:none; fill-opacity:1\" cx=\"409.488\" cy=\"142.02\" r=\"18\"/>\n",
       "<circle clip-path=\"url(#clip4102)\" style=\"fill:#009af9; stroke:none; fill-opacity:1\" cx=\"409.488\" cy=\"142.02\" r=\"14\"/>\n",
       "<circle clip-path=\"url(#clip4102)\" style=\"fill:#000000; stroke:none; fill-opacity:1\" cx=\"411.538\" cy=\"994.339\" r=\"18\"/>\n",
       "<circle clip-path=\"url(#clip4102)\" style=\"fill:#009af9; stroke:none; fill-opacity:1\" cx=\"411.538\" cy=\"994.339\" r=\"14\"/>\n",
       "<circle clip-path=\"url(#clip4102)\" style=\"fill:#000000; stroke:none; fill-opacity:1\" cx=\"413.588\" cy=\"925.906\" r=\"18\"/>\n",
       "<circle clip-path=\"url(#clip4102)\" style=\"fill:#009af9; stroke:none; fill-opacity:1\" cx=\"413.588\" cy=\"925.906\" r=\"14\"/>\n",
       "<circle clip-path=\"url(#clip4102)\" style=\"fill:#000000; stroke:none; fill-opacity:1\" cx=\"415.638\" cy=\"426.313\" r=\"18\"/>\n",
       "<circle clip-path=\"url(#clip4102)\" style=\"fill:#009af9; stroke:none; fill-opacity:1\" cx=\"415.638\" cy=\"426.313\" r=\"14\"/>\n",
       "<circle clip-path=\"url(#clip4102)\" style=\"fill:#000000; stroke:none; fill-opacity:1\" cx=\"417.688\" cy=\"1287.25\" r=\"18\"/>\n",
       "<circle clip-path=\"url(#clip4102)\" style=\"fill:#009af9; stroke:none; fill-opacity:1\" cx=\"417.688\" cy=\"1287.25\" r=\"14\"/>\n",
       "<circle clip-path=\"url(#clip4102)\" style=\"fill:#000000; stroke:none; fill-opacity:1\" cx=\"419.738\" cy=\"1300.29\" r=\"18\"/>\n",
       "<circle clip-path=\"url(#clip4102)\" style=\"fill:#009af9; stroke:none; fill-opacity:1\" cx=\"419.738\" cy=\"1300.29\" r=\"14\"/>\n",
       "<circle clip-path=\"url(#clip4102)\" style=\"fill:#000000; stroke:none; fill-opacity:1\" cx=\"421.788\" cy=\"867.53\" r=\"18\"/>\n",
       "<circle clip-path=\"url(#clip4102)\" style=\"fill:#009af9; stroke:none; fill-opacity:1\" cx=\"421.788\" cy=\"867.53\" r=\"14\"/>\n",
       "<circle clip-path=\"url(#clip4102)\" style=\"fill:#000000; stroke:none; fill-opacity:1\" cx=\"423.838\" cy=\"655.5\" r=\"18\"/>\n",
       "<circle clip-path=\"url(#clip4102)\" style=\"fill:#009af9; stroke:none; fill-opacity:1\" cx=\"423.838\" cy=\"655.5\" r=\"14\"/>\n",
       "<circle clip-path=\"url(#clip4102)\" style=\"fill:#000000; stroke:none; fill-opacity:1\" cx=\"425.888\" cy=\"997.864\" r=\"18\"/>\n",
       "<circle clip-path=\"url(#clip4102)\" style=\"fill:#009af9; stroke:none; fill-opacity:1\" cx=\"425.888\" cy=\"997.864\" r=\"14\"/>\n",
       "<circle clip-path=\"url(#clip4102)\" style=\"fill:#000000; stroke:none; fill-opacity:1\" cx=\"427.938\" cy=\"593.034\" r=\"18\"/>\n",
       "<circle clip-path=\"url(#clip4102)\" style=\"fill:#009af9; stroke:none; fill-opacity:1\" cx=\"427.938\" cy=\"593.034\" r=\"14\"/>\n",
       "<circle clip-path=\"url(#clip4102)\" style=\"fill:#000000; stroke:none; fill-opacity:1\" cx=\"429.988\" cy=\"1365.93\" r=\"18\"/>\n",
       "<circle clip-path=\"url(#clip4102)\" style=\"fill:#009af9; stroke:none; fill-opacity:1\" cx=\"429.988\" cy=\"1365.93\" r=\"14\"/>\n",
       "<circle clip-path=\"url(#clip4102)\" style=\"fill:#000000; stroke:none; fill-opacity:1\" cx=\"432.037\" cy=\"1292.01\" r=\"18\"/>\n",
       "<circle clip-path=\"url(#clip4102)\" style=\"fill:#009af9; stroke:none; fill-opacity:1\" cx=\"432.037\" cy=\"1292.01\" r=\"14\"/>\n",
       "<circle clip-path=\"url(#clip4102)\" style=\"fill:#000000; stroke:none; fill-opacity:1\" cx=\"434.087\" cy=\"1437.66\" r=\"18\"/>\n",
       "<circle clip-path=\"url(#clip4102)\" style=\"fill:#009af9; stroke:none; fill-opacity:1\" cx=\"434.087\" cy=\"1437.66\" r=\"14\"/>\n",
       "<circle clip-path=\"url(#clip4102)\" style=\"fill:#000000; stroke:none; fill-opacity:1\" cx=\"436.137\" cy=\"766.568\" r=\"18\"/>\n",
       "<circle clip-path=\"url(#clip4102)\" style=\"fill:#009af9; stroke:none; fill-opacity:1\" cx=\"436.137\" cy=\"766.568\" r=\"14\"/>\n",
       "<circle clip-path=\"url(#clip4102)\" style=\"fill:#000000; stroke:none; fill-opacity:1\" cx=\"438.187\" cy=\"441.805\" r=\"18\"/>\n",
       "<circle clip-path=\"url(#clip4102)\" style=\"fill:#009af9; stroke:none; fill-opacity:1\" cx=\"438.187\" cy=\"441.805\" r=\"14\"/>\n",
       "<circle clip-path=\"url(#clip4102)\" style=\"fill:#000000; stroke:none; fill-opacity:1\" cx=\"440.237\" cy=\"570.18\" r=\"18\"/>\n",
       "<circle clip-path=\"url(#clip4102)\" style=\"fill:#009af9; stroke:none; fill-opacity:1\" cx=\"440.237\" cy=\"570.18\" r=\"14\"/>\n",
       "<circle clip-path=\"url(#clip4102)\" style=\"fill:#000000; stroke:none; fill-opacity:1\" cx=\"442.287\" cy=\"261.382\" r=\"18\"/>\n",
       "<circle clip-path=\"url(#clip4102)\" style=\"fill:#009af9; stroke:none; fill-opacity:1\" cx=\"442.287\" cy=\"261.382\" r=\"14\"/>\n",
       "<circle clip-path=\"url(#clip4102)\" style=\"fill:#000000; stroke:none; fill-opacity:1\" cx=\"444.337\" cy=\"1017.97\" r=\"18\"/>\n",
       "<circle clip-path=\"url(#clip4102)\" style=\"fill:#009af9; stroke:none; fill-opacity:1\" cx=\"444.337\" cy=\"1017.97\" r=\"14\"/>\n",
       "<circle clip-path=\"url(#clip4102)\" style=\"fill:#000000; stroke:none; fill-opacity:1\" cx=\"446.387\" cy=\"472.961\" r=\"18\"/>\n",
       "<circle clip-path=\"url(#clip4102)\" style=\"fill:#009af9; stroke:none; fill-opacity:1\" cx=\"446.387\" cy=\"472.961\" r=\"14\"/>\n",
       "<circle clip-path=\"url(#clip4102)\" style=\"fill:#000000; stroke:none; fill-opacity:1\" cx=\"448.437\" cy=\"846.069\" r=\"18\"/>\n",
       "<circle clip-path=\"url(#clip4102)\" style=\"fill:#009af9; stroke:none; fill-opacity:1\" cx=\"448.437\" cy=\"846.069\" r=\"14\"/>\n",
       "<circle clip-path=\"url(#clip4102)\" style=\"fill:#000000; stroke:none; fill-opacity:1\" cx=\"450.487\" cy=\"193.912\" r=\"18\"/>\n",
       "<circle clip-path=\"url(#clip4102)\" style=\"fill:#009af9; stroke:none; fill-opacity:1\" cx=\"450.487\" cy=\"193.912\" r=\"14\"/>\n",
       "<circle clip-path=\"url(#clip4102)\" style=\"fill:#000000; stroke:none; fill-opacity:1\" cx=\"452.537\" cy=\"1009.84\" r=\"18\"/>\n",
       "<circle clip-path=\"url(#clip4102)\" style=\"fill:#009af9; stroke:none; fill-opacity:1\" cx=\"452.537\" cy=\"1009.84\" r=\"14\"/>\n",
       "<circle clip-path=\"url(#clip4102)\" style=\"fill:#000000; stroke:none; fill-opacity:1\" cx=\"454.587\" cy=\"498.054\" r=\"18\"/>\n",
       "<circle clip-path=\"url(#clip4102)\" style=\"fill:#009af9; stroke:none; fill-opacity:1\" cx=\"454.587\" cy=\"498.054\" r=\"14\"/>\n",
       "<circle clip-path=\"url(#clip4102)\" style=\"fill:#000000; stroke:none; fill-opacity:1\" cx=\"456.637\" cy=\"1441.39\" r=\"18\"/>\n",
       "<circle clip-path=\"url(#clip4102)\" style=\"fill:#009af9; stroke:none; fill-opacity:1\" cx=\"456.637\" cy=\"1441.39\" r=\"14\"/>\n",
       "<circle clip-path=\"url(#clip4102)\" style=\"fill:#000000; stroke:none; fill-opacity:1\" cx=\"458.686\" cy=\"1155.11\" r=\"18\"/>\n",
       "<circle clip-path=\"url(#clip4102)\" style=\"fill:#009af9; stroke:none; fill-opacity:1\" cx=\"458.686\" cy=\"1155.11\" r=\"14\"/>\n",
       "<circle clip-path=\"url(#clip4102)\" style=\"fill:#000000; stroke:none; fill-opacity:1\" cx=\"460.736\" cy=\"996.065\" r=\"18\"/>\n",
       "<circle clip-path=\"url(#clip4102)\" style=\"fill:#009af9; stroke:none; fill-opacity:1\" cx=\"460.736\" cy=\"996.065\" r=\"14\"/>\n",
       "<circle clip-path=\"url(#clip4102)\" style=\"fill:#000000; stroke:none; fill-opacity:1\" cx=\"462.786\" cy=\"1389.77\" r=\"18\"/>\n",
       "<circle clip-path=\"url(#clip4102)\" style=\"fill:#009af9; stroke:none; fill-opacity:1\" cx=\"462.786\" cy=\"1389.77\" r=\"14\"/>\n",
       "<circle clip-path=\"url(#clip4102)\" style=\"fill:#000000; stroke:none; fill-opacity:1\" cx=\"464.836\" cy=\"897.019\" r=\"18\"/>\n",
       "<circle clip-path=\"url(#clip4102)\" style=\"fill:#009af9; stroke:none; fill-opacity:1\" cx=\"464.836\" cy=\"897.019\" r=\"14\"/>\n",
       "<circle clip-path=\"url(#clip4102)\" style=\"fill:#000000; stroke:none; fill-opacity:1\" cx=\"466.886\" cy=\"425.063\" r=\"18\"/>\n",
       "<circle clip-path=\"url(#clip4102)\" style=\"fill:#009af9; stroke:none; fill-opacity:1\" cx=\"466.886\" cy=\"425.063\" r=\"14\"/>\n",
       "<circle clip-path=\"url(#clip4102)\" style=\"fill:#000000; stroke:none; fill-opacity:1\" cx=\"468.936\" cy=\"717.352\" r=\"18\"/>\n",
       "<circle clip-path=\"url(#clip4102)\" style=\"fill:#009af9; stroke:none; fill-opacity:1\" cx=\"468.936\" cy=\"717.352\" r=\"14\"/>\n",
       "<circle clip-path=\"url(#clip4102)\" style=\"fill:#000000; stroke:none; fill-opacity:1\" cx=\"470.986\" cy=\"650.226\" r=\"18\"/>\n",
       "<circle clip-path=\"url(#clip4102)\" style=\"fill:#009af9; stroke:none; fill-opacity:1\" cx=\"470.986\" cy=\"650.226\" r=\"14\"/>\n",
       "<circle clip-path=\"url(#clip4102)\" style=\"fill:#000000; stroke:none; fill-opacity:1\" cx=\"473.036\" cy=\"293.497\" r=\"18\"/>\n",
       "<circle clip-path=\"url(#clip4102)\" style=\"fill:#009af9; stroke:none; fill-opacity:1\" cx=\"473.036\" cy=\"293.497\" r=\"14\"/>\n",
       "<circle clip-path=\"url(#clip4102)\" style=\"fill:#000000; stroke:none; fill-opacity:1\" cx=\"475.086\" cy=\"457.683\" r=\"18\"/>\n",
       "<circle clip-path=\"url(#clip4102)\" style=\"fill:#009af9; stroke:none; fill-opacity:1\" cx=\"475.086\" cy=\"457.683\" r=\"14\"/>\n",
       "<circle clip-path=\"url(#clip4102)\" style=\"fill:#000000; stroke:none; fill-opacity:1\" cx=\"477.136\" cy=\"426.579\" r=\"18\"/>\n",
       "<circle clip-path=\"url(#clip4102)\" style=\"fill:#009af9; stroke:none; fill-opacity:1\" cx=\"477.136\" cy=\"426.579\" r=\"14\"/>\n",
       "<circle clip-path=\"url(#clip4102)\" style=\"fill:#000000; stroke:none; fill-opacity:1\" cx=\"479.186\" cy=\"560.989\" r=\"18\"/>\n",
       "<circle clip-path=\"url(#clip4102)\" style=\"fill:#009af9; stroke:none; fill-opacity:1\" cx=\"479.186\" cy=\"560.989\" r=\"14\"/>\n",
       "<circle clip-path=\"url(#clip4102)\" style=\"fill:#000000; stroke:none; fill-opacity:1\" cx=\"481.236\" cy=\"1159.81\" r=\"18\"/>\n",
       "<circle clip-path=\"url(#clip4102)\" style=\"fill:#009af9; stroke:none; fill-opacity:1\" cx=\"481.236\" cy=\"1159.81\" r=\"14\"/>\n",
       "<circle clip-path=\"url(#clip4102)\" style=\"fill:#000000; stroke:none; fill-opacity:1\" cx=\"483.286\" cy=\"666.132\" r=\"18\"/>\n",
       "<circle clip-path=\"url(#clip4102)\" style=\"fill:#009af9; stroke:none; fill-opacity:1\" cx=\"483.286\" cy=\"666.132\" r=\"14\"/>\n",
       "<circle clip-path=\"url(#clip4102)\" style=\"fill:#000000; stroke:none; fill-opacity:1\" cx=\"485.335\" cy=\"1259.05\" r=\"18\"/>\n",
       "<circle clip-path=\"url(#clip4102)\" style=\"fill:#009af9; stroke:none; fill-opacity:1\" cx=\"485.335\" cy=\"1259.05\" r=\"14\"/>\n",
       "<circle clip-path=\"url(#clip4102)\" style=\"fill:#000000; stroke:none; fill-opacity:1\" cx=\"487.385\" cy=\"826.313\" r=\"18\"/>\n",
       "<circle clip-path=\"url(#clip4102)\" style=\"fill:#009af9; stroke:none; fill-opacity:1\" cx=\"487.385\" cy=\"826.313\" r=\"14\"/>\n",
       "<circle clip-path=\"url(#clip4102)\" style=\"fill:#000000; stroke:none; fill-opacity:1\" cx=\"489.435\" cy=\"1190.88\" r=\"18\"/>\n",
       "<circle clip-path=\"url(#clip4102)\" style=\"fill:#009af9; stroke:none; fill-opacity:1\" cx=\"489.435\" cy=\"1190.88\" r=\"14\"/>\n",
       "<circle clip-path=\"url(#clip4102)\" style=\"fill:#000000; stroke:none; fill-opacity:1\" cx=\"491.485\" cy=\"1100.85\" r=\"18\"/>\n",
       "<circle clip-path=\"url(#clip4102)\" style=\"fill:#009af9; stroke:none; fill-opacity:1\" cx=\"491.485\" cy=\"1100.85\" r=\"14\"/>\n",
       "<circle clip-path=\"url(#clip4102)\" style=\"fill:#000000; stroke:none; fill-opacity:1\" cx=\"493.535\" cy=\"628.167\" r=\"18\"/>\n",
       "<circle clip-path=\"url(#clip4102)\" style=\"fill:#009af9; stroke:none; fill-opacity:1\" cx=\"493.535\" cy=\"628.167\" r=\"14\"/>\n",
       "<circle clip-path=\"url(#clip4102)\" style=\"fill:#000000; stroke:none; fill-opacity:1\" cx=\"495.585\" cy=\"1344.55\" r=\"18\"/>\n",
       "<circle clip-path=\"url(#clip4102)\" style=\"fill:#009af9; stroke:none; fill-opacity:1\" cx=\"495.585\" cy=\"1344.55\" r=\"14\"/>\n",
       "<circle clip-path=\"url(#clip4102)\" style=\"fill:#000000; stroke:none; fill-opacity:1\" cx=\"497.635\" cy=\"1097.34\" r=\"18\"/>\n",
       "<circle clip-path=\"url(#clip4102)\" style=\"fill:#009af9; stroke:none; fill-opacity:1\" cx=\"497.635\" cy=\"1097.34\" r=\"14\"/>\n",
       "<circle clip-path=\"url(#clip4102)\" style=\"fill:#000000; stroke:none; fill-opacity:1\" cx=\"499.685\" cy=\"754.294\" r=\"18\"/>\n",
       "<circle clip-path=\"url(#clip4102)\" style=\"fill:#009af9; stroke:none; fill-opacity:1\" cx=\"499.685\" cy=\"754.294\" r=\"14\"/>\n",
       "<circle clip-path=\"url(#clip4102)\" style=\"fill:#000000; stroke:none; fill-opacity:1\" cx=\"501.735\" cy=\"645.67\" r=\"18\"/>\n",
       "<circle clip-path=\"url(#clip4102)\" style=\"fill:#009af9; stroke:none; fill-opacity:1\" cx=\"501.735\" cy=\"645.67\" r=\"14\"/>\n",
       "<circle clip-path=\"url(#clip4102)\" style=\"fill:#000000; stroke:none; fill-opacity:1\" cx=\"503.785\" cy=\"442.4\" r=\"18\"/>\n",
       "<circle clip-path=\"url(#clip4102)\" style=\"fill:#009af9; stroke:none; fill-opacity:1\" cx=\"503.785\" cy=\"442.4\" r=\"14\"/>\n",
       "<circle clip-path=\"url(#clip4102)\" style=\"fill:#000000; stroke:none; fill-opacity:1\" cx=\"505.835\" cy=\"1331.5\" r=\"18\"/>\n",
       "<circle clip-path=\"url(#clip4102)\" style=\"fill:#009af9; stroke:none; fill-opacity:1\" cx=\"505.835\" cy=\"1331.5\" r=\"14\"/>\n",
       "<circle clip-path=\"url(#clip4102)\" style=\"fill:#000000; stroke:none; fill-opacity:1\" cx=\"507.885\" cy=\"793.733\" r=\"18\"/>\n",
       "<circle clip-path=\"url(#clip4102)\" style=\"fill:#009af9; stroke:none; fill-opacity:1\" cx=\"507.885\" cy=\"793.733\" r=\"14\"/>\n",
       "<circle clip-path=\"url(#clip4102)\" style=\"fill:#000000; stroke:none; fill-opacity:1\" cx=\"509.935\" cy=\"703.143\" r=\"18\"/>\n",
       "<circle clip-path=\"url(#clip4102)\" style=\"fill:#009af9; stroke:none; fill-opacity:1\" cx=\"509.935\" cy=\"703.143\" r=\"14\"/>\n",
       "<circle clip-path=\"url(#clip4102)\" style=\"fill:#000000; stroke:none; fill-opacity:1\" cx=\"511.985\" cy=\"285.514\" r=\"18\"/>\n",
       "<circle clip-path=\"url(#clip4102)\" style=\"fill:#009af9; stroke:none; fill-opacity:1\" cx=\"511.985\" cy=\"285.514\" r=\"14\"/>\n",
       "<circle clip-path=\"url(#clip4102)\" style=\"fill:#000000; stroke:none; fill-opacity:1\" cx=\"514.034\" cy=\"1130.52\" r=\"18\"/>\n",
       "<circle clip-path=\"url(#clip4102)\" style=\"fill:#009af9; stroke:none; fill-opacity:1\" cx=\"514.034\" cy=\"1130.52\" r=\"14\"/>\n",
       "<circle clip-path=\"url(#clip4102)\" style=\"fill:#000000; stroke:none; fill-opacity:1\" cx=\"516.084\" cy=\"1077.09\" r=\"18\"/>\n",
       "<circle clip-path=\"url(#clip4102)\" style=\"fill:#009af9; stroke:none; fill-opacity:1\" cx=\"516.084\" cy=\"1077.09\" r=\"14\"/>\n",
       "<circle clip-path=\"url(#clip4102)\" style=\"fill:#000000; stroke:none; fill-opacity:1\" cx=\"518.134\" cy=\"289.503\" r=\"18\"/>\n",
       "<circle clip-path=\"url(#clip4102)\" style=\"fill:#009af9; stroke:none; fill-opacity:1\" cx=\"518.134\" cy=\"289.503\" r=\"14\"/>\n",
       "<circle clip-path=\"url(#clip4102)\" style=\"fill:#000000; stroke:none; fill-opacity:1\" cx=\"520.184\" cy=\"353.752\" r=\"18\"/>\n",
       "<circle clip-path=\"url(#clip4102)\" style=\"fill:#009af9; stroke:none; fill-opacity:1\" cx=\"520.184\" cy=\"353.752\" r=\"14\"/>\n",
       "<circle clip-path=\"url(#clip4102)\" style=\"fill:#000000; stroke:none; fill-opacity:1\" cx=\"522.234\" cy=\"1114.09\" r=\"18\"/>\n",
       "<circle clip-path=\"url(#clip4102)\" style=\"fill:#009af9; stroke:none; fill-opacity:1\" cx=\"522.234\" cy=\"1114.09\" r=\"14\"/>\n",
       "<circle clip-path=\"url(#clip4102)\" style=\"fill:#000000; stroke:none; fill-opacity:1\" cx=\"524.284\" cy=\"633.822\" r=\"18\"/>\n",
       "<circle clip-path=\"url(#clip4102)\" style=\"fill:#009af9; stroke:none; fill-opacity:1\" cx=\"524.284\" cy=\"633.822\" r=\"14\"/>\n",
       "<circle clip-path=\"url(#clip4102)\" style=\"fill:#000000; stroke:none; fill-opacity:1\" cx=\"526.334\" cy=\"1418.78\" r=\"18\"/>\n",
       "<circle clip-path=\"url(#clip4102)\" style=\"fill:#009af9; stroke:none; fill-opacity:1\" cx=\"526.334\" cy=\"1418.78\" r=\"14\"/>\n",
       "<circle clip-path=\"url(#clip4102)\" style=\"fill:#000000; stroke:none; fill-opacity:1\" cx=\"528.384\" cy=\"362.923\" r=\"18\"/>\n",
       "<circle clip-path=\"url(#clip4102)\" style=\"fill:#009af9; stroke:none; fill-opacity:1\" cx=\"528.384\" cy=\"362.923\" r=\"14\"/>\n",
       "<circle clip-path=\"url(#clip4102)\" style=\"fill:#000000; stroke:none; fill-opacity:1\" cx=\"530.434\" cy=\"962.952\" r=\"18\"/>\n",
       "<circle clip-path=\"url(#clip4102)\" style=\"fill:#009af9; stroke:none; fill-opacity:1\" cx=\"530.434\" cy=\"962.952\" r=\"14\"/>\n",
       "<circle clip-path=\"url(#clip4102)\" style=\"fill:#000000; stroke:none; fill-opacity:1\" cx=\"532.484\" cy=\"1160.28\" r=\"18\"/>\n",
       "<circle clip-path=\"url(#clip4102)\" style=\"fill:#009af9; stroke:none; fill-opacity:1\" cx=\"532.484\" cy=\"1160.28\" r=\"14\"/>\n",
       "<circle clip-path=\"url(#clip4102)\" style=\"fill:#000000; stroke:none; fill-opacity:1\" cx=\"534.534\" cy=\"678.174\" r=\"18\"/>\n",
       "<circle clip-path=\"url(#clip4102)\" style=\"fill:#009af9; stroke:none; fill-opacity:1\" cx=\"534.534\" cy=\"678.174\" r=\"14\"/>\n",
       "<circle clip-path=\"url(#clip4102)\" style=\"fill:#000000; stroke:none; fill-opacity:1\" cx=\"536.584\" cy=\"1116.84\" r=\"18\"/>\n",
       "<circle clip-path=\"url(#clip4102)\" style=\"fill:#009af9; stroke:none; fill-opacity:1\" cx=\"536.584\" cy=\"1116.84\" r=\"14\"/>\n",
       "<circle clip-path=\"url(#clip4102)\" style=\"fill:#000000; stroke:none; fill-opacity:1\" cx=\"538.634\" cy=\"1096.77\" r=\"18\"/>\n",
       "<circle clip-path=\"url(#clip4102)\" style=\"fill:#009af9; stroke:none; fill-opacity:1\" cx=\"538.634\" cy=\"1096.77\" r=\"14\"/>\n",
       "<circle clip-path=\"url(#clip4102)\" style=\"fill:#000000; stroke:none; fill-opacity:1\" cx=\"540.683\" cy=\"666.942\" r=\"18\"/>\n",
       "<circle clip-path=\"url(#clip4102)\" style=\"fill:#009af9; stroke:none; fill-opacity:1\" cx=\"540.683\" cy=\"666.942\" r=\"14\"/>\n",
       "<circle clip-path=\"url(#clip4102)\" style=\"fill:#000000; stroke:none; fill-opacity:1\" cx=\"542.733\" cy=\"986.662\" r=\"18\"/>\n",
       "<circle clip-path=\"url(#clip4102)\" style=\"fill:#009af9; stroke:none; fill-opacity:1\" cx=\"542.733\" cy=\"986.662\" r=\"14\"/>\n",
       "<circle clip-path=\"url(#clip4102)\" style=\"fill:#000000; stroke:none; fill-opacity:1\" cx=\"544.783\" cy=\"465.425\" r=\"18\"/>\n",
       "<circle clip-path=\"url(#clip4102)\" style=\"fill:#009af9; stroke:none; fill-opacity:1\" cx=\"544.783\" cy=\"465.425\" r=\"14\"/>\n",
       "<circle clip-path=\"url(#clip4102)\" style=\"fill:#000000; stroke:none; fill-opacity:1\" cx=\"546.833\" cy=\"131.887\" r=\"18\"/>\n",
       "<circle clip-path=\"url(#clip4102)\" style=\"fill:#009af9; stroke:none; fill-opacity:1\" cx=\"546.833\" cy=\"131.887\" r=\"14\"/>\n",
       "<circle clip-path=\"url(#clip4102)\" style=\"fill:#000000; stroke:none; fill-opacity:1\" cx=\"548.883\" cy=\"895.227\" r=\"18\"/>\n",
       "<circle clip-path=\"url(#clip4102)\" style=\"fill:#009af9; stroke:none; fill-opacity:1\" cx=\"548.883\" cy=\"895.227\" r=\"14\"/>\n",
       "<circle clip-path=\"url(#clip4102)\" style=\"fill:#000000; stroke:none; fill-opacity:1\" cx=\"550.933\" cy=\"702.89\" r=\"18\"/>\n",
       "<circle clip-path=\"url(#clip4102)\" style=\"fill:#009af9; stroke:none; fill-opacity:1\" cx=\"550.933\" cy=\"702.89\" r=\"14\"/>\n",
       "<circle clip-path=\"url(#clip4102)\" style=\"fill:#000000; stroke:none; fill-opacity:1\" cx=\"552.983\" cy=\"979.894\" r=\"18\"/>\n",
       "<circle clip-path=\"url(#clip4102)\" style=\"fill:#009af9; stroke:none; fill-opacity:1\" cx=\"552.983\" cy=\"979.894\" r=\"14\"/>\n",
       "<circle clip-path=\"url(#clip4102)\" style=\"fill:#000000; stroke:none; fill-opacity:1\" cx=\"555.033\" cy=\"1117.88\" r=\"18\"/>\n",
       "<circle clip-path=\"url(#clip4102)\" style=\"fill:#009af9; stroke:none; fill-opacity:1\" cx=\"555.033\" cy=\"1117.88\" r=\"14\"/>\n",
       "<circle clip-path=\"url(#clip4102)\" style=\"fill:#000000; stroke:none; fill-opacity:1\" cx=\"557.083\" cy=\"1192.16\" r=\"18\"/>\n",
       "<circle clip-path=\"url(#clip4102)\" style=\"fill:#009af9; stroke:none; fill-opacity:1\" cx=\"557.083\" cy=\"1192.16\" r=\"14\"/>\n",
       "<circle clip-path=\"url(#clip4102)\" style=\"fill:#000000; stroke:none; fill-opacity:1\" cx=\"559.133\" cy=\"1320.44\" r=\"18\"/>\n",
       "<circle clip-path=\"url(#clip4102)\" style=\"fill:#009af9; stroke:none; fill-opacity:1\" cx=\"559.133\" cy=\"1320.44\" r=\"14\"/>\n",
       "<circle clip-path=\"url(#clip4102)\" style=\"fill:#000000; stroke:none; fill-opacity:1\" cx=\"561.183\" cy=\"879.55\" r=\"18\"/>\n",
       "<circle clip-path=\"url(#clip4102)\" style=\"fill:#009af9; stroke:none; fill-opacity:1\" cx=\"561.183\" cy=\"879.55\" r=\"14\"/>\n",
       "<circle clip-path=\"url(#clip4102)\" style=\"fill:#000000; stroke:none; fill-opacity:1\" cx=\"563.233\" cy=\"1046.14\" r=\"18\"/>\n",
       "<circle clip-path=\"url(#clip4102)\" style=\"fill:#009af9; stroke:none; fill-opacity:1\" cx=\"563.233\" cy=\"1046.14\" r=\"14\"/>\n",
       "<circle clip-path=\"url(#clip4102)\" style=\"fill:#000000; stroke:none; fill-opacity:1\" cx=\"565.283\" cy=\"241.227\" r=\"18\"/>\n",
       "<circle clip-path=\"url(#clip4102)\" style=\"fill:#009af9; stroke:none; fill-opacity:1\" cx=\"565.283\" cy=\"241.227\" r=\"14\"/>\n",
       "<circle clip-path=\"url(#clip4102)\" style=\"fill:#000000; stroke:none; fill-opacity:1\" cx=\"567.333\" cy=\"156.992\" r=\"18\"/>\n",
       "<circle clip-path=\"url(#clip4102)\" style=\"fill:#009af9; stroke:none; fill-opacity:1\" cx=\"567.333\" cy=\"156.992\" r=\"14\"/>\n",
       "<circle clip-path=\"url(#clip4102)\" style=\"fill:#000000; stroke:none; fill-opacity:1\" cx=\"569.382\" cy=\"1390.52\" r=\"18\"/>\n",
       "<circle clip-path=\"url(#clip4102)\" style=\"fill:#009af9; stroke:none; fill-opacity:1\" cx=\"569.382\" cy=\"1390.52\" r=\"14\"/>\n",
       "<circle clip-path=\"url(#clip4102)\" style=\"fill:#000000; stroke:none; fill-opacity:1\" cx=\"571.432\" cy=\"1165.92\" r=\"18\"/>\n",
       "<circle clip-path=\"url(#clip4102)\" style=\"fill:#009af9; stroke:none; fill-opacity:1\" cx=\"571.432\" cy=\"1165.92\" r=\"14\"/>\n",
       "<circle clip-path=\"url(#clip4102)\" style=\"fill:#000000; stroke:none; fill-opacity:1\" cx=\"573.482\" cy=\"1379.07\" r=\"18\"/>\n",
       "<circle clip-path=\"url(#clip4102)\" style=\"fill:#009af9; stroke:none; fill-opacity:1\" cx=\"573.482\" cy=\"1379.07\" r=\"14\"/>\n",
       "<circle clip-path=\"url(#clip4102)\" style=\"fill:#000000; stroke:none; fill-opacity:1\" cx=\"575.532\" cy=\"524.922\" r=\"18\"/>\n",
       "<circle clip-path=\"url(#clip4102)\" style=\"fill:#009af9; stroke:none; fill-opacity:1\" cx=\"575.532\" cy=\"524.922\" r=\"14\"/>\n",
       "<circle clip-path=\"url(#clip4102)\" style=\"fill:#000000; stroke:none; fill-opacity:1\" cx=\"577.582\" cy=\"1269.89\" r=\"18\"/>\n",
       "<circle clip-path=\"url(#clip4102)\" style=\"fill:#009af9; stroke:none; fill-opacity:1\" cx=\"577.582\" cy=\"1269.89\" r=\"14\"/>\n",
       "<circle clip-path=\"url(#clip4102)\" style=\"fill:#000000; stroke:none; fill-opacity:1\" cx=\"579.632\" cy=\"1158.63\" r=\"18\"/>\n",
       "<circle clip-path=\"url(#clip4102)\" style=\"fill:#009af9; stroke:none; fill-opacity:1\" cx=\"579.632\" cy=\"1158.63\" r=\"14\"/>\n",
       "<circle clip-path=\"url(#clip4102)\" style=\"fill:#000000; stroke:none; fill-opacity:1\" cx=\"581.682\" cy=\"197.302\" r=\"18\"/>\n",
       "<circle clip-path=\"url(#clip4102)\" style=\"fill:#009af9; stroke:none; fill-opacity:1\" cx=\"581.682\" cy=\"197.302\" r=\"14\"/>\n",
       "<circle clip-path=\"url(#clip4102)\" style=\"fill:#000000; stroke:none; fill-opacity:1\" cx=\"583.732\" cy=\"1162.57\" r=\"18\"/>\n",
       "<circle clip-path=\"url(#clip4102)\" style=\"fill:#009af9; stroke:none; fill-opacity:1\" cx=\"583.732\" cy=\"1162.57\" r=\"14\"/>\n",
       "<circle clip-path=\"url(#clip4102)\" style=\"fill:#000000; stroke:none; fill-opacity:1\" cx=\"585.782\" cy=\"644.726\" r=\"18\"/>\n",
       "<circle clip-path=\"url(#clip4102)\" style=\"fill:#009af9; stroke:none; fill-opacity:1\" cx=\"585.782\" cy=\"644.726\" r=\"14\"/>\n",
       "<circle clip-path=\"url(#clip4102)\" style=\"fill:#000000; stroke:none; fill-opacity:1\" cx=\"587.832\" cy=\"1283.89\" r=\"18\"/>\n",
       "<circle clip-path=\"url(#clip4102)\" style=\"fill:#009af9; stroke:none; fill-opacity:1\" cx=\"587.832\" cy=\"1283.89\" r=\"14\"/>\n",
       "<circle clip-path=\"url(#clip4102)\" style=\"fill:#000000; stroke:none; fill-opacity:1\" cx=\"589.882\" cy=\"925.185\" r=\"18\"/>\n",
       "<circle clip-path=\"url(#clip4102)\" style=\"fill:#009af9; stroke:none; fill-opacity:1\" cx=\"589.882\" cy=\"925.185\" r=\"14\"/>\n",
       "<circle clip-path=\"url(#clip4102)\" style=\"fill:#000000; stroke:none; fill-opacity:1\" cx=\"591.932\" cy=\"1255.28\" r=\"18\"/>\n",
       "<circle clip-path=\"url(#clip4102)\" style=\"fill:#009af9; stroke:none; fill-opacity:1\" cx=\"591.932\" cy=\"1255.28\" r=\"14\"/>\n",
       "<circle clip-path=\"url(#clip4102)\" style=\"fill:#000000; stroke:none; fill-opacity:1\" cx=\"593.982\" cy=\"309.058\" r=\"18\"/>\n",
       "<circle clip-path=\"url(#clip4102)\" style=\"fill:#009af9; stroke:none; fill-opacity:1\" cx=\"593.982\" cy=\"309.058\" r=\"14\"/>\n",
       "<circle clip-path=\"url(#clip4102)\" style=\"fill:#000000; stroke:none; fill-opacity:1\" cx=\"596.031\" cy=\"1112.55\" r=\"18\"/>\n",
       "<circle clip-path=\"url(#clip4102)\" style=\"fill:#009af9; stroke:none; fill-opacity:1\" cx=\"596.031\" cy=\"1112.55\" r=\"14\"/>\n",
       "<circle clip-path=\"url(#clip4102)\" style=\"fill:#000000; stroke:none; fill-opacity:1\" cx=\"598.081\" cy=\"665.507\" r=\"18\"/>\n",
       "<circle clip-path=\"url(#clip4102)\" style=\"fill:#009af9; stroke:none; fill-opacity:1\" cx=\"598.081\" cy=\"665.507\" r=\"14\"/>\n",
       "<circle clip-path=\"url(#clip4102)\" style=\"fill:#000000; stroke:none; fill-opacity:1\" cx=\"600.131\" cy=\"232.905\" r=\"18\"/>\n",
       "<circle clip-path=\"url(#clip4102)\" style=\"fill:#009af9; stroke:none; fill-opacity:1\" cx=\"600.131\" cy=\"232.905\" r=\"14\"/>\n",
       "<circle clip-path=\"url(#clip4102)\" style=\"fill:#000000; stroke:none; fill-opacity:1\" cx=\"602.181\" cy=\"655.427\" r=\"18\"/>\n",
       "<circle clip-path=\"url(#clip4102)\" style=\"fill:#009af9; stroke:none; fill-opacity:1\" cx=\"602.181\" cy=\"655.427\" r=\"14\"/>\n",
       "<circle clip-path=\"url(#clip4102)\" style=\"fill:#000000; stroke:none; fill-opacity:1\" cx=\"604.231\" cy=\"650.044\" r=\"18\"/>\n",
       "<circle clip-path=\"url(#clip4102)\" style=\"fill:#009af9; stroke:none; fill-opacity:1\" cx=\"604.231\" cy=\"650.044\" r=\"14\"/>\n",
       "<circle clip-path=\"url(#clip4102)\" style=\"fill:#000000; stroke:none; fill-opacity:1\" cx=\"606.281\" cy=\"229.648\" r=\"18\"/>\n",
       "<circle clip-path=\"url(#clip4102)\" style=\"fill:#009af9; stroke:none; fill-opacity:1\" cx=\"606.281\" cy=\"229.648\" r=\"14\"/>\n",
       "<circle clip-path=\"url(#clip4102)\" style=\"fill:#000000; stroke:none; fill-opacity:1\" cx=\"608.331\" cy=\"917.615\" r=\"18\"/>\n",
       "<circle clip-path=\"url(#clip4102)\" style=\"fill:#009af9; stroke:none; fill-opacity:1\" cx=\"608.331\" cy=\"917.615\" r=\"14\"/>\n",
       "<circle clip-path=\"url(#clip4102)\" style=\"fill:#000000; stroke:none; fill-opacity:1\" cx=\"610.381\" cy=\"618.748\" r=\"18\"/>\n",
       "<circle clip-path=\"url(#clip4102)\" style=\"fill:#009af9; stroke:none; fill-opacity:1\" cx=\"610.381\" cy=\"618.748\" r=\"14\"/>\n",
       "<circle clip-path=\"url(#clip4102)\" style=\"fill:#000000; stroke:none; fill-opacity:1\" cx=\"612.431\" cy=\"971.63\" r=\"18\"/>\n",
       "<circle clip-path=\"url(#clip4102)\" style=\"fill:#009af9; stroke:none; fill-opacity:1\" cx=\"612.431\" cy=\"971.63\" r=\"14\"/>\n",
       "<circle clip-path=\"url(#clip4102)\" style=\"fill:#000000; stroke:none; fill-opacity:1\" cx=\"614.481\" cy=\"1344.62\" r=\"18\"/>\n",
       "<circle clip-path=\"url(#clip4102)\" style=\"fill:#009af9; stroke:none; fill-opacity:1\" cx=\"614.481\" cy=\"1344.62\" r=\"14\"/>\n",
       "<circle clip-path=\"url(#clip4102)\" style=\"fill:#000000; stroke:none; fill-opacity:1\" cx=\"616.531\" cy=\"882.355\" r=\"18\"/>\n",
       "<circle clip-path=\"url(#clip4102)\" style=\"fill:#009af9; stroke:none; fill-opacity:1\" cx=\"616.531\" cy=\"882.355\" r=\"14\"/>\n",
       "<circle clip-path=\"url(#clip4102)\" style=\"fill:#000000; stroke:none; fill-opacity:1\" cx=\"618.581\" cy=\"270.224\" r=\"18\"/>\n",
       "<circle clip-path=\"url(#clip4102)\" style=\"fill:#009af9; stroke:none; fill-opacity:1\" cx=\"618.581\" cy=\"270.224\" r=\"14\"/>\n",
       "<circle clip-path=\"url(#clip4102)\" style=\"fill:#000000; stroke:none; fill-opacity:1\" cx=\"620.631\" cy=\"1313.6\" r=\"18\"/>\n",
       "<circle clip-path=\"url(#clip4102)\" style=\"fill:#009af9; stroke:none; fill-opacity:1\" cx=\"620.631\" cy=\"1313.6\" r=\"14\"/>\n",
       "<circle clip-path=\"url(#clip4102)\" style=\"fill:#000000; stroke:none; fill-opacity:1\" cx=\"622.68\" cy=\"1295.7\" r=\"18\"/>\n",
       "<circle clip-path=\"url(#clip4102)\" style=\"fill:#009af9; stroke:none; fill-opacity:1\" cx=\"622.68\" cy=\"1295.7\" r=\"14\"/>\n",
       "<circle clip-path=\"url(#clip4102)\" style=\"fill:#000000; stroke:none; fill-opacity:1\" cx=\"624.73\" cy=\"216.703\" r=\"18\"/>\n",
       "<circle clip-path=\"url(#clip4102)\" style=\"fill:#009af9; stroke:none; fill-opacity:1\" cx=\"624.73\" cy=\"216.703\" r=\"14\"/>\n",
       "<circle clip-path=\"url(#clip4102)\" style=\"fill:#000000; stroke:none; fill-opacity:1\" cx=\"626.78\" cy=\"1370\" r=\"18\"/>\n",
       "<circle clip-path=\"url(#clip4102)\" style=\"fill:#009af9; stroke:none; fill-opacity:1\" cx=\"626.78\" cy=\"1370\" r=\"14\"/>\n",
       "<circle clip-path=\"url(#clip4102)\" style=\"fill:#000000; stroke:none; fill-opacity:1\" cx=\"628.83\" cy=\"368.638\" r=\"18\"/>\n",
       "<circle clip-path=\"url(#clip4102)\" style=\"fill:#009af9; stroke:none; fill-opacity:1\" cx=\"628.83\" cy=\"368.638\" r=\"14\"/>\n",
       "<circle clip-path=\"url(#clip4102)\" style=\"fill:#000000; stroke:none; fill-opacity:1\" cx=\"630.88\" cy=\"403.167\" r=\"18\"/>\n",
       "<circle clip-path=\"url(#clip4102)\" style=\"fill:#009af9; stroke:none; fill-opacity:1\" cx=\"630.88\" cy=\"403.167\" r=\"14\"/>\n",
       "<circle clip-path=\"url(#clip4102)\" style=\"fill:#000000; stroke:none; fill-opacity:1\" cx=\"632.93\" cy=\"669.987\" r=\"18\"/>\n",
       "<circle clip-path=\"url(#clip4102)\" style=\"fill:#009af9; stroke:none; fill-opacity:1\" cx=\"632.93\" cy=\"669.987\" r=\"14\"/>\n",
       "<circle clip-path=\"url(#clip4102)\" style=\"fill:#000000; stroke:none; fill-opacity:1\" cx=\"634.98\" cy=\"100.252\" r=\"18\"/>\n",
       "<circle clip-path=\"url(#clip4102)\" style=\"fill:#009af9; stroke:none; fill-opacity:1\" cx=\"634.98\" cy=\"100.252\" r=\"14\"/>\n",
       "<circle clip-path=\"url(#clip4102)\" style=\"fill:#000000; stroke:none; fill-opacity:1\" cx=\"637.03\" cy=\"962.048\" r=\"18\"/>\n",
       "<circle clip-path=\"url(#clip4102)\" style=\"fill:#009af9; stroke:none; fill-opacity:1\" cx=\"637.03\" cy=\"962.048\" r=\"14\"/>\n",
       "<circle clip-path=\"url(#clip4102)\" style=\"fill:#000000; stroke:none; fill-opacity:1\" cx=\"639.08\" cy=\"796.533\" r=\"18\"/>\n",
       "<circle clip-path=\"url(#clip4102)\" style=\"fill:#009af9; stroke:none; fill-opacity:1\" cx=\"639.08\" cy=\"796.533\" r=\"14\"/>\n",
       "<circle clip-path=\"url(#clip4102)\" style=\"fill:#000000; stroke:none; fill-opacity:1\" cx=\"641.13\" cy=\"825.891\" r=\"18\"/>\n",
       "<circle clip-path=\"url(#clip4102)\" style=\"fill:#009af9; stroke:none; fill-opacity:1\" cx=\"641.13\" cy=\"825.891\" r=\"14\"/>\n",
       "<circle clip-path=\"url(#clip4102)\" style=\"fill:#000000; stroke:none; fill-opacity:1\" cx=\"643.18\" cy=\"426.184\" r=\"18\"/>\n",
       "<circle clip-path=\"url(#clip4102)\" style=\"fill:#009af9; stroke:none; fill-opacity:1\" cx=\"643.18\" cy=\"426.184\" r=\"14\"/>\n",
       "<circle clip-path=\"url(#clip4102)\" style=\"fill:#000000; stroke:none; fill-opacity:1\" cx=\"645.23\" cy=\"872.077\" r=\"18\"/>\n",
       "<circle clip-path=\"url(#clip4102)\" style=\"fill:#009af9; stroke:none; fill-opacity:1\" cx=\"645.23\" cy=\"872.077\" r=\"14\"/>\n",
       "<circle clip-path=\"url(#clip4102)\" style=\"fill:#000000; stroke:none; fill-opacity:1\" cx=\"647.28\" cy=\"202.4\" r=\"18\"/>\n",
       "<circle clip-path=\"url(#clip4102)\" style=\"fill:#009af9; stroke:none; fill-opacity:1\" cx=\"647.28\" cy=\"202.4\" r=\"14\"/>\n",
       "<circle clip-path=\"url(#clip4102)\" style=\"fill:#000000; stroke:none; fill-opacity:1\" cx=\"649.33\" cy=\"496.956\" r=\"18\"/>\n",
       "<circle clip-path=\"url(#clip4102)\" style=\"fill:#009af9; stroke:none; fill-opacity:1\" cx=\"649.33\" cy=\"496.956\" r=\"14\"/>\n",
       "<circle clip-path=\"url(#clip4102)\" style=\"fill:#000000; stroke:none; fill-opacity:1\" cx=\"651.379\" cy=\"172.134\" r=\"18\"/>\n",
       "<circle clip-path=\"url(#clip4102)\" style=\"fill:#009af9; stroke:none; fill-opacity:1\" cx=\"651.379\" cy=\"172.134\" r=\"14\"/>\n",
       "<circle clip-path=\"url(#clip4102)\" style=\"fill:#000000; stroke:none; fill-opacity:1\" cx=\"653.429\" cy=\"295.728\" r=\"18\"/>\n",
       "<circle clip-path=\"url(#clip4102)\" style=\"fill:#009af9; stroke:none; fill-opacity:1\" cx=\"653.429\" cy=\"295.728\" r=\"14\"/>\n",
       "<circle clip-path=\"url(#clip4102)\" style=\"fill:#000000; stroke:none; fill-opacity:1\" cx=\"655.479\" cy=\"465.772\" r=\"18\"/>\n",
       "<circle clip-path=\"url(#clip4102)\" style=\"fill:#009af9; stroke:none; fill-opacity:1\" cx=\"655.479\" cy=\"465.772\" r=\"14\"/>\n",
       "<circle clip-path=\"url(#clip4102)\" style=\"fill:#000000; stroke:none; fill-opacity:1\" cx=\"657.529\" cy=\"1291.77\" r=\"18\"/>\n",
       "<circle clip-path=\"url(#clip4102)\" style=\"fill:#009af9; stroke:none; fill-opacity:1\" cx=\"657.529\" cy=\"1291.77\" r=\"14\"/>\n",
       "<circle clip-path=\"url(#clip4102)\" style=\"fill:#000000; stroke:none; fill-opacity:1\" cx=\"659.579\" cy=\"712.328\" r=\"18\"/>\n",
       "<circle clip-path=\"url(#clip4102)\" style=\"fill:#009af9; stroke:none; fill-opacity:1\" cx=\"659.579\" cy=\"712.328\" r=\"14\"/>\n",
       "<circle clip-path=\"url(#clip4102)\" style=\"fill:#000000; stroke:none; fill-opacity:1\" cx=\"661.629\" cy=\"543.246\" r=\"18\"/>\n",
       "<circle clip-path=\"url(#clip4102)\" style=\"fill:#009af9; stroke:none; fill-opacity:1\" cx=\"661.629\" cy=\"543.246\" r=\"14\"/>\n",
       "<circle clip-path=\"url(#clip4102)\" style=\"fill:#000000; stroke:none; fill-opacity:1\" cx=\"663.679\" cy=\"1090.42\" r=\"18\"/>\n",
       "<circle clip-path=\"url(#clip4102)\" style=\"fill:#009af9; stroke:none; fill-opacity:1\" cx=\"663.679\" cy=\"1090.42\" r=\"14\"/>\n",
       "<circle clip-path=\"url(#clip4102)\" style=\"fill:#000000; stroke:none; fill-opacity:1\" cx=\"665.729\" cy=\"722.493\" r=\"18\"/>\n",
       "<circle clip-path=\"url(#clip4102)\" style=\"fill:#009af9; stroke:none; fill-opacity:1\" cx=\"665.729\" cy=\"722.493\" r=\"14\"/>\n",
       "<circle clip-path=\"url(#clip4102)\" style=\"fill:#000000; stroke:none; fill-opacity:1\" cx=\"667.779\" cy=\"1023.71\" r=\"18\"/>\n",
       "<circle clip-path=\"url(#clip4102)\" style=\"fill:#009af9; stroke:none; fill-opacity:1\" cx=\"667.779\" cy=\"1023.71\" r=\"14\"/>\n",
       "<circle clip-path=\"url(#clip4102)\" style=\"fill:#000000; stroke:none; fill-opacity:1\" cx=\"669.829\" cy=\"456.254\" r=\"18\"/>\n",
       "<circle clip-path=\"url(#clip4102)\" style=\"fill:#009af9; stroke:none; fill-opacity:1\" cx=\"669.829\" cy=\"456.254\" r=\"14\"/>\n",
       "<circle clip-path=\"url(#clip4102)\" style=\"fill:#000000; stroke:none; fill-opacity:1\" cx=\"671.879\" cy=\"929.53\" r=\"18\"/>\n",
       "<circle clip-path=\"url(#clip4102)\" style=\"fill:#009af9; stroke:none; fill-opacity:1\" cx=\"671.879\" cy=\"929.53\" r=\"14\"/>\n",
       "<circle clip-path=\"url(#clip4102)\" style=\"fill:#000000; stroke:none; fill-opacity:1\" cx=\"673.929\" cy=\"824.663\" r=\"18\"/>\n",
       "<circle clip-path=\"url(#clip4102)\" style=\"fill:#009af9; stroke:none; fill-opacity:1\" cx=\"673.929\" cy=\"824.663\" r=\"14\"/>\n",
       "<circle clip-path=\"url(#clip4102)\" style=\"fill:#000000; stroke:none; fill-opacity:1\" cx=\"675.979\" cy=\"467.041\" r=\"18\"/>\n",
       "<circle clip-path=\"url(#clip4102)\" style=\"fill:#009af9; stroke:none; fill-opacity:1\" cx=\"675.979\" cy=\"467.041\" r=\"14\"/>\n",
       "<circle clip-path=\"url(#clip4102)\" style=\"fill:#000000; stroke:none; fill-opacity:1\" cx=\"678.028\" cy=\"1058.32\" r=\"18\"/>\n",
       "<circle clip-path=\"url(#clip4102)\" style=\"fill:#009af9; stroke:none; fill-opacity:1\" cx=\"678.028\" cy=\"1058.32\" r=\"14\"/>\n",
       "<circle clip-path=\"url(#clip4102)\" style=\"fill:#000000; stroke:none; fill-opacity:1\" cx=\"680.078\" cy=\"218.071\" r=\"18\"/>\n",
       "<circle clip-path=\"url(#clip4102)\" style=\"fill:#009af9; stroke:none; fill-opacity:1\" cx=\"680.078\" cy=\"218.071\" r=\"14\"/>\n",
       "<circle clip-path=\"url(#clip4102)\" style=\"fill:#000000; stroke:none; fill-opacity:1\" cx=\"682.128\" cy=\"221.227\" r=\"18\"/>\n",
       "<circle clip-path=\"url(#clip4102)\" style=\"fill:#009af9; stroke:none; fill-opacity:1\" cx=\"682.128\" cy=\"221.227\" r=\"14\"/>\n",
       "<circle clip-path=\"url(#clip4102)\" style=\"fill:#000000; stroke:none; fill-opacity:1\" cx=\"684.178\" cy=\"250.704\" r=\"18\"/>\n",
       "<circle clip-path=\"url(#clip4102)\" style=\"fill:#009af9; stroke:none; fill-opacity:1\" cx=\"684.178\" cy=\"250.704\" r=\"14\"/>\n",
       "<circle clip-path=\"url(#clip4102)\" style=\"fill:#000000; stroke:none; fill-opacity:1\" cx=\"686.228\" cy=\"659.681\" r=\"18\"/>\n",
       "<circle clip-path=\"url(#clip4102)\" style=\"fill:#009af9; stroke:none; fill-opacity:1\" cx=\"686.228\" cy=\"659.681\" r=\"14\"/>\n",
       "<circle clip-path=\"url(#clip4102)\" style=\"fill:#000000; stroke:none; fill-opacity:1\" cx=\"688.278\" cy=\"92.2007\" r=\"18\"/>\n",
       "<circle clip-path=\"url(#clip4102)\" style=\"fill:#009af9; stroke:none; fill-opacity:1\" cx=\"688.278\" cy=\"92.2007\" r=\"14\"/>\n",
       "<circle clip-path=\"url(#clip4102)\" style=\"fill:#000000; stroke:none; fill-opacity:1\" cx=\"690.328\" cy=\"1256.9\" r=\"18\"/>\n",
       "<circle clip-path=\"url(#clip4102)\" style=\"fill:#009af9; stroke:none; fill-opacity:1\" cx=\"690.328\" cy=\"1256.9\" r=\"14\"/>\n",
       "<circle clip-path=\"url(#clip4102)\" style=\"fill:#000000; stroke:none; fill-opacity:1\" cx=\"692.378\" cy=\"1002.43\" r=\"18\"/>\n",
       "<circle clip-path=\"url(#clip4102)\" style=\"fill:#009af9; stroke:none; fill-opacity:1\" cx=\"692.378\" cy=\"1002.43\" r=\"14\"/>\n",
       "<circle clip-path=\"url(#clip4102)\" style=\"fill:#000000; stroke:none; fill-opacity:1\" cx=\"694.428\" cy=\"431.115\" r=\"18\"/>\n",
       "<circle clip-path=\"url(#clip4102)\" style=\"fill:#009af9; stroke:none; fill-opacity:1\" cx=\"694.428\" cy=\"431.115\" r=\"14\"/>\n",
       "<circle clip-path=\"url(#clip4102)\" style=\"fill:#000000; stroke:none; fill-opacity:1\" cx=\"696.478\" cy=\"940.767\" r=\"18\"/>\n",
       "<circle clip-path=\"url(#clip4102)\" style=\"fill:#009af9; stroke:none; fill-opacity:1\" cx=\"696.478\" cy=\"940.767\" r=\"14\"/>\n",
       "<circle clip-path=\"url(#clip4102)\" style=\"fill:#000000; stroke:none; fill-opacity:1\" cx=\"698.528\" cy=\"904.33\" r=\"18\"/>\n",
       "<circle clip-path=\"url(#clip4102)\" style=\"fill:#009af9; stroke:none; fill-opacity:1\" cx=\"698.528\" cy=\"904.33\" r=\"14\"/>\n",
       "<circle clip-path=\"url(#clip4102)\" style=\"fill:#000000; stroke:none; fill-opacity:1\" cx=\"700.578\" cy=\"1269.15\" r=\"18\"/>\n",
       "<circle clip-path=\"url(#clip4102)\" style=\"fill:#009af9; stroke:none; fill-opacity:1\" cx=\"700.578\" cy=\"1269.15\" r=\"14\"/>\n",
       "<circle clip-path=\"url(#clip4102)\" style=\"fill:#000000; stroke:none; fill-opacity:1\" cx=\"702.628\" cy=\"942.496\" r=\"18\"/>\n",
       "<circle clip-path=\"url(#clip4102)\" style=\"fill:#009af9; stroke:none; fill-opacity:1\" cx=\"702.628\" cy=\"942.496\" r=\"14\"/>\n",
       "<circle clip-path=\"url(#clip4102)\" style=\"fill:#000000; stroke:none; fill-opacity:1\" cx=\"704.678\" cy=\"206.491\" r=\"18\"/>\n",
       "<circle clip-path=\"url(#clip4102)\" style=\"fill:#009af9; stroke:none; fill-opacity:1\" cx=\"704.678\" cy=\"206.491\" r=\"14\"/>\n",
       "<circle clip-path=\"url(#clip4102)\" style=\"fill:#000000; stroke:none; fill-opacity:1\" cx=\"706.727\" cy=\"842.8\" r=\"18\"/>\n",
       "<circle clip-path=\"url(#clip4102)\" style=\"fill:#009af9; stroke:none; fill-opacity:1\" cx=\"706.727\" cy=\"842.8\" r=\"14\"/>\n",
       "<circle clip-path=\"url(#clip4102)\" style=\"fill:#000000; stroke:none; fill-opacity:1\" cx=\"708.777\" cy=\"518.765\" r=\"18\"/>\n",
       "<circle clip-path=\"url(#clip4102)\" style=\"fill:#009af9; stroke:none; fill-opacity:1\" cx=\"708.777\" cy=\"518.765\" r=\"14\"/>\n",
       "<circle clip-path=\"url(#clip4102)\" style=\"fill:#000000; stroke:none; fill-opacity:1\" cx=\"710.827\" cy=\"1116.72\" r=\"18\"/>\n",
       "<circle clip-path=\"url(#clip4102)\" style=\"fill:#009af9; stroke:none; fill-opacity:1\" cx=\"710.827\" cy=\"1116.72\" r=\"14\"/>\n",
       "<circle clip-path=\"url(#clip4102)\" style=\"fill:#000000; stroke:none; fill-opacity:1\" cx=\"712.877\" cy=\"1279.37\" r=\"18\"/>\n",
       "<circle clip-path=\"url(#clip4102)\" style=\"fill:#009af9; stroke:none; fill-opacity:1\" cx=\"712.877\" cy=\"1279.37\" r=\"14\"/>\n",
       "<circle clip-path=\"url(#clip4102)\" style=\"fill:#000000; stroke:none; fill-opacity:1\" cx=\"714.927\" cy=\"1191.56\" r=\"18\"/>\n",
       "<circle clip-path=\"url(#clip4102)\" style=\"fill:#009af9; stroke:none; fill-opacity:1\" cx=\"714.927\" cy=\"1191.56\" r=\"14\"/>\n",
       "<circle clip-path=\"url(#clip4102)\" style=\"fill:#000000; stroke:none; fill-opacity:1\" cx=\"716.977\" cy=\"1235.01\" r=\"18\"/>\n",
       "<circle clip-path=\"url(#clip4102)\" style=\"fill:#009af9; stroke:none; fill-opacity:1\" cx=\"716.977\" cy=\"1235.01\" r=\"14\"/>\n",
       "<circle clip-path=\"url(#clip4102)\" style=\"fill:#000000; stroke:none; fill-opacity:1\" cx=\"719.027\" cy=\"711.393\" r=\"18\"/>\n",
       "<circle clip-path=\"url(#clip4102)\" style=\"fill:#009af9; stroke:none; fill-opacity:1\" cx=\"719.027\" cy=\"711.393\" r=\"14\"/>\n",
       "<circle clip-path=\"url(#clip4102)\" style=\"fill:#000000; stroke:none; fill-opacity:1\" cx=\"721.077\" cy=\"840.985\" r=\"18\"/>\n",
       "<circle clip-path=\"url(#clip4102)\" style=\"fill:#009af9; stroke:none; fill-opacity:1\" cx=\"721.077\" cy=\"840.985\" r=\"14\"/>\n",
       "<circle clip-path=\"url(#clip4102)\" style=\"fill:#000000; stroke:none; fill-opacity:1\" cx=\"723.127\" cy=\"354.182\" r=\"18\"/>\n",
       "<circle clip-path=\"url(#clip4102)\" style=\"fill:#009af9; stroke:none; fill-opacity:1\" cx=\"723.127\" cy=\"354.182\" r=\"14\"/>\n",
       "<circle clip-path=\"url(#clip4102)\" style=\"fill:#000000; stroke:none; fill-opacity:1\" cx=\"725.177\" cy=\"577.475\" r=\"18\"/>\n",
       "<circle clip-path=\"url(#clip4102)\" style=\"fill:#009af9; stroke:none; fill-opacity:1\" cx=\"725.177\" cy=\"577.475\" r=\"14\"/>\n",
       "<circle clip-path=\"url(#clip4102)\" style=\"fill:#000000; stroke:none; fill-opacity:1\" cx=\"727.227\" cy=\"129.044\" r=\"18\"/>\n",
       "<circle clip-path=\"url(#clip4102)\" style=\"fill:#009af9; stroke:none; fill-opacity:1\" cx=\"727.227\" cy=\"129.044\" r=\"14\"/>\n",
       "<circle clip-path=\"url(#clip4102)\" style=\"fill:#000000; stroke:none; fill-opacity:1\" cx=\"729.277\" cy=\"447.312\" r=\"18\"/>\n",
       "<circle clip-path=\"url(#clip4102)\" style=\"fill:#009af9; stroke:none; fill-opacity:1\" cx=\"729.277\" cy=\"447.312\" r=\"14\"/>\n",
       "<circle clip-path=\"url(#clip4102)\" style=\"fill:#000000; stroke:none; fill-opacity:1\" cx=\"731.327\" cy=\"1303.38\" r=\"18\"/>\n",
       "<circle clip-path=\"url(#clip4102)\" style=\"fill:#009af9; stroke:none; fill-opacity:1\" cx=\"731.327\" cy=\"1303.38\" r=\"14\"/>\n",
       "<circle clip-path=\"url(#clip4102)\" style=\"fill:#000000; stroke:none; fill-opacity:1\" cx=\"733.376\" cy=\"1335.76\" r=\"18\"/>\n",
       "<circle clip-path=\"url(#clip4102)\" style=\"fill:#009af9; stroke:none; fill-opacity:1\" cx=\"733.376\" cy=\"1335.76\" r=\"14\"/>\n",
       "<circle clip-path=\"url(#clip4102)\" style=\"fill:#000000; stroke:none; fill-opacity:1\" cx=\"735.426\" cy=\"1077.36\" r=\"18\"/>\n",
       "<circle clip-path=\"url(#clip4102)\" style=\"fill:#009af9; stroke:none; fill-opacity:1\" cx=\"735.426\" cy=\"1077.36\" r=\"14\"/>\n",
       "<circle clip-path=\"url(#clip4102)\" style=\"fill:#000000; stroke:none; fill-opacity:1\" cx=\"737.476\" cy=\"406.588\" r=\"18\"/>\n",
       "<circle clip-path=\"url(#clip4102)\" style=\"fill:#009af9; stroke:none; fill-opacity:1\" cx=\"737.476\" cy=\"406.588\" r=\"14\"/>\n",
       "<circle clip-path=\"url(#clip4102)\" style=\"fill:#000000; stroke:none; fill-opacity:1\" cx=\"739.526\" cy=\"743.622\" r=\"18\"/>\n",
       "<circle clip-path=\"url(#clip4102)\" style=\"fill:#009af9; stroke:none; fill-opacity:1\" cx=\"739.526\" cy=\"743.622\" r=\"14\"/>\n",
       "<circle clip-path=\"url(#clip4102)\" style=\"fill:#000000; stroke:none; fill-opacity:1\" cx=\"741.576\" cy=\"838.938\" r=\"18\"/>\n",
       "<circle clip-path=\"url(#clip4102)\" style=\"fill:#009af9; stroke:none; fill-opacity:1\" cx=\"741.576\" cy=\"838.938\" r=\"14\"/>\n",
       "<circle clip-path=\"url(#clip4102)\" style=\"fill:#000000; stroke:none; fill-opacity:1\" cx=\"743.626\" cy=\"218.258\" r=\"18\"/>\n",
       "<circle clip-path=\"url(#clip4102)\" style=\"fill:#009af9; stroke:none; fill-opacity:1\" cx=\"743.626\" cy=\"218.258\" r=\"14\"/>\n",
       "<circle clip-path=\"url(#clip4102)\" style=\"fill:#000000; stroke:none; fill-opacity:1\" cx=\"745.676\" cy=\"1332.55\" r=\"18\"/>\n",
       "<circle clip-path=\"url(#clip4102)\" style=\"fill:#009af9; stroke:none; fill-opacity:1\" cx=\"745.676\" cy=\"1332.55\" r=\"14\"/>\n",
       "<circle clip-path=\"url(#clip4102)\" style=\"fill:#000000; stroke:none; fill-opacity:1\" cx=\"747.726\" cy=\"296.838\" r=\"18\"/>\n",
       "<circle clip-path=\"url(#clip4102)\" style=\"fill:#009af9; stroke:none; fill-opacity:1\" cx=\"747.726\" cy=\"296.838\" r=\"14\"/>\n",
       "<circle clip-path=\"url(#clip4102)\" style=\"fill:#000000; stroke:none; fill-opacity:1\" cx=\"749.776\" cy=\"136.581\" r=\"18\"/>\n",
       "<circle clip-path=\"url(#clip4102)\" style=\"fill:#009af9; stroke:none; fill-opacity:1\" cx=\"749.776\" cy=\"136.581\" r=\"14\"/>\n",
       "<circle clip-path=\"url(#clip4102)\" style=\"fill:#000000; stroke:none; fill-opacity:1\" cx=\"751.826\" cy=\"490.066\" r=\"18\"/>\n",
       "<circle clip-path=\"url(#clip4102)\" style=\"fill:#009af9; stroke:none; fill-opacity:1\" cx=\"751.826\" cy=\"490.066\" r=\"14\"/>\n",
       "<circle clip-path=\"url(#clip4102)\" style=\"fill:#000000; stroke:none; fill-opacity:1\" cx=\"753.876\" cy=\"1249.41\" r=\"18\"/>\n",
       "<circle clip-path=\"url(#clip4102)\" style=\"fill:#009af9; stroke:none; fill-opacity:1\" cx=\"753.876\" cy=\"1249.41\" r=\"14\"/>\n",
       "<circle clip-path=\"url(#clip4102)\" style=\"fill:#000000; stroke:none; fill-opacity:1\" cx=\"755.926\" cy=\"1138.31\" r=\"18\"/>\n",
       "<circle clip-path=\"url(#clip4102)\" style=\"fill:#009af9; stroke:none; fill-opacity:1\" cx=\"755.926\" cy=\"1138.31\" r=\"14\"/>\n",
       "<circle clip-path=\"url(#clip4102)\" style=\"fill:#000000; stroke:none; fill-opacity:1\" cx=\"757.976\" cy=\"731.114\" r=\"18\"/>\n",
       "<circle clip-path=\"url(#clip4102)\" style=\"fill:#009af9; stroke:none; fill-opacity:1\" cx=\"757.976\" cy=\"731.114\" r=\"14\"/>\n",
       "<circle clip-path=\"url(#clip4102)\" style=\"fill:#000000; stroke:none; fill-opacity:1\" cx=\"760.025\" cy=\"1055.58\" r=\"18\"/>\n",
       "<circle clip-path=\"url(#clip4102)\" style=\"fill:#009af9; stroke:none; fill-opacity:1\" cx=\"760.025\" cy=\"1055.58\" r=\"14\"/>\n",
       "<circle clip-path=\"url(#clip4102)\" style=\"fill:#000000; stroke:none; fill-opacity:1\" cx=\"762.075\" cy=\"1444.33\" r=\"18\"/>\n",
       "<circle clip-path=\"url(#clip4102)\" style=\"fill:#009af9; stroke:none; fill-opacity:1\" cx=\"762.075\" cy=\"1444.33\" r=\"14\"/>\n",
       "<circle clip-path=\"url(#clip4102)\" style=\"fill:#000000; stroke:none; fill-opacity:1\" cx=\"764.125\" cy=\"662.612\" r=\"18\"/>\n",
       "<circle clip-path=\"url(#clip4102)\" style=\"fill:#009af9; stroke:none; fill-opacity:1\" cx=\"764.125\" cy=\"662.612\" r=\"14\"/>\n",
       "<circle clip-path=\"url(#clip4102)\" style=\"fill:#000000; stroke:none; fill-opacity:1\" cx=\"766.175\" cy=\"1379.7\" r=\"18\"/>\n",
       "<circle clip-path=\"url(#clip4102)\" style=\"fill:#009af9; stroke:none; fill-opacity:1\" cx=\"766.175\" cy=\"1379.7\" r=\"14\"/>\n",
       "<circle clip-path=\"url(#clip4102)\" style=\"fill:#000000; stroke:none; fill-opacity:1\" cx=\"768.225\" cy=\"1102.5\" r=\"18\"/>\n",
       "<circle clip-path=\"url(#clip4102)\" style=\"fill:#009af9; stroke:none; fill-opacity:1\" cx=\"768.225\" cy=\"1102.5\" r=\"14\"/>\n",
       "<circle clip-path=\"url(#clip4102)\" style=\"fill:#000000; stroke:none; fill-opacity:1\" cx=\"770.275\" cy=\"454.547\" r=\"18\"/>\n",
       "<circle clip-path=\"url(#clip4102)\" style=\"fill:#009af9; stroke:none; fill-opacity:1\" cx=\"770.275\" cy=\"454.547\" r=\"14\"/>\n",
       "<circle clip-path=\"url(#clip4102)\" style=\"fill:#000000; stroke:none; fill-opacity:1\" cx=\"772.325\" cy=\"1144.22\" r=\"18\"/>\n",
       "<circle clip-path=\"url(#clip4102)\" style=\"fill:#009af9; stroke:none; fill-opacity:1\" cx=\"772.325\" cy=\"1144.22\" r=\"14\"/>\n",
       "<circle clip-path=\"url(#clip4102)\" style=\"fill:#000000; stroke:none; fill-opacity:1\" cx=\"774.375\" cy=\"1197.63\" r=\"18\"/>\n",
       "<circle clip-path=\"url(#clip4102)\" style=\"fill:#009af9; stroke:none; fill-opacity:1\" cx=\"774.375\" cy=\"1197.63\" r=\"14\"/>\n",
       "<circle clip-path=\"url(#clip4102)\" style=\"fill:#000000; stroke:none; fill-opacity:1\" cx=\"776.425\" cy=\"920.142\" r=\"18\"/>\n",
       "<circle clip-path=\"url(#clip4102)\" style=\"fill:#009af9; stroke:none; fill-opacity:1\" cx=\"776.425\" cy=\"920.142\" r=\"14\"/>\n",
       "<circle clip-path=\"url(#clip4102)\" style=\"fill:#000000; stroke:none; fill-opacity:1\" cx=\"778.475\" cy=\"1058.06\" r=\"18\"/>\n",
       "<circle clip-path=\"url(#clip4102)\" style=\"fill:#009af9; stroke:none; fill-opacity:1\" cx=\"778.475\" cy=\"1058.06\" r=\"14\"/>\n",
       "<circle clip-path=\"url(#clip4102)\" style=\"fill:#000000; stroke:none; fill-opacity:1\" cx=\"780.525\" cy=\"1235.04\" r=\"18\"/>\n",
       "<circle clip-path=\"url(#clip4102)\" style=\"fill:#009af9; stroke:none; fill-opacity:1\" cx=\"780.525\" cy=\"1235.04\" r=\"14\"/>\n",
       "<circle clip-path=\"url(#clip4102)\" style=\"fill:#000000; stroke:none; fill-opacity:1\" cx=\"782.575\" cy=\"120.823\" r=\"18\"/>\n",
       "<circle clip-path=\"url(#clip4102)\" style=\"fill:#009af9; stroke:none; fill-opacity:1\" cx=\"782.575\" cy=\"120.823\" r=\"14\"/>\n",
       "<circle clip-path=\"url(#clip4102)\" style=\"fill:#000000; stroke:none; fill-opacity:1\" cx=\"784.625\" cy=\"125.086\" r=\"18\"/>\n",
       "<circle clip-path=\"url(#clip4102)\" style=\"fill:#009af9; stroke:none; fill-opacity:1\" cx=\"784.625\" cy=\"125.086\" r=\"14\"/>\n",
       "<circle clip-path=\"url(#clip4102)\" style=\"fill:#000000; stroke:none; fill-opacity:1\" cx=\"786.675\" cy=\"973.278\" r=\"18\"/>\n",
       "<circle clip-path=\"url(#clip4102)\" style=\"fill:#009af9; stroke:none; fill-opacity:1\" cx=\"786.675\" cy=\"973.278\" r=\"14\"/>\n",
       "<circle clip-path=\"url(#clip4102)\" style=\"fill:#000000; stroke:none; fill-opacity:1\" cx=\"788.724\" cy=\"560.45\" r=\"18\"/>\n",
       "<circle clip-path=\"url(#clip4102)\" style=\"fill:#009af9; stroke:none; fill-opacity:1\" cx=\"788.724\" cy=\"560.45\" r=\"14\"/>\n",
       "<circle clip-path=\"url(#clip4102)\" style=\"fill:#000000; stroke:none; fill-opacity:1\" cx=\"790.774\" cy=\"199.721\" r=\"18\"/>\n",
       "<circle clip-path=\"url(#clip4102)\" style=\"fill:#009af9; stroke:none; fill-opacity:1\" cx=\"790.774\" cy=\"199.721\" r=\"14\"/>\n",
       "<circle clip-path=\"url(#clip4102)\" style=\"fill:#000000; stroke:none; fill-opacity:1\" cx=\"792.824\" cy=\"1216.14\" r=\"18\"/>\n",
       "<circle clip-path=\"url(#clip4102)\" style=\"fill:#009af9; stroke:none; fill-opacity:1\" cx=\"792.824\" cy=\"1216.14\" r=\"14\"/>\n",
       "<circle clip-path=\"url(#clip4102)\" style=\"fill:#000000; stroke:none; fill-opacity:1\" cx=\"794.874\" cy=\"193.214\" r=\"18\"/>\n",
       "<circle clip-path=\"url(#clip4102)\" style=\"fill:#009af9; stroke:none; fill-opacity:1\" cx=\"794.874\" cy=\"193.214\" r=\"14\"/>\n",
       "<circle clip-path=\"url(#clip4102)\" style=\"fill:#000000; stroke:none; fill-opacity:1\" cx=\"796.924\" cy=\"711.164\" r=\"18\"/>\n",
       "<circle clip-path=\"url(#clip4102)\" style=\"fill:#009af9; stroke:none; fill-opacity:1\" cx=\"796.924\" cy=\"711.164\" r=\"14\"/>\n",
       "<circle clip-path=\"url(#clip4102)\" style=\"fill:#000000; stroke:none; fill-opacity:1\" cx=\"798.974\" cy=\"1151.81\" r=\"18\"/>\n",
       "<circle clip-path=\"url(#clip4102)\" style=\"fill:#009af9; stroke:none; fill-opacity:1\" cx=\"798.974\" cy=\"1151.81\" r=\"14\"/>\n",
       "<circle clip-path=\"url(#clip4102)\" style=\"fill:#000000; stroke:none; fill-opacity:1\" cx=\"801.024\" cy=\"764.365\" r=\"18\"/>\n",
       "<circle clip-path=\"url(#clip4102)\" style=\"fill:#009af9; stroke:none; fill-opacity:1\" cx=\"801.024\" cy=\"764.365\" r=\"14\"/>\n",
       "<circle clip-path=\"url(#clip4102)\" style=\"fill:#000000; stroke:none; fill-opacity:1\" cx=\"803.074\" cy=\"1241.85\" r=\"18\"/>\n",
       "<circle clip-path=\"url(#clip4102)\" style=\"fill:#009af9; stroke:none; fill-opacity:1\" cx=\"803.074\" cy=\"1241.85\" r=\"14\"/>\n",
       "<circle clip-path=\"url(#clip4102)\" style=\"fill:#000000; stroke:none; fill-opacity:1\" cx=\"805.124\" cy=\"691.225\" r=\"18\"/>\n",
       "<circle clip-path=\"url(#clip4102)\" style=\"fill:#009af9; stroke:none; fill-opacity:1\" cx=\"805.124\" cy=\"691.225\" r=\"14\"/>\n",
       "<circle clip-path=\"url(#clip4102)\" style=\"fill:#000000; stroke:none; fill-opacity:1\" cx=\"807.174\" cy=\"120.572\" r=\"18\"/>\n",
       "<circle clip-path=\"url(#clip4102)\" style=\"fill:#009af9; stroke:none; fill-opacity:1\" cx=\"807.174\" cy=\"120.572\" r=\"14\"/>\n",
       "<circle clip-path=\"url(#clip4102)\" style=\"fill:#000000; stroke:none; fill-opacity:1\" cx=\"809.224\" cy=\"1294.5\" r=\"18\"/>\n",
       "<circle clip-path=\"url(#clip4102)\" style=\"fill:#009af9; stroke:none; fill-opacity:1\" cx=\"809.224\" cy=\"1294.5\" r=\"14\"/>\n",
       "<circle clip-path=\"url(#clip4102)\" style=\"fill:#000000; stroke:none; fill-opacity:1\" cx=\"811.274\" cy=\"294.122\" r=\"18\"/>\n",
       "<circle clip-path=\"url(#clip4102)\" style=\"fill:#009af9; stroke:none; fill-opacity:1\" cx=\"811.274\" cy=\"294.122\" r=\"14\"/>\n",
       "<circle clip-path=\"url(#clip4102)\" style=\"fill:#000000; stroke:none; fill-opacity:1\" cx=\"813.324\" cy=\"1293.09\" r=\"18\"/>\n",
       "<circle clip-path=\"url(#clip4102)\" style=\"fill:#009af9; stroke:none; fill-opacity:1\" cx=\"813.324\" cy=\"1293.09\" r=\"14\"/>\n",
       "<circle clip-path=\"url(#clip4102)\" style=\"fill:#000000; stroke:none; fill-opacity:1\" cx=\"815.373\" cy=\"1128.44\" r=\"18\"/>\n",
       "<circle clip-path=\"url(#clip4102)\" style=\"fill:#009af9; stroke:none; fill-opacity:1\" cx=\"815.373\" cy=\"1128.44\" r=\"14\"/>\n",
       "<circle clip-path=\"url(#clip4102)\" style=\"fill:#000000; stroke:none; fill-opacity:1\" cx=\"817.423\" cy=\"432.467\" r=\"18\"/>\n",
       "<circle clip-path=\"url(#clip4102)\" style=\"fill:#009af9; stroke:none; fill-opacity:1\" cx=\"817.423\" cy=\"432.467\" r=\"14\"/>\n",
       "<circle clip-path=\"url(#clip4102)\" style=\"fill:#000000; stroke:none; fill-opacity:1\" cx=\"819.473\" cy=\"1379.76\" r=\"18\"/>\n",
       "<circle clip-path=\"url(#clip4102)\" style=\"fill:#009af9; stroke:none; fill-opacity:1\" cx=\"819.473\" cy=\"1379.76\" r=\"14\"/>\n",
       "<circle clip-path=\"url(#clip4102)\" style=\"fill:#000000; stroke:none; fill-opacity:1\" cx=\"821.523\" cy=\"499.009\" r=\"18\"/>\n",
       "<circle clip-path=\"url(#clip4102)\" style=\"fill:#009af9; stroke:none; fill-opacity:1\" cx=\"821.523\" cy=\"499.009\" r=\"14\"/>\n",
       "<circle clip-path=\"url(#clip4102)\" style=\"fill:#000000; stroke:none; fill-opacity:1\" cx=\"823.573\" cy=\"132.425\" r=\"18\"/>\n",
       "<circle clip-path=\"url(#clip4102)\" style=\"fill:#009af9; stroke:none; fill-opacity:1\" cx=\"823.573\" cy=\"132.425\" r=\"14\"/>\n",
       "<circle clip-path=\"url(#clip4102)\" style=\"fill:#000000; stroke:none; fill-opacity:1\" cx=\"825.623\" cy=\"1364.95\" r=\"18\"/>\n",
       "<circle clip-path=\"url(#clip4102)\" style=\"fill:#009af9; stroke:none; fill-opacity:1\" cx=\"825.623\" cy=\"1364.95\" r=\"14\"/>\n",
       "<circle clip-path=\"url(#clip4102)\" style=\"fill:#000000; stroke:none; fill-opacity:1\" cx=\"827.673\" cy=\"1090.21\" r=\"18\"/>\n",
       "<circle clip-path=\"url(#clip4102)\" style=\"fill:#009af9; stroke:none; fill-opacity:1\" cx=\"827.673\" cy=\"1090.21\" r=\"14\"/>\n",
       "<circle clip-path=\"url(#clip4102)\" style=\"fill:#000000; stroke:none; fill-opacity:1\" cx=\"829.723\" cy=\"300.554\" r=\"18\"/>\n",
       "<circle clip-path=\"url(#clip4102)\" style=\"fill:#009af9; stroke:none; fill-opacity:1\" cx=\"829.723\" cy=\"300.554\" r=\"14\"/>\n",
       "<circle clip-path=\"url(#clip4102)\" style=\"fill:#000000; stroke:none; fill-opacity:1\" cx=\"831.773\" cy=\"1317.28\" r=\"18\"/>\n",
       "<circle clip-path=\"url(#clip4102)\" style=\"fill:#009af9; stroke:none; fill-opacity:1\" cx=\"831.773\" cy=\"1317.28\" r=\"14\"/>\n",
       "<circle clip-path=\"url(#clip4102)\" style=\"fill:#000000; stroke:none; fill-opacity:1\" cx=\"833.823\" cy=\"1209.55\" r=\"18\"/>\n",
       "<circle clip-path=\"url(#clip4102)\" style=\"fill:#009af9; stroke:none; fill-opacity:1\" cx=\"833.823\" cy=\"1209.55\" r=\"14\"/>\n",
       "<circle clip-path=\"url(#clip4102)\" style=\"fill:#000000; stroke:none; fill-opacity:1\" cx=\"835.873\" cy=\"536.291\" r=\"18\"/>\n",
       "<circle clip-path=\"url(#clip4102)\" style=\"fill:#009af9; stroke:none; fill-opacity:1\" cx=\"835.873\" cy=\"536.291\" r=\"14\"/>\n",
       "<circle clip-path=\"url(#clip4102)\" style=\"fill:#000000; stroke:none; fill-opacity:1\" cx=\"837.923\" cy=\"1097.48\" r=\"18\"/>\n",
       "<circle clip-path=\"url(#clip4102)\" style=\"fill:#009af9; stroke:none; fill-opacity:1\" cx=\"837.923\" cy=\"1097.48\" r=\"14\"/>\n",
       "<circle clip-path=\"url(#clip4102)\" style=\"fill:#000000; stroke:none; fill-opacity:1\" cx=\"839.973\" cy=\"147.126\" r=\"18\"/>\n",
       "<circle clip-path=\"url(#clip4102)\" style=\"fill:#009af9; stroke:none; fill-opacity:1\" cx=\"839.973\" cy=\"147.126\" r=\"14\"/>\n",
       "<circle clip-path=\"url(#clip4102)\" style=\"fill:#000000; stroke:none; fill-opacity:1\" cx=\"842.022\" cy=\"301.165\" r=\"18\"/>\n",
       "<circle clip-path=\"url(#clip4102)\" style=\"fill:#009af9; stroke:none; fill-opacity:1\" cx=\"842.022\" cy=\"301.165\" r=\"14\"/>\n",
       "<circle clip-path=\"url(#clip4102)\" style=\"fill:#000000; stroke:none; fill-opacity:1\" cx=\"844.072\" cy=\"829.033\" r=\"18\"/>\n",
       "<circle clip-path=\"url(#clip4102)\" style=\"fill:#009af9; stroke:none; fill-opacity:1\" cx=\"844.072\" cy=\"829.033\" r=\"14\"/>\n",
       "<circle clip-path=\"url(#clip4102)\" style=\"fill:#000000; stroke:none; fill-opacity:1\" cx=\"846.122\" cy=\"1210.55\" r=\"18\"/>\n",
       "<circle clip-path=\"url(#clip4102)\" style=\"fill:#009af9; stroke:none; fill-opacity:1\" cx=\"846.122\" cy=\"1210.55\" r=\"14\"/>\n",
       "<circle clip-path=\"url(#clip4102)\" style=\"fill:#000000; stroke:none; fill-opacity:1\" cx=\"848.172\" cy=\"259.134\" r=\"18\"/>\n",
       "<circle clip-path=\"url(#clip4102)\" style=\"fill:#009af9; stroke:none; fill-opacity:1\" cx=\"848.172\" cy=\"259.134\" r=\"14\"/>\n",
       "<circle clip-path=\"url(#clip4102)\" style=\"fill:#000000; stroke:none; fill-opacity:1\" cx=\"850.222\" cy=\"145.471\" r=\"18\"/>\n",
       "<circle clip-path=\"url(#clip4102)\" style=\"fill:#009af9; stroke:none; fill-opacity:1\" cx=\"850.222\" cy=\"145.471\" r=\"14\"/>\n",
       "<circle clip-path=\"url(#clip4102)\" style=\"fill:#000000; stroke:none; fill-opacity:1\" cx=\"852.272\" cy=\"1145.56\" r=\"18\"/>\n",
       "<circle clip-path=\"url(#clip4102)\" style=\"fill:#009af9; stroke:none; fill-opacity:1\" cx=\"852.272\" cy=\"1145.56\" r=\"14\"/>\n",
       "<circle clip-path=\"url(#clip4102)\" style=\"fill:#000000; stroke:none; fill-opacity:1\" cx=\"854.322\" cy=\"1293.77\" r=\"18\"/>\n",
       "<circle clip-path=\"url(#clip4102)\" style=\"fill:#009af9; stroke:none; fill-opacity:1\" cx=\"854.322\" cy=\"1293.77\" r=\"14\"/>\n",
       "<circle clip-path=\"url(#clip4102)\" style=\"fill:#000000; stroke:none; fill-opacity:1\" cx=\"856.372\" cy=\"398.723\" r=\"18\"/>\n",
       "<circle clip-path=\"url(#clip4102)\" style=\"fill:#009af9; stroke:none; fill-opacity:1\" cx=\"856.372\" cy=\"398.723\" r=\"14\"/>\n",
       "<circle clip-path=\"url(#clip4102)\" style=\"fill:#000000; stroke:none; fill-opacity:1\" cx=\"858.422\" cy=\"1403.61\" r=\"18\"/>\n",
       "<circle clip-path=\"url(#clip4102)\" style=\"fill:#009af9; stroke:none; fill-opacity:1\" cx=\"858.422\" cy=\"1403.61\" r=\"14\"/>\n",
       "<circle clip-path=\"url(#clip4102)\" style=\"fill:#000000; stroke:none; fill-opacity:1\" cx=\"860.472\" cy=\"132.989\" r=\"18\"/>\n",
       "<circle clip-path=\"url(#clip4102)\" style=\"fill:#009af9; stroke:none; fill-opacity:1\" cx=\"860.472\" cy=\"132.989\" r=\"14\"/>\n",
       "<circle clip-path=\"url(#clip4102)\" style=\"fill:#000000; stroke:none; fill-opacity:1\" cx=\"862.522\" cy=\"237.449\" r=\"18\"/>\n",
       "<circle clip-path=\"url(#clip4102)\" style=\"fill:#009af9; stroke:none; fill-opacity:1\" cx=\"862.522\" cy=\"237.449\" r=\"14\"/>\n",
       "<circle clip-path=\"url(#clip4102)\" style=\"fill:#000000; stroke:none; fill-opacity:1\" cx=\"864.572\" cy=\"262.859\" r=\"18\"/>\n",
       "<circle clip-path=\"url(#clip4102)\" style=\"fill:#009af9; stroke:none; fill-opacity:1\" cx=\"864.572\" cy=\"262.859\" r=\"14\"/>\n",
       "<circle clip-path=\"url(#clip4102)\" style=\"fill:#000000; stroke:none; fill-opacity:1\" cx=\"866.622\" cy=\"558.758\" r=\"18\"/>\n",
       "<circle clip-path=\"url(#clip4102)\" style=\"fill:#009af9; stroke:none; fill-opacity:1\" cx=\"866.622\" cy=\"558.758\" r=\"14\"/>\n",
       "<circle clip-path=\"url(#clip4102)\" style=\"fill:#000000; stroke:none; fill-opacity:1\" cx=\"868.672\" cy=\"738.257\" r=\"18\"/>\n",
       "<circle clip-path=\"url(#clip4102)\" style=\"fill:#009af9; stroke:none; fill-opacity:1\" cx=\"868.672\" cy=\"738.257\" r=\"14\"/>\n",
       "<circle clip-path=\"url(#clip4102)\" style=\"fill:#000000; stroke:none; fill-opacity:1\" cx=\"870.721\" cy=\"1229.87\" r=\"18\"/>\n",
       "<circle clip-path=\"url(#clip4102)\" style=\"fill:#009af9; stroke:none; fill-opacity:1\" cx=\"870.721\" cy=\"1229.87\" r=\"14\"/>\n",
       "<circle clip-path=\"url(#clip4102)\" style=\"fill:#000000; stroke:none; fill-opacity:1\" cx=\"872.771\" cy=\"697.24\" r=\"18\"/>\n",
       "<circle clip-path=\"url(#clip4102)\" style=\"fill:#009af9; stroke:none; fill-opacity:1\" cx=\"872.771\" cy=\"697.24\" r=\"14\"/>\n",
       "<circle clip-path=\"url(#clip4102)\" style=\"fill:#000000; stroke:none; fill-opacity:1\" cx=\"874.821\" cy=\"1094.5\" r=\"18\"/>\n",
       "<circle clip-path=\"url(#clip4102)\" style=\"fill:#009af9; stroke:none; fill-opacity:1\" cx=\"874.821\" cy=\"1094.5\" r=\"14\"/>\n",
       "<circle clip-path=\"url(#clip4102)\" style=\"fill:#000000; stroke:none; fill-opacity:1\" cx=\"876.871\" cy=\"1072.29\" r=\"18\"/>\n",
       "<circle clip-path=\"url(#clip4102)\" style=\"fill:#009af9; stroke:none; fill-opacity:1\" cx=\"876.871\" cy=\"1072.29\" r=\"14\"/>\n",
       "<circle clip-path=\"url(#clip4102)\" style=\"fill:#000000; stroke:none; fill-opacity:1\" cx=\"878.921\" cy=\"494.941\" r=\"18\"/>\n",
       "<circle clip-path=\"url(#clip4102)\" style=\"fill:#009af9; stroke:none; fill-opacity:1\" cx=\"878.921\" cy=\"494.941\" r=\"14\"/>\n",
       "<circle clip-path=\"url(#clip4102)\" style=\"fill:#000000; stroke:none; fill-opacity:1\" cx=\"880.971\" cy=\"716.302\" r=\"18\"/>\n",
       "<circle clip-path=\"url(#clip4102)\" style=\"fill:#009af9; stroke:none; fill-opacity:1\" cx=\"880.971\" cy=\"716.302\" r=\"14\"/>\n",
       "<circle clip-path=\"url(#clip4102)\" style=\"fill:#000000; stroke:none; fill-opacity:1\" cx=\"883.021\" cy=\"256.39\" r=\"18\"/>\n",
       "<circle clip-path=\"url(#clip4102)\" style=\"fill:#009af9; stroke:none; fill-opacity:1\" cx=\"883.021\" cy=\"256.39\" r=\"14\"/>\n",
       "<circle clip-path=\"url(#clip4102)\" style=\"fill:#000000; stroke:none; fill-opacity:1\" cx=\"885.071\" cy=\"1413.63\" r=\"18\"/>\n",
       "<circle clip-path=\"url(#clip4102)\" style=\"fill:#009af9; stroke:none; fill-opacity:1\" cx=\"885.071\" cy=\"1413.63\" r=\"14\"/>\n",
       "<circle clip-path=\"url(#clip4102)\" style=\"fill:#000000; stroke:none; fill-opacity:1\" cx=\"887.121\" cy=\"1158.58\" r=\"18\"/>\n",
       "<circle clip-path=\"url(#clip4102)\" style=\"fill:#009af9; stroke:none; fill-opacity:1\" cx=\"887.121\" cy=\"1158.58\" r=\"14\"/>\n",
       "<circle clip-path=\"url(#clip4102)\" style=\"fill:#000000; stroke:none; fill-opacity:1\" cx=\"889.171\" cy=\"156.695\" r=\"18\"/>\n",
       "<circle clip-path=\"url(#clip4102)\" style=\"fill:#009af9; stroke:none; fill-opacity:1\" cx=\"889.171\" cy=\"156.695\" r=\"14\"/>\n",
       "<circle clip-path=\"url(#clip4102)\" style=\"fill:#000000; stroke:none; fill-opacity:1\" cx=\"891.221\" cy=\"215.793\" r=\"18\"/>\n",
       "<circle clip-path=\"url(#clip4102)\" style=\"fill:#009af9; stroke:none; fill-opacity:1\" cx=\"891.221\" cy=\"215.793\" r=\"14\"/>\n",
       "<circle clip-path=\"url(#clip4102)\" style=\"fill:#000000; stroke:none; fill-opacity:1\" cx=\"893.271\" cy=\"466.625\" r=\"18\"/>\n",
       "<circle clip-path=\"url(#clip4102)\" style=\"fill:#009af9; stroke:none; fill-opacity:1\" cx=\"893.271\" cy=\"466.625\" r=\"14\"/>\n",
       "<circle clip-path=\"url(#clip4102)\" style=\"fill:#000000; stroke:none; fill-opacity:1\" cx=\"895.321\" cy=\"811.074\" r=\"18\"/>\n",
       "<circle clip-path=\"url(#clip4102)\" style=\"fill:#009af9; stroke:none; fill-opacity:1\" cx=\"895.321\" cy=\"811.074\" r=\"14\"/>\n",
       "<circle clip-path=\"url(#clip4102)\" style=\"fill:#000000; stroke:none; fill-opacity:1\" cx=\"897.37\" cy=\"294.604\" r=\"18\"/>\n",
       "<circle clip-path=\"url(#clip4102)\" style=\"fill:#009af9; stroke:none; fill-opacity:1\" cx=\"897.37\" cy=\"294.604\" r=\"14\"/>\n",
       "<circle clip-path=\"url(#clip4102)\" style=\"fill:#000000; stroke:none; fill-opacity:1\" cx=\"899.42\" cy=\"496.212\" r=\"18\"/>\n",
       "<circle clip-path=\"url(#clip4102)\" style=\"fill:#009af9; stroke:none; fill-opacity:1\" cx=\"899.42\" cy=\"496.212\" r=\"14\"/>\n",
       "<circle clip-path=\"url(#clip4102)\" style=\"fill:#000000; stroke:none; fill-opacity:1\" cx=\"901.47\" cy=\"905.63\" r=\"18\"/>\n",
       "<circle clip-path=\"url(#clip4102)\" style=\"fill:#009af9; stroke:none; fill-opacity:1\" cx=\"901.47\" cy=\"905.63\" r=\"14\"/>\n",
       "<circle clip-path=\"url(#clip4102)\" style=\"fill:#000000; stroke:none; fill-opacity:1\" cx=\"903.52\" cy=\"848.25\" r=\"18\"/>\n",
       "<circle clip-path=\"url(#clip4102)\" style=\"fill:#009af9; stroke:none; fill-opacity:1\" cx=\"903.52\" cy=\"848.25\" r=\"14\"/>\n",
       "<circle clip-path=\"url(#clip4102)\" style=\"fill:#000000; stroke:none; fill-opacity:1\" cx=\"905.57\" cy=\"637.187\" r=\"18\"/>\n",
       "<circle clip-path=\"url(#clip4102)\" style=\"fill:#009af9; stroke:none; fill-opacity:1\" cx=\"905.57\" cy=\"637.187\" r=\"14\"/>\n",
       "<circle clip-path=\"url(#clip4102)\" style=\"fill:#000000; stroke:none; fill-opacity:1\" cx=\"907.62\" cy=\"1406.97\" r=\"18\"/>\n",
       "<circle clip-path=\"url(#clip4102)\" style=\"fill:#009af9; stroke:none; fill-opacity:1\" cx=\"907.62\" cy=\"1406.97\" r=\"14\"/>\n",
       "<circle clip-path=\"url(#clip4102)\" style=\"fill:#000000; stroke:none; fill-opacity:1\" cx=\"909.67\" cy=\"642.257\" r=\"18\"/>\n",
       "<circle clip-path=\"url(#clip4102)\" style=\"fill:#009af9; stroke:none; fill-opacity:1\" cx=\"909.67\" cy=\"642.257\" r=\"14\"/>\n",
       "<circle clip-path=\"url(#clip4102)\" style=\"fill:#000000; stroke:none; fill-opacity:1\" cx=\"911.72\" cy=\"1393.45\" r=\"18\"/>\n",
       "<circle clip-path=\"url(#clip4102)\" style=\"fill:#009af9; stroke:none; fill-opacity:1\" cx=\"911.72\" cy=\"1393.45\" r=\"14\"/>\n",
       "<circle clip-path=\"url(#clip4102)\" style=\"fill:#000000; stroke:none; fill-opacity:1\" cx=\"913.77\" cy=\"618.857\" r=\"18\"/>\n",
       "<circle clip-path=\"url(#clip4102)\" style=\"fill:#009af9; stroke:none; fill-opacity:1\" cx=\"913.77\" cy=\"618.857\" r=\"14\"/>\n",
       "<circle clip-path=\"url(#clip4102)\" style=\"fill:#000000; stroke:none; fill-opacity:1\" cx=\"915.82\" cy=\"789.749\" r=\"18\"/>\n",
       "<circle clip-path=\"url(#clip4102)\" style=\"fill:#009af9; stroke:none; fill-opacity:1\" cx=\"915.82\" cy=\"789.749\" r=\"14\"/>\n",
       "<circle clip-path=\"url(#clip4102)\" style=\"fill:#000000; stroke:none; fill-opacity:1\" cx=\"917.87\" cy=\"633.245\" r=\"18\"/>\n",
       "<circle clip-path=\"url(#clip4102)\" style=\"fill:#009af9; stroke:none; fill-opacity:1\" cx=\"917.87\" cy=\"633.245\" r=\"14\"/>\n",
       "<circle clip-path=\"url(#clip4102)\" style=\"fill:#000000; stroke:none; fill-opacity:1\" cx=\"919.92\" cy=\"879.805\" r=\"18\"/>\n",
       "<circle clip-path=\"url(#clip4102)\" style=\"fill:#009af9; stroke:none; fill-opacity:1\" cx=\"919.92\" cy=\"879.805\" r=\"14\"/>\n",
       "<circle clip-path=\"url(#clip4102)\" style=\"fill:#000000; stroke:none; fill-opacity:1\" cx=\"921.97\" cy=\"505.161\" r=\"18\"/>\n",
       "<circle clip-path=\"url(#clip4102)\" style=\"fill:#009af9; stroke:none; fill-opacity:1\" cx=\"921.97\" cy=\"505.161\" r=\"14\"/>\n",
       "<circle clip-path=\"url(#clip4102)\" style=\"fill:#000000; stroke:none; fill-opacity:1\" cx=\"924.02\" cy=\"707.882\" r=\"18\"/>\n",
       "<circle clip-path=\"url(#clip4102)\" style=\"fill:#009af9; stroke:none; fill-opacity:1\" cx=\"924.02\" cy=\"707.882\" r=\"14\"/>\n",
       "<circle clip-path=\"url(#clip4102)\" style=\"fill:#000000; stroke:none; fill-opacity:1\" cx=\"926.069\" cy=\"715.354\" r=\"18\"/>\n",
       "<circle clip-path=\"url(#clip4102)\" style=\"fill:#009af9; stroke:none; fill-opacity:1\" cx=\"926.069\" cy=\"715.354\" r=\"14\"/>\n",
       "<circle clip-path=\"url(#clip4102)\" style=\"fill:#000000; stroke:none; fill-opacity:1\" cx=\"928.119\" cy=\"887.249\" r=\"18\"/>\n",
       "<circle clip-path=\"url(#clip4102)\" style=\"fill:#009af9; stroke:none; fill-opacity:1\" cx=\"928.119\" cy=\"887.249\" r=\"14\"/>\n",
       "<circle clip-path=\"url(#clip4102)\" style=\"fill:#000000; stroke:none; fill-opacity:1\" cx=\"930.169\" cy=\"122.545\" r=\"18\"/>\n",
       "<circle clip-path=\"url(#clip4102)\" style=\"fill:#009af9; stroke:none; fill-opacity:1\" cx=\"930.169\" cy=\"122.545\" r=\"14\"/>\n",
       "<circle clip-path=\"url(#clip4102)\" style=\"fill:#000000; stroke:none; fill-opacity:1\" cx=\"932.219\" cy=\"179.287\" r=\"18\"/>\n",
       "<circle clip-path=\"url(#clip4102)\" style=\"fill:#009af9; stroke:none; fill-opacity:1\" cx=\"932.219\" cy=\"179.287\" r=\"14\"/>\n",
       "<circle clip-path=\"url(#clip4102)\" style=\"fill:#000000; stroke:none; fill-opacity:1\" cx=\"934.269\" cy=\"1200.58\" r=\"18\"/>\n",
       "<circle clip-path=\"url(#clip4102)\" style=\"fill:#009af9; stroke:none; fill-opacity:1\" cx=\"934.269\" cy=\"1200.58\" r=\"14\"/>\n",
       "<circle clip-path=\"url(#clip4102)\" style=\"fill:#000000; stroke:none; fill-opacity:1\" cx=\"936.319\" cy=\"871.417\" r=\"18\"/>\n",
       "<circle clip-path=\"url(#clip4102)\" style=\"fill:#009af9; stroke:none; fill-opacity:1\" cx=\"936.319\" cy=\"871.417\" r=\"14\"/>\n",
       "<circle clip-path=\"url(#clip4102)\" style=\"fill:#000000; stroke:none; fill-opacity:1\" cx=\"938.369\" cy=\"388.006\" r=\"18\"/>\n",
       "<circle clip-path=\"url(#clip4102)\" style=\"fill:#009af9; stroke:none; fill-opacity:1\" cx=\"938.369\" cy=\"388.006\" r=\"14\"/>\n",
       "<circle clip-path=\"url(#clip4102)\" style=\"fill:#000000; stroke:none; fill-opacity:1\" cx=\"940.419\" cy=\"566.486\" r=\"18\"/>\n",
       "<circle clip-path=\"url(#clip4102)\" style=\"fill:#009af9; stroke:none; fill-opacity:1\" cx=\"940.419\" cy=\"566.486\" r=\"14\"/>\n",
       "<circle clip-path=\"url(#clip4102)\" style=\"fill:#000000; stroke:none; fill-opacity:1\" cx=\"942.469\" cy=\"1446.71\" r=\"18\"/>\n",
       "<circle clip-path=\"url(#clip4102)\" style=\"fill:#009af9; stroke:none; fill-opacity:1\" cx=\"942.469\" cy=\"1446.71\" r=\"14\"/>\n",
       "<circle clip-path=\"url(#clip4102)\" style=\"fill:#000000; stroke:none; fill-opacity:1\" cx=\"944.519\" cy=\"120.367\" r=\"18\"/>\n",
       "<circle clip-path=\"url(#clip4102)\" style=\"fill:#009af9; stroke:none; fill-opacity:1\" cx=\"944.519\" cy=\"120.367\" r=\"14\"/>\n",
       "<circle clip-path=\"url(#clip4102)\" style=\"fill:#000000; stroke:none; fill-opacity:1\" cx=\"946.569\" cy=\"541.425\" r=\"18\"/>\n",
       "<circle clip-path=\"url(#clip4102)\" style=\"fill:#009af9; stroke:none; fill-opacity:1\" cx=\"946.569\" cy=\"541.425\" r=\"14\"/>\n",
       "<circle clip-path=\"url(#clip4102)\" style=\"fill:#000000; stroke:none; fill-opacity:1\" cx=\"948.619\" cy=\"389.756\" r=\"18\"/>\n",
       "<circle clip-path=\"url(#clip4102)\" style=\"fill:#009af9; stroke:none; fill-opacity:1\" cx=\"948.619\" cy=\"389.756\" r=\"14\"/>\n",
       "<circle clip-path=\"url(#clip4102)\" style=\"fill:#000000; stroke:none; fill-opacity:1\" cx=\"950.669\" cy=\"582.263\" r=\"18\"/>\n",
       "<circle clip-path=\"url(#clip4102)\" style=\"fill:#009af9; stroke:none; fill-opacity:1\" cx=\"950.669\" cy=\"582.263\" r=\"14\"/>\n",
       "<circle clip-path=\"url(#clip4102)\" style=\"fill:#000000; stroke:none; fill-opacity:1\" cx=\"952.718\" cy=\"807.152\" r=\"18\"/>\n",
       "<circle clip-path=\"url(#clip4102)\" style=\"fill:#009af9; stroke:none; fill-opacity:1\" cx=\"952.718\" cy=\"807.152\" r=\"14\"/>\n",
       "<circle clip-path=\"url(#clip4102)\" style=\"fill:#000000; stroke:none; fill-opacity:1\" cx=\"954.768\" cy=\"947.516\" r=\"18\"/>\n",
       "<circle clip-path=\"url(#clip4102)\" style=\"fill:#009af9; stroke:none; fill-opacity:1\" cx=\"954.768\" cy=\"947.516\" r=\"14\"/>\n",
       "<circle clip-path=\"url(#clip4102)\" style=\"fill:#000000; stroke:none; fill-opacity:1\" cx=\"956.818\" cy=\"867.414\" r=\"18\"/>\n",
       "<circle clip-path=\"url(#clip4102)\" style=\"fill:#009af9; stroke:none; fill-opacity:1\" cx=\"956.818\" cy=\"867.414\" r=\"14\"/>\n",
       "<circle clip-path=\"url(#clip4102)\" style=\"fill:#000000; stroke:none; fill-opacity:1\" cx=\"958.868\" cy=\"855.367\" r=\"18\"/>\n",
       "<circle clip-path=\"url(#clip4102)\" style=\"fill:#009af9; stroke:none; fill-opacity:1\" cx=\"958.868\" cy=\"855.367\" r=\"14\"/>\n",
       "<circle clip-path=\"url(#clip4102)\" style=\"fill:#000000; stroke:none; fill-opacity:1\" cx=\"960.918\" cy=\"143.809\" r=\"18\"/>\n",
       "<circle clip-path=\"url(#clip4102)\" style=\"fill:#009af9; stroke:none; fill-opacity:1\" cx=\"960.918\" cy=\"143.809\" r=\"14\"/>\n",
       "<circle clip-path=\"url(#clip4102)\" style=\"fill:#000000; stroke:none; fill-opacity:1\" cx=\"962.968\" cy=\"712.652\" r=\"18\"/>\n",
       "<circle clip-path=\"url(#clip4102)\" style=\"fill:#009af9; stroke:none; fill-opacity:1\" cx=\"962.968\" cy=\"712.652\" r=\"14\"/>\n",
       "<circle clip-path=\"url(#clip4102)\" style=\"fill:#000000; stroke:none; fill-opacity:1\" cx=\"965.018\" cy=\"882.82\" r=\"18\"/>\n",
       "<circle clip-path=\"url(#clip4102)\" style=\"fill:#009af9; stroke:none; fill-opacity:1\" cx=\"965.018\" cy=\"882.82\" r=\"14\"/>\n",
       "<circle clip-path=\"url(#clip4102)\" style=\"fill:#000000; stroke:none; fill-opacity:1\" cx=\"967.068\" cy=\"1398\" r=\"18\"/>\n",
       "<circle clip-path=\"url(#clip4102)\" style=\"fill:#009af9; stroke:none; fill-opacity:1\" cx=\"967.068\" cy=\"1398\" r=\"14\"/>\n",
       "<circle clip-path=\"url(#clip4102)\" style=\"fill:#000000; stroke:none; fill-opacity:1\" cx=\"969.118\" cy=\"1393.05\" r=\"18\"/>\n",
       "<circle clip-path=\"url(#clip4102)\" style=\"fill:#009af9; stroke:none; fill-opacity:1\" cx=\"969.118\" cy=\"1393.05\" r=\"14\"/>\n",
       "<circle clip-path=\"url(#clip4102)\" style=\"fill:#000000; stroke:none; fill-opacity:1\" cx=\"971.168\" cy=\"1363\" r=\"18\"/>\n",
       "<circle clip-path=\"url(#clip4102)\" style=\"fill:#009af9; stroke:none; fill-opacity:1\" cx=\"971.168\" cy=\"1363\" r=\"14\"/>\n",
       "<circle clip-path=\"url(#clip4102)\" style=\"fill:#000000; stroke:none; fill-opacity:1\" cx=\"973.218\" cy=\"346.761\" r=\"18\"/>\n",
       "<circle clip-path=\"url(#clip4102)\" style=\"fill:#009af9; stroke:none; fill-opacity:1\" cx=\"973.218\" cy=\"346.761\" r=\"14\"/>\n",
       "<circle clip-path=\"url(#clip4102)\" style=\"fill:#000000; stroke:none; fill-opacity:1\" cx=\"975.268\" cy=\"636.135\" r=\"18\"/>\n",
       "<circle clip-path=\"url(#clip4102)\" style=\"fill:#009af9; stroke:none; fill-opacity:1\" cx=\"975.268\" cy=\"636.135\" r=\"14\"/>\n",
       "<circle clip-path=\"url(#clip4102)\" style=\"fill:#000000; stroke:none; fill-opacity:1\" cx=\"977.318\" cy=\"1413.01\" r=\"18\"/>\n",
       "<circle clip-path=\"url(#clip4102)\" style=\"fill:#009af9; stroke:none; fill-opacity:1\" cx=\"977.318\" cy=\"1413.01\" r=\"14\"/>\n",
       "<circle clip-path=\"url(#clip4102)\" style=\"fill:#000000; stroke:none; fill-opacity:1\" cx=\"979.367\" cy=\"354.69\" r=\"18\"/>\n",
       "<circle clip-path=\"url(#clip4102)\" style=\"fill:#009af9; stroke:none; fill-opacity:1\" cx=\"979.367\" cy=\"354.69\" r=\"14\"/>\n",
       "<circle clip-path=\"url(#clip4102)\" style=\"fill:#000000; stroke:none; fill-opacity:1\" cx=\"981.417\" cy=\"975.867\" r=\"18\"/>\n",
       "<circle clip-path=\"url(#clip4102)\" style=\"fill:#009af9; stroke:none; fill-opacity:1\" cx=\"981.417\" cy=\"975.867\" r=\"14\"/>\n",
       "<circle clip-path=\"url(#clip4102)\" style=\"fill:#000000; stroke:none; fill-opacity:1\" cx=\"983.467\" cy=\"198.144\" r=\"18\"/>\n",
       "<circle clip-path=\"url(#clip4102)\" style=\"fill:#009af9; stroke:none; fill-opacity:1\" cx=\"983.467\" cy=\"198.144\" r=\"14\"/>\n",
       "<circle clip-path=\"url(#clip4102)\" style=\"fill:#000000; stroke:none; fill-opacity:1\" cx=\"985.517\" cy=\"647.473\" r=\"18\"/>\n",
       "<circle clip-path=\"url(#clip4102)\" style=\"fill:#009af9; stroke:none; fill-opacity:1\" cx=\"985.517\" cy=\"647.473\" r=\"14\"/>\n",
       "<circle clip-path=\"url(#clip4102)\" style=\"fill:#000000; stroke:none; fill-opacity:1\" cx=\"987.567\" cy=\"474.222\" r=\"18\"/>\n",
       "<circle clip-path=\"url(#clip4102)\" style=\"fill:#009af9; stroke:none; fill-opacity:1\" cx=\"987.567\" cy=\"474.222\" r=\"14\"/>\n",
       "<circle clip-path=\"url(#clip4102)\" style=\"fill:#000000; stroke:none; fill-opacity:1\" cx=\"989.617\" cy=\"692.233\" r=\"18\"/>\n",
       "<circle clip-path=\"url(#clip4102)\" style=\"fill:#009af9; stroke:none; fill-opacity:1\" cx=\"989.617\" cy=\"692.233\" r=\"14\"/>\n",
       "<circle clip-path=\"url(#clip4102)\" style=\"fill:#000000; stroke:none; fill-opacity:1\" cx=\"991.667\" cy=\"639.656\" r=\"18\"/>\n",
       "<circle clip-path=\"url(#clip4102)\" style=\"fill:#009af9; stroke:none; fill-opacity:1\" cx=\"991.667\" cy=\"639.656\" r=\"14\"/>\n",
       "<circle clip-path=\"url(#clip4102)\" style=\"fill:#000000; stroke:none; fill-opacity:1\" cx=\"993.717\" cy=\"686.579\" r=\"18\"/>\n",
       "<circle clip-path=\"url(#clip4102)\" style=\"fill:#009af9; stroke:none; fill-opacity:1\" cx=\"993.717\" cy=\"686.579\" r=\"14\"/>\n",
       "<circle clip-path=\"url(#clip4102)\" style=\"fill:#000000; stroke:none; fill-opacity:1\" cx=\"995.767\" cy=\"188.241\" r=\"18\"/>\n",
       "<circle clip-path=\"url(#clip4102)\" style=\"fill:#009af9; stroke:none; fill-opacity:1\" cx=\"995.767\" cy=\"188.241\" r=\"14\"/>\n",
       "<circle clip-path=\"url(#clip4102)\" style=\"fill:#000000; stroke:none; fill-opacity:1\" cx=\"997.817\" cy=\"1063.84\" r=\"18\"/>\n",
       "<circle clip-path=\"url(#clip4102)\" style=\"fill:#009af9; stroke:none; fill-opacity:1\" cx=\"997.817\" cy=\"1063.84\" r=\"14\"/>\n",
       "<circle clip-path=\"url(#clip4102)\" style=\"fill:#000000; stroke:none; fill-opacity:1\" cx=\"999.867\" cy=\"489.77\" r=\"18\"/>\n",
       "<circle clip-path=\"url(#clip4102)\" style=\"fill:#009af9; stroke:none; fill-opacity:1\" cx=\"999.867\" cy=\"489.77\" r=\"14\"/>\n",
       "<circle clip-path=\"url(#clip4102)\" style=\"fill:#000000; stroke:none; fill-opacity:1\" cx=\"1001.92\" cy=\"1171.49\" r=\"18\"/>\n",
       "<circle clip-path=\"url(#clip4102)\" style=\"fill:#009af9; stroke:none; fill-opacity:1\" cx=\"1001.92\" cy=\"1171.49\" r=\"14\"/>\n",
       "<circle clip-path=\"url(#clip4102)\" style=\"fill:#000000; stroke:none; fill-opacity:1\" cx=\"1003.97\" cy=\"736.583\" r=\"18\"/>\n",
       "<circle clip-path=\"url(#clip4102)\" style=\"fill:#009af9; stroke:none; fill-opacity:1\" cx=\"1003.97\" cy=\"736.583\" r=\"14\"/>\n",
       "<circle clip-path=\"url(#clip4102)\" style=\"fill:#000000; stroke:none; fill-opacity:1\" cx=\"1006.02\" cy=\"854.785\" r=\"18\"/>\n",
       "<circle clip-path=\"url(#clip4102)\" style=\"fill:#009af9; stroke:none; fill-opacity:1\" cx=\"1006.02\" cy=\"854.785\" r=\"14\"/>\n",
       "<circle clip-path=\"url(#clip4102)\" style=\"fill:#000000; stroke:none; fill-opacity:1\" cx=\"1008.07\" cy=\"1425.45\" r=\"18\"/>\n",
       "<circle clip-path=\"url(#clip4102)\" style=\"fill:#009af9; stroke:none; fill-opacity:1\" cx=\"1008.07\" cy=\"1425.45\" r=\"14\"/>\n",
       "<circle clip-path=\"url(#clip4102)\" style=\"fill:#000000; stroke:none; fill-opacity:1\" cx=\"1010.12\" cy=\"796.7\" r=\"18\"/>\n",
       "<circle clip-path=\"url(#clip4102)\" style=\"fill:#009af9; stroke:none; fill-opacity:1\" cx=\"1010.12\" cy=\"796.7\" r=\"14\"/>\n",
       "<circle clip-path=\"url(#clip4102)\" style=\"fill:#000000; stroke:none; fill-opacity:1\" cx=\"1012.17\" cy=\"246.08\" r=\"18\"/>\n",
       "<circle clip-path=\"url(#clip4102)\" style=\"fill:#009af9; stroke:none; fill-opacity:1\" cx=\"1012.17\" cy=\"246.08\" r=\"14\"/>\n",
       "<circle clip-path=\"url(#clip4102)\" style=\"fill:#000000; stroke:none; fill-opacity:1\" cx=\"1014.22\" cy=\"927.188\" r=\"18\"/>\n",
       "<circle clip-path=\"url(#clip4102)\" style=\"fill:#009af9; stroke:none; fill-opacity:1\" cx=\"1014.22\" cy=\"927.188\" r=\"14\"/>\n",
       "<circle clip-path=\"url(#clip4102)\" style=\"fill:#000000; stroke:none; fill-opacity:1\" cx=\"1016.27\" cy=\"1223.51\" r=\"18\"/>\n",
       "<circle clip-path=\"url(#clip4102)\" style=\"fill:#009af9; stroke:none; fill-opacity:1\" cx=\"1016.27\" cy=\"1223.51\" r=\"14\"/>\n",
       "<circle clip-path=\"url(#clip4102)\" style=\"fill:#000000; stroke:none; fill-opacity:1\" cx=\"1018.32\" cy=\"701.23\" r=\"18\"/>\n",
       "<circle clip-path=\"url(#clip4102)\" style=\"fill:#009af9; stroke:none; fill-opacity:1\" cx=\"1018.32\" cy=\"701.23\" r=\"14\"/>\n",
       "<circle clip-path=\"url(#clip4102)\" style=\"fill:#000000; stroke:none; fill-opacity:1\" cx=\"1020.37\" cy=\"294.844\" r=\"18\"/>\n",
       "<circle clip-path=\"url(#clip4102)\" style=\"fill:#009af9; stroke:none; fill-opacity:1\" cx=\"1020.37\" cy=\"294.844\" r=\"14\"/>\n",
       "<circle clip-path=\"url(#clip4102)\" style=\"fill:#000000; stroke:none; fill-opacity:1\" cx=\"1022.42\" cy=\"88.794\" r=\"18\"/>\n",
       "<circle clip-path=\"url(#clip4102)\" style=\"fill:#009af9; stroke:none; fill-opacity:1\" cx=\"1022.42\" cy=\"88.794\" r=\"14\"/>\n",
       "<circle clip-path=\"url(#clip4102)\" style=\"fill:#000000; stroke:none; fill-opacity:1\" cx=\"1024.47\" cy=\"150.035\" r=\"18\"/>\n",
       "<circle clip-path=\"url(#clip4102)\" style=\"fill:#009af9; stroke:none; fill-opacity:1\" cx=\"1024.47\" cy=\"150.035\" r=\"14\"/>\n",
       "<circle clip-path=\"url(#clip4102)\" style=\"fill:#000000; stroke:none; fill-opacity:1\" cx=\"1026.52\" cy=\"965.176\" r=\"18\"/>\n",
       "<circle clip-path=\"url(#clip4102)\" style=\"fill:#009af9; stroke:none; fill-opacity:1\" cx=\"1026.52\" cy=\"965.176\" r=\"14\"/>\n",
       "<circle clip-path=\"url(#clip4102)\" style=\"fill:#000000; stroke:none; fill-opacity:1\" cx=\"1028.57\" cy=\"909.233\" r=\"18\"/>\n",
       "<circle clip-path=\"url(#clip4102)\" style=\"fill:#009af9; stroke:none; fill-opacity:1\" cx=\"1028.57\" cy=\"909.233\" r=\"14\"/>\n",
       "<circle clip-path=\"url(#clip4102)\" style=\"fill:#000000; stroke:none; fill-opacity:1\" cx=\"1030.62\" cy=\"428.99\" r=\"18\"/>\n",
       "<circle clip-path=\"url(#clip4102)\" style=\"fill:#009af9; stroke:none; fill-opacity:1\" cx=\"1030.62\" cy=\"428.99\" r=\"14\"/>\n",
       "<circle clip-path=\"url(#clip4102)\" style=\"fill:#000000; stroke:none; fill-opacity:1\" cx=\"1032.67\" cy=\"117.221\" r=\"18\"/>\n",
       "<circle clip-path=\"url(#clip4102)\" style=\"fill:#009af9; stroke:none; fill-opacity:1\" cx=\"1032.67\" cy=\"117.221\" r=\"14\"/>\n",
       "<circle clip-path=\"url(#clip4102)\" style=\"fill:#000000; stroke:none; fill-opacity:1\" cx=\"1034.72\" cy=\"545.702\" r=\"18\"/>\n",
       "<circle clip-path=\"url(#clip4102)\" style=\"fill:#009af9; stroke:none; fill-opacity:1\" cx=\"1034.72\" cy=\"545.702\" r=\"14\"/>\n",
       "<circle clip-path=\"url(#clip4102)\" style=\"fill:#000000; stroke:none; fill-opacity:1\" cx=\"1036.77\" cy=\"1243.91\" r=\"18\"/>\n",
       "<circle clip-path=\"url(#clip4102)\" style=\"fill:#009af9; stroke:none; fill-opacity:1\" cx=\"1036.77\" cy=\"1243.91\" r=\"14\"/>\n",
       "<circle clip-path=\"url(#clip4102)\" style=\"fill:#000000; stroke:none; fill-opacity:1\" cx=\"1038.82\" cy=\"613.529\" r=\"18\"/>\n",
       "<circle clip-path=\"url(#clip4102)\" style=\"fill:#009af9; stroke:none; fill-opacity:1\" cx=\"1038.82\" cy=\"613.529\" r=\"14\"/>\n",
       "<circle clip-path=\"url(#clip4102)\" style=\"fill:#000000; stroke:none; fill-opacity:1\" cx=\"1040.87\" cy=\"738.423\" r=\"18\"/>\n",
       "<circle clip-path=\"url(#clip4102)\" style=\"fill:#009af9; stroke:none; fill-opacity:1\" cx=\"1040.87\" cy=\"738.423\" r=\"14\"/>\n",
       "<circle clip-path=\"url(#clip4102)\" style=\"fill:#000000; stroke:none; fill-opacity:1\" cx=\"1042.92\" cy=\"1285.55\" r=\"18\"/>\n",
       "<circle clip-path=\"url(#clip4102)\" style=\"fill:#009af9; stroke:none; fill-opacity:1\" cx=\"1042.92\" cy=\"1285.55\" r=\"14\"/>\n",
       "<circle clip-path=\"url(#clip4102)\" style=\"fill:#000000; stroke:none; fill-opacity:1\" cx=\"1044.97\" cy=\"1422.98\" r=\"18\"/>\n",
       "<circle clip-path=\"url(#clip4102)\" style=\"fill:#009af9; stroke:none; fill-opacity:1\" cx=\"1044.97\" cy=\"1422.98\" r=\"14\"/>\n",
       "<circle clip-path=\"url(#clip4102)\" style=\"fill:#000000; stroke:none; fill-opacity:1\" cx=\"1047.02\" cy=\"575.28\" r=\"18\"/>\n",
       "<circle clip-path=\"url(#clip4102)\" style=\"fill:#009af9; stroke:none; fill-opacity:1\" cx=\"1047.02\" cy=\"575.28\" r=\"14\"/>\n",
       "<circle clip-path=\"url(#clip4102)\" style=\"fill:#000000; stroke:none; fill-opacity:1\" cx=\"1049.06\" cy=\"1356.18\" r=\"18\"/>\n",
       "<circle clip-path=\"url(#clip4102)\" style=\"fill:#009af9; stroke:none; fill-opacity:1\" cx=\"1049.06\" cy=\"1356.18\" r=\"14\"/>\n",
       "<circle clip-path=\"url(#clip4102)\" style=\"fill:#000000; stroke:none; fill-opacity:1\" cx=\"1051.11\" cy=\"1412.11\" r=\"18\"/>\n",
       "<circle clip-path=\"url(#clip4102)\" style=\"fill:#009af9; stroke:none; fill-opacity:1\" cx=\"1051.11\" cy=\"1412.11\" r=\"14\"/>\n",
       "<circle clip-path=\"url(#clip4102)\" style=\"fill:#000000; stroke:none; fill-opacity:1\" cx=\"1053.16\" cy=\"592.601\" r=\"18\"/>\n",
       "<circle clip-path=\"url(#clip4102)\" style=\"fill:#009af9; stroke:none; fill-opacity:1\" cx=\"1053.16\" cy=\"592.601\" r=\"14\"/>\n",
       "<circle clip-path=\"url(#clip4102)\" style=\"fill:#000000; stroke:none; fill-opacity:1\" cx=\"1055.21\" cy=\"528.06\" r=\"18\"/>\n",
       "<circle clip-path=\"url(#clip4102)\" style=\"fill:#009af9; stroke:none; fill-opacity:1\" cx=\"1055.21\" cy=\"528.06\" r=\"14\"/>\n",
       "<circle clip-path=\"url(#clip4102)\" style=\"fill:#000000; stroke:none; fill-opacity:1\" cx=\"1057.26\" cy=\"1304.03\" r=\"18\"/>\n",
       "<circle clip-path=\"url(#clip4102)\" style=\"fill:#009af9; stroke:none; fill-opacity:1\" cx=\"1057.26\" cy=\"1304.03\" r=\"14\"/>\n",
       "<circle clip-path=\"url(#clip4102)\" style=\"fill:#000000; stroke:none; fill-opacity:1\" cx=\"1059.31\" cy=\"103.812\" r=\"18\"/>\n",
       "<circle clip-path=\"url(#clip4102)\" style=\"fill:#009af9; stroke:none; fill-opacity:1\" cx=\"1059.31\" cy=\"103.812\" r=\"14\"/>\n",
       "<circle clip-path=\"url(#clip4102)\" style=\"fill:#000000; stroke:none; fill-opacity:1\" cx=\"1061.36\" cy=\"1395.92\" r=\"18\"/>\n",
       "<circle clip-path=\"url(#clip4102)\" style=\"fill:#009af9; stroke:none; fill-opacity:1\" cx=\"1061.36\" cy=\"1395.92\" r=\"14\"/>\n",
       "<circle clip-path=\"url(#clip4102)\" style=\"fill:#000000; stroke:none; fill-opacity:1\" cx=\"1063.41\" cy=\"1232.69\" r=\"18\"/>\n",
       "<circle clip-path=\"url(#clip4102)\" style=\"fill:#009af9; stroke:none; fill-opacity:1\" cx=\"1063.41\" cy=\"1232.69\" r=\"14\"/>\n",
       "<circle clip-path=\"url(#clip4102)\" style=\"fill:#000000; stroke:none; fill-opacity:1\" cx=\"1065.46\" cy=\"969.854\" r=\"18\"/>\n",
       "<circle clip-path=\"url(#clip4102)\" style=\"fill:#009af9; stroke:none; fill-opacity:1\" cx=\"1065.46\" cy=\"969.854\" r=\"14\"/>\n",
       "<circle clip-path=\"url(#clip4102)\" style=\"fill:#000000; stroke:none; fill-opacity:1\" cx=\"1067.51\" cy=\"1199.17\" r=\"18\"/>\n",
       "<circle clip-path=\"url(#clip4102)\" style=\"fill:#009af9; stroke:none; fill-opacity:1\" cx=\"1067.51\" cy=\"1199.17\" r=\"14\"/>\n",
       "<circle clip-path=\"url(#clip4102)\" style=\"fill:#000000; stroke:none; fill-opacity:1\" cx=\"1069.56\" cy=\"714.394\" r=\"18\"/>\n",
       "<circle clip-path=\"url(#clip4102)\" style=\"fill:#009af9; stroke:none; fill-opacity:1\" cx=\"1069.56\" cy=\"714.394\" r=\"14\"/>\n",
       "<circle clip-path=\"url(#clip4102)\" style=\"fill:#000000; stroke:none; fill-opacity:1\" cx=\"1071.61\" cy=\"128.448\" r=\"18\"/>\n",
       "<circle clip-path=\"url(#clip4102)\" style=\"fill:#009af9; stroke:none; fill-opacity:1\" cx=\"1071.61\" cy=\"128.448\" r=\"14\"/>\n",
       "<circle clip-path=\"url(#clip4102)\" style=\"fill:#000000; stroke:none; fill-opacity:1\" cx=\"1073.66\" cy=\"494.088\" r=\"18\"/>\n",
       "<circle clip-path=\"url(#clip4102)\" style=\"fill:#009af9; stroke:none; fill-opacity:1\" cx=\"1073.66\" cy=\"494.088\" r=\"14\"/>\n",
       "<circle clip-path=\"url(#clip4102)\" style=\"fill:#000000; stroke:none; fill-opacity:1\" cx=\"1075.71\" cy=\"1103.57\" r=\"18\"/>\n",
       "<circle clip-path=\"url(#clip4102)\" style=\"fill:#009af9; stroke:none; fill-opacity:1\" cx=\"1075.71\" cy=\"1103.57\" r=\"14\"/>\n",
       "<circle clip-path=\"url(#clip4102)\" style=\"fill:#000000; stroke:none; fill-opacity:1\" cx=\"1077.76\" cy=\"1390.16\" r=\"18\"/>\n",
       "<circle clip-path=\"url(#clip4102)\" style=\"fill:#009af9; stroke:none; fill-opacity:1\" cx=\"1077.76\" cy=\"1390.16\" r=\"14\"/>\n",
       "<circle clip-path=\"url(#clip4102)\" style=\"fill:#000000; stroke:none; fill-opacity:1\" cx=\"1079.81\" cy=\"592.921\" r=\"18\"/>\n",
       "<circle clip-path=\"url(#clip4102)\" style=\"fill:#009af9; stroke:none; fill-opacity:1\" cx=\"1079.81\" cy=\"592.921\" r=\"14\"/>\n",
       "<circle clip-path=\"url(#clip4102)\" style=\"fill:#000000; stroke:none; fill-opacity:1\" cx=\"1081.86\" cy=\"1099.81\" r=\"18\"/>\n",
       "<circle clip-path=\"url(#clip4102)\" style=\"fill:#009af9; stroke:none; fill-opacity:1\" cx=\"1081.86\" cy=\"1099.81\" r=\"14\"/>\n",
       "<circle clip-path=\"url(#clip4102)\" style=\"fill:#000000; stroke:none; fill-opacity:1\" cx=\"1083.91\" cy=\"788.654\" r=\"18\"/>\n",
       "<circle clip-path=\"url(#clip4102)\" style=\"fill:#009af9; stroke:none; fill-opacity:1\" cx=\"1083.91\" cy=\"788.654\" r=\"14\"/>\n",
       "<circle clip-path=\"url(#clip4102)\" style=\"fill:#000000; stroke:none; fill-opacity:1\" cx=\"1085.96\" cy=\"926.941\" r=\"18\"/>\n",
       "<circle clip-path=\"url(#clip4102)\" style=\"fill:#009af9; stroke:none; fill-opacity:1\" cx=\"1085.96\" cy=\"926.941\" r=\"14\"/>\n",
       "<circle clip-path=\"url(#clip4102)\" style=\"fill:#000000; stroke:none; fill-opacity:1\" cx=\"1088.01\" cy=\"491.653\" r=\"18\"/>\n",
       "<circle clip-path=\"url(#clip4102)\" style=\"fill:#009af9; stroke:none; fill-opacity:1\" cx=\"1088.01\" cy=\"491.653\" r=\"14\"/>\n",
       "<circle clip-path=\"url(#clip4102)\" style=\"fill:#000000; stroke:none; fill-opacity:1\" cx=\"1090.06\" cy=\"1122.38\" r=\"18\"/>\n",
       "<circle clip-path=\"url(#clip4102)\" style=\"fill:#009af9; stroke:none; fill-opacity:1\" cx=\"1090.06\" cy=\"1122.38\" r=\"14\"/>\n",
       "<circle clip-path=\"url(#clip4102)\" style=\"fill:#000000; stroke:none; fill-opacity:1\" cx=\"1092.11\" cy=\"945.868\" r=\"18\"/>\n",
       "<circle clip-path=\"url(#clip4102)\" style=\"fill:#009af9; stroke:none; fill-opacity:1\" cx=\"1092.11\" cy=\"945.868\" r=\"14\"/>\n",
       "<circle clip-path=\"url(#clip4102)\" style=\"fill:#000000; stroke:none; fill-opacity:1\" cx=\"1094.16\" cy=\"1149.88\" r=\"18\"/>\n",
       "<circle clip-path=\"url(#clip4102)\" style=\"fill:#009af9; stroke:none; fill-opacity:1\" cx=\"1094.16\" cy=\"1149.88\" r=\"14\"/>\n",
       "<circle clip-path=\"url(#clip4102)\" style=\"fill:#000000; stroke:none; fill-opacity:1\" cx=\"1096.21\" cy=\"672.939\" r=\"18\"/>\n",
       "<circle clip-path=\"url(#clip4102)\" style=\"fill:#009af9; stroke:none; fill-opacity:1\" cx=\"1096.21\" cy=\"672.939\" r=\"14\"/>\n",
       "<circle clip-path=\"url(#clip4102)\" style=\"fill:#000000; stroke:none; fill-opacity:1\" cx=\"1098.26\" cy=\"260.496\" r=\"18\"/>\n",
       "<circle clip-path=\"url(#clip4102)\" style=\"fill:#009af9; stroke:none; fill-opacity:1\" cx=\"1098.26\" cy=\"260.496\" r=\"14\"/>\n",
       "<circle clip-path=\"url(#clip4102)\" style=\"fill:#000000; stroke:none; fill-opacity:1\" cx=\"1100.31\" cy=\"228.649\" r=\"18\"/>\n",
       "<circle clip-path=\"url(#clip4102)\" style=\"fill:#009af9; stroke:none; fill-opacity:1\" cx=\"1100.31\" cy=\"228.649\" r=\"14\"/>\n",
       "<circle clip-path=\"url(#clip4102)\" style=\"fill:#000000; stroke:none; fill-opacity:1\" cx=\"1102.36\" cy=\"805.79\" r=\"18\"/>\n",
       "<circle clip-path=\"url(#clip4102)\" style=\"fill:#009af9; stroke:none; fill-opacity:1\" cx=\"1102.36\" cy=\"805.79\" r=\"14\"/>\n",
       "<circle clip-path=\"url(#clip4102)\" style=\"fill:#000000; stroke:none; fill-opacity:1\" cx=\"1104.41\" cy=\"436.686\" r=\"18\"/>\n",
       "<circle clip-path=\"url(#clip4102)\" style=\"fill:#009af9; stroke:none; fill-opacity:1\" cx=\"1104.41\" cy=\"436.686\" r=\"14\"/>\n",
       "<circle clip-path=\"url(#clip4102)\" style=\"fill:#000000; stroke:none; fill-opacity:1\" cx=\"1106.46\" cy=\"104.548\" r=\"18\"/>\n",
       "<circle clip-path=\"url(#clip4102)\" style=\"fill:#009af9; stroke:none; fill-opacity:1\" cx=\"1106.46\" cy=\"104.548\" r=\"14\"/>\n",
       "<circle clip-path=\"url(#clip4102)\" style=\"fill:#000000; stroke:none; fill-opacity:1\" cx=\"1108.51\" cy=\"186.018\" r=\"18\"/>\n",
       "<circle clip-path=\"url(#clip4102)\" style=\"fill:#009af9; stroke:none; fill-opacity:1\" cx=\"1108.51\" cy=\"186.018\" r=\"14\"/>\n",
       "<circle clip-path=\"url(#clip4102)\" style=\"fill:#000000; stroke:none; fill-opacity:1\" cx=\"1110.56\" cy=\"113.95\" r=\"18\"/>\n",
       "<circle clip-path=\"url(#clip4102)\" style=\"fill:#009af9; stroke:none; fill-opacity:1\" cx=\"1110.56\" cy=\"113.95\" r=\"14\"/>\n",
       "<circle clip-path=\"url(#clip4102)\" style=\"fill:#000000; stroke:none; fill-opacity:1\" cx=\"1112.61\" cy=\"910.404\" r=\"18\"/>\n",
       "<circle clip-path=\"url(#clip4102)\" style=\"fill:#009af9; stroke:none; fill-opacity:1\" cx=\"1112.61\" cy=\"910.404\" r=\"14\"/>\n",
       "<circle clip-path=\"url(#clip4102)\" style=\"fill:#000000; stroke:none; fill-opacity:1\" cx=\"1114.66\" cy=\"628.404\" r=\"18\"/>\n",
       "<circle clip-path=\"url(#clip4102)\" style=\"fill:#009af9; stroke:none; fill-opacity:1\" cx=\"1114.66\" cy=\"628.404\" r=\"14\"/>\n",
       "<circle clip-path=\"url(#clip4102)\" style=\"fill:#000000; stroke:none; fill-opacity:1\" cx=\"1116.71\" cy=\"685.408\" r=\"18\"/>\n",
       "<circle clip-path=\"url(#clip4102)\" style=\"fill:#009af9; stroke:none; fill-opacity:1\" cx=\"1116.71\" cy=\"685.408\" r=\"14\"/>\n",
       "<circle clip-path=\"url(#clip4102)\" style=\"fill:#000000; stroke:none; fill-opacity:1\" cx=\"1118.76\" cy=\"697.177\" r=\"18\"/>\n",
       "<circle clip-path=\"url(#clip4102)\" style=\"fill:#009af9; stroke:none; fill-opacity:1\" cx=\"1118.76\" cy=\"697.177\" r=\"14\"/>\n",
       "<circle clip-path=\"url(#clip4102)\" style=\"fill:#000000; stroke:none; fill-opacity:1\" cx=\"1120.81\" cy=\"904.366\" r=\"18\"/>\n",
       "<circle clip-path=\"url(#clip4102)\" style=\"fill:#009af9; stroke:none; fill-opacity:1\" cx=\"1120.81\" cy=\"904.366\" r=\"14\"/>\n",
       "<circle clip-path=\"url(#clip4102)\" style=\"fill:#000000; stroke:none; fill-opacity:1\" cx=\"1122.86\" cy=\"131.618\" r=\"18\"/>\n",
       "<circle clip-path=\"url(#clip4102)\" style=\"fill:#009af9; stroke:none; fill-opacity:1\" cx=\"1122.86\" cy=\"131.618\" r=\"14\"/>\n",
       "<circle clip-path=\"url(#clip4102)\" style=\"fill:#000000; stroke:none; fill-opacity:1\" cx=\"1124.91\" cy=\"1426.94\" r=\"18\"/>\n",
       "<circle clip-path=\"url(#clip4102)\" style=\"fill:#009af9; stroke:none; fill-opacity:1\" cx=\"1124.91\" cy=\"1426.94\" r=\"14\"/>\n",
       "<circle clip-path=\"url(#clip4102)\" style=\"fill:#000000; stroke:none; fill-opacity:1\" cx=\"1126.96\" cy=\"534.423\" r=\"18\"/>\n",
       "<circle clip-path=\"url(#clip4102)\" style=\"fill:#009af9; stroke:none; fill-opacity:1\" cx=\"1126.96\" cy=\"534.423\" r=\"14\"/>\n",
       "<circle clip-path=\"url(#clip4102)\" style=\"fill:#000000; stroke:none; fill-opacity:1\" cx=\"1129.01\" cy=\"1392.57\" r=\"18\"/>\n",
       "<circle clip-path=\"url(#clip4102)\" style=\"fill:#009af9; stroke:none; fill-opacity:1\" cx=\"1129.01\" cy=\"1392.57\" r=\"14\"/>\n",
       "<circle clip-path=\"url(#clip4102)\" style=\"fill:#000000; stroke:none; fill-opacity:1\" cx=\"1131.06\" cy=\"1021.94\" r=\"18\"/>\n",
       "<circle clip-path=\"url(#clip4102)\" style=\"fill:#009af9; stroke:none; fill-opacity:1\" cx=\"1131.06\" cy=\"1021.94\" r=\"14\"/>\n",
       "<circle clip-path=\"url(#clip4102)\" style=\"fill:#000000; stroke:none; fill-opacity:1\" cx=\"1133.11\" cy=\"688.039\" r=\"18\"/>\n",
       "<circle clip-path=\"url(#clip4102)\" style=\"fill:#009af9; stroke:none; fill-opacity:1\" cx=\"1133.11\" cy=\"688.039\" r=\"14\"/>\n",
       "<circle clip-path=\"url(#clip4102)\" style=\"fill:#000000; stroke:none; fill-opacity:1\" cx=\"1135.16\" cy=\"809.883\" r=\"18\"/>\n",
       "<circle clip-path=\"url(#clip4102)\" style=\"fill:#009af9; stroke:none; fill-opacity:1\" cx=\"1135.16\" cy=\"809.883\" r=\"14\"/>\n",
       "<circle clip-path=\"url(#clip4102)\" style=\"fill:#000000; stroke:none; fill-opacity:1\" cx=\"1137.21\" cy=\"613.655\" r=\"18\"/>\n",
       "<circle clip-path=\"url(#clip4102)\" style=\"fill:#009af9; stroke:none; fill-opacity:1\" cx=\"1137.21\" cy=\"613.655\" r=\"14\"/>\n",
       "<circle clip-path=\"url(#clip4102)\" style=\"fill:#000000; stroke:none; fill-opacity:1\" cx=\"1139.26\" cy=\"1053.92\" r=\"18\"/>\n",
       "<circle clip-path=\"url(#clip4102)\" style=\"fill:#009af9; stroke:none; fill-opacity:1\" cx=\"1139.26\" cy=\"1053.92\" r=\"14\"/>\n",
       "<circle clip-path=\"url(#clip4102)\" style=\"fill:#000000; stroke:none; fill-opacity:1\" cx=\"1141.31\" cy=\"1433.87\" r=\"18\"/>\n",
       "<circle clip-path=\"url(#clip4102)\" style=\"fill:#009af9; stroke:none; fill-opacity:1\" cx=\"1141.31\" cy=\"1433.87\" r=\"14\"/>\n",
       "<circle clip-path=\"url(#clip4102)\" style=\"fill:#000000; stroke:none; fill-opacity:1\" cx=\"1143.36\" cy=\"888.648\" r=\"18\"/>\n",
       "<circle clip-path=\"url(#clip4102)\" style=\"fill:#009af9; stroke:none; fill-opacity:1\" cx=\"1143.36\" cy=\"888.648\" r=\"14\"/>\n",
       "<circle clip-path=\"url(#clip4102)\" style=\"fill:#000000; stroke:none; fill-opacity:1\" cx=\"1145.41\" cy=\"1365.88\" r=\"18\"/>\n",
       "<circle clip-path=\"url(#clip4102)\" style=\"fill:#009af9; stroke:none; fill-opacity:1\" cx=\"1145.41\" cy=\"1365.88\" r=\"14\"/>\n",
       "<circle clip-path=\"url(#clip4102)\" style=\"fill:#000000; stroke:none; fill-opacity:1\" cx=\"1147.46\" cy=\"1346.08\" r=\"18\"/>\n",
       "<circle clip-path=\"url(#clip4102)\" style=\"fill:#009af9; stroke:none; fill-opacity:1\" cx=\"1147.46\" cy=\"1346.08\" r=\"14\"/>\n",
       "<circle clip-path=\"url(#clip4102)\" style=\"fill:#000000; stroke:none; fill-opacity:1\" cx=\"1149.51\" cy=\"1017.99\" r=\"18\"/>\n",
       "<circle clip-path=\"url(#clip4102)\" style=\"fill:#009af9; stroke:none; fill-opacity:1\" cx=\"1149.51\" cy=\"1017.99\" r=\"14\"/>\n",
       "<circle clip-path=\"url(#clip4102)\" style=\"fill:#000000; stroke:none; fill-opacity:1\" cx=\"1151.56\" cy=\"472.858\" r=\"18\"/>\n",
       "<circle clip-path=\"url(#clip4102)\" style=\"fill:#009af9; stroke:none; fill-opacity:1\" cx=\"1151.56\" cy=\"472.858\" r=\"14\"/>\n",
       "<circle clip-path=\"url(#clip4102)\" style=\"fill:#000000; stroke:none; fill-opacity:1\" cx=\"1153.61\" cy=\"867.278\" r=\"18\"/>\n",
       "<circle clip-path=\"url(#clip4102)\" style=\"fill:#009af9; stroke:none; fill-opacity:1\" cx=\"1153.61\" cy=\"867.278\" r=\"14\"/>\n",
       "<circle clip-path=\"url(#clip4102)\" style=\"fill:#000000; stroke:none; fill-opacity:1\" cx=\"1155.66\" cy=\"623.8\" r=\"18\"/>\n",
       "<circle clip-path=\"url(#clip4102)\" style=\"fill:#009af9; stroke:none; fill-opacity:1\" cx=\"1155.66\" cy=\"623.8\" r=\"14\"/>\n",
       "<circle clip-path=\"url(#clip4102)\" style=\"fill:#000000; stroke:none; fill-opacity:1\" cx=\"1157.71\" cy=\"1106.84\" r=\"18\"/>\n",
       "<circle clip-path=\"url(#clip4102)\" style=\"fill:#009af9; stroke:none; fill-opacity:1\" cx=\"1157.71\" cy=\"1106.84\" r=\"14\"/>\n",
       "<circle clip-path=\"url(#clip4102)\" style=\"fill:#000000; stroke:none; fill-opacity:1\" cx=\"1159.76\" cy=\"1160.66\" r=\"18\"/>\n",
       "<circle clip-path=\"url(#clip4102)\" style=\"fill:#009af9; stroke:none; fill-opacity:1\" cx=\"1159.76\" cy=\"1160.66\" r=\"14\"/>\n",
       "<circle clip-path=\"url(#clip4102)\" style=\"fill:#000000; stroke:none; fill-opacity:1\" cx=\"1161.81\" cy=\"289.308\" r=\"18\"/>\n",
       "<circle clip-path=\"url(#clip4102)\" style=\"fill:#009af9; stroke:none; fill-opacity:1\" cx=\"1161.81\" cy=\"289.308\" r=\"14\"/>\n",
       "<circle clip-path=\"url(#clip4102)\" style=\"fill:#000000; stroke:none; fill-opacity:1\" cx=\"1163.86\" cy=\"1124.24\" r=\"18\"/>\n",
       "<circle clip-path=\"url(#clip4102)\" style=\"fill:#009af9; stroke:none; fill-opacity:1\" cx=\"1163.86\" cy=\"1124.24\" r=\"14\"/>\n",
       "<circle clip-path=\"url(#clip4102)\" style=\"fill:#000000; stroke:none; fill-opacity:1\" cx=\"1165.91\" cy=\"906.065\" r=\"18\"/>\n",
       "<circle clip-path=\"url(#clip4102)\" style=\"fill:#009af9; stroke:none; fill-opacity:1\" cx=\"1165.91\" cy=\"906.065\" r=\"14\"/>\n",
       "<circle clip-path=\"url(#clip4102)\" style=\"fill:#000000; stroke:none; fill-opacity:1\" cx=\"1167.96\" cy=\"1013.96\" r=\"18\"/>\n",
       "<circle clip-path=\"url(#clip4102)\" style=\"fill:#009af9; stroke:none; fill-opacity:1\" cx=\"1167.96\" cy=\"1013.96\" r=\"14\"/>\n",
       "<circle clip-path=\"url(#clip4102)\" style=\"fill:#000000; stroke:none; fill-opacity:1\" cx=\"1170.01\" cy=\"1228.47\" r=\"18\"/>\n",
       "<circle clip-path=\"url(#clip4102)\" style=\"fill:#009af9; stroke:none; fill-opacity:1\" cx=\"1170.01\" cy=\"1228.47\" r=\"14\"/>\n",
       "<circle clip-path=\"url(#clip4102)\" style=\"fill:#000000; stroke:none; fill-opacity:1\" cx=\"1172.06\" cy=\"252.286\" r=\"18\"/>\n",
       "<circle clip-path=\"url(#clip4102)\" style=\"fill:#009af9; stroke:none; fill-opacity:1\" cx=\"1172.06\" cy=\"252.286\" r=\"14\"/>\n",
       "<circle clip-path=\"url(#clip4102)\" style=\"fill:#000000; stroke:none; fill-opacity:1\" cx=\"1174.11\" cy=\"368.782\" r=\"18\"/>\n",
       "<circle clip-path=\"url(#clip4102)\" style=\"fill:#009af9; stroke:none; fill-opacity:1\" cx=\"1174.11\" cy=\"368.782\" r=\"14\"/>\n",
       "<circle clip-path=\"url(#clip4102)\" style=\"fill:#000000; stroke:none; fill-opacity:1\" cx=\"1176.16\" cy=\"514.292\" r=\"18\"/>\n",
       "<circle clip-path=\"url(#clip4102)\" style=\"fill:#009af9; stroke:none; fill-opacity:1\" cx=\"1176.16\" cy=\"514.292\" r=\"14\"/>\n",
       "<circle clip-path=\"url(#clip4102)\" style=\"fill:#000000; stroke:none; fill-opacity:1\" cx=\"1178.21\" cy=\"859.302\" r=\"18\"/>\n",
       "<circle clip-path=\"url(#clip4102)\" style=\"fill:#009af9; stroke:none; fill-opacity:1\" cx=\"1178.21\" cy=\"859.302\" r=\"14\"/>\n",
       "<circle clip-path=\"url(#clip4102)\" style=\"fill:#000000; stroke:none; fill-opacity:1\" cx=\"1180.26\" cy=\"611.73\" r=\"18\"/>\n",
       "<circle clip-path=\"url(#clip4102)\" style=\"fill:#009af9; stroke:none; fill-opacity:1\" cx=\"1180.26\" cy=\"611.73\" r=\"14\"/>\n",
       "<circle clip-path=\"url(#clip4102)\" style=\"fill:#000000; stroke:none; fill-opacity:1\" cx=\"1182.31\" cy=\"747.679\" r=\"18\"/>\n",
       "<circle clip-path=\"url(#clip4102)\" style=\"fill:#009af9; stroke:none; fill-opacity:1\" cx=\"1182.31\" cy=\"747.679\" r=\"14\"/>\n",
       "<circle clip-path=\"url(#clip4102)\" style=\"fill:#000000; stroke:none; fill-opacity:1\" cx=\"1184.36\" cy=\"1444.9\" r=\"18\"/>\n",
       "<circle clip-path=\"url(#clip4102)\" style=\"fill:#009af9; stroke:none; fill-opacity:1\" cx=\"1184.36\" cy=\"1444.9\" r=\"14\"/>\n",
       "<circle clip-path=\"url(#clip4102)\" style=\"fill:#000000; stroke:none; fill-opacity:1\" cx=\"1186.41\" cy=\"724.385\" r=\"18\"/>\n",
       "<circle clip-path=\"url(#clip4102)\" style=\"fill:#009af9; stroke:none; fill-opacity:1\" cx=\"1186.41\" cy=\"724.385\" r=\"14\"/>\n",
       "<circle clip-path=\"url(#clip4102)\" style=\"fill:#000000; stroke:none; fill-opacity:1\" cx=\"1188.46\" cy=\"846.172\" r=\"18\"/>\n",
       "<circle clip-path=\"url(#clip4102)\" style=\"fill:#009af9; stroke:none; fill-opacity:1\" cx=\"1188.46\" cy=\"846.172\" r=\"14\"/>\n",
       "<circle clip-path=\"url(#clip4102)\" style=\"fill:#000000; stroke:none; fill-opacity:1\" cx=\"1190.51\" cy=\"218.505\" r=\"18\"/>\n",
       "<circle clip-path=\"url(#clip4102)\" style=\"fill:#009af9; stroke:none; fill-opacity:1\" cx=\"1190.51\" cy=\"218.505\" r=\"14\"/>\n",
       "<circle clip-path=\"url(#clip4102)\" style=\"fill:#000000; stroke:none; fill-opacity:1\" cx=\"1192.56\" cy=\"523.412\" r=\"18\"/>\n",
       "<circle clip-path=\"url(#clip4102)\" style=\"fill:#009af9; stroke:none; fill-opacity:1\" cx=\"1192.56\" cy=\"523.412\" r=\"14\"/>\n",
       "<circle clip-path=\"url(#clip4102)\" style=\"fill:#000000; stroke:none; fill-opacity:1\" cx=\"1194.61\" cy=\"778.922\" r=\"18\"/>\n",
       "<circle clip-path=\"url(#clip4102)\" style=\"fill:#009af9; stroke:none; fill-opacity:1\" cx=\"1194.61\" cy=\"778.922\" r=\"14\"/>\n",
       "<circle clip-path=\"url(#clip4102)\" style=\"fill:#000000; stroke:none; fill-opacity:1\" cx=\"1196.66\" cy=\"406.596\" r=\"18\"/>\n",
       "<circle clip-path=\"url(#clip4102)\" style=\"fill:#009af9; stroke:none; fill-opacity:1\" cx=\"1196.66\" cy=\"406.596\" r=\"14\"/>\n",
       "<circle clip-path=\"url(#clip4102)\" style=\"fill:#000000; stroke:none; fill-opacity:1\" cx=\"1198.71\" cy=\"1282.41\" r=\"18\"/>\n",
       "<circle clip-path=\"url(#clip4102)\" style=\"fill:#009af9; stroke:none; fill-opacity:1\" cx=\"1198.71\" cy=\"1282.41\" r=\"14\"/>\n",
       "<circle clip-path=\"url(#clip4102)\" style=\"fill:#000000; stroke:none; fill-opacity:1\" cx=\"1200.76\" cy=\"1350.15\" r=\"18\"/>\n",
       "<circle clip-path=\"url(#clip4102)\" style=\"fill:#009af9; stroke:none; fill-opacity:1\" cx=\"1200.76\" cy=\"1350.15\" r=\"14\"/>\n",
       "<circle clip-path=\"url(#clip4102)\" style=\"fill:#000000; stroke:none; fill-opacity:1\" cx=\"1202.81\" cy=\"347.482\" r=\"18\"/>\n",
       "<circle clip-path=\"url(#clip4102)\" style=\"fill:#009af9; stroke:none; fill-opacity:1\" cx=\"1202.81\" cy=\"347.482\" r=\"14\"/>\n",
       "<circle clip-path=\"url(#clip4102)\" style=\"fill:#000000; stroke:none; fill-opacity:1\" cx=\"1204.86\" cy=\"1374.77\" r=\"18\"/>\n",
       "<circle clip-path=\"url(#clip4102)\" style=\"fill:#009af9; stroke:none; fill-opacity:1\" cx=\"1204.86\" cy=\"1374.77\" r=\"14\"/>\n",
       "<circle clip-path=\"url(#clip4102)\" style=\"fill:#000000; stroke:none; fill-opacity:1\" cx=\"1206.91\" cy=\"1140.65\" r=\"18\"/>\n",
       "<circle clip-path=\"url(#clip4102)\" style=\"fill:#009af9; stroke:none; fill-opacity:1\" cx=\"1206.91\" cy=\"1140.65\" r=\"14\"/>\n",
       "<circle clip-path=\"url(#clip4102)\" style=\"fill:#000000; stroke:none; fill-opacity:1\" cx=\"1208.96\" cy=\"633.715\" r=\"18\"/>\n",
       "<circle clip-path=\"url(#clip4102)\" style=\"fill:#009af9; stroke:none; fill-opacity:1\" cx=\"1208.96\" cy=\"633.715\" r=\"14\"/>\n",
       "<circle clip-path=\"url(#clip4102)\" style=\"fill:#000000; stroke:none; fill-opacity:1\" cx=\"1211.01\" cy=\"691.734\" r=\"18\"/>\n",
       "<circle clip-path=\"url(#clip4102)\" style=\"fill:#009af9; stroke:none; fill-opacity:1\" cx=\"1211.01\" cy=\"691.734\" r=\"14\"/>\n",
       "<circle clip-path=\"url(#clip4102)\" style=\"fill:#000000; stroke:none; fill-opacity:1\" cx=\"1213.06\" cy=\"668.737\" r=\"18\"/>\n",
       "<circle clip-path=\"url(#clip4102)\" style=\"fill:#009af9; stroke:none; fill-opacity:1\" cx=\"1213.06\" cy=\"668.737\" r=\"14\"/>\n",
       "<circle clip-path=\"url(#clip4102)\" style=\"fill:#000000; stroke:none; fill-opacity:1\" cx=\"1215.11\" cy=\"114.051\" r=\"18\"/>\n",
       "<circle clip-path=\"url(#clip4102)\" style=\"fill:#009af9; stroke:none; fill-opacity:1\" cx=\"1215.11\" cy=\"114.051\" r=\"14\"/>\n",
       "<circle clip-path=\"url(#clip4102)\" style=\"fill:#000000; stroke:none; fill-opacity:1\" cx=\"1217.16\" cy=\"1159.94\" r=\"18\"/>\n",
       "<circle clip-path=\"url(#clip4102)\" style=\"fill:#009af9; stroke:none; fill-opacity:1\" cx=\"1217.16\" cy=\"1159.94\" r=\"14\"/>\n",
       "<circle clip-path=\"url(#clip4102)\" style=\"fill:#000000; stroke:none; fill-opacity:1\" cx=\"1219.21\" cy=\"602.44\" r=\"18\"/>\n",
       "<circle clip-path=\"url(#clip4102)\" style=\"fill:#009af9; stroke:none; fill-opacity:1\" cx=\"1219.21\" cy=\"602.44\" r=\"14\"/>\n",
       "<circle clip-path=\"url(#clip4102)\" style=\"fill:#000000; stroke:none; fill-opacity:1\" cx=\"1221.26\" cy=\"674.624\" r=\"18\"/>\n",
       "<circle clip-path=\"url(#clip4102)\" style=\"fill:#009af9; stroke:none; fill-opacity:1\" cx=\"1221.26\" cy=\"674.624\" r=\"14\"/>\n",
       "<circle clip-path=\"url(#clip4102)\" style=\"fill:#000000; stroke:none; fill-opacity:1\" cx=\"1223.31\" cy=\"507.874\" r=\"18\"/>\n",
       "<circle clip-path=\"url(#clip4102)\" style=\"fill:#009af9; stroke:none; fill-opacity:1\" cx=\"1223.31\" cy=\"507.874\" r=\"14\"/>\n",
       "<circle clip-path=\"url(#clip4102)\" style=\"fill:#000000; stroke:none; fill-opacity:1\" cx=\"1225.36\" cy=\"1150.91\" r=\"18\"/>\n",
       "<circle clip-path=\"url(#clip4102)\" style=\"fill:#009af9; stroke:none; fill-opacity:1\" cx=\"1225.36\" cy=\"1150.91\" r=\"14\"/>\n",
       "<circle clip-path=\"url(#clip4102)\" style=\"fill:#000000; stroke:none; fill-opacity:1\" cx=\"1227.41\" cy=\"1100.09\" r=\"18\"/>\n",
       "<circle clip-path=\"url(#clip4102)\" style=\"fill:#009af9; stroke:none; fill-opacity:1\" cx=\"1227.41\" cy=\"1100.09\" r=\"14\"/>\n",
       "<circle clip-path=\"url(#clip4102)\" style=\"fill:#000000; stroke:none; fill-opacity:1\" cx=\"1229.46\" cy=\"812.375\" r=\"18\"/>\n",
       "<circle clip-path=\"url(#clip4102)\" style=\"fill:#009af9; stroke:none; fill-opacity:1\" cx=\"1229.46\" cy=\"812.375\" r=\"14\"/>\n",
       "<circle clip-path=\"url(#clip4102)\" style=\"fill:#000000; stroke:none; fill-opacity:1\" cx=\"1231.51\" cy=\"681.402\" r=\"18\"/>\n",
       "<circle clip-path=\"url(#clip4102)\" style=\"fill:#009af9; stroke:none; fill-opacity:1\" cx=\"1231.51\" cy=\"681.402\" r=\"14\"/>\n",
       "<circle clip-path=\"url(#clip4102)\" style=\"fill:#000000; stroke:none; fill-opacity:1\" cx=\"1233.56\" cy=\"1359.98\" r=\"18\"/>\n",
       "<circle clip-path=\"url(#clip4102)\" style=\"fill:#009af9; stroke:none; fill-opacity:1\" cx=\"1233.56\" cy=\"1359.98\" r=\"14\"/>\n",
       "<circle clip-path=\"url(#clip4102)\" style=\"fill:#000000; stroke:none; fill-opacity:1\" cx=\"1235.61\" cy=\"1235.86\" r=\"18\"/>\n",
       "<circle clip-path=\"url(#clip4102)\" style=\"fill:#009af9; stroke:none; fill-opacity:1\" cx=\"1235.61\" cy=\"1235.86\" r=\"14\"/>\n",
       "<circle clip-path=\"url(#clip4102)\" style=\"fill:#000000; stroke:none; fill-opacity:1\" cx=\"1237.66\" cy=\"1156.73\" r=\"18\"/>\n",
       "<circle clip-path=\"url(#clip4102)\" style=\"fill:#009af9; stroke:none; fill-opacity:1\" cx=\"1237.66\" cy=\"1156.73\" r=\"14\"/>\n",
       "<circle clip-path=\"url(#clip4102)\" style=\"fill:#000000; stroke:none; fill-opacity:1\" cx=\"1239.71\" cy=\"275.022\" r=\"18\"/>\n",
       "<circle clip-path=\"url(#clip4102)\" style=\"fill:#009af9; stroke:none; fill-opacity:1\" cx=\"1239.71\" cy=\"275.022\" r=\"14\"/>\n",
       "<circle clip-path=\"url(#clip4102)\" style=\"fill:#000000; stroke:none; fill-opacity:1\" cx=\"1241.76\" cy=\"1415.38\" r=\"18\"/>\n",
       "<circle clip-path=\"url(#clip4102)\" style=\"fill:#009af9; stroke:none; fill-opacity:1\" cx=\"1241.76\" cy=\"1415.38\" r=\"14\"/>\n",
       "<circle clip-path=\"url(#clip4102)\" style=\"fill:#000000; stroke:none; fill-opacity:1\" cx=\"1243.81\" cy=\"1126.16\" r=\"18\"/>\n",
       "<circle clip-path=\"url(#clip4102)\" style=\"fill:#009af9; stroke:none; fill-opacity:1\" cx=\"1243.81\" cy=\"1126.16\" r=\"14\"/>\n",
       "<circle clip-path=\"url(#clip4102)\" style=\"fill:#000000; stroke:none; fill-opacity:1\" cx=\"1245.86\" cy=\"1088.15\" r=\"18\"/>\n",
       "<circle clip-path=\"url(#clip4102)\" style=\"fill:#009af9; stroke:none; fill-opacity:1\" cx=\"1245.86\" cy=\"1088.15\" r=\"14\"/>\n",
       "<circle clip-path=\"url(#clip4102)\" style=\"fill:#000000; stroke:none; fill-opacity:1\" cx=\"1247.91\" cy=\"241.125\" r=\"18\"/>\n",
       "<circle clip-path=\"url(#clip4102)\" style=\"fill:#009af9; stroke:none; fill-opacity:1\" cx=\"1247.91\" cy=\"241.125\" r=\"14\"/>\n",
       "<circle clip-path=\"url(#clip4102)\" style=\"fill:#000000; stroke:none; fill-opacity:1\" cx=\"1249.96\" cy=\"226.703\" r=\"18\"/>\n",
       "<circle clip-path=\"url(#clip4102)\" style=\"fill:#009af9; stroke:none; fill-opacity:1\" cx=\"1249.96\" cy=\"226.703\" r=\"14\"/>\n",
       "<circle clip-path=\"url(#clip4102)\" style=\"fill:#000000; stroke:none; fill-opacity:1\" cx=\"1252.01\" cy=\"1359.35\" r=\"18\"/>\n",
       "<circle clip-path=\"url(#clip4102)\" style=\"fill:#009af9; stroke:none; fill-opacity:1\" cx=\"1252.01\" cy=\"1359.35\" r=\"14\"/>\n",
       "<circle clip-path=\"url(#clip4102)\" style=\"fill:#000000; stroke:none; fill-opacity:1\" cx=\"1254.06\" cy=\"642.23\" r=\"18\"/>\n",
       "<circle clip-path=\"url(#clip4102)\" style=\"fill:#009af9; stroke:none; fill-opacity:1\" cx=\"1254.06\" cy=\"642.23\" r=\"14\"/>\n",
       "<circle clip-path=\"url(#clip4102)\" style=\"fill:#000000; stroke:none; fill-opacity:1\" cx=\"1256.11\" cy=\"1136.14\" r=\"18\"/>\n",
       "<circle clip-path=\"url(#clip4102)\" style=\"fill:#009af9; stroke:none; fill-opacity:1\" cx=\"1256.11\" cy=\"1136.14\" r=\"14\"/>\n",
       "<circle clip-path=\"url(#clip4102)\" style=\"fill:#000000; stroke:none; fill-opacity:1\" cx=\"1258.16\" cy=\"805.439\" r=\"18\"/>\n",
       "<circle clip-path=\"url(#clip4102)\" style=\"fill:#009af9; stroke:none; fill-opacity:1\" cx=\"1258.16\" cy=\"805.439\" r=\"14\"/>\n",
       "<circle clip-path=\"url(#clip4102)\" style=\"fill:#000000; stroke:none; fill-opacity:1\" cx=\"1260.21\" cy=\"395.522\" r=\"18\"/>\n",
       "<circle clip-path=\"url(#clip4102)\" style=\"fill:#009af9; stroke:none; fill-opacity:1\" cx=\"1260.21\" cy=\"395.522\" r=\"14\"/>\n",
       "<circle clip-path=\"url(#clip4102)\" style=\"fill:#000000; stroke:none; fill-opacity:1\" cx=\"1262.26\" cy=\"869.895\" r=\"18\"/>\n",
       "<circle clip-path=\"url(#clip4102)\" style=\"fill:#009af9; stroke:none; fill-opacity:1\" cx=\"1262.26\" cy=\"869.895\" r=\"14\"/>\n",
       "<circle clip-path=\"url(#clip4102)\" style=\"fill:#000000; stroke:none; fill-opacity:1\" cx=\"1264.31\" cy=\"319.936\" r=\"18\"/>\n",
       "<circle clip-path=\"url(#clip4102)\" style=\"fill:#009af9; stroke:none; fill-opacity:1\" cx=\"1264.31\" cy=\"319.936\" r=\"14\"/>\n",
       "<circle clip-path=\"url(#clip4102)\" style=\"fill:#000000; stroke:none; fill-opacity:1\" cx=\"1266.36\" cy=\"503.193\" r=\"18\"/>\n",
       "<circle clip-path=\"url(#clip4102)\" style=\"fill:#009af9; stroke:none; fill-opacity:1\" cx=\"1266.36\" cy=\"503.193\" r=\"14\"/>\n",
       "<circle clip-path=\"url(#clip4102)\" style=\"fill:#000000; stroke:none; fill-opacity:1\" cx=\"1268.41\" cy=\"1156.71\" r=\"18\"/>\n",
       "<circle clip-path=\"url(#clip4102)\" style=\"fill:#009af9; stroke:none; fill-opacity:1\" cx=\"1268.41\" cy=\"1156.71\" r=\"14\"/>\n",
       "<circle clip-path=\"url(#clip4102)\" style=\"fill:#000000; stroke:none; fill-opacity:1\" cx=\"1270.46\" cy=\"313.877\" r=\"18\"/>\n",
       "<circle clip-path=\"url(#clip4102)\" style=\"fill:#009af9; stroke:none; fill-opacity:1\" cx=\"1270.46\" cy=\"313.877\" r=\"14\"/>\n",
       "<circle clip-path=\"url(#clip4102)\" style=\"fill:#000000; stroke:none; fill-opacity:1\" cx=\"1272.51\" cy=\"808.373\" r=\"18\"/>\n",
       "<circle clip-path=\"url(#clip4102)\" style=\"fill:#009af9; stroke:none; fill-opacity:1\" cx=\"1272.51\" cy=\"808.373\" r=\"14\"/>\n",
       "<circle clip-path=\"url(#clip4102)\" style=\"fill:#000000; stroke:none; fill-opacity:1\" cx=\"1274.56\" cy=\"126.795\" r=\"18\"/>\n",
       "<circle clip-path=\"url(#clip4102)\" style=\"fill:#009af9; stroke:none; fill-opacity:1\" cx=\"1274.56\" cy=\"126.795\" r=\"14\"/>\n",
       "<circle clip-path=\"url(#clip4102)\" style=\"fill:#000000; stroke:none; fill-opacity:1\" cx=\"1276.61\" cy=\"876.995\" r=\"18\"/>\n",
       "<circle clip-path=\"url(#clip4102)\" style=\"fill:#009af9; stroke:none; fill-opacity:1\" cx=\"1276.61\" cy=\"876.995\" r=\"14\"/>\n",
       "<circle clip-path=\"url(#clip4102)\" style=\"fill:#000000; stroke:none; fill-opacity:1\" cx=\"1278.66\" cy=\"1029.51\" r=\"18\"/>\n",
       "<circle clip-path=\"url(#clip4102)\" style=\"fill:#009af9; stroke:none; fill-opacity:1\" cx=\"1278.66\" cy=\"1029.51\" r=\"14\"/>\n",
       "<circle clip-path=\"url(#clip4102)\" style=\"fill:#000000; stroke:none; fill-opacity:1\" cx=\"1280.71\" cy=\"973.292\" r=\"18\"/>\n",
       "<circle clip-path=\"url(#clip4102)\" style=\"fill:#009af9; stroke:none; fill-opacity:1\" cx=\"1280.71\" cy=\"973.292\" r=\"14\"/>\n",
       "<circle clip-path=\"url(#clip4102)\" style=\"fill:#000000; stroke:none; fill-opacity:1\" cx=\"1282.76\" cy=\"430.001\" r=\"18\"/>\n",
       "<circle clip-path=\"url(#clip4102)\" style=\"fill:#009af9; stroke:none; fill-opacity:1\" cx=\"1282.76\" cy=\"430.001\" r=\"14\"/>\n",
       "<circle clip-path=\"url(#clip4102)\" style=\"fill:#000000; stroke:none; fill-opacity:1\" cx=\"1284.81\" cy=\"498.296\" r=\"18\"/>\n",
       "<circle clip-path=\"url(#clip4102)\" style=\"fill:#009af9; stroke:none; fill-opacity:1\" cx=\"1284.81\" cy=\"498.296\" r=\"14\"/>\n",
       "<circle clip-path=\"url(#clip4102)\" style=\"fill:#000000; stroke:none; fill-opacity:1\" cx=\"1286.86\" cy=\"1140.19\" r=\"18\"/>\n",
       "<circle clip-path=\"url(#clip4102)\" style=\"fill:#009af9; stroke:none; fill-opacity:1\" cx=\"1286.86\" cy=\"1140.19\" r=\"14\"/>\n",
       "<circle clip-path=\"url(#clip4102)\" style=\"fill:#000000; stroke:none; fill-opacity:1\" cx=\"1288.91\" cy=\"319.76\" r=\"18\"/>\n",
       "<circle clip-path=\"url(#clip4102)\" style=\"fill:#009af9; stroke:none; fill-opacity:1\" cx=\"1288.91\" cy=\"319.76\" r=\"14\"/>\n",
       "<circle clip-path=\"url(#clip4102)\" style=\"fill:#000000; stroke:none; fill-opacity:1\" cx=\"1290.96\" cy=\"1055.2\" r=\"18\"/>\n",
       "<circle clip-path=\"url(#clip4102)\" style=\"fill:#009af9; stroke:none; fill-opacity:1\" cx=\"1290.96\" cy=\"1055.2\" r=\"14\"/>\n",
       "<circle clip-path=\"url(#clip4102)\" style=\"fill:#000000; stroke:none; fill-opacity:1\" cx=\"1293.01\" cy=\"337.568\" r=\"18\"/>\n",
       "<circle clip-path=\"url(#clip4102)\" style=\"fill:#009af9; stroke:none; fill-opacity:1\" cx=\"1293.01\" cy=\"337.568\" r=\"14\"/>\n",
       "<circle clip-path=\"url(#clip4102)\" style=\"fill:#000000; stroke:none; fill-opacity:1\" cx=\"1295.06\" cy=\"266.299\" r=\"18\"/>\n",
       "<circle clip-path=\"url(#clip4102)\" style=\"fill:#009af9; stroke:none; fill-opacity:1\" cx=\"1295.06\" cy=\"266.299\" r=\"14\"/>\n",
       "<circle clip-path=\"url(#clip4102)\" style=\"fill:#000000; stroke:none; fill-opacity:1\" cx=\"1297.11\" cy=\"625.391\" r=\"18\"/>\n",
       "<circle clip-path=\"url(#clip4102)\" style=\"fill:#009af9; stroke:none; fill-opacity:1\" cx=\"1297.11\" cy=\"625.391\" r=\"14\"/>\n",
       "<circle clip-path=\"url(#clip4102)\" style=\"fill:#000000; stroke:none; fill-opacity:1\" cx=\"1299.16\" cy=\"1373.24\" r=\"18\"/>\n",
       "<circle clip-path=\"url(#clip4102)\" style=\"fill:#009af9; stroke:none; fill-opacity:1\" cx=\"1299.16\" cy=\"1373.24\" r=\"14\"/>\n",
       "<circle clip-path=\"url(#clip4102)\" style=\"fill:#000000; stroke:none; fill-opacity:1\" cx=\"1301.21\" cy=\"1166.11\" r=\"18\"/>\n",
       "<circle clip-path=\"url(#clip4102)\" style=\"fill:#009af9; stroke:none; fill-opacity:1\" cx=\"1301.21\" cy=\"1166.11\" r=\"14\"/>\n",
       "<circle clip-path=\"url(#clip4102)\" style=\"fill:#000000; stroke:none; fill-opacity:1\" cx=\"1303.26\" cy=\"944.486\" r=\"18\"/>\n",
       "<circle clip-path=\"url(#clip4102)\" style=\"fill:#009af9; stroke:none; fill-opacity:1\" cx=\"1303.26\" cy=\"944.486\" r=\"14\"/>\n",
       "<circle clip-path=\"url(#clip4102)\" style=\"fill:#000000; stroke:none; fill-opacity:1\" cx=\"1305.31\" cy=\"89.7152\" r=\"18\"/>\n",
       "<circle clip-path=\"url(#clip4102)\" style=\"fill:#009af9; stroke:none; fill-opacity:1\" cx=\"1305.31\" cy=\"89.7152\" r=\"14\"/>\n",
       "<circle clip-path=\"url(#clip4102)\" style=\"fill:#000000; stroke:none; fill-opacity:1\" cx=\"1307.36\" cy=\"112.998\" r=\"18\"/>\n",
       "<circle clip-path=\"url(#clip4102)\" style=\"fill:#009af9; stroke:none; fill-opacity:1\" cx=\"1307.36\" cy=\"112.998\" r=\"14\"/>\n",
       "<circle clip-path=\"url(#clip4102)\" style=\"fill:#000000; stroke:none; fill-opacity:1\" cx=\"1309.41\" cy=\"200.584\" r=\"18\"/>\n",
       "<circle clip-path=\"url(#clip4102)\" style=\"fill:#009af9; stroke:none; fill-opacity:1\" cx=\"1309.41\" cy=\"200.584\" r=\"14\"/>\n",
       "<circle clip-path=\"url(#clip4102)\" style=\"fill:#000000; stroke:none; fill-opacity:1\" cx=\"1311.46\" cy=\"204.024\" r=\"18\"/>\n",
       "<circle clip-path=\"url(#clip4102)\" style=\"fill:#009af9; stroke:none; fill-opacity:1\" cx=\"1311.46\" cy=\"204.024\" r=\"14\"/>\n",
       "<circle clip-path=\"url(#clip4102)\" style=\"fill:#000000; stroke:none; fill-opacity:1\" cx=\"1313.51\" cy=\"1065\" r=\"18\"/>\n",
       "<circle clip-path=\"url(#clip4102)\" style=\"fill:#009af9; stroke:none; fill-opacity:1\" cx=\"1313.51\" cy=\"1065\" r=\"14\"/>\n",
       "<circle clip-path=\"url(#clip4102)\" style=\"fill:#000000; stroke:none; fill-opacity:1\" cx=\"1315.56\" cy=\"1312.97\" r=\"18\"/>\n",
       "<circle clip-path=\"url(#clip4102)\" style=\"fill:#009af9; stroke:none; fill-opacity:1\" cx=\"1315.56\" cy=\"1312.97\" r=\"14\"/>\n",
       "<circle clip-path=\"url(#clip4102)\" style=\"fill:#000000; stroke:none; fill-opacity:1\" cx=\"1317.61\" cy=\"866.561\" r=\"18\"/>\n",
       "<circle clip-path=\"url(#clip4102)\" style=\"fill:#009af9; stroke:none; fill-opacity:1\" cx=\"1317.61\" cy=\"866.561\" r=\"14\"/>\n",
       "<circle clip-path=\"url(#clip4102)\" style=\"fill:#000000; stroke:none; fill-opacity:1\" cx=\"1319.66\" cy=\"375.09\" r=\"18\"/>\n",
       "<circle clip-path=\"url(#clip4102)\" style=\"fill:#009af9; stroke:none; fill-opacity:1\" cx=\"1319.66\" cy=\"375.09\" r=\"14\"/>\n",
       "<circle clip-path=\"url(#clip4102)\" style=\"fill:#000000; stroke:none; fill-opacity:1\" cx=\"1321.71\" cy=\"1083.05\" r=\"18\"/>\n",
       "<circle clip-path=\"url(#clip4102)\" style=\"fill:#009af9; stroke:none; fill-opacity:1\" cx=\"1321.71\" cy=\"1083.05\" r=\"14\"/>\n",
       "<circle clip-path=\"url(#clip4102)\" style=\"fill:#000000; stroke:none; fill-opacity:1\" cx=\"1323.75\" cy=\"1234.46\" r=\"18\"/>\n",
       "<circle clip-path=\"url(#clip4102)\" style=\"fill:#009af9; stroke:none; fill-opacity:1\" cx=\"1323.75\" cy=\"1234.46\" r=\"14\"/>\n",
       "<circle clip-path=\"url(#clip4102)\" style=\"fill:#000000; stroke:none; fill-opacity:1\" cx=\"1325.8\" cy=\"1029.78\" r=\"18\"/>\n",
       "<circle clip-path=\"url(#clip4102)\" style=\"fill:#009af9; stroke:none; fill-opacity:1\" cx=\"1325.8\" cy=\"1029.78\" r=\"14\"/>\n",
       "<circle clip-path=\"url(#clip4102)\" style=\"fill:#000000; stroke:none; fill-opacity:1\" cx=\"1327.85\" cy=\"395.694\" r=\"18\"/>\n",
       "<circle clip-path=\"url(#clip4102)\" style=\"fill:#009af9; stroke:none; fill-opacity:1\" cx=\"1327.85\" cy=\"395.694\" r=\"14\"/>\n",
       "<circle clip-path=\"url(#clip4102)\" style=\"fill:#000000; stroke:none; fill-opacity:1\" cx=\"1329.9\" cy=\"580.744\" r=\"18\"/>\n",
       "<circle clip-path=\"url(#clip4102)\" style=\"fill:#009af9; stroke:none; fill-opacity:1\" cx=\"1329.9\" cy=\"580.744\" r=\"14\"/>\n",
       "<circle clip-path=\"url(#clip4102)\" style=\"fill:#000000; stroke:none; fill-opacity:1\" cx=\"1331.95\" cy=\"1100.96\" r=\"18\"/>\n",
       "<circle clip-path=\"url(#clip4102)\" style=\"fill:#009af9; stroke:none; fill-opacity:1\" cx=\"1331.95\" cy=\"1100.96\" r=\"14\"/>\n",
       "<circle clip-path=\"url(#clip4102)\" style=\"fill:#000000; stroke:none; fill-opacity:1\" cx=\"1334\" cy=\"1215.49\" r=\"18\"/>\n",
       "<circle clip-path=\"url(#clip4102)\" style=\"fill:#009af9; stroke:none; fill-opacity:1\" cx=\"1334\" cy=\"1215.49\" r=\"14\"/>\n",
       "<circle clip-path=\"url(#clip4102)\" style=\"fill:#000000; stroke:none; fill-opacity:1\" cx=\"1336.05\" cy=\"630.319\" r=\"18\"/>\n",
       "<circle clip-path=\"url(#clip4102)\" style=\"fill:#009af9; stroke:none; fill-opacity:1\" cx=\"1336.05\" cy=\"630.319\" r=\"14\"/>\n",
       "<circle clip-path=\"url(#clip4102)\" style=\"fill:#000000; stroke:none; fill-opacity:1\" cx=\"1338.1\" cy=\"910.61\" r=\"18\"/>\n",
       "<circle clip-path=\"url(#clip4102)\" style=\"fill:#009af9; stroke:none; fill-opacity:1\" cx=\"1338.1\" cy=\"910.61\" r=\"14\"/>\n",
       "<circle clip-path=\"url(#clip4102)\" style=\"fill:#000000; stroke:none; fill-opacity:1\" cx=\"1340.15\" cy=\"1218.04\" r=\"18\"/>\n",
       "<circle clip-path=\"url(#clip4102)\" style=\"fill:#009af9; stroke:none; fill-opacity:1\" cx=\"1340.15\" cy=\"1218.04\" r=\"14\"/>\n",
       "<circle clip-path=\"url(#clip4102)\" style=\"fill:#000000; stroke:none; fill-opacity:1\" cx=\"1342.2\" cy=\"858.563\" r=\"18\"/>\n",
       "<circle clip-path=\"url(#clip4102)\" style=\"fill:#009af9; stroke:none; fill-opacity:1\" cx=\"1342.2\" cy=\"858.563\" r=\"14\"/>\n",
       "<circle clip-path=\"url(#clip4102)\" style=\"fill:#000000; stroke:none; fill-opacity:1\" cx=\"1344.25\" cy=\"1035.77\" r=\"18\"/>\n",
       "<circle clip-path=\"url(#clip4102)\" style=\"fill:#009af9; stroke:none; fill-opacity:1\" cx=\"1344.25\" cy=\"1035.77\" r=\"14\"/>\n",
       "<circle clip-path=\"url(#clip4102)\" style=\"fill:#000000; stroke:none; fill-opacity:1\" cx=\"1346.3\" cy=\"486.648\" r=\"18\"/>\n",
       "<circle clip-path=\"url(#clip4102)\" style=\"fill:#009af9; stroke:none; fill-opacity:1\" cx=\"1346.3\" cy=\"486.648\" r=\"14\"/>\n",
       "<circle clip-path=\"url(#clip4102)\" style=\"fill:#000000; stroke:none; fill-opacity:1\" cx=\"1348.35\" cy=\"505.738\" r=\"18\"/>\n",
       "<circle clip-path=\"url(#clip4102)\" style=\"fill:#009af9; stroke:none; fill-opacity:1\" cx=\"1348.35\" cy=\"505.738\" r=\"14\"/>\n",
       "<circle clip-path=\"url(#clip4102)\" style=\"fill:#000000; stroke:none; fill-opacity:1\" cx=\"1350.4\" cy=\"167.754\" r=\"18\"/>\n",
       "<circle clip-path=\"url(#clip4102)\" style=\"fill:#009af9; stroke:none; fill-opacity:1\" cx=\"1350.4\" cy=\"167.754\" r=\"14\"/>\n",
       "<circle clip-path=\"url(#clip4102)\" style=\"fill:#000000; stroke:none; fill-opacity:1\" cx=\"1352.45\" cy=\"145.377\" r=\"18\"/>\n",
       "<circle clip-path=\"url(#clip4102)\" style=\"fill:#009af9; stroke:none; fill-opacity:1\" cx=\"1352.45\" cy=\"145.377\" r=\"14\"/>\n",
       "<circle clip-path=\"url(#clip4102)\" style=\"fill:#000000; stroke:none; fill-opacity:1\" cx=\"1354.5\" cy=\"476.884\" r=\"18\"/>\n",
       "<circle clip-path=\"url(#clip4102)\" style=\"fill:#009af9; stroke:none; fill-opacity:1\" cx=\"1354.5\" cy=\"476.884\" r=\"14\"/>\n",
       "<circle clip-path=\"url(#clip4102)\" style=\"fill:#000000; stroke:none; fill-opacity:1\" cx=\"1356.55\" cy=\"1388.2\" r=\"18\"/>\n",
       "<circle clip-path=\"url(#clip4102)\" style=\"fill:#009af9; stroke:none; fill-opacity:1\" cx=\"1356.55\" cy=\"1388.2\" r=\"14\"/>\n",
       "<circle clip-path=\"url(#clip4102)\" style=\"fill:#000000; stroke:none; fill-opacity:1\" cx=\"1358.6\" cy=\"654.265\" r=\"18\"/>\n",
       "<circle clip-path=\"url(#clip4102)\" style=\"fill:#009af9; stroke:none; fill-opacity:1\" cx=\"1358.6\" cy=\"654.265\" r=\"14\"/>\n",
       "<circle clip-path=\"url(#clip4102)\" style=\"fill:#000000; stroke:none; fill-opacity:1\" cx=\"1360.65\" cy=\"518.97\" r=\"18\"/>\n",
       "<circle clip-path=\"url(#clip4102)\" style=\"fill:#009af9; stroke:none; fill-opacity:1\" cx=\"1360.65\" cy=\"518.97\" r=\"14\"/>\n",
       "<circle clip-path=\"url(#clip4102)\" style=\"fill:#000000; stroke:none; fill-opacity:1\" cx=\"1362.7\" cy=\"230.965\" r=\"18\"/>\n",
       "<circle clip-path=\"url(#clip4102)\" style=\"fill:#009af9; stroke:none; fill-opacity:1\" cx=\"1362.7\" cy=\"230.965\" r=\"14\"/>\n",
       "<circle clip-path=\"url(#clip4102)\" style=\"fill:#000000; stroke:none; fill-opacity:1\" cx=\"1364.75\" cy=\"730.519\" r=\"18\"/>\n",
       "<circle clip-path=\"url(#clip4102)\" style=\"fill:#009af9; stroke:none; fill-opacity:1\" cx=\"1364.75\" cy=\"730.519\" r=\"14\"/>\n",
       "<circle clip-path=\"url(#clip4102)\" style=\"fill:#000000; stroke:none; fill-opacity:1\" cx=\"1366.8\" cy=\"103.447\" r=\"18\"/>\n",
       "<circle clip-path=\"url(#clip4102)\" style=\"fill:#009af9; stroke:none; fill-opacity:1\" cx=\"1366.8\" cy=\"103.447\" r=\"14\"/>\n",
       "<circle clip-path=\"url(#clip4102)\" style=\"fill:#000000; stroke:none; fill-opacity:1\" cx=\"1368.85\" cy=\"651.4\" r=\"18\"/>\n",
       "<circle clip-path=\"url(#clip4102)\" style=\"fill:#009af9; stroke:none; fill-opacity:1\" cx=\"1368.85\" cy=\"651.4\" r=\"14\"/>\n",
       "<circle clip-path=\"url(#clip4102)\" style=\"fill:#000000; stroke:none; fill-opacity:1\" cx=\"1370.9\" cy=\"940.212\" r=\"18\"/>\n",
       "<circle clip-path=\"url(#clip4102)\" style=\"fill:#009af9; stroke:none; fill-opacity:1\" cx=\"1370.9\" cy=\"940.212\" r=\"14\"/>\n",
       "<circle clip-path=\"url(#clip4102)\" style=\"fill:#000000; stroke:none; fill-opacity:1\" cx=\"1372.95\" cy=\"1381.87\" r=\"18\"/>\n",
       "<circle clip-path=\"url(#clip4102)\" style=\"fill:#009af9; stroke:none; fill-opacity:1\" cx=\"1372.95\" cy=\"1381.87\" r=\"14\"/>\n",
       "<circle clip-path=\"url(#clip4102)\" style=\"fill:#000000; stroke:none; fill-opacity:1\" cx=\"1375\" cy=\"899.391\" r=\"18\"/>\n",
       "<circle clip-path=\"url(#clip4102)\" style=\"fill:#009af9; stroke:none; fill-opacity:1\" cx=\"1375\" cy=\"899.391\" r=\"14\"/>\n",
       "<circle clip-path=\"url(#clip4102)\" style=\"fill:#000000; stroke:none; fill-opacity:1\" cx=\"1377.05\" cy=\"1215.55\" r=\"18\"/>\n",
       "<circle clip-path=\"url(#clip4102)\" style=\"fill:#009af9; stroke:none; fill-opacity:1\" cx=\"1377.05\" cy=\"1215.55\" r=\"14\"/>\n",
       "<circle clip-path=\"url(#clip4102)\" style=\"fill:#000000; stroke:none; fill-opacity:1\" cx=\"1379.1\" cy=\"400.015\" r=\"18\"/>\n",
       "<circle clip-path=\"url(#clip4102)\" style=\"fill:#009af9; stroke:none; fill-opacity:1\" cx=\"1379.1\" cy=\"400.015\" r=\"14\"/>\n",
       "<circle clip-path=\"url(#clip4102)\" style=\"fill:#000000; stroke:none; fill-opacity:1\" cx=\"1381.15\" cy=\"610.423\" r=\"18\"/>\n",
       "<circle clip-path=\"url(#clip4102)\" style=\"fill:#009af9; stroke:none; fill-opacity:1\" cx=\"1381.15\" cy=\"610.423\" r=\"14\"/>\n",
       "<circle clip-path=\"url(#clip4102)\" style=\"fill:#000000; stroke:none; fill-opacity:1\" cx=\"1383.2\" cy=\"1422.36\" r=\"18\"/>\n",
       "<circle clip-path=\"url(#clip4102)\" style=\"fill:#009af9; stroke:none; fill-opacity:1\" cx=\"1383.2\" cy=\"1422.36\" r=\"14\"/>\n",
       "<circle clip-path=\"url(#clip4102)\" style=\"fill:#000000; stroke:none; fill-opacity:1\" cx=\"1385.25\" cy=\"1182.05\" r=\"18\"/>\n",
       "<circle clip-path=\"url(#clip4102)\" style=\"fill:#009af9; stroke:none; fill-opacity:1\" cx=\"1385.25\" cy=\"1182.05\" r=\"14\"/>\n",
       "<circle clip-path=\"url(#clip4102)\" style=\"fill:#000000; stroke:none; fill-opacity:1\" cx=\"1387.3\" cy=\"298.128\" r=\"18\"/>\n",
       "<circle clip-path=\"url(#clip4102)\" style=\"fill:#009af9; stroke:none; fill-opacity:1\" cx=\"1387.3\" cy=\"298.128\" r=\"14\"/>\n",
       "<circle clip-path=\"url(#clip4102)\" style=\"fill:#000000; stroke:none; fill-opacity:1\" cx=\"1389.35\" cy=\"1072.42\" r=\"18\"/>\n",
       "<circle clip-path=\"url(#clip4102)\" style=\"fill:#009af9; stroke:none; fill-opacity:1\" cx=\"1389.35\" cy=\"1072.42\" r=\"14\"/>\n",
       "<circle clip-path=\"url(#clip4102)\" style=\"fill:#000000; stroke:none; fill-opacity:1\" cx=\"1391.4\" cy=\"103.987\" r=\"18\"/>\n",
       "<circle clip-path=\"url(#clip4102)\" style=\"fill:#009af9; stroke:none; fill-opacity:1\" cx=\"1391.4\" cy=\"103.987\" r=\"14\"/>\n",
       "<circle clip-path=\"url(#clip4102)\" style=\"fill:#000000; stroke:none; fill-opacity:1\" cx=\"1393.45\" cy=\"547.007\" r=\"18\"/>\n",
       "<circle clip-path=\"url(#clip4102)\" style=\"fill:#009af9; stroke:none; fill-opacity:1\" cx=\"1393.45\" cy=\"547.007\" r=\"14\"/>\n",
       "<circle clip-path=\"url(#clip4102)\" style=\"fill:#000000; stroke:none; fill-opacity:1\" cx=\"1395.5\" cy=\"1332.83\" r=\"18\"/>\n",
       "<circle clip-path=\"url(#clip4102)\" style=\"fill:#009af9; stroke:none; fill-opacity:1\" cx=\"1395.5\" cy=\"1332.83\" r=\"14\"/>\n",
       "<circle clip-path=\"url(#clip4102)\" style=\"fill:#000000; stroke:none; fill-opacity:1\" cx=\"1397.55\" cy=\"552.982\" r=\"18\"/>\n",
       "<circle clip-path=\"url(#clip4102)\" style=\"fill:#009af9; stroke:none; fill-opacity:1\" cx=\"1397.55\" cy=\"552.982\" r=\"14\"/>\n",
       "<circle clip-path=\"url(#clip4102)\" style=\"fill:#000000; stroke:none; fill-opacity:1\" cx=\"1399.6\" cy=\"1360.78\" r=\"18\"/>\n",
       "<circle clip-path=\"url(#clip4102)\" style=\"fill:#009af9; stroke:none; fill-opacity:1\" cx=\"1399.6\" cy=\"1360.78\" r=\"14\"/>\n",
       "<circle clip-path=\"url(#clip4102)\" style=\"fill:#000000; stroke:none; fill-opacity:1\" cx=\"1401.65\" cy=\"1206.38\" r=\"18\"/>\n",
       "<circle clip-path=\"url(#clip4102)\" style=\"fill:#009af9; stroke:none; fill-opacity:1\" cx=\"1401.65\" cy=\"1206.38\" r=\"14\"/>\n",
       "<circle clip-path=\"url(#clip4102)\" style=\"fill:#000000; stroke:none; fill-opacity:1\" cx=\"1403.7\" cy=\"1375.09\" r=\"18\"/>\n",
       "<circle clip-path=\"url(#clip4102)\" style=\"fill:#009af9; stroke:none; fill-opacity:1\" cx=\"1403.7\" cy=\"1375.09\" r=\"14\"/>\n",
       "<circle clip-path=\"url(#clip4102)\" style=\"fill:#000000; stroke:none; fill-opacity:1\" cx=\"1405.75\" cy=\"959.666\" r=\"18\"/>\n",
       "<circle clip-path=\"url(#clip4102)\" style=\"fill:#009af9; stroke:none; fill-opacity:1\" cx=\"1405.75\" cy=\"959.666\" r=\"14\"/>\n",
       "<circle clip-path=\"url(#clip4102)\" style=\"fill:#000000; stroke:none; fill-opacity:1\" cx=\"1407.8\" cy=\"273.273\" r=\"18\"/>\n",
       "<circle clip-path=\"url(#clip4102)\" style=\"fill:#009af9; stroke:none; fill-opacity:1\" cx=\"1407.8\" cy=\"273.273\" r=\"14\"/>\n",
       "<circle clip-path=\"url(#clip4102)\" style=\"fill:#000000; stroke:none; fill-opacity:1\" cx=\"1409.85\" cy=\"780.128\" r=\"18\"/>\n",
       "<circle clip-path=\"url(#clip4102)\" style=\"fill:#009af9; stroke:none; fill-opacity:1\" cx=\"1409.85\" cy=\"780.128\" r=\"14\"/>\n",
       "<circle clip-path=\"url(#clip4102)\" style=\"fill:#000000; stroke:none; fill-opacity:1\" cx=\"1411.9\" cy=\"709.015\" r=\"18\"/>\n",
       "<circle clip-path=\"url(#clip4102)\" style=\"fill:#009af9; stroke:none; fill-opacity:1\" cx=\"1411.9\" cy=\"709.015\" r=\"14\"/>\n",
       "<circle clip-path=\"url(#clip4102)\" style=\"fill:#000000; stroke:none; fill-opacity:1\" cx=\"1413.95\" cy=\"1075.18\" r=\"18\"/>\n",
       "<circle clip-path=\"url(#clip4102)\" style=\"fill:#009af9; stroke:none; fill-opacity:1\" cx=\"1413.95\" cy=\"1075.18\" r=\"14\"/>\n",
       "<circle clip-path=\"url(#clip4102)\" style=\"fill:#000000; stroke:none; fill-opacity:1\" cx=\"1416\" cy=\"470.061\" r=\"18\"/>\n",
       "<circle clip-path=\"url(#clip4102)\" style=\"fill:#009af9; stroke:none; fill-opacity:1\" cx=\"1416\" cy=\"470.061\" r=\"14\"/>\n",
       "<circle clip-path=\"url(#clip4102)\" style=\"fill:#000000; stroke:none; fill-opacity:1\" cx=\"1418.05\" cy=\"1397.17\" r=\"18\"/>\n",
       "<circle clip-path=\"url(#clip4102)\" style=\"fill:#009af9; stroke:none; fill-opacity:1\" cx=\"1418.05\" cy=\"1397.17\" r=\"14\"/>\n",
       "<circle clip-path=\"url(#clip4102)\" style=\"fill:#000000; stroke:none; fill-opacity:1\" cx=\"1420.1\" cy=\"1100.5\" r=\"18\"/>\n",
       "<circle clip-path=\"url(#clip4102)\" style=\"fill:#009af9; stroke:none; fill-opacity:1\" cx=\"1420.1\" cy=\"1100.5\" r=\"14\"/>\n",
       "<circle clip-path=\"url(#clip4102)\" style=\"fill:#000000; stroke:none; fill-opacity:1\" cx=\"1422.15\" cy=\"187.355\" r=\"18\"/>\n",
       "<circle clip-path=\"url(#clip4102)\" style=\"fill:#009af9; stroke:none; fill-opacity:1\" cx=\"1422.15\" cy=\"187.355\" r=\"14\"/>\n",
       "<circle clip-path=\"url(#clip4102)\" style=\"fill:#000000; stroke:none; fill-opacity:1\" cx=\"1424.2\" cy=\"497.214\" r=\"18\"/>\n",
       "<circle clip-path=\"url(#clip4102)\" style=\"fill:#009af9; stroke:none; fill-opacity:1\" cx=\"1424.2\" cy=\"497.214\" r=\"14\"/>\n",
       "<circle clip-path=\"url(#clip4102)\" style=\"fill:#000000; stroke:none; fill-opacity:1\" cx=\"1426.25\" cy=\"517.541\" r=\"18\"/>\n",
       "<circle clip-path=\"url(#clip4102)\" style=\"fill:#009af9; stroke:none; fill-opacity:1\" cx=\"1426.25\" cy=\"517.541\" r=\"14\"/>\n",
       "<circle clip-path=\"url(#clip4102)\" style=\"fill:#000000; stroke:none; fill-opacity:1\" cx=\"1428.3\" cy=\"963.116\" r=\"18\"/>\n",
       "<circle clip-path=\"url(#clip4102)\" style=\"fill:#009af9; stroke:none; fill-opacity:1\" cx=\"1428.3\" cy=\"963.116\" r=\"14\"/>\n",
       "<circle clip-path=\"url(#clip4102)\" style=\"fill:#000000; stroke:none; fill-opacity:1\" cx=\"1430.35\" cy=\"909.949\" r=\"18\"/>\n",
       "<circle clip-path=\"url(#clip4102)\" style=\"fill:#009af9; stroke:none; fill-opacity:1\" cx=\"1430.35\" cy=\"909.949\" r=\"14\"/>\n",
       "<circle clip-path=\"url(#clip4102)\" style=\"fill:#000000; stroke:none; fill-opacity:1\" cx=\"1432.4\" cy=\"893.884\" r=\"18\"/>\n",
       "<circle clip-path=\"url(#clip4102)\" style=\"fill:#009af9; stroke:none; fill-opacity:1\" cx=\"1432.4\" cy=\"893.884\" r=\"14\"/>\n",
       "<circle clip-path=\"url(#clip4102)\" style=\"fill:#000000; stroke:none; fill-opacity:1\" cx=\"1434.45\" cy=\"1247.25\" r=\"18\"/>\n",
       "<circle clip-path=\"url(#clip4102)\" style=\"fill:#009af9; stroke:none; fill-opacity:1\" cx=\"1434.45\" cy=\"1247.25\" r=\"14\"/>\n",
       "<circle clip-path=\"url(#clip4102)\" style=\"fill:#000000; stroke:none; fill-opacity:1\" cx=\"1436.5\" cy=\"1308.99\" r=\"18\"/>\n",
       "<circle clip-path=\"url(#clip4102)\" style=\"fill:#009af9; stroke:none; fill-opacity:1\" cx=\"1436.5\" cy=\"1308.99\" r=\"14\"/>\n",
       "<circle clip-path=\"url(#clip4102)\" style=\"fill:#000000; stroke:none; fill-opacity:1\" cx=\"1438.55\" cy=\"652.103\" r=\"18\"/>\n",
       "<circle clip-path=\"url(#clip4102)\" style=\"fill:#009af9; stroke:none; fill-opacity:1\" cx=\"1438.55\" cy=\"652.103\" r=\"14\"/>\n",
       "<circle clip-path=\"url(#clip4102)\" style=\"fill:#000000; stroke:none; fill-opacity:1\" cx=\"1440.6\" cy=\"1005.38\" r=\"18\"/>\n",
       "<circle clip-path=\"url(#clip4102)\" style=\"fill:#009af9; stroke:none; fill-opacity:1\" cx=\"1440.6\" cy=\"1005.38\" r=\"14\"/>\n",
       "<circle clip-path=\"url(#clip4102)\" style=\"fill:#000000; stroke:none; fill-opacity:1\" cx=\"1442.65\" cy=\"1208.92\" r=\"18\"/>\n",
       "<circle clip-path=\"url(#clip4102)\" style=\"fill:#009af9; stroke:none; fill-opacity:1\" cx=\"1442.65\" cy=\"1208.92\" r=\"14\"/>\n",
       "<circle clip-path=\"url(#clip4102)\" style=\"fill:#000000; stroke:none; fill-opacity:1\" cx=\"1444.7\" cy=\"1280.59\" r=\"18\"/>\n",
       "<circle clip-path=\"url(#clip4102)\" style=\"fill:#009af9; stroke:none; fill-opacity:1\" cx=\"1444.7\" cy=\"1280.59\" r=\"14\"/>\n",
       "<circle clip-path=\"url(#clip4102)\" style=\"fill:#000000; stroke:none; fill-opacity:1\" cx=\"1446.75\" cy=\"812.899\" r=\"18\"/>\n",
       "<circle clip-path=\"url(#clip4102)\" style=\"fill:#009af9; stroke:none; fill-opacity:1\" cx=\"1446.75\" cy=\"812.899\" r=\"14\"/>\n",
       "<circle clip-path=\"url(#clip4102)\" style=\"fill:#000000; stroke:none; fill-opacity:1\" cx=\"1448.8\" cy=\"264.983\" r=\"18\"/>\n",
       "<circle clip-path=\"url(#clip4102)\" style=\"fill:#009af9; stroke:none; fill-opacity:1\" cx=\"1448.8\" cy=\"264.983\" r=\"14\"/>\n",
       "<circle clip-path=\"url(#clip4102)\" style=\"fill:#000000; stroke:none; fill-opacity:1\" cx=\"1450.85\" cy=\"575.224\" r=\"18\"/>\n",
       "<circle clip-path=\"url(#clip4102)\" style=\"fill:#009af9; stroke:none; fill-opacity:1\" cx=\"1450.85\" cy=\"575.224\" r=\"14\"/>\n",
       "<circle clip-path=\"url(#clip4102)\" style=\"fill:#000000; stroke:none; fill-opacity:1\" cx=\"1452.9\" cy=\"771.408\" r=\"18\"/>\n",
       "<circle clip-path=\"url(#clip4102)\" style=\"fill:#009af9; stroke:none; fill-opacity:1\" cx=\"1452.9\" cy=\"771.408\" r=\"14\"/>\n",
       "<circle clip-path=\"url(#clip4102)\" style=\"fill:#000000; stroke:none; fill-opacity:1\" cx=\"1454.95\" cy=\"1235.73\" r=\"18\"/>\n",
       "<circle clip-path=\"url(#clip4102)\" style=\"fill:#009af9; stroke:none; fill-opacity:1\" cx=\"1454.95\" cy=\"1235.73\" r=\"14\"/>\n",
       "<circle clip-path=\"url(#clip4102)\" style=\"fill:#000000; stroke:none; fill-opacity:1\" cx=\"1457\" cy=\"1223.98\" r=\"18\"/>\n",
       "<circle clip-path=\"url(#clip4102)\" style=\"fill:#009af9; stroke:none; fill-opacity:1\" cx=\"1457\" cy=\"1223.98\" r=\"14\"/>\n",
       "<circle clip-path=\"url(#clip4102)\" style=\"fill:#000000; stroke:none; fill-opacity:1\" cx=\"1459.05\" cy=\"257.178\" r=\"18\"/>\n",
       "<circle clip-path=\"url(#clip4102)\" style=\"fill:#009af9; stroke:none; fill-opacity:1\" cx=\"1459.05\" cy=\"257.178\" r=\"14\"/>\n",
       "<circle clip-path=\"url(#clip4102)\" style=\"fill:#000000; stroke:none; fill-opacity:1\" cx=\"1461.1\" cy=\"445.505\" r=\"18\"/>\n",
       "<circle clip-path=\"url(#clip4102)\" style=\"fill:#009af9; stroke:none; fill-opacity:1\" cx=\"1461.1\" cy=\"445.505\" r=\"14\"/>\n",
       "<circle clip-path=\"url(#clip4102)\" style=\"fill:#000000; stroke:none; fill-opacity:1\" cx=\"1463.15\" cy=\"155.365\" r=\"18\"/>\n",
       "<circle clip-path=\"url(#clip4102)\" style=\"fill:#009af9; stroke:none; fill-opacity:1\" cx=\"1463.15\" cy=\"155.365\" r=\"14\"/>\n",
       "<circle clip-path=\"url(#clip4102)\" style=\"fill:#000000; stroke:none; fill-opacity:1\" cx=\"1465.2\" cy=\"793.564\" r=\"18\"/>\n",
       "<circle clip-path=\"url(#clip4102)\" style=\"fill:#009af9; stroke:none; fill-opacity:1\" cx=\"1465.2\" cy=\"793.564\" r=\"14\"/>\n",
       "<circle clip-path=\"url(#clip4102)\" style=\"fill:#000000; stroke:none; fill-opacity:1\" cx=\"1467.25\" cy=\"366.994\" r=\"18\"/>\n",
       "<circle clip-path=\"url(#clip4102)\" style=\"fill:#009af9; stroke:none; fill-opacity:1\" cx=\"1467.25\" cy=\"366.994\" r=\"14\"/>\n",
       "<circle clip-path=\"url(#clip4102)\" style=\"fill:#000000; stroke:none; fill-opacity:1\" cx=\"1469.3\" cy=\"665.348\" r=\"18\"/>\n",
       "<circle clip-path=\"url(#clip4102)\" style=\"fill:#009af9; stroke:none; fill-opacity:1\" cx=\"1469.3\" cy=\"665.348\" r=\"14\"/>\n",
       "<circle clip-path=\"url(#clip4102)\" style=\"fill:#000000; stroke:none; fill-opacity:1\" cx=\"1471.35\" cy=\"1126.66\" r=\"18\"/>\n",
       "<circle clip-path=\"url(#clip4102)\" style=\"fill:#009af9; stroke:none; fill-opacity:1\" cx=\"1471.35\" cy=\"1126.66\" r=\"14\"/>\n",
       "<circle clip-path=\"url(#clip4102)\" style=\"fill:#000000; stroke:none; fill-opacity:1\" cx=\"1473.4\" cy=\"1047.8\" r=\"18\"/>\n",
       "<circle clip-path=\"url(#clip4102)\" style=\"fill:#009af9; stroke:none; fill-opacity:1\" cx=\"1473.4\" cy=\"1047.8\" r=\"14\"/>\n",
       "<circle clip-path=\"url(#clip4102)\" style=\"fill:#000000; stroke:none; fill-opacity:1\" cx=\"1475.45\" cy=\"676.48\" r=\"18\"/>\n",
       "<circle clip-path=\"url(#clip4102)\" style=\"fill:#009af9; stroke:none; fill-opacity:1\" cx=\"1475.45\" cy=\"676.48\" r=\"14\"/>\n",
       "<circle clip-path=\"url(#clip4102)\" style=\"fill:#000000; stroke:none; fill-opacity:1\" cx=\"1477.5\" cy=\"119.687\" r=\"18\"/>\n",
       "<circle clip-path=\"url(#clip4102)\" style=\"fill:#009af9; stroke:none; fill-opacity:1\" cx=\"1477.5\" cy=\"119.687\" r=\"14\"/>\n",
       "<circle clip-path=\"url(#clip4102)\" style=\"fill:#000000; stroke:none; fill-opacity:1\" cx=\"1479.55\" cy=\"312.402\" r=\"18\"/>\n",
       "<circle clip-path=\"url(#clip4102)\" style=\"fill:#009af9; stroke:none; fill-opacity:1\" cx=\"1479.55\" cy=\"312.402\" r=\"14\"/>\n",
       "<circle clip-path=\"url(#clip4102)\" style=\"fill:#000000; stroke:none; fill-opacity:1\" cx=\"1481.6\" cy=\"639.229\" r=\"18\"/>\n",
       "<circle clip-path=\"url(#clip4102)\" style=\"fill:#009af9; stroke:none; fill-opacity:1\" cx=\"1481.6\" cy=\"639.229\" r=\"14\"/>\n",
       "<circle clip-path=\"url(#clip4102)\" style=\"fill:#000000; stroke:none; fill-opacity:1\" cx=\"1483.65\" cy=\"249.307\" r=\"18\"/>\n",
       "<circle clip-path=\"url(#clip4102)\" style=\"fill:#009af9; stroke:none; fill-opacity:1\" cx=\"1483.65\" cy=\"249.307\" r=\"14\"/>\n",
       "<circle clip-path=\"url(#clip4102)\" style=\"fill:#000000; stroke:none; fill-opacity:1\" cx=\"1485.7\" cy=\"706.672\" r=\"18\"/>\n",
       "<circle clip-path=\"url(#clip4102)\" style=\"fill:#009af9; stroke:none; fill-opacity:1\" cx=\"1485.7\" cy=\"706.672\" r=\"14\"/>\n",
       "<circle clip-path=\"url(#clip4102)\" style=\"fill:#000000; stroke:none; fill-opacity:1\" cx=\"1487.75\" cy=\"489.675\" r=\"18\"/>\n",
       "<circle clip-path=\"url(#clip4102)\" style=\"fill:#009af9; stroke:none; fill-opacity:1\" cx=\"1487.75\" cy=\"489.675\" r=\"14\"/>\n",
       "<circle clip-path=\"url(#clip4102)\" style=\"fill:#000000; stroke:none; fill-opacity:1\" cx=\"1489.8\" cy=\"431.118\" r=\"18\"/>\n",
       "<circle clip-path=\"url(#clip4102)\" style=\"fill:#009af9; stroke:none; fill-opacity:1\" cx=\"1489.8\" cy=\"431.118\" r=\"14\"/>\n",
       "<circle clip-path=\"url(#clip4102)\" style=\"fill:#000000; stroke:none; fill-opacity:1\" cx=\"1491.85\" cy=\"803.604\" r=\"18\"/>\n",
       "<circle clip-path=\"url(#clip4102)\" style=\"fill:#009af9; stroke:none; fill-opacity:1\" cx=\"1491.85\" cy=\"803.604\" r=\"14\"/>\n",
       "<circle clip-path=\"url(#clip4102)\" style=\"fill:#000000; stroke:none; fill-opacity:1\" cx=\"1493.9\" cy=\"690.383\" r=\"18\"/>\n",
       "<circle clip-path=\"url(#clip4102)\" style=\"fill:#009af9; stroke:none; fill-opacity:1\" cx=\"1493.9\" cy=\"690.383\" r=\"14\"/>\n",
       "<circle clip-path=\"url(#clip4102)\" style=\"fill:#000000; stroke:none; fill-opacity:1\" cx=\"1495.95\" cy=\"566.867\" r=\"18\"/>\n",
       "<circle clip-path=\"url(#clip4102)\" style=\"fill:#009af9; stroke:none; fill-opacity:1\" cx=\"1495.95\" cy=\"566.867\" r=\"14\"/>\n",
       "<circle clip-path=\"url(#clip4102)\" style=\"fill:#000000; stroke:none; fill-opacity:1\" cx=\"1498\" cy=\"1190.99\" r=\"18\"/>\n",
       "<circle clip-path=\"url(#clip4102)\" style=\"fill:#009af9; stroke:none; fill-opacity:1\" cx=\"1498\" cy=\"1190.99\" r=\"14\"/>\n",
       "<circle clip-path=\"url(#clip4102)\" style=\"fill:#000000; stroke:none; fill-opacity:1\" cx=\"1500.05\" cy=\"1073.13\" r=\"18\"/>\n",
       "<circle clip-path=\"url(#clip4102)\" style=\"fill:#009af9; stroke:none; fill-opacity:1\" cx=\"1500.05\" cy=\"1073.13\" r=\"14\"/>\n",
       "<circle clip-path=\"url(#clip4102)\" style=\"fill:#000000; stroke:none; fill-opacity:1\" cx=\"1502.1\" cy=\"1370.18\" r=\"18\"/>\n",
       "<circle clip-path=\"url(#clip4102)\" style=\"fill:#009af9; stroke:none; fill-opacity:1\" cx=\"1502.1\" cy=\"1370.18\" r=\"14\"/>\n",
       "<circle clip-path=\"url(#clip4102)\" style=\"fill:#000000; stroke:none; fill-opacity:1\" cx=\"1504.15\" cy=\"1140.55\" r=\"18\"/>\n",
       "<circle clip-path=\"url(#clip4102)\" style=\"fill:#009af9; stroke:none; fill-opacity:1\" cx=\"1504.15\" cy=\"1140.55\" r=\"14\"/>\n",
       "<circle clip-path=\"url(#clip4102)\" style=\"fill:#000000; stroke:none; fill-opacity:1\" cx=\"1506.2\" cy=\"1207.4\" r=\"18\"/>\n",
       "<circle clip-path=\"url(#clip4102)\" style=\"fill:#009af9; stroke:none; fill-opacity:1\" cx=\"1506.2\" cy=\"1207.4\" r=\"14\"/>\n",
       "<circle clip-path=\"url(#clip4102)\" style=\"fill:#000000; stroke:none; fill-opacity:1\" cx=\"1508.25\" cy=\"860.328\" r=\"18\"/>\n",
       "<circle clip-path=\"url(#clip4102)\" style=\"fill:#009af9; stroke:none; fill-opacity:1\" cx=\"1508.25\" cy=\"860.328\" r=\"14\"/>\n",
       "<circle clip-path=\"url(#clip4102)\" style=\"fill:#000000; stroke:none; fill-opacity:1\" cx=\"1510.3\" cy=\"1369.42\" r=\"18\"/>\n",
       "<circle clip-path=\"url(#clip4102)\" style=\"fill:#009af9; stroke:none; fill-opacity:1\" cx=\"1510.3\" cy=\"1369.42\" r=\"14\"/>\n",
       "<circle clip-path=\"url(#clip4102)\" style=\"fill:#000000; stroke:none; fill-opacity:1\" cx=\"1512.35\" cy=\"1237.48\" r=\"18\"/>\n",
       "<circle clip-path=\"url(#clip4102)\" style=\"fill:#009af9; stroke:none; fill-opacity:1\" cx=\"1512.35\" cy=\"1237.48\" r=\"14\"/>\n",
       "<circle clip-path=\"url(#clip4102)\" style=\"fill:#000000; stroke:none; fill-opacity:1\" cx=\"1514.4\" cy=\"797.879\" r=\"18\"/>\n",
       "<circle clip-path=\"url(#clip4102)\" style=\"fill:#009af9; stroke:none; fill-opacity:1\" cx=\"1514.4\" cy=\"797.879\" r=\"14\"/>\n",
       "<circle clip-path=\"url(#clip4102)\" style=\"fill:#000000; stroke:none; fill-opacity:1\" cx=\"1516.45\" cy=\"252.183\" r=\"18\"/>\n",
       "<circle clip-path=\"url(#clip4102)\" style=\"fill:#009af9; stroke:none; fill-opacity:1\" cx=\"1516.45\" cy=\"252.183\" r=\"14\"/>\n",
       "<circle clip-path=\"url(#clip4102)\" style=\"fill:#000000; stroke:none; fill-opacity:1\" cx=\"1518.5\" cy=\"1025.83\" r=\"18\"/>\n",
       "<circle clip-path=\"url(#clip4102)\" style=\"fill:#009af9; stroke:none; fill-opacity:1\" cx=\"1518.5\" cy=\"1025.83\" r=\"14\"/>\n",
       "<circle clip-path=\"url(#clip4102)\" style=\"fill:#000000; stroke:none; fill-opacity:1\" cx=\"1520.55\" cy=\"784.565\" r=\"18\"/>\n",
       "<circle clip-path=\"url(#clip4102)\" style=\"fill:#009af9; stroke:none; fill-opacity:1\" cx=\"1520.55\" cy=\"784.565\" r=\"14\"/>\n",
       "<circle clip-path=\"url(#clip4102)\" style=\"fill:#000000; stroke:none; fill-opacity:1\" cx=\"1522.6\" cy=\"639.428\" r=\"18\"/>\n",
       "<circle clip-path=\"url(#clip4102)\" style=\"fill:#009af9; stroke:none; fill-opacity:1\" cx=\"1522.6\" cy=\"639.428\" r=\"14\"/>\n",
       "<circle clip-path=\"url(#clip4102)\" style=\"fill:#000000; stroke:none; fill-opacity:1\" cx=\"1524.65\" cy=\"1349.49\" r=\"18\"/>\n",
       "<circle clip-path=\"url(#clip4102)\" style=\"fill:#009af9; stroke:none; fill-opacity:1\" cx=\"1524.65\" cy=\"1349.49\" r=\"14\"/>\n",
       "<circle clip-path=\"url(#clip4102)\" style=\"fill:#000000; stroke:none; fill-opacity:1\" cx=\"1526.7\" cy=\"368.258\" r=\"18\"/>\n",
       "<circle clip-path=\"url(#clip4102)\" style=\"fill:#009af9; stroke:none; fill-opacity:1\" cx=\"1526.7\" cy=\"368.258\" r=\"14\"/>\n",
       "<circle clip-path=\"url(#clip4102)\" style=\"fill:#000000; stroke:none; fill-opacity:1\" cx=\"1528.75\" cy=\"209.679\" r=\"18\"/>\n",
       "<circle clip-path=\"url(#clip4102)\" style=\"fill:#009af9; stroke:none; fill-opacity:1\" cx=\"1528.75\" cy=\"209.679\" r=\"14\"/>\n",
       "<circle clip-path=\"url(#clip4102)\" style=\"fill:#000000; stroke:none; fill-opacity:1\" cx=\"1530.8\" cy=\"1232.71\" r=\"18\"/>\n",
       "<circle clip-path=\"url(#clip4102)\" style=\"fill:#009af9; stroke:none; fill-opacity:1\" cx=\"1530.8\" cy=\"1232.71\" r=\"14\"/>\n",
       "<circle clip-path=\"url(#clip4102)\" style=\"fill:#000000; stroke:none; fill-opacity:1\" cx=\"1532.85\" cy=\"1140.75\" r=\"18\"/>\n",
       "<circle clip-path=\"url(#clip4102)\" style=\"fill:#009af9; stroke:none; fill-opacity:1\" cx=\"1532.85\" cy=\"1140.75\" r=\"14\"/>\n",
       "<circle clip-path=\"url(#clip4102)\" style=\"fill:#000000; stroke:none; fill-opacity:1\" cx=\"1534.9\" cy=\"1230.86\" r=\"18\"/>\n",
       "<circle clip-path=\"url(#clip4102)\" style=\"fill:#009af9; stroke:none; fill-opacity:1\" cx=\"1534.9\" cy=\"1230.86\" r=\"14\"/>\n",
       "<circle clip-path=\"url(#clip4102)\" style=\"fill:#000000; stroke:none; fill-opacity:1\" cx=\"1536.95\" cy=\"838.396\" r=\"18\"/>\n",
       "<circle clip-path=\"url(#clip4102)\" style=\"fill:#009af9; stroke:none; fill-opacity:1\" cx=\"1536.95\" cy=\"838.396\" r=\"14\"/>\n",
       "<circle clip-path=\"url(#clip4102)\" style=\"fill:#000000; stroke:none; fill-opacity:1\" cx=\"1539\" cy=\"1298.36\" r=\"18\"/>\n",
       "<circle clip-path=\"url(#clip4102)\" style=\"fill:#009af9; stroke:none; fill-opacity:1\" cx=\"1539\" cy=\"1298.36\" r=\"14\"/>\n",
       "<circle clip-path=\"url(#clip4102)\" style=\"fill:#000000; stroke:none; fill-opacity:1\" cx=\"1541.05\" cy=\"1303.26\" r=\"18\"/>\n",
       "<circle clip-path=\"url(#clip4102)\" style=\"fill:#009af9; stroke:none; fill-opacity:1\" cx=\"1541.05\" cy=\"1303.26\" r=\"14\"/>\n",
       "<circle clip-path=\"url(#clip4102)\" style=\"fill:#000000; stroke:none; fill-opacity:1\" cx=\"1543.1\" cy=\"93.3514\" r=\"18\"/>\n",
       "<circle clip-path=\"url(#clip4102)\" style=\"fill:#009af9; stroke:none; fill-opacity:1\" cx=\"1543.1\" cy=\"93.3514\" r=\"14\"/>\n",
       "<circle clip-path=\"url(#clip4102)\" style=\"fill:#000000; stroke:none; fill-opacity:1\" cx=\"1545.15\" cy=\"596.797\" r=\"18\"/>\n",
       "<circle clip-path=\"url(#clip4102)\" style=\"fill:#009af9; stroke:none; fill-opacity:1\" cx=\"1545.15\" cy=\"596.797\" r=\"14\"/>\n",
       "<circle clip-path=\"url(#clip4102)\" style=\"fill:#000000; stroke:none; fill-opacity:1\" cx=\"1547.2\" cy=\"682.733\" r=\"18\"/>\n",
       "<circle clip-path=\"url(#clip4102)\" style=\"fill:#009af9; stroke:none; fill-opacity:1\" cx=\"1547.2\" cy=\"682.733\" r=\"14\"/>\n",
       "<circle clip-path=\"url(#clip4102)\" style=\"fill:#000000; stroke:none; fill-opacity:1\" cx=\"1549.25\" cy=\"1353.45\" r=\"18\"/>\n",
       "<circle clip-path=\"url(#clip4102)\" style=\"fill:#009af9; stroke:none; fill-opacity:1\" cx=\"1549.25\" cy=\"1353.45\" r=\"14\"/>\n",
       "<circle clip-path=\"url(#clip4102)\" style=\"fill:#000000; stroke:none; fill-opacity:1\" cx=\"1551.3\" cy=\"459.794\" r=\"18\"/>\n",
       "<circle clip-path=\"url(#clip4102)\" style=\"fill:#009af9; stroke:none; fill-opacity:1\" cx=\"1551.3\" cy=\"459.794\" r=\"14\"/>\n",
       "<circle clip-path=\"url(#clip4102)\" style=\"fill:#000000; stroke:none; fill-opacity:1\" cx=\"1553.35\" cy=\"585.152\" r=\"18\"/>\n",
       "<circle clip-path=\"url(#clip4102)\" style=\"fill:#009af9; stroke:none; fill-opacity:1\" cx=\"1553.35\" cy=\"585.152\" r=\"14\"/>\n",
       "<circle clip-path=\"url(#clip4102)\" style=\"fill:#000000; stroke:none; fill-opacity:1\" cx=\"1555.4\" cy=\"414.957\" r=\"18\"/>\n",
       "<circle clip-path=\"url(#clip4102)\" style=\"fill:#009af9; stroke:none; fill-opacity:1\" cx=\"1555.4\" cy=\"414.957\" r=\"14\"/>\n",
       "<circle clip-path=\"url(#clip4102)\" style=\"fill:#000000; stroke:none; fill-opacity:1\" cx=\"1557.45\" cy=\"1227.61\" r=\"18\"/>\n",
       "<circle clip-path=\"url(#clip4102)\" style=\"fill:#009af9; stroke:none; fill-opacity:1\" cx=\"1557.45\" cy=\"1227.61\" r=\"14\"/>\n",
       "<circle clip-path=\"url(#clip4102)\" style=\"fill:#000000; stroke:none; fill-opacity:1\" cx=\"1559.5\" cy=\"1200.55\" r=\"18\"/>\n",
       "<circle clip-path=\"url(#clip4102)\" style=\"fill:#009af9; stroke:none; fill-opacity:1\" cx=\"1559.5\" cy=\"1200.55\" r=\"14\"/>\n",
       "<circle clip-path=\"url(#clip4102)\" style=\"fill:#000000; stroke:none; fill-opacity:1\" cx=\"1561.55\" cy=\"994.815\" r=\"18\"/>\n",
       "<circle clip-path=\"url(#clip4102)\" style=\"fill:#009af9; stroke:none; fill-opacity:1\" cx=\"1561.55\" cy=\"994.815\" r=\"14\"/>\n",
       "<circle clip-path=\"url(#clip4102)\" style=\"fill:#000000; stroke:none; fill-opacity:1\" cx=\"1563.6\" cy=\"488.35\" r=\"18\"/>\n",
       "<circle clip-path=\"url(#clip4102)\" style=\"fill:#009af9; stroke:none; fill-opacity:1\" cx=\"1563.6\" cy=\"488.35\" r=\"14\"/>\n",
       "<circle clip-path=\"url(#clip4102)\" style=\"fill:#000000; stroke:none; fill-opacity:1\" cx=\"1565.65\" cy=\"1364.97\" r=\"18\"/>\n",
       "<circle clip-path=\"url(#clip4102)\" style=\"fill:#009af9; stroke:none; fill-opacity:1\" cx=\"1565.65\" cy=\"1364.97\" r=\"14\"/>\n",
       "<circle clip-path=\"url(#clip4102)\" style=\"fill:#000000; stroke:none; fill-opacity:1\" cx=\"1567.7\" cy=\"743.587\" r=\"18\"/>\n",
       "<circle clip-path=\"url(#clip4102)\" style=\"fill:#009af9; stroke:none; fill-opacity:1\" cx=\"1567.7\" cy=\"743.587\" r=\"14\"/>\n",
       "<circle clip-path=\"url(#clip4102)\" style=\"fill:#000000; stroke:none; fill-opacity:1\" cx=\"1569.75\" cy=\"1393.36\" r=\"18\"/>\n",
       "<circle clip-path=\"url(#clip4102)\" style=\"fill:#009af9; stroke:none; fill-opacity:1\" cx=\"1569.75\" cy=\"1393.36\" r=\"14\"/>\n",
       "<circle clip-path=\"url(#clip4102)\" style=\"fill:#000000; stroke:none; fill-opacity:1\" cx=\"1571.8\" cy=\"1219.02\" r=\"18\"/>\n",
       "<circle clip-path=\"url(#clip4102)\" style=\"fill:#009af9; stroke:none; fill-opacity:1\" cx=\"1571.8\" cy=\"1219.02\" r=\"14\"/>\n",
       "<circle clip-path=\"url(#clip4102)\" style=\"fill:#000000; stroke:none; fill-opacity:1\" cx=\"1573.85\" cy=\"1032.38\" r=\"18\"/>\n",
       "<circle clip-path=\"url(#clip4102)\" style=\"fill:#009af9; stroke:none; fill-opacity:1\" cx=\"1573.85\" cy=\"1032.38\" r=\"14\"/>\n",
       "<circle clip-path=\"url(#clip4102)\" style=\"fill:#000000; stroke:none; fill-opacity:1\" cx=\"1575.9\" cy=\"1206.29\" r=\"18\"/>\n",
       "<circle clip-path=\"url(#clip4102)\" style=\"fill:#009af9; stroke:none; fill-opacity:1\" cx=\"1575.9\" cy=\"1206.29\" r=\"14\"/>\n",
       "<circle clip-path=\"url(#clip4102)\" style=\"fill:#000000; stroke:none; fill-opacity:1\" cx=\"1577.95\" cy=\"547.802\" r=\"18\"/>\n",
       "<circle clip-path=\"url(#clip4102)\" style=\"fill:#009af9; stroke:none; fill-opacity:1\" cx=\"1577.95\" cy=\"547.802\" r=\"14\"/>\n",
       "<circle clip-path=\"url(#clip4102)\" style=\"fill:#000000; stroke:none; fill-opacity:1\" cx=\"1580\" cy=\"155.996\" r=\"18\"/>\n",
       "<circle clip-path=\"url(#clip4102)\" style=\"fill:#009af9; stroke:none; fill-opacity:1\" cx=\"1580\" cy=\"155.996\" r=\"14\"/>\n",
       "<circle clip-path=\"url(#clip4102)\" style=\"fill:#000000; stroke:none; fill-opacity:1\" cx=\"1582.05\" cy=\"270.825\" r=\"18\"/>\n",
       "<circle clip-path=\"url(#clip4102)\" style=\"fill:#009af9; stroke:none; fill-opacity:1\" cx=\"1582.05\" cy=\"270.825\" r=\"14\"/>\n",
       "<circle clip-path=\"url(#clip4102)\" style=\"fill:#000000; stroke:none; fill-opacity:1\" cx=\"1584.1\" cy=\"771.618\" r=\"18\"/>\n",
       "<circle clip-path=\"url(#clip4102)\" style=\"fill:#009af9; stroke:none; fill-opacity:1\" cx=\"1584.1\" cy=\"771.618\" r=\"14\"/>\n",
       "<circle clip-path=\"url(#clip4102)\" style=\"fill:#000000; stroke:none; fill-opacity:1\" cx=\"1586.15\" cy=\"88.0053\" r=\"18\"/>\n",
       "<circle clip-path=\"url(#clip4102)\" style=\"fill:#009af9; stroke:none; fill-opacity:1\" cx=\"1586.15\" cy=\"88.0053\" r=\"14\"/>\n",
       "<circle clip-path=\"url(#clip4102)\" style=\"fill:#000000; stroke:none; fill-opacity:1\" cx=\"1588.2\" cy=\"497.87\" r=\"18\"/>\n",
       "<circle clip-path=\"url(#clip4102)\" style=\"fill:#009af9; stroke:none; fill-opacity:1\" cx=\"1588.2\" cy=\"497.87\" r=\"14\"/>\n",
       "<circle clip-path=\"url(#clip4102)\" style=\"fill:#000000; stroke:none; fill-opacity:1\" cx=\"1590.25\" cy=\"1443.72\" r=\"18\"/>\n",
       "<circle clip-path=\"url(#clip4102)\" style=\"fill:#009af9; stroke:none; fill-opacity:1\" cx=\"1590.25\" cy=\"1443.72\" r=\"14\"/>\n",
       "<circle clip-path=\"url(#clip4102)\" style=\"fill:#000000; stroke:none; fill-opacity:1\" cx=\"1592.3\" cy=\"1042.5\" r=\"18\"/>\n",
       "<circle clip-path=\"url(#clip4102)\" style=\"fill:#009af9; stroke:none; fill-opacity:1\" cx=\"1592.3\" cy=\"1042.5\" r=\"14\"/>\n",
       "<circle clip-path=\"url(#clip4102)\" style=\"fill:#000000; stroke:none; fill-opacity:1\" cx=\"1594.35\" cy=\"1092.48\" r=\"18\"/>\n",
       "<circle clip-path=\"url(#clip4102)\" style=\"fill:#009af9; stroke:none; fill-opacity:1\" cx=\"1594.35\" cy=\"1092.48\" r=\"14\"/>\n",
       "<circle clip-path=\"url(#clip4102)\" style=\"fill:#000000; stroke:none; fill-opacity:1\" cx=\"1596.39\" cy=\"510.419\" r=\"18\"/>\n",
       "<circle clip-path=\"url(#clip4102)\" style=\"fill:#009af9; stroke:none; fill-opacity:1\" cx=\"1596.39\" cy=\"510.419\" r=\"14\"/>\n",
       "<circle clip-path=\"url(#clip4102)\" style=\"fill:#000000; stroke:none; fill-opacity:1\" cx=\"1598.44\" cy=\"353.735\" r=\"18\"/>\n",
       "<circle clip-path=\"url(#clip4102)\" style=\"fill:#009af9; stroke:none; fill-opacity:1\" cx=\"1598.44\" cy=\"353.735\" r=\"14\"/>\n",
       "<circle clip-path=\"url(#clip4102)\" style=\"fill:#000000; stroke:none; fill-opacity:1\" cx=\"1600.49\" cy=\"1369.53\" r=\"18\"/>\n",
       "<circle clip-path=\"url(#clip4102)\" style=\"fill:#009af9; stroke:none; fill-opacity:1\" cx=\"1600.49\" cy=\"1369.53\" r=\"14\"/>\n",
       "<circle clip-path=\"url(#clip4102)\" style=\"fill:#000000; stroke:none; fill-opacity:1\" cx=\"1602.54\" cy=\"1175\" r=\"18\"/>\n",
       "<circle clip-path=\"url(#clip4102)\" style=\"fill:#009af9; stroke:none; fill-opacity:1\" cx=\"1602.54\" cy=\"1175\" r=\"14\"/>\n",
       "<circle clip-path=\"url(#clip4102)\" style=\"fill:#000000; stroke:none; fill-opacity:1\" cx=\"1604.59\" cy=\"619.213\" r=\"18\"/>\n",
       "<circle clip-path=\"url(#clip4102)\" style=\"fill:#009af9; stroke:none; fill-opacity:1\" cx=\"1604.59\" cy=\"619.213\" r=\"14\"/>\n",
       "<circle clip-path=\"url(#clip4102)\" style=\"fill:#000000; stroke:none; fill-opacity:1\" cx=\"1606.64\" cy=\"334.719\" r=\"18\"/>\n",
       "<circle clip-path=\"url(#clip4102)\" style=\"fill:#009af9; stroke:none; fill-opacity:1\" cx=\"1606.64\" cy=\"334.719\" r=\"14\"/>\n",
       "<circle clip-path=\"url(#clip4102)\" style=\"fill:#000000; stroke:none; fill-opacity:1\" cx=\"1608.69\" cy=\"1002.95\" r=\"18\"/>\n",
       "<circle clip-path=\"url(#clip4102)\" style=\"fill:#009af9; stroke:none; fill-opacity:1\" cx=\"1608.69\" cy=\"1002.95\" r=\"14\"/>\n",
       "<circle clip-path=\"url(#clip4102)\" style=\"fill:#000000; stroke:none; fill-opacity:1\" cx=\"1610.74\" cy=\"383.023\" r=\"18\"/>\n",
       "<circle clip-path=\"url(#clip4102)\" style=\"fill:#009af9; stroke:none; fill-opacity:1\" cx=\"1610.74\" cy=\"383.023\" r=\"14\"/>\n",
       "<circle clip-path=\"url(#clip4102)\" style=\"fill:#000000; stroke:none; fill-opacity:1\" cx=\"1612.79\" cy=\"392.553\" r=\"18\"/>\n",
       "<circle clip-path=\"url(#clip4102)\" style=\"fill:#009af9; stroke:none; fill-opacity:1\" cx=\"1612.79\" cy=\"392.553\" r=\"14\"/>\n",
       "<circle clip-path=\"url(#clip4102)\" style=\"fill:#000000; stroke:none; fill-opacity:1\" cx=\"1614.84\" cy=\"1308.25\" r=\"18\"/>\n",
       "<circle clip-path=\"url(#clip4102)\" style=\"fill:#009af9; stroke:none; fill-opacity:1\" cx=\"1614.84\" cy=\"1308.25\" r=\"14\"/>\n",
       "<circle clip-path=\"url(#clip4102)\" style=\"fill:#000000; stroke:none; fill-opacity:1\" cx=\"1616.89\" cy=\"985.62\" r=\"18\"/>\n",
       "<circle clip-path=\"url(#clip4102)\" style=\"fill:#009af9; stroke:none; fill-opacity:1\" cx=\"1616.89\" cy=\"985.62\" r=\"14\"/>\n",
       "<circle clip-path=\"url(#clip4102)\" style=\"fill:#000000; stroke:none; fill-opacity:1\" cx=\"1618.94\" cy=\"183.861\" r=\"18\"/>\n",
       "<circle clip-path=\"url(#clip4102)\" style=\"fill:#009af9; stroke:none; fill-opacity:1\" cx=\"1618.94\" cy=\"183.861\" r=\"14\"/>\n",
       "<circle clip-path=\"url(#clip4102)\" style=\"fill:#000000; stroke:none; fill-opacity:1\" cx=\"1620.99\" cy=\"242.61\" r=\"18\"/>\n",
       "<circle clip-path=\"url(#clip4102)\" style=\"fill:#009af9; stroke:none; fill-opacity:1\" cx=\"1620.99\" cy=\"242.61\" r=\"14\"/>\n",
       "<circle clip-path=\"url(#clip4102)\" style=\"fill:#000000; stroke:none; fill-opacity:1\" cx=\"1623.04\" cy=\"1309.07\" r=\"18\"/>\n",
       "<circle clip-path=\"url(#clip4102)\" style=\"fill:#009af9; stroke:none; fill-opacity:1\" cx=\"1623.04\" cy=\"1309.07\" r=\"14\"/>\n",
       "<circle clip-path=\"url(#clip4102)\" style=\"fill:#000000; stroke:none; fill-opacity:1\" cx=\"1625.09\" cy=\"1282.95\" r=\"18\"/>\n",
       "<circle clip-path=\"url(#clip4102)\" style=\"fill:#009af9; stroke:none; fill-opacity:1\" cx=\"1625.09\" cy=\"1282.95\" r=\"14\"/>\n",
       "<circle clip-path=\"url(#clip4102)\" style=\"fill:#000000; stroke:none; fill-opacity:1\" cx=\"1627.14\" cy=\"522.025\" r=\"18\"/>\n",
       "<circle clip-path=\"url(#clip4102)\" style=\"fill:#009af9; stroke:none; fill-opacity:1\" cx=\"1627.14\" cy=\"522.025\" r=\"14\"/>\n",
       "<circle clip-path=\"url(#clip4102)\" style=\"fill:#000000; stroke:none; fill-opacity:1\" cx=\"1629.19\" cy=\"1267.74\" r=\"18\"/>\n",
       "<circle clip-path=\"url(#clip4102)\" style=\"fill:#009af9; stroke:none; fill-opacity:1\" cx=\"1629.19\" cy=\"1267.74\" r=\"14\"/>\n",
       "<circle clip-path=\"url(#clip4102)\" style=\"fill:#000000; stroke:none; fill-opacity:1\" cx=\"1631.24\" cy=\"702.344\" r=\"18\"/>\n",
       "<circle clip-path=\"url(#clip4102)\" style=\"fill:#009af9; stroke:none; fill-opacity:1\" cx=\"1631.24\" cy=\"702.344\" r=\"14\"/>\n",
       "<circle clip-path=\"url(#clip4102)\" style=\"fill:#000000; stroke:none; fill-opacity:1\" cx=\"1633.29\" cy=\"448.05\" r=\"18\"/>\n",
       "<circle clip-path=\"url(#clip4102)\" style=\"fill:#009af9; stroke:none; fill-opacity:1\" cx=\"1633.29\" cy=\"448.05\" r=\"14\"/>\n",
       "<circle clip-path=\"url(#clip4102)\" style=\"fill:#000000; stroke:none; fill-opacity:1\" cx=\"1635.34\" cy=\"412.366\" r=\"18\"/>\n",
       "<circle clip-path=\"url(#clip4102)\" style=\"fill:#009af9; stroke:none; fill-opacity:1\" cx=\"1635.34\" cy=\"412.366\" r=\"14\"/>\n",
       "<circle clip-path=\"url(#clip4102)\" style=\"fill:#000000; stroke:none; fill-opacity:1\" cx=\"1637.39\" cy=\"1045.29\" r=\"18\"/>\n",
       "<circle clip-path=\"url(#clip4102)\" style=\"fill:#009af9; stroke:none; fill-opacity:1\" cx=\"1637.39\" cy=\"1045.29\" r=\"14\"/>\n",
       "<circle clip-path=\"url(#clip4102)\" style=\"fill:#000000; stroke:none; fill-opacity:1\" cx=\"1639.44\" cy=\"1114.18\" r=\"18\"/>\n",
       "<circle clip-path=\"url(#clip4102)\" style=\"fill:#009af9; stroke:none; fill-opacity:1\" cx=\"1639.44\" cy=\"1114.18\" r=\"14\"/>\n",
       "<circle clip-path=\"url(#clip4102)\" style=\"fill:#000000; stroke:none; fill-opacity:1\" cx=\"1641.49\" cy=\"492.162\" r=\"18\"/>\n",
       "<circle clip-path=\"url(#clip4102)\" style=\"fill:#009af9; stroke:none; fill-opacity:1\" cx=\"1641.49\" cy=\"492.162\" r=\"14\"/>\n",
       "<circle clip-path=\"url(#clip4102)\" style=\"fill:#000000; stroke:none; fill-opacity:1\" cx=\"1643.54\" cy=\"238.81\" r=\"18\"/>\n",
       "<circle clip-path=\"url(#clip4102)\" style=\"fill:#009af9; stroke:none; fill-opacity:1\" cx=\"1643.54\" cy=\"238.81\" r=\"14\"/>\n",
       "<circle clip-path=\"url(#clip4102)\" style=\"fill:#000000; stroke:none; fill-opacity:1\" cx=\"1645.59\" cy=\"428.97\" r=\"18\"/>\n",
       "<circle clip-path=\"url(#clip4102)\" style=\"fill:#009af9; stroke:none; fill-opacity:1\" cx=\"1645.59\" cy=\"428.97\" r=\"14\"/>\n",
       "<circle clip-path=\"url(#clip4102)\" style=\"fill:#000000; stroke:none; fill-opacity:1\" cx=\"1647.64\" cy=\"1272.99\" r=\"18\"/>\n",
       "<circle clip-path=\"url(#clip4102)\" style=\"fill:#009af9; stroke:none; fill-opacity:1\" cx=\"1647.64\" cy=\"1272.99\" r=\"14\"/>\n",
       "<circle clip-path=\"url(#clip4102)\" style=\"fill:#000000; stroke:none; fill-opacity:1\" cx=\"1649.69\" cy=\"1416.18\" r=\"18\"/>\n",
       "<circle clip-path=\"url(#clip4102)\" style=\"fill:#009af9; stroke:none; fill-opacity:1\" cx=\"1649.69\" cy=\"1416.18\" r=\"14\"/>\n",
       "<circle clip-path=\"url(#clip4102)\" style=\"fill:#000000; stroke:none; fill-opacity:1\" cx=\"1651.74\" cy=\"419.314\" r=\"18\"/>\n",
       "<circle clip-path=\"url(#clip4102)\" style=\"fill:#009af9; stroke:none; fill-opacity:1\" cx=\"1651.74\" cy=\"419.314\" r=\"14\"/>\n",
       "<circle clip-path=\"url(#clip4102)\" style=\"fill:#000000; stroke:none; fill-opacity:1\" cx=\"1653.79\" cy=\"880.713\" r=\"18\"/>\n",
       "<circle clip-path=\"url(#clip4102)\" style=\"fill:#009af9; stroke:none; fill-opacity:1\" cx=\"1653.79\" cy=\"880.713\" r=\"14\"/>\n",
       "<circle clip-path=\"url(#clip4102)\" style=\"fill:#000000; stroke:none; fill-opacity:1\" cx=\"1655.84\" cy=\"795.26\" r=\"18\"/>\n",
       "<circle clip-path=\"url(#clip4102)\" style=\"fill:#009af9; stroke:none; fill-opacity:1\" cx=\"1655.84\" cy=\"795.26\" r=\"14\"/>\n",
       "<circle clip-path=\"url(#clip4102)\" style=\"fill:#000000; stroke:none; fill-opacity:1\" cx=\"1657.89\" cy=\"1029.5\" r=\"18\"/>\n",
       "<circle clip-path=\"url(#clip4102)\" style=\"fill:#009af9; stroke:none; fill-opacity:1\" cx=\"1657.89\" cy=\"1029.5\" r=\"14\"/>\n",
       "<circle clip-path=\"url(#clip4102)\" style=\"fill:#000000; stroke:none; fill-opacity:1\" cx=\"1659.94\" cy=\"1201.35\" r=\"18\"/>\n",
       "<circle clip-path=\"url(#clip4102)\" style=\"fill:#009af9; stroke:none; fill-opacity:1\" cx=\"1659.94\" cy=\"1201.35\" r=\"14\"/>\n",
       "<circle clip-path=\"url(#clip4102)\" style=\"fill:#000000; stroke:none; fill-opacity:1\" cx=\"1661.99\" cy=\"535.502\" r=\"18\"/>\n",
       "<circle clip-path=\"url(#clip4102)\" style=\"fill:#009af9; stroke:none; fill-opacity:1\" cx=\"1661.99\" cy=\"535.502\" r=\"14\"/>\n",
       "<circle clip-path=\"url(#clip4102)\" style=\"fill:#000000; stroke:none; fill-opacity:1\" cx=\"1664.04\" cy=\"826.427\" r=\"18\"/>\n",
       "<circle clip-path=\"url(#clip4102)\" style=\"fill:#009af9; stroke:none; fill-opacity:1\" cx=\"1664.04\" cy=\"826.427\" r=\"14\"/>\n",
       "<circle clip-path=\"url(#clip4102)\" style=\"fill:#000000; stroke:none; fill-opacity:1\" cx=\"1666.09\" cy=\"277.398\" r=\"18\"/>\n",
       "<circle clip-path=\"url(#clip4102)\" style=\"fill:#009af9; stroke:none; fill-opacity:1\" cx=\"1666.09\" cy=\"277.398\" r=\"14\"/>\n",
       "<circle clip-path=\"url(#clip4102)\" style=\"fill:#000000; stroke:none; fill-opacity:1\" cx=\"1668.14\" cy=\"625.142\" r=\"18\"/>\n",
       "<circle clip-path=\"url(#clip4102)\" style=\"fill:#009af9; stroke:none; fill-opacity:1\" cx=\"1668.14\" cy=\"625.142\" r=\"14\"/>\n",
       "<circle clip-path=\"url(#clip4102)\" style=\"fill:#000000; stroke:none; fill-opacity:1\" cx=\"1670.19\" cy=\"1189.06\" r=\"18\"/>\n",
       "<circle clip-path=\"url(#clip4102)\" style=\"fill:#009af9; stroke:none; fill-opacity:1\" cx=\"1670.19\" cy=\"1189.06\" r=\"14\"/>\n",
       "<circle clip-path=\"url(#clip4102)\" style=\"fill:#000000; stroke:none; fill-opacity:1\" cx=\"1672.24\" cy=\"651.645\" r=\"18\"/>\n",
       "<circle clip-path=\"url(#clip4102)\" style=\"fill:#009af9; stroke:none; fill-opacity:1\" cx=\"1672.24\" cy=\"651.645\" r=\"14\"/>\n",
       "<circle clip-path=\"url(#clip4102)\" style=\"fill:#000000; stroke:none; fill-opacity:1\" cx=\"1674.29\" cy=\"502.981\" r=\"18\"/>\n",
       "<circle clip-path=\"url(#clip4102)\" style=\"fill:#009af9; stroke:none; fill-opacity:1\" cx=\"1674.29\" cy=\"502.981\" r=\"14\"/>\n",
       "<circle clip-path=\"url(#clip4102)\" style=\"fill:#000000; stroke:none; fill-opacity:1\" cx=\"1676.34\" cy=\"707.784\" r=\"18\"/>\n",
       "<circle clip-path=\"url(#clip4102)\" style=\"fill:#009af9; stroke:none; fill-opacity:1\" cx=\"1676.34\" cy=\"707.784\" r=\"14\"/>\n",
       "<circle clip-path=\"url(#clip4102)\" style=\"fill:#000000; stroke:none; fill-opacity:1\" cx=\"1678.39\" cy=\"684.839\" r=\"18\"/>\n",
       "<circle clip-path=\"url(#clip4102)\" style=\"fill:#009af9; stroke:none; fill-opacity:1\" cx=\"1678.39\" cy=\"684.839\" r=\"14\"/>\n",
       "<circle clip-path=\"url(#clip4102)\" style=\"fill:#000000; stroke:none; fill-opacity:1\" cx=\"1680.44\" cy=\"308.314\" r=\"18\"/>\n",
       "<circle clip-path=\"url(#clip4102)\" style=\"fill:#009af9; stroke:none; fill-opacity:1\" cx=\"1680.44\" cy=\"308.314\" r=\"14\"/>\n",
       "<circle clip-path=\"url(#clip4102)\" style=\"fill:#000000; stroke:none; fill-opacity:1\" cx=\"1682.49\" cy=\"961.752\" r=\"18\"/>\n",
       "<circle clip-path=\"url(#clip4102)\" style=\"fill:#009af9; stroke:none; fill-opacity:1\" cx=\"1682.49\" cy=\"961.752\" r=\"14\"/>\n",
       "<circle clip-path=\"url(#clip4102)\" style=\"fill:#000000; stroke:none; fill-opacity:1\" cx=\"1684.54\" cy=\"189.949\" r=\"18\"/>\n",
       "<circle clip-path=\"url(#clip4102)\" style=\"fill:#009af9; stroke:none; fill-opacity:1\" cx=\"1684.54\" cy=\"189.949\" r=\"14\"/>\n",
       "<circle clip-path=\"url(#clip4102)\" style=\"fill:#000000; stroke:none; fill-opacity:1\" cx=\"1686.59\" cy=\"677.321\" r=\"18\"/>\n",
       "<circle clip-path=\"url(#clip4102)\" style=\"fill:#009af9; stroke:none; fill-opacity:1\" cx=\"1686.59\" cy=\"677.321\" r=\"14\"/>\n",
       "<circle clip-path=\"url(#clip4102)\" style=\"fill:#000000; stroke:none; fill-opacity:1\" cx=\"1688.64\" cy=\"151.713\" r=\"18\"/>\n",
       "<circle clip-path=\"url(#clip4102)\" style=\"fill:#009af9; stroke:none; fill-opacity:1\" cx=\"1688.64\" cy=\"151.713\" r=\"14\"/>\n",
       "<circle clip-path=\"url(#clip4102)\" style=\"fill:#000000; stroke:none; fill-opacity:1\" cx=\"1690.69\" cy=\"127.767\" r=\"18\"/>\n",
       "<circle clip-path=\"url(#clip4102)\" style=\"fill:#009af9; stroke:none; fill-opacity:1\" cx=\"1690.69\" cy=\"127.767\" r=\"14\"/>\n",
       "<circle clip-path=\"url(#clip4102)\" style=\"fill:#000000; stroke:none; fill-opacity:1\" cx=\"1692.74\" cy=\"888.628\" r=\"18\"/>\n",
       "<circle clip-path=\"url(#clip4102)\" style=\"fill:#009af9; stroke:none; fill-opacity:1\" cx=\"1692.74\" cy=\"888.628\" r=\"14\"/>\n",
       "<circle clip-path=\"url(#clip4102)\" style=\"fill:#000000; stroke:none; fill-opacity:1\" cx=\"1694.79\" cy=\"665.795\" r=\"18\"/>\n",
       "<circle clip-path=\"url(#clip4102)\" style=\"fill:#009af9; stroke:none; fill-opacity:1\" cx=\"1694.79\" cy=\"665.795\" r=\"14\"/>\n",
       "<circle clip-path=\"url(#clip4102)\" style=\"fill:#000000; stroke:none; fill-opacity:1\" cx=\"1696.84\" cy=\"814.124\" r=\"18\"/>\n",
       "<circle clip-path=\"url(#clip4102)\" style=\"fill:#009af9; stroke:none; fill-opacity:1\" cx=\"1696.84\" cy=\"814.124\" r=\"14\"/>\n",
       "<circle clip-path=\"url(#clip4102)\" style=\"fill:#000000; stroke:none; fill-opacity:1\" cx=\"1698.89\" cy=\"594.927\" r=\"18\"/>\n",
       "<circle clip-path=\"url(#clip4102)\" style=\"fill:#009af9; stroke:none; fill-opacity:1\" cx=\"1698.89\" cy=\"594.927\" r=\"14\"/>\n",
       "<circle clip-path=\"url(#clip4102)\" style=\"fill:#000000; stroke:none; fill-opacity:1\" cx=\"1700.94\" cy=\"948.177\" r=\"18\"/>\n",
       "<circle clip-path=\"url(#clip4102)\" style=\"fill:#009af9; stroke:none; fill-opacity:1\" cx=\"1700.94\" cy=\"948.177\" r=\"14\"/>\n",
       "<circle clip-path=\"url(#clip4102)\" style=\"fill:#000000; stroke:none; fill-opacity:1\" cx=\"1702.99\" cy=\"811.338\" r=\"18\"/>\n",
       "<circle clip-path=\"url(#clip4102)\" style=\"fill:#009af9; stroke:none; fill-opacity:1\" cx=\"1702.99\" cy=\"811.338\" r=\"14\"/>\n",
       "<circle clip-path=\"url(#clip4102)\" style=\"fill:#000000; stroke:none; fill-opacity:1\" cx=\"1705.04\" cy=\"190.432\" r=\"18\"/>\n",
       "<circle clip-path=\"url(#clip4102)\" style=\"fill:#009af9; stroke:none; fill-opacity:1\" cx=\"1705.04\" cy=\"190.432\" r=\"14\"/>\n",
       "<circle clip-path=\"url(#clip4102)\" style=\"fill:#000000; stroke:none; fill-opacity:1\" cx=\"1707.09\" cy=\"903.588\" r=\"18\"/>\n",
       "<circle clip-path=\"url(#clip4102)\" style=\"fill:#009af9; stroke:none; fill-opacity:1\" cx=\"1707.09\" cy=\"903.588\" r=\"14\"/>\n",
       "<circle clip-path=\"url(#clip4102)\" style=\"fill:#000000; stroke:none; fill-opacity:1\" cx=\"1709.14\" cy=\"1198.45\" r=\"18\"/>\n",
       "<circle clip-path=\"url(#clip4102)\" style=\"fill:#009af9; stroke:none; fill-opacity:1\" cx=\"1709.14\" cy=\"1198.45\" r=\"14\"/>\n",
       "<circle clip-path=\"url(#clip4102)\" style=\"fill:#000000; stroke:none; fill-opacity:1\" cx=\"1711.19\" cy=\"377.267\" r=\"18\"/>\n",
       "<circle clip-path=\"url(#clip4102)\" style=\"fill:#009af9; stroke:none; fill-opacity:1\" cx=\"1711.19\" cy=\"377.267\" r=\"14\"/>\n",
       "<circle clip-path=\"url(#clip4102)\" style=\"fill:#000000; stroke:none; fill-opacity:1\" cx=\"1713.24\" cy=\"218.597\" r=\"18\"/>\n",
       "<circle clip-path=\"url(#clip4102)\" style=\"fill:#009af9; stroke:none; fill-opacity:1\" cx=\"1713.24\" cy=\"218.597\" r=\"14\"/>\n",
       "<circle clip-path=\"url(#clip4102)\" style=\"fill:#000000; stroke:none; fill-opacity:1\" cx=\"1715.29\" cy=\"1152.77\" r=\"18\"/>\n",
       "<circle clip-path=\"url(#clip4102)\" style=\"fill:#009af9; stroke:none; fill-opacity:1\" cx=\"1715.29\" cy=\"1152.77\" r=\"14\"/>\n",
       "<circle clip-path=\"url(#clip4102)\" style=\"fill:#000000; stroke:none; fill-opacity:1\" cx=\"1717.34\" cy=\"760.483\" r=\"18\"/>\n",
       "<circle clip-path=\"url(#clip4102)\" style=\"fill:#009af9; stroke:none; fill-opacity:1\" cx=\"1717.34\" cy=\"760.483\" r=\"14\"/>\n",
       "<circle clip-path=\"url(#clip4102)\" style=\"fill:#000000; stroke:none; fill-opacity:1\" cx=\"1719.39\" cy=\"1280.92\" r=\"18\"/>\n",
       "<circle clip-path=\"url(#clip4102)\" style=\"fill:#009af9; stroke:none; fill-opacity:1\" cx=\"1719.39\" cy=\"1280.92\" r=\"14\"/>\n",
       "<circle clip-path=\"url(#clip4102)\" style=\"fill:#000000; stroke:none; fill-opacity:1\" cx=\"1721.44\" cy=\"693.543\" r=\"18\"/>\n",
       "<circle clip-path=\"url(#clip4102)\" style=\"fill:#009af9; stroke:none; fill-opacity:1\" cx=\"1721.44\" cy=\"693.543\" r=\"14\"/>\n",
       "<circle clip-path=\"url(#clip4102)\" style=\"fill:#000000; stroke:none; fill-opacity:1\" cx=\"1723.49\" cy=\"178.899\" r=\"18\"/>\n",
       "<circle clip-path=\"url(#clip4102)\" style=\"fill:#009af9; stroke:none; fill-opacity:1\" cx=\"1723.49\" cy=\"178.899\" r=\"14\"/>\n",
       "<circle clip-path=\"url(#clip4102)\" style=\"fill:#000000; stroke:none; fill-opacity:1\" cx=\"1725.54\" cy=\"1161.77\" r=\"18\"/>\n",
       "<circle clip-path=\"url(#clip4102)\" style=\"fill:#009af9; stroke:none; fill-opacity:1\" cx=\"1725.54\" cy=\"1161.77\" r=\"14\"/>\n",
       "<circle clip-path=\"url(#clip4102)\" style=\"fill:#000000; stroke:none; fill-opacity:1\" cx=\"1727.59\" cy=\"737.477\" r=\"18\"/>\n",
       "<circle clip-path=\"url(#clip4102)\" style=\"fill:#009af9; stroke:none; fill-opacity:1\" cx=\"1727.59\" cy=\"737.477\" r=\"14\"/>\n",
       "<circle clip-path=\"url(#clip4102)\" style=\"fill:#000000; stroke:none; fill-opacity:1\" cx=\"1729.64\" cy=\"124.847\" r=\"18\"/>\n",
       "<circle clip-path=\"url(#clip4102)\" style=\"fill:#009af9; stroke:none; fill-opacity:1\" cx=\"1729.64\" cy=\"124.847\" r=\"14\"/>\n",
       "<circle clip-path=\"url(#clip4102)\" style=\"fill:#000000; stroke:none; fill-opacity:1\" cx=\"1731.69\" cy=\"732.948\" r=\"18\"/>\n",
       "<circle clip-path=\"url(#clip4102)\" style=\"fill:#009af9; stroke:none; fill-opacity:1\" cx=\"1731.69\" cy=\"732.948\" r=\"14\"/>\n",
       "<circle clip-path=\"url(#clip4102)\" style=\"fill:#000000; stroke:none; fill-opacity:1\" cx=\"1733.74\" cy=\"1213.19\" r=\"18\"/>\n",
       "<circle clip-path=\"url(#clip4102)\" style=\"fill:#009af9; stroke:none; fill-opacity:1\" cx=\"1733.74\" cy=\"1213.19\" r=\"14\"/>\n",
       "<circle clip-path=\"url(#clip4102)\" style=\"fill:#000000; stroke:none; fill-opacity:1\" cx=\"1735.79\" cy=\"1423.95\" r=\"18\"/>\n",
       "<circle clip-path=\"url(#clip4102)\" style=\"fill:#009af9; stroke:none; fill-opacity:1\" cx=\"1735.79\" cy=\"1423.95\" r=\"14\"/>\n",
       "<circle clip-path=\"url(#clip4102)\" style=\"fill:#000000; stroke:none; fill-opacity:1\" cx=\"1737.84\" cy=\"1038.94\" r=\"18\"/>\n",
       "<circle clip-path=\"url(#clip4102)\" style=\"fill:#009af9; stroke:none; fill-opacity:1\" cx=\"1737.84\" cy=\"1038.94\" r=\"14\"/>\n",
       "<circle clip-path=\"url(#clip4102)\" style=\"fill:#000000; stroke:none; fill-opacity:1\" cx=\"1739.89\" cy=\"573.041\" r=\"18\"/>\n",
       "<circle clip-path=\"url(#clip4102)\" style=\"fill:#009af9; stroke:none; fill-opacity:1\" cx=\"1739.89\" cy=\"573.041\" r=\"14\"/>\n",
       "<circle clip-path=\"url(#clip4102)\" style=\"fill:#000000; stroke:none; fill-opacity:1\" cx=\"1741.94\" cy=\"789.022\" r=\"18\"/>\n",
       "<circle clip-path=\"url(#clip4102)\" style=\"fill:#009af9; stroke:none; fill-opacity:1\" cx=\"1741.94\" cy=\"789.022\" r=\"14\"/>\n",
       "<circle clip-path=\"url(#clip4102)\" style=\"fill:#000000; stroke:none; fill-opacity:1\" cx=\"1743.99\" cy=\"448.979\" r=\"18\"/>\n",
       "<circle clip-path=\"url(#clip4102)\" style=\"fill:#009af9; stroke:none; fill-opacity:1\" cx=\"1743.99\" cy=\"448.979\" r=\"14\"/>\n",
       "<circle clip-path=\"url(#clip4102)\" style=\"fill:#000000; stroke:none; fill-opacity:1\" cx=\"1746.04\" cy=\"173.302\" r=\"18\"/>\n",
       "<circle clip-path=\"url(#clip4102)\" style=\"fill:#009af9; stroke:none; fill-opacity:1\" cx=\"1746.04\" cy=\"173.302\" r=\"14\"/>\n",
       "<circle clip-path=\"url(#clip4102)\" style=\"fill:#000000; stroke:none; fill-opacity:1\" cx=\"1748.09\" cy=\"307.071\" r=\"18\"/>\n",
       "<circle clip-path=\"url(#clip4102)\" style=\"fill:#009af9; stroke:none; fill-opacity:1\" cx=\"1748.09\" cy=\"307.071\" r=\"14\"/>\n",
       "<circle clip-path=\"url(#clip4102)\" style=\"fill:#000000; stroke:none; fill-opacity:1\" cx=\"1750.14\" cy=\"301.964\" r=\"18\"/>\n",
       "<circle clip-path=\"url(#clip4102)\" style=\"fill:#009af9; stroke:none; fill-opacity:1\" cx=\"1750.14\" cy=\"301.964\" r=\"14\"/>\n",
       "<circle clip-path=\"url(#clip4102)\" style=\"fill:#000000; stroke:none; fill-opacity:1\" cx=\"1752.19\" cy=\"1099.69\" r=\"18\"/>\n",
       "<circle clip-path=\"url(#clip4102)\" style=\"fill:#009af9; stroke:none; fill-opacity:1\" cx=\"1752.19\" cy=\"1099.69\" r=\"14\"/>\n",
       "<circle clip-path=\"url(#clip4102)\" style=\"fill:#000000; stroke:none; fill-opacity:1\" cx=\"1754.24\" cy=\"552.198\" r=\"18\"/>\n",
       "<circle clip-path=\"url(#clip4102)\" style=\"fill:#009af9; stroke:none; fill-opacity:1\" cx=\"1754.24\" cy=\"552.198\" r=\"14\"/>\n",
       "<circle clip-path=\"url(#clip4102)\" style=\"fill:#000000; stroke:none; fill-opacity:1\" cx=\"1756.29\" cy=\"284.346\" r=\"18\"/>\n",
       "<circle clip-path=\"url(#clip4102)\" style=\"fill:#009af9; stroke:none; fill-opacity:1\" cx=\"1756.29\" cy=\"284.346\" r=\"14\"/>\n",
       "<circle clip-path=\"url(#clip4102)\" style=\"fill:#000000; stroke:none; fill-opacity:1\" cx=\"1758.34\" cy=\"1058.75\" r=\"18\"/>\n",
       "<circle clip-path=\"url(#clip4102)\" style=\"fill:#009af9; stroke:none; fill-opacity:1\" cx=\"1758.34\" cy=\"1058.75\" r=\"14\"/>\n",
       "<circle clip-path=\"url(#clip4102)\" style=\"fill:#000000; stroke:none; fill-opacity:1\" cx=\"1760.39\" cy=\"1322.47\" r=\"18\"/>\n",
       "<circle clip-path=\"url(#clip4102)\" style=\"fill:#009af9; stroke:none; fill-opacity:1\" cx=\"1760.39\" cy=\"1322.47\" r=\"14\"/>\n",
       "<circle clip-path=\"url(#clip4102)\" style=\"fill:#000000; stroke:none; fill-opacity:1\" cx=\"1762.44\" cy=\"1305.68\" r=\"18\"/>\n",
       "<circle clip-path=\"url(#clip4102)\" style=\"fill:#009af9; stroke:none; fill-opacity:1\" cx=\"1762.44\" cy=\"1305.68\" r=\"14\"/>\n",
       "<circle clip-path=\"url(#clip4102)\" style=\"fill:#000000; stroke:none; fill-opacity:1\" cx=\"1764.49\" cy=\"1409.51\" r=\"18\"/>\n",
       "<circle clip-path=\"url(#clip4102)\" style=\"fill:#009af9; stroke:none; fill-opacity:1\" cx=\"1764.49\" cy=\"1409.51\" r=\"14\"/>\n",
       "<circle clip-path=\"url(#clip4102)\" style=\"fill:#000000; stroke:none; fill-opacity:1\" cx=\"1766.54\" cy=\"517.505\" r=\"18\"/>\n",
       "<circle clip-path=\"url(#clip4102)\" style=\"fill:#009af9; stroke:none; fill-opacity:1\" cx=\"1766.54\" cy=\"517.505\" r=\"14\"/>\n",
       "<circle clip-path=\"url(#clip4102)\" style=\"fill:#000000; stroke:none; fill-opacity:1\" cx=\"1768.59\" cy=\"121.538\" r=\"18\"/>\n",
       "<circle clip-path=\"url(#clip4102)\" style=\"fill:#009af9; stroke:none; fill-opacity:1\" cx=\"1768.59\" cy=\"121.538\" r=\"14\"/>\n",
       "<circle clip-path=\"url(#clip4102)\" style=\"fill:#000000; stroke:none; fill-opacity:1\" cx=\"1770.64\" cy=\"1183.14\" r=\"18\"/>\n",
       "<circle clip-path=\"url(#clip4102)\" style=\"fill:#009af9; stroke:none; fill-opacity:1\" cx=\"1770.64\" cy=\"1183.14\" r=\"14\"/>\n",
       "<circle clip-path=\"url(#clip4102)\" style=\"fill:#000000; stroke:none; fill-opacity:1\" cx=\"1772.69\" cy=\"105.303\" r=\"18\"/>\n",
       "<circle clip-path=\"url(#clip4102)\" style=\"fill:#009af9; stroke:none; fill-opacity:1\" cx=\"1772.69\" cy=\"105.303\" r=\"14\"/>\n",
       "<circle clip-path=\"url(#clip4102)\" style=\"fill:#000000; stroke:none; fill-opacity:1\" cx=\"1774.74\" cy=\"847.787\" r=\"18\"/>\n",
       "<circle clip-path=\"url(#clip4102)\" style=\"fill:#009af9; stroke:none; fill-opacity:1\" cx=\"1774.74\" cy=\"847.787\" r=\"14\"/>\n",
       "<circle clip-path=\"url(#clip4102)\" style=\"fill:#000000; stroke:none; fill-opacity:1\" cx=\"1776.79\" cy=\"830.137\" r=\"18\"/>\n",
       "<circle clip-path=\"url(#clip4102)\" style=\"fill:#009af9; stroke:none; fill-opacity:1\" cx=\"1776.79\" cy=\"830.137\" r=\"14\"/>\n",
       "<circle clip-path=\"url(#clip4102)\" style=\"fill:#000000; stroke:none; fill-opacity:1\" cx=\"1778.84\" cy=\"1049.74\" r=\"18\"/>\n",
       "<circle clip-path=\"url(#clip4102)\" style=\"fill:#009af9; stroke:none; fill-opacity:1\" cx=\"1778.84\" cy=\"1049.74\" r=\"14\"/>\n",
       "<circle clip-path=\"url(#clip4102)\" style=\"fill:#000000; stroke:none; fill-opacity:1\" cx=\"1780.89\" cy=\"200.743\" r=\"18\"/>\n",
       "<circle clip-path=\"url(#clip4102)\" style=\"fill:#009af9; stroke:none; fill-opacity:1\" cx=\"1780.89\" cy=\"200.743\" r=\"14\"/>\n",
       "<circle clip-path=\"url(#clip4102)\" style=\"fill:#000000; stroke:none; fill-opacity:1\" cx=\"1782.94\" cy=\"315.171\" r=\"18\"/>\n",
       "<circle clip-path=\"url(#clip4102)\" style=\"fill:#009af9; stroke:none; fill-opacity:1\" cx=\"1782.94\" cy=\"315.171\" r=\"14\"/>\n",
       "<circle clip-path=\"url(#clip4102)\" style=\"fill:#000000; stroke:none; fill-opacity:1\" cx=\"1784.99\" cy=\"876.815\" r=\"18\"/>\n",
       "<circle clip-path=\"url(#clip4102)\" style=\"fill:#009af9; stroke:none; fill-opacity:1\" cx=\"1784.99\" cy=\"876.815\" r=\"14\"/>\n",
       "<circle clip-path=\"url(#clip4102)\" style=\"fill:#000000; stroke:none; fill-opacity:1\" cx=\"1787.04\" cy=\"91.6734\" r=\"18\"/>\n",
       "<circle clip-path=\"url(#clip4102)\" style=\"fill:#009af9; stroke:none; fill-opacity:1\" cx=\"1787.04\" cy=\"91.6734\" r=\"14\"/>\n",
       "<circle clip-path=\"url(#clip4102)\" style=\"fill:#000000; stroke:none; fill-opacity:1\" cx=\"1789.09\" cy=\"682.73\" r=\"18\"/>\n",
       "<circle clip-path=\"url(#clip4102)\" style=\"fill:#009af9; stroke:none; fill-opacity:1\" cx=\"1789.09\" cy=\"682.73\" r=\"14\"/>\n",
       "<circle clip-path=\"url(#clip4102)\" style=\"fill:#000000; stroke:none; fill-opacity:1\" cx=\"1791.14\" cy=\"1209.03\" r=\"18\"/>\n",
       "<circle clip-path=\"url(#clip4102)\" style=\"fill:#009af9; stroke:none; fill-opacity:1\" cx=\"1791.14\" cy=\"1209.03\" r=\"14\"/>\n",
       "<circle clip-path=\"url(#clip4102)\" style=\"fill:#000000; stroke:none; fill-opacity:1\" cx=\"1793.19\" cy=\"489.77\" r=\"18\"/>\n",
       "<circle clip-path=\"url(#clip4102)\" style=\"fill:#009af9; stroke:none; fill-opacity:1\" cx=\"1793.19\" cy=\"489.77\" r=\"14\"/>\n",
       "<circle clip-path=\"url(#clip4102)\" style=\"fill:#000000; stroke:none; fill-opacity:1\" cx=\"1795.24\" cy=\"497.829\" r=\"18\"/>\n",
       "<circle clip-path=\"url(#clip4102)\" style=\"fill:#009af9; stroke:none; fill-opacity:1\" cx=\"1795.24\" cy=\"497.829\" r=\"14\"/>\n",
       "<circle clip-path=\"url(#clip4102)\" style=\"fill:#000000; stroke:none; fill-opacity:1\" cx=\"1797.29\" cy=\"373.669\" r=\"18\"/>\n",
       "<circle clip-path=\"url(#clip4102)\" style=\"fill:#009af9; stroke:none; fill-opacity:1\" cx=\"1797.29\" cy=\"373.669\" r=\"14\"/>\n",
       "<circle clip-path=\"url(#clip4102)\" style=\"fill:#000000; stroke:none; fill-opacity:1\" cx=\"1799.34\" cy=\"703.644\" r=\"18\"/>\n",
       "<circle clip-path=\"url(#clip4102)\" style=\"fill:#009af9; stroke:none; fill-opacity:1\" cx=\"1799.34\" cy=\"703.644\" r=\"14\"/>\n",
       "<circle clip-path=\"url(#clip4102)\" style=\"fill:#000000; stroke:none; fill-opacity:1\" cx=\"1801.39\" cy=\"870.811\" r=\"18\"/>\n",
       "<circle clip-path=\"url(#clip4102)\" style=\"fill:#009af9; stroke:none; fill-opacity:1\" cx=\"1801.39\" cy=\"870.811\" r=\"14\"/>\n",
       "<circle clip-path=\"url(#clip4102)\" style=\"fill:#000000; stroke:none; fill-opacity:1\" cx=\"1803.44\" cy=\"634.697\" r=\"18\"/>\n",
       "<circle clip-path=\"url(#clip4102)\" style=\"fill:#009af9; stroke:none; fill-opacity:1\" cx=\"1803.44\" cy=\"634.697\" r=\"14\"/>\n",
       "<circle clip-path=\"url(#clip4102)\" style=\"fill:#000000; stroke:none; fill-opacity:1\" cx=\"1805.49\" cy=\"1199.87\" r=\"18\"/>\n",
       "<circle clip-path=\"url(#clip4102)\" style=\"fill:#009af9; stroke:none; fill-opacity:1\" cx=\"1805.49\" cy=\"1199.87\" r=\"14\"/>\n",
       "<circle clip-path=\"url(#clip4102)\" style=\"fill:#000000; stroke:none; fill-opacity:1\" cx=\"1807.54\" cy=\"580.163\" r=\"18\"/>\n",
       "<circle clip-path=\"url(#clip4102)\" style=\"fill:#009af9; stroke:none; fill-opacity:1\" cx=\"1807.54\" cy=\"580.163\" r=\"14\"/>\n",
       "<circle clip-path=\"url(#clip4102)\" style=\"fill:#000000; stroke:none; fill-opacity:1\" cx=\"1809.59\" cy=\"241.556\" r=\"18\"/>\n",
       "<circle clip-path=\"url(#clip4102)\" style=\"fill:#009af9; stroke:none; fill-opacity:1\" cx=\"1809.59\" cy=\"241.556\" r=\"14\"/>\n",
       "<circle clip-path=\"url(#clip4102)\" style=\"fill:#000000; stroke:none; fill-opacity:1\" cx=\"1811.64\" cy=\"359.568\" r=\"18\"/>\n",
       "<circle clip-path=\"url(#clip4102)\" style=\"fill:#009af9; stroke:none; fill-opacity:1\" cx=\"1811.64\" cy=\"359.568\" r=\"14\"/>\n",
       "<circle clip-path=\"url(#clip4102)\" style=\"fill:#000000; stroke:none; fill-opacity:1\" cx=\"1813.69\" cy=\"759.749\" r=\"18\"/>\n",
       "<circle clip-path=\"url(#clip4102)\" style=\"fill:#009af9; stroke:none; fill-opacity:1\" cx=\"1813.69\" cy=\"759.749\" r=\"14\"/>\n",
       "<circle clip-path=\"url(#clip4102)\" style=\"fill:#000000; stroke:none; fill-opacity:1\" cx=\"1815.74\" cy=\"960.769\" r=\"18\"/>\n",
       "<circle clip-path=\"url(#clip4102)\" style=\"fill:#009af9; stroke:none; fill-opacity:1\" cx=\"1815.74\" cy=\"960.769\" r=\"14\"/>\n",
       "<circle clip-path=\"url(#clip4102)\" style=\"fill:#000000; stroke:none; fill-opacity:1\" cx=\"1817.79\" cy=\"561.972\" r=\"18\"/>\n",
       "<circle clip-path=\"url(#clip4102)\" style=\"fill:#009af9; stroke:none; fill-opacity:1\" cx=\"1817.79\" cy=\"561.972\" r=\"14\"/>\n",
       "<circle clip-path=\"url(#clip4102)\" style=\"fill:#000000; stroke:none; fill-opacity:1\" cx=\"1819.84\" cy=\"1028.23\" r=\"18\"/>\n",
       "<circle clip-path=\"url(#clip4102)\" style=\"fill:#009af9; stroke:none; fill-opacity:1\" cx=\"1819.84\" cy=\"1028.23\" r=\"14\"/>\n",
       "<circle clip-path=\"url(#clip4102)\" style=\"fill:#000000; stroke:none; fill-opacity:1\" cx=\"1821.89\" cy=\"1249.41\" r=\"18\"/>\n",
       "<circle clip-path=\"url(#clip4102)\" style=\"fill:#009af9; stroke:none; fill-opacity:1\" cx=\"1821.89\" cy=\"1249.41\" r=\"14\"/>\n",
       "<circle clip-path=\"url(#clip4102)\" style=\"fill:#000000; stroke:none; fill-opacity:1\" cx=\"1823.94\" cy=\"371.988\" r=\"18\"/>\n",
       "<circle clip-path=\"url(#clip4102)\" style=\"fill:#009af9; stroke:none; fill-opacity:1\" cx=\"1823.94\" cy=\"371.988\" r=\"14\"/>\n",
       "<circle clip-path=\"url(#clip4102)\" style=\"fill:#000000; stroke:none; fill-opacity:1\" cx=\"1825.99\" cy=\"964.902\" r=\"18\"/>\n",
       "<circle clip-path=\"url(#clip4102)\" style=\"fill:#009af9; stroke:none; fill-opacity:1\" cx=\"1825.99\" cy=\"964.902\" r=\"14\"/>\n",
       "<circle clip-path=\"url(#clip4102)\" style=\"fill:#000000; stroke:none; fill-opacity:1\" cx=\"1828.04\" cy=\"778.275\" r=\"18\"/>\n",
       "<circle clip-path=\"url(#clip4102)\" style=\"fill:#009af9; stroke:none; fill-opacity:1\" cx=\"1828.04\" cy=\"778.275\" r=\"14\"/>\n",
       "<circle clip-path=\"url(#clip4102)\" style=\"fill:#000000; stroke:none; fill-opacity:1\" cx=\"1830.09\" cy=\"856.018\" r=\"18\"/>\n",
       "<circle clip-path=\"url(#clip4102)\" style=\"fill:#009af9; stroke:none; fill-opacity:1\" cx=\"1830.09\" cy=\"856.018\" r=\"14\"/>\n",
       "<circle clip-path=\"url(#clip4102)\" style=\"fill:#000000; stroke:none; fill-opacity:1\" cx=\"1832.14\" cy=\"724.183\" r=\"18\"/>\n",
       "<circle clip-path=\"url(#clip4102)\" style=\"fill:#009af9; stroke:none; fill-opacity:1\" cx=\"1832.14\" cy=\"724.183\" r=\"14\"/>\n",
       "<circle clip-path=\"url(#clip4102)\" style=\"fill:#000000; stroke:none; fill-opacity:1\" cx=\"1834.19\" cy=\"1007.59\" r=\"18\"/>\n",
       "<circle clip-path=\"url(#clip4102)\" style=\"fill:#009af9; stroke:none; fill-opacity:1\" cx=\"1834.19\" cy=\"1007.59\" r=\"14\"/>\n",
       "<circle clip-path=\"url(#clip4102)\" style=\"fill:#000000; stroke:none; fill-opacity:1\" cx=\"1836.24\" cy=\"1022.44\" r=\"18\"/>\n",
       "<circle clip-path=\"url(#clip4102)\" style=\"fill:#009af9; stroke:none; fill-opacity:1\" cx=\"1836.24\" cy=\"1022.44\" r=\"14\"/>\n",
       "<circle clip-path=\"url(#clip4102)\" style=\"fill:#000000; stroke:none; fill-opacity:1\" cx=\"1838.29\" cy=\"536.456\" r=\"18\"/>\n",
       "<circle clip-path=\"url(#clip4102)\" style=\"fill:#009af9; stroke:none; fill-opacity:1\" cx=\"1838.29\" cy=\"536.456\" r=\"14\"/>\n",
       "<circle clip-path=\"url(#clip4102)\" style=\"fill:#000000; stroke:none; fill-opacity:1\" cx=\"1840.34\" cy=\"721.65\" r=\"18\"/>\n",
       "<circle clip-path=\"url(#clip4102)\" style=\"fill:#009af9; stroke:none; fill-opacity:1\" cx=\"1840.34\" cy=\"721.65\" r=\"14\"/>\n",
       "<circle clip-path=\"url(#clip4102)\" style=\"fill:#000000; stroke:none; fill-opacity:1\" cx=\"1842.39\" cy=\"281.773\" r=\"18\"/>\n",
       "<circle clip-path=\"url(#clip4102)\" style=\"fill:#009af9; stroke:none; fill-opacity:1\" cx=\"1842.39\" cy=\"281.773\" r=\"14\"/>\n",
       "<circle clip-path=\"url(#clip4102)\" style=\"fill:#000000; stroke:none; fill-opacity:1\" cx=\"1844.44\" cy=\"1107.59\" r=\"18\"/>\n",
       "<circle clip-path=\"url(#clip4102)\" style=\"fill:#009af9; stroke:none; fill-opacity:1\" cx=\"1844.44\" cy=\"1107.59\" r=\"14\"/>\n",
       "<circle clip-path=\"url(#clip4102)\" style=\"fill:#000000; stroke:none; fill-opacity:1\" cx=\"1846.49\" cy=\"1213.57\" r=\"18\"/>\n",
       "<circle clip-path=\"url(#clip4102)\" style=\"fill:#009af9; stroke:none; fill-opacity:1\" cx=\"1846.49\" cy=\"1213.57\" r=\"14\"/>\n",
       "<circle clip-path=\"url(#clip4102)\" style=\"fill:#000000; stroke:none; fill-opacity:1\" cx=\"1848.54\" cy=\"1382.94\" r=\"18\"/>\n",
       "<circle clip-path=\"url(#clip4102)\" style=\"fill:#009af9; stroke:none; fill-opacity:1\" cx=\"1848.54\" cy=\"1382.94\" r=\"14\"/>\n",
       "<circle clip-path=\"url(#clip4102)\" style=\"fill:#000000; stroke:none; fill-opacity:1\" cx=\"1850.59\" cy=\"1345.06\" r=\"18\"/>\n",
       "<circle clip-path=\"url(#clip4102)\" style=\"fill:#009af9; stroke:none; fill-opacity:1\" cx=\"1850.59\" cy=\"1345.06\" r=\"14\"/>\n",
       "<circle clip-path=\"url(#clip4102)\" style=\"fill:#000000; stroke:none; fill-opacity:1\" cx=\"1852.64\" cy=\"1381.48\" r=\"18\"/>\n",
       "<circle clip-path=\"url(#clip4102)\" style=\"fill:#009af9; stroke:none; fill-opacity:1\" cx=\"1852.64\" cy=\"1381.48\" r=\"14\"/>\n",
       "<circle clip-path=\"url(#clip4102)\" style=\"fill:#000000; stroke:none; fill-opacity:1\" cx=\"1854.69\" cy=\"362.903\" r=\"18\"/>\n",
       "<circle clip-path=\"url(#clip4102)\" style=\"fill:#009af9; stroke:none; fill-opacity:1\" cx=\"1854.69\" cy=\"362.903\" r=\"14\"/>\n",
       "<circle clip-path=\"url(#clip4102)\" style=\"fill:#000000; stroke:none; fill-opacity:1\" cx=\"1856.74\" cy=\"396.416\" r=\"18\"/>\n",
       "<circle clip-path=\"url(#clip4102)\" style=\"fill:#009af9; stroke:none; fill-opacity:1\" cx=\"1856.74\" cy=\"396.416\" r=\"14\"/>\n",
       "<circle clip-path=\"url(#clip4102)\" style=\"fill:#000000; stroke:none; fill-opacity:1\" cx=\"1858.79\" cy=\"300.189\" r=\"18\"/>\n",
       "<circle clip-path=\"url(#clip4102)\" style=\"fill:#009af9; stroke:none; fill-opacity:1\" cx=\"1858.79\" cy=\"300.189\" r=\"14\"/>\n",
       "<circle clip-path=\"url(#clip4102)\" style=\"fill:#000000; stroke:none; fill-opacity:1\" cx=\"1860.84\" cy=\"1154.24\" r=\"18\"/>\n",
       "<circle clip-path=\"url(#clip4102)\" style=\"fill:#009af9; stroke:none; fill-opacity:1\" cx=\"1860.84\" cy=\"1154.24\" r=\"14\"/>\n",
       "<circle clip-path=\"url(#clip4102)\" style=\"fill:#000000; stroke:none; fill-opacity:1\" cx=\"1862.89\" cy=\"853.292\" r=\"18\"/>\n",
       "<circle clip-path=\"url(#clip4102)\" style=\"fill:#009af9; stroke:none; fill-opacity:1\" cx=\"1862.89\" cy=\"853.292\" r=\"14\"/>\n",
       "<circle clip-path=\"url(#clip4102)\" style=\"fill:#000000; stroke:none; fill-opacity:1\" cx=\"1864.94\" cy=\"1122.81\" r=\"18\"/>\n",
       "<circle clip-path=\"url(#clip4102)\" style=\"fill:#009af9; stroke:none; fill-opacity:1\" cx=\"1864.94\" cy=\"1122.81\" r=\"14\"/>\n",
       "<circle clip-path=\"url(#clip4102)\" style=\"fill:#000000; stroke:none; fill-opacity:1\" cx=\"1866.99\" cy=\"1218.16\" r=\"18\"/>\n",
       "<circle clip-path=\"url(#clip4102)\" style=\"fill:#009af9; stroke:none; fill-opacity:1\" cx=\"1866.99\" cy=\"1218.16\" r=\"14\"/>\n",
       "<circle clip-path=\"url(#clip4102)\" style=\"fill:#000000; stroke:none; fill-opacity:1\" cx=\"1869.04\" cy=\"1261.23\" r=\"18\"/>\n",
       "<circle clip-path=\"url(#clip4102)\" style=\"fill:#009af9; stroke:none; fill-opacity:1\" cx=\"1869.04\" cy=\"1261.23\" r=\"14\"/>\n",
       "<circle clip-path=\"url(#clip4102)\" style=\"fill:#000000; stroke:none; fill-opacity:1\" cx=\"1871.08\" cy=\"979.679\" r=\"18\"/>\n",
       "<circle clip-path=\"url(#clip4102)\" style=\"fill:#009af9; stroke:none; fill-opacity:1\" cx=\"1871.08\" cy=\"979.679\" r=\"14\"/>\n",
       "<circle clip-path=\"url(#clip4102)\" style=\"fill:#000000; stroke:none; fill-opacity:1\" cx=\"1873.13\" cy=\"814.856\" r=\"18\"/>\n",
       "<circle clip-path=\"url(#clip4102)\" style=\"fill:#009af9; stroke:none; fill-opacity:1\" cx=\"1873.13\" cy=\"814.856\" r=\"14\"/>\n",
       "<circle clip-path=\"url(#clip4102)\" style=\"fill:#000000; stroke:none; fill-opacity:1\" cx=\"1875.18\" cy=\"558.011\" r=\"18\"/>\n",
       "<circle clip-path=\"url(#clip4102)\" style=\"fill:#009af9; stroke:none; fill-opacity:1\" cx=\"1875.18\" cy=\"558.011\" r=\"14\"/>\n",
       "<circle clip-path=\"url(#clip4102)\" style=\"fill:#000000; stroke:none; fill-opacity:1\" cx=\"1877.23\" cy=\"824.834\" r=\"18\"/>\n",
       "<circle clip-path=\"url(#clip4102)\" style=\"fill:#009af9; stroke:none; fill-opacity:1\" cx=\"1877.23\" cy=\"824.834\" r=\"14\"/>\n",
       "<circle clip-path=\"url(#clip4102)\" style=\"fill:#000000; stroke:none; fill-opacity:1\" cx=\"1879.28\" cy=\"502.033\" r=\"18\"/>\n",
       "<circle clip-path=\"url(#clip4102)\" style=\"fill:#009af9; stroke:none; fill-opacity:1\" cx=\"1879.28\" cy=\"502.033\" r=\"14\"/>\n",
       "<circle clip-path=\"url(#clip4102)\" style=\"fill:#000000; stroke:none; fill-opacity:1\" cx=\"1881.33\" cy=\"409.187\" r=\"18\"/>\n",
       "<circle clip-path=\"url(#clip4102)\" style=\"fill:#009af9; stroke:none; fill-opacity:1\" cx=\"1881.33\" cy=\"409.187\" r=\"14\"/>\n",
       "<circle clip-path=\"url(#clip4102)\" style=\"fill:#000000; stroke:none; fill-opacity:1\" cx=\"1883.38\" cy=\"766.875\" r=\"18\"/>\n",
       "<circle clip-path=\"url(#clip4102)\" style=\"fill:#009af9; stroke:none; fill-opacity:1\" cx=\"1883.38\" cy=\"766.875\" r=\"14\"/>\n",
       "<circle clip-path=\"url(#clip4102)\" style=\"fill:#000000; stroke:none; fill-opacity:1\" cx=\"1885.43\" cy=\"1055.73\" r=\"18\"/>\n",
       "<circle clip-path=\"url(#clip4102)\" style=\"fill:#009af9; stroke:none; fill-opacity:1\" cx=\"1885.43\" cy=\"1055.73\" r=\"14\"/>\n",
       "<circle clip-path=\"url(#clip4102)\" style=\"fill:#000000; stroke:none; fill-opacity:1\" cx=\"1887.48\" cy=\"707.813\" r=\"18\"/>\n",
       "<circle clip-path=\"url(#clip4102)\" style=\"fill:#009af9; stroke:none; fill-opacity:1\" cx=\"1887.48\" cy=\"707.813\" r=\"14\"/>\n",
       "<circle clip-path=\"url(#clip4102)\" style=\"fill:#000000; stroke:none; fill-opacity:1\" cx=\"1889.53\" cy=\"951.053\" r=\"18\"/>\n",
       "<circle clip-path=\"url(#clip4102)\" style=\"fill:#009af9; stroke:none; fill-opacity:1\" cx=\"1889.53\" cy=\"951.053\" r=\"14\"/>\n",
       "<circle clip-path=\"url(#clip4102)\" style=\"fill:#000000; stroke:none; fill-opacity:1\" cx=\"1891.58\" cy=\"471.322\" r=\"18\"/>\n",
       "<circle clip-path=\"url(#clip4102)\" style=\"fill:#009af9; stroke:none; fill-opacity:1\" cx=\"1891.58\" cy=\"471.322\" r=\"14\"/>\n",
       "<circle clip-path=\"url(#clip4102)\" style=\"fill:#000000; stroke:none; fill-opacity:1\" cx=\"1893.63\" cy=\"96.6011\" r=\"18\"/>\n",
       "<circle clip-path=\"url(#clip4102)\" style=\"fill:#009af9; stroke:none; fill-opacity:1\" cx=\"1893.63\" cy=\"96.6011\" r=\"14\"/>\n",
       "<circle clip-path=\"url(#clip4102)\" style=\"fill:#000000; stroke:none; fill-opacity:1\" cx=\"1895.68\" cy=\"210.523\" r=\"18\"/>\n",
       "<circle clip-path=\"url(#clip4102)\" style=\"fill:#009af9; stroke:none; fill-opacity:1\" cx=\"1895.68\" cy=\"210.523\" r=\"14\"/>\n",
       "<circle clip-path=\"url(#clip4102)\" style=\"fill:#000000; stroke:none; fill-opacity:1\" cx=\"1897.73\" cy=\"743.749\" r=\"18\"/>\n",
       "<circle clip-path=\"url(#clip4102)\" style=\"fill:#009af9; stroke:none; fill-opacity:1\" cx=\"1897.73\" cy=\"743.749\" r=\"14\"/>\n",
       "<circle clip-path=\"url(#clip4102)\" style=\"fill:#000000; stroke:none; fill-opacity:1\" cx=\"1899.78\" cy=\"537.509\" r=\"18\"/>\n",
       "<circle clip-path=\"url(#clip4102)\" style=\"fill:#009af9; stroke:none; fill-opacity:1\" cx=\"1899.78\" cy=\"537.509\" r=\"14\"/>\n",
       "<circle clip-path=\"url(#clip4102)\" style=\"fill:#000000; stroke:none; fill-opacity:1\" cx=\"1901.83\" cy=\"716.46\" r=\"18\"/>\n",
       "<circle clip-path=\"url(#clip4102)\" style=\"fill:#009af9; stroke:none; fill-opacity:1\" cx=\"1901.83\" cy=\"716.46\" r=\"14\"/>\n",
       "<circle clip-path=\"url(#clip4102)\" style=\"fill:#000000; stroke:none; fill-opacity:1\" cx=\"1903.88\" cy=\"710.508\" r=\"18\"/>\n",
       "<circle clip-path=\"url(#clip4102)\" style=\"fill:#009af9; stroke:none; fill-opacity:1\" cx=\"1903.88\" cy=\"710.508\" r=\"14\"/>\n",
       "<circle clip-path=\"url(#clip4102)\" style=\"fill:#000000; stroke:none; fill-opacity:1\" cx=\"1905.93\" cy=\"459.217\" r=\"18\"/>\n",
       "<circle clip-path=\"url(#clip4102)\" style=\"fill:#009af9; stroke:none; fill-opacity:1\" cx=\"1905.93\" cy=\"459.217\" r=\"14\"/>\n",
       "<circle clip-path=\"url(#clip4102)\" style=\"fill:#000000; stroke:none; fill-opacity:1\" cx=\"1907.98\" cy=\"426.63\" r=\"18\"/>\n",
       "<circle clip-path=\"url(#clip4102)\" style=\"fill:#009af9; stroke:none; fill-opacity:1\" cx=\"1907.98\" cy=\"426.63\" r=\"14\"/>\n",
       "<circle clip-path=\"url(#clip4102)\" style=\"fill:#000000; stroke:none; fill-opacity:1\" cx=\"1910.03\" cy=\"1058.68\" r=\"18\"/>\n",
       "<circle clip-path=\"url(#clip4102)\" style=\"fill:#009af9; stroke:none; fill-opacity:1\" cx=\"1910.03\" cy=\"1058.68\" r=\"14\"/>\n",
       "<circle clip-path=\"url(#clip4102)\" style=\"fill:#000000; stroke:none; fill-opacity:1\" cx=\"1912.08\" cy=\"824.429\" r=\"18\"/>\n",
       "<circle clip-path=\"url(#clip4102)\" style=\"fill:#009af9; stroke:none; fill-opacity:1\" cx=\"1912.08\" cy=\"824.429\" r=\"14\"/>\n",
       "<circle clip-path=\"url(#clip4102)\" style=\"fill:#000000; stroke:none; fill-opacity:1\" cx=\"1914.13\" cy=\"1202.85\" r=\"18\"/>\n",
       "<circle clip-path=\"url(#clip4102)\" style=\"fill:#009af9; stroke:none; fill-opacity:1\" cx=\"1914.13\" cy=\"1202.85\" r=\"14\"/>\n",
       "<circle clip-path=\"url(#clip4102)\" style=\"fill:#000000; stroke:none; fill-opacity:1\" cx=\"1916.18\" cy=\"431.284\" r=\"18\"/>\n",
       "<circle clip-path=\"url(#clip4102)\" style=\"fill:#009af9; stroke:none; fill-opacity:1\" cx=\"1916.18\" cy=\"431.284\" r=\"14\"/>\n",
       "<circle clip-path=\"url(#clip4102)\" style=\"fill:#000000; stroke:none; fill-opacity:1\" cx=\"1918.23\" cy=\"180.411\" r=\"18\"/>\n",
       "<circle clip-path=\"url(#clip4102)\" style=\"fill:#009af9; stroke:none; fill-opacity:1\" cx=\"1918.23\" cy=\"180.411\" r=\"14\"/>\n",
       "<circle clip-path=\"url(#clip4102)\" style=\"fill:#000000; stroke:none; fill-opacity:1\" cx=\"1920.28\" cy=\"1227.14\" r=\"18\"/>\n",
       "<circle clip-path=\"url(#clip4102)\" style=\"fill:#009af9; stroke:none; fill-opacity:1\" cx=\"1920.28\" cy=\"1227.14\" r=\"14\"/>\n",
       "<circle clip-path=\"url(#clip4102)\" style=\"fill:#000000; stroke:none; fill-opacity:1\" cx=\"1922.33\" cy=\"114.536\" r=\"18\"/>\n",
       "<circle clip-path=\"url(#clip4102)\" style=\"fill:#009af9; stroke:none; fill-opacity:1\" cx=\"1922.33\" cy=\"114.536\" r=\"14\"/>\n",
       "<circle clip-path=\"url(#clip4102)\" style=\"fill:#000000; stroke:none; fill-opacity:1\" cx=\"1924.38\" cy=\"735.193\" r=\"18\"/>\n",
       "<circle clip-path=\"url(#clip4102)\" style=\"fill:#009af9; stroke:none; fill-opacity:1\" cx=\"1924.38\" cy=\"735.193\" r=\"14\"/>\n",
       "<circle clip-path=\"url(#clip4102)\" style=\"fill:#000000; stroke:none; fill-opacity:1\" cx=\"1926.43\" cy=\"152.784\" r=\"18\"/>\n",
       "<circle clip-path=\"url(#clip4102)\" style=\"fill:#009af9; stroke:none; fill-opacity:1\" cx=\"1926.43\" cy=\"152.784\" r=\"14\"/>\n",
       "<circle clip-path=\"url(#clip4102)\" style=\"fill:#000000; stroke:none; fill-opacity:1\" cx=\"1928.48\" cy=\"382.778\" r=\"18\"/>\n",
       "<circle clip-path=\"url(#clip4102)\" style=\"fill:#009af9; stroke:none; fill-opacity:1\" cx=\"1928.48\" cy=\"382.778\" r=\"14\"/>\n",
       "<circle clip-path=\"url(#clip4102)\" style=\"fill:#000000; stroke:none; fill-opacity:1\" cx=\"1930.53\" cy=\"193.177\" r=\"18\"/>\n",
       "<circle clip-path=\"url(#clip4102)\" style=\"fill:#009af9; stroke:none; fill-opacity:1\" cx=\"1930.53\" cy=\"193.177\" r=\"14\"/>\n",
       "<circle clip-path=\"url(#clip4102)\" style=\"fill:#000000; stroke:none; fill-opacity:1\" cx=\"1932.58\" cy=\"569.6\" r=\"18\"/>\n",
       "<circle clip-path=\"url(#clip4102)\" style=\"fill:#009af9; stroke:none; fill-opacity:1\" cx=\"1932.58\" cy=\"569.6\" r=\"14\"/>\n",
       "<circle clip-path=\"url(#clip4102)\" style=\"fill:#000000; stroke:none; fill-opacity:1\" cx=\"1934.63\" cy=\"955.688\" r=\"18\"/>\n",
       "<circle clip-path=\"url(#clip4102)\" style=\"fill:#009af9; stroke:none; fill-opacity:1\" cx=\"1934.63\" cy=\"955.688\" r=\"14\"/>\n",
       "<circle clip-path=\"url(#clip4102)\" style=\"fill:#000000; stroke:none; fill-opacity:1\" cx=\"1936.68\" cy=\"264.087\" r=\"18\"/>\n",
       "<circle clip-path=\"url(#clip4102)\" style=\"fill:#009af9; stroke:none; fill-opacity:1\" cx=\"1936.68\" cy=\"264.087\" r=\"14\"/>\n",
       "<circle clip-path=\"url(#clip4102)\" style=\"fill:#000000; stroke:none; fill-opacity:1\" cx=\"1938.73\" cy=\"1304.47\" r=\"18\"/>\n",
       "<circle clip-path=\"url(#clip4102)\" style=\"fill:#009af9; stroke:none; fill-opacity:1\" cx=\"1938.73\" cy=\"1304.47\" r=\"14\"/>\n",
       "<circle clip-path=\"url(#clip4102)\" style=\"fill:#000000; stroke:none; fill-opacity:1\" cx=\"1940.78\" cy=\"1275.71\" r=\"18\"/>\n",
       "<circle clip-path=\"url(#clip4102)\" style=\"fill:#009af9; stroke:none; fill-opacity:1\" cx=\"1940.78\" cy=\"1275.71\" r=\"14\"/>\n",
       "<circle clip-path=\"url(#clip4102)\" style=\"fill:#000000; stroke:none; fill-opacity:1\" cx=\"1942.83\" cy=\"1308.11\" r=\"18\"/>\n",
       "<circle clip-path=\"url(#clip4102)\" style=\"fill:#009af9; stroke:none; fill-opacity:1\" cx=\"1942.83\" cy=\"1308.11\" r=\"14\"/>\n",
       "<circle clip-path=\"url(#clip4102)\" style=\"fill:#000000; stroke:none; fill-opacity:1\" cx=\"1944.88\" cy=\"135.667\" r=\"18\"/>\n",
       "<circle clip-path=\"url(#clip4102)\" style=\"fill:#009af9; stroke:none; fill-opacity:1\" cx=\"1944.88\" cy=\"135.667\" r=\"14\"/>\n",
       "<circle clip-path=\"url(#clip4102)\" style=\"fill:#000000; stroke:none; fill-opacity:1\" cx=\"1946.93\" cy=\"873.361\" r=\"18\"/>\n",
       "<circle clip-path=\"url(#clip4102)\" style=\"fill:#009af9; stroke:none; fill-opacity:1\" cx=\"1946.93\" cy=\"873.361\" r=\"14\"/>\n",
       "<circle clip-path=\"url(#clip4102)\" style=\"fill:#000000; stroke:none; fill-opacity:1\" cx=\"1948.98\" cy=\"1251.1\" r=\"18\"/>\n",
       "<circle clip-path=\"url(#clip4102)\" style=\"fill:#009af9; stroke:none; fill-opacity:1\" cx=\"1948.98\" cy=\"1251.1\" r=\"14\"/>\n",
       "<circle clip-path=\"url(#clip4102)\" style=\"fill:#000000; stroke:none; fill-opacity:1\" cx=\"1951.03\" cy=\"520.528\" r=\"18\"/>\n",
       "<circle clip-path=\"url(#clip4102)\" style=\"fill:#009af9; stroke:none; fill-opacity:1\" cx=\"1951.03\" cy=\"520.528\" r=\"14\"/>\n",
       "<circle clip-path=\"url(#clip4102)\" style=\"fill:#000000; stroke:none; fill-opacity:1\" cx=\"1953.08\" cy=\"724.365\" r=\"18\"/>\n",
       "<circle clip-path=\"url(#clip4102)\" style=\"fill:#009af9; stroke:none; fill-opacity:1\" cx=\"1953.08\" cy=\"724.365\" r=\"14\"/>\n",
       "<circle clip-path=\"url(#clip4102)\" style=\"fill:#000000; stroke:none; fill-opacity:1\" cx=\"1955.13\" cy=\"495.234\" r=\"18\"/>\n",
       "<circle clip-path=\"url(#clip4102)\" style=\"fill:#009af9; stroke:none; fill-opacity:1\" cx=\"1955.13\" cy=\"495.234\" r=\"14\"/>\n",
       "<circle clip-path=\"url(#clip4102)\" style=\"fill:#000000; stroke:none; fill-opacity:1\" cx=\"1957.18\" cy=\"405.882\" r=\"18\"/>\n",
       "<circle clip-path=\"url(#clip4102)\" style=\"fill:#009af9; stroke:none; fill-opacity:1\" cx=\"1957.18\" cy=\"405.882\" r=\"14\"/>\n",
       "<circle clip-path=\"url(#clip4102)\" style=\"fill:#000000; stroke:none; fill-opacity:1\" cx=\"1959.23\" cy=\"1417.71\" r=\"18\"/>\n",
       "<circle clip-path=\"url(#clip4102)\" style=\"fill:#009af9; stroke:none; fill-opacity:1\" cx=\"1959.23\" cy=\"1417.71\" r=\"14\"/>\n",
       "<circle clip-path=\"url(#clip4102)\" style=\"fill:#000000; stroke:none; fill-opacity:1\" cx=\"1961.28\" cy=\"1092.36\" r=\"18\"/>\n",
       "<circle clip-path=\"url(#clip4102)\" style=\"fill:#009af9; stroke:none; fill-opacity:1\" cx=\"1961.28\" cy=\"1092.36\" r=\"14\"/>\n",
       "<circle clip-path=\"url(#clip4102)\" style=\"fill:#000000; stroke:none; fill-opacity:1\" cx=\"1963.33\" cy=\"114.942\" r=\"18\"/>\n",
       "<circle clip-path=\"url(#clip4102)\" style=\"fill:#009af9; stroke:none; fill-opacity:1\" cx=\"1963.33\" cy=\"114.942\" r=\"14\"/>\n",
       "<circle clip-path=\"url(#clip4102)\" style=\"fill:#000000; stroke:none; fill-opacity:1\" cx=\"1965.38\" cy=\"1353.88\" r=\"18\"/>\n",
       "<circle clip-path=\"url(#clip4102)\" style=\"fill:#009af9; stroke:none; fill-opacity:1\" cx=\"1965.38\" cy=\"1353.88\" r=\"14\"/>\n",
       "<circle clip-path=\"url(#clip4102)\" style=\"fill:#000000; stroke:none; fill-opacity:1\" cx=\"1967.43\" cy=\"463.182\" r=\"18\"/>\n",
       "<circle clip-path=\"url(#clip4102)\" style=\"fill:#009af9; stroke:none; fill-opacity:1\" cx=\"1967.43\" cy=\"463.182\" r=\"14\"/>\n",
       "<circle clip-path=\"url(#clip4102)\" style=\"fill:#000000; stroke:none; fill-opacity:1\" cx=\"1969.48\" cy=\"1392.38\" r=\"18\"/>\n",
       "<circle clip-path=\"url(#clip4102)\" style=\"fill:#009af9; stroke:none; fill-opacity:1\" cx=\"1969.48\" cy=\"1392.38\" r=\"14\"/>\n",
       "<circle clip-path=\"url(#clip4102)\" style=\"fill:#000000; stroke:none; fill-opacity:1\" cx=\"1971.53\" cy=\"1188.83\" r=\"18\"/>\n",
       "<circle clip-path=\"url(#clip4102)\" style=\"fill:#009af9; stroke:none; fill-opacity:1\" cx=\"1971.53\" cy=\"1188.83\" r=\"14\"/>\n",
       "<circle clip-path=\"url(#clip4102)\" style=\"fill:#000000; stroke:none; fill-opacity:1\" cx=\"1973.58\" cy=\"1020.89\" r=\"18\"/>\n",
       "<circle clip-path=\"url(#clip4102)\" style=\"fill:#009af9; stroke:none; fill-opacity:1\" cx=\"1973.58\" cy=\"1020.89\" r=\"14\"/>\n",
       "<circle clip-path=\"url(#clip4102)\" style=\"fill:#000000; stroke:none; fill-opacity:1\" cx=\"1975.63\" cy=\"1019.61\" r=\"18\"/>\n",
       "<circle clip-path=\"url(#clip4102)\" style=\"fill:#009af9; stroke:none; fill-opacity:1\" cx=\"1975.63\" cy=\"1019.61\" r=\"14\"/>\n",
       "<circle clip-path=\"url(#clip4102)\" style=\"fill:#000000; stroke:none; fill-opacity:1\" cx=\"1977.68\" cy=\"1354.31\" r=\"18\"/>\n",
       "<circle clip-path=\"url(#clip4102)\" style=\"fill:#009af9; stroke:none; fill-opacity:1\" cx=\"1977.68\" cy=\"1354.31\" r=\"14\"/>\n",
       "<circle clip-path=\"url(#clip4102)\" style=\"fill:#000000; stroke:none; fill-opacity:1\" cx=\"1979.73\" cy=\"1201.6\" r=\"18\"/>\n",
       "<circle clip-path=\"url(#clip4102)\" style=\"fill:#009af9; stroke:none; fill-opacity:1\" cx=\"1979.73\" cy=\"1201.6\" r=\"14\"/>\n",
       "<circle clip-path=\"url(#clip4102)\" style=\"fill:#000000; stroke:none; fill-opacity:1\" cx=\"1981.78\" cy=\"420.185\" r=\"18\"/>\n",
       "<circle clip-path=\"url(#clip4102)\" style=\"fill:#009af9; stroke:none; fill-opacity:1\" cx=\"1981.78\" cy=\"420.185\" r=\"14\"/>\n",
       "<circle clip-path=\"url(#clip4102)\" style=\"fill:#000000; stroke:none; fill-opacity:1\" cx=\"1983.83\" cy=\"1327.44\" r=\"18\"/>\n",
       "<circle clip-path=\"url(#clip4102)\" style=\"fill:#009af9; stroke:none; fill-opacity:1\" cx=\"1983.83\" cy=\"1327.44\" r=\"14\"/>\n",
       "<circle clip-path=\"url(#clip4102)\" style=\"fill:#000000; stroke:none; fill-opacity:1\" cx=\"1985.88\" cy=\"411.025\" r=\"18\"/>\n",
       "<circle clip-path=\"url(#clip4102)\" style=\"fill:#009af9; stroke:none; fill-opacity:1\" cx=\"1985.88\" cy=\"411.025\" r=\"14\"/>\n",
       "<circle clip-path=\"url(#clip4102)\" style=\"fill:#000000; stroke:none; fill-opacity:1\" cx=\"1987.93\" cy=\"828.905\" r=\"18\"/>\n",
       "<circle clip-path=\"url(#clip4102)\" style=\"fill:#009af9; stroke:none; fill-opacity:1\" cx=\"1987.93\" cy=\"828.905\" r=\"14\"/>\n",
       "<circle clip-path=\"url(#clip4102)\" style=\"fill:#000000; stroke:none; fill-opacity:1\" cx=\"1989.98\" cy=\"280.031\" r=\"18\"/>\n",
       "<circle clip-path=\"url(#clip4102)\" style=\"fill:#009af9; stroke:none; fill-opacity:1\" cx=\"1989.98\" cy=\"280.031\" r=\"14\"/>\n",
       "<circle clip-path=\"url(#clip4102)\" style=\"fill:#000000; stroke:none; fill-opacity:1\" cx=\"1992.03\" cy=\"659.469\" r=\"18\"/>\n",
       "<circle clip-path=\"url(#clip4102)\" style=\"fill:#009af9; stroke:none; fill-opacity:1\" cx=\"1992.03\" cy=\"659.469\" r=\"14\"/>\n",
       "<circle clip-path=\"url(#clip4102)\" style=\"fill:#000000; stroke:none; fill-opacity:1\" cx=\"1994.08\" cy=\"601.33\" r=\"18\"/>\n",
       "<circle clip-path=\"url(#clip4102)\" style=\"fill:#009af9; stroke:none; fill-opacity:1\" cx=\"1994.08\" cy=\"601.33\" r=\"14\"/>\n",
       "<circle clip-path=\"url(#clip4102)\" style=\"fill:#000000; stroke:none; fill-opacity:1\" cx=\"1996.13\" cy=\"1338.1\" r=\"18\"/>\n",
       "<circle clip-path=\"url(#clip4102)\" style=\"fill:#009af9; stroke:none; fill-opacity:1\" cx=\"1996.13\" cy=\"1338.1\" r=\"14\"/>\n",
       "<circle clip-path=\"url(#clip4102)\" style=\"fill:#000000; stroke:none; fill-opacity:1\" cx=\"1998.18\" cy=\"689.043\" r=\"18\"/>\n",
       "<circle clip-path=\"url(#clip4102)\" style=\"fill:#009af9; stroke:none; fill-opacity:1\" cx=\"1998.18\" cy=\"689.043\" r=\"14\"/>\n",
       "<circle clip-path=\"url(#clip4102)\" style=\"fill:#000000; stroke:none; fill-opacity:1\" cx=\"2000.23\" cy=\"242.37\" r=\"18\"/>\n",
       "<circle clip-path=\"url(#clip4102)\" style=\"fill:#009af9; stroke:none; fill-opacity:1\" cx=\"2000.23\" cy=\"242.37\" r=\"14\"/>\n",
       "<circle clip-path=\"url(#clip4102)\" style=\"fill:#000000; stroke:none; fill-opacity:1\" cx=\"2002.28\" cy=\"1337.16\" r=\"18\"/>\n",
       "<circle clip-path=\"url(#clip4102)\" style=\"fill:#009af9; stroke:none; fill-opacity:1\" cx=\"2002.28\" cy=\"1337.16\" r=\"14\"/>\n",
       "<circle clip-path=\"url(#clip4102)\" style=\"fill:#000000; stroke:none; fill-opacity:1\" cx=\"2004.33\" cy=\"1075.14\" r=\"18\"/>\n",
       "<circle clip-path=\"url(#clip4102)\" style=\"fill:#009af9; stroke:none; fill-opacity:1\" cx=\"2004.33\" cy=\"1075.14\" r=\"14\"/>\n",
       "<circle clip-path=\"url(#clip4102)\" style=\"fill:#000000; stroke:none; fill-opacity:1\" cx=\"2006.38\" cy=\"850.361\" r=\"18\"/>\n",
       "<circle clip-path=\"url(#clip4102)\" style=\"fill:#009af9; stroke:none; fill-opacity:1\" cx=\"2006.38\" cy=\"850.361\" r=\"14\"/>\n",
       "<circle clip-path=\"url(#clip4102)\" style=\"fill:#000000; stroke:none; fill-opacity:1\" cx=\"2008.43\" cy=\"144.119\" r=\"18\"/>\n",
       "<circle clip-path=\"url(#clip4102)\" style=\"fill:#009af9; stroke:none; fill-opacity:1\" cx=\"2008.43\" cy=\"144.119\" r=\"14\"/>\n",
       "<circle clip-path=\"url(#clip4102)\" style=\"fill:#000000; stroke:none; fill-opacity:1\" cx=\"2010.48\" cy=\"116.828\" r=\"18\"/>\n",
       "<circle clip-path=\"url(#clip4102)\" style=\"fill:#009af9; stroke:none; fill-opacity:1\" cx=\"2010.48\" cy=\"116.828\" r=\"14\"/>\n",
       "<circle clip-path=\"url(#clip4102)\" style=\"fill:#000000; stroke:none; fill-opacity:1\" cx=\"2012.53\" cy=\"929.337\" r=\"18\"/>\n",
       "<circle clip-path=\"url(#clip4102)\" style=\"fill:#009af9; stroke:none; fill-opacity:1\" cx=\"2012.53\" cy=\"929.337\" r=\"14\"/>\n",
       "<circle clip-path=\"url(#clip4102)\" style=\"fill:#000000; stroke:none; fill-opacity:1\" cx=\"2014.58\" cy=\"572.706\" r=\"18\"/>\n",
       "<circle clip-path=\"url(#clip4102)\" style=\"fill:#009af9; stroke:none; fill-opacity:1\" cx=\"2014.58\" cy=\"572.706\" r=\"14\"/>\n",
       "<circle clip-path=\"url(#clip4102)\" style=\"fill:#000000; stroke:none; fill-opacity:1\" cx=\"2016.63\" cy=\"793.864\" r=\"18\"/>\n",
       "<circle clip-path=\"url(#clip4102)\" style=\"fill:#009af9; stroke:none; fill-opacity:1\" cx=\"2016.63\" cy=\"793.864\" r=\"14\"/>\n",
       "<circle clip-path=\"url(#clip4102)\" style=\"fill:#000000; stroke:none; fill-opacity:1\" cx=\"2018.68\" cy=\"736.707\" r=\"18\"/>\n",
       "<circle clip-path=\"url(#clip4102)\" style=\"fill:#009af9; stroke:none; fill-opacity:1\" cx=\"2018.68\" cy=\"736.707\" r=\"14\"/>\n",
       "<circle clip-path=\"url(#clip4102)\" style=\"fill:#000000; stroke:none; fill-opacity:1\" cx=\"2020.73\" cy=\"924.196\" r=\"18\"/>\n",
       "<circle clip-path=\"url(#clip4102)\" style=\"fill:#009af9; stroke:none; fill-opacity:1\" cx=\"2020.73\" cy=\"924.196\" r=\"14\"/>\n",
       "<circle clip-path=\"url(#clip4102)\" style=\"fill:#000000; stroke:none; fill-opacity:1\" cx=\"2022.78\" cy=\"1095.21\" r=\"18\"/>\n",
       "<circle clip-path=\"url(#clip4102)\" style=\"fill:#009af9; stroke:none; fill-opacity:1\" cx=\"2022.78\" cy=\"1095.21\" r=\"14\"/>\n",
       "<circle clip-path=\"url(#clip4102)\" style=\"fill:#000000; stroke:none; fill-opacity:1\" cx=\"2024.83\" cy=\"1374.38\" r=\"18\"/>\n",
       "<circle clip-path=\"url(#clip4102)\" style=\"fill:#009af9; stroke:none; fill-opacity:1\" cx=\"2024.83\" cy=\"1374.38\" r=\"14\"/>\n",
       "<circle clip-path=\"url(#clip4102)\" style=\"fill:#000000; stroke:none; fill-opacity:1\" cx=\"2026.88\" cy=\"676.967\" r=\"18\"/>\n",
       "<circle clip-path=\"url(#clip4102)\" style=\"fill:#009af9; stroke:none; fill-opacity:1\" cx=\"2026.88\" cy=\"676.967\" r=\"14\"/>\n",
       "<circle clip-path=\"url(#clip4102)\" style=\"fill:#000000; stroke:none; fill-opacity:1\" cx=\"2028.93\" cy=\"494.487\" r=\"18\"/>\n",
       "<circle clip-path=\"url(#clip4102)\" style=\"fill:#009af9; stroke:none; fill-opacity:1\" cx=\"2028.93\" cy=\"494.487\" r=\"14\"/>\n",
       "<circle clip-path=\"url(#clip4102)\" style=\"fill:#000000; stroke:none; fill-opacity:1\" cx=\"2030.98\" cy=\"1426.51\" r=\"18\"/>\n",
       "<circle clip-path=\"url(#clip4102)\" style=\"fill:#009af9; stroke:none; fill-opacity:1\" cx=\"2030.98\" cy=\"1426.51\" r=\"14\"/>\n",
       "<circle clip-path=\"url(#clip4102)\" style=\"fill:#000000; stroke:none; fill-opacity:1\" cx=\"2033.03\" cy=\"892.797\" r=\"18\"/>\n",
       "<circle clip-path=\"url(#clip4102)\" style=\"fill:#009af9; stroke:none; fill-opacity:1\" cx=\"2033.03\" cy=\"892.797\" r=\"14\"/>\n",
       "<circle clip-path=\"url(#clip4102)\" style=\"fill:#000000; stroke:none; fill-opacity:1\" cx=\"2035.08\" cy=\"320.858\" r=\"18\"/>\n",
       "<circle clip-path=\"url(#clip4102)\" style=\"fill:#009af9; stroke:none; fill-opacity:1\" cx=\"2035.08\" cy=\"320.858\" r=\"14\"/>\n",
       "<circle clip-path=\"url(#clip4102)\" style=\"fill:#000000; stroke:none; fill-opacity:1\" cx=\"2037.13\" cy=\"1132.45\" r=\"18\"/>\n",
       "<circle clip-path=\"url(#clip4102)\" style=\"fill:#009af9; stroke:none; fill-opacity:1\" cx=\"2037.13\" cy=\"1132.45\" r=\"14\"/>\n",
       "<circle clip-path=\"url(#clip4102)\" style=\"fill:#000000; stroke:none; fill-opacity:1\" cx=\"2039.18\" cy=\"498.844\" r=\"18\"/>\n",
       "<circle clip-path=\"url(#clip4102)\" style=\"fill:#009af9; stroke:none; fill-opacity:1\" cx=\"2039.18\" cy=\"498.844\" r=\"14\"/>\n",
       "<circle clip-path=\"url(#clip4102)\" style=\"fill:#000000; stroke:none; fill-opacity:1\" cx=\"2041.23\" cy=\"677.154\" r=\"18\"/>\n",
       "<circle clip-path=\"url(#clip4102)\" style=\"fill:#009af9; stroke:none; fill-opacity:1\" cx=\"2041.23\" cy=\"677.154\" r=\"14\"/>\n",
       "<circle clip-path=\"url(#clip4102)\" style=\"fill:#000000; stroke:none; fill-opacity:1\" cx=\"2043.28\" cy=\"1434.94\" r=\"18\"/>\n",
       "<circle clip-path=\"url(#clip4102)\" style=\"fill:#009af9; stroke:none; fill-opacity:1\" cx=\"2043.28\" cy=\"1434.94\" r=\"14\"/>\n",
       "<circle clip-path=\"url(#clip4102)\" style=\"fill:#000000; stroke:none; fill-opacity:1\" cx=\"2045.33\" cy=\"1302.32\" r=\"18\"/>\n",
       "<circle clip-path=\"url(#clip4102)\" style=\"fill:#009af9; stroke:none; fill-opacity:1\" cx=\"2045.33\" cy=\"1302.32\" r=\"14\"/>\n",
       "<circle clip-path=\"url(#clip4102)\" style=\"fill:#000000; stroke:none; fill-opacity:1\" cx=\"2047.38\" cy=\"133.435\" r=\"18\"/>\n",
       "<circle clip-path=\"url(#clip4102)\" style=\"fill:#009af9; stroke:none; fill-opacity:1\" cx=\"2047.38\" cy=\"133.435\" r=\"14\"/>\n",
       "<circle clip-path=\"url(#clip4102)\" style=\"fill:#000000; stroke:none; fill-opacity:1\" cx=\"2049.43\" cy=\"634.625\" r=\"18\"/>\n",
       "<circle clip-path=\"url(#clip4102)\" style=\"fill:#009af9; stroke:none; fill-opacity:1\" cx=\"2049.43\" cy=\"634.625\" r=\"14\"/>\n",
       "<circle clip-path=\"url(#clip4102)\" style=\"fill:#000000; stroke:none; fill-opacity:1\" cx=\"2051.48\" cy=\"1077.41\" r=\"18\"/>\n",
       "<circle clip-path=\"url(#clip4102)\" style=\"fill:#009af9; stroke:none; fill-opacity:1\" cx=\"2051.48\" cy=\"1077.41\" r=\"14\"/>\n",
       "<circle clip-path=\"url(#clip4102)\" style=\"fill:#000000; stroke:none; fill-opacity:1\" cx=\"2053.53\" cy=\"883.721\" r=\"18\"/>\n",
       "<circle clip-path=\"url(#clip4102)\" style=\"fill:#009af9; stroke:none; fill-opacity:1\" cx=\"2053.53\" cy=\"883.721\" r=\"14\"/>\n",
       "<circle clip-path=\"url(#clip4102)\" style=\"fill:#000000; stroke:none; fill-opacity:1\" cx=\"2055.58\" cy=\"1096.42\" r=\"18\"/>\n",
       "<circle clip-path=\"url(#clip4102)\" style=\"fill:#009af9; stroke:none; fill-opacity:1\" cx=\"2055.58\" cy=\"1096.42\" r=\"14\"/>\n",
       "<circle clip-path=\"url(#clip4102)\" style=\"fill:#000000; stroke:none; fill-opacity:1\" cx=\"2057.63\" cy=\"1437.99\" r=\"18\"/>\n",
       "<circle clip-path=\"url(#clip4102)\" style=\"fill:#009af9; stroke:none; fill-opacity:1\" cx=\"2057.63\" cy=\"1437.99\" r=\"14\"/>\n",
       "<circle clip-path=\"url(#clip4102)\" style=\"fill:#000000; stroke:none; fill-opacity:1\" cx=\"2059.68\" cy=\"368.729\" r=\"18\"/>\n",
       "<circle clip-path=\"url(#clip4102)\" style=\"fill:#009af9; stroke:none; fill-opacity:1\" cx=\"2059.68\" cy=\"368.729\" r=\"14\"/>\n",
       "<circle clip-path=\"url(#clip4102)\" style=\"fill:#000000; stroke:none; fill-opacity:1\" cx=\"2061.73\" cy=\"987.625\" r=\"18\"/>\n",
       "<circle clip-path=\"url(#clip4102)\" style=\"fill:#009af9; stroke:none; fill-opacity:1\" cx=\"2061.73\" cy=\"987.625\" r=\"14\"/>\n",
       "<circle clip-path=\"url(#clip4102)\" style=\"fill:#000000; stroke:none; fill-opacity:1\" cx=\"2063.78\" cy=\"1284.81\" r=\"18\"/>\n",
       "<circle clip-path=\"url(#clip4102)\" style=\"fill:#009af9; stroke:none; fill-opacity:1\" cx=\"2063.78\" cy=\"1284.81\" r=\"14\"/>\n",
       "<circle clip-path=\"url(#clip4102)\" style=\"fill:#000000; stroke:none; fill-opacity:1\" cx=\"2065.83\" cy=\"564.437\" r=\"18\"/>\n",
       "<circle clip-path=\"url(#clip4102)\" style=\"fill:#009af9; stroke:none; fill-opacity:1\" cx=\"2065.83\" cy=\"564.437\" r=\"14\"/>\n",
       "<circle clip-path=\"url(#clip4102)\" style=\"fill:#000000; stroke:none; fill-opacity:1\" cx=\"2067.88\" cy=\"942.565\" r=\"18\"/>\n",
       "<circle clip-path=\"url(#clip4102)\" style=\"fill:#009af9; stroke:none; fill-opacity:1\" cx=\"2067.88\" cy=\"942.565\" r=\"14\"/>\n",
       "<circle clip-path=\"url(#clip4102)\" style=\"fill:#000000; stroke:none; fill-opacity:1\" cx=\"2069.93\" cy=\"833.229\" r=\"18\"/>\n",
       "<circle clip-path=\"url(#clip4102)\" style=\"fill:#009af9; stroke:none; fill-opacity:1\" cx=\"2069.93\" cy=\"833.229\" r=\"14\"/>\n",
       "<circle clip-path=\"url(#clip4102)\" style=\"fill:#000000; stroke:none; fill-opacity:1\" cx=\"2071.98\" cy=\"287.102\" r=\"18\"/>\n",
       "<circle clip-path=\"url(#clip4102)\" style=\"fill:#009af9; stroke:none; fill-opacity:1\" cx=\"2071.98\" cy=\"287.102\" r=\"14\"/>\n",
       "<circle clip-path=\"url(#clip4102)\" style=\"fill:#000000; stroke:none; fill-opacity:1\" cx=\"2074.03\" cy=\"116.601\" r=\"18\"/>\n",
       "<circle clip-path=\"url(#clip4102)\" style=\"fill:#009af9; stroke:none; fill-opacity:1\" cx=\"2074.03\" cy=\"116.601\" r=\"14\"/>\n",
       "<circle clip-path=\"url(#clip4102)\" style=\"fill:#000000; stroke:none; fill-opacity:1\" cx=\"2076.08\" cy=\"710.47\" r=\"18\"/>\n",
       "<circle clip-path=\"url(#clip4102)\" style=\"fill:#009af9; stroke:none; fill-opacity:1\" cx=\"2076.08\" cy=\"710.47\" r=\"14\"/>\n",
       "<circle clip-path=\"url(#clip4102)\" style=\"fill:#000000; stroke:none; fill-opacity:1\" cx=\"2078.13\" cy=\"292.849\" r=\"18\"/>\n",
       "<circle clip-path=\"url(#clip4102)\" style=\"fill:#009af9; stroke:none; fill-opacity:1\" cx=\"2078.13\" cy=\"292.849\" r=\"14\"/>\n",
       "<circle clip-path=\"url(#clip4102)\" style=\"fill:#000000; stroke:none; fill-opacity:1\" cx=\"2080.18\" cy=\"466.757\" r=\"18\"/>\n",
       "<circle clip-path=\"url(#clip4102)\" style=\"fill:#009af9; stroke:none; fill-opacity:1\" cx=\"2080.18\" cy=\"466.757\" r=\"14\"/>\n",
       "<circle clip-path=\"url(#clip4102)\" style=\"fill:#000000; stroke:none; fill-opacity:1\" cx=\"2082.23\" cy=\"99.969\" r=\"18\"/>\n",
       "<circle clip-path=\"url(#clip4102)\" style=\"fill:#009af9; stroke:none; fill-opacity:1\" cx=\"2082.23\" cy=\"99.969\" r=\"14\"/>\n",
       "<circle clip-path=\"url(#clip4102)\" style=\"fill:#000000; stroke:none; fill-opacity:1\" cx=\"2084.28\" cy=\"682.914\" r=\"18\"/>\n",
       "<circle clip-path=\"url(#clip4102)\" style=\"fill:#009af9; stroke:none; fill-opacity:1\" cx=\"2084.28\" cy=\"682.914\" r=\"14\"/>\n",
       "<circle clip-path=\"url(#clip4102)\" style=\"fill:#000000; stroke:none; fill-opacity:1\" cx=\"2086.33\" cy=\"1214.51\" r=\"18\"/>\n",
       "<circle clip-path=\"url(#clip4102)\" style=\"fill:#009af9; stroke:none; fill-opacity:1\" cx=\"2086.33\" cy=\"1214.51\" r=\"14\"/>\n",
       "<circle clip-path=\"url(#clip4102)\" style=\"fill:#000000; stroke:none; fill-opacity:1\" cx=\"2088.38\" cy=\"927.775\" r=\"18\"/>\n",
       "<circle clip-path=\"url(#clip4102)\" style=\"fill:#009af9; stroke:none; fill-opacity:1\" cx=\"2088.38\" cy=\"927.775\" r=\"14\"/>\n",
       "<circle clip-path=\"url(#clip4102)\" style=\"fill:#000000; stroke:none; fill-opacity:1\" cx=\"2090.43\" cy=\"1330.76\" r=\"18\"/>\n",
       "<circle clip-path=\"url(#clip4102)\" style=\"fill:#009af9; stroke:none; fill-opacity:1\" cx=\"2090.43\" cy=\"1330.76\" r=\"14\"/>\n",
       "<circle clip-path=\"url(#clip4102)\" style=\"fill:#000000; stroke:none; fill-opacity:1\" cx=\"2092.48\" cy=\"896.833\" r=\"18\"/>\n",
       "<circle clip-path=\"url(#clip4102)\" style=\"fill:#009af9; stroke:none; fill-opacity:1\" cx=\"2092.48\" cy=\"896.833\" r=\"14\"/>\n",
       "<circle clip-path=\"url(#clip4102)\" style=\"fill:#000000; stroke:none; fill-opacity:1\" cx=\"2094.53\" cy=\"465.336\" r=\"18\"/>\n",
       "<circle clip-path=\"url(#clip4102)\" style=\"fill:#009af9; stroke:none; fill-opacity:1\" cx=\"2094.53\" cy=\"465.336\" r=\"14\"/>\n",
       "<circle clip-path=\"url(#clip4102)\" style=\"fill:#000000; stroke:none; fill-opacity:1\" cx=\"2096.58\" cy=\"1329.27\" r=\"18\"/>\n",
       "<circle clip-path=\"url(#clip4102)\" style=\"fill:#009af9; stroke:none; fill-opacity:1\" cx=\"2096.58\" cy=\"1329.27\" r=\"14\"/>\n",
       "<circle clip-path=\"url(#clip4102)\" style=\"fill:#000000; stroke:none; fill-opacity:1\" cx=\"2098.63\" cy=\"669.742\" r=\"18\"/>\n",
       "<circle clip-path=\"url(#clip4102)\" style=\"fill:#009af9; stroke:none; fill-opacity:1\" cx=\"2098.63\" cy=\"669.742\" r=\"14\"/>\n",
       "<circle clip-path=\"url(#clip4102)\" style=\"fill:#000000; stroke:none; fill-opacity:1\" cx=\"2100.68\" cy=\"262.994\" r=\"18\"/>\n",
       "<circle clip-path=\"url(#clip4102)\" style=\"fill:#009af9; stroke:none; fill-opacity:1\" cx=\"2100.68\" cy=\"262.994\" r=\"14\"/>\n",
       "<circle clip-path=\"url(#clip4102)\" style=\"fill:#000000; stroke:none; fill-opacity:1\" cx=\"2102.73\" cy=\"1431.86\" r=\"18\"/>\n",
       "<circle clip-path=\"url(#clip4102)\" style=\"fill:#009af9; stroke:none; fill-opacity:1\" cx=\"2102.73\" cy=\"1431.86\" r=\"14\"/>\n",
       "<circle clip-path=\"url(#clip4102)\" style=\"fill:#000000; stroke:none; fill-opacity:1\" cx=\"2104.78\" cy=\"456.369\" r=\"18\"/>\n",
       "<circle clip-path=\"url(#clip4102)\" style=\"fill:#009af9; stroke:none; fill-opacity:1\" cx=\"2104.78\" cy=\"456.369\" r=\"14\"/>\n",
       "<circle clip-path=\"url(#clip4102)\" style=\"fill:#000000; stroke:none; fill-opacity:1\" cx=\"2106.83\" cy=\"1209.57\" r=\"18\"/>\n",
       "<circle clip-path=\"url(#clip4102)\" style=\"fill:#009af9; stroke:none; fill-opacity:1\" cx=\"2106.83\" cy=\"1209.57\" r=\"14\"/>\n",
       "<circle clip-path=\"url(#clip4102)\" style=\"fill:#000000; stroke:none; fill-opacity:1\" cx=\"2108.88\" cy=\"369.291\" r=\"18\"/>\n",
       "<circle clip-path=\"url(#clip4102)\" style=\"fill:#009af9; stroke:none; fill-opacity:1\" cx=\"2108.88\" cy=\"369.291\" r=\"14\"/>\n",
       "<circle clip-path=\"url(#clip4102)\" style=\"fill:#000000; stroke:none; fill-opacity:1\" cx=\"2110.93\" cy=\"642.261\" r=\"18\"/>\n",
       "<circle clip-path=\"url(#clip4102)\" style=\"fill:#009af9; stroke:none; fill-opacity:1\" cx=\"2110.93\" cy=\"642.261\" r=\"14\"/>\n",
       "<circle clip-path=\"url(#clip4102)\" style=\"fill:#000000; stroke:none; fill-opacity:1\" cx=\"2112.98\" cy=\"201.652\" r=\"18\"/>\n",
       "<circle clip-path=\"url(#clip4102)\" style=\"fill:#009af9; stroke:none; fill-opacity:1\" cx=\"2112.98\" cy=\"201.652\" r=\"14\"/>\n",
       "<circle clip-path=\"url(#clip4102)\" style=\"fill:#000000; stroke:none; fill-opacity:1\" cx=\"2115.03\" cy=\"455.449\" r=\"18\"/>\n",
       "<circle clip-path=\"url(#clip4102)\" style=\"fill:#009af9; stroke:none; fill-opacity:1\" cx=\"2115.03\" cy=\"455.449\" r=\"14\"/>\n",
       "<circle clip-path=\"url(#clip4102)\" style=\"fill:#000000; stroke:none; fill-opacity:1\" cx=\"2117.08\" cy=\"1294.29\" r=\"18\"/>\n",
       "<circle clip-path=\"url(#clip4102)\" style=\"fill:#009af9; stroke:none; fill-opacity:1\" cx=\"2117.08\" cy=\"1294.29\" r=\"14\"/>\n",
       "<circle clip-path=\"url(#clip4102)\" style=\"fill:#000000; stroke:none; fill-opacity:1\" cx=\"2119.13\" cy=\"572.894\" r=\"18\"/>\n",
       "<circle clip-path=\"url(#clip4102)\" style=\"fill:#009af9; stroke:none; fill-opacity:1\" cx=\"2119.13\" cy=\"572.894\" r=\"14\"/>\n",
       "<circle clip-path=\"url(#clip4102)\" style=\"fill:#000000; stroke:none; fill-opacity:1\" cx=\"2121.18\" cy=\"93.9759\" r=\"18\"/>\n",
       "<circle clip-path=\"url(#clip4102)\" style=\"fill:#009af9; stroke:none; fill-opacity:1\" cx=\"2121.18\" cy=\"93.9759\" r=\"14\"/>\n",
       "<circle clip-path=\"url(#clip4102)\" style=\"fill:#000000; stroke:none; fill-opacity:1\" cx=\"2123.23\" cy=\"849.304\" r=\"18\"/>\n",
       "<circle clip-path=\"url(#clip4102)\" style=\"fill:#009af9; stroke:none; fill-opacity:1\" cx=\"2123.23\" cy=\"849.304\" r=\"14\"/>\n",
       "<circle clip-path=\"url(#clip4102)\" style=\"fill:#000000; stroke:none; fill-opacity:1\" cx=\"2125.28\" cy=\"620.931\" r=\"18\"/>\n",
       "<circle clip-path=\"url(#clip4102)\" style=\"fill:#009af9; stroke:none; fill-opacity:1\" cx=\"2125.28\" cy=\"620.931\" r=\"14\"/>\n",
       "<circle clip-path=\"url(#clip4102)\" style=\"fill:#000000; stroke:none; fill-opacity:1\" cx=\"2127.33\" cy=\"821.368\" r=\"18\"/>\n",
       "<circle clip-path=\"url(#clip4102)\" style=\"fill:#009af9; stroke:none; fill-opacity:1\" cx=\"2127.33\" cy=\"821.368\" r=\"14\"/>\n",
       "<circle clip-path=\"url(#clip4102)\" style=\"fill:#000000; stroke:none; fill-opacity:1\" cx=\"2129.38\" cy=\"243.901\" r=\"18\"/>\n",
       "<circle clip-path=\"url(#clip4102)\" style=\"fill:#009af9; stroke:none; fill-opacity:1\" cx=\"2129.38\" cy=\"243.901\" r=\"14\"/>\n",
       "<circle clip-path=\"url(#clip4102)\" style=\"fill:#000000; stroke:none; fill-opacity:1\" cx=\"2131.43\" cy=\"782.457\" r=\"18\"/>\n",
       "<circle clip-path=\"url(#clip4102)\" style=\"fill:#009af9; stroke:none; fill-opacity:1\" cx=\"2131.43\" cy=\"782.457\" r=\"14\"/>\n",
       "<circle clip-path=\"url(#clip4102)\" style=\"fill:#000000; stroke:none; fill-opacity:1\" cx=\"2133.48\" cy=\"914.206\" r=\"18\"/>\n",
       "<circle clip-path=\"url(#clip4102)\" style=\"fill:#009af9; stroke:none; fill-opacity:1\" cx=\"2133.48\" cy=\"914.206\" r=\"14\"/>\n",
       "<circle clip-path=\"url(#clip4102)\" style=\"fill:#000000; stroke:none; fill-opacity:1\" cx=\"2135.53\" cy=\"280.926\" r=\"18\"/>\n",
       "<circle clip-path=\"url(#clip4102)\" style=\"fill:#009af9; stroke:none; fill-opacity:1\" cx=\"2135.53\" cy=\"280.926\" r=\"14\"/>\n",
       "<circle clip-path=\"url(#clip4102)\" style=\"fill:#000000; stroke:none; fill-opacity:1\" cx=\"2137.58\" cy=\"901.299\" r=\"18\"/>\n",
       "<circle clip-path=\"url(#clip4102)\" style=\"fill:#009af9; stroke:none; fill-opacity:1\" cx=\"2137.58\" cy=\"901.299\" r=\"14\"/>\n",
       "<circle clip-path=\"url(#clip4102)\" style=\"fill:#000000; stroke:none; fill-opacity:1\" cx=\"2139.63\" cy=\"1047.92\" r=\"18\"/>\n",
       "<circle clip-path=\"url(#clip4102)\" style=\"fill:#009af9; stroke:none; fill-opacity:1\" cx=\"2139.63\" cy=\"1047.92\" r=\"14\"/>\n",
       "<circle clip-path=\"url(#clip4102)\" style=\"fill:#000000; stroke:none; fill-opacity:1\" cx=\"2141.68\" cy=\"885.937\" r=\"18\"/>\n",
       "<circle clip-path=\"url(#clip4102)\" style=\"fill:#009af9; stroke:none; fill-opacity:1\" cx=\"2141.68\" cy=\"885.937\" r=\"14\"/>\n",
       "<circle clip-path=\"url(#clip4102)\" style=\"fill:#000000; stroke:none; fill-opacity:1\" cx=\"2143.73\" cy=\"293.105\" r=\"18\"/>\n",
       "<circle clip-path=\"url(#clip4102)\" style=\"fill:#009af9; stroke:none; fill-opacity:1\" cx=\"2143.73\" cy=\"293.105\" r=\"14\"/>\n",
       "<circle clip-path=\"url(#clip4102)\" style=\"fill:#000000; stroke:none; fill-opacity:1\" cx=\"2145.77\" cy=\"1407.1\" r=\"18\"/>\n",
       "<circle clip-path=\"url(#clip4102)\" style=\"fill:#009af9; stroke:none; fill-opacity:1\" cx=\"2145.77\" cy=\"1407.1\" r=\"14\"/>\n",
       "<circle clip-path=\"url(#clip4102)\" style=\"fill:#000000; stroke:none; fill-opacity:1\" cx=\"2147.82\" cy=\"1051.49\" r=\"18\"/>\n",
       "<circle clip-path=\"url(#clip4102)\" style=\"fill:#009af9; stroke:none; fill-opacity:1\" cx=\"2147.82\" cy=\"1051.49\" r=\"14\"/>\n",
       "<circle clip-path=\"url(#clip4102)\" style=\"fill:#000000; stroke:none; fill-opacity:1\" cx=\"2149.87\" cy=\"879.248\" r=\"18\"/>\n",
       "<circle clip-path=\"url(#clip4102)\" style=\"fill:#009af9; stroke:none; fill-opacity:1\" cx=\"2149.87\" cy=\"879.248\" r=\"14\"/>\n",
       "<circle clip-path=\"url(#clip4102)\" style=\"fill:#000000; stroke:none; fill-opacity:1\" cx=\"2151.92\" cy=\"129.633\" r=\"18\"/>\n",
       "<circle clip-path=\"url(#clip4102)\" style=\"fill:#009af9; stroke:none; fill-opacity:1\" cx=\"2151.92\" cy=\"129.633\" r=\"14\"/>\n",
       "<circle clip-path=\"url(#clip4102)\" style=\"fill:#000000; stroke:none; fill-opacity:1\" cx=\"2153.97\" cy=\"397.86\" r=\"18\"/>\n",
       "<circle clip-path=\"url(#clip4102)\" style=\"fill:#009af9; stroke:none; fill-opacity:1\" cx=\"2153.97\" cy=\"397.86\" r=\"14\"/>\n",
       "<circle clip-path=\"url(#clip4102)\" style=\"fill:#000000; stroke:none; fill-opacity:1\" cx=\"2156.02\" cy=\"478.641\" r=\"18\"/>\n",
       "<circle clip-path=\"url(#clip4102)\" style=\"fill:#009af9; stroke:none; fill-opacity:1\" cx=\"2156.02\" cy=\"478.641\" r=\"14\"/>\n",
       "<circle clip-path=\"url(#clip4102)\" style=\"fill:#000000; stroke:none; fill-opacity:1\" cx=\"2158.07\" cy=\"589.966\" r=\"18\"/>\n",
       "<circle clip-path=\"url(#clip4102)\" style=\"fill:#009af9; stroke:none; fill-opacity:1\" cx=\"2158.07\" cy=\"589.966\" r=\"14\"/>\n",
       "<circle clip-path=\"url(#clip4102)\" style=\"fill:#000000; stroke:none; fill-opacity:1\" cx=\"2160.12\" cy=\"494.146\" r=\"18\"/>\n",
       "<circle clip-path=\"url(#clip4102)\" style=\"fill:#009af9; stroke:none; fill-opacity:1\" cx=\"2160.12\" cy=\"494.146\" r=\"14\"/>\n",
       "<circle clip-path=\"url(#clip4102)\" style=\"fill:#000000; stroke:none; fill-opacity:1\" cx=\"2162.17\" cy=\"856.807\" r=\"18\"/>\n",
       "<circle clip-path=\"url(#clip4102)\" style=\"fill:#009af9; stroke:none; fill-opacity:1\" cx=\"2162.17\" cy=\"856.807\" r=\"14\"/>\n",
       "<circle clip-path=\"url(#clip4102)\" style=\"fill:#000000; stroke:none; fill-opacity:1\" cx=\"2164.22\" cy=\"1394.29\" r=\"18\"/>\n",
       "<circle clip-path=\"url(#clip4102)\" style=\"fill:#009af9; stroke:none; fill-opacity:1\" cx=\"2164.22\" cy=\"1394.29\" r=\"14\"/>\n",
       "<circle clip-path=\"url(#clip4102)\" style=\"fill:#000000; stroke:none; fill-opacity:1\" cx=\"2166.27\" cy=\"1378.9\" r=\"18\"/>\n",
       "<circle clip-path=\"url(#clip4102)\" style=\"fill:#009af9; stroke:none; fill-opacity:1\" cx=\"2166.27\" cy=\"1378.9\" r=\"14\"/>\n",
       "<circle clip-path=\"url(#clip4102)\" style=\"fill:#000000; stroke:none; fill-opacity:1\" cx=\"2168.32\" cy=\"735.869\" r=\"18\"/>\n",
       "<circle clip-path=\"url(#clip4102)\" style=\"fill:#009af9; stroke:none; fill-opacity:1\" cx=\"2168.32\" cy=\"735.869\" r=\"14\"/>\n",
       "<circle clip-path=\"url(#clip4102)\" style=\"fill:#000000; stroke:none; fill-opacity:1\" cx=\"2170.37\" cy=\"1087.05\" r=\"18\"/>\n",
       "<circle clip-path=\"url(#clip4102)\" style=\"fill:#009af9; stroke:none; fill-opacity:1\" cx=\"2170.37\" cy=\"1087.05\" r=\"14\"/>\n",
       "<circle clip-path=\"url(#clip4102)\" style=\"fill:#000000; stroke:none; fill-opacity:1\" cx=\"2172.42\" cy=\"267.822\" r=\"18\"/>\n",
       "<circle clip-path=\"url(#clip4102)\" style=\"fill:#009af9; stroke:none; fill-opacity:1\" cx=\"2172.42\" cy=\"267.822\" r=\"14\"/>\n",
       "<circle clip-path=\"url(#clip4102)\" style=\"fill:#000000; stroke:none; fill-opacity:1\" cx=\"2174.47\" cy=\"546.078\" r=\"18\"/>\n",
       "<circle clip-path=\"url(#clip4102)\" style=\"fill:#009af9; stroke:none; fill-opacity:1\" cx=\"2174.47\" cy=\"546.078\" r=\"14\"/>\n",
       "<circle clip-path=\"url(#clip4102)\" style=\"fill:#000000; stroke:none; fill-opacity:1\" cx=\"2176.52\" cy=\"439.709\" r=\"18\"/>\n",
       "<circle clip-path=\"url(#clip4102)\" style=\"fill:#009af9; stroke:none; fill-opacity:1\" cx=\"2176.52\" cy=\"439.709\" r=\"14\"/>\n",
       "<circle clip-path=\"url(#clip4102)\" style=\"fill:#000000; stroke:none; fill-opacity:1\" cx=\"2178.57\" cy=\"367.26\" r=\"18\"/>\n",
       "<circle clip-path=\"url(#clip4102)\" style=\"fill:#009af9; stroke:none; fill-opacity:1\" cx=\"2178.57\" cy=\"367.26\" r=\"14\"/>\n",
       "<circle clip-path=\"url(#clip4102)\" style=\"fill:#000000; stroke:none; fill-opacity:1\" cx=\"2180.62\" cy=\"376.664\" r=\"18\"/>\n",
       "<circle clip-path=\"url(#clip4102)\" style=\"fill:#009af9; stroke:none; fill-opacity:1\" cx=\"2180.62\" cy=\"376.664\" r=\"14\"/>\n",
       "<circle clip-path=\"url(#clip4102)\" style=\"fill:#000000; stroke:none; fill-opacity:1\" cx=\"2182.67\" cy=\"142.606\" r=\"18\"/>\n",
       "<circle clip-path=\"url(#clip4102)\" style=\"fill:#009af9; stroke:none; fill-opacity:1\" cx=\"2182.67\" cy=\"142.606\" r=\"14\"/>\n",
       "<circle clip-path=\"url(#clip4102)\" style=\"fill:#000000; stroke:none; fill-opacity:1\" cx=\"2184.72\" cy=\"1044.24\" r=\"18\"/>\n",
       "<circle clip-path=\"url(#clip4102)\" style=\"fill:#009af9; stroke:none; fill-opacity:1\" cx=\"2184.72\" cy=\"1044.24\" r=\"14\"/>\n",
       "<circle clip-path=\"url(#clip4102)\" style=\"fill:#000000; stroke:none; fill-opacity:1\" cx=\"2186.77\" cy=\"156.412\" r=\"18\"/>\n",
       "<circle clip-path=\"url(#clip4102)\" style=\"fill:#009af9; stroke:none; fill-opacity:1\" cx=\"2186.77\" cy=\"156.412\" r=\"14\"/>\n",
       "<circle clip-path=\"url(#clip4102)\" style=\"fill:#000000; stroke:none; fill-opacity:1\" cx=\"2188.82\" cy=\"958.68\" r=\"18\"/>\n",
       "<circle clip-path=\"url(#clip4102)\" style=\"fill:#009af9; stroke:none; fill-opacity:1\" cx=\"2188.82\" cy=\"958.68\" r=\"14\"/>\n",
       "<circle clip-path=\"url(#clip4102)\" style=\"fill:#000000; stroke:none; fill-opacity:1\" cx=\"2190.87\" cy=\"1431.2\" r=\"18\"/>\n",
       "<circle clip-path=\"url(#clip4102)\" style=\"fill:#009af9; stroke:none; fill-opacity:1\" cx=\"2190.87\" cy=\"1431.2\" r=\"14\"/>\n",
       "<circle clip-path=\"url(#clip4102)\" style=\"fill:#000000; stroke:none; fill-opacity:1\" cx=\"2192.92\" cy=\"1110.11\" r=\"18\"/>\n",
       "<circle clip-path=\"url(#clip4102)\" style=\"fill:#009af9; stroke:none; fill-opacity:1\" cx=\"2192.92\" cy=\"1110.11\" r=\"14\"/>\n",
       "<circle clip-path=\"url(#clip4102)\" style=\"fill:#000000; stroke:none; fill-opacity:1\" cx=\"2194.97\" cy=\"642.844\" r=\"18\"/>\n",
       "<circle clip-path=\"url(#clip4102)\" style=\"fill:#009af9; stroke:none; fill-opacity:1\" cx=\"2194.97\" cy=\"642.844\" r=\"14\"/>\n",
       "<circle clip-path=\"url(#clip4102)\" style=\"fill:#000000; stroke:none; fill-opacity:1\" cx=\"2197.02\" cy=\"802.561\" r=\"18\"/>\n",
       "<circle clip-path=\"url(#clip4102)\" style=\"fill:#009af9; stroke:none; fill-opacity:1\" cx=\"2197.02\" cy=\"802.561\" r=\"14\"/>\n",
       "<circle clip-path=\"url(#clip4102)\" style=\"fill:#000000; stroke:none; fill-opacity:1\" cx=\"2199.07\" cy=\"1243.98\" r=\"18\"/>\n",
       "<circle clip-path=\"url(#clip4102)\" style=\"fill:#009af9; stroke:none; fill-opacity:1\" cx=\"2199.07\" cy=\"1243.98\" r=\"14\"/>\n",
       "<circle clip-path=\"url(#clip4102)\" style=\"fill:#000000; stroke:none; fill-opacity:1\" cx=\"2201.12\" cy=\"93.1776\" r=\"18\"/>\n",
       "<circle clip-path=\"url(#clip4102)\" style=\"fill:#009af9; stroke:none; fill-opacity:1\" cx=\"2201.12\" cy=\"93.1776\" r=\"14\"/>\n",
       "<circle clip-path=\"url(#clip4102)\" style=\"fill:#000000; stroke:none; fill-opacity:1\" cx=\"2203.17\" cy=\"1246.12\" r=\"18\"/>\n",
       "<circle clip-path=\"url(#clip4102)\" style=\"fill:#009af9; stroke:none; fill-opacity:1\" cx=\"2203.17\" cy=\"1246.12\" r=\"14\"/>\n",
       "<circle clip-path=\"url(#clip4102)\" style=\"fill:#000000; stroke:none; fill-opacity:1\" cx=\"2205.22\" cy=\"589.964\" r=\"18\"/>\n",
       "<circle clip-path=\"url(#clip4102)\" style=\"fill:#009af9; stroke:none; fill-opacity:1\" cx=\"2205.22\" cy=\"589.964\" r=\"14\"/>\n",
       "<circle clip-path=\"url(#clip4102)\" style=\"fill:#000000; stroke:none; fill-opacity:1\" cx=\"2207.27\" cy=\"1209.9\" r=\"18\"/>\n",
       "<circle clip-path=\"url(#clip4102)\" style=\"fill:#009af9; stroke:none; fill-opacity:1\" cx=\"2207.27\" cy=\"1209.9\" r=\"14\"/>\n",
       "<circle clip-path=\"url(#clip4102)\" style=\"fill:#000000; stroke:none; fill-opacity:1\" cx=\"2209.32\" cy=\"1355.58\" r=\"18\"/>\n",
       "<circle clip-path=\"url(#clip4102)\" style=\"fill:#009af9; stroke:none; fill-opacity:1\" cx=\"2209.32\" cy=\"1355.58\" r=\"14\"/>\n",
       "<circle clip-path=\"url(#clip4102)\" style=\"fill:#000000; stroke:none; fill-opacity:1\" cx=\"2211.37\" cy=\"693.085\" r=\"18\"/>\n",
       "<circle clip-path=\"url(#clip4102)\" style=\"fill:#009af9; stroke:none; fill-opacity:1\" cx=\"2211.37\" cy=\"693.085\" r=\"14\"/>\n",
       "<circle clip-path=\"url(#clip4102)\" style=\"fill:#000000; stroke:none; fill-opacity:1\" cx=\"2213.42\" cy=\"1405.75\" r=\"18\"/>\n",
       "<circle clip-path=\"url(#clip4102)\" style=\"fill:#009af9; stroke:none; fill-opacity:1\" cx=\"2213.42\" cy=\"1405.75\" r=\"14\"/>\n",
       "<circle clip-path=\"url(#clip4102)\" style=\"fill:#000000; stroke:none; fill-opacity:1\" cx=\"2215.47\" cy=\"1097.28\" r=\"18\"/>\n",
       "<circle clip-path=\"url(#clip4102)\" style=\"fill:#009af9; stroke:none; fill-opacity:1\" cx=\"2215.47\" cy=\"1097.28\" r=\"14\"/>\n",
       "<circle clip-path=\"url(#clip4102)\" style=\"fill:#000000; stroke:none; fill-opacity:1\" cx=\"2217.52\" cy=\"211.105\" r=\"18\"/>\n",
       "<circle clip-path=\"url(#clip4102)\" style=\"fill:#009af9; stroke:none; fill-opacity:1\" cx=\"2217.52\" cy=\"211.105\" r=\"14\"/>\n",
       "<circle clip-path=\"url(#clip4102)\" style=\"fill:#000000; stroke:none; fill-opacity:1\" cx=\"2219.57\" cy=\"631.112\" r=\"18\"/>\n",
       "<circle clip-path=\"url(#clip4102)\" style=\"fill:#009af9; stroke:none; fill-opacity:1\" cx=\"2219.57\" cy=\"631.112\" r=\"14\"/>\n",
       "<circle clip-path=\"url(#clip4102)\" style=\"fill:#000000; stroke:none; fill-opacity:1\" cx=\"2221.62\" cy=\"1004.13\" r=\"18\"/>\n",
       "<circle clip-path=\"url(#clip4102)\" style=\"fill:#009af9; stroke:none; fill-opacity:1\" cx=\"2221.62\" cy=\"1004.13\" r=\"14\"/>\n",
       "<circle clip-path=\"url(#clip4102)\" style=\"fill:#000000; stroke:none; fill-opacity:1\" cx=\"2223.67\" cy=\"295.531\" r=\"18\"/>\n",
       "<circle clip-path=\"url(#clip4102)\" style=\"fill:#009af9; stroke:none; fill-opacity:1\" cx=\"2223.67\" cy=\"295.531\" r=\"14\"/>\n",
       "<circle clip-path=\"url(#clip4102)\" style=\"fill:#000000; stroke:none; fill-opacity:1\" cx=\"2225.72\" cy=\"1121.09\" r=\"18\"/>\n",
       "<circle clip-path=\"url(#clip4102)\" style=\"fill:#009af9; stroke:none; fill-opacity:1\" cx=\"2225.72\" cy=\"1121.09\" r=\"14\"/>\n",
       "<circle clip-path=\"url(#clip4102)\" style=\"fill:#000000; stroke:none; fill-opacity:1\" cx=\"2227.77\" cy=\"1259.4\" r=\"18\"/>\n",
       "<circle clip-path=\"url(#clip4102)\" style=\"fill:#009af9; stroke:none; fill-opacity:1\" cx=\"2227.77\" cy=\"1259.4\" r=\"14\"/>\n",
       "<circle clip-path=\"url(#clip4102)\" style=\"fill:#000000; stroke:none; fill-opacity:1\" cx=\"2229.82\" cy=\"1044.22\" r=\"18\"/>\n",
       "<circle clip-path=\"url(#clip4102)\" style=\"fill:#009af9; stroke:none; fill-opacity:1\" cx=\"2229.82\" cy=\"1044.22\" r=\"14\"/>\n",
       "<circle clip-path=\"url(#clip4102)\" style=\"fill:#000000; stroke:none; fill-opacity:1\" cx=\"2231.87\" cy=\"1001.63\" r=\"18\"/>\n",
       "<circle clip-path=\"url(#clip4102)\" style=\"fill:#009af9; stroke:none; fill-opacity:1\" cx=\"2231.87\" cy=\"1001.63\" r=\"14\"/>\n",
       "<circle clip-path=\"url(#clip4102)\" style=\"fill:#000000; stroke:none; fill-opacity:1\" cx=\"2233.92\" cy=\"1066.85\" r=\"18\"/>\n",
       "<circle clip-path=\"url(#clip4102)\" style=\"fill:#009af9; stroke:none; fill-opacity:1\" cx=\"2233.92\" cy=\"1066.85\" r=\"14\"/>\n",
       "<circle clip-path=\"url(#clip4102)\" style=\"fill:#000000; stroke:none; fill-opacity:1\" cx=\"2235.97\" cy=\"1097.79\" r=\"18\"/>\n",
       "<circle clip-path=\"url(#clip4102)\" style=\"fill:#009af9; stroke:none; fill-opacity:1\" cx=\"2235.97\" cy=\"1097.79\" r=\"14\"/>\n",
       "<circle clip-path=\"url(#clip4102)\" style=\"fill:#000000; stroke:none; fill-opacity:1\" cx=\"2238.02\" cy=\"803.144\" r=\"18\"/>\n",
       "<circle clip-path=\"url(#clip4102)\" style=\"fill:#009af9; stroke:none; fill-opacity:1\" cx=\"2238.02\" cy=\"803.144\" r=\"14\"/>\n",
       "<circle clip-path=\"url(#clip4102)\" style=\"fill:#000000; stroke:none; fill-opacity:1\" cx=\"2240.07\" cy=\"94.4002\" r=\"18\"/>\n",
       "<circle clip-path=\"url(#clip4102)\" style=\"fill:#009af9; stroke:none; fill-opacity:1\" cx=\"2240.07\" cy=\"94.4002\" r=\"14\"/>\n",
       "<circle clip-path=\"url(#clip4102)\" style=\"fill:#000000; stroke:none; fill-opacity:1\" cx=\"2242.12\" cy=\"1445.05\" r=\"18\"/>\n",
       "<circle clip-path=\"url(#clip4102)\" style=\"fill:#009af9; stroke:none; fill-opacity:1\" cx=\"2242.12\" cy=\"1445.05\" r=\"14\"/>\n",
       "<circle clip-path=\"url(#clip4102)\" style=\"fill:#000000; stroke:none; fill-opacity:1\" cx=\"2244.17\" cy=\"1243.29\" r=\"18\"/>\n",
       "<circle clip-path=\"url(#clip4102)\" style=\"fill:#009af9; stroke:none; fill-opacity:1\" cx=\"2244.17\" cy=\"1243.29\" r=\"14\"/>\n",
       "<circle clip-path=\"url(#clip4102)\" style=\"fill:#000000; stroke:none; fill-opacity:1\" cx=\"2246.22\" cy=\"222.14\" r=\"18\"/>\n",
       "<circle clip-path=\"url(#clip4102)\" style=\"fill:#009af9; stroke:none; fill-opacity:1\" cx=\"2246.22\" cy=\"222.14\" r=\"14\"/>\n",
       "<circle clip-path=\"url(#clip4102)\" style=\"fill:#000000; stroke:none; fill-opacity:1\" cx=\"2248.27\" cy=\"480.1\" r=\"18\"/>\n",
       "<circle clip-path=\"url(#clip4102)\" style=\"fill:#009af9; stroke:none; fill-opacity:1\" cx=\"2248.27\" cy=\"480.1\" r=\"14\"/>\n",
       "<circle clip-path=\"url(#clip4102)\" style=\"fill:#000000; stroke:none; fill-opacity:1\" cx=\"2250.32\" cy=\"933.968\" r=\"18\"/>\n",
       "<circle clip-path=\"url(#clip4102)\" style=\"fill:#009af9; stroke:none; fill-opacity:1\" cx=\"2250.32\" cy=\"933.968\" r=\"14\"/>\n",
       "<circle clip-path=\"url(#clip4102)\" style=\"fill:#000000; stroke:none; fill-opacity:1\" cx=\"2252.37\" cy=\"392.91\" r=\"18\"/>\n",
       "<circle clip-path=\"url(#clip4102)\" style=\"fill:#009af9; stroke:none; fill-opacity:1\" cx=\"2252.37\" cy=\"392.91\" r=\"14\"/>\n",
       "<circle clip-path=\"url(#clip4102)\" style=\"fill:#000000; stroke:none; fill-opacity:1\" cx=\"2254.42\" cy=\"972.89\" r=\"18\"/>\n",
       "<circle clip-path=\"url(#clip4102)\" style=\"fill:#009af9; stroke:none; fill-opacity:1\" cx=\"2254.42\" cy=\"972.89\" r=\"14\"/>\n",
       "<circle clip-path=\"url(#clip4102)\" style=\"fill:#000000; stroke:none; fill-opacity:1\" cx=\"2256.47\" cy=\"359.132\" r=\"18\"/>\n",
       "<circle clip-path=\"url(#clip4102)\" style=\"fill:#009af9; stroke:none; fill-opacity:1\" cx=\"2256.47\" cy=\"359.132\" r=\"14\"/>\n",
       "<circle clip-path=\"url(#clip4102)\" style=\"fill:#000000; stroke:none; fill-opacity:1\" cx=\"2258.52\" cy=\"711.566\" r=\"18\"/>\n",
       "<circle clip-path=\"url(#clip4102)\" style=\"fill:#009af9; stroke:none; fill-opacity:1\" cx=\"2258.52\" cy=\"711.566\" r=\"14\"/>\n",
       "<circle clip-path=\"url(#clip4102)\" style=\"fill:#000000; stroke:none; fill-opacity:1\" cx=\"2260.57\" cy=\"917.346\" r=\"18\"/>\n",
       "<circle clip-path=\"url(#clip4102)\" style=\"fill:#009af9; stroke:none; fill-opacity:1\" cx=\"2260.57\" cy=\"917.346\" r=\"14\"/>\n",
       "<circle clip-path=\"url(#clip4102)\" style=\"fill:#000000; stroke:none; fill-opacity:1\" cx=\"2262.62\" cy=\"292.575\" r=\"18\"/>\n",
       "<circle clip-path=\"url(#clip4102)\" style=\"fill:#009af9; stroke:none; fill-opacity:1\" cx=\"2262.62\" cy=\"292.575\" r=\"14\"/>\n",
       "<circle clip-path=\"url(#clip4102)\" style=\"fill:#000000; stroke:none; fill-opacity:1\" cx=\"2264.67\" cy=\"812.71\" r=\"18\"/>\n",
       "<circle clip-path=\"url(#clip4102)\" style=\"fill:#009af9; stroke:none; fill-opacity:1\" cx=\"2264.67\" cy=\"812.71\" r=\"14\"/>\n",
       "<circle clip-path=\"url(#clip4102)\" style=\"fill:#000000; stroke:none; fill-opacity:1\" cx=\"2266.72\" cy=\"988.864\" r=\"18\"/>\n",
       "<circle clip-path=\"url(#clip4102)\" style=\"fill:#009af9; stroke:none; fill-opacity:1\" cx=\"2266.72\" cy=\"988.864\" r=\"14\"/>\n",
       "<circle clip-path=\"url(#clip4102)\" style=\"fill:#000000; stroke:none; fill-opacity:1\" cx=\"2268.77\" cy=\"1072.37\" r=\"18\"/>\n",
       "<circle clip-path=\"url(#clip4102)\" style=\"fill:#009af9; stroke:none; fill-opacity:1\" cx=\"2268.77\" cy=\"1072.37\" r=\"14\"/>\n",
       "<circle clip-path=\"url(#clip4102)\" style=\"fill:#000000; stroke:none; fill-opacity:1\" cx=\"2270.82\" cy=\"143.907\" r=\"18\"/>\n",
       "<circle clip-path=\"url(#clip4102)\" style=\"fill:#009af9; stroke:none; fill-opacity:1\" cx=\"2270.82\" cy=\"143.907\" r=\"14\"/>\n",
       "<circle clip-path=\"url(#clip4102)\" style=\"fill:#000000; stroke:none; fill-opacity:1\" cx=\"2272.87\" cy=\"1242.13\" r=\"18\"/>\n",
       "<circle clip-path=\"url(#clip4102)\" style=\"fill:#009af9; stroke:none; fill-opacity:1\" cx=\"2272.87\" cy=\"1242.13\" r=\"14\"/>\n",
       "<circle clip-path=\"url(#clip4102)\" style=\"fill:#000000; stroke:none; fill-opacity:1\" cx=\"2274.92\" cy=\"599.153\" r=\"18\"/>\n",
       "<circle clip-path=\"url(#clip4102)\" style=\"fill:#009af9; stroke:none; fill-opacity:1\" cx=\"2274.92\" cy=\"599.153\" r=\"14\"/>\n",
       "<circle clip-path=\"url(#clip4102)\" style=\"fill:#000000; stroke:none; fill-opacity:1\" cx=\"2276.97\" cy=\"550.988\" r=\"18\"/>\n",
       "<circle clip-path=\"url(#clip4102)\" style=\"fill:#009af9; stroke:none; fill-opacity:1\" cx=\"2276.97\" cy=\"550.988\" r=\"14\"/>\n",
       "<circle clip-path=\"url(#clip4102)\" style=\"fill:#000000; stroke:none; fill-opacity:1\" cx=\"2279.02\" cy=\"1355.1\" r=\"18\"/>\n",
       "<circle clip-path=\"url(#clip4102)\" style=\"fill:#009af9; stroke:none; fill-opacity:1\" cx=\"2279.02\" cy=\"1355.1\" r=\"14\"/>\n",
       "<circle clip-path=\"url(#clip4102)\" style=\"fill:#000000; stroke:none; fill-opacity:1\" cx=\"2281.07\" cy=\"416.643\" r=\"18\"/>\n",
       "<circle clip-path=\"url(#clip4102)\" style=\"fill:#009af9; stroke:none; fill-opacity:1\" cx=\"2281.07\" cy=\"416.643\" r=\"14\"/>\n",
       "<circle clip-path=\"url(#clip4102)\" style=\"fill:#000000; stroke:none; fill-opacity:1\" cx=\"2283.12\" cy=\"1028.68\" r=\"18\"/>\n",
       "<circle clip-path=\"url(#clip4102)\" style=\"fill:#009af9; stroke:none; fill-opacity:1\" cx=\"2283.12\" cy=\"1028.68\" r=\"14\"/>\n",
       "<circle clip-path=\"url(#clip4102)\" style=\"fill:#000000; stroke:none; fill-opacity:1\" cx=\"2285.17\" cy=\"1310.08\" r=\"18\"/>\n",
       "<circle clip-path=\"url(#clip4102)\" style=\"fill:#009af9; stroke:none; fill-opacity:1\" cx=\"2285.17\" cy=\"1310.08\" r=\"14\"/>\n",
       "<circle clip-path=\"url(#clip4102)\" style=\"fill:#000000; stroke:none; fill-opacity:1\" cx=\"2287.22\" cy=\"810.229\" r=\"18\"/>\n",
       "<circle clip-path=\"url(#clip4102)\" style=\"fill:#009af9; stroke:none; fill-opacity:1\" cx=\"2287.22\" cy=\"810.229\" r=\"14\"/>\n",
       "<circle clip-path=\"url(#clip4102)\" style=\"fill:#000000; stroke:none; fill-opacity:1\" cx=\"2289.27\" cy=\"488.611\" r=\"18\"/>\n",
       "<circle clip-path=\"url(#clip4102)\" style=\"fill:#009af9; stroke:none; fill-opacity:1\" cx=\"2289.27\" cy=\"488.611\" r=\"14\"/>\n",
       "<circle clip-path=\"url(#clip4102)\" style=\"fill:#000000; stroke:none; fill-opacity:1\" cx=\"2291.32\" cy=\"189.467\" r=\"18\"/>\n",
       "<circle clip-path=\"url(#clip4102)\" style=\"fill:#009af9; stroke:none; fill-opacity:1\" cx=\"2291.32\" cy=\"189.467\" r=\"14\"/>\n",
       "<path clip-path=\"url(#clip4100)\" d=\"\n",
       "M1989.93 251.724 L2280.76 251.724 L2280.76 130.764 L1989.93 130.764  Z\n",
       "  \" fill=\"#ffffff\" fill-rule=\"evenodd\" fill-opacity=\"1\"/>\n",
       "<polyline clip-path=\"url(#clip4100)\" style=\"stroke:#000000; stroke-width:4; stroke-opacity:1; fill:none\" points=\"\n",
       "  1989.93,251.724 2280.76,251.724 2280.76,130.764 1989.93,130.764 1989.93,251.724 \n",
       "  \"/>\n",
       "<circle clip-path=\"url(#clip4100)\" style=\"fill:#000000; stroke:none; fill-opacity:1\" cx=\"2097.93\" cy=\"191.244\" r=\"25\"/>\n",
       "<circle clip-path=\"url(#clip4100)\" style=\"fill:#009af9; stroke:none; fill-opacity:1\" cx=\"2097.93\" cy=\"191.244\" r=\"21\"/>\n",
       "<g clip-path=\"url(#clip4100)\">\n",
       "<text style=\"fill:#000000; fill-opacity:1; font-family:Arial,Helvetica Neue,Helvetica,sans-serif; font-size:48px; text-anchor:start;\" transform=\"rotate(0, 2181.93, 208.744)\" x=\"2181.93\" y=\"208.744\">y1</text>\n",
       "</g>\n",
       "</svg>\n"
      ]
     },
     "execution_count": 103,
     "metadata": {},
     "output_type": "execute_result"
    }
   ],
   "source": [
    "scatter([rand_in_interval() for i in 1:1000])"
   ]
  },
  {
   "cell_type": "code",
   "execution_count": 104,
   "metadata": {},
   "outputs": [
    {
     "data": {
      "text/plain": [
       "rand_in_square (generic function with 1 method)"
      ]
     },
     "execution_count": 104,
     "metadata": {},
     "output_type": "execute_result"
    }
   ],
   "source": [
    "rand_in_square() = (rand_in_interval(), rand_in_interval())"
   ]
  },
  {
   "cell_type": "code",
   "execution_count": 107,
   "metadata": {},
   "outputs": [
    {
     "data": {
      "text/plain": [
       "(-0.6625689804362849, 0.9430614949763605)"
      ]
     },
     "execution_count": 107,
     "metadata": {},
     "output_type": "execute_result"
    }
   ],
   "source": [
    "(x, y) = rand_in_square()   # tuple unpacking"
   ]
  },
  {
   "cell_type": "code",
   "execution_count": 108,
   "metadata": {},
   "outputs": [
    {
     "data": {
      "text/plain": [
       "-0.6625689804362849"
      ]
     },
     "execution_count": 108,
     "metadata": {},
     "output_type": "execute_result"
    }
   ],
   "source": [
    "x"
   ]
  },
  {
   "cell_type": "code",
   "execution_count": 110,
   "metadata": {},
   "outputs": [
    {
     "data": {
      "text/plain": [
       "0.9430614949763605"
      ]
     },
     "execution_count": 110,
     "metadata": {},
     "output_type": "execute_result"
    }
   ],
   "source": [
    "y"
   ]
  },
  {
   "cell_type": "code",
   "execution_count": 111,
   "metadata": {},
   "outputs": [
    {
     "data": {
      "text/plain": [
       "is_inside_unit_circle (generic function with 1 method)"
      ]
     },
     "execution_count": 111,
     "metadata": {},
     "output_type": "execute_result"
    }
   ],
   "source": [
    "is_inside_unit_circle(x, y) = x^2 + y^2 ≤ 1"
   ]
  },
  {
   "cell_type": "code",
   "execution_count": null,
   "metadata": {},
   "outputs": [],
   "source": []
  }
 ],
 "metadata": {
  "kernelspec": {
   "display_name": "Julia 1.3.0-rc3",
   "language": "julia",
   "name": "julia-1.3"
  },
  "language_info": {
   "file_extension": ".jl",
   "mimetype": "application/julia",
   "name": "julia",
   "version": "1.3.0"
  }
 },
 "nbformat": 4,
 "nbformat_minor": 2
}
